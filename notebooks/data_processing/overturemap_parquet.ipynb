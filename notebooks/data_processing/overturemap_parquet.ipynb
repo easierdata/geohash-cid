{
 "cells": [
  {
   "cell_type": "markdown",
   "id": "45d7128c-8b9d-427d-89d7-a90df423846f",
   "metadata": {},
   "source": [
    "# Intro\n",
    "Code to interact with overture map geoparquet files."
   ]
  },
  {
   "cell_type": "code",
   "execution_count": 12,
   "id": "0686337d-1efa-4a7b-8d22-4e41c395756e",
   "metadata": {
    "execution": {
     "iopub.execute_input": "2024-06-14T04:47:51.787556Z",
     "iopub.status.busy": "2024-06-14T04:47:51.787093Z",
     "iopub.status.idle": "2024-06-14T04:47:51.792091Z",
     "shell.execute_reply": "2024-06-14T04:47:51.791255Z",
     "shell.execute_reply.started": "2024-06-14T04:47:51.787522Z"
    }
   },
   "outputs": [],
   "source": [
    "overture_root = \"../../data/overture/release\""
   ]
  },
  {
   "cell_type": "code",
   "execution_count": 13,
   "id": "9c4640f0-8395-47b8-9415-b51ede48fbd9",
   "metadata": {
    "execution": {
     "iopub.execute_input": "2024-06-14T04:47:53.248949Z",
     "iopub.status.busy": "2024-06-14T04:47:53.247203Z",
     "iopub.status.idle": "2024-06-14T04:47:53.427919Z",
     "shell.execute_reply": "2024-06-14T04:47:53.427029Z",
     "shell.execute_reply.started": "2024-06-14T04:47:53.248882Z"
    }
   },
   "outputs": [
    {
     "name": "stdout",
     "output_type": "stream",
     "text": [
      "theme=admins  theme=buildings  theme=places\n",
      "theme=base    theme=divisions  theme=transportation\n"
     ]
    }
   ],
   "source": [
    "!ls $overture_root/"
   ]
  },
  {
   "cell_type": "code",
   "execution_count": null,
   "id": "16f1cfb0-1964-4595-9a59-f12357f6a571",
   "metadata": {},
   "outputs": [],
   "source": []
  },
  {
   "cell_type": "code",
   "execution_count": 15,
   "id": "a02013e9-39e8-47b0-b62f-187049909e14",
   "metadata": {
    "execution": {
     "iopub.execute_input": "2024-06-14T04:48:39.291390Z",
     "iopub.status.busy": "2024-06-14T04:48:39.290766Z",
     "iopub.status.idle": "2024-06-14T04:48:50.322330Z",
     "shell.execute_reply": "2024-06-14T04:48:50.321519Z",
     "shell.execute_reply.started": "2024-06-14T04:48:39.291351Z"
    }
   },
   "outputs": [],
   "source": [
    "import geopandas as gpd\n",
    "import pandas as pd\n",
    "import os"
   ]
  },
  {
   "cell_type": "code",
   "execution_count": 3,
   "id": "430c8760-8f5e-4af3-8eab-411f5ee1fb3b",
   "metadata": {
    "execution": {
     "iopub.execute_input": "2024-03-26T07:36:41.413980Z",
     "iopub.status.busy": "2024-03-26T07:36:41.413695Z",
     "iopub.status.idle": "2024-03-26T07:37:22.598242Z",
     "shell.execute_reply": "2024-03-26T07:37:22.597227Z",
     "shell.execute_reply.started": "2024-03-26T07:36:41.413957Z"
    }
   },
   "outputs": [],
   "source": [
    "gdf = gpd.read_parquet(overture_root+\"/theme=places/type=place/part-00010-6cb89013-4ec2-4b94-8e4b-8e27c7d30865.c000.zstd.parquet\")\n",
    "\n",
    "gdf = gdf.cx[-125:-66, 24:50]"
   ]
  },
  {
   "cell_type": "code",
   "execution_count": 4,
   "id": "610a99ff-8867-4cfe-b0fe-18f538a1b840",
   "metadata": {
    "execution": {
     "iopub.execute_input": "2024-03-26T07:37:22.600646Z",
     "iopub.status.busy": "2024-03-26T07:37:22.600324Z",
     "iopub.status.idle": "2024-03-26T07:37:22.612352Z",
     "shell.execute_reply": "2024-03-26T07:37:22.611768Z",
     "shell.execute_reply.started": "2024-03-26T07:37:22.600622Z"
    }
   },
   "outputs": [
    {
     "data": {
      "text/plain": [
       "2188516         {'main': 'accommodation', 'alternate': None}\n",
       "2188517    {'main': 'seafood_restaurant', 'alternate': ['...\n",
       "2188518    {'main': 'professional_services', 'alternate':...\n",
       "2188519              {'main': 'mountain', 'alternate': None}\n",
       "2188520              {'main': 'mountain', 'alternate': None}\n",
       "                                 ...                        \n",
       "2499995    {'main': 'community_services_non_profits', 'al...\n",
       "2499996    {'main': 'elementary_school', 'alternate': ['s...\n",
       "2499997        {'main': 'animal_shelter', 'alternate': None}\n",
       "2499998     {'main': 'bar', 'alternate': ['cafe', 'lounge']}\n",
       "2499999    {'main': 'pet_groomer', 'alternate': ['pet_ser...\n",
       "Name: categories, Length: 303515, dtype: object"
      ]
     },
     "execution_count": 4,
     "metadata": {},
     "output_type": "execute_result"
    }
   ],
   "source": [
    "gdf.categories"
   ]
  },
  {
   "cell_type": "code",
   "execution_count": 5,
   "id": "1bf9f792-0514-466f-934a-c18d62e8b8b5",
   "metadata": {
    "execution": {
     "iopub.execute_input": "2024-03-26T07:37:22.613391Z",
     "iopub.status.busy": "2024-03-26T07:37:22.613126Z",
     "iopub.status.idle": "2024-03-26T07:37:22.673418Z",
     "shell.execute_reply": "2024-03-26T07:37:22.672809Z",
     "shell.execute_reply.started": "2024-03-26T07:37:22.613371Z"
    }
   },
   "outputs": [],
   "source": [
    "df = gdf.sample(20000)"
   ]
  },
  {
   "cell_type": "code",
   "execution_count": 6,
   "id": "5e583ef4-344d-4681-b076-569074181615",
   "metadata": {
    "execution": {
     "iopub.execute_input": "2024-03-26T07:37:22.681540Z",
     "iopub.status.busy": "2024-03-26T07:37:22.681293Z",
     "iopub.status.idle": "2024-03-26T07:37:22.714756Z",
     "shell.execute_reply": "2024-03-26T07:37:22.714136Z",
     "shell.execute_reply.started": "2024-03-26T07:37:22.681518Z"
    }
   },
   "outputs": [
    {
     "data": {
      "text/html": [
       "<div>\n",
       "<style scoped>\n",
       "    .dataframe tbody tr th:only-of-type {\n",
       "        vertical-align: middle;\n",
       "    }\n",
       "\n",
       "    .dataframe tbody tr th {\n",
       "        vertical-align: top;\n",
       "    }\n",
       "\n",
       "    .dataframe thead th {\n",
       "        text-align: right;\n",
       "    }\n",
       "</style>\n",
       "<table border=\"1\" class=\"dataframe\">\n",
       "  <thead>\n",
       "    <tr style=\"text-align: right;\">\n",
       "      <th></th>\n",
       "      <th>id</th>\n",
       "      <th>geometry</th>\n",
       "      <th>bbox</th>\n",
       "      <th>subType</th>\n",
       "      <th>localityType</th>\n",
       "      <th>names</th>\n",
       "      <th>contextId</th>\n",
       "      <th>adminLevel</th>\n",
       "      <th>isoCountryCodeAlpha2</th>\n",
       "      <th>isoSubCountryCode</th>\n",
       "      <th>...</th>\n",
       "      <th>socials</th>\n",
       "      <th>emails</th>\n",
       "      <th>phones</th>\n",
       "      <th>brand</th>\n",
       "      <th>addresses</th>\n",
       "      <th>sourceTags</th>\n",
       "      <th>wikidata</th>\n",
       "      <th>surface</th>\n",
       "      <th>isSalt</th>\n",
       "      <th>isIntermittent</th>\n",
       "    </tr>\n",
       "  </thead>\n",
       "  <tbody>\n",
       "    <tr>\n",
       "      <th>2445840</th>\n",
       "      <td>881654365319404</td>\n",
       "      <td>POINT (-102.43342 31.80906)</td>\n",
       "      <td>{'minx': -102.4334167, 'maxx': -102.4334167, '...</td>\n",
       "      <td>None</td>\n",
       "      <td>None</td>\n",
       "      <td>{'common': [{'value': 'RFC Drilling, LLC', 'la...</td>\n",
       "      <td>None</td>\n",
       "      <td>NaN</td>\n",
       "      <td>None</td>\n",
       "      <td>None</td>\n",
       "      <td>...</td>\n",
       "      <td>[https://www.facebook.com/881654365319404]</td>\n",
       "      <td>None</td>\n",
       "      <td>[+14322763505]</td>\n",
       "      <td>None</td>\n",
       "      <td>[{'freeform': '6001 W Murphy St', 'locality': ...</td>\n",
       "      <td>None</td>\n",
       "      <td>None</td>\n",
       "      <td>None</td>\n",
       "      <td>None</td>\n",
       "      <td>None</td>\n",
       "    </tr>\n",
       "    <tr>\n",
       "      <th>2227507</th>\n",
       "      <td>1125899910042513</td>\n",
       "      <td>POINT (-112.50840 33.49319)</td>\n",
       "      <td>{'minx': -112.508396, 'maxx': -112.508396, 'mi...</td>\n",
       "      <td>None</td>\n",
       "      <td>None</td>\n",
       "      <td>{'common': [{'value': 'Arizona Garage Builders...</td>\n",
       "      <td>None</td>\n",
       "      <td>NaN</td>\n",
       "      <td>None</td>\n",
       "      <td>None</td>\n",
       "      <td>...</td>\n",
       "      <td>None</td>\n",
       "      <td>None</td>\n",
       "      <td>[6232545599]</td>\n",
       "      <td>None</td>\n",
       "      <td>[{'freeform': 'Address: 20866 W. Werner Pl', '...</td>\n",
       "      <td>None</td>\n",
       "      <td>None</td>\n",
       "      <td>None</td>\n",
       "      <td>None</td>\n",
       "      <td>None</td>\n",
       "    </tr>\n",
       "    <tr>\n",
       "      <th>2211606</th>\n",
       "      <td>562949962898337</td>\n",
       "      <td>POINT (-117.72330 33.48610)</td>\n",
       "      <td>{'minx': -117.7233, 'maxx': -117.7233, 'miny':...</td>\n",
       "      <td>None</td>\n",
       "      <td>None</td>\n",
       "      <td>{'common': [{'value': 'CVS Pharmacy', 'languag...</td>\n",
       "      <td>None</td>\n",
       "      <td>NaN</td>\n",
       "      <td>None</td>\n",
       "      <td>None</td>\n",
       "      <td>...</td>\n",
       "      <td>None</td>\n",
       "      <td>None</td>\n",
       "      <td>[9494899030]</td>\n",
       "      <td>None</td>\n",
       "      <td>[{'freeform': '32900 Pacific Coast Hwy', 'loca...</td>\n",
       "      <td>None</td>\n",
       "      <td>None</td>\n",
       "      <td>None</td>\n",
       "      <td>None</td>\n",
       "      <td>None</td>\n",
       "    </tr>\n",
       "    <tr>\n",
       "      <th>2422149</th>\n",
       "      <td>508472265969947</td>\n",
       "      <td>POINT (-111.97877 33.47983)</td>\n",
       "      <td>{'minx': -111.978773, 'maxx': -111.978773, 'mi...</td>\n",
       "      <td>None</td>\n",
       "      <td>None</td>\n",
       "      <td>{'common': [{'value': 'Arcadia Shoe Repair', '...</td>\n",
       "      <td>None</td>\n",
       "      <td>NaN</td>\n",
       "      <td>None</td>\n",
       "      <td>None</td>\n",
       "      <td>...</td>\n",
       "      <td>[https://www.facebook.com/508472265969947]</td>\n",
       "      <td>None</td>\n",
       "      <td>[+16029553555]</td>\n",
       "      <td>None</td>\n",
       "      <td>[{'freeform': '4747 E Thomas Rd', 'locality': ...</td>\n",
       "      <td>None</td>\n",
       "      <td>None</td>\n",
       "      <td>None</td>\n",
       "      <td>None</td>\n",
       "      <td>None</td>\n",
       "    </tr>\n",
       "    <tr>\n",
       "      <th>2224641</th>\n",
       "      <td>854534464664185</td>\n",
       "      <td>POINT (-116.35779 33.74306)</td>\n",
       "      <td>{'minx': -116.357786, 'maxx': -116.357786, 'mi...</td>\n",
       "      <td>None</td>\n",
       "      <td>None</td>\n",
       "      <td>{'common': [{'value': 'Cornisa Custom Woodwork...</td>\n",
       "      <td>None</td>\n",
       "      <td>NaN</td>\n",
       "      <td>None</td>\n",
       "      <td>None</td>\n",
       "      <td>...</td>\n",
       "      <td>[https://www.facebook.com/854534464664185]</td>\n",
       "      <td>None</td>\n",
       "      <td>[+17603461709]</td>\n",
       "      <td>None</td>\n",
       "      <td>[{'freeform': '74866 Velie Way', 'locality': '...</td>\n",
       "      <td>None</td>\n",
       "      <td>None</td>\n",
       "      <td>None</td>\n",
       "      <td>None</td>\n",
       "      <td>None</td>\n",
       "    </tr>\n",
       "  </tbody>\n",
       "</table>\n",
       "<p>5 rows × 37 columns</p>\n",
       "</div>"
      ],
      "text/plain": [
       "                       id                     geometry  \\\n",
       "2445840   881654365319404  POINT (-102.43342 31.80906)   \n",
       "2227507  1125899910042513  POINT (-112.50840 33.49319)   \n",
       "2211606   562949962898337  POINT (-117.72330 33.48610)   \n",
       "2422149   508472265969947  POINT (-111.97877 33.47983)   \n",
       "2224641   854534464664185  POINT (-116.35779 33.74306)   \n",
       "\n",
       "                                                      bbox subType  \\\n",
       "2445840  {'minx': -102.4334167, 'maxx': -102.4334167, '...    None   \n",
       "2227507  {'minx': -112.508396, 'maxx': -112.508396, 'mi...    None   \n",
       "2211606  {'minx': -117.7233, 'maxx': -117.7233, 'miny':...    None   \n",
       "2422149  {'minx': -111.978773, 'maxx': -111.978773, 'mi...    None   \n",
       "2224641  {'minx': -116.357786, 'maxx': -116.357786, 'mi...    None   \n",
       "\n",
       "        localityType                                              names  \\\n",
       "2445840         None  {'common': [{'value': 'RFC Drilling, LLC', 'la...   \n",
       "2227507         None  {'common': [{'value': 'Arizona Garage Builders...   \n",
       "2211606         None  {'common': [{'value': 'CVS Pharmacy', 'languag...   \n",
       "2422149         None  {'common': [{'value': 'Arcadia Shoe Repair', '...   \n",
       "2224641         None  {'common': [{'value': 'Cornisa Custom Woodwork...   \n",
       "\n",
       "        contextId  adminLevel isoCountryCodeAlpha2 isoSubCountryCode  ...  \\\n",
       "2445840      None         NaN                 None              None  ...   \n",
       "2227507      None         NaN                 None              None  ...   \n",
       "2211606      None         NaN                 None              None  ...   \n",
       "2422149      None         NaN                 None              None  ...   \n",
       "2224641      None         NaN                 None              None  ...   \n",
       "\n",
       "                                            socials emails          phones  \\\n",
       "2445840  [https://www.facebook.com/881654365319404]   None  [+14322763505]   \n",
       "2227507                                        None   None    [6232545599]   \n",
       "2211606                                        None   None    [9494899030]   \n",
       "2422149  [https://www.facebook.com/508472265969947]   None  [+16029553555]   \n",
       "2224641  [https://www.facebook.com/854534464664185]   None  [+17603461709]   \n",
       "\n",
       "        brand                                          addresses sourceTags  \\\n",
       "2445840  None  [{'freeform': '6001 W Murphy St', 'locality': ...       None   \n",
       "2227507  None  [{'freeform': 'Address: 20866 W. Werner Pl', '...       None   \n",
       "2211606  None  [{'freeform': '32900 Pacific Coast Hwy', 'loca...       None   \n",
       "2422149  None  [{'freeform': '4747 E Thomas Rd', 'locality': ...       None   \n",
       "2224641  None  [{'freeform': '74866 Velie Way', 'locality': '...       None   \n",
       "\n",
       "        wikidata surface  isSalt  isIntermittent  \n",
       "2445840     None    None    None            None  \n",
       "2227507     None    None    None            None  \n",
       "2211606     None    None    None            None  \n",
       "2422149     None    None    None            None  \n",
       "2224641     None    None    None            None  \n",
       "\n",
       "[5 rows x 37 columns]"
      ]
     },
     "execution_count": 6,
     "metadata": {},
     "output_type": "execute_result"
    }
   ],
   "source": [
    "df.head()"
   ]
  },
  {
   "cell_type": "code",
   "execution_count": 35,
   "id": "c27b11a2-ba1f-4ce9-a54b-fc329239ee5b",
   "metadata": {
    "execution": {
     "iopub.execute_input": "2024-03-25T07:16:35.371760Z",
     "iopub.status.busy": "2024-03-25T07:16:35.371369Z",
     "iopub.status.idle": "2024-03-25T07:16:35.423200Z",
     "shell.execute_reply": "2024-03-25T07:16:35.422641Z",
     "shell.execute_reply.started": "2024-03-25T07:16:35.371734Z"
    }
   },
   "outputs": [],
   "source": [
    "gdf['main_cat'] = gdf['categories'].apply(lambda x: x['main'])"
   ]
  },
  {
   "cell_type": "code",
   "execution_count": null,
   "id": "7f8019df-00f5-4790-96b6-19a24776a67e",
   "metadata": {},
   "outputs": [],
   "source": [
    "gdf.columns"
   ]
  },
  {
   "cell_type": "code",
   "execution_count": 39,
   "id": "e3a6d5bd-7d86-473e-96c4-21e2d47be69a",
   "metadata": {
    "execution": {
     "iopub.execute_input": "2024-03-25T07:16:56.971479Z",
     "iopub.status.busy": "2024-03-25T07:16:56.971105Z",
     "iopub.status.idle": "2024-03-25T07:16:56.989833Z",
     "shell.execute_reply": "2024-03-25T07:16:56.989357Z",
     "shell.execute_reply.started": "2024-03-25T07:16:56.971455Z"
    }
   },
   "outputs": [
    {
     "data": {
      "text/plain": [
       "array(['accommodation', 'seafood_restaurant', 'professional_services',\n",
       "       ..., 'belgian_restaurant', 'skylight_installation', 'coach_bus'],\n",
       "      dtype=object)"
      ]
     },
     "execution_count": 39,
     "metadata": {},
     "output_type": "execute_result"
    }
   ],
   "source": [
    "gdf.main_cat.unique()"
   ]
  },
  {
   "cell_type": "code",
   "execution_count": 32,
   "id": "73727ace-957f-44b9-a575-247c736295a2",
   "metadata": {
    "execution": {
     "iopub.execute_input": "2024-03-25T07:14:20.987244Z",
     "iopub.status.busy": "2024-03-25T07:14:20.986953Z",
     "iopub.status.idle": "2024-03-25T07:14:29.274530Z",
     "shell.execute_reply": "2024-03-25T07:14:29.273948Z",
     "shell.execute_reply.started": "2024-03-25T07:14:20.987221Z"
    }
   },
   "outputs": [
    {
     "name": "stderr",
     "output_type": "stream",
     "text": [
      "/tmp/ipykernel_299021/1227891516.py:10: FutureWarning: Downcasting object dtype arrays on .fillna, .ffill, .bfill is deprecated and will change in a future version. Call result.infer_objects(copy=False) instead. To opt-in to the future behavior, set `pd.set_option('future.no_silent_downcasting', True)`\n",
      "  new_cols_df = df['categories'].apply(extract_and_mark).fillna(False)\n"
     ]
    }
   ],
   "source": [
    "def extract_and_mark(row):\n",
    "    # Start with the 'main' field\n",
    "    result = {row['main']: True}\n",
    "    # # Check if 'alternate' exists and is not None, then add them too\n",
    "    # if row['alternate'] is not None:\n",
    "    #     result.update({alt: True for alt in row['alternate']})\n",
    "    return pd.Series(result)\n",
    "\n",
    "# Apply the function and fill NaN with False\n",
    "new_cols_df = df['categories'].apply(extract_and_mark).fillna(False)"
   ]
  },
  {
   "cell_type": "code",
   "execution_count": 33,
   "id": "47a5d69d-6afc-4fc2-97a9-b372904f40a5",
   "metadata": {
    "execution": {
     "iopub.execute_input": "2024-03-25T07:14:31.459568Z",
     "iopub.status.busy": "2024-03-25T07:14:31.459197Z",
     "iopub.status.idle": "2024-03-25T07:14:31.484540Z",
     "shell.execute_reply": "2024-03-25T07:14:31.484004Z",
     "shell.execute_reply.started": "2024-03-25T07:14:31.459542Z"
    }
   },
   "outputs": [
    {
     "data": {
      "text/html": [
       "<div>\n",
       "<style scoped>\n",
       "    .dataframe tbody tr th:only-of-type {\n",
       "        vertical-align: middle;\n",
       "    }\n",
       "\n",
       "    .dataframe tbody tr th {\n",
       "        vertical-align: top;\n",
       "    }\n",
       "\n",
       "    .dataframe thead th {\n",
       "        text-align: right;\n",
       "    }\n",
       "</style>\n",
       "<table border=\"1\" class=\"dataframe\">\n",
       "  <thead>\n",
       "    <tr style=\"text-align: right;\">\n",
       "      <th></th>\n",
       "      <th>bank_credit_union</th>\n",
       "      <th>contractor</th>\n",
       "      <th>professional_services</th>\n",
       "      <th>beauty_salon</th>\n",
       "      <th>tire_dealer_and_repair</th>\n",
       "      <th>pediatrician</th>\n",
       "      <th>atms</th>\n",
       "      <th>shopping</th>\n",
       "      <th>interior_design</th>\n",
       "      <th>life_coach</th>\n",
       "      <th>...</th>\n",
       "      <th>wedding_chapel</th>\n",
       "      <th>fish_and_chips_restaurant</th>\n",
       "      <th>human_resource_services</th>\n",
       "      <th>horse_trainer</th>\n",
       "      <th>fishing_club</th>\n",
       "      <th>health_coach</th>\n",
       "      <th>recording_and_rehearsal_studio</th>\n",
       "      <th>tui_na</th>\n",
       "      <th>eyelash_service</th>\n",
       "      <th>engine_repair_service</th>\n",
       "    </tr>\n",
       "  </thead>\n",
       "  <tbody>\n",
       "    <tr>\n",
       "      <th>2294678</th>\n",
       "      <td>True</td>\n",
       "      <td>False</td>\n",
       "      <td>False</td>\n",
       "      <td>False</td>\n",
       "      <td>False</td>\n",
       "      <td>False</td>\n",
       "      <td>False</td>\n",
       "      <td>False</td>\n",
       "      <td>False</td>\n",
       "      <td>False</td>\n",
       "      <td>...</td>\n",
       "      <td>False</td>\n",
       "      <td>False</td>\n",
       "      <td>False</td>\n",
       "      <td>False</td>\n",
       "      <td>False</td>\n",
       "      <td>False</td>\n",
       "      <td>False</td>\n",
       "      <td>False</td>\n",
       "      <td>False</td>\n",
       "      <td>False</td>\n",
       "    </tr>\n",
       "    <tr>\n",
       "      <th>2415424</th>\n",
       "      <td>False</td>\n",
       "      <td>True</td>\n",
       "      <td>False</td>\n",
       "      <td>False</td>\n",
       "      <td>False</td>\n",
       "      <td>False</td>\n",
       "      <td>False</td>\n",
       "      <td>False</td>\n",
       "      <td>False</td>\n",
       "      <td>False</td>\n",
       "      <td>...</td>\n",
       "      <td>False</td>\n",
       "      <td>False</td>\n",
       "      <td>False</td>\n",
       "      <td>False</td>\n",
       "      <td>False</td>\n",
       "      <td>False</td>\n",
       "      <td>False</td>\n",
       "      <td>False</td>\n",
       "      <td>False</td>\n",
       "      <td>False</td>\n",
       "    </tr>\n",
       "    <tr>\n",
       "      <th>2484072</th>\n",
       "      <td>False</td>\n",
       "      <td>False</td>\n",
       "      <td>True</td>\n",
       "      <td>False</td>\n",
       "      <td>False</td>\n",
       "      <td>False</td>\n",
       "      <td>False</td>\n",
       "      <td>False</td>\n",
       "      <td>False</td>\n",
       "      <td>False</td>\n",
       "      <td>...</td>\n",
       "      <td>False</td>\n",
       "      <td>False</td>\n",
       "      <td>False</td>\n",
       "      <td>False</td>\n",
       "      <td>False</td>\n",
       "      <td>False</td>\n",
       "      <td>False</td>\n",
       "      <td>False</td>\n",
       "      <td>False</td>\n",
       "      <td>False</td>\n",
       "    </tr>\n",
       "    <tr>\n",
       "      <th>2195629</th>\n",
       "      <td>False</td>\n",
       "      <td>False</td>\n",
       "      <td>False</td>\n",
       "      <td>True</td>\n",
       "      <td>False</td>\n",
       "      <td>False</td>\n",
       "      <td>False</td>\n",
       "      <td>False</td>\n",
       "      <td>False</td>\n",
       "      <td>False</td>\n",
       "      <td>...</td>\n",
       "      <td>False</td>\n",
       "      <td>False</td>\n",
       "      <td>False</td>\n",
       "      <td>False</td>\n",
       "      <td>False</td>\n",
       "      <td>False</td>\n",
       "      <td>False</td>\n",
       "      <td>False</td>\n",
       "      <td>False</td>\n",
       "      <td>False</td>\n",
       "    </tr>\n",
       "    <tr>\n",
       "      <th>2221676</th>\n",
       "      <td>False</td>\n",
       "      <td>False</td>\n",
       "      <td>False</td>\n",
       "      <td>False</td>\n",
       "      <td>True</td>\n",
       "      <td>False</td>\n",
       "      <td>False</td>\n",
       "      <td>False</td>\n",
       "      <td>False</td>\n",
       "      <td>False</td>\n",
       "      <td>...</td>\n",
       "      <td>False</td>\n",
       "      <td>False</td>\n",
       "      <td>False</td>\n",
       "      <td>False</td>\n",
       "      <td>False</td>\n",
       "      <td>False</td>\n",
       "      <td>False</td>\n",
       "      <td>False</td>\n",
       "      <td>False</td>\n",
       "      <td>False</td>\n",
       "    </tr>\n",
       "    <tr>\n",
       "      <th>...</th>\n",
       "      <td>...</td>\n",
       "      <td>...</td>\n",
       "      <td>...</td>\n",
       "      <td>...</td>\n",
       "      <td>...</td>\n",
       "      <td>...</td>\n",
       "      <td>...</td>\n",
       "      <td>...</td>\n",
       "      <td>...</td>\n",
       "      <td>...</td>\n",
       "      <td>...</td>\n",
       "      <td>...</td>\n",
       "      <td>...</td>\n",
       "      <td>...</td>\n",
       "      <td>...</td>\n",
       "      <td>...</td>\n",
       "      <td>...</td>\n",
       "      <td>...</td>\n",
       "      <td>...</td>\n",
       "      <td>...</td>\n",
       "      <td>...</td>\n",
       "    </tr>\n",
       "    <tr>\n",
       "      <th>2429219</th>\n",
       "      <td>False</td>\n",
       "      <td>False</td>\n",
       "      <td>True</td>\n",
       "      <td>False</td>\n",
       "      <td>False</td>\n",
       "      <td>False</td>\n",
       "      <td>False</td>\n",
       "      <td>False</td>\n",
       "      <td>False</td>\n",
       "      <td>False</td>\n",
       "      <td>...</td>\n",
       "      <td>False</td>\n",
       "      <td>False</td>\n",
       "      <td>False</td>\n",
       "      <td>False</td>\n",
       "      <td>False</td>\n",
       "      <td>False</td>\n",
       "      <td>False</td>\n",
       "      <td>False</td>\n",
       "      <td>False</td>\n",
       "      <td>False</td>\n",
       "    </tr>\n",
       "    <tr>\n",
       "      <th>2363760</th>\n",
       "      <td>False</td>\n",
       "      <td>False</td>\n",
       "      <td>False</td>\n",
       "      <td>False</td>\n",
       "      <td>False</td>\n",
       "      <td>False</td>\n",
       "      <td>False</td>\n",
       "      <td>False</td>\n",
       "      <td>False</td>\n",
       "      <td>False</td>\n",
       "      <td>...</td>\n",
       "      <td>False</td>\n",
       "      <td>False</td>\n",
       "      <td>False</td>\n",
       "      <td>False</td>\n",
       "      <td>False</td>\n",
       "      <td>False</td>\n",
       "      <td>False</td>\n",
       "      <td>False</td>\n",
       "      <td>False</td>\n",
       "      <td>False</td>\n",
       "    </tr>\n",
       "    <tr>\n",
       "      <th>2244025</th>\n",
       "      <td>False</td>\n",
       "      <td>False</td>\n",
       "      <td>False</td>\n",
       "      <td>False</td>\n",
       "      <td>False</td>\n",
       "      <td>False</td>\n",
       "      <td>False</td>\n",
       "      <td>False</td>\n",
       "      <td>False</td>\n",
       "      <td>False</td>\n",
       "      <td>...</td>\n",
       "      <td>False</td>\n",
       "      <td>False</td>\n",
       "      <td>False</td>\n",
       "      <td>False</td>\n",
       "      <td>False</td>\n",
       "      <td>False</td>\n",
       "      <td>False</td>\n",
       "      <td>False</td>\n",
       "      <td>False</td>\n",
       "      <td>False</td>\n",
       "    </tr>\n",
       "    <tr>\n",
       "      <th>2311780</th>\n",
       "      <td>False</td>\n",
       "      <td>False</td>\n",
       "      <td>False</td>\n",
       "      <td>True</td>\n",
       "      <td>False</td>\n",
       "      <td>False</td>\n",
       "      <td>False</td>\n",
       "      <td>False</td>\n",
       "      <td>False</td>\n",
       "      <td>False</td>\n",
       "      <td>...</td>\n",
       "      <td>False</td>\n",
       "      <td>False</td>\n",
       "      <td>False</td>\n",
       "      <td>False</td>\n",
       "      <td>False</td>\n",
       "      <td>False</td>\n",
       "      <td>False</td>\n",
       "      <td>False</td>\n",
       "      <td>False</td>\n",
       "      <td>False</td>\n",
       "    </tr>\n",
       "    <tr>\n",
       "      <th>2390186</th>\n",
       "      <td>False</td>\n",
       "      <td>False</td>\n",
       "      <td>False</td>\n",
       "      <td>False</td>\n",
       "      <td>False</td>\n",
       "      <td>False</td>\n",
       "      <td>False</td>\n",
       "      <td>False</td>\n",
       "      <td>False</td>\n",
       "      <td>False</td>\n",
       "      <td>...</td>\n",
       "      <td>False</td>\n",
       "      <td>False</td>\n",
       "      <td>False</td>\n",
       "      <td>False</td>\n",
       "      <td>False</td>\n",
       "      <td>False</td>\n",
       "      <td>False</td>\n",
       "      <td>False</td>\n",
       "      <td>False</td>\n",
       "      <td>False</td>\n",
       "    </tr>\n",
       "  </tbody>\n",
       "</table>\n",
       "<p>20000 rows × 1005 columns</p>\n",
       "</div>"
      ],
      "text/plain": [
       "         bank_credit_union  contractor  professional_services  beauty_salon  \\\n",
       "2294678               True       False                  False         False   \n",
       "2415424              False        True                  False         False   \n",
       "2484072              False       False                   True         False   \n",
       "2195629              False       False                  False          True   \n",
       "2221676              False       False                  False         False   \n",
       "...                    ...         ...                    ...           ...   \n",
       "2429219              False       False                   True         False   \n",
       "2363760              False       False                  False         False   \n",
       "2244025              False       False                  False         False   \n",
       "2311780              False       False                  False          True   \n",
       "2390186              False       False                  False         False   \n",
       "\n",
       "         tire_dealer_and_repair  pediatrician   atms  shopping  \\\n",
       "2294678                   False         False  False     False   \n",
       "2415424                   False         False  False     False   \n",
       "2484072                   False         False  False     False   \n",
       "2195629                   False         False  False     False   \n",
       "2221676                    True         False  False     False   \n",
       "...                         ...           ...    ...       ...   \n",
       "2429219                   False         False  False     False   \n",
       "2363760                   False         False  False     False   \n",
       "2244025                   False         False  False     False   \n",
       "2311780                   False         False  False     False   \n",
       "2390186                   False         False  False     False   \n",
       "\n",
       "         interior_design  life_coach  ...  wedding_chapel  \\\n",
       "2294678            False       False  ...           False   \n",
       "2415424            False       False  ...           False   \n",
       "2484072            False       False  ...           False   \n",
       "2195629            False       False  ...           False   \n",
       "2221676            False       False  ...           False   \n",
       "...                  ...         ...  ...             ...   \n",
       "2429219            False       False  ...           False   \n",
       "2363760            False       False  ...           False   \n",
       "2244025            False       False  ...           False   \n",
       "2311780            False       False  ...           False   \n",
       "2390186            False       False  ...           False   \n",
       "\n",
       "         fish_and_chips_restaurant  human_resource_services  horse_trainer  \\\n",
       "2294678                      False                    False          False   \n",
       "2415424                      False                    False          False   \n",
       "2484072                      False                    False          False   \n",
       "2195629                      False                    False          False   \n",
       "2221676                      False                    False          False   \n",
       "...                            ...                      ...            ...   \n",
       "2429219                      False                    False          False   \n",
       "2363760                      False                    False          False   \n",
       "2244025                      False                    False          False   \n",
       "2311780                      False                    False          False   \n",
       "2390186                      False                    False          False   \n",
       "\n",
       "         fishing_club  health_coach  recording_and_rehearsal_studio  tui_na  \\\n",
       "2294678         False         False                           False   False   \n",
       "2415424         False         False                           False   False   \n",
       "2484072         False         False                           False   False   \n",
       "2195629         False         False                           False   False   \n",
       "2221676         False         False                           False   False   \n",
       "...               ...           ...                             ...     ...   \n",
       "2429219         False         False                           False   False   \n",
       "2363760         False         False                           False   False   \n",
       "2244025         False         False                           False   False   \n",
       "2311780         False         False                           False   False   \n",
       "2390186         False         False                           False   False   \n",
       "\n",
       "         eyelash_service  engine_repair_service  \n",
       "2294678            False                  False  \n",
       "2415424            False                  False  \n",
       "2484072            False                  False  \n",
       "2195629            False                  False  \n",
       "2221676            False                  False  \n",
       "...                  ...                    ...  \n",
       "2429219            False                  False  \n",
       "2363760            False                  False  \n",
       "2244025            False                  False  \n",
       "2311780            False                  False  \n",
       "2390186            False                  False  \n",
       "\n",
       "[20000 rows x 1005 columns]"
      ]
     },
     "execution_count": 33,
     "metadata": {},
     "output_type": "execute_result"
    }
   ],
   "source": [
    "new_cols_df"
   ]
  },
  {
   "cell_type": "code",
   "execution_count": null,
   "id": "af24a3ca-13fa-42e2-b873-7e1762bb73d7",
   "metadata": {},
   "outputs": [],
   "source": [
    "new_cols_df = pd.DataFrame(index=gdf.index)"
   ]
  },
  {
   "cell_type": "code",
   "execution_count": null,
   "id": "61066f21-c97f-46e3-9936-2614c4a50df1",
   "metadata": {},
   "outputs": [],
   "source": [
    "# Apply the function to the DataFrame column\n",
    "gdf.loc[:,'names_value'] = gdf['names'].apply(lambda x: x['common'][0]['value'])\n",
    "cont_us = gdf[['id','names_value','geometry']]"
   ]
  },
  {
   "cell_type": "code",
   "execution_count": 8,
   "id": "54c7dbf0-cc0a-42c9-a7e4-37efabb45020",
   "metadata": {},
   "outputs": [
    {
     "data": {
      "text/plain": [
       "<Axes: >"
      ]
     },
     "execution_count": 8,
     "metadata": {},
     "output_type": "execute_result"
    },
    {
     "data": {
      "image/png": "[encoded data removed]",
      "text/plain": [
       "<Figure size 640x480 with 1 Axes>"
      ]
     },
     "metadata": {},
     "output_type": "display_data"
    }
   ],
   "source": [
    "cont_us.plot()"
   ]
  },
  {
   "cell_type": "code",
   "execution_count": 29,
   "id": "6eee15d0-0807-4018-8b57-76a4b1a6ed60",
   "metadata": {},
   "outputs": [],
   "source": [
    "del gdf"
   ]
  },
  {
   "cell_type": "code",
   "execution_count": 4,
   "id": "5d73d85e-97b6-47aa-b906-dee47b4417ab",
   "metadata": {},
   "outputs": [],
   "source": [
    "## process all the files"
   ]
  },
  {
   "cell_type": "code",
   "execution_count": 47,
   "id": "5ff461b7-3a0a-491d-8996-cd2893e9101c",
   "metadata": {
    "execution": {
     "iopub.execute_input": "2024-03-25T19:30:37.131065Z",
     "iopub.status.busy": "2024-03-25T19:30:37.130655Z",
     "iopub.status.idle": "2024-03-25T19:46:37.884789Z",
     "shell.execute_reply": "2024-03-25T19:46:37.883769Z",
     "shell.execute_reply.started": "2024-03-25T19:30:37.131040Z"
    }
   },
   "outputs": [],
   "source": [
    "parquet_files = os.listdir(f\"{overture_root}/theme=places/type=place\")\n",
    "\n",
    "res = []\n",
    "for pf in parquet_files:\n",
    "    gdf = gpd.read_parquet(f\"{overture_root}/theme=places/type=place/{pf}\")\n",
    "    gdf = gdf.cx[-125:-66, 24:50]\n",
    "    # Apply the function to the DataFrame column\n",
    "    gdf.loc[:,'names_value'] = gdf['names'].apply(lambda x: x['common'][0]['value'])\n",
    "    gdf.loc[:,'main_cat'] = gdf['categories'].apply(lambda x: x['main'])\n",
    "    gdf = gdf[['id','names_value','main_cat','geometry']]\n",
    "    res.append(gdf)"
   ]
  },
  {
   "cell_type": "code",
   "execution_count": 48,
   "id": "8213e700-558a-4e38-97f4-f210a81c5264",
   "metadata": {
    "execution": {
     "iopub.execute_input": "2024-03-25T19:46:37.886882Z",
     "iopub.status.busy": "2024-03-25T19:46:37.886521Z",
     "iopub.status.idle": "2024-03-25T19:46:40.443346Z",
     "shell.execute_reply": "2024-03-25T19:46:40.442700Z",
     "shell.execute_reply.started": "2024-03-25T19:46:37.886845Z"
    }
   },
   "outputs": [],
   "source": [
    "us_places = pd.concat(res)"
   ]
  },
  {
   "cell_type": "code",
   "execution_count": 49,
   "id": "3975fc44-c922-4948-b829-812bd5bff0d5",
   "metadata": {
    "execution": {
     "iopub.execute_input": "2024-03-25T19:46:40.444700Z",
     "iopub.status.busy": "2024-03-25T19:46:40.444257Z",
     "iopub.status.idle": "2024-03-25T19:46:40.448775Z",
     "shell.execute_reply": "2024-03-25T19:46:40.448274Z",
     "shell.execute_reply.started": "2024-03-25T19:46:40.444675Z"
    }
   },
   "outputs": [
    {
     "data": {
      "text/plain": [
       "(13867406, 4)"
      ]
     },
     "execution_count": 49,
     "metadata": {},
     "output_type": "execute_result"
    }
   ],
   "source": [
    "us_places.shape"
   ]
  },
  {
   "cell_type": "code",
   "execution_count": 50,
   "id": "8f499e0a-a19a-4eb3-a22d-ad16e12826b5",
   "metadata": {
    "execution": {
     "iopub.execute_input": "2024-03-25T19:46:40.450389Z",
     "iopub.status.busy": "2024-03-25T19:46:40.450058Z",
     "iopub.status.idle": "2024-03-25T19:46:40.537892Z",
     "shell.execute_reply": "2024-03-25T19:46:40.537333Z",
     "shell.execute_reply.started": "2024-03-25T19:46:40.450366Z"
    }
   },
   "outputs": [],
   "source": [
    "us_places.crs = \"EPSG:4326\""
   ]
  },
  {
   "cell_type": "code",
   "execution_count": 51,
   "id": "bb375dbb-a39f-4990-967b-74e22f38fc3d",
   "metadata": {
    "execution": {
     "iopub.execute_input": "2024-03-25T19:46:40.538978Z",
     "iopub.status.busy": "2024-03-25T19:46:40.538587Z",
     "iopub.status.idle": "2024-03-25T19:46:40.547340Z",
     "shell.execute_reply": "2024-03-25T19:46:40.546840Z",
     "shell.execute_reply.started": "2024-03-25T19:46:40.538957Z"
    }
   },
   "outputs": [
    {
     "data": {
      "text/html": [
       "<div>\n",
       "<style scoped>\n",
       "    .dataframe tbody tr th:only-of-type {\n",
       "        vertical-align: middle;\n",
       "    }\n",
       "\n",
       "    .dataframe tbody tr th {\n",
       "        vertical-align: top;\n",
       "    }\n",
       "\n",
       "    .dataframe thead th {\n",
       "        text-align: right;\n",
       "    }\n",
       "</style>\n",
       "<table border=\"1\" class=\"dataframe\">\n",
       "  <thead>\n",
       "    <tr style=\"text-align: right;\">\n",
       "      <th></th>\n",
       "      <th>id</th>\n",
       "      <th>names_value</th>\n",
       "      <th>main_cat</th>\n",
       "      <th>geometry</th>\n",
       "    </tr>\n",
       "  </thead>\n",
       "  <tbody>\n",
       "    <tr>\n",
       "      <th>1308150</th>\n",
       "      <td>49679874639</td>\n",
       "      <td>Back Alley Bakery</td>\n",
       "      <td>bakery</td>\n",
       "      <td>POINT (-98.38904 40.58494)</td>\n",
       "    </tr>\n",
       "    <tr>\n",
       "      <th>1308151</th>\n",
       "      <td>104889374747817</td>\n",
       "      <td>Smitty's MHP</td>\n",
       "      <td>campground</td>\n",
       "      <td>POINT (-98.38082 40.57477)</td>\n",
       "    </tr>\n",
       "    <tr>\n",
       "      <th>1308152</th>\n",
       "      <td>115690661823498</td>\n",
       "      <td>Hoskins Auto Sales</td>\n",
       "      <td>car_dealer</td>\n",
       "      <td>POINT (-98.39011 40.56764)</td>\n",
       "    </tr>\n",
       "    <tr>\n",
       "      <th>1308153</th>\n",
       "      <td>562949964809758</td>\n",
       "      <td>Edward Jones - Financial Advisor: Phil Nelson</td>\n",
       "      <td>None</td>\n",
       "      <td>POINT (-98.38725 40.58950)</td>\n",
       "    </tr>\n",
       "    <tr>\n",
       "      <th>1308154</th>\n",
       "      <td>133754580009931</td>\n",
       "      <td>South Central Behavioral Services</td>\n",
       "      <td>counseling_and_mental_health</td>\n",
       "      <td>POINT (-98.39292 40.57619)</td>\n",
       "    </tr>\n",
       "  </tbody>\n",
       "</table>\n",
       "</div>"
      ],
      "text/plain": [
       "                      id                                    names_value  \\\n",
       "1308150      49679874639                              Back Alley Bakery   \n",
       "1308151  104889374747817                                   Smitty's MHP   \n",
       "1308152  115690661823498                             Hoskins Auto Sales   \n",
       "1308153  562949964809758  Edward Jones - Financial Advisor: Phil Nelson   \n",
       "1308154  133754580009931              South Central Behavioral Services   \n",
       "\n",
       "                             main_cat                    geometry  \n",
       "1308150                        bakery  POINT (-98.38904 40.58494)  \n",
       "1308151                    campground  POINT (-98.38082 40.57477)  \n",
       "1308152                    car_dealer  POINT (-98.39011 40.56764)  \n",
       "1308153                          None  POINT (-98.38725 40.58950)  \n",
       "1308154  counseling_and_mental_health  POINT (-98.39292 40.57619)  "
      ]
     },
     "execution_count": 51,
     "metadata": {},
     "output_type": "execute_result"
    }
   ],
   "source": [
    "us_places.head()"
   ]
  },
  {
   "cell_type": "code",
   "execution_count": 52,
   "id": "7cc37dc6-2049-432b-b9b3-be6b1d55200d",
   "metadata": {
    "execution": {
     "iopub.execute_input": "2024-03-25T19:46:40.548574Z",
     "iopub.status.busy": "2024-03-25T19:46:40.548100Z",
     "iopub.status.idle": "2024-03-25T20:05:53.199101Z",
     "shell.execute_reply": "2024-03-25T20:05:53.197938Z",
     "shell.execute_reply.started": "2024-03-25T19:46:40.548550Z"
    }
   },
   "outputs": [],
   "source": [
    "us_places.to_file(\"../../data/overture/us_places.geojson\")"
   ]
  },
  {
   "cell_type": "code",
   "execution_count": 57,
   "id": "09fe2689-5cc7-48ee-b6ac-b88e2ea8011c",
   "metadata": {
    "execution": {
     "iopub.execute_input": "2024-03-25T20:57:18.211410Z",
     "iopub.status.busy": "2024-03-25T20:57:18.211021Z",
     "iopub.status.idle": "2024-03-25T20:57:20.151106Z",
     "shell.execute_reply": "2024-03-25T20:57:20.150507Z",
     "shell.execute_reply.started": "2024-03-25T20:57:18.211385Z"
    }
   },
   "outputs": [],
   "source": [
    "us_places.groupby('main_cat').id.count().reset_index().sort_values('id',ascending=False).to_csv('../../data/overture/main_cat_count.csv',index=False)"
   ]
  },
  {
   "cell_type": "code",
   "execution_count": 58,
   "id": "e7c240c0-b798-4d55-8a53-8341e6c5037f",
   "metadata": {
    "execution": {
     "iopub.execute_input": "2024-03-25T21:14:49.290944Z",
     "iopub.status.busy": "2024-03-25T21:14:49.290562Z",
     "iopub.status.idle": "2024-03-25T21:15:17.987510Z",
     "shell.execute_reply": "2024-03-25T21:15:17.986847Z",
     "shell.execute_reply.started": "2024-03-25T21:14:49.290918Z"
    }
   },
   "outputs": [],
   "source": [
    "us_places.to_parquet(\"../../data/overture/us_places.parquet\")"
   ]
  },
  {
   "cell_type": "code",
   "execution_count": null,
   "id": "16ca5a8d-a8fd-4904-ae92-e52c0e9a2c9f",
   "metadata": {},
   "outputs": [],
   "source": []
  },
  {
   "cell_type": "code",
   "execution_count": null,
   "id": "15a3b709-6c89-4977-bf3e-e4d41ef83994",
   "metadata": {},
   "outputs": [],
   "source": []
  },
  {
   "cell_type": "markdown",
   "id": "19928708-5620-4629-9cd3-293019635653",
   "metadata": {},
   "source": [
    "## Roads"
   ]
  },
  {
   "cell_type": "code",
   "execution_count": null,
   "id": "3e4ff0b0-6da2-4ea7-9c43-84ca1614a888",
   "metadata": {},
   "outputs": [],
   "source": [
    "glob.glob(f\"{overture_root}/theme=transportation/type=segment/*.parquet\")"
   ]
  },
  {
   "cell_type": "code",
   "execution_count": 48,
   "id": "f0580fc4-90a2-4fbd-a0a1-9f2393df5a78",
   "metadata": {
    "execution": {
     "iopub.execute_input": "2024-06-16T01:55:41.720723Z",
     "iopub.status.busy": "2024-06-16T01:55:41.720316Z",
     "iopub.status.idle": "2024-06-16T01:56:51.434677Z",
     "shell.execute_reply": "2024-06-16T01:56:51.433461Z",
     "shell.execute_reply.started": "2024-06-16T01:55:41.720694Z"
    }
   },
   "outputs": [],
   "source": [
    "segments = gpd.read_parquet('../../data/overture/release/theme=transportation/type=segment/part-00003-dac403ab-721e-4d34-aa21-dd1ce87757c4-c000.zstd.parquet')"
   ]
  },
  {
   "cell_type": "code",
   "execution_count": 56,
   "id": "0e477e4c-f8a8-4953-b5a8-aa19fe6235aa",
   "metadata": {
    "execution": {
     "iopub.execute_input": "2024-06-16T02:01:42.156636Z",
     "iopub.status.busy": "2024-06-16T02:01:42.156231Z",
     "iopub.status.idle": "2024-06-16T02:01:45.936593Z",
     "shell.execute_reply": "2024-06-16T02:01:45.935972Z",
     "shell.execute_reply.started": "2024-06-16T02:01:42.156608Z"
    }
   },
   "outputs": [
    {
     "data": {
      "text/plain": [
       "id                              0\n",
       "geometry                        0\n",
       "bbox                            0\n",
       "version                         0\n",
       "update_time                     0\n",
       "sources                       342\n",
       "subtype                         0\n",
       "names                     3274306\n",
       "class                         109\n",
       "connector_ids                   0\n",
       "access_restrictions       5708808\n",
       "level_rules               6578956\n",
       "prohibited_transitions    6623454\n",
       "road_surface              5477731\n",
       "road_flags                6531911\n",
       "speed_limits              6360544\n",
       "width_rules               6588886\n",
       "road                      4834861\n",
       "dtype: int64"
      ]
     },
     "execution_count": 56,
     "metadata": {},
     "output_type": "execute_result"
    }
   ],
   "source": [
    "segments.isna().sum()"
   ]
  },
  {
   "cell_type": "code",
   "execution_count": null,
   "id": "c96c9037-7eb6-45ed-bd3c-079ee025d9c2",
   "metadata": {},
   "outputs": [],
   "source": [
    "segments['names_value'] = segments['names'].apply(lambda x: x['primary'])"
   ]
  },
  {
   "cell_type": "code",
   "execution_count": 58,
   "id": "32373364-d35a-4b58-bbe8-38b1e76f9a27",
   "metadata": {
    "execution": {
     "iopub.execute_input": "2024-06-16T02:04:01.244348Z",
     "iopub.status.busy": "2024-06-16T02:04:01.243837Z",
     "iopub.status.idle": "2024-06-16T06:13:44.670758Z",
     "shell.execute_reply": "2024-06-16T06:13:44.641404Z",
     "shell.execute_reply.started": "2024-06-16T02:04:01.244321Z"
    }
   },
   "outputs": [
    {
     "name": "stdout",
     "output_type": "stream",
     "text": [
      "0\n",
      "0\n",
      "0\n",
      "1827098\n",
      "6621803\n",
      "0\n",
      "0\n",
      "0\n",
      "0\n",
      "0\n",
      "0\n",
      "6580638\n",
      "0\n",
      "0\n",
      "0\n",
      "1614034\n",
      "0\n",
      "0\n",
      "5556271\n",
      "897000\n",
      "0\n",
      "0\n",
      "0\n",
      "0\n",
      "6682945\n",
      "0\n",
      "0\n",
      "0\n",
      "0\n",
      "0\n",
      "0\n",
      "0\n",
      "0\n",
      "6614226\n",
      "0\n",
      "0\n",
      "0\n",
      "0\n",
      "6679809\n",
      "0\n",
      "6679574\n",
      "0\n",
      "0\n",
      "0\n",
      "0\n",
      "6129215\n"
     ]
    }
   ],
   "source": [
    "res = []\n",
    "for pf in glob.glob(f\"{overture_root}/theme=transportation/type=segment/*.parquet\"):\n",
    "    gdf = gpd.read_parquet(pf)\n",
    "    gdf = gdf.cx[-125:-66, 24:50]\n",
    "    print(gdf.shape[0])\n",
    "    # Apply the function to the DataFrame column\n",
    "    gdf = pd.concat([gdf.drop(['bbox'], axis=1), gdf['bbox'].apply(pd.Series)], axis=1)\n",
    "    #gdf.loc[:,'names_value'] = gdf['names'].apply(lambda x: x['common'][0]['value'])\n",
    "    #gdf.loc[:,'main_cat'] = gdf['categories'].apply(lambda x: x['main'])\n",
    "    gdf = gdf[['id','subtype','geometry']]\n",
    "    res.append(gdf)"
   ]
  },
  {
   "cell_type": "code",
   "execution_count": 59,
   "id": "d1d8d069-9984-46a6-b738-3cf0948f4417",
   "metadata": {
    "execution": {
     "iopub.execute_input": "2024-06-17T02:47:59.285883Z",
     "iopub.status.busy": "2024-06-17T02:47:59.285247Z",
     "iopub.status.idle": "2024-06-17T02:51:57.316325Z",
     "shell.execute_reply": "2024-06-17T02:51:57.315170Z",
     "shell.execute_reply.started": "2024-06-17T02:47:59.285840Z"
    }
   },
   "outputs": [],
   "source": [
    "us_segments = pd.concat(res)\n",
    "us_segments.crs = \"EPSG:4326\"\n",
    "us_segments.to_parquet(\"../../data/overture/us_segments.parquet\")"
   ]
  },
  {
   "cell_type": "markdown",
   "id": "c58fe9af-fac8-446b-b754-0328e87f7dab",
   "metadata": {},
   "source": [
    "## Buildings"
   ]
  },
  {
   "cell_type": "code",
   "execution_count": 36,
   "id": "31f6f9e7-1f4b-4ad1-b040-75f72e98b841",
   "metadata": {
    "execution": {
     "iopub.execute_input": "2024-06-14T06:13:10.111498Z",
     "iopub.status.busy": "2024-06-14T06:13:10.111117Z",
     "iopub.status.idle": "2024-06-14T06:13:10.114446Z",
     "shell.execute_reply": "2024-06-14T06:13:10.113835Z",
     "shell.execute_reply.started": "2024-06-14T06:13:10.111473Z"
    }
   },
   "outputs": [],
   "source": [
    "import glob"
   ]
  },
  {
   "cell_type": "code",
   "execution_count": null,
   "id": "653227db-f893-44f6-aa3b-08def412891e",
   "metadata": {},
   "outputs": [],
   "source": [
    "glob.glob(f\"{overture_root}/theme=buildings/type=building/*.parquet\")"
   ]
  },
  {
   "cell_type": "code",
   "execution_count": 16,
   "id": "40338fc2-b49d-4e97-84e8-3e6f41d293db",
   "metadata": {
    "execution": {
     "iopub.execute_input": "2024-06-14T04:48:54.406332Z",
     "iopub.status.busy": "2024-06-14T04:48:54.405732Z",
     "iopub.status.idle": "2024-06-14T04:48:54.410175Z",
     "shell.execute_reply": "2024-06-14T04:48:54.409594Z",
     "shell.execute_reply.started": "2024-06-14T04:48:54.406302Z"
    }
   },
   "outputs": [],
   "source": [
    "parquet_files = os.listdir(f\"{overture_root}/theme=buildings/type=building\")"
   ]
  },
  {
   "cell_type": "code",
   "execution_count": 18,
   "id": "482a5335-7ada-43c8-886a-cd8d11890263",
   "metadata": {
    "execution": {
     "iopub.execute_input": "2024-06-14T04:49:26.234313Z",
     "iopub.status.busy": "2024-06-14T04:49:26.233793Z",
     "iopub.status.idle": "2024-06-14T04:49:26.240826Z",
     "shell.execute_reply": "2024-06-14T04:49:26.240306Z",
     "shell.execute_reply.started": "2024-06-14T04:49:26.234285Z"
    }
   },
   "outputs": [
    {
     "data": {
      "text/plain": [
       "['part-00088-0f1e965c-d57d-4685-9f2a-0271285f7e34-c000.zstd.parquet',\n",
       " 'part-00070-0f1e965c-d57d-4685-9f2a-0271285f7e34-c000.zstd.parquet',\n",
       " 'part-00078-0f1e965c-d57d-4685-9f2a-0271285f7e34-c000.zstd.parquet',\n",
       " 'part-00026-0f1e965c-d57d-4685-9f2a-0271285f7e34-c000.zstd.parquet',\n",
       " 'part-00044-0f1e965c-d57d-4685-9f2a-0271285f7e34-c000.zstd.parquet',\n",
       " 'part-00017-0f1e965c-d57d-4685-9f2a-0271285f7e34-c000.zstd.parquet',\n",
       " 'part-00087-0f1e965c-d57d-4685-9f2a-0271285f7e34-c000.zstd.parquet',\n",
       " 'part-00165-0f1e965c-d57d-4685-9f2a-0271285f7e34-c000.zstd.parquet',\n",
       " 'part-00208-0f1e965c-d57d-4685-9f2a-0271285f7e34-c000.zstd.parquet',\n",
       " 'part-00033-0f1e965c-d57d-4685-9f2a-0271285f7e34-c000.zstd.parquet',\n",
       " 'part-00196-0f1e965c-d57d-4685-9f2a-0271285f7e34-c000.zstd.parquet',\n",
       " 'part-00079-0f1e965c-d57d-4685-9f2a-0271285f7e34-c000.zstd.parquet',\n",
       " 'part-00191-0f1e965c-d57d-4685-9f2a-0271285f7e34-c000.zstd.parquet',\n",
       " 'part-00102-0f1e965c-d57d-4685-9f2a-0271285f7e34-c000.zstd.parquet',\n",
       " 'part-00062-0f1e965c-d57d-4685-9f2a-0271285f7e34-c000.zstd.parquet',\n",
       " 'part-00140-0f1e965c-d57d-4685-9f2a-0271285f7e34-c000.zstd.parquet',\n",
       " 'part-00205-0f1e965c-d57d-4685-9f2a-0271285f7e34-c000.zstd.parquet',\n",
       " 'part-00072-0f1e965c-d57d-4685-9f2a-0271285f7e34-c000.zstd.parquet',\n",
       " 'part-00173-0f1e965c-d57d-4685-9f2a-0271285f7e34-c000.zstd.parquet',\n",
       " 'part-00186-0f1e965c-d57d-4685-9f2a-0271285f7e34-c000.zstd.parquet',\n",
       " 'part-00151-0f1e965c-d57d-4685-9f2a-0271285f7e34-c000.zstd.parquet',\n",
       " 'part-00187-0f1e965c-d57d-4685-9f2a-0271285f7e34-c000.zstd.parquet',\n",
       " 'part-00157-0f1e965c-d57d-4685-9f2a-0271285f7e34-c000.zstd.parquet',\n",
       " 'part-00038-0f1e965c-d57d-4685-9f2a-0271285f7e34-c000.zstd.parquet',\n",
       " 'part-00132-0f1e965c-d57d-4685-9f2a-0271285f7e34-c000.zstd.parquet',\n",
       " 'part-00094-0f1e965c-d57d-4685-9f2a-0271285f7e34-c000.zstd.parquet',\n",
       " 'part-00115-0f1e965c-d57d-4685-9f2a-0271285f7e34-c000.zstd.parquet',\n",
       " 'part-00160-0f1e965c-d57d-4685-9f2a-0271285f7e34-c000.zstd.parquet',\n",
       " 'part-00127-0f1e965c-d57d-4685-9f2a-0271285f7e34-c000.zstd.parquet',\n",
       " 'part-00030-0f1e965c-d57d-4685-9f2a-0271285f7e34-c000.zstd.parquet',\n",
       " 'part-00188-0f1e965c-d57d-4685-9f2a-0271285f7e34-c000.zstd.parquet',\n",
       " 'part-00085-0f1e965c-d57d-4685-9f2a-0271285f7e34-c000.zstd.parquet',\n",
       " 'part-00210-0f1e965c-d57d-4685-9f2a-0271285f7e34-c000.zstd.parquet',\n",
       " 'part-00172-0f1e965c-d57d-4685-9f2a-0271285f7e34-c000.zstd.parquet',\n",
       " 'part-00084-0f1e965c-d57d-4685-9f2a-0271285f7e34-c000.zstd.parquet',\n",
       " 'part-00007-0f1e965c-d57d-4685-9f2a-0271285f7e34-c000.zstd.parquet',\n",
       " 'part-00204-0f1e965c-d57d-4685-9f2a-0271285f7e34-c000.zstd.parquet',\n",
       " 'part-00097-0f1e965c-d57d-4685-9f2a-0271285f7e34-c000.zstd.parquet',\n",
       " 'part-00143-0f1e965c-d57d-4685-9f2a-0271285f7e34-c000.zstd.parquet',\n",
       " 'part-00032-0f1e965c-d57d-4685-9f2a-0271285f7e34-c000.zstd.parquet',\n",
       " 'part-00154-0f1e965c-d57d-4685-9f2a-0271285f7e34-c000.zstd.parquet',\n",
       " 'part-00181-0f1e965c-d57d-4685-9f2a-0271285f7e34-c000.zstd.parquet',\n",
       " 'part-00010-0f1e965c-d57d-4685-9f2a-0271285f7e34-c000.zstd.parquet',\n",
       " 'part-00108-0f1e965c-d57d-4685-9f2a-0271285f7e34-c000.zstd.parquet',\n",
       " 'part-00211-0f1e965c-d57d-4685-9f2a-0271285f7e34-c000.zstd.parquet',\n",
       " 'part-00114-0f1e965c-d57d-4685-9f2a-0271285f7e34-c000.zstd.parquet',\n",
       " 'part-00106-0f1e965c-d57d-4685-9f2a-0271285f7e34-c000.zstd.parquet',\n",
       " 'part-00035-0f1e965c-d57d-4685-9f2a-0271285f7e34-c000.zstd.parquet',\n",
       " 'part-00074-0f1e965c-d57d-4685-9f2a-0271285f7e34-c000.zstd.parquet',\n",
       " 'part-00135-0f1e965c-d57d-4685-9f2a-0271285f7e34-c000.zstd.parquet',\n",
       " 'part-00101-0f1e965c-d57d-4685-9f2a-0271285f7e34-c000.zstd.parquet',\n",
       " 'part-00057-0f1e965c-d57d-4685-9f2a-0271285f7e34-c000.zstd.parquet',\n",
       " 'part-00036-0f1e965c-d57d-4685-9f2a-0271285f7e34-c000.zstd.parquet',\n",
       " 'part-00031-0f1e965c-d57d-4685-9f2a-0271285f7e34-c000.zstd.parquet',\n",
       " 'part-00180-0f1e965c-d57d-4685-9f2a-0271285f7e34-c000.zstd.parquet',\n",
       " 'part-00163-0f1e965c-d57d-4685-9f2a-0271285f7e34-c000.zstd.parquet',\n",
       " 'part-00141-0f1e965c-d57d-4685-9f2a-0271285f7e34-c000.zstd.parquet',\n",
       " 'part-00048-0f1e965c-d57d-4685-9f2a-0271285f7e34-c000.zstd.parquet',\n",
       " 'part-00126-0f1e965c-d57d-4685-9f2a-0271285f7e34-c000.zstd.parquet',\n",
       " 'part-00069-0f1e965c-d57d-4685-9f2a-0271285f7e34-c000.zstd.parquet',\n",
       " 'part-00161-0f1e965c-d57d-4685-9f2a-0271285f7e34-c000.zstd.parquet',\n",
       " 'part-00201-0f1e965c-d57d-4685-9f2a-0271285f7e34-c000.zstd.parquet',\n",
       " 'part-00148-0f1e965c-d57d-4685-9f2a-0271285f7e34-c000.zstd.parquet',\n",
       " 'part-00100-0f1e965c-d57d-4685-9f2a-0271285f7e34-c000.zstd.parquet',\n",
       " 'part-00175-0f1e965c-d57d-4685-9f2a-0271285f7e34-c000.zstd.parquet',\n",
       " 'part-00063-0f1e965c-d57d-4685-9f2a-0271285f7e34-c000.zstd.parquet',\n",
       " 'part-00146-0f1e965c-d57d-4685-9f2a-0271285f7e34-c000.zstd.parquet',\n",
       " 'part-00059-0f1e965c-d57d-4685-9f2a-0271285f7e34-c000.zstd.parquet',\n",
       " 'part-00073-0f1e965c-d57d-4685-9f2a-0271285f7e34-c000.zstd.parquet',\n",
       " 'part-00066-0f1e965c-d57d-4685-9f2a-0271285f7e34-c000.zstd.parquet',\n",
       " 'part-00099-0f1e965c-d57d-4685-9f2a-0271285f7e34-c000.zstd.parquet',\n",
       " 'part-00169-0f1e965c-d57d-4685-9f2a-0271285f7e34-c000.zstd.parquet',\n",
       " 'part-00096-0f1e965c-d57d-4685-9f2a-0271285f7e34-c000.zstd.parquet',\n",
       " 'part-00195-0f1e965c-d57d-4685-9f2a-0271285f7e34-c000.zstd.parquet',\n",
       " 'part-00042-0f1e965c-d57d-4685-9f2a-0271285f7e34-c000.zstd.parquet',\n",
       " 'part-00034-0f1e965c-d57d-4685-9f2a-0271285f7e34-c000.zstd.parquet',\n",
       " 'part-00093-0f1e965c-d57d-4685-9f2a-0271285f7e34-c000.zstd.parquet',\n",
       " 'part-00133-0f1e965c-d57d-4685-9f2a-0271285f7e34-c000.zstd.parquet',\n",
       " 'part-00149-0f1e965c-d57d-4685-9f2a-0271285f7e34-c000.zstd.parquet',\n",
       " 'part-00185-0f1e965c-d57d-4685-9f2a-0271285f7e34-c000.zstd.parquet',\n",
       " 'part-00189-0f1e965c-d57d-4685-9f2a-0271285f7e34-c000.zstd.parquet',\n",
       " 'part-00109-0f1e965c-d57d-4685-9f2a-0271285f7e34-c000.zstd.parquet',\n",
       " 'part-00080-0f1e965c-d57d-4685-9f2a-0271285f7e34-c000.zstd.parquet',\n",
       " 'part-00028-0f1e965c-d57d-4685-9f2a-0271285f7e34-c000.zstd.parquet',\n",
       " 'part-00071-0f1e965c-d57d-4685-9f2a-0271285f7e34-c000.zstd.parquet',\n",
       " 'part-00166-0f1e965c-d57d-4685-9f2a-0271285f7e34-c000.zstd.parquet',\n",
       " 'part-00194-0f1e965c-d57d-4685-9f2a-0271285f7e34-c000.zstd.parquet',\n",
       " 'part-00119-0f1e965c-d57d-4685-9f2a-0271285f7e34-c000.zstd.parquet',\n",
       " 'part-00178-0f1e965c-d57d-4685-9f2a-0271285f7e34-c000.zstd.parquet',\n",
       " 'part-00025-0f1e965c-d57d-4685-9f2a-0271285f7e34-c000.zstd.parquet',\n",
       " 'part-00020-0f1e965c-d57d-4685-9f2a-0271285f7e34-c000.zstd.parquet',\n",
       " 'part-00184-0f1e965c-d57d-4685-9f2a-0271285f7e34-c000.zstd.parquet',\n",
       " 'part-00002-0f1e965c-d57d-4685-9f2a-0271285f7e34-c000.zstd.parquet',\n",
       " 'part-00075-0f1e965c-d57d-4685-9f2a-0271285f7e34-c000.zstd.parquet',\n",
       " 'part-00056-0f1e965c-d57d-4685-9f2a-0271285f7e34-c000.zstd.parquet',\n",
       " 'part-00021-0f1e965c-d57d-4685-9f2a-0271285f7e34-c000.zstd.parquet',\n",
       " 'part-00047-0f1e965c-d57d-4685-9f2a-0271285f7e34-c000.zstd.parquet',\n",
       " 'part-00092-0f1e965c-d57d-4685-9f2a-0271285f7e34-c000.zstd.parquet',\n",
       " 'part-00171-0f1e965c-d57d-4685-9f2a-0271285f7e34-c000.zstd.parquet',\n",
       " 'part-00060-0f1e965c-d57d-4685-9f2a-0271285f7e34-c000.zstd.parquet',\n",
       " 'part-00150-0f1e965c-d57d-4685-9f2a-0271285f7e34-c000.zstd.parquet',\n",
       " 'part-00016-0f1e965c-d57d-4685-9f2a-0271285f7e34-c000.zstd.parquet',\n",
       " 'part-00104-0f1e965c-d57d-4685-9f2a-0271285f7e34-c000.zstd.parquet',\n",
       " 'part-00155-0f1e965c-d57d-4685-9f2a-0271285f7e34-c000.zstd.parquet',\n",
       " 'part-00158-0f1e965c-d57d-4685-9f2a-0271285f7e34-c000.zstd.parquet',\n",
       " 'part-00118-0f1e965c-d57d-4685-9f2a-0271285f7e34-c000.zstd.parquet',\n",
       " 'part-00110-0f1e965c-d57d-4685-9f2a-0271285f7e34-c000.zstd.parquet',\n",
       " 'part-00107-0f1e965c-d57d-4685-9f2a-0271285f7e34-c000.zstd.parquet',\n",
       " 'part-00113-0f1e965c-d57d-4685-9f2a-0271285f7e34-c000.zstd.parquet',\n",
       " 'part-00008-0f1e965c-d57d-4685-9f2a-0271285f7e34-c000.zstd.parquet',\n",
       " 'part-00200-0f1e965c-d57d-4685-9f2a-0271285f7e34-c000.zstd.parquet',\n",
       " 'part-00005-0f1e965c-d57d-4685-9f2a-0271285f7e34-c000.zstd.parquet',\n",
       " 'part-00105-0f1e965c-d57d-4685-9f2a-0271285f7e34-c000.zstd.parquet',\n",
       " 'part-00058-0f1e965c-d57d-4685-9f2a-0271285f7e34-c000.zstd.parquet',\n",
       " 'part-00051-0f1e965c-d57d-4685-9f2a-0271285f7e34-c000.zstd.parquet',\n",
       " 'part-00067-0f1e965c-d57d-4685-9f2a-0271285f7e34-c000.zstd.parquet',\n",
       " 'part-00122-0f1e965c-d57d-4685-9f2a-0271285f7e34-c000.zstd.parquet',\n",
       " 'part-00139-0f1e965c-d57d-4685-9f2a-0271285f7e34-c000.zstd.parquet',\n",
       " 'part-00049-0f1e965c-d57d-4685-9f2a-0271285f7e34-c000.zstd.parquet',\n",
       " 'part-00024-0f1e965c-d57d-4685-9f2a-0271285f7e34-c000.zstd.parquet',\n",
       " 'part-00125-0f1e965c-d57d-4685-9f2a-0271285f7e34-c000.zstd.parquet',\n",
       " 'part-00170-0f1e965c-d57d-4685-9f2a-0271285f7e34-c000.zstd.parquet',\n",
       " 'part-00046-0f1e965c-d57d-4685-9f2a-0271285f7e34-c000.zstd.parquet',\n",
       " 'part-00167-0f1e965c-d57d-4685-9f2a-0271285f7e34-c000.zstd.parquet',\n",
       " 'part-00054-0f1e965c-d57d-4685-9f2a-0271285f7e34-c000.zstd.parquet',\n",
       " 'part-00144-0f1e965c-d57d-4685-9f2a-0271285f7e34-c000.zstd.parquet',\n",
       " 'part-00152-0f1e965c-d57d-4685-9f2a-0271285f7e34-c000.zstd.parquet',\n",
       " 'part-00198-0f1e965c-d57d-4685-9f2a-0271285f7e34-c000.zstd.parquet',\n",
       " 'part-00130-0f1e965c-d57d-4685-9f2a-0271285f7e34-c000.zstd.parquet',\n",
       " 'part-00064-0f1e965c-d57d-4685-9f2a-0271285f7e34-c000.zstd.parquet',\n",
       " 'part-00081-0f1e965c-d57d-4685-9f2a-0271285f7e34-c000.zstd.parquet',\n",
       " 'part-00006-0f1e965c-d57d-4685-9f2a-0271285f7e34-c000.zstd.parquet',\n",
       " 'part-00112-0f1e965c-d57d-4685-9f2a-0271285f7e34-c000.zstd.parquet',\n",
       " 'part-00077-0f1e965c-d57d-4685-9f2a-0271285f7e34-c000.zstd.parquet',\n",
       " 'part-00091-0f1e965c-d57d-4685-9f2a-0271285f7e34-c000.zstd.parquet',\n",
       " 'part-00019-0f1e965c-d57d-4685-9f2a-0271285f7e34-c000.zstd.parquet',\n",
       " 'part-00138-0f1e965c-d57d-4685-9f2a-0271285f7e34-c000.zstd.parquet',\n",
       " 'part-00095-0f1e965c-d57d-4685-9f2a-0271285f7e34-c000.zstd.parquet',\n",
       " 'part-00029-0f1e965c-d57d-4685-9f2a-0271285f7e34-c000.zstd.parquet',\n",
       " 'part-00124-0f1e965c-d57d-4685-9f2a-0271285f7e34-c000.zstd.parquet',\n",
       " 'part-00052-0f1e965c-d57d-4685-9f2a-0271285f7e34-c000.zstd.parquet',\n",
       " 'part-00086-0f1e965c-d57d-4685-9f2a-0271285f7e34-c000.zstd.parquet',\n",
       " 'part-00055-0f1e965c-d57d-4685-9f2a-0271285f7e34-c000.zstd.parquet',\n",
       " 'part-00027-0f1e965c-d57d-4685-9f2a-0271285f7e34-c000.zstd.parquet',\n",
       " 'part-00013-0f1e965c-d57d-4685-9f2a-0271285f7e34-c000.zstd.parquet',\n",
       " 'part-00004-0f1e965c-d57d-4685-9f2a-0271285f7e34-c000.zstd.parquet',\n",
       " 'part-00131-0f1e965c-d57d-4685-9f2a-0271285f7e34-c000.zstd.parquet',\n",
       " 'part-00164-0f1e965c-d57d-4685-9f2a-0271285f7e34-c000.zstd.parquet',\n",
       " 'part-00142-0f1e965c-d57d-4685-9f2a-0271285f7e34-c000.zstd.parquet',\n",
       " 'part-00117-0f1e965c-d57d-4685-9f2a-0271285f7e34-c000.zstd.parquet',\n",
       " 'part-00162-0f1e965c-d57d-4685-9f2a-0271285f7e34-c000.zstd.parquet',\n",
       " 'part-00190-0f1e965c-d57d-4685-9f2a-0271285f7e34-c000.zstd.parquet',\n",
       " 'part-00192-0f1e965c-d57d-4685-9f2a-0271285f7e34-c000.zstd.parquet',\n",
       " 'part-00045-0f1e965c-d57d-4685-9f2a-0271285f7e34-c000.zstd.parquet',\n",
       " 'part-00206-0f1e965c-d57d-4685-9f2a-0271285f7e34-c000.zstd.parquet',\n",
       " 'part-00209-0f1e965c-d57d-4685-9f2a-0271285f7e34-c000.zstd.parquet',\n",
       " 'part-00193-0f1e965c-d57d-4685-9f2a-0271285f7e34-c000.zstd.parquet',\n",
       " 'part-00023-0f1e965c-d57d-4685-9f2a-0271285f7e34-c000.zstd.parquet',\n",
       " 'part-00176-0f1e965c-d57d-4685-9f2a-0271285f7e34-c000.zstd.parquet',\n",
       " 'part-00043-0f1e965c-d57d-4685-9f2a-0271285f7e34-c000.zstd.parquet',\n",
       " 'part-00183-0f1e965c-d57d-4685-9f2a-0271285f7e34-c000.zstd.parquet',\n",
       " 'part-00129-0f1e965c-d57d-4685-9f2a-0271285f7e34-c000.zstd.parquet',\n",
       " 'part-00061-0f1e965c-d57d-4685-9f2a-0271285f7e34-c000.zstd.parquet',\n",
       " 'part-00203-0f1e965c-d57d-4685-9f2a-0271285f7e34-c000.zstd.parquet',\n",
       " 'part-00153-0f1e965c-d57d-4685-9f2a-0271285f7e34-c000.zstd.parquet',\n",
       " 'part-00134-0f1e965c-d57d-4685-9f2a-0271285f7e34-c000.zstd.parquet',\n",
       " 'part-00068-0f1e965c-d57d-4685-9f2a-0271285f7e34-c000.zstd.parquet',\n",
       " 'part-00120-0f1e965c-d57d-4685-9f2a-0271285f7e34-c000.zstd.parquet',\n",
       " 'part-00103-0f1e965c-d57d-4685-9f2a-0271285f7e34-c000.zstd.parquet',\n",
       " 'part-00037-0f1e965c-d57d-4685-9f2a-0271285f7e34-c000.zstd.parquet',\n",
       " 'part-00116-0f1e965c-d57d-4685-9f2a-0271285f7e34-c000.zstd.parquet',\n",
       " 'part-00145-0f1e965c-d57d-4685-9f2a-0271285f7e34-c000.zstd.parquet',\n",
       " 'part-00159-0f1e965c-d57d-4685-9f2a-0271285f7e34-c000.zstd.parquet',\n",
       " 'part-00128-0f1e965c-d57d-4685-9f2a-0271285f7e34-c000.zstd.parquet',\n",
       " 'part-00199-0f1e965c-d57d-4685-9f2a-0271285f7e34-c000.zstd.parquet',\n",
       " 'part-00065-0f1e965c-d57d-4685-9f2a-0271285f7e34-c000.zstd.parquet',\n",
       " 'part-00090-0f1e965c-d57d-4685-9f2a-0271285f7e34-c000.zstd.parquet',\n",
       " 'part-00123-0f1e965c-d57d-4685-9f2a-0271285f7e34-c000.zstd.parquet',\n",
       " 'part-00168-0f1e965c-d57d-4685-9f2a-0271285f7e34-c000.zstd.parquet',\n",
       " 'part-00207-0f1e965c-d57d-4685-9f2a-0271285f7e34-c000.zstd.parquet',\n",
       " 'part-00082-0f1e965c-d57d-4685-9f2a-0271285f7e34-c000.zstd.parquet',\n",
       " 'part-00202-0f1e965c-d57d-4685-9f2a-0271285f7e34-c000.zstd.parquet',\n",
       " 'part-00121-0f1e965c-d57d-4685-9f2a-0271285f7e34-c000.zstd.parquet',\n",
       " 'part-00174-0f1e965c-d57d-4685-9f2a-0271285f7e34-c000.zstd.parquet',\n",
       " 'part-00041-0f1e965c-d57d-4685-9f2a-0271285f7e34-c000.zstd.parquet',\n",
       " 'part-00212-0f1e965c-d57d-4685-9f2a-0271285f7e34-c000.zstd.parquet',\n",
       " 'part-00083-0f1e965c-d57d-4685-9f2a-0271285f7e34-c000.zstd.parquet',\n",
       " 'part-00003-0f1e965c-d57d-4685-9f2a-0271285f7e34-c000.zstd.parquet',\n",
       " 'part-00009-0f1e965c-d57d-4685-9f2a-0271285f7e34-c000.zstd.parquet',\n",
       " 'part-00000-0f1e965c-d57d-4685-9f2a-0271285f7e34-c000.zstd.parquet',\n",
       " 'part-00018-0f1e965c-d57d-4685-9f2a-0271285f7e34-c000.zstd.parquet',\n",
       " 'part-00147-0f1e965c-d57d-4685-9f2a-0271285f7e34-c000.zstd.parquet',\n",
       " 'part-00182-0f1e965c-d57d-4685-9f2a-0271285f7e34-c000.zstd.parquet',\n",
       " 'part-00014-0f1e965c-d57d-4685-9f2a-0271285f7e34-c000.zstd.parquet',\n",
       " 'part-00089-0f1e965c-d57d-4685-9f2a-0271285f7e34-c000.zstd.parquet',\n",
       " 'part-00011-0f1e965c-d57d-4685-9f2a-0271285f7e34-c000.zstd.parquet',\n",
       " 'part-00015-0f1e965c-d57d-4685-9f2a-0271285f7e34-c000.zstd.parquet',\n",
       " 'part-00040-0f1e965c-d57d-4685-9f2a-0271285f7e34-c000.zstd.parquet',\n",
       " 'part-00039-0f1e965c-d57d-4685-9f2a-0271285f7e34-c000.zstd.parquet',\n",
       " 'part-00050-0f1e965c-d57d-4685-9f2a-0271285f7e34-c000.zstd.parquet',\n",
       " 'part-00022-0f1e965c-d57d-4685-9f2a-0271285f7e34-c000.zstd.parquet',\n",
       " 'part-00156-0f1e965c-d57d-4685-9f2a-0271285f7e34-c000.zstd.parquet',\n",
       " 'part-00197-0f1e965c-d57d-4685-9f2a-0271285f7e34-c000.zstd.parquet',\n",
       " 'part-00001-0f1e965c-d57d-4685-9f2a-0271285f7e34-c000.zstd.parquet',\n",
       " 'part-00177-0f1e965c-d57d-4685-9f2a-0271285f7e34-c000.zstd.parquet',\n",
       " 'part-00076-0f1e965c-d57d-4685-9f2a-0271285f7e34-c000.zstd.parquet',\n",
       " 'part-00098-0f1e965c-d57d-4685-9f2a-0271285f7e34-c000.zstd.parquet',\n",
       " 'part-00053-0f1e965c-d57d-4685-9f2a-0271285f7e34-c000.zstd.parquet',\n",
       " 'part-00111-0f1e965c-d57d-4685-9f2a-0271285f7e34-c000.zstd.parquet',\n",
       " 'part-00136-0f1e965c-d57d-4685-9f2a-0271285f7e34-c000.zstd.parquet',\n",
       " 'part-00179-0f1e965c-d57d-4685-9f2a-0271285f7e34-c000.zstd.parquet',\n",
       " 'part-00137-0f1e965c-d57d-4685-9f2a-0271285f7e34-c000.zstd.parquet',\n",
       " 'part-00012-0f1e965c-d57d-4685-9f2a-0271285f7e34-c000.zstd.parquet']"
      ]
     },
     "execution_count": 18,
     "metadata": {},
     "output_type": "execute_result"
    }
   ],
   "source": [
    "parquet_files"
   ]
  },
  {
   "cell_type": "code",
   "execution_count": 20,
   "id": "7374399d-29bb-4cbb-9409-5b56093634ba",
   "metadata": {
    "execution": {
     "iopub.execute_input": "2024-06-14T04:51:04.194267Z",
     "iopub.status.busy": "2024-06-14T04:51:04.193882Z",
     "iopub.status.idle": "2024-06-14T04:52:14.801608Z",
     "shell.execute_reply": "2024-06-14T04:52:14.800921Z",
     "shell.execute_reply.started": "2024-06-14T04:51:04.194243Z"
    }
   },
   "outputs": [],
   "source": [
    "bldg = gpd.read_parquet(\"../../data/overture/release/theme=buildings/type=building/part-00004-0f1e965c-d57d-4685-9f2a-0271285f7e34-c000.zstd.parquet\")"
   ]
  },
  {
   "cell_type": "code",
   "execution_count": 27,
   "id": "b399ead8-0733-4f36-91f5-fa0a6c2442e4",
   "metadata": {
    "execution": {
     "iopub.execute_input": "2024-06-14T05:01:58.402168Z",
     "iopub.status.busy": "2024-06-14T05:01:58.401761Z",
     "iopub.status.idle": "2024-06-14T05:01:58.834252Z",
     "shell.execute_reply": "2024-06-14T05:01:58.833691Z",
     "shell.execute_reply.started": "2024-06-14T05:01:58.402144Z"
    }
   },
   "outputs": [
    {
     "data": {
      "text/html": [
       "<div>\n",
       "<style scoped>\n",
       "    .dataframe tbody tr th:only-of-type {\n",
       "        vertical-align: middle;\n",
       "    }\n",
       "\n",
       "    .dataframe tbody tr th {\n",
       "        vertical-align: top;\n",
       "    }\n",
       "\n",
       "    .dataframe thead th {\n",
       "        text-align: right;\n",
       "    }\n",
       "</style>\n",
       "<table border=\"1\" class=\"dataframe\">\n",
       "  <thead>\n",
       "    <tr style=\"text-align: right;\">\n",
       "      <th></th>\n",
       "      <th>id</th>\n",
       "      <th>geometry</th>\n",
       "      <th>bbox</th>\n",
       "      <th>version</th>\n",
       "      <th>update_time</th>\n",
       "      <th>sources</th>\n",
       "      <th>subtype</th>\n",
       "      <th>names</th>\n",
       "      <th>class</th>\n",
       "      <th>level</th>\n",
       "      <th>...</th>\n",
       "      <th>min_height</th>\n",
       "      <th>min_floor</th>\n",
       "      <th>facade_color</th>\n",
       "      <th>facade_material</th>\n",
       "      <th>roof_material</th>\n",
       "      <th>roof_shape</th>\n",
       "      <th>roof_direction</th>\n",
       "      <th>roof_orientation</th>\n",
       "      <th>roof_color</th>\n",
       "      <th>roof_height</th>\n",
       "    </tr>\n",
       "  </thead>\n",
       "  <tbody>\n",
       "  </tbody>\n",
       "</table>\n",
       "<p>0 rows × 23 columns</p>\n",
       "</div>"
      ],
      "text/plain": [
       "Empty GeoDataFrame\n",
       "Columns: [id, geometry, bbox, version, update_time, sources, subtype, names, class, level, has_parts, height, num_floors, min_height, min_floor, facade_color, facade_material, roof_material, roof_shape, roof_direction, roof_orientation, roof_color, roof_height]\n",
       "Index: []\n",
       "\n",
       "[0 rows x 23 columns]"
      ]
     },
     "execution_count": 27,
     "metadata": {},
     "output_type": "execute_result"
    }
   ],
   "source": [
    "bldg[bldg.bbox.isna()]"
   ]
  },
  {
   "cell_type": "code",
   "execution_count": 32,
   "id": "bdbe3deb-6123-4b79-86b4-fe001813cca2",
   "metadata": {
    "execution": {
     "iopub.execute_input": "2024-06-14T05:06:24.806920Z",
     "iopub.status.busy": "2024-06-14T05:06:24.806522Z",
     "iopub.status.idle": "2024-06-14T05:38:53.050065Z",
     "shell.execute_reply": "2024-06-14T05:38:53.049080Z",
     "shell.execute_reply.started": "2024-06-14T05:06:24.806895Z"
    }
   },
   "outputs": [],
   "source": [
    "bldg = pd.concat([bldg.drop(['bbox'], axis=1), bldg['bbox'].apply(pd.Series)], axis=1)"
   ]
  },
  {
   "cell_type": "code",
   "execution_count": 33,
   "id": "b8d7252c-9fb2-4b2e-9532-e7c06c7f7797",
   "metadata": {
    "execution": {
     "iopub.execute_input": "2024-06-14T06:12:26.071793Z",
     "iopub.status.busy": "2024-06-14T06:12:26.071371Z",
     "iopub.status.idle": "2024-06-14T06:12:26.076873Z",
     "shell.execute_reply": "2024-06-14T06:12:26.076258Z",
     "shell.execute_reply.started": "2024-06-14T06:12:26.071767Z"
    }
   },
   "outputs": [
    {
     "data": {
      "text/plain": [
       "(11458746, 26)"
      ]
     },
     "execution_count": 33,
     "metadata": {},
     "output_type": "execute_result"
    }
   ],
   "source": [
    "bldg.shape"
   ]
  },
  {
   "cell_type": "code",
   "execution_count": 34,
   "id": "f9861905-34a0-4dd3-956b-bda31b58ec61",
   "metadata": {
    "execution": {
     "iopub.execute_input": "2024-06-14T06:12:30.839419Z",
     "iopub.status.busy": "2024-06-14T06:12:30.839046Z",
     "iopub.status.idle": "2024-06-14T06:12:30.863446Z",
     "shell.execute_reply": "2024-06-14T06:12:30.862894Z",
     "shell.execute_reply.started": "2024-06-14T06:12:30.839394Z"
    }
   },
   "outputs": [
    {
     "data": {
      "text/html": [
       "<div>\n",
       "<style scoped>\n",
       "    .dataframe tbody tr th:only-of-type {\n",
       "        vertical-align: middle;\n",
       "    }\n",
       "\n",
       "    .dataframe tbody tr th {\n",
       "        vertical-align: top;\n",
       "    }\n",
       "\n",
       "    .dataframe thead th {\n",
       "        text-align: right;\n",
       "    }\n",
       "</style>\n",
       "<table border=\"1\" class=\"dataframe\">\n",
       "  <thead>\n",
       "    <tr style=\"text-align: right;\">\n",
       "      <th></th>\n",
       "      <th>id</th>\n",
       "      <th>geometry</th>\n",
       "      <th>version</th>\n",
       "      <th>update_time</th>\n",
       "      <th>sources</th>\n",
       "      <th>subtype</th>\n",
       "      <th>names</th>\n",
       "      <th>class</th>\n",
       "      <th>level</th>\n",
       "      <th>has_parts</th>\n",
       "      <th>...</th>\n",
       "      <th>roof_material</th>\n",
       "      <th>roof_shape</th>\n",
       "      <th>roof_direction</th>\n",
       "      <th>roof_orientation</th>\n",
       "      <th>roof_color</th>\n",
       "      <th>roof_height</th>\n",
       "      <th>xmin</th>\n",
       "      <th>xmax</th>\n",
       "      <th>ymin</th>\n",
       "      <th>ymax</th>\n",
       "    </tr>\n",
       "  </thead>\n",
       "  <tbody>\n",
       "    <tr>\n",
       "      <th>0</th>\n",
       "      <td>08ba901759a6bfff0200ef5430350689</td>\n",
       "      <td>POLYGON ((-51.06069 -30.09087, -51.06071 -30.0...</td>\n",
       "      <td>0</td>\n",
       "      <td>2024-06-10T07:15:57.887Z</td>\n",
       "      <td>[{'property': '', 'dataset': 'Google Open Buil...</td>\n",
       "      <td>None</td>\n",
       "      <td>None</td>\n",
       "      <td>None</td>\n",
       "      <td>NaN</td>\n",
       "      <td>False</td>\n",
       "      <td>...</td>\n",
       "      <td>None</td>\n",
       "      <td>None</td>\n",
       "      <td>NaN</td>\n",
       "      <td>None</td>\n",
       "      <td>None</td>\n",
       "      <td>NaN</td>\n",
       "      <td>-51.060780</td>\n",
       "      <td>-51.060692</td>\n",
       "      <td>-30.090895</td>\n",
       "      <td>-30.090826</td>\n",
       "    </tr>\n",
       "    <tr>\n",
       "      <th>1</th>\n",
       "      <td>08ba901664d36fff020092778f206858</td>\n",
       "      <td>POLYGON ((-51.06093 -30.09070, -51.06097 -30.0...</td>\n",
       "      <td>0</td>\n",
       "      <td>2024-06-10T07:15:57.887Z</td>\n",
       "      <td>[{'property': '', 'dataset': 'Google Open Buil...</td>\n",
       "      <td>None</td>\n",
       "      <td>None</td>\n",
       "      <td>None</td>\n",
       "      <td>NaN</td>\n",
       "      <td>False</td>\n",
       "      <td>...</td>\n",
       "      <td>None</td>\n",
       "      <td>None</td>\n",
       "      <td>NaN</td>\n",
       "      <td>None</td>\n",
       "      <td>None</td>\n",
       "      <td>NaN</td>\n",
       "      <td>-51.061043</td>\n",
       "      <td>-51.060928</td>\n",
       "      <td>-30.090729</td>\n",
       "      <td>-30.090612</td>\n",
       "    </tr>\n",
       "    <tr>\n",
       "      <th>2</th>\n",
       "      <td>08ba901664d36fff0200b2af8f83c7f8</td>\n",
       "      <td>POLYGON ((-51.06093 -30.09059, -51.06092 -30.0...</td>\n",
       "      <td>0</td>\n",
       "      <td>2024-06-10T07:15:57.887Z</td>\n",
       "      <td>[{'property': '', 'dataset': 'Microsoft ML Bui...</td>\n",
       "      <td>None</td>\n",
       "      <td>None</td>\n",
       "      <td>None</td>\n",
       "      <td>NaN</td>\n",
       "      <td>False</td>\n",
       "      <td>...</td>\n",
       "      <td>None</td>\n",
       "      <td>None</td>\n",
       "      <td>NaN</td>\n",
       "      <td>None</td>\n",
       "      <td>None</td>\n",
       "      <td>NaN</td>\n",
       "      <td>-51.060932</td>\n",
       "      <td>-51.060825</td>\n",
       "      <td>-30.090694</td>\n",
       "      <td>-30.090580</td>\n",
       "    </tr>\n",
       "    <tr>\n",
       "      <th>3</th>\n",
       "      <td>08ba901664d32fff02005e1a3a04dec9</td>\n",
       "      <td>POLYGON ((-51.06096 -30.09060, -51.06090 -30.0...</td>\n",
       "      <td>0</td>\n",
       "      <td>2024-06-10T07:15:57.887Z</td>\n",
       "      <td>[{'property': '', 'dataset': 'Microsoft ML Bui...</td>\n",
       "      <td>None</td>\n",
       "      <td>None</td>\n",
       "      <td>None</td>\n",
       "      <td>NaN</td>\n",
       "      <td>False</td>\n",
       "      <td>...</td>\n",
       "      <td>None</td>\n",
       "      <td>None</td>\n",
       "      <td>NaN</td>\n",
       "      <td>None</td>\n",
       "      <td>None</td>\n",
       "      <td>NaN</td>\n",
       "      <td>-51.060986</td>\n",
       "      <td>-51.060894</td>\n",
       "      <td>-30.090599</td>\n",
       "      <td>-30.090494</td>\n",
       "    </tr>\n",
       "    <tr>\n",
       "      <th>4</th>\n",
       "      <td>08ba901664d32fff02007184a7871b55</td>\n",
       "      <td>POLYGON ((-51.06091 -30.09055, -51.06089 -30.0...</td>\n",
       "      <td>0</td>\n",
       "      <td>2024-06-10T07:15:57.887Z</td>\n",
       "      <td>[{'property': '', 'dataset': 'Microsoft ML Bui...</td>\n",
       "      <td>None</td>\n",
       "      <td>None</td>\n",
       "      <td>None</td>\n",
       "      <td>NaN</td>\n",
       "      <td>False</td>\n",
       "      <td>...</td>\n",
       "      <td>None</td>\n",
       "      <td>None</td>\n",
       "      <td>NaN</td>\n",
       "      <td>None</td>\n",
       "      <td>None</td>\n",
       "      <td>NaN</td>\n",
       "      <td>-51.060913</td>\n",
       "      <td>-51.060814</td>\n",
       "      <td>-30.090586</td>\n",
       "      <td>-30.090528</td>\n",
       "    </tr>\n",
       "  </tbody>\n",
       "</table>\n",
       "<p>5 rows × 26 columns</p>\n",
       "</div>"
      ],
      "text/plain": [
       "                                 id  \\\n",
       "0  08ba901759a6bfff0200ef5430350689   \n",
       "1  08ba901664d36fff020092778f206858   \n",
       "2  08ba901664d36fff0200b2af8f83c7f8   \n",
       "3  08ba901664d32fff02005e1a3a04dec9   \n",
       "4  08ba901664d32fff02007184a7871b55   \n",
       "\n",
       "                                            geometry  version  \\\n",
       "0  POLYGON ((-51.06069 -30.09087, -51.06071 -30.0...        0   \n",
       "1  POLYGON ((-51.06093 -30.09070, -51.06097 -30.0...        0   \n",
       "2  POLYGON ((-51.06093 -30.09059, -51.06092 -30.0...        0   \n",
       "3  POLYGON ((-51.06096 -30.09060, -51.06090 -30.0...        0   \n",
       "4  POLYGON ((-51.06091 -30.09055, -51.06089 -30.0...        0   \n",
       "\n",
       "                update_time  \\\n",
       "0  2024-06-10T07:15:57.887Z   \n",
       "1  2024-06-10T07:15:57.887Z   \n",
       "2  2024-06-10T07:15:57.887Z   \n",
       "3  2024-06-10T07:15:57.887Z   \n",
       "4  2024-06-10T07:15:57.887Z   \n",
       "\n",
       "                                             sources subtype names class  \\\n",
       "0  [{'property': '', 'dataset': 'Google Open Buil...    None  None  None   \n",
       "1  [{'property': '', 'dataset': 'Google Open Buil...    None  None  None   \n",
       "2  [{'property': '', 'dataset': 'Microsoft ML Bui...    None  None  None   \n",
       "3  [{'property': '', 'dataset': 'Microsoft ML Bui...    None  None  None   \n",
       "4  [{'property': '', 'dataset': 'Microsoft ML Bui...    None  None  None   \n",
       "\n",
       "   level  has_parts  ...  roof_material  roof_shape  roof_direction  \\\n",
       "0    NaN      False  ...           None        None             NaN   \n",
       "1    NaN      False  ...           None        None             NaN   \n",
       "2    NaN      False  ...           None        None             NaN   \n",
       "3    NaN      False  ...           None        None             NaN   \n",
       "4    NaN      False  ...           None        None             NaN   \n",
       "\n",
       "   roof_orientation roof_color roof_height       xmin       xmax       ymin  \\\n",
       "0              None       None         NaN -51.060780 -51.060692 -30.090895   \n",
       "1              None       None         NaN -51.061043 -51.060928 -30.090729   \n",
       "2              None       None         NaN -51.060932 -51.060825 -30.090694   \n",
       "3              None       None         NaN -51.060986 -51.060894 -30.090599   \n",
       "4              None       None         NaN -51.060913 -51.060814 -30.090586   \n",
       "\n",
       "        ymax  \n",
       "0 -30.090826  \n",
       "1 -30.090612  \n",
       "2 -30.090580  \n",
       "3 -30.090494  \n",
       "4 -30.090528  \n",
       "\n",
       "[5 rows x 26 columns]"
      ]
     },
     "execution_count": 34,
     "metadata": {},
     "output_type": "execute_result"
    }
   ],
   "source": [
    "bldg.head()"
   ]
  },
  {
   "cell_type": "code",
   "execution_count": 29,
   "id": "eb946f01-5366-4692-8808-abb8fc134759",
   "metadata": {
    "execution": {
     "iopub.execute_input": "2024-06-14T05:02:46.682414Z",
     "iopub.status.busy": "2024-06-14T05:02:46.682045Z",
     "iopub.status.idle": "2024-06-14T05:02:46.687043Z",
     "shell.execute_reply": "2024-06-14T05:02:46.686471Z",
     "shell.execute_reply.started": "2024-06-14T05:02:46.682389Z"
    }
   },
   "outputs": [
    {
     "data": {
      "text/plain": [
       "{'xmin': -51.0607795715332,\n",
       " 'xmax': -51.060691833496094,\n",
       " 'ymin': -30.09089469909668,\n",
       " 'ymax': -30.0908260345459}"
      ]
     },
     "execution_count": 29,
     "metadata": {},
     "output_type": "execute_result"
    }
   ],
   "source": [
    "bldg.iloc[0].bbox"
   ]
  },
  {
   "cell_type": "code",
   "execution_count": null,
   "id": "ada3dcca-72bb-4e3a-9b1d-47fe14f15460",
   "metadata": {},
   "outputs": [],
   "source": [
    "bldg.query(\"xmin > -66\")"
   ]
  },
  {
   "cell_type": "code",
   "execution_count": 35,
   "id": "329e404c-2d0a-4953-9cc6-8e9674c0dae4",
   "metadata": {
    "execution": {
     "iopub.execute_input": "2024-06-14T06:12:46.384129Z",
     "iopub.status.busy": "2024-06-14T06:12:46.383743Z",
     "iopub.status.idle": "2024-06-14T06:12:48.560010Z",
     "shell.execute_reply": "2024-06-14T06:12:48.559428Z",
     "shell.execute_reply.started": "2024-06-14T06:12:46.384106Z"
    }
   },
   "outputs": [
    {
     "data": {
      "text/html": [
       "<div>\n",
       "<style scoped>\n",
       "    .dataframe tbody tr th:only-of-type {\n",
       "        vertical-align: middle;\n",
       "    }\n",
       "\n",
       "    .dataframe tbody tr th {\n",
       "        vertical-align: top;\n",
       "    }\n",
       "\n",
       "    .dataframe thead th {\n",
       "        text-align: right;\n",
       "    }\n",
       "</style>\n",
       "<table border=\"1\" class=\"dataframe\">\n",
       "  <thead>\n",
       "    <tr style=\"text-align: right;\">\n",
       "      <th></th>\n",
       "      <th>id</th>\n",
       "      <th>geometry</th>\n",
       "      <th>version</th>\n",
       "      <th>update_time</th>\n",
       "      <th>sources</th>\n",
       "      <th>subtype</th>\n",
       "      <th>names</th>\n",
       "      <th>class</th>\n",
       "      <th>level</th>\n",
       "      <th>has_parts</th>\n",
       "      <th>...</th>\n",
       "      <th>roof_material</th>\n",
       "      <th>roof_shape</th>\n",
       "      <th>roof_direction</th>\n",
       "      <th>roof_orientation</th>\n",
       "      <th>roof_color</th>\n",
       "      <th>roof_height</th>\n",
       "      <th>xmin</th>\n",
       "      <th>xmax</th>\n",
       "      <th>ymin</th>\n",
       "      <th>ymax</th>\n",
       "    </tr>\n",
       "  </thead>\n",
       "  <tbody>\n",
       "  </tbody>\n",
       "</table>\n",
       "<p>0 rows × 26 columns</p>\n",
       "</div>"
      ],
      "text/plain": [
       "Empty GeoDataFrame\n",
       "Columns: [id, geometry, version, update_time, sources, subtype, names, class, level, has_parts, height, num_floors, min_height, min_floor, facade_color, facade_material, roof_material, roof_shape, roof_direction, roof_orientation, roof_color, roof_height, xmin, xmax, ymin, ymax]\n",
       "Index: []\n",
       "\n",
       "[0 rows x 26 columns]"
      ]
     },
     "execution_count": 35,
     "metadata": {},
     "output_type": "execute_result"
    }
   ],
   "source": [
    "bldg.cx[-125:-66, 24:50]"
   ]
  },
  {
   "cell_type": "code",
   "execution_count": 57,
   "id": "a7c11b09-dc4e-4ba1-8235-ba9164f44756",
   "metadata": {
    "execution": {
     "iopub.execute_input": "2024-06-16T02:03:37.364253Z",
     "iopub.status.busy": "2024-06-16T02:03:37.363825Z",
     "iopub.status.idle": "2024-06-16T02:03:37.367457Z",
     "shell.execute_reply": "2024-06-16T02:03:37.366851Z",
     "shell.execute_reply.started": "2024-06-16T02:03:37.364227Z"
    }
   },
   "outputs": [],
   "source": [
    "del bldg"
   ]
  },
  {
   "cell_type": "code",
   "execution_count": 41,
   "id": "4dd8091b-19d4-4524-887f-3cd15b78c958",
   "metadata": {
    "execution": {
     "iopub.execute_input": "2024-06-14T06:14:10.891781Z",
     "iopub.status.busy": "2024-06-14T06:14:10.891382Z",
     "iopub.status.idle": "2024-06-14T20:09:06.197480Z",
     "shell.execute_reply": "2024-06-14T20:09:06.196302Z",
     "shell.execute_reply.started": "2024-06-14T06:14:10.891755Z"
    }
   },
   "outputs": [
    {
     "name": "stdout",
     "output_type": "stream",
     "text": [
      "0\n",
      "0\n",
      "0\n",
      "11225866\n",
      "0\n",
      "0\n",
      "0\n",
      "0\n",
      "0\n",
      "0\n",
      "0\n",
      "0\n",
      "0\n",
      "0\n",
      "0\n",
      "0\n",
      "0\n",
      "0\n",
      "0\n",
      "0\n",
      "0\n",
      "0\n",
      "0\n",
      "11419136\n",
      "0\n",
      "0\n",
      "0\n",
      "0\n",
      "0\n",
      "0\n",
      "0\n",
      "0\n",
      "0\n",
      "0\n",
      "0\n",
      "0\n",
      "0\n",
      "0\n",
      "0\n",
      "0\n",
      "0\n",
      "0\n",
      "0\n",
      "0\n",
      "0\n",
      "0\n",
      "0\n",
      "5081794\n",
      "0\n",
      "0\n",
      "0\n",
      "0\n",
      "11435373\n",
      "0\n",
      "0\n",
      "0\n",
      "0\n",
      "0\n",
      "0\n",
      "0\n",
      "0\n",
      "0\n",
      "0\n",
      "0\n",
      "0\n",
      "0\n",
      "0\n",
      "0\n",
      "0\n",
      "0\n",
      "0\n",
      "0\n",
      "0\n",
      "0\n",
      "11376765\n",
      "0\n",
      "0\n",
      "0\n",
      "0\n",
      "0\n",
      "0\n",
      "0\n",
      "0\n",
      "11134307\n",
      "0\n",
      "0\n",
      "0\n",
      "0\n",
      "0\n",
      "11576059\n",
      "0\n",
      "0\n",
      "0\n",
      "0\n",
      "0\n",
      "669505\n",
      "0\n",
      "0\n",
      "0\n",
      "0\n",
      "0\n",
      "0\n",
      "0\n",
      "0\n",
      "0\n",
      "0\n",
      "0\n",
      "0\n",
      "0\n",
      "0\n",
      "0\n",
      "0\n",
      "0\n",
      "0\n",
      "42599\n",
      "0\n",
      "0\n",
      "0\n",
      "0\n",
      "9389198\n",
      "0\n",
      "0\n",
      "0\n",
      "0\n",
      "0\n",
      "0\n",
      "0\n",
      "0\n",
      "0\n",
      "0\n",
      "0\n",
      "0\n",
      "0\n",
      "0\n",
      "0\n",
      "0\n",
      "0\n",
      "0\n",
      "6685750\n",
      "0\n",
      "0\n",
      "0\n",
      "0\n",
      "11540405\n",
      "0\n",
      "0\n",
      "0\n",
      "0\n",
      "0\n",
      "0\n",
      "0\n",
      "0\n",
      "0\n",
      "0\n",
      "0\n",
      "0\n",
      "0\n",
      "10557099\n",
      "0\n",
      "4399225\n",
      "0\n",
      "0\n",
      "0\n",
      "0\n",
      "0\n",
      "0\n",
      "0\n",
      "0\n",
      "0\n",
      "11466786\n",
      "0\n",
      "0\n",
      "0\n",
      "0\n",
      "0\n",
      "0\n",
      "0\n",
      "0\n",
      "0\n",
      "0\n",
      "0\n",
      "0\n",
      "0\n",
      "0\n",
      "11530814\n",
      "0\n",
      "0\n",
      "0\n",
      "0\n",
      "0\n",
      "0\n",
      "0\n",
      "0\n",
      "0\n",
      "0\n",
      "0\n",
      "0\n",
      "11439591\n",
      "11495131\n",
      "4758385\n",
      "11438669\n",
      "0\n",
      "0\n",
      "0\n",
      "0\n",
      "0\n",
      "0\n",
      "0\n",
      "0\n",
      "0\n",
      "0\n",
      "0\n",
      "0\n"
     ]
    }
   ],
   "source": [
    "res = []\n",
    "for pf in glob.glob(f\"{overture_root}/theme=buildings/type=building/*.parquet\"):\n",
    "    gdf = gpd.read_parquet(pf)\n",
    "    gdf = gdf.cx[-125:-66, 24:50]\n",
    "    print(gdf.shape[0])\n",
    "    # Apply the function to the DataFrame column\n",
    "    gdf = pd.concat([gdf.drop(['bbox'], axis=1), gdf['bbox'].apply(pd.Series)], axis=1)\n",
    "    #gdf.loc[:,'names_value'] = gdf['names'].apply(lambda x: x['common'][0]['value'])\n",
    "    #gdf.loc[:,'main_cat'] = gdf['categories'].apply(lambda x: x['main'])\n",
    "    gdf = gdf[['id','geometry']]\n",
    "    res.append(gdf)"
   ]
  },
  {
   "cell_type": "code",
   "execution_count": 42,
   "id": "019ecacc-97a4-486f-920f-2e4b426730e5",
   "metadata": {
    "execution": {
     "iopub.execute_input": "2024-06-14T20:09:06.200303Z",
     "iopub.status.busy": "2024-06-14T20:09:06.199901Z",
     "iopub.status.idle": "2024-06-14T20:21:34.118621Z",
     "shell.execute_reply": "2024-06-14T20:21:34.117499Z",
     "shell.execute_reply.started": "2024-06-14T20:09:06.200270Z"
    }
   },
   "outputs": [],
   "source": [
    "us_bldg = pd.concat(res)\n",
    "us_bldg.crs = \"EPSG:4326\"\n",
    "us_bldg.to_parquet(\"../../data/overture/us_buildings.parquet\")"
   ]
  },
  {
   "cell_type": "code",
   "execution_count": 45,
   "id": "d9e43c30-8d2a-45d9-82b8-89178b7b59e1",
   "metadata": {
    "execution": {
     "iopub.execute_input": "2024-06-16T01:46:37.651959Z",
     "iopub.status.busy": "2024-06-16T01:46:37.651452Z",
     "iopub.status.idle": "2024-06-16T01:46:52.023527Z",
     "shell.execute_reply": "2024-06-16T01:46:52.022884Z",
     "shell.execute_reply.started": "2024-06-16T01:46:37.651931Z"
    }
   },
   "outputs": [],
   "source": [
    "us_bldg.sample(10000).to_parquet(\"../../data/overture/us_buildings_10k.parquet\")"
   ]
  },
  {
   "cell_type": "code",
   "execution_count": null,
   "id": "7774f7a6-33d5-4e90-a5f2-2714e435f5bd",
   "metadata": {},
   "outputs": [],
   "source": []
  }
 ],
 "metadata": {
  "kernelspec": {
   "display_name": "Python 3 (ipykernel)",
   "language": "python",
   "name": "python3"
  },
  "language_info": {
   "codemirror_mode": {
    "name": "ipython",
    "version": 3
   },
   "file_extension": ".py",
   "mimetype": "text/x-python",
   "name": "python",
   "nbconvert_exporter": "python",
   "pygments_lexer": "ipython3",
   "version": "3.9.12"
  }
 },
 "nbformat": 4,
 "nbformat_minor": 5
}
