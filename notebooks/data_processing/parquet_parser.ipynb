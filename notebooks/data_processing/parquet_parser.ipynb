{
 "cells": [
  {
   "cell_type": "markdown",
   "id": "f00d6245-9dfa-4097-8276-92729f1c2fde",
   "metadata": {},
   "source": [
    "# Parquet file parser"
   ]
  },
  {
   "cell_type": "code",
   "execution_count": 178,
   "id": "012dd8e7-232f-4506-bbbc-5c08110f5c11",
   "metadata": {
    "execution": {
     "iopub.execute_input": "2024-07-02T23:57:17.295445Z",
     "iopub.status.busy": "2024-07-02T23:57:17.295063Z",
     "iopub.status.idle": "2024-07-02T23:57:17.298858Z",
     "shell.execute_reply": "2024-07-02T23:57:17.298253Z",
     "shell.execute_reply.started": "2024-07-02T23:57:17.295420Z"
    }
   },
   "outputs": [],
   "source": [
    "import pyarrow as pa\n",
    "import pyarrow.parquet as pq\n",
    "import geopandas as gpd\n",
    "from shapely import wkb\n",
    "import struct\n",
    "import io\n",
    "import os"
   ]
  },
  {
   "cell_type": "code",
   "execution_count": 7,
   "id": "204f121b-3946-4bfa-a961-24dffdccf25f",
   "metadata": {
    "execution": {
     "iopub.execute_input": "2024-07-02T04:47:59.956778Z",
     "iopub.status.busy": "2024-07-02T04:47:59.956393Z",
     "iopub.status.idle": "2024-07-02T04:47:59.983794Z",
     "shell.execute_reply": "2024-07-02T04:47:59.983254Z",
     "shell.execute_reply.started": "2024-07-02T04:47:59.956755Z"
    }
   },
   "outputs": [],
   "source": [
    "import parquet_tools"
   ]
  },
  {
   "cell_type": "code",
   "execution_count": 9,
   "id": "0f11f80a-bcac-4cb4-930d-9444e75f1187",
   "metadata": {
    "execution": {
     "iopub.execute_input": "2024-07-02T04:50:29.800817Z",
     "iopub.status.busy": "2024-07-02T04:50:29.800415Z",
     "iopub.status.idle": "2024-07-02T04:50:30.007604Z",
     "shell.execute_reply": "2024-07-02T04:50:30.007015Z",
     "shell.execute_reply.started": "2024-07-02T04:50:29.800793Z"
    }
   },
   "outputs": [],
   "source": [
    "from parquet_tools.gen_py.parquet.ttypes import FileMetaData\n",
    "from thrift.protocol import TCompactProtocol\n",
    "from thrift.transport import TTransport"
   ]
  },
  {
   "cell_type": "code",
   "execution_count": 225,
   "id": "c68d8e44-22e8-459d-8786-c418d2066676",
   "metadata": {
    "execution": {
     "iopub.execute_input": "2024-07-03T02:22:04.285726Z",
     "iopub.status.busy": "2024-07-03T02:22:04.285329Z",
     "iopub.status.idle": "2024-07-03T02:23:02.887583Z",
     "shell.execute_reply": "2024-07-03T02:23:02.886889Z",
     "shell.execute_reply.started": "2024-07-03T02:22:04.285702Z"
    }
   },
   "outputs": [],
   "source": [
    "us_places = gpd.read_parquet(\"../../data/overture/us_places_bkgh.parquet\")"
   ]
  },
  {
   "cell_type": "code",
   "execution_count": 227,
   "id": "e220b6d1-1eed-46c1-a1d6-eef9d13bd0b5",
   "metadata": {
    "execution": {
     "iopub.execute_input": "2024-07-03T05:44:12.829077Z",
     "iopub.status.busy": "2024-07-03T05:44:12.828659Z",
     "iopub.status.idle": "2024-07-03T05:44:48.424097Z",
     "shell.execute_reply": "2024-07-03T05:44:48.423437Z",
     "shell.execute_reply.started": "2024-07-03T05:44:12.829051Z"
    }
   },
   "outputs": [],
   "source": [
    "us_places = gpd.read_parquet(\"../../data/overture/us_places_gh_sorted.parquet\")"
   ]
  },
  {
   "cell_type": "code",
   "execution_count": 228,
   "id": "ee07144a-82ef-46fe-8318-567e2e4aa0f3",
   "metadata": {
    "execution": {
     "iopub.execute_input": "2024-07-03T05:44:52.798580Z",
     "iopub.status.busy": "2024-07-03T05:44:52.798181Z",
     "iopub.status.idle": "2024-07-03T05:44:52.808546Z",
     "shell.execute_reply": "2024-07-03T05:44:52.808014Z",
     "shell.execute_reply.started": "2024-07-03T05:44:52.798555Z"
    }
   },
   "outputs": [
    {
     "data": {
      "text/html": [
       "<div>\n",
       "<style scoped>\n",
       "    .dataframe tbody tr th:only-of-type {\n",
       "        vertical-align: middle;\n",
       "    }\n",
       "\n",
       "    .dataframe tbody tr th {\n",
       "        vertical-align: top;\n",
       "    }\n",
       "\n",
       "    .dataframe thead th {\n",
       "        text-align: right;\n",
       "    }\n",
       "</style>\n",
       "<table border=\"1\" class=\"dataframe\">\n",
       "  <thead>\n",
       "    <tr style=\"text-align: right;\">\n",
       "      <th></th>\n",
       "      <th>id</th>\n",
       "      <th>names_value</th>\n",
       "      <th>main_cat</th>\n",
       "      <th>geometry</th>\n",
       "    </tr>\n",
       "  </thead>\n",
       "  <tbody>\n",
       "    <tr>\n",
       "      <th>91871</th>\n",
       "      <td>102161692214702</td>\n",
       "      <td>Punta Abreojos Beach</td>\n",
       "      <td>beach</td>\n",
       "      <td>POINT (-113.57394 26.71194)</td>\n",
       "    </tr>\n",
       "    <tr>\n",
       "      <th>188347</th>\n",
       "      <td>196023190443592</td>\n",
       "      <td>Punta de Abreojos</td>\n",
       "      <td>landmark_and_historical_building</td>\n",
       "      <td>POINT (-113.57222 26.71444)</td>\n",
       "    </tr>\n",
       "    <tr>\n",
       "      <th>91870</th>\n",
       "      <td>495699517164768</td>\n",
       "      <td>Antojitos Juanita</td>\n",
       "      <td>mexican_restaurant</td>\n",
       "      <td>POINT (-113.57380 26.71212)</td>\n",
       "    </tr>\n",
       "    <tr>\n",
       "      <th>210704</th>\n",
       "      <td>304691419668555</td>\n",
       "      <td>escuela secundaria Francisco Estrada Lucero</td>\n",
       "      <td>public_school</td>\n",
       "      <td>POINT (-113.57345 26.71839)</td>\n",
       "    </tr>\n",
       "    <tr>\n",
       "      <th>91872</th>\n",
       "      <td>101056582183398</td>\n",
       "      <td>Punta Abreojos Baja California Sur</td>\n",
       "      <td>None</td>\n",
       "      <td>POINT (-113.57535 26.70866)</td>\n",
       "    </tr>\n",
       "    <tr>\n",
       "      <th>...</th>\n",
       "      <td>...</td>\n",
       "      <td>...</td>\n",
       "      <td>...</td>\n",
       "      <td>...</td>\n",
       "    </tr>\n",
       "    <tr>\n",
       "      <th>118819</th>\n",
       "      <td>954853131255660</td>\n",
       "      <td>Baie de Foin (vik i Kanada, lat 49,99, long -6...</td>\n",
       "      <td>landmark_and_historical_building</td>\n",
       "      <td>POINT (-66.93296 49.99449)</td>\n",
       "    </tr>\n",
       "    <tr>\n",
       "      <th>118818</th>\n",
       "      <td>161813097519492</td>\n",
       "      <td>Baie à Corbey</td>\n",
       "      <td>landmark_and_historical_building</td>\n",
       "      <td>POINT (-66.93888 49.99128)</td>\n",
       "    </tr>\n",
       "    <tr>\n",
       "      <th>118817</th>\n",
       "      <td>1494320604208349</td>\n",
       "      <td>Îles de Mai</td>\n",
       "      <td>landmark_and_historical_building</td>\n",
       "      <td>POINT (-66.96268 49.92729)</td>\n",
       "    </tr>\n",
       "    <tr>\n",
       "      <th>854903</th>\n",
       "      <td>897216883680862</td>\n",
       "      <td>Lac des Grâces</td>\n",
       "      <td>lake</td>\n",
       "      <td>POINT (-67.09437 49.99532)</td>\n",
       "    </tr>\n",
       "    <tr>\n",
       "      <th>704400</th>\n",
       "      <td>240923072906177</td>\n",
       "      <td>La Grande Anse (vik i Kanada, Québec, lat 49,9...</td>\n",
       "      <td>landmark_and_historical_building</td>\n",
       "      <td>POINT (-66.95546 49.97869)</td>\n",
       "    </tr>\n",
       "  </tbody>\n",
       "</table>\n",
       "<p>13867406 rows × 4 columns</p>\n",
       "</div>"
      ],
      "text/plain": [
       "                      id                                        names_value  \\\n",
       "91871    102161692214702                               Punta Abreojos Beach   \n",
       "188347   196023190443592                                  Punta de Abreojos   \n",
       "91870    495699517164768                                  Antojitos Juanita   \n",
       "210704   304691419668555        escuela secundaria Francisco Estrada Lucero   \n",
       "91872    101056582183398                 Punta Abreojos Baja California Sur   \n",
       "...                  ...                                                ...   \n",
       "118819   954853131255660  Baie de Foin (vik i Kanada, lat 49,99, long -6...   \n",
       "118818   161813097519492                                      Baie à Corbey   \n",
       "118817  1494320604208349                                        Îles de Mai   \n",
       "854903   897216883680862                                     Lac des Grâces   \n",
       "704400   240923072906177  La Grande Anse (vik i Kanada, Québec, lat 49,9...   \n",
       "\n",
       "                                main_cat                     geometry  \n",
       "91871                              beach  POINT (-113.57394 26.71194)  \n",
       "188347  landmark_and_historical_building  POINT (-113.57222 26.71444)  \n",
       "91870                 mexican_restaurant  POINT (-113.57380 26.71212)  \n",
       "210704                     public_school  POINT (-113.57345 26.71839)  \n",
       "91872                               None  POINT (-113.57535 26.70866)  \n",
       "...                                  ...                          ...  \n",
       "118819  landmark_and_historical_building   POINT (-66.93296 49.99449)  \n",
       "118818  landmark_and_historical_building   POINT (-66.93888 49.99128)  \n",
       "118817  landmark_and_historical_building   POINT (-66.96268 49.92729)  \n",
       "854903                              lake   POINT (-67.09437 49.99532)  \n",
       "704400  landmark_and_historical_building   POINT (-66.95546 49.97869)  \n",
       "\n",
       "[13867406 rows x 4 columns]"
      ]
     },
     "execution_count": 228,
     "metadata": {},
     "output_type": "execute_result"
    }
   ],
   "source": [
    "us_places"
   ]
  },
  {
   "cell_type": "code",
   "execution_count": 171,
   "id": "917e8490-92bf-45ac-841d-c7776e5c038b",
   "metadata": {
    "execution": {
     "iopub.execute_input": "2024-07-02T23:35:38.097437Z",
     "iopub.status.busy": "2024-07-02T23:35:38.097067Z",
     "iopub.status.idle": "2024-07-02T23:36:09.795717Z",
     "shell.execute_reply": "2024-07-02T23:36:09.795049Z",
     "shell.execute_reply.started": "2024-07-02T23:35:38.097412Z"
    }
   },
   "outputs": [],
   "source": [
    "us_places.to_parquet(\"../../data/overture/us_places_rg_4k.parquet\",row_group_size=4096)"
   ]
  },
  {
   "cell_type": "code",
   "execution_count": 195,
   "id": "0d115dc4-3537-4f53-93cf-15cc6e29a448",
   "metadata": {
    "execution": {
     "iopub.execute_input": "2024-07-03T00:17:22.112375Z",
     "iopub.status.busy": "2024-07-03T00:17:22.111985Z",
     "iopub.status.idle": "2024-07-03T00:17:22.153435Z",
     "shell.execute_reply": "2024-07-03T00:17:22.152803Z",
     "shell.execute_reply.started": "2024-07-03T00:17:22.112350Z"
    }
   },
   "outputs": [
    {
     "data": {
      "text/html": [
       "<div>\n",
       "<style scoped>\n",
       "    .dataframe tbody tr th:only-of-type {\n",
       "        vertical-align: middle;\n",
       "    }\n",
       "\n",
       "    .dataframe tbody tr th {\n",
       "        vertical-align: top;\n",
       "    }\n",
       "\n",
       "    .dataframe thead th {\n",
       "        text-align: right;\n",
       "    }\n",
       "</style>\n",
       "<table border=\"1\" class=\"dataframe\">\n",
       "  <thead>\n",
       "    <tr style=\"text-align: right;\">\n",
       "      <th></th>\n",
       "      <th>id</th>\n",
       "      <th>names_value</th>\n",
       "      <th>main_cat</th>\n",
       "      <th>geometry</th>\n",
       "    </tr>\n",
       "  </thead>\n",
       "  <tbody>\n",
       "    <tr>\n",
       "      <th>1308150</th>\n",
       "      <td>49679874639</td>\n",
       "      <td>Back Alley Bakery</td>\n",
       "      <td>bakery</td>\n",
       "      <td>POINT (-98.38904 40.58494)</td>\n",
       "    </tr>\n",
       "    <tr>\n",
       "      <th>1308151</th>\n",
       "      <td>104889374747817</td>\n",
       "      <td>Smitty's MHP</td>\n",
       "      <td>campground</td>\n",
       "      <td>POINT (-98.38082 40.57477)</td>\n",
       "    </tr>\n",
       "    <tr>\n",
       "      <th>1308152</th>\n",
       "      <td>115690661823498</td>\n",
       "      <td>Hoskins Auto Sales</td>\n",
       "      <td>car_dealer</td>\n",
       "      <td>POINT (-98.39011 40.56764)</td>\n",
       "    </tr>\n",
       "    <tr>\n",
       "      <th>1308153</th>\n",
       "      <td>562949964809758</td>\n",
       "      <td>Edward Jones - Financial Advisor: Phil Nelson</td>\n",
       "      <td>None</td>\n",
       "      <td>POINT (-98.38725 40.58950)</td>\n",
       "    </tr>\n",
       "    <tr>\n",
       "      <th>1308154</th>\n",
       "      <td>133754580009931</td>\n",
       "      <td>South Central Behavioral Services</td>\n",
       "      <td>counseling_and_mental_health</td>\n",
       "      <td>POINT (-98.39292 40.57619)</td>\n",
       "    </tr>\n",
       "    <tr>\n",
       "      <th>...</th>\n",
       "      <td>...</td>\n",
       "      <td>...</td>\n",
       "      <td>...</td>\n",
       "      <td>...</td>\n",
       "    </tr>\n",
       "    <tr>\n",
       "      <th>1312241</th>\n",
       "      <td>821375404689359</td>\n",
       "      <td>Pilger Senior Center</td>\n",
       "      <td>community_center</td>\n",
       "      <td>POINT (-97.05418 42.00879)</td>\n",
       "    </tr>\n",
       "    <tr>\n",
       "      <th>1312242</th>\n",
       "      <td>982922781732498</td>\n",
       "      <td>Foldoy Water Conditioning</td>\n",
       "      <td>water_treatment_equipment_and_services</td>\n",
       "      <td>POINT (-97.05087 42.00593)</td>\n",
       "    </tr>\n",
       "    <tr>\n",
       "      <th>1312243</th>\n",
       "      <td>1468645823445485</td>\n",
       "      <td>ASPM Landscapes</td>\n",
       "      <td>landscaping</td>\n",
       "      <td>POINT (-97.36792 42.01883)</td>\n",
       "    </tr>\n",
       "    <tr>\n",
       "      <th>1312244</th>\n",
       "      <td>562949961972115</td>\n",
       "      <td>U-Haul Neighborhood Dealer</td>\n",
       "      <td>truck_rentals</td>\n",
       "      <td>POINT (-97.37911 42.01823)</td>\n",
       "    </tr>\n",
       "    <tr>\n",
       "      <th>1312245</th>\n",
       "      <td>190114978544108</td>\n",
       "      <td>Hwy 35/Hwy 275</td>\n",
       "      <td>landmark_and_historical_building</td>\n",
       "      <td>POINT (-97.38107 42.01765)</td>\n",
       "    </tr>\n",
       "  </tbody>\n",
       "</table>\n",
       "<p>4096 rows × 4 columns</p>\n",
       "</div>"
      ],
      "text/plain": [
       "                       id                                    names_value  \\\n",
       "1308150       49679874639                              Back Alley Bakery   \n",
       "1308151   104889374747817                                   Smitty's MHP   \n",
       "1308152   115690661823498                             Hoskins Auto Sales   \n",
       "1308153   562949964809758  Edward Jones - Financial Advisor: Phil Nelson   \n",
       "1308154   133754580009931              South Central Behavioral Services   \n",
       "...                   ...                                            ...   \n",
       "1312241   821375404689359                           Pilger Senior Center   \n",
       "1312242   982922781732498                      Foldoy Water Conditioning   \n",
       "1312243  1468645823445485                                ASPM Landscapes   \n",
       "1312244   562949961972115                     U-Haul Neighborhood Dealer   \n",
       "1312245   190114978544108                                 Hwy 35/Hwy 275   \n",
       "\n",
       "                                       main_cat                    geometry  \n",
       "1308150                                  bakery  POINT (-98.38904 40.58494)  \n",
       "1308151                              campground  POINT (-98.38082 40.57477)  \n",
       "1308152                              car_dealer  POINT (-98.39011 40.56764)  \n",
       "1308153                                    None  POINT (-98.38725 40.58950)  \n",
       "1308154            counseling_and_mental_health  POINT (-98.39292 40.57619)  \n",
       "...                                         ...                         ...  \n",
       "1312241                        community_center  POINT (-97.05418 42.00879)  \n",
       "1312242  water_treatment_equipment_and_services  POINT (-97.05087 42.00593)  \n",
       "1312243                             landscaping  POINT (-97.36792 42.01883)  \n",
       "1312244                           truck_rentals  POINT (-97.37911 42.01823)  \n",
       "1312245        landmark_and_historical_building  POINT (-97.38107 42.01765)  \n",
       "\n",
       "[4096 rows x 4 columns]"
      ]
     },
     "execution_count": 195,
     "metadata": {},
     "output_type": "execute_result"
    }
   ],
   "source": []
  },
  {
   "cell_type": "code",
   "execution_count": 2,
   "id": "caf041f5-7f54-491a-b182-5b24a6b5d101",
   "metadata": {
    "execution": {
     "iopub.execute_input": "2024-07-01T23:08:56.479511Z",
     "iopub.status.busy": "2024-07-01T23:08:56.479092Z",
     "iopub.status.idle": "2024-07-01T23:08:56.482815Z",
     "shell.execute_reply": "2024-07-01T23:08:56.482018Z",
     "shell.execute_reply.started": "2024-07-01T23:08:56.479487Z"
    }
   },
   "outputs": [],
   "source": [
    "# import zlib\n",
    "\n",
    "# import snappy"
   ]
  },
  {
   "cell_type": "code",
   "execution_count": 5,
   "id": "7cc1cf14-f661-4500-af42-6020e52b20f7",
   "metadata": {
    "execution": {
     "iopub.execute_input": "2024-07-01T07:19:34.158523Z",
     "iopub.status.busy": "2024-07-01T07:19:34.158122Z",
     "iopub.status.idle": "2024-07-01T07:19:34.161939Z",
     "shell.execute_reply": "2024-07-01T07:19:34.161083Z",
     "shell.execute_reply.started": "2024-07-01T07:19:34.158497Z"
    }
   },
   "outputs": [],
   "source": [
    "#pq.read_metadata('../../data/overture/us_buildings.parquet')"
   ]
  },
  {
   "cell_type": "code",
   "execution_count": 172,
   "id": "491cfd15-526e-46e5-a673-0e6c324a77c2",
   "metadata": {
    "execution": {
     "iopub.execute_input": "2024-07-02T23:36:27.525762Z",
     "iopub.status.busy": "2024-07-02T23:36:27.525367Z",
     "iopub.status.idle": "2024-07-02T23:36:27.528842Z",
     "shell.execute_reply": "2024-07-02T23:36:27.528147Z",
     "shell.execute_reply.started": "2024-07-02T23:36:27.525737Z"
    }
   },
   "outputs": [],
   "source": [
    "#file_path = 'sample.parquet'\n",
    "file_path = '../../data/overture/us_places_rg_4k.parquet'"
   ]
  },
  {
   "cell_type": "code",
   "execution_count": 179,
   "id": "ccf567a5-6c21-45f1-8a20-e6ba40d792d4",
   "metadata": {
    "execution": {
     "iopub.execute_input": "2024-07-02T23:57:20.028153Z",
     "iopub.status.busy": "2024-07-02T23:57:20.027752Z",
     "iopub.status.idle": "2024-07-02T23:57:20.031265Z",
     "shell.execute_reply": "2024-07-02T23:57:20.030737Z",
     "shell.execute_reply.started": "2024-07-02T23:57:20.028128Z"
    }
   },
   "outputs": [],
   "source": [
    "file_size = os.path.getsize(file_path)"
   ]
  },
  {
   "cell_type": "code",
   "execution_count": 180,
   "id": "7e5ece25-f3c5-4564-9e94-3fce6826a209",
   "metadata": {
    "execution": {
     "iopub.execute_input": "2024-07-02T23:57:25.015139Z",
     "iopub.status.busy": "2024-07-02T23:57:25.014745Z",
     "iopub.status.idle": "2024-07-02T23:57:25.018966Z",
     "shell.execute_reply": "2024-07-02T23:57:25.018453Z",
     "shell.execute_reply.started": "2024-07-02T23:57:25.015114Z"
    }
   },
   "outputs": [
    {
     "data": {
      "text/plain": [
       "819276411"
      ]
     },
     "execution_count": 180,
     "metadata": {},
     "output_type": "execute_result"
    }
   ],
   "source": [
    "file_size"
   ]
  },
  {
   "cell_type": "code",
   "execution_count": 182,
   "id": "2660d270-de1a-4d25-b82f-b6a3674a4b99",
   "metadata": {
    "execution": {
     "iopub.execute_input": "2024-07-03T00:08:58.031599Z",
     "iopub.status.busy": "2024-07-03T00:08:58.031217Z",
     "iopub.status.idle": "2024-07-03T00:08:58.105446Z",
     "shell.execute_reply": "2024-07-03T00:08:58.104793Z",
     "shell.execute_reply.started": "2024-07-03T00:08:58.031575Z"
    }
   },
   "outputs": [],
   "source": [
    "with open(file_path, 'rb') as f:\n",
    "    f.seek(file_size-8)\n",
    "    footer_length = struct.unpack('<I', f.read(4))[0]\n",
    "    f.seek(file_size-footer_length - 8)\n",
    "    footer = f.read(footer_length)\n",
    "    "
   ]
  },
  {
   "cell_type": "code",
   "execution_count": 184,
   "id": "da63be70-cc89-4f10-bc7b-7e5ee229bace",
   "metadata": {
    "execution": {
     "iopub.execute_input": "2024-07-03T00:09:11.879498Z",
     "iopub.status.busy": "2024-07-03T00:09:11.879113Z",
     "iopub.status.idle": "2024-07-03T00:09:11.883386Z",
     "shell.execute_reply": "2024-07-03T00:09:11.882895Z",
     "shell.execute_reply.started": "2024-07-03T00:09:11.879473Z"
    }
   },
   "outputs": [
    {
     "data": {
      "text/plain": [
       "2067960"
      ]
     },
     "execution_count": 184,
     "metadata": {},
     "output_type": "execute_result"
    }
   ],
   "source": [
    "len(footer)"
   ]
  },
  {
   "cell_type": "code",
   "execution_count": 185,
   "id": "828deab9-8d74-4968-be06-960c443bb90a",
   "metadata": {
    "execution": {
     "iopub.execute_input": "2024-07-03T00:09:17.427493Z",
     "iopub.status.busy": "2024-07-03T00:09:17.427117Z",
     "iopub.status.idle": "2024-07-03T00:09:17.437337Z",
     "shell.execute_reply": "2024-07-03T00:09:17.436783Z",
     "shell.execute_reply.started": "2024-07-03T00:09:17.427469Z"
    }
   },
   "outputs": [],
   "source": [
    "with open(file_path, 'rb') as f:\n",
    "    f.seek(-8, 2)\n",
    "    footer_length = struct.unpack('<I', f.read(4))[0]\n",
    "    f.seek(-footer_length - 8, 2)\n",
    "    footer_bytes = f.read(footer_length)"
   ]
  },
  {
   "cell_type": "code",
   "execution_count": 259,
   "id": "78ba45b1-fc12-49a3-8c76-4b642b924111",
   "metadata": {
    "execution": {
     "iopub.execute_input": "2024-07-03T07:19:16.248060Z",
     "iopub.status.busy": "2024-07-03T07:19:16.247634Z",
     "iopub.status.idle": "2024-07-03T07:19:16.252109Z",
     "shell.execute_reply": "2024-07-03T07:19:16.251616Z",
     "shell.execute_reply.started": "2024-07-03T07:19:16.248034Z"
    }
   },
   "outputs": [
    {
     "data": {
      "text/plain": [
       "2067960"
      ]
     },
     "execution_count": 259,
     "metadata": {},
     "output_type": "execute_result"
    }
   ],
   "source": [
    "len(footer_bytes)"
   ]
  },
  {
   "cell_type": "code",
   "execution_count": 266,
   "id": "02ae8dd3-33de-4432-9834-8b96a3332e9a",
   "metadata": {
    "execution": {
     "iopub.execute_input": "2024-07-03T07:20:03.899410Z",
     "iopub.status.busy": "2024-07-03T07:20:03.899002Z",
     "iopub.status.idle": "2024-07-03T07:20:03.902624Z",
     "shell.execute_reply": "2024-07-03T07:20:03.902010Z",
     "shell.execute_reply.started": "2024-07-03T07:20:03.899385Z"
    }
   },
   "outputs": [],
   "source": [
    "transportIn = TTransport.TMemoryBuffer(footer_bytes)\n",
    "protocolIn = TCompactProtocol.TCompactProtocol(transportIn)"
   ]
  },
  {
   "cell_type": "code",
   "execution_count": 267,
   "id": "02e6ebcb-f863-4a91-b7d1-3d65c8535f98",
   "metadata": {
    "execution": {
     "iopub.execute_input": "2024-07-03T07:20:04.166396Z",
     "iopub.status.busy": "2024-07-03T07:20:04.166021Z",
     "iopub.status.idle": "2024-07-03T07:20:06.064717Z",
     "shell.execute_reply": "2024-07-03T07:20:06.064090Z",
     "shell.execute_reply.started": "2024-07-03T07:20:04.166375Z"
    }
   },
   "outputs": [],
   "source": [
    "fmd = FileMetaData()\n",
    "fmd.read(protocolIn)"
   ]
  },
  {
   "cell_type": "code",
   "execution_count": 268,
   "id": "d397ff08-ae61-44de-8b6d-7b2a19d92572",
   "metadata": {
    "execution": {
     "iopub.execute_input": "2024-07-03T07:20:06.066161Z",
     "iopub.status.busy": "2024-07-03T07:20:06.065864Z",
     "iopub.status.idle": "2024-07-03T07:20:06.069003Z",
     "shell.execute_reply": "2024-07-03T07:20:06.068425Z",
     "shell.execute_reply.started": "2024-07-03T07:20:06.066140Z"
    }
   },
   "outputs": [],
   "source": [
    "unique_group_ids = [0,5,25]"
   ]
  },
  {
   "cell_type": "code",
   "execution_count": 269,
   "id": "d5acea2a-72a6-4617-9f04-1062a39ce41b",
   "metadata": {
    "execution": {
     "iopub.execute_input": "2024-07-03T07:20:06.069992Z",
     "iopub.status.busy": "2024-07-03T07:20:06.069676Z",
     "iopub.status.idle": "2024-07-03T07:20:06.072588Z",
     "shell.execute_reply": "2024-07-03T07:20:06.072117Z",
     "shell.execute_reply.started": "2024-07-03T07:20:06.069973Z"
    }
   },
   "outputs": [],
   "source": [
    "modified_row_groups = [fmd.row_groups[rg_idx] for rg_idx in unique_group_ids]"
   ]
  },
  {
   "cell_type": "code",
   "execution_count": 272,
   "id": "de143e29-bb17-4dde-8378-32d77aac9820",
   "metadata": {
    "execution": {
     "iopub.execute_input": "2024-07-03T07:23:25.851631Z",
     "iopub.status.busy": "2024-07-03T07:23:25.851261Z",
     "iopub.status.idle": "2024-07-03T07:23:25.855581Z",
     "shell.execute_reply": "2024-07-03T07:23:25.855099Z",
     "shell.execute_reply.started": "2024-07-03T07:23:25.851607Z"
    }
   },
   "outputs": [
    {
     "data": {
      "text/plain": [
       "4"
      ]
     },
     "execution_count": 272,
     "metadata": {},
     "output_type": "execute_result"
    }
   ],
   "source": [
    "modified_row_groups[0].file_offset"
   ]
  },
  {
   "cell_type": "code",
   "execution_count": 245,
   "id": "47168c37-e46d-476d-946b-052aac8197ad",
   "metadata": {
    "execution": {
     "iopub.execute_input": "2024-07-03T07:12:23.842618Z",
     "iopub.status.busy": "2024-07-03T07:12:23.842162Z",
     "iopub.status.idle": "2024-07-03T07:12:23.846215Z",
     "shell.execute_reply": "2024-07-03T07:12:23.845686Z",
     "shell.execute_reply.started": "2024-07-03T07:12:23.842580Z"
    }
   },
   "outputs": [],
   "source": [
    "def local_cat_offset_length(fpath,offset,length):\n",
    "    with open(fpath, 'rb') as f:\n",
    "        # Seek to the start of the row group\n",
    "        f.seek(offset)\n",
    "        # Read the row group data\n",
    "        return f.read(length)"
   ]
  },
  {
   "cell_type": "code",
   "execution_count": 270,
   "id": "9fb73b2a-f63c-426f-a824-d6e9e1b67445",
   "metadata": {
    "execution": {
     "iopub.execute_input": "2024-07-03T07:20:08.391628Z",
     "iopub.status.busy": "2024-07-03T07:20:08.391255Z",
     "iopub.status.idle": "2024-07-03T07:20:08.439605Z",
     "shell.execute_reply": "2024-07-03T07:20:08.439064Z",
     "shell.execute_reply.started": "2024-07-03T07:20:08.391604Z"
    }
   },
   "outputs": [
    {
     "name": "stdout",
     "output_type": "stream",
     "text": [
      "240737\n",
      "241332\n",
      "240116\n"
     ]
    }
   ],
   "source": [
    "last_pos = 4\n",
    "rg_buckets=[]\n",
    "for rg in modified_row_groups:\n",
    "    rg_start_pos = rg.columns[0].meta_data.dictionary_page_offset\n",
    "    rg_end_pos = rg.columns[len(rg.columns)-1].file_offset\n",
    "    print(rg_end_pos-rg_start_pos)\n",
    "    row_group_raw = local_cat_offset_length(file_path, rg_start_pos, rg_end_pos - rg_start_pos)\n",
    "    rg_buckets.append(row_group_raw)\n",
    "    overhead_offset = rg_start_pos - last_pos\n",
    "    rg.file_offset -= overhead_offset\n",
    "    for i in range(len(rg.columns)):\n",
    "        rg.columns[i].file_offset -= overhead_offset\n",
    "        rg.columns[i].meta_data.data_page_offset -= overhead_offset\n",
    "        rg.columns[i].meta_data.dictionary_page_offset -= overhead_offset\n",
    "    last_pos += rg_end_pos - rg_start_pos\n",
    "fmd.row_groups = modified_row_groups\n",
    "row_group_all = b''.join(rg_buckets)"
   ]
  },
  {
   "cell_type": "code",
   "execution_count": 273,
   "id": "343f72b6-bfb1-4240-a7fe-20d3ae0f082c",
   "metadata": {
    "execution": {
     "iopub.execute_input": "2024-07-03T07:23:58.163820Z",
     "iopub.status.busy": "2024-07-03T07:23:58.163415Z",
     "iopub.status.idle": "2024-07-03T07:23:58.168320Z",
     "shell.execute_reply": "2024-07-03T07:23:58.167818Z",
     "shell.execute_reply.started": "2024-07-03T07:23:58.163795Z"
    }
   },
   "outputs": [
    {
     "data": {
      "text/plain": [
       "[RowGroup(columns=[ColumnChunk(file_path=None, file_offset=61657, meta_data=ColumnMetaData(type=6, encodings=[0, 3, 8], path_in_schema=['id'], codec=1, num_values=4096, total_uncompressed_size=84504, total_compressed_size=61653, key_value_metadata=None, data_page_offset=55433, index_page_offset=None, dictionary_page_offset=4, statistics=Statistics(max=None, min=None, null_count=0, distinct_count=None, max_value=b'999420136908323', min_value=b'100107862262047'), encoding_stats=[PageEncodingStats(page_type=2, encoding=0, count=1), PageEncodingStats(page_type=0, encoding=8, count=1)], bloom_filter_offset=None), offset_index_offset=None, offset_index_length=None, column_index_offset=None, column_index_length=None, crypto_metadata=None, encrypted_column_metadata=None), ColumnChunk(file_path=None, file_offset=134165, meta_data=ColumnMetaData(type=6, encodings=[0, 3, 8], path_in_schema=['names_value'], codec=1, num_values=4096, total_uncompressed_size=106868, total_compressed_size=72416, key_value_metadata=None, data_page_offset=127907, index_page_offset=None, dictionary_page_offset=61749, statistics=Statistics(max=None, min=None, null_count=0, distinct_count=None, max_value=b'\\xe0\\xba\\xaa\\xe0\\xba\\xb2\\xe0\\xba\\x8d\\xe0\\xba\\x81\\xe0\\xba\\xb8\\xe0\\xba\\xaa\\xe0\\xba\\xbb\\xe0\\xba\\xa5', min_value=b'1/OAK automotive and small engine repair'), encoding_stats=[PageEncodingStats(page_type=2, encoding=0, count=1), PageEncodingStats(page_type=0, encoding=8, count=1)], bloom_filter_offset=None), offset_index_offset=None, offset_index_length=None, column_index_offset=None, column_index_length=None, crypto_metadata=None, encrypted_column_metadata=None), ColumnChunk(file_path=None, file_offset=146633, meta_data=ColumnMetaData(type=6, encodings=[0, 3, 8], path_in_schema=['main_cat'], codec=1, num_values=4096, total_uncompressed_size=16306, total_compressed_size=12331, key_value_metadata=None, data_page_offset=141270, index_page_offset=None, dictionary_page_offset=134302, statistics=Statistics(max=None, min=None, null_count=178, distinct_count=None, max_value=b'youth_organizations', min_value=b'accommodation'), encoding_stats=[PageEncodingStats(page_type=2, encoding=0, count=1), PageEncodingStats(page_type=0, encoding=8, count=1)], bloom_filter_offset=None), offset_index_offset=None, offset_index_length=None, column_index_offset=None, column_index_length=None, crypto_metadata=None, encrypted_column_metadata=None), ColumnChunk(file_path=None, file_offset=217973, meta_data=ColumnMetaData(type=6, encodings=[0, 3, 8], path_in_schema=['geometry'], codec=1, num_values=4096, total_uncompressed_size=105875, total_compressed_size=71237, key_value_metadata=None, data_page_offset=211737, index_page_offset=None, dictionary_page_offset=146736, statistics=Statistics(max=None, min=None, null_count=0, distinct_count=None, max_value=b'\\x01\\x01\\x00\\x00\\x00\\xff\\xfa2b\\xb0\\x98X\\xc0\\xbd\\xf9\\xb2Y\\x9aOD@', min_value=b'\\x01\\x01\\x00\\x00\\x00\\x00\\x00\\x00\\x00\\x00oX\\xc0v~\\x9b\\x0f\\x19\\xc1D@'), encoding_stats=[PageEncodingStats(page_type=2, encoding=0, count=1), PageEncodingStats(page_type=0, encoding=8, count=1)], bloom_filter_offset=None), offset_index_offset=None, offset_index_length=None, column_index_offset=None, column_index_length=None, crypto_metadata=None, encrypted_column_metadata=None), ColumnChunk(file_path=None, file_offset=240741, meta_data=ColumnMetaData(type=2, encodings=[0, 3, 8], path_in_schema=['__index_level_0__'], codec=1, num_values=4096, total_uncompressed_size=39012, total_compressed_size=22656, key_value_metadata=None, data_page_offset=234511, index_page_offset=None, dictionary_page_offset=218085, statistics=Statistics(max=b'\\xf5\\x05\\x14\\x00\\x00\\x00\\x00\\x00', min=b'\\xf6\\xf5\\x13\\x00\\x00\\x00\\x00\\x00', null_count=0, distinct_count=None, max_value=b'\\xf5\\x05\\x14\\x00\\x00\\x00\\x00\\x00', min_value=b'\\xf6\\xf5\\x13\\x00\\x00\\x00\\x00\\x00'), encoding_stats=[PageEncodingStats(page_type=2, encoding=0, count=1), PageEncodingStats(page_type=0, encoding=8, count=1)], bloom_filter_offset=None), offset_index_offset=None, offset_index_length=None, column_index_offset=None, column_index_length=None, crypto_metadata=None, encrypted_column_metadata=None)], total_byte_size=352565, num_rows=4096, sorting_columns=None, file_offset=4, total_compressed_size=240293, ordinal=0),\n",
       " RowGroup(columns=[ColumnChunk(file_path=None, file_offset=302624, meta_data=ColumnMetaData(type=6, encodings=[0, 3, 8], path_in_schema=['id'], codec=1, num_values=4096, total_uncompressed_size=84429, total_compressed_size=61883, key_value_metadata=None, data_page_offset=296400, index_page_offset=None, dictionary_page_offset=240741, statistics=Statistics(max=None, min=None, null_count=0, distinct_count=None, max_value=b'999487770118961', min_value=b'100101758515235'), encoding_stats=[PageEncodingStats(page_type=2, encoding=0, count=1), PageEncodingStats(page_type=0, encoding=8, count=1)], bloom_filter_offset=None), offset_index_offset=None, offset_index_length=None, column_index_offset=None, column_index_length=None, crypto_metadata=None, encrypted_column_metadata=None), ColumnChunk(file_path=None, file_offset=374579, meta_data=ColumnMetaData(type=6, encodings=[0, 3, 8], path_in_schema=['names_value'], codec=1, num_values=4096, total_uncompressed_size=107689, total_compressed_size=71858, key_value_metadata=None, data_page_offset=368366, index_page_offset=None, dictionary_page_offset=302721, statistics=Statistics(max=None, min=None, null_count=0, distinct_count=None, max_value=b'rue21', min_value=b'1 Shot Designs'), encoding_stats=[PageEncodingStats(page_type=2, encoding=0, count=1), PageEncodingStats(page_type=0, encoding=8, count=1)], bloom_filter_offset=None), offset_index_offset=None, offset_index_length=None, column_index_offset=None, column_index_length=None, crypto_metadata=None, encrypted_column_metadata=None), ColumnChunk(file_path=None, file_offset=386728, meta_data=ColumnMetaData(type=6, encodings=[0, 3, 8], path_in_schema=['main_cat'], codec=1, num_values=4096, total_uncompressed_size=16067, total_compressed_size=12054, key_value_metadata=None, data_page_offset=381369, index_page_offset=None, dictionary_page_offset=374674, statistics=Statistics(max=None, min=None, null_count=177, distinct_count=None, max_value=b'youth_organizations', min_value=b'accommodation'), encoding_stats=[PageEncodingStats(page_type=2, encoding=0, count=1), PageEncodingStats(page_type=0, encoding=8, count=1)], bloom_filter_offset=None), offset_index_offset=None, offset_index_length=None, column_index_offset=None, column_index_length=None, crypto_metadata=None, encrypted_column_metadata=None), ColumnChunk(file_path=None, file_offset=459306, meta_data=ColumnMetaData(type=6, encodings=[0, 3, 8], path_in_schema=['geometry'], codec=1, num_values=4096, total_uncompressed_size=107050, total_compressed_size=72472, key_value_metadata=None, data_page_offset=453070, index_page_offset=None, dictionary_page_offset=386834, statistics=Statistics(max=None, min=None, null_count=0, distinct_count=None, max_value=b'\\x01\\x01\\x00\\x00\\x00\\xff\\xe9\\x06\\n\\xbc\\x8fW\\xc0\\xedI`s\\x0e\\xe0C@', min_value=b'\\x01\\x01\\x00\\x00\\x00\\x00\\x00\\x00\\x00\\x00\\xbbW\\xc0b\\xc5\\x04\\x9059D@'), encoding_stats=[PageEncodingStats(page_type=2, encoding=0, count=1), PageEncodingStats(page_type=0, encoding=8, count=1)], bloom_filter_offset=None), offset_index_offset=None, offset_index_length=None, column_index_offset=None, column_index_length=None, crypto_metadata=None, encrypted_column_metadata=None), ColumnChunk(file_path=None, file_offset=482073, meta_data=ColumnMetaData(type=2, encodings=[0, 3, 8], path_in_schema=['__index_level_0__'], codec=1, num_values=4096, total_uncompressed_size=39012, total_compressed_size=22652, key_value_metadata=None, data_page_offset=475843, index_page_offset=None, dictionary_page_offset=459421, statistics=Statistics(max=b'\\xf5U\\x14\\x00\\x00\\x00\\x00\\x00', min=b'\\xf6E\\x14\\x00\\x00\\x00\\x00\\x00', null_count=0, distinct_count=None, max_value=b'\\xf5U\\x14\\x00\\x00\\x00\\x00\\x00', min_value=b'\\xf6E\\x14\\x00\\x00\\x00\\x00\\x00'), encoding_stats=[PageEncodingStats(page_type=2, encoding=0, count=1), PageEncodingStats(page_type=0, encoding=8, count=1)], bloom_filter_offset=None), offset_index_offset=None, offset_index_length=None, column_index_offset=None, column_index_length=None, crypto_metadata=None, encrypted_column_metadata=None)], total_byte_size=354247, num_rows=4096, sorting_columns=None, file_offset=240741, total_compressed_size=240919, ordinal=5),\n",
       " RowGroup(columns=[ColumnChunk(file_path=None, file_offset=543114, meta_data=ColumnMetaData(type=6, encodings=[0, 3, 8], path_in_schema=['id'], codec=1, num_values=4096, total_uncompressed_size=84512, total_compressed_size=61041, key_value_metadata=None, data_page_offset=536889, index_page_offset=None, dictionary_page_offset=482073, statistics=Statistics(max=None, min=None, null_count=0, distinct_count=None, max_value=b'998835313633322', min_value=b'1000369706711684'), encoding_stats=[PageEncodingStats(page_type=2, encoding=0, count=1), PageEncodingStats(page_type=0, encoding=8, count=1)], bloom_filter_offset=None), offset_index_offset=None, offset_index_length=None, column_index_offset=None, column_index_length=None, crypto_metadata=None, encrypted_column_metadata=None), ColumnChunk(file_path=None, file_offset=619354, meta_data=ColumnMetaData(type=6, encodings=[0, 3, 8], path_in_schema=['names_value'], codec=1, num_values=4096, total_uncompressed_size=106559, total_compressed_size=76142, key_value_metadata=None, data_page_offset=613095, index_page_offset=None, dictionary_page_offset=543212, statistics=Statistics(max=None, min=None, null_count=0, distinct_count=None, max_value=b'\\xf0\\x9d\\x90\\x93\\xf0\\x9d\\x90\\xa1\\xf0\\x9d\\x90\\x9e \\xf0\\x9d\\x90\\x92\\xf0\\x9d\\x90\\xa1\\xf0\\x9d\\x90\\xa8\\xf0\\x9d\\x90\\xb0\\xf0\\x9d\\x90\\xab\\xf0\\x9d\\x90\\xa8\\xf0\\x9d\\x90\\xa8\\xf0\\x9d\\x90\\xa6\\xf0\\x9d\\x9f\\x93\\xf0\\x9d\\x9f\\x8e\\xf0\\x9d\\x9f\\x91', min_value=b'13 Dekum'), encoding_stats=[PageEncodingStats(page_type=2, encoding=0, count=1), PageEncodingStats(page_type=0, encoding=8, count=1)], bloom_filter_offset=None), offset_index_offset=None, offset_index_length=None, column_index_offset=None, column_index_length=None, crypto_metadata=None, encrypted_column_metadata=None), ColumnChunk(file_path=None, file_offset=632548, meta_data=ColumnMetaData(type=6, encodings=[0, 3, 8], path_in_schema=['main_cat'], codec=1, num_values=4096, total_uncompressed_size=17705, total_compressed_size=13053, key_value_metadata=None, data_page_offset=627163, index_page_offset=None, dictionary_page_offset=619495, statistics=Statistics(max=None, min=None, null_count=195, distinct_count=None, max_value=b'youth_organizations', min_value=b'abuse_and_addiction_treatment'), encoding_stats=[PageEncodingStats(page_type=2, encoding=0, count=1), PageEncodingStats(page_type=0, encoding=8, count=1)], bloom_filter_offset=None), offset_index_offset=None, offset_index_length=None, column_index_offset=None, column_index_length=None, crypto_metadata=None, encrypted_column_metadata=None), ColumnChunk(file_path=None, file_offset=699420, meta_data=ColumnMetaData(type=6, encodings=[0, 3, 8], path_in_schema=['geometry'], codec=1, num_values=4096, total_uncompressed_size=101325, total_compressed_size=66750, key_value_metadata=None, data_page_offset=693184, index_page_offset=None, dictionary_page_offset=632670, statistics=Statistics(max=None, min=None, null_count=0, distinct_count=None, max_value=b'\\x01\\x01\\x00\\x00\\x00\\xff\\xcfa\\xbe\\xbc\\xaa^\\xc0\\xb7\\x974F\\xeb\\xd0F@', min_value=b'\\x01\\x01\\x00\\x00\\x00\\x00\\x00\\x00\\x00\\x00\\xa6^\\xc0\\x00\\xaed\\xc7F\\xd4F@'), encoding_stats=[PageEncodingStats(page_type=2, encoding=0, count=1), PageEncodingStats(page_type=0, encoding=8, count=1)], bloom_filter_offset=None), offset_index_offset=None, offset_index_length=None, column_index_offset=None, column_index_length=None, crypto_metadata=None, encrypted_column_metadata=None), ColumnChunk(file_path=None, file_offset=722189, meta_data=ColumnMetaData(type=2, encodings=[0, 3, 8], path_in_schema=['__index_level_0__'], codec=1, num_values=4096, total_uncompressed_size=39012, total_compressed_size=22654, key_value_metadata=None, data_page_offset=715959, index_page_offset=None, dictionary_page_offset=699535, statistics=Statistics(max=b'l\\xbb\\x15\\x00\\x00\\x00\\x00\\x00', min=b'm\\xab\\x15\\x00\\x00\\x00\\x00\\x00', null_count=0, distinct_count=None, max_value=b'l\\xbb\\x15\\x00\\x00\\x00\\x00\\x00', min_value=b'm\\xab\\x15\\x00\\x00\\x00\\x00\\x00'), encoding_stats=[PageEncodingStats(page_type=2, encoding=0, count=1), PageEncodingStats(page_type=0, encoding=8, count=1)], bloom_filter_offset=None), offset_index_offset=None, offset_index_length=None, column_index_offset=None, column_index_length=None, crypto_metadata=None, encrypted_column_metadata=None)], total_byte_size=349113, num_rows=4096, sorting_columns=None, file_offset=482073, total_compressed_size=239640, ordinal=25)]"
      ]
     },
     "execution_count": 273,
     "metadata": {},
     "output_type": "execute_result"
    }
   ],
   "source": [
    "fmd.row_groups"
   ]
  },
  {
   "cell_type": "code",
   "execution_count": 274,
   "id": "5dfb45c7-c357-4d5f-a2f2-4bd8d6e23394",
   "metadata": {
    "execution": {
     "iopub.execute_input": "2024-07-03T07:24:01.963729Z",
     "iopub.status.busy": "2024-07-03T07:24:01.963336Z",
     "iopub.status.idle": "2024-07-03T07:24:02.032050Z",
     "shell.execute_reply": "2024-07-03T07:24:02.031504Z",
     "shell.execute_reply.started": "2024-07-03T07:24:01.963704Z"
    }
   },
   "outputs": [
    {
     "data": {
      "text/html": [
       "<div>\n",
       "<style scoped>\n",
       "    .dataframe tbody tr th:only-of-type {\n",
       "        vertical-align: middle;\n",
       "    }\n",
       "\n",
       "    .dataframe tbody tr th {\n",
       "        vertical-align: top;\n",
       "    }\n",
       "\n",
       "    .dataframe thead th {\n",
       "        text-align: right;\n",
       "    }\n",
       "</style>\n",
       "<table border=\"1\" class=\"dataframe\">\n",
       "  <thead>\n",
       "    <tr style=\"text-align: right;\">\n",
       "      <th></th>\n",
       "      <th>id</th>\n",
       "      <th>names_value</th>\n",
       "      <th>main_cat</th>\n",
       "      <th>geometry</th>\n",
       "    </tr>\n",
       "  </thead>\n",
       "  <tbody>\n",
       "    <tr>\n",
       "      <th>1308150</th>\n",
       "      <td>49679874639</td>\n",
       "      <td>Back Alley Bakery</td>\n",
       "      <td>bakery</td>\n",
       "      <td>POINT (-98.38904 40.58494)</td>\n",
       "    </tr>\n",
       "    <tr>\n",
       "      <th>1308151</th>\n",
       "      <td>104889374747817</td>\n",
       "      <td>Smitty's MHP</td>\n",
       "      <td>campground</td>\n",
       "      <td>POINT (-98.38082 40.57477)</td>\n",
       "    </tr>\n",
       "    <tr>\n",
       "      <th>1308152</th>\n",
       "      <td>115690661823498</td>\n",
       "      <td>Hoskins Auto Sales</td>\n",
       "      <td>car_dealer</td>\n",
       "      <td>POINT (-98.39011 40.56764)</td>\n",
       "    </tr>\n",
       "    <tr>\n",
       "      <th>1308153</th>\n",
       "      <td>562949964809758</td>\n",
       "      <td>Edward Jones - Financial Advisor: Phil Nelson</td>\n",
       "      <td>None</td>\n",
       "      <td>POINT (-98.38725 40.58950)</td>\n",
       "    </tr>\n",
       "    <tr>\n",
       "      <th>1308154</th>\n",
       "      <td>133754580009931</td>\n",
       "      <td>South Central Behavioral Services</td>\n",
       "      <td>counseling_and_mental_health</td>\n",
       "      <td>POINT (-98.39292 40.57619)</td>\n",
       "    </tr>\n",
       "    <tr>\n",
       "      <th>...</th>\n",
       "      <td>...</td>\n",
       "      <td>...</td>\n",
       "      <td>...</td>\n",
       "      <td>...</td>\n",
       "    </tr>\n",
       "    <tr>\n",
       "      <th>1424232</th>\n",
       "      <td>705160352954623</td>\n",
       "      <td>Iglesia Revelación 19</td>\n",
       "      <td>religious_organization</td>\n",
       "      <td>POINT (-122.52878 45.63709)</td>\n",
       "    </tr>\n",
       "    <tr>\n",
       "      <th>1424233</th>\n",
       "      <td>154875714551392</td>\n",
       "      <td>Les Schwab Tire Center</td>\n",
       "      <td>tire_dealer_and_repair</td>\n",
       "      <td>POINT (-122.55143 45.61963)</td>\n",
       "    </tr>\n",
       "    <tr>\n",
       "      <th>1424234</th>\n",
       "      <td>116012121752603</td>\n",
       "      <td>Dennys Restaurant</td>\n",
       "      <td>american_restaurant</td>\n",
       "      <td>POINT (-122.56601 45.66357)</td>\n",
       "    </tr>\n",
       "    <tr>\n",
       "      <th>1424235</th>\n",
       "      <td>1970324838942869</td>\n",
       "      <td>Barron Landscaping Inc</td>\n",
       "      <td>landscape_architect</td>\n",
       "      <td>POINT (-122.59094 45.66951)</td>\n",
       "    </tr>\n",
       "    <tr>\n",
       "      <th>1424236</th>\n",
       "      <td>270725040042309</td>\n",
       "      <td>The Rhapsody Hub</td>\n",
       "      <td>church_cathedral</td>\n",
       "      <td>POINT (-122.57683 45.65965)</td>\n",
       "    </tr>\n",
       "  </tbody>\n",
       "</table>\n",
       "<p>12288 rows × 4 columns</p>\n",
       "</div>"
      ],
      "text/plain": [
       "                       id                                    names_value  \\\n",
       "1308150       49679874639                              Back Alley Bakery   \n",
       "1308151   104889374747817                                   Smitty's MHP   \n",
       "1308152   115690661823498                             Hoskins Auto Sales   \n",
       "1308153   562949964809758  Edward Jones - Financial Advisor: Phil Nelson   \n",
       "1308154   133754580009931              South Central Behavioral Services   \n",
       "...                   ...                                            ...   \n",
       "1424232   705160352954623                          Iglesia Revelación 19   \n",
       "1424233   154875714551392                         Les Schwab Tire Center   \n",
       "1424234   116012121752603                              Dennys Restaurant   \n",
       "1424235  1970324838942869                         Barron Landscaping Inc   \n",
       "1424236   270725040042309                               The Rhapsody Hub   \n",
       "\n",
       "                             main_cat                     geometry  \n",
       "1308150                        bakery   POINT (-98.38904 40.58494)  \n",
       "1308151                    campground   POINT (-98.38082 40.57477)  \n",
       "1308152                    car_dealer   POINT (-98.39011 40.56764)  \n",
       "1308153                          None   POINT (-98.38725 40.58950)  \n",
       "1308154  counseling_and_mental_health   POINT (-98.39292 40.57619)  \n",
       "...                               ...                          ...  \n",
       "1424232        religious_organization  POINT (-122.52878 45.63709)  \n",
       "1424233        tire_dealer_and_repair  POINT (-122.55143 45.61963)  \n",
       "1424234           american_restaurant  POINT (-122.56601 45.66357)  \n",
       "1424235           landscape_architect  POINT (-122.59094 45.66951)  \n",
       "1424236              church_cathedral  POINT (-122.57683 45.65965)  \n",
       "\n",
       "[12288 rows x 4 columns]"
      ]
     },
     "execution_count": 274,
     "metadata": {},
     "output_type": "execute_result"
    }
   ],
   "source": [
    "#wrap new footer to out_bytes\n",
    "transport = TTransport.TMemoryBuffer()\n",
    "protocolOut = TCompactProtocol.TCompactProtocol(transport)\n",
    "fmd.write(protocolOut)\n",
    "out_bytes = transport.getvalue()\n",
    "\n",
    "PARQUET_MAGIC_BYTES = b'PAR1'\n",
    "footer_length = len(out_bytes)\n",
    "\n",
    "# Create the complete file bytes\n",
    "complete_parquet_bytes = (\n",
    "    PARQUET_MAGIC_BYTES+\n",
    "    row_group_all +                # Row group bytes\n",
    "    out_bytes +                   # Footer bytes\n",
    "    footer_length.to_bytes(4, 'little') +  # Footer length in little endian\n",
    "    PARQUET_MAGIC_BYTES              # Parquet magic bytes\n",
    ")\n",
    "\n",
    "\n",
    "gpd.read_parquet(io.BytesIO(complete_parquet_bytes))"
   ]
  },
  {
   "cell_type": "code",
   "execution_count": 160,
   "id": "849e40bf-d35d-4286-882f-5d1ea85ff845",
   "metadata": {
    "execution": {
     "iopub.execute_input": "2024-07-02T06:22:37.686113Z",
     "iopub.status.busy": "2024-07-02T06:22:37.685705Z",
     "iopub.status.idle": "2024-07-02T06:22:37.689135Z",
     "shell.execute_reply": "2024-07-02T06:22:37.688533Z",
     "shell.execute_reply.started": "2024-07-02T06:22:37.686090Z"
    }
   },
   "outputs": [],
   "source": [
    "rg_idx = 25"
   ]
  },
  {
   "cell_type": "code",
   "execution_count": 161,
   "id": "b7dcc15e-61e6-4310-968d-1e7244ca1e7c",
   "metadata": {
    "execution": {
     "iopub.execute_input": "2024-07-02T06:22:39.526199Z",
     "iopub.status.busy": "2024-07-02T06:22:39.525790Z",
     "iopub.status.idle": "2024-07-02T06:22:39.718056Z",
     "shell.execute_reply": "2024-07-02T06:22:39.717377Z",
     "shell.execute_reply.started": "2024-07-02T06:22:39.526175Z"
    }
   },
   "outputs": [],
   "source": [
    "rg = fmd.row_groups[rg_idx]\n",
    "rg_start_pos = rg.columns[0].meta_data.dictionary_page_offset\n",
    "rg_end_pos = rg.columns[len(rg.columns)-1].file_offset\n",
    "with open(file_path, 'rb') as f:\n",
    "    # Seek to the start of the row group\n",
    "    f.seek(rg_start_pos)\n",
    "    # Read the row group data\n",
    "    row_group_raw = f.read(rg_end_pos-rg_start_pos)"
   ]
  },
  {
   "cell_type": "code",
   "execution_count": 162,
   "id": "fc5015cc-2688-4f1f-b8ae-a34093c696c1",
   "metadata": {
    "execution": {
     "iopub.execute_input": "2024-07-02T06:22:40.470819Z",
     "iopub.status.busy": "2024-07-02T06:22:40.470455Z",
     "iopub.status.idle": "2024-07-02T06:22:40.474617Z",
     "shell.execute_reply": "2024-07-02T06:22:40.473991Z",
     "shell.execute_reply.started": "2024-07-02T06:22:40.470796Z"
    }
   },
   "outputs": [],
   "source": [
    "overhead_offset = rg_start_pos - 4\n",
    "rg.file_offset -= overhead_offset\n",
    "for i in range(len(rg.columns)):\n",
    "    rg.columns[i].file_offset -= overhead_offset\n",
    "    rg.columns[i].meta_data.data_page_offset -= overhead_offset\n",
    "    rg.columns[i].meta_data.dictionary_page_offset -= overhead_offset"
   ]
  },
  {
   "cell_type": "code",
   "execution_count": 163,
   "id": "f33b5f8c-f916-403d-a4d5-591c398c8ef9",
   "metadata": {
    "execution": {
     "iopub.execute_input": "2024-07-02T06:22:44.018020Z",
     "iopub.status.busy": "2024-07-02T06:22:44.017622Z",
     "iopub.status.idle": "2024-07-02T06:22:44.021776Z",
     "shell.execute_reply": "2024-07-02T06:22:44.021141Z",
     "shell.execute_reply.started": "2024-07-02T06:22:44.017996Z"
    }
   },
   "outputs": [],
   "source": [
    "fmd.row_groups = [rg]"
   ]
  },
  {
   "cell_type": "code",
   "execution_count": null,
   "id": "768e117e-4780-497a-864d-1eb48ebd285b",
   "metadata": {},
   "outputs": [],
   "source": [
    "fmd.row_groups = "
   ]
  },
  {
   "cell_type": "code",
   "execution_count": null,
   "id": "3ed89ba0-69a3-48ad-aa06-cb47cfd3bfa4",
   "metadata": {
    "execution": {
     "iopub.execute_input": "2024-07-02T06:22:48.947013Z",
     "iopub.status.busy": "2024-07-02T06:22:48.946592Z",
     "iopub.status.idle": "2024-07-02T06:22:49.409013Z",
     "shell.execute_reply": "2024-07-02T06:22:49.408267Z",
     "shell.execute_reply.started": "2024-07-02T06:22:48.946988Z"
    }
   },
   "outputs": [],
   "source": [
    "#wrap new footer to out_bytes\n",
    "transport = TTransport.TMemoryBuffer()\n",
    "protocolOut = TCompactProtocol.TCompactProtocol(transport)\n",
    "fmd.write(protocolOut)\n",
    "out_bytes = transport.getvalue()\n",
    "\n",
    "PARQUET_MAGIC_BYTES = b'PAR1'\n",
    "footer_length = len(out_bytes)\n",
    "\n",
    "# Create the complete file bytes\n",
    "complete_parquet_bytes = (\n",
    "    PARQUET_MAGIC_BYTES+\n",
    "    row_group_raw +                # Row group bytes\n",
    "    out_bytes +                   # Footer bytes\n",
    "    footer_length.to_bytes(4, 'little') +  # Footer length in little endian\n",
    "    PARQUET_MAGIC_BYTES              # Parquet magic bytes\n",
    ")\n",
    "\n",
    "#raw_buffer = pa.BufferReader(row_group_data)\n",
    "#new pseudo parquet file\n",
    "file_buffer = pa.BufferReader(complete_parquet_bytes)\n"
   ]
  },
  {
   "cell_type": "code",
   "execution_count": 233,
   "id": "b066c94a-9f68-476c-9d81-536b74ef7332",
   "metadata": {
    "execution": {
     "iopub.execute_input": "2024-07-03T06:59:53.558807Z",
     "iopub.status.busy": "2024-07-03T06:59:53.558408Z",
     "iopub.status.idle": "2024-07-03T06:59:53.562784Z",
     "shell.execute_reply": "2024-07-03T06:59:53.562289Z",
     "shell.execute_reply.started": "2024-07-03T06:59:53.558781Z"
    }
   },
   "outputs": [
    {
     "data": {
      "text/plain": [
       "125163145"
      ]
     },
     "execution_count": 233,
     "metadata": {},
     "output_type": "execute_result"
    }
   ],
   "source": [
    "len(complete_parquet_bytes)"
   ]
  },
  {
   "cell_type": "code",
   "execution_count": null,
   "id": "4e4c5b62-cb12-4867-88fe-52efc3260e5a",
   "metadata": {
    "execution": {
     "iopub.status.busy": "2024-07-03T07:00:24.047439Z",
     "iopub.status.idle": "2024-07-03T07:00:24.047908Z",
     "shell.execute_reply": "2024-07-03T07:00:24.047768Z",
     "shell.execute_reply.started": "2024-07-03T07:00:24.047754Z"
    }
   },
   "outputs": [],
   "source": [
    "type(complete_parquet_bytes)"
   ]
  },
  {
   "cell_type": "code",
   "execution_count": null,
   "id": "357b1698-65e9-447e-ab32-c1cac3450f52",
   "metadata": {
    "execution": {
     "iopub.execute_input": "2024-07-03T07:03:43.854750Z",
     "iopub.status.busy": "2024-07-03T07:03:43.854351Z",
     "iopub.status.idle": "2024-07-03T07:03:46.592112Z",
     "shell.execute_reply": "2024-07-03T07:03:46.591530Z",
     "shell.execute_reply.started": "2024-07-03T07:03:43.854725Z"
    }
   },
   "outputs": [],
   "source": [
    "parq_io = io.BytesIO(complete_parquet_bytes)\n",
    "gpd.read_parquet(parq_io)"
   ]
  },
  {
   "cell_type": "code",
   "execution_count": 166,
   "id": "80cceba2-bf1b-4c74-b7f5-a37c5bf05dc4",
   "metadata": {
    "execution": {
     "iopub.execute_input": "2024-07-02T06:22:51.834164Z",
     "iopub.status.busy": "2024-07-02T06:22:51.833752Z",
     "iopub.status.idle": "2024-07-02T06:22:53.527391Z",
     "shell.execute_reply": "2024-07-02T06:22:53.526678Z",
     "shell.execute_reply.started": "2024-07-02T06:22:51.834140Z"
    }
   },
   "outputs": [],
   "source": [
    "df = pq.ParquetFile(file_buffer).read().to_pandas()\n"
   ]
  },
  {
   "cell_type": "code",
   "execution_count": 167,
   "id": "1277257b-2332-4044-8b9d-9beb3b5354e0",
   "metadata": {
    "execution": {
     "iopub.execute_input": "2024-07-02T06:22:53.528807Z",
     "iopub.status.busy": "2024-07-02T06:22:53.528520Z",
     "iopub.status.idle": "2024-07-02T06:23:00.464146Z",
     "shell.execute_reply": "2024-07-02T06:23:00.463429Z",
     "shell.execute_reply.started": "2024-07-02T06:22:53.528785Z"
    }
   },
   "outputs": [],
   "source": [
    "gdf = gpd.GeoDataFrame(df,geometry=df['geometry'].apply(wkb.loads),crs=\"EPSG:4326\")"
   ]
  },
  {
   "cell_type": "code",
   "execution_count": 168,
   "id": "90b59ae2-5036-46b9-8afb-a69e8736cca0",
   "metadata": {
    "execution": {
     "iopub.execute_input": "2024-07-02T06:23:01.290259Z",
     "iopub.status.busy": "2024-07-02T06:23:01.289890Z",
     "iopub.status.idle": "2024-07-02T06:23:01.299789Z",
     "shell.execute_reply": "2024-07-02T06:23:01.299232Z",
     "shell.execute_reply.started": "2024-07-02T06:23:01.290235Z"
    }
   },
   "outputs": [
    {
     "data": {
      "text/html": [
       "<div>\n",
       "<style scoped>\n",
       "    .dataframe tbody tr th:only-of-type {\n",
       "        vertical-align: middle;\n",
       "    }\n",
       "\n",
       "    .dataframe tbody tr th {\n",
       "        vertical-align: top;\n",
       "    }\n",
       "\n",
       "    .dataframe thead th {\n",
       "        text-align: right;\n",
       "    }\n",
       "</style>\n",
       "<table border=\"1\" class=\"dataframe\">\n",
       "  <thead>\n",
       "    <tr style=\"text-align: right;\">\n",
       "      <th></th>\n",
       "      <th>id</th>\n",
       "      <th>geometry</th>\n",
       "    </tr>\n",
       "  </thead>\n",
       "  <tbody>\n",
       "    <tr>\n",
       "      <th>9851030</th>\n",
       "      <td>08b44ad0a641efff020026b146eab62e</td>\n",
       "      <td>POLYGON ((-81.48597 27.40076, -81.48609 27.400...</td>\n",
       "    </tr>\n",
       "    <tr>\n",
       "      <th>9851031</th>\n",
       "      <td>08b44ad0a64f4fff0200e6abd8106c1b</td>\n",
       "      <td>POLYGON ((-81.48599 27.40163, -81.48599 27.401...</td>\n",
       "    </tr>\n",
       "    <tr>\n",
       "      <th>9851032</th>\n",
       "      <td>08b44ad0a64f1fff0200a2dd663b6631</td>\n",
       "      <td>POLYGON ((-81.48603 27.40235, -81.48601 27.402...</td>\n",
       "    </tr>\n",
       "    <tr>\n",
       "      <th>9851033</th>\n",
       "      <td>08b44ad0a6283fff0200a703445fd2bf</td>\n",
       "      <td>POLYGON ((-81.49608 27.40910, -81.49615 27.409...</td>\n",
       "    </tr>\n",
       "    <tr>\n",
       "      <th>9851034</th>\n",
       "      <td>08b44ad0a6615fff0200ce44c5611973</td>\n",
       "      <td>POLYGON ((-81.49014 27.40736, -81.49035 27.407...</td>\n",
       "    </tr>\n",
       "    <tr>\n",
       "      <th>...</th>\n",
       "      <td>...</td>\n",
       "      <td>...</td>\n",
       "    </tr>\n",
       "    <tr>\n",
       "      <th>10899601</th>\n",
       "      <td>08b4450b2d656fff02002bc8a8388e5b</td>\n",
       "      <td>POLYGON ((-88.72764 30.54624, -88.72758 30.546...</td>\n",
       "    </tr>\n",
       "    <tr>\n",
       "      <th>10899602</th>\n",
       "      <td>08b4450b2d656fff0200e7c74a433ab4</td>\n",
       "      <td>POLYGON ((-88.72760 30.54643, -88.72760 30.546...</td>\n",
       "    </tr>\n",
       "    <tr>\n",
       "      <th>10899603</th>\n",
       "      <td>08b4450b2d6f5fff0200df2a73df1ced</td>\n",
       "      <td>POLYGON ((-88.72580 30.54636, -88.72581 30.546...</td>\n",
       "    </tr>\n",
       "    <tr>\n",
       "      <th>10899604</th>\n",
       "      <td>08b4450b2d6f5fff0200538004ff9680</td>\n",
       "      <td>POLYGON ((-88.72564 30.54639, -88.72554 30.546...</td>\n",
       "    </tr>\n",
       "    <tr>\n",
       "      <th>10899605</th>\n",
       "      <td>08b4450b2d6f5fff020000625c9efc27</td>\n",
       "      <td>POLYGON ((-88.72563 30.54645, -88.72558 30.546...</td>\n",
       "    </tr>\n",
       "  </tbody>\n",
       "</table>\n",
       "<p>1048576 rows × 2 columns</p>\n",
       "</div>"
      ],
      "text/plain": [
       "                                        id  \\\n",
       "9851030   08b44ad0a641efff020026b146eab62e   \n",
       "9851031   08b44ad0a64f4fff0200e6abd8106c1b   \n",
       "9851032   08b44ad0a64f1fff0200a2dd663b6631   \n",
       "9851033   08b44ad0a6283fff0200a703445fd2bf   \n",
       "9851034   08b44ad0a6615fff0200ce44c5611973   \n",
       "...                                    ...   \n",
       "10899601  08b4450b2d656fff02002bc8a8388e5b   \n",
       "10899602  08b4450b2d656fff0200e7c74a433ab4   \n",
       "10899603  08b4450b2d6f5fff0200df2a73df1ced   \n",
       "10899604  08b4450b2d6f5fff0200538004ff9680   \n",
       "10899605  08b4450b2d6f5fff020000625c9efc27   \n",
       "\n",
       "                                                   geometry  \n",
       "9851030   POLYGON ((-81.48597 27.40076, -81.48609 27.400...  \n",
       "9851031   POLYGON ((-81.48599 27.40163, -81.48599 27.401...  \n",
       "9851032   POLYGON ((-81.48603 27.40235, -81.48601 27.402...  \n",
       "9851033   POLYGON ((-81.49608 27.40910, -81.49615 27.409...  \n",
       "9851034   POLYGON ((-81.49014 27.40736, -81.49035 27.407...  \n",
       "...                                                     ...  \n",
       "10899601  POLYGON ((-88.72764 30.54624, -88.72758 30.546...  \n",
       "10899602  POLYGON ((-88.72760 30.54643, -88.72760 30.546...  \n",
       "10899603  POLYGON ((-88.72580 30.54636, -88.72581 30.546...  \n",
       "10899604  POLYGON ((-88.72564 30.54639, -88.72554 30.546...  \n",
       "10899605  POLYGON ((-88.72563 30.54645, -88.72558 30.546...  \n",
       "\n",
       "[1048576 rows x 2 columns]"
      ]
     },
     "execution_count": 168,
     "metadata": {},
     "output_type": "execute_result"
    }
   ],
   "source": [
    "gdf"
   ]
  },
  {
   "cell_type": "code",
   "execution_count": 154,
   "id": "5cfb7683-0a09-4a05-b40e-69388aeabdf1",
   "metadata": {
    "execution": {
     "iopub.execute_input": "2024-07-02T06:22:08.730395Z",
     "iopub.status.busy": "2024-07-02T06:22:08.729979Z",
     "iopub.status.idle": "2024-07-02T06:22:08.733527Z",
     "shell.execute_reply": "2024-07-02T06:22:08.732828Z",
     "shell.execute_reply.started": "2024-07-02T06:22:08.730371Z"
    }
   },
   "outputs": [],
   "source": [
    "#preview\n",
    "#convert wkb to geometry\n",
    "#df['geometry'].apply(wkb.loads)"
   ]
  },
  {
   "cell_type": "code",
   "execution_count": 207,
   "id": "2106aa56-e441-421e-bedd-4583b5a87325",
   "metadata": {
    "execution": {
     "iopub.execute_input": "2024-07-03T01:55:38.641885Z",
     "iopub.status.busy": "2024-07-03T01:55:38.641489Z",
     "iopub.status.idle": "2024-07-03T01:55:38.704184Z",
     "shell.execute_reply": "2024-07-03T01:55:38.703625Z",
     "shell.execute_reply.started": "2024-07-03T01:55:38.641855Z"
    }
   },
   "outputs": [],
   "source": [
    "file_path = '../../data/overture/us_places_rg_4k.parquet'\n",
    "parquet_file = pq.ParquetFile(file_path)"
   ]
  },
  {
   "cell_type": "code",
   "execution_count": 224,
   "id": "3c3bcb41-1e7f-4428-a12c-c3568b768316",
   "metadata": {
    "execution": {
     "iopub.execute_input": "2024-07-03T02:11:03.506816Z",
     "iopub.status.busy": "2024-07-03T02:11:03.506430Z",
     "iopub.status.idle": "2024-07-03T02:11:07.181677Z",
     "shell.execute_reply": "2024-07-03T02:11:07.181143Z",
     "shell.execute_reply.started": "2024-07-03T02:11:03.506791Z"
    }
   },
   "outputs": [
    {
     "data": {
      "text/plain": [
       "[(0, 0),\n",
       " (0, 1),\n",
       " (0, 2),\n",
       " (0, 3),\n",
       " (0, 4),\n",
       " (0, 5),\n",
       " (0, 6),\n",
       " (0, 7),\n",
       " (0, 8),\n",
       " (0, 9),\n",
       " (0, 10),\n",
       " (0, 11),\n",
       " (0, 12),\n",
       " (0, 13),\n",
       " (0, 14),\n",
       " (0, 15),\n",
       " (0, 16),\n",
       " (0, 17),\n",
       " (0, 18),\n",
       " (0, 19),\n",
       " (0, 20),\n",
       " (0, 21),\n",
       " (0, 22),\n",
       " (0, 23),\n",
       " (0, 24),\n",
       " (0, 25),\n",
       " (0, 26),\n",
       " (0, 27),\n",
       " (0, 28),\n",
       " (0, 29),\n",
       " (0, 30),\n",
       " (0, 31),\n",
       " (0, 32),\n",
       " (0, 33),\n",
       " (0, 34),\n",
       " (0, 35),\n",
       " (0, 36),\n",
       " (0, 37),\n",
       " (0, 38),\n",
       " (0, 39),\n",
       " (0, 40),\n",
       " (0, 41),\n",
       " (0, 42),\n",
       " (0, 43),\n",
       " (0, 44),\n",
       " (0, 45),\n",
       " (0, 46),\n",
       " (0, 47),\n",
       " (0, 48),\n",
       " (0, 49),\n",
       " (0, 50),\n",
       " (0, 51),\n",
       " (0, 52),\n",
       " (0, 53),\n",
       " (0, 54),\n",
       " (0, 55),\n",
       " (0, 56),\n",
       " (0, 57),\n",
       " (0, 58),\n",
       " (0, 59),\n",
       " (0, 60),\n",
       " (0, 61),\n",
       " (0, 62),\n",
       " (0, 63),\n",
       " (0, 64),\n",
       " (0, 65),\n",
       " (0, 66),\n",
       " (0, 67),\n",
       " (0, 68),\n",
       " (0, 69),\n",
       " (0, 70),\n",
       " (0, 71),\n",
       " (0, 72),\n",
       " (0, 73),\n",
       " (0, 74),\n",
       " (0, 75),\n",
       " (0, 76),\n",
       " (0, 77),\n",
       " (0, 78),\n",
       " (0, 79),\n",
       " (0, 80),\n",
       " (0, 81),\n",
       " (0, 82),\n",
       " (0, 83),\n",
       " (0, 84),\n",
       " (0, 85),\n",
       " (0, 86),\n",
       " (0, 87),\n",
       " (0, 88),\n",
       " (0, 89),\n",
       " (0, 90),\n",
       " (0, 91),\n",
       " (0, 92),\n",
       " (0, 93),\n",
       " (0, 94),\n",
       " (0, 95),\n",
       " (0, 96),\n",
       " (0, 97),\n",
       " (0, 98),\n",
       " (0, 99),\n",
       " (0, 100),\n",
       " (0, 101),\n",
       " (0, 102),\n",
       " (0, 103),\n",
       " (0, 104),\n",
       " (0, 105),\n",
       " (0, 106),\n",
       " (0, 107),\n",
       " (0, 108),\n",
       " (0, 109),\n",
       " (0, 110),\n",
       " (0, 111),\n",
       " (0, 112),\n",
       " (0, 113),\n",
       " (0, 114),\n",
       " (0, 115),\n",
       " (0, 116),\n",
       " (0, 117),\n",
       " (0, 118),\n",
       " (0, 119),\n",
       " (0, 120),\n",
       " (0, 121),\n",
       " (0, 122),\n",
       " (0, 123),\n",
       " (0, 124),\n",
       " (0, 125),\n",
       " (0, 126),\n",
       " (0, 127),\n",
       " (0, 128),\n",
       " (0, 129),\n",
       " (0, 130),\n",
       " (0, 131),\n",
       " (0, 132),\n",
       " (0, 133),\n",
       " (0, 134),\n",
       " (0, 135),\n",
       " (0, 136),\n",
       " (0, 137),\n",
       " (0, 138),\n",
       " (0, 139),\n",
       " (0, 140),\n",
       " (0, 141),\n",
       " (0, 142),\n",
       " (0, 143),\n",
       " (0, 144),\n",
       " (0, 145),\n",
       " (0, 146),\n",
       " (0, 147),\n",
       " (0, 148),\n",
       " (0, 149),\n",
       " (0, 150),\n",
       " (0, 151),\n",
       " (0, 152),\n",
       " (0, 153),\n",
       " (0, 154),\n",
       " (0, 155),\n",
       " (0, 156),\n",
       " (0, 157),\n",
       " (0, 158),\n",
       " (0, 159),\n",
       " (0, 160),\n",
       " (0, 161),\n",
       " (0, 162),\n",
       " (0, 163),\n",
       " (0, 164),\n",
       " (0, 165),\n",
       " (0, 166),\n",
       " (0, 167),\n",
       " (0, 168),\n",
       " (0, 169),\n",
       " (0, 170),\n",
       " (0, 171),\n",
       " (0, 172),\n",
       " (0, 173),\n",
       " (0, 174),\n",
       " (0, 175),\n",
       " (0, 176),\n",
       " (0, 177),\n",
       " (0, 178),\n",
       " (0, 179),\n",
       " (0, 180),\n",
       " (0, 181),\n",
       " (0, 182),\n",
       " (0, 183),\n",
       " (0, 184),\n",
       " (0, 185),\n",
       " (0, 186),\n",
       " (0, 187),\n",
       " (0, 188),\n",
       " (0, 189),\n",
       " (0, 190),\n",
       " (0, 191),\n",
       " (0, 192),\n",
       " (0, 193),\n",
       " (0, 194),\n",
       " (0, 195),\n",
       " (0, 196),\n",
       " (0, 197),\n",
       " (0, 198),\n",
       " (0, 199),\n",
       " (0, 200),\n",
       " (0, 201),\n",
       " (0, 202),\n",
       " (0, 203),\n",
       " (0, 204),\n",
       " (0, 205),\n",
       " (0, 206),\n",
       " (0, 207),\n",
       " (0, 208),\n",
       " (0, 209),\n",
       " (0, 210),\n",
       " (0, 211),\n",
       " (0, 212),\n",
       " (0, 213),\n",
       " (0, 214),\n",
       " (0, 215),\n",
       " (0, 216),\n",
       " (0, 217),\n",
       " (0, 218),\n",
       " (0, 219),\n",
       " (0, 220),\n",
       " (0, 221),\n",
       " (0, 222),\n",
       " (0, 223),\n",
       " (0, 224),\n",
       " (0, 225),\n",
       " (0, 226),\n",
       " (0, 227),\n",
       " (0, 228),\n",
       " (0, 229),\n",
       " (0, 230),\n",
       " (0, 231),\n",
       " (0, 232),\n",
       " (0, 233),\n",
       " (0, 234),\n",
       " (0, 235),\n",
       " (0, 236),\n",
       " (0, 237),\n",
       " (0, 238),\n",
       " (0, 239),\n",
       " (0, 240),\n",
       " (0, 241),\n",
       " (0, 242),\n",
       " (0, 243),\n",
       " (0, 244),\n",
       " (0, 245),\n",
       " (0, 246),\n",
       " (0, 247),\n",
       " (0, 248),\n",
       " (0, 249),\n",
       " (0, 250),\n",
       " (0, 251),\n",
       " (0, 252),\n",
       " (0, 253),\n",
       " (0, 254),\n",
       " (0, 255),\n",
       " (0, 256),\n",
       " (0, 257),\n",
       " (0, 258),\n",
       " (0, 259),\n",
       " (0, 260),\n",
       " (0, 261),\n",
       " (0, 262),\n",
       " (0, 263),\n",
       " (0, 264),\n",
       " (0, 265),\n",
       " (0, 266),\n",
       " (0, 267),\n",
       " (0, 268),\n",
       " (0, 269),\n",
       " (0, 270),\n",
       " (0, 271),\n",
       " (0, 272),\n",
       " (0, 273),\n",
       " (0, 274),\n",
       " (0, 275),\n",
       " (0, 276),\n",
       " (0, 277),\n",
       " (0, 278),\n",
       " (0, 279),\n",
       " (0, 280),\n",
       " (0, 281),\n",
       " (0, 282),\n",
       " (0, 283),\n",
       " (0, 284),\n",
       " (0, 285),\n",
       " (0, 286),\n",
       " (0, 287),\n",
       " (0, 288),\n",
       " (0, 289),\n",
       " (0, 290),\n",
       " (0, 291),\n",
       " (0, 292),\n",
       " (0, 293),\n",
       " (0, 294),\n",
       " (0, 295),\n",
       " (0, 296),\n",
       " (0, 297),\n",
       " (0, 298),\n",
       " (0, 299),\n",
       " (0, 300),\n",
       " (0, 301),\n",
       " (0, 302),\n",
       " (0, 303),\n",
       " (0, 304),\n",
       " (0, 305),\n",
       " (0, 306),\n",
       " (0, 307),\n",
       " (0, 308),\n",
       " (0, 309),\n",
       " (0, 310),\n",
       " (0, 311),\n",
       " (0, 312),\n",
       " (0, 313),\n",
       " (0, 314),\n",
       " (0, 315),\n",
       " (0, 316),\n",
       " (0, 317),\n",
       " (0, 318),\n",
       " (0, 319),\n",
       " (0, 320),\n",
       " (0, 321),\n",
       " (0, 322),\n",
       " (0, 323),\n",
       " (0, 324),\n",
       " (0, 325),\n",
       " (0, 326),\n",
       " (0, 327),\n",
       " (0, 328),\n",
       " (0, 329),\n",
       " (0, 330),\n",
       " (0, 331),\n",
       " (0, 332),\n",
       " (0, 333),\n",
       " (0, 334),\n",
       " (0, 335),\n",
       " (0, 336),\n",
       " (0, 337),\n",
       " (0, 338),\n",
       " (0, 339),\n",
       " (0, 340),\n",
       " (0, 341),\n",
       " (0, 342),\n",
       " (0, 343),\n",
       " (0, 344),\n",
       " (0, 345),\n",
       " (0, 346),\n",
       " (0, 347),\n",
       " (0, 348),\n",
       " (0, 349),\n",
       " (0, 350),\n",
       " (0, 351),\n",
       " (0, 352),\n",
       " (0, 353),\n",
       " (0, 354),\n",
       " (0, 355),\n",
       " (0, 356),\n",
       " (0, 357),\n",
       " (0, 358),\n",
       " (0, 359),\n",
       " (0, 360),\n",
       " (0, 361),\n",
       " (0, 362),\n",
       " (0, 363),\n",
       " (0, 364),\n",
       " (0, 365),\n",
       " (0, 366),\n",
       " (0, 367),\n",
       " (0, 368),\n",
       " (0, 369),\n",
       " (0, 370),\n",
       " (0, 371),\n",
       " (0, 372),\n",
       " (0, 373),\n",
       " (0, 374),\n",
       " (0, 375),\n",
       " (0, 376),\n",
       " (0, 377),\n",
       " (0, 378),\n",
       " (0, 379),\n",
       " (0, 380),\n",
       " (0, 381),\n",
       " (0, 382),\n",
       " (0, 383),\n",
       " (0, 384),\n",
       " (0, 385),\n",
       " (0, 386),\n",
       " (0, 387),\n",
       " (0, 388),\n",
       " (0, 389),\n",
       " (0, 390),\n",
       " (0, 391),\n",
       " (0, 392),\n",
       " (0, 393),\n",
       " (0, 394),\n",
       " (0, 395),\n",
       " (0, 396),\n",
       " (0, 397),\n",
       " (0, 398),\n",
       " (0, 399),\n",
       " (0, 400),\n",
       " (0, 401),\n",
       " (0, 402),\n",
       " (0, 403),\n",
       " (0, 404),\n",
       " (0, 405),\n",
       " (0, 406),\n",
       " (0, 407),\n",
       " (0, 408),\n",
       " (0, 409),\n",
       " (0, 410),\n",
       " (0, 411),\n",
       " (0, 412),\n",
       " (0, 413),\n",
       " (0, 414),\n",
       " (0, 415),\n",
       " (0, 416),\n",
       " (0, 417),\n",
       " (0, 418),\n",
       " (0, 419),\n",
       " (0, 420),\n",
       " (0, 421),\n",
       " (0, 422),\n",
       " (0, 423),\n",
       " (0, 424),\n",
       " (0, 425),\n",
       " (0, 426),\n",
       " (0, 427),\n",
       " (0, 428),\n",
       " (0, 429),\n",
       " (0, 430),\n",
       " (0, 431),\n",
       " (0, 432),\n",
       " (0, 433),\n",
       " (0, 434),\n",
       " (0, 435),\n",
       " (0, 436),\n",
       " (0, 437),\n",
       " (0, 438),\n",
       " (0, 439),\n",
       " (0, 440),\n",
       " (0, 441),\n",
       " (0, 442),\n",
       " (0, 443),\n",
       " (0, 444),\n",
       " (0, 445),\n",
       " (0, 446),\n",
       " (0, 447),\n",
       " (0, 448),\n",
       " (0, 449),\n",
       " (0, 450),\n",
       " (0, 451),\n",
       " (0, 452),\n",
       " (0, 453),\n",
       " (0, 454),\n",
       " (0, 455),\n",
       " (0, 456),\n",
       " (0, 457),\n",
       " (0, 458),\n",
       " (0, 459),\n",
       " (0, 460),\n",
       " (0, 461),\n",
       " (0, 462),\n",
       " (0, 463),\n",
       " (0, 464),\n",
       " (0, 465),\n",
       " (0, 466),\n",
       " (0, 467),\n",
       " (0, 468),\n",
       " (0, 469),\n",
       " (0, 470),\n",
       " (0, 471),\n",
       " (0, 472),\n",
       " (0, 473),\n",
       " (0, 474),\n",
       " (0, 475),\n",
       " (0, 476),\n",
       " (0, 477),\n",
       " (0, 478),\n",
       " (0, 479),\n",
       " (0, 480),\n",
       " (0, 481),\n",
       " (0, 482),\n",
       " (0, 483),\n",
       " (0, 484),\n",
       " (0, 485),\n",
       " (0, 486),\n",
       " (0, 487),\n",
       " (0, 488),\n",
       " (0, 489),\n",
       " (0, 490),\n",
       " (0, 491),\n",
       " (0, 492),\n",
       " (0, 493),\n",
       " (0, 494),\n",
       " (0, 495),\n",
       " (0, 496),\n",
       " (0, 497),\n",
       " (0, 498),\n",
       " (0, 499),\n",
       " (0, 500),\n",
       " (0, 501),\n",
       " (0, 502),\n",
       " (0, 503),\n",
       " (0, 504),\n",
       " (0, 505),\n",
       " (0, 506),\n",
       " (0, 507),\n",
       " (0, 508),\n",
       " (0, 509),\n",
       " (0, 510),\n",
       " (0, 511),\n",
       " (0, 512),\n",
       " (0, 513),\n",
       " (0, 514),\n",
       " (0, 515),\n",
       " (0, 516),\n",
       " (0, 517),\n",
       " (0, 518),\n",
       " (0, 519),\n",
       " (0, 520),\n",
       " (0, 521),\n",
       " (0, 522),\n",
       " (0, 523),\n",
       " (0, 524),\n",
       " (0, 525),\n",
       " (0, 526),\n",
       " (0, 527),\n",
       " (0, 528),\n",
       " (0, 529),\n",
       " (0, 530),\n",
       " (0, 531),\n",
       " (0, 532),\n",
       " (0, 533),\n",
       " (0, 534),\n",
       " (0, 535),\n",
       " (0, 536),\n",
       " (0, 537),\n",
       " (0, 538),\n",
       " (0, 539),\n",
       " (0, 540),\n",
       " (0, 541),\n",
       " (0, 542),\n",
       " (0, 543),\n",
       " (0, 544),\n",
       " (0, 545),\n",
       " (0, 546),\n",
       " (0, 547),\n",
       " (0, 548),\n",
       " (0, 549),\n",
       " (0, 550),\n",
       " (0, 551),\n",
       " (0, 552),\n",
       " (0, 553),\n",
       " (0, 554),\n",
       " (0, 555),\n",
       " (0, 556),\n",
       " (0, 557),\n",
       " (0, 558),\n",
       " (0, 559),\n",
       " (0, 560),\n",
       " (0, 561),\n",
       " (0, 562),\n",
       " (0, 563),\n",
       " (0, 564),\n",
       " (0, 565),\n",
       " (0, 566),\n",
       " (0, 567),\n",
       " (0, 568),\n",
       " (0, 569),\n",
       " (0, 570),\n",
       " (0, 571),\n",
       " (0, 572),\n",
       " (0, 573),\n",
       " (0, 574),\n",
       " (0, 575),\n",
       " (0, 576),\n",
       " (0, 577),\n",
       " (0, 578),\n",
       " (0, 579),\n",
       " (0, 580),\n",
       " (0, 581),\n",
       " (0, 582),\n",
       " (0, 583),\n",
       " (0, 584),\n",
       " (0, 585),\n",
       " (0, 586),\n",
       " (0, 587),\n",
       " (0, 588),\n",
       " (0, 589),\n",
       " (0, 590),\n",
       " (0, 591),\n",
       " (0, 592),\n",
       " (0, 593),\n",
       " (0, 594),\n",
       " (0, 595),\n",
       " (0, 596),\n",
       " (0, 597),\n",
       " (0, 598),\n",
       " (0, 599),\n",
       " (0, 600),\n",
       " (0, 601),\n",
       " (0, 602),\n",
       " (0, 603),\n",
       " (0, 604),\n",
       " (0, 605),\n",
       " (0, 606),\n",
       " (0, 607),\n",
       " (0, 608),\n",
       " (0, 609),\n",
       " (0, 610),\n",
       " (0, 611),\n",
       " (0, 612),\n",
       " (0, 613),\n",
       " (0, 614),\n",
       " (0, 615),\n",
       " (0, 616),\n",
       " (0, 617),\n",
       " (0, 618),\n",
       " (0, 619),\n",
       " (0, 620),\n",
       " (0, 621),\n",
       " (0, 622),\n",
       " (0, 623),\n",
       " (0, 624),\n",
       " (0, 625),\n",
       " (0, 626),\n",
       " (0, 627),\n",
       " (0, 628),\n",
       " (0, 629),\n",
       " (0, 630),\n",
       " (0, 631),\n",
       " (0, 632),\n",
       " (0, 633),\n",
       " (0, 634),\n",
       " (0, 635),\n",
       " (0, 636),\n",
       " (0, 637),\n",
       " (0, 638),\n",
       " (0, 639),\n",
       " (0, 640),\n",
       " (0, 641),\n",
       " (0, 642),\n",
       " (0, 643),\n",
       " (0, 644),\n",
       " (0, 645),\n",
       " (0, 646),\n",
       " (0, 647),\n",
       " (0, 648),\n",
       " (0, 649),\n",
       " (0, 650),\n",
       " (0, 651),\n",
       " (0, 652),\n",
       " (0, 653),\n",
       " (0, 654),\n",
       " (0, 655),\n",
       " (0, 656),\n",
       " (0, 657),\n",
       " (0, 658),\n",
       " (0, 659),\n",
       " (0, 660),\n",
       " (0, 661),\n",
       " (0, 662),\n",
       " (0, 663),\n",
       " (0, 664),\n",
       " (0, 665),\n",
       " (0, 666),\n",
       " (0, 667),\n",
       " (0, 668),\n",
       " (0, 669),\n",
       " (0, 670),\n",
       " (0, 671),\n",
       " (0, 672),\n",
       " (0, 673),\n",
       " (0, 674),\n",
       " (0, 675),\n",
       " (0, 676),\n",
       " (0, 677),\n",
       " (0, 678),\n",
       " (0, 679),\n",
       " (0, 680),\n",
       " (0, 681),\n",
       " (0, 682),\n",
       " (0, 683),\n",
       " (0, 684),\n",
       " (0, 685),\n",
       " (0, 686),\n",
       " (0, 687),\n",
       " (0, 688),\n",
       " (0, 689),\n",
       " (0, 690),\n",
       " (0, 691),\n",
       " (0, 692),\n",
       " (0, 693),\n",
       " (0, 694),\n",
       " (0, 695),\n",
       " (0, 696),\n",
       " (0, 697),\n",
       " (0, 698),\n",
       " (0, 699),\n",
       " (0, 700),\n",
       " (0, 701),\n",
       " (0, 702),\n",
       " (0, 703),\n",
       " (0, 704),\n",
       " (0, 705),\n",
       " (0, 706),\n",
       " (0, 707),\n",
       " (0, 708),\n",
       " (0, 709),\n",
       " (0, 710),\n",
       " (0, 711),\n",
       " (0, 712),\n",
       " (0, 713),\n",
       " (0, 714),\n",
       " (0, 715),\n",
       " (0, 716),\n",
       " (0, 717),\n",
       " (0, 718),\n",
       " (0, 719),\n",
       " (0, 720),\n",
       " (0, 721),\n",
       " (0, 722),\n",
       " (0, 723),\n",
       " (0, 724),\n",
       " (0, 725),\n",
       " (0, 726),\n",
       " (0, 727),\n",
       " (0, 728),\n",
       " (0, 729),\n",
       " (0, 730),\n",
       " (0, 731),\n",
       " (0, 732),\n",
       " (0, 733),\n",
       " (0, 734),\n",
       " (0, 735),\n",
       " (0, 736),\n",
       " (0, 737),\n",
       " (0, 738),\n",
       " (0, 739),\n",
       " (0, 740),\n",
       " (0, 741),\n",
       " (0, 742),\n",
       " (0, 743),\n",
       " (0, 744),\n",
       " (0, 745),\n",
       " (0, 746),\n",
       " (0, 747),\n",
       " (0, 748),\n",
       " (0, 749),\n",
       " (0, 750),\n",
       " (0, 751),\n",
       " (0, 752),\n",
       " (0, 753),\n",
       " (0, 754),\n",
       " (0, 755),\n",
       " (0, 756),\n",
       " (0, 757),\n",
       " (0, 758),\n",
       " (0, 759),\n",
       " (0, 760),\n",
       " (0, 761),\n",
       " (0, 762),\n",
       " (0, 763),\n",
       " (0, 764),\n",
       " (0, 765),\n",
       " (0, 766),\n",
       " (0, 767),\n",
       " (0, 768),\n",
       " (0, 769),\n",
       " (0, 770),\n",
       " (0, 771),\n",
       " (0, 772),\n",
       " (0, 773),\n",
       " (0, 774),\n",
       " (0, 775),\n",
       " (0, 776),\n",
       " (0, 777),\n",
       " (0, 778),\n",
       " (0, 779),\n",
       " (0, 780),\n",
       " (0, 781),\n",
       " (0, 782),\n",
       " (0, 783),\n",
       " (0, 784),\n",
       " (0, 785),\n",
       " (0, 786),\n",
       " (0, 787),\n",
       " (0, 788),\n",
       " (0, 789),\n",
       " (0, 790),\n",
       " (0, 791),\n",
       " (0, 792),\n",
       " (0, 793),\n",
       " (0, 794),\n",
       " (0, 795),\n",
       " (0, 796),\n",
       " (0, 797),\n",
       " (0, 798),\n",
       " (0, 799),\n",
       " (0, 800),\n",
       " (0, 801),\n",
       " (0, 802),\n",
       " (0, 803),\n",
       " (0, 804),\n",
       " (0, 805),\n",
       " (0, 806),\n",
       " (0, 807),\n",
       " (0, 808),\n",
       " (0, 809),\n",
       " (0, 810),\n",
       " (0, 811),\n",
       " (0, 812),\n",
       " (0, 813),\n",
       " (0, 814),\n",
       " (0, 815),\n",
       " (0, 816),\n",
       " (0, 817),\n",
       " (0, 818),\n",
       " (0, 819),\n",
       " (0, 820),\n",
       " (0, 821),\n",
       " (0, 822),\n",
       " (0, 823),\n",
       " (0, 824),\n",
       " (0, 825),\n",
       " (0, 826),\n",
       " (0, 827),\n",
       " (0, 828),\n",
       " (0, 829),\n",
       " (0, 830),\n",
       " (0, 831),\n",
       " (0, 832),\n",
       " (0, 833),\n",
       " (0, 834),\n",
       " (0, 835),\n",
       " (0, 836),\n",
       " (0, 837),\n",
       " (0, 838),\n",
       " (0, 839),\n",
       " (0, 840),\n",
       " (0, 841),\n",
       " (0, 842),\n",
       " (0, 843),\n",
       " (0, 844),\n",
       " (0, 845),\n",
       " (0, 846),\n",
       " (0, 847),\n",
       " (0, 848),\n",
       " (0, 849),\n",
       " (0, 850),\n",
       " (0, 851),\n",
       " (0, 852),\n",
       " (0, 853),\n",
       " (0, 854),\n",
       " (0, 855),\n",
       " (0, 856),\n",
       " (0, 857),\n",
       " (0, 858),\n",
       " (0, 859),\n",
       " (0, 860),\n",
       " (0, 861),\n",
       " (0, 862),\n",
       " (0, 863),\n",
       " (0, 864),\n",
       " (0, 865),\n",
       " (0, 866),\n",
       " (0, 867),\n",
       " (0, 868),\n",
       " (0, 869),\n",
       " (0, 870),\n",
       " (0, 871),\n",
       " (0, 872),\n",
       " (0, 873),\n",
       " (0, 874),\n",
       " (0, 875),\n",
       " (0, 876),\n",
       " (0, 877),\n",
       " (0, 878),\n",
       " (0, 879),\n",
       " (0, 880),\n",
       " (0, 881),\n",
       " (0, 882),\n",
       " (0, 883),\n",
       " (0, 884),\n",
       " (0, 885),\n",
       " (0, 886),\n",
       " (0, 887),\n",
       " (0, 888),\n",
       " (0, 889),\n",
       " (0, 890),\n",
       " (0, 891),\n",
       " (0, 892),\n",
       " (0, 893),\n",
       " (0, 894),\n",
       " (0, 895),\n",
       " (0, 896),\n",
       " (0, 897),\n",
       " (0, 898),\n",
       " (0, 899),\n",
       " (0, 900),\n",
       " (0, 901),\n",
       " (0, 902),\n",
       " (0, 903),\n",
       " (0, 904),\n",
       " (0, 905),\n",
       " (0, 906),\n",
       " (0, 907),\n",
       " (0, 908),\n",
       " (0, 909),\n",
       " (0, 910),\n",
       " (0, 911),\n",
       " (0, 912),\n",
       " (0, 913),\n",
       " (0, 914),\n",
       " (0, 915),\n",
       " (0, 916),\n",
       " (0, 917),\n",
       " (0, 918),\n",
       " (0, 919),\n",
       " (0, 920),\n",
       " (0, 921),\n",
       " (0, 922),\n",
       " (0, 923),\n",
       " (0, 924),\n",
       " (0, 925),\n",
       " (0, 926),\n",
       " (0, 927),\n",
       " (0, 928),\n",
       " (0, 929),\n",
       " (0, 930),\n",
       " (0, 931),\n",
       " (0, 932),\n",
       " (0, 933),\n",
       " (0, 934),\n",
       " (0, 935),\n",
       " (0, 936),\n",
       " (0, 937),\n",
       " (0, 938),\n",
       " (0, 939),\n",
       " (0, 940),\n",
       " (0, 941),\n",
       " (0, 942),\n",
       " (0, 943),\n",
       " (0, 944),\n",
       " (0, 945),\n",
       " (0, 946),\n",
       " (0, 947),\n",
       " (0, 948),\n",
       " (0, 949),\n",
       " (0, 950),\n",
       " (0, 951),\n",
       " (0, 952),\n",
       " (0, 953),\n",
       " (0, 954),\n",
       " (0, 955),\n",
       " (0, 956),\n",
       " (0, 957),\n",
       " (0, 958),\n",
       " (0, 959),\n",
       " (0, 960),\n",
       " (0, 961),\n",
       " (0, 962),\n",
       " (0, 963),\n",
       " (0, 964),\n",
       " (0, 965),\n",
       " (0, 966),\n",
       " (0, 967),\n",
       " (0, 968),\n",
       " (0, 969),\n",
       " (0, 970),\n",
       " (0, 971),\n",
       " (0, 972),\n",
       " (0, 973),\n",
       " (0, 974),\n",
       " (0, 975),\n",
       " (0, 976),\n",
       " (0, 977),\n",
       " (0, 978),\n",
       " (0, 979),\n",
       " (0, 980),\n",
       " (0, 981),\n",
       " (0, 982),\n",
       " (0, 983),\n",
       " (0, 984),\n",
       " (0, 985),\n",
       " (0, 986),\n",
       " (0, 987),\n",
       " (0, 988),\n",
       " (0, 989),\n",
       " (0, 990),\n",
       " (0, 991),\n",
       " (0, 992),\n",
       " (0, 993),\n",
       " (0, 994),\n",
       " (0, 995),\n",
       " (0, 996),\n",
       " (0, 997),\n",
       " (0, 998),\n",
       " (0, 999),\n",
       " ...]"
      ]
     },
     "execution_count": 224,
     "metadata": {},
     "output_type": "execute_result"
    }
   ],
   "source": [
    "parquet_file = pq.ParquetFile(file_path)\n",
    "row_group_size = parquet_file.metadata.row_group(0).num_rows\n",
    "rows = parquet_file.metadata.num_rows\n",
    "[ (i // row_group_size, i % row_group_size) for i in range(rows)]"
   ]
  },
  {
   "cell_type": "code",
   "execution_count": 221,
   "id": "c3a2fe56-a7ab-4df8-98d4-1735b8c627fb",
   "metadata": {
    "execution": {
     "iopub.execute_input": "2024-07-03T02:08:31.933518Z",
     "iopub.status.busy": "2024-07-03T02:08:31.933151Z",
     "iopub.status.idle": "2024-07-03T02:08:31.937581Z",
     "shell.execute_reply": "2024-07-03T02:08:31.937097Z",
     "shell.execute_reply.started": "2024-07-03T02:08:31.933493Z"
    }
   },
   "outputs": [
    {
     "data": {
      "text/plain": [
       "13867406"
      ]
     },
     "execution_count": 221,
     "metadata": {},
     "output_type": "execute_result"
    }
   ],
   "source": [
    "parquet_file.metadata.num_rows"
   ]
  },
  {
   "cell_type": "code",
   "execution_count": 202,
   "id": "a93c57d9-e1bb-4930-93f3-78f7d8a14bcb",
   "metadata": {
    "execution": {
     "iopub.execute_input": "2024-07-03T00:18:50.035511Z",
     "iopub.status.busy": "2024-07-03T00:18:50.035129Z",
     "iopub.status.idle": "2024-07-03T00:18:50.050359Z",
     "shell.execute_reply": "2024-07-03T00:18:50.049818Z",
     "shell.execute_reply.started": "2024-07-03T00:18:50.035487Z"
    }
   },
   "outputs": [
    {
     "data": {
      "text/html": [
       "<div>\n",
       "<style scoped>\n",
       "    .dataframe tbody tr th:only-of-type {\n",
       "        vertical-align: middle;\n",
       "    }\n",
       "\n",
       "    .dataframe tbody tr th {\n",
       "        vertical-align: top;\n",
       "    }\n",
       "\n",
       "    .dataframe thead th {\n",
       "        text-align: right;\n",
       "    }\n",
       "</style>\n",
       "<table border=\"1\" class=\"dataframe\">\n",
       "  <thead>\n",
       "    <tr style=\"text-align: right;\">\n",
       "      <th></th>\n",
       "      <th>id</th>\n",
       "      <th>names_value</th>\n",
       "      <th>main_cat</th>\n",
       "      <th>geometry</th>\n",
       "    </tr>\n",
       "  </thead>\n",
       "  <tbody>\n",
       "    <tr>\n",
       "      <th>1308150</th>\n",
       "      <td>49679874639</td>\n",
       "      <td>Back Alley Bakery</td>\n",
       "      <td>bakery</td>\n",
       "      <td>b'\\x01\\x01\\x00\\x00\\x00\\xd23b\\x0b\\xe6\\x98X\\xc0R...</td>\n",
       "    </tr>\n",
       "    <tr>\n",
       "      <th>1308151</th>\n",
       "      <td>104889374747817</td>\n",
       "      <td>Smitty's MHP</td>\n",
       "      <td>campground</td>\n",
       "      <td>b'\\x01\\x01\\x00\\x00\\x00jj\\xd9Z_\\x98X\\xc0tf\\x16\\...</td>\n",
       "    </tr>\n",
       "    <tr>\n",
       "      <th>1308152</th>\n",
       "      <td>115690661823498</td>\n",
       "      <td>Hoskins Auto Sales</td>\n",
       "      <td>car_dealer</td>\n",
       "      <td>b'\\x01\\x01\\x00\\x00\\x00\\xa5/\\x84\\x9c\\xf7\\x98X\\x...</td>\n",
       "    </tr>\n",
       "    <tr>\n",
       "      <th>1308153</th>\n",
       "      <td>562949964809758</td>\n",
       "      <td>Edward Jones - Financial Advisor: Phil Nelson</td>\n",
       "      <td>None</td>\n",
       "      <td>b'\\x01\\x01\\x00\\x00\\x00\\xb1!\\xee\\xa0\\xc8\\x98X\\x...</td>\n",
       "    </tr>\n",
       "    <tr>\n",
       "      <th>1308154</th>\n",
       "      <td>133754580009931</td>\n",
       "      <td>South Central Behavioral Services</td>\n",
       "      <td>counseling_and_mental_health</td>\n",
       "      <td>b'\\x01\\x01\\x00\\x00\\x00p|\\xed\\x99%\\x99X\\xc0 $\\x...</td>\n",
       "    </tr>\n",
       "    <tr>\n",
       "      <th>...</th>\n",
       "      <td>...</td>\n",
       "      <td>...</td>\n",
       "      <td>...</td>\n",
       "      <td>...</td>\n",
       "    </tr>\n",
       "    <tr>\n",
       "      <th>1312241</th>\n",
       "      <td>821375404689359</td>\n",
       "      <td>Pilger Senior Center</td>\n",
       "      <td>community_center</td>\n",
       "      <td>b'\\x01\\x01\\x00\\x00\\x00\\x10\\x9e\\xbf\\xbfwCX\\xc0~...</td>\n",
       "    </tr>\n",
       "    <tr>\n",
       "      <th>1312242</th>\n",
       "      <td>982922781732498</td>\n",
       "      <td>Foldoy Water Conditioning</td>\n",
       "      <td>water_treatment_equipment_and_services</td>\n",
       "      <td>b'\\x01\\x01\\x00\\x00\\x00\\x0e\\x12\\xa2|ACX\\xc0+\\x8...</td>\n",
       "    </tr>\n",
       "    <tr>\n",
       "      <th>1312243</th>\n",
       "      <td>1468645823445485</td>\n",
       "      <td>ASPM Landscapes</td>\n",
       "      <td>landscaping</td>\n",
       "      <td>b'\\x01\\x01\\x00\\x00\\x00\\xe2\\x1aD\\x10\\x8cWX\\xc0\\...</td>\n",
       "    </tr>\n",
       "    <tr>\n",
       "      <th>1312244</th>\n",
       "      <td>562949961972115</td>\n",
       "      <td>U-Haul Neighborhood Dealer</td>\n",
       "      <td>truck_rentals</td>\n",
       "      <td>b'\\x01\\x01\\x00\\x00\\x001\\xcbCKCXX\\xc0\\xd4\\xb5\\x...</td>\n",
       "    </tr>\n",
       "    <tr>\n",
       "      <th>1312245</th>\n",
       "      <td>190114978544108</td>\n",
       "      <td>Hwy 35/Hwy 275</td>\n",
       "      <td>landmark_and_historical_building</td>\n",
       "      <td>b'\\x01\\x01\\x00\\x00\\x00\\x98$\\x85hcXX\\xc0saI^B\\x...</td>\n",
       "    </tr>\n",
       "  </tbody>\n",
       "</table>\n",
       "<p>4096 rows × 4 columns</p>\n",
       "</div>"
      ],
      "text/plain": [
       "                       id                                    names_value  \\\n",
       "1308150       49679874639                              Back Alley Bakery   \n",
       "1308151   104889374747817                                   Smitty's MHP   \n",
       "1308152   115690661823498                             Hoskins Auto Sales   \n",
       "1308153   562949964809758  Edward Jones - Financial Advisor: Phil Nelson   \n",
       "1308154   133754580009931              South Central Behavioral Services   \n",
       "...                   ...                                            ...   \n",
       "1312241   821375404689359                           Pilger Senior Center   \n",
       "1312242   982922781732498                      Foldoy Water Conditioning   \n",
       "1312243  1468645823445485                                ASPM Landscapes   \n",
       "1312244   562949961972115                     U-Haul Neighborhood Dealer   \n",
       "1312245   190114978544108                                 Hwy 35/Hwy 275   \n",
       "\n",
       "                                       main_cat  \\\n",
       "1308150                                  bakery   \n",
       "1308151                              campground   \n",
       "1308152                              car_dealer   \n",
       "1308153                                    None   \n",
       "1308154            counseling_and_mental_health   \n",
       "...                                         ...   \n",
       "1312241                        community_center   \n",
       "1312242  water_treatment_equipment_and_services   \n",
       "1312243                             landscaping   \n",
       "1312244                           truck_rentals   \n",
       "1312245        landmark_and_historical_building   \n",
       "\n",
       "                                                  geometry  \n",
       "1308150  b'\\x01\\x01\\x00\\x00\\x00\\xd23b\\x0b\\xe6\\x98X\\xc0R...  \n",
       "1308151  b'\\x01\\x01\\x00\\x00\\x00jj\\xd9Z_\\x98X\\xc0tf\\x16\\...  \n",
       "1308152  b'\\x01\\x01\\x00\\x00\\x00\\xa5/\\x84\\x9c\\xf7\\x98X\\x...  \n",
       "1308153  b'\\x01\\x01\\x00\\x00\\x00\\xb1!\\xee\\xa0\\xc8\\x98X\\x...  \n",
       "1308154  b'\\x01\\x01\\x00\\x00\\x00p|\\xed\\x99%\\x99X\\xc0 $\\x...  \n",
       "...                                                    ...  \n",
       "1312241  b'\\x01\\x01\\x00\\x00\\x00\\x10\\x9e\\xbf\\xbfwCX\\xc0~...  \n",
       "1312242  b'\\x01\\x01\\x00\\x00\\x00\\x0e\\x12\\xa2|ACX\\xc0+\\x8...  \n",
       "1312243  b'\\x01\\x01\\x00\\x00\\x00\\xe2\\x1aD\\x10\\x8cWX\\xc0\\...  \n",
       "1312244  b'\\x01\\x01\\x00\\x00\\x001\\xcbCKCXX\\xc0\\xd4\\xb5\\x...  \n",
       "1312245  b'\\x01\\x01\\x00\\x00\\x00\\x98$\\x85hcXX\\xc0saI^B\\x...  \n",
       "\n",
       "[4096 rows x 4 columns]"
      ]
     },
     "execution_count": 202,
     "metadata": {},
     "output_type": "execute_result"
    }
   ],
   "source": [
    "parquet_file.read_row_group(0).to_pandas()"
   ]
  },
  {
   "cell_type": "code",
   "execution_count": 203,
   "id": "3b48a9a6-210d-42c5-a941-c7a4629ec087",
   "metadata": {
    "execution": {
     "iopub.execute_input": "2024-07-03T00:18:55.660024Z",
     "iopub.status.busy": "2024-07-03T00:18:55.659623Z",
     "iopub.status.idle": "2024-07-03T00:18:55.670066Z",
     "shell.execute_reply": "2024-07-03T00:18:55.669509Z",
     "shell.execute_reply.started": "2024-07-03T00:18:55.659998Z"
    }
   },
   "outputs": [
    {
     "data": {
      "text/html": [
       "<div>\n",
       "<style scoped>\n",
       "    .dataframe tbody tr th:only-of-type {\n",
       "        vertical-align: middle;\n",
       "    }\n",
       "\n",
       "    .dataframe tbody tr th {\n",
       "        vertical-align: top;\n",
       "    }\n",
       "\n",
       "    .dataframe thead th {\n",
       "        text-align: right;\n",
       "    }\n",
       "</style>\n",
       "<table border=\"1\" class=\"dataframe\">\n",
       "  <thead>\n",
       "    <tr style=\"text-align: right;\">\n",
       "      <th></th>\n",
       "      <th>id</th>\n",
       "      <th>names_value</th>\n",
       "      <th>main_cat</th>\n",
       "      <th>geometry</th>\n",
       "    </tr>\n",
       "  </thead>\n",
       "  <tbody>\n",
       "    <tr>\n",
       "      <th>1308150</th>\n",
       "      <td>49679874639</td>\n",
       "      <td>Back Alley Bakery</td>\n",
       "      <td>bakery</td>\n",
       "      <td>POINT (-98.38904 40.58494)</td>\n",
       "    </tr>\n",
       "    <tr>\n",
       "      <th>1308151</th>\n",
       "      <td>104889374747817</td>\n",
       "      <td>Smitty's MHP</td>\n",
       "      <td>campground</td>\n",
       "      <td>POINT (-98.38082 40.57477)</td>\n",
       "    </tr>\n",
       "    <tr>\n",
       "      <th>1308152</th>\n",
       "      <td>115690661823498</td>\n",
       "      <td>Hoskins Auto Sales</td>\n",
       "      <td>car_dealer</td>\n",
       "      <td>POINT (-98.39011 40.56764)</td>\n",
       "    </tr>\n",
       "    <tr>\n",
       "      <th>1308153</th>\n",
       "      <td>562949964809758</td>\n",
       "      <td>Edward Jones - Financial Advisor: Phil Nelson</td>\n",
       "      <td>None</td>\n",
       "      <td>POINT (-98.38725 40.58950)</td>\n",
       "    </tr>\n",
       "    <tr>\n",
       "      <th>1308154</th>\n",
       "      <td>133754580009931</td>\n",
       "      <td>South Central Behavioral Services</td>\n",
       "      <td>counseling_and_mental_health</td>\n",
       "      <td>POINT (-98.39292 40.57619)</td>\n",
       "    </tr>\n",
       "    <tr>\n",
       "      <th>...</th>\n",
       "      <td>...</td>\n",
       "      <td>...</td>\n",
       "      <td>...</td>\n",
       "      <td>...</td>\n",
       "    </tr>\n",
       "    <tr>\n",
       "      <th>1312241</th>\n",
       "      <td>821375404689359</td>\n",
       "      <td>Pilger Senior Center</td>\n",
       "      <td>community_center</td>\n",
       "      <td>POINT (-97.05418 42.00879)</td>\n",
       "    </tr>\n",
       "    <tr>\n",
       "      <th>1312242</th>\n",
       "      <td>982922781732498</td>\n",
       "      <td>Foldoy Water Conditioning</td>\n",
       "      <td>water_treatment_equipment_and_services</td>\n",
       "      <td>POINT (-97.05087 42.00593)</td>\n",
       "    </tr>\n",
       "    <tr>\n",
       "      <th>1312243</th>\n",
       "      <td>1468645823445485</td>\n",
       "      <td>ASPM Landscapes</td>\n",
       "      <td>landscaping</td>\n",
       "      <td>POINT (-97.36792 42.01883)</td>\n",
       "    </tr>\n",
       "    <tr>\n",
       "      <th>1312244</th>\n",
       "      <td>562949961972115</td>\n",
       "      <td>U-Haul Neighborhood Dealer</td>\n",
       "      <td>truck_rentals</td>\n",
       "      <td>POINT (-97.37911 42.01823)</td>\n",
       "    </tr>\n",
       "    <tr>\n",
       "      <th>1312245</th>\n",
       "      <td>190114978544108</td>\n",
       "      <td>Hwy 35/Hwy 275</td>\n",
       "      <td>landmark_and_historical_building</td>\n",
       "      <td>POINT (-97.38107 42.01765)</td>\n",
       "    </tr>\n",
       "  </tbody>\n",
       "</table>\n",
       "<p>4096 rows × 4 columns</p>\n",
       "</div>"
      ],
      "text/plain": [
       "                       id                                    names_value  \\\n",
       "1308150       49679874639                              Back Alley Bakery   \n",
       "1308151   104889374747817                                   Smitty's MHP   \n",
       "1308152   115690661823498                             Hoskins Auto Sales   \n",
       "1308153   562949964809758  Edward Jones - Financial Advisor: Phil Nelson   \n",
       "1308154   133754580009931              South Central Behavioral Services   \n",
       "...                   ...                                            ...   \n",
       "1312241   821375404689359                           Pilger Senior Center   \n",
       "1312242   982922781732498                      Foldoy Water Conditioning   \n",
       "1312243  1468645823445485                                ASPM Landscapes   \n",
       "1312244   562949961972115                     U-Haul Neighborhood Dealer   \n",
       "1312245   190114978544108                                 Hwy 35/Hwy 275   \n",
       "\n",
       "                                       main_cat                    geometry  \n",
       "1308150                                  bakery  POINT (-98.38904 40.58494)  \n",
       "1308151                              campground  POINT (-98.38082 40.57477)  \n",
       "1308152                              car_dealer  POINT (-98.39011 40.56764)  \n",
       "1308153                                    None  POINT (-98.38725 40.58950)  \n",
       "1308154            counseling_and_mental_health  POINT (-98.39292 40.57619)  \n",
       "...                                         ...                         ...  \n",
       "1312241                        community_center  POINT (-97.05418 42.00879)  \n",
       "1312242  water_treatment_equipment_and_services  POINT (-97.05087 42.00593)  \n",
       "1312243                             landscaping  POINT (-97.36792 42.01883)  \n",
       "1312244                           truck_rentals  POINT (-97.37911 42.01823)  \n",
       "1312245        landmark_and_historical_building  POINT (-97.38107 42.01765)  \n",
       "\n",
       "[4096 rows x 4 columns]"
      ]
     },
     "execution_count": 203,
     "metadata": {},
     "output_type": "execute_result"
    }
   ],
   "source": [
    "us_places.head(4096)"
   ]
  },
  {
   "cell_type": "code",
   "execution_count": 201,
   "id": "d6ffd70e-400c-488c-bbf8-f1f9c0d59231",
   "metadata": {
    "execution": {
     "iopub.execute_input": "2024-07-03T00:18:41.907461Z",
     "iopub.status.busy": "2024-07-03T00:18:41.907079Z",
     "iopub.status.idle": "2024-07-03T00:18:41.930201Z",
     "shell.execute_reply": "2024-07-03T00:18:41.929658Z",
     "shell.execute_reply.started": "2024-07-03T00:18:41.907437Z"
    }
   },
   "outputs": [
    {
     "data": {
      "text/html": [
       "<div>\n",
       "<style scoped>\n",
       "    .dataframe tbody tr th:only-of-type {\n",
       "        vertical-align: middle;\n",
       "    }\n",
       "\n",
       "    .dataframe tbody tr th {\n",
       "        vertical-align: top;\n",
       "    }\n",
       "\n",
       "    .dataframe thead th {\n",
       "        text-align: right;\n",
       "    }\n",
       "</style>\n",
       "<table border=\"1\" class=\"dataframe\">\n",
       "  <thead>\n",
       "    <tr style=\"text-align: right;\">\n",
       "      <th></th>\n",
       "      <th>id</th>\n",
       "      <th>names_value</th>\n",
       "      <th>main_cat</th>\n",
       "      <th>geometry</th>\n",
       "    </tr>\n",
       "  </thead>\n",
       "  <tbody>\n",
       "    <tr>\n",
       "      <th>1308150</th>\n",
       "      <td>True</td>\n",
       "      <td>True</td>\n",
       "      <td>True</td>\n",
       "      <td>False</td>\n",
       "    </tr>\n",
       "    <tr>\n",
       "      <th>1308151</th>\n",
       "      <td>True</td>\n",
       "      <td>True</td>\n",
       "      <td>True</td>\n",
       "      <td>False</td>\n",
       "    </tr>\n",
       "    <tr>\n",
       "      <th>1308152</th>\n",
       "      <td>True</td>\n",
       "      <td>True</td>\n",
       "      <td>True</td>\n",
       "      <td>False</td>\n",
       "    </tr>\n",
       "    <tr>\n",
       "      <th>1308153</th>\n",
       "      <td>True</td>\n",
       "      <td>True</td>\n",
       "      <td>False</td>\n",
       "      <td>False</td>\n",
       "    </tr>\n",
       "    <tr>\n",
       "      <th>1308154</th>\n",
       "      <td>True</td>\n",
       "      <td>True</td>\n",
       "      <td>True</td>\n",
       "      <td>False</td>\n",
       "    </tr>\n",
       "    <tr>\n",
       "      <th>...</th>\n",
       "      <td>...</td>\n",
       "      <td>...</td>\n",
       "      <td>...</td>\n",
       "      <td>...</td>\n",
       "    </tr>\n",
       "    <tr>\n",
       "      <th>1312241</th>\n",
       "      <td>True</td>\n",
       "      <td>True</td>\n",
       "      <td>True</td>\n",
       "      <td>False</td>\n",
       "    </tr>\n",
       "    <tr>\n",
       "      <th>1312242</th>\n",
       "      <td>True</td>\n",
       "      <td>True</td>\n",
       "      <td>True</td>\n",
       "      <td>False</td>\n",
       "    </tr>\n",
       "    <tr>\n",
       "      <th>1312243</th>\n",
       "      <td>True</td>\n",
       "      <td>True</td>\n",
       "      <td>True</td>\n",
       "      <td>False</td>\n",
       "    </tr>\n",
       "    <tr>\n",
       "      <th>1312244</th>\n",
       "      <td>True</td>\n",
       "      <td>True</td>\n",
       "      <td>True</td>\n",
       "      <td>False</td>\n",
       "    </tr>\n",
       "    <tr>\n",
       "      <th>1312245</th>\n",
       "      <td>True</td>\n",
       "      <td>True</td>\n",
       "      <td>True</td>\n",
       "      <td>False</td>\n",
       "    </tr>\n",
       "  </tbody>\n",
       "</table>\n",
       "<p>4096 rows × 4 columns</p>\n",
       "</div>"
      ],
      "text/plain": [
       "           id  names_value  main_cat  geometry\n",
       "1308150  True         True      True     False\n",
       "1308151  True         True      True     False\n",
       "1308152  True         True      True     False\n",
       "1308153  True         True     False     False\n",
       "1308154  True         True      True     False\n",
       "...       ...          ...       ...       ...\n",
       "1312241  True         True      True     False\n",
       "1312242  True         True      True     False\n",
       "1312243  True         True      True     False\n",
       "1312244  True         True      True     False\n",
       "1312245  True         True      True     False\n",
       "\n",
       "[4096 rows x 4 columns]"
      ]
     },
     "execution_count": 201,
     "metadata": {},
     "output_type": "execute_result"
    }
   ],
   "source": [
    "(parquet_file.read_row_group(0).to_pandas() == us_places.head(4096))"
   ]
  },
  {
   "cell_type": "code",
   "execution_count": null,
   "id": "6ef2e700-968d-4652-af30-ea794d23e24d",
   "metadata": {
    "execution": {
     "iopub.execute_input": "2024-07-02T02:00:06.543106Z",
     "iopub.status.busy": "2024-07-02T02:00:06.542577Z",
     "iopub.status.idle": "2024-07-02T02:00:06.564921Z",
     "shell.execute_reply": "2024-07-02T02:00:06.564182Z",
     "shell.execute_reply.started": "2024-07-02T02:00:06.543079Z"
    }
   },
   "outputs": [],
   "source": [
    "file_metadata = parquet_file.metadata\n",
    "row_group_metadata = file_metadata.row_group(0)"
   ]
  },
  {
   "cell_type": "code",
   "execution_count": 4,
   "id": "171a244e-65a9-4e39-a4f2-5918c86ad6be",
   "metadata": {
    "execution": {
     "iopub.execute_input": "2024-07-02T02:00:09.923400Z",
     "iopub.status.busy": "2024-07-02T02:00:09.922966Z",
     "iopub.status.idle": "2024-07-02T02:00:09.930046Z",
     "shell.execute_reply": "2024-07-02T02:00:09.929547Z",
     "shell.execute_reply.started": "2024-07-02T02:00:09.923375Z"
    }
   },
   "outputs": [
    {
     "data": {
      "text/plain": [
       "dict"
      ]
     },
     "execution_count": 4,
     "metadata": {},
     "output_type": "execute_result"
    }
   ],
   "source": [
    "type(file_metadata.metadata)"
   ]
  },
  {
   "cell_type": "code",
   "execution_count": null,
   "id": "d4dd15c6-8d59-4281-837d-d9c6673e3cc2",
   "metadata": {},
   "outputs": [],
   "source": [
    "file_metadata.row_group"
   ]
  },
  {
   "cell_type": "code",
   "execution_count": null,
   "id": "8f32834f-2cf6-41ec-887f-bed81d3678ba",
   "metadata": {},
   "outputs": [],
   "source": [
    "file_metadata.metadata"
   ]
  },
  {
   "cell_type": "code",
   "execution_count": 27,
   "id": "586492f5-20e5-4330-b187-ccbe2fa0e941",
   "metadata": {
    "execution": {
     "iopub.execute_input": "2024-07-01T23:57:24.540345Z",
     "iopub.status.busy": "2024-07-01T23:57:24.539908Z",
     "iopub.status.idle": "2024-07-01T23:57:24.547403Z",
     "shell.execute_reply": "2024-07-01T23:57:24.546653Z",
     "shell.execute_reply.started": "2024-07-01T23:57:24.540322Z"
    }
   },
   "outputs": [],
   "source": [
    "file_metadata.write_metadata_file('meta')"
   ]
  },
  {
   "cell_type": "code",
   "execution_count": null,
   "id": "ab7547ec-73cd-4c2e-a0cc-73f6f26cf8aa",
   "metadata": {},
   "outputs": [],
   "source": [
    "parquet_file.read_row_group(0)"
   ]
  },
  {
   "cell_type": "code",
   "execution_count": 69,
   "id": "b3f5667f-6e9f-42d0-848e-baa9cb2cb63b",
   "metadata": {
    "execution": {
     "iopub.execute_input": "2024-07-02T05:40:26.133264Z",
     "iopub.status.busy": "2024-07-02T05:40:26.132834Z",
     "iopub.status.idle": "2024-07-02T05:40:26.137899Z",
     "shell.execute_reply": "2024-07-02T05:40:26.137128Z",
     "shell.execute_reply.started": "2024-07-02T05:40:26.133240Z"
    }
   },
   "outputs": [],
   "source": [
    "row_group_start = row_group_metadata.column(0).dictionary_page_offset\n",
    "row_group_end = row_group_metadata.column(row_group_metadata.num_columns-1).file_offset"
   ]
  },
  {
   "cell_type": "code",
   "execution_count": 70,
   "id": "2a34c3f0-3284-42b7-b8c8-32964ba0bef2",
   "metadata": {
    "execution": {
     "iopub.execute_input": "2024-07-02T05:40:30.462151Z",
     "iopub.status.busy": "2024-07-02T05:40:30.461733Z",
     "iopub.status.idle": "2024-07-02T05:40:30.466462Z",
     "shell.execute_reply": "2024-07-02T05:40:30.465964Z",
     "shell.execute_reply.started": "2024-07-02T05:40:30.462126Z"
    }
   },
   "outputs": [
    {
     "data": {
      "text/plain": [
       "7977"
      ]
     },
     "execution_count": 70,
     "metadata": {},
     "output_type": "execute_result"
    }
   ],
   "source": [
    "row_group_end"
   ]
  },
  {
   "cell_type": "code",
   "execution_count": 5,
   "id": "6d029b53-e43b-40b8-95fa-4dfa250054cd",
   "metadata": {
    "execution": {
     "iopub.execute_input": "2024-07-01T23:09:02.359009Z",
     "iopub.status.busy": "2024-07-01T23:09:02.358606Z",
     "iopub.status.idle": "2024-07-01T23:09:02.363559Z",
     "shell.execute_reply": "2024-07-01T23:09:02.363050Z",
     "shell.execute_reply.started": "2024-07-01T23:09:02.358983Z"
    }
   },
   "outputs": [],
   "source": [
    "with open(file_path, 'rb') as f:\n",
    "    # Seek to the start of the row group\n",
    "    f.seek(row_group_start)\n",
    "\n",
    "    # Read the row group data\n",
    "    row_group_data = f.read(row_group_end-row_group_start)\n",
    "\n",
    "    f.seek(-8, 2)\n",
    "    footer_length = struct.unpack('<I', f.read(4))[0]\n",
    "    f.seek(-footer_length - 8, 2)\n",
    "    footer = f.read(footer_length)"
   ]
  },
  {
   "cell_type": "code",
   "execution_count": 6,
   "id": "e9753dc5-1caa-4e9f-9ffc-0afa4f1eeefa",
   "metadata": {
    "execution": {
     "iopub.execute_input": "2024-07-01T23:09:02.927344Z",
     "iopub.status.busy": "2024-07-01T23:09:02.926957Z",
     "iopub.status.idle": "2024-07-01T23:09:02.933865Z",
     "shell.execute_reply": "2024-07-01T23:09:02.933365Z",
     "shell.execute_reply.started": "2024-07-01T23:09:02.927317Z"
    }
   },
   "outputs": [
    {
     "data": {
      "text/plain": [
       "14702"
      ]
     },
     "execution_count": 6,
     "metadata": {},
     "output_type": "execute_result"
    }
   ],
   "source": [
    "footer_length"
   ]
  },
  {
   "cell_type": "code",
   "execution_count": null,
   "id": "a4fe4db4-ea07-480b-8d6c-e9f715f84642",
   "metadata": {
    "execution": {
     "execution_failed": "2024-07-02T01:48:43.140Z",
     "iopub.status.busy": "2024-07-02T01:48:40.324891Z"
    }
   },
   "outputs": [],
   "source": []
  },
  {
   "cell_type": "code",
   "execution_count": 21,
   "id": "56a08f37-95d0-4343-9c33-0772aa1bd313",
   "metadata": {
    "execution": {
     "iopub.execute_input": "2024-07-01T23:13:27.275573Z",
     "iopub.status.busy": "2024-07-01T23:13:27.275122Z",
     "iopub.status.idle": "2024-07-01T23:13:27.280672Z",
     "shell.execute_reply": "2024-07-01T23:13:27.280134Z",
     "shell.execute_reply.started": "2024-07-01T23:13:27.275544Z"
    }
   },
   "outputs": [],
   "source": [
    "PARQUET_MAGIC_BYTES = b'PAR1'\n",
    "footer_length = len(footer)\n",
    "\n",
    "# Create the complete file bytes\n",
    "complete_parquet_bytes = (\n",
    "    PARQUET_MAGIC_BYTES+\n",
    "    row_group_data +                # Row group bytes\n",
    "    footer +                   # Footer bytes\n",
    "    footer_length.to_bytes(4, 'little') +  # Footer length in little endian\n",
    "    PARQUET_MAGIC_BYTES              # Parquet magic bytes\n",
    ")\n",
    "\n",
    "#raw_buffer = pa.BufferReader(row_group_data)\n",
    "\n",
    "file_buffer = pa.BufferReader(complete_parquet_bytes)\n",
    "\n",
    "# Read the footer to get the schema and other metadata\n",
    "metadata = pq.read_metadata(file_buffer)\n",
    "schema = metadata.schema.to_arrow_schema()\n"
   ]
  },
  {
   "cell_type": "code",
   "execution_count": 22,
   "id": "1b2003fa-cb33-49b6-a05f-a06a4c84e998",
   "metadata": {
    "execution": {
     "iopub.execute_input": "2024-07-01T23:13:28.992123Z",
     "iopub.status.busy": "2024-07-01T23:13:28.991695Z",
     "iopub.status.idle": "2024-07-01T23:13:28.996669Z",
     "shell.execute_reply": "2024-07-01T23:13:28.996062Z",
     "shell.execute_reply.started": "2024-07-01T23:13:28.992096Z"
    }
   },
   "outputs": [
    {
     "data": {
      "text/plain": [
       "<pyarrow.BufferReader closed=False own_file=False is_seekable=True is_writable=False is_readable=True>"
      ]
     },
     "execution_count": 22,
     "metadata": {},
     "output_type": "execute_result"
    }
   ],
   "source": [
    "raw_buffer"
   ]
  },
  {
   "cell_type": "code",
   "execution_count": 14,
   "id": "21222f50-c486-43a4-bf5a-3cb5654545b6",
   "metadata": {
    "execution": {
     "iopub.execute_input": "2024-07-01T22:53:53.620706Z",
     "iopub.status.busy": "2024-07-01T22:53:53.620272Z",
     "iopub.status.idle": "2024-07-01T22:53:53.625477Z",
     "shell.execute_reply": "2024-07-01T22:53:53.624799Z",
     "shell.execute_reply.started": "2024-07-01T22:53:53.620682Z"
    }
   },
   "outputs": [
    {
     "data": {
      "text/plain": [
       "<pyarrow._parquet.ParquetSchema object at 0x2b84d10f7fc0>\n",
       "required group field_id=-1 schema {\n",
       "  optional binary field_id=-1 id (String);\n",
       "  optional binary field_id=-1 geometry;\n",
       "  optional int64 field_id=-1 __index_level_0__;\n",
       "}"
      ]
     },
     "execution_count": 14,
     "metadata": {},
     "output_type": "execute_result"
    }
   ],
   "source": [
    "metadata.schema"
   ]
  },
  {
   "cell_type": "code",
   "execution_count": 11,
   "id": "d54b222d-c48c-4b4a-bfb3-f8b14e5a9963",
   "metadata": {
    "execution": {
     "iopub.execute_input": "2024-07-01T22:53:31.564582Z",
     "iopub.status.busy": "2024-07-01T22:53:31.564165Z",
     "iopub.status.idle": "2024-07-01T22:53:31.568498Z",
     "shell.execute_reply": "2024-07-01T22:53:31.567678Z",
     "shell.execute_reply.started": "2024-07-01T22:53:31.564558Z"
    }
   },
   "outputs": [],
   "source": [
    "# import pyarrow as pa\n",
    "# import pyarrow.parquet as pq\n",
    "# import pandas as pd\n",
    "\n",
    "# def read_row_group_bytes(row_group_bytes, footer_bytes):\n",
    "#     # Length of the footer\n",
    "#     footer_length = len(footer_bytes)\n",
    "\n",
    "#     # Create the complete file bytes\n",
    "#     complete_footer_bytes = (\n",
    "#         row_group_bytes +                # Row group bytes\n",
    "#         footer_bytes +                   # Footer bytes\n",
    "#         footer_length.to_bytes(4, 'little') +  # Footer length in little endian\n",
    "#         PARQUET_MAGIC_BYTES              # Parquet magic bytes\n",
    "#     )\n",
    "\n",
    "#     footer_buffer = pa.BufferReader(complete_footer_bytes)\n",
    "\n",
    "#     # Read the footer to get the schema and other metadata\n",
    "#     metadata = pq.read_metadata(footer_buffer)\n",
    "#     schema = metadata.schema.to_arrow_schema()\n",
    "\n",
    "#     # Create a ParquetFile object using the footer and row group data\n",
    "#     parquet_file = pq.ParquetFile(pa.BufferInputStream(row_group_bytes), metadata=metadata)\n",
    "\n",
    "#     # Read the row group data into a table\n",
    "#     table = parquet_file.read()\n",
    "\n",
    "#     # Convert the PyArrow Table to a Pandas DataFrame\n",
    "#     df = table.to_pandas()\n",
    "\n",
    "#     return df"
   ]
  },
  {
   "cell_type": "code",
   "execution_count": null,
   "id": "730bd1aa-37a3-4045-a4a8-e6a23e22063e",
   "metadata": {},
   "outputs": [],
   "source": [
    "pq.read_table()"
   ]
  },
  {
   "cell_type": "code",
   "execution_count": 23,
   "id": "0a92c305-9d72-4c5b-8c9f-dfb6e696f62c",
   "metadata": {
    "execution": {
     "iopub.execute_input": "2024-07-01T23:13:32.175151Z",
     "iopub.status.busy": "2024-07-01T23:13:32.174720Z",
     "iopub.status.idle": "2024-07-01T23:13:32.260749Z",
     "shell.execute_reply": "2024-07-01T23:13:32.260010Z",
     "shell.execute_reply.started": "2024-07-01T23:13:32.175122Z"
    }
   },
   "outputs": [
    {
     "ename": "ArrowInvalid",
     "evalue": "Could not open Parquet input source '<Buffer>': Parquet magic bytes not found in footer. Either the file is corrupted or this is not a parquet file.",
     "output_type": "error",
     "traceback": [
      "\u001b[0;31m---------------------------------------------------------------------------\u001b[0m",
      "\u001b[0;31mArrowInvalid\u001b[0m                              Traceback (most recent call last)",
      "Cell \u001b[0;32mIn[23], line 1\u001b[0m\n\u001b[0;32m----> 1\u001b[0m \u001b[43mpq\u001b[49m\u001b[38;5;241;43m.\u001b[39;49m\u001b[43mread_table\u001b[49m\u001b[43m(\u001b[49m\u001b[43mraw_buffer\u001b[49m\u001b[43m)\u001b[49m\n",
      "File \u001b[0;32m/gpfs/data1/oshangp/easier/geohash-cid/py39/lib/python3.9/site-packages/pyarrow/parquet/core.py:1776\u001b[0m, in \u001b[0;36mread_table\u001b[0;34m(source, columns, use_threads, schema, use_pandas_metadata, read_dictionary, memory_map, buffer_size, partitioning, filesystem, filters, use_legacy_dataset, ignore_prefixes, pre_buffer, coerce_int96_timestamp_unit, decryption_properties, thrift_string_size_limit, thrift_container_size_limit, page_checksum_verification)\u001b[0m\n\u001b[1;32m   1770\u001b[0m     warnings\u001b[38;5;241m.\u001b[39mwarn(\n\u001b[1;32m   1771\u001b[0m         \u001b[38;5;124m\"\u001b[39m\u001b[38;5;124mPassing \u001b[39m\u001b[38;5;124m'\u001b[39m\u001b[38;5;124muse_legacy_dataset\u001b[39m\u001b[38;5;124m'\u001b[39m\u001b[38;5;124m is deprecated as of pyarrow 15.0.0 \u001b[39m\u001b[38;5;124m\"\u001b[39m\n\u001b[1;32m   1772\u001b[0m         \u001b[38;5;124m\"\u001b[39m\u001b[38;5;124mand will be removed in a future version.\u001b[39m\u001b[38;5;124m\"\u001b[39m,\n\u001b[1;32m   1773\u001b[0m         \u001b[38;5;167;01mFutureWarning\u001b[39;00m, stacklevel\u001b[38;5;241m=\u001b[39m\u001b[38;5;241m2\u001b[39m)\n\u001b[1;32m   1775\u001b[0m \u001b[38;5;28;01mtry\u001b[39;00m:\n\u001b[0;32m-> 1776\u001b[0m     dataset \u001b[38;5;241m=\u001b[39m \u001b[43mParquetDataset\u001b[49m\u001b[43m(\u001b[49m\n\u001b[1;32m   1777\u001b[0m \u001b[43m        \u001b[49m\u001b[43msource\u001b[49m\u001b[43m,\u001b[49m\n\u001b[1;32m   1778\u001b[0m \u001b[43m        \u001b[49m\u001b[43mschema\u001b[49m\u001b[38;5;241;43m=\u001b[39;49m\u001b[43mschema\u001b[49m\u001b[43m,\u001b[49m\n\u001b[1;32m   1779\u001b[0m \u001b[43m        \u001b[49m\u001b[43mfilesystem\u001b[49m\u001b[38;5;241;43m=\u001b[39;49m\u001b[43mfilesystem\u001b[49m\u001b[43m,\u001b[49m\n\u001b[1;32m   1780\u001b[0m \u001b[43m        \u001b[49m\u001b[43mpartitioning\u001b[49m\u001b[38;5;241;43m=\u001b[39;49m\u001b[43mpartitioning\u001b[49m\u001b[43m,\u001b[49m\n\u001b[1;32m   1781\u001b[0m \u001b[43m        \u001b[49m\u001b[43mmemory_map\u001b[49m\u001b[38;5;241;43m=\u001b[39;49m\u001b[43mmemory_map\u001b[49m\u001b[43m,\u001b[49m\n\u001b[1;32m   1782\u001b[0m \u001b[43m        \u001b[49m\u001b[43mread_dictionary\u001b[49m\u001b[38;5;241;43m=\u001b[39;49m\u001b[43mread_dictionary\u001b[49m\u001b[43m,\u001b[49m\n\u001b[1;32m   1783\u001b[0m \u001b[43m        \u001b[49m\u001b[43mbuffer_size\u001b[49m\u001b[38;5;241;43m=\u001b[39;49m\u001b[43mbuffer_size\u001b[49m\u001b[43m,\u001b[49m\n\u001b[1;32m   1784\u001b[0m \u001b[43m        \u001b[49m\u001b[43mfilters\u001b[49m\u001b[38;5;241;43m=\u001b[39;49m\u001b[43mfilters\u001b[49m\u001b[43m,\u001b[49m\n\u001b[1;32m   1785\u001b[0m \u001b[43m        \u001b[49m\u001b[43mignore_prefixes\u001b[49m\u001b[38;5;241;43m=\u001b[39;49m\u001b[43mignore_prefixes\u001b[49m\u001b[43m,\u001b[49m\n\u001b[1;32m   1786\u001b[0m \u001b[43m        \u001b[49m\u001b[43mpre_buffer\u001b[49m\u001b[38;5;241;43m=\u001b[39;49m\u001b[43mpre_buffer\u001b[49m\u001b[43m,\u001b[49m\n\u001b[1;32m   1787\u001b[0m \u001b[43m        \u001b[49m\u001b[43mcoerce_int96_timestamp_unit\u001b[49m\u001b[38;5;241;43m=\u001b[39;49m\u001b[43mcoerce_int96_timestamp_unit\u001b[49m\u001b[43m,\u001b[49m\n\u001b[1;32m   1788\u001b[0m \u001b[43m        \u001b[49m\u001b[43mthrift_string_size_limit\u001b[49m\u001b[38;5;241;43m=\u001b[39;49m\u001b[43mthrift_string_size_limit\u001b[49m\u001b[43m,\u001b[49m\n\u001b[1;32m   1789\u001b[0m \u001b[43m        \u001b[49m\u001b[43mthrift_container_size_limit\u001b[49m\u001b[38;5;241;43m=\u001b[39;49m\u001b[43mthrift_container_size_limit\u001b[49m\u001b[43m,\u001b[49m\n\u001b[1;32m   1790\u001b[0m \u001b[43m        \u001b[49m\u001b[43mpage_checksum_verification\u001b[49m\u001b[38;5;241;43m=\u001b[39;49m\u001b[43mpage_checksum_verification\u001b[49m\u001b[43m,\u001b[49m\n\u001b[1;32m   1791\u001b[0m \u001b[43m    \u001b[49m\u001b[43m)\u001b[49m\n\u001b[1;32m   1792\u001b[0m \u001b[38;5;28;01mexcept\u001b[39;00m \u001b[38;5;167;01mImportError\u001b[39;00m:\n\u001b[1;32m   1793\u001b[0m     \u001b[38;5;66;03m# fall back on ParquetFile for simple cases when pyarrow.dataset\u001b[39;00m\n\u001b[1;32m   1794\u001b[0m     \u001b[38;5;66;03m# module is not available\u001b[39;00m\n\u001b[1;32m   1795\u001b[0m     \u001b[38;5;28;01mif\u001b[39;00m filters \u001b[38;5;129;01mis\u001b[39;00m \u001b[38;5;129;01mnot\u001b[39;00m \u001b[38;5;28;01mNone\u001b[39;00m:\n",
      "File \u001b[0;32m/gpfs/data1/oshangp/easier/geohash-cid/py39/lib/python3.9/site-packages/pyarrow/parquet/core.py:1343\u001b[0m, in \u001b[0;36mParquetDataset.__init__\u001b[0;34m(self, path_or_paths, filesystem, schema, filters, read_dictionary, memory_map, buffer_size, partitioning, ignore_prefixes, pre_buffer, coerce_int96_timestamp_unit, decryption_properties, thrift_string_size_limit, thrift_container_size_limit, page_checksum_verification, use_legacy_dataset)\u001b[0m\n\u001b[1;32m   1339\u001b[0m \u001b[38;5;28;01mif\u001b[39;00m single_file \u001b[38;5;129;01mis\u001b[39;00m \u001b[38;5;129;01mnot\u001b[39;00m \u001b[38;5;28;01mNone\u001b[39;00m:\n\u001b[1;32m   1340\u001b[0m     fragment \u001b[38;5;241m=\u001b[39m parquet_format\u001b[38;5;241m.\u001b[39mmake_fragment(single_file, filesystem)\n\u001b[1;32m   1342\u001b[0m     \u001b[38;5;28mself\u001b[39m\u001b[38;5;241m.\u001b[39m_dataset \u001b[38;5;241m=\u001b[39m ds\u001b[38;5;241m.\u001b[39mFileSystemDataset(\n\u001b[0;32m-> 1343\u001b[0m         [fragment], schema\u001b[38;5;241m=\u001b[39mschema \u001b[38;5;129;01mor\u001b[39;00m \u001b[43mfragment\u001b[49m\u001b[38;5;241;43m.\u001b[39;49m\u001b[43mphysical_schema\u001b[49m,\n\u001b[1;32m   1344\u001b[0m         \u001b[38;5;28mformat\u001b[39m\u001b[38;5;241m=\u001b[39mparquet_format,\n\u001b[1;32m   1345\u001b[0m         filesystem\u001b[38;5;241m=\u001b[39mfragment\u001b[38;5;241m.\u001b[39mfilesystem\n\u001b[1;32m   1346\u001b[0m     )\n\u001b[1;32m   1347\u001b[0m     \u001b[38;5;28;01mreturn\u001b[39;00m\n\u001b[1;32m   1349\u001b[0m \u001b[38;5;66;03m# check partitioning to enable dictionary encoding\u001b[39;00m\n",
      "File \u001b[0;32m/gpfs/data1/oshangp/easier/geohash-cid/py39/lib/python3.9/site-packages/pyarrow/_dataset.pyx:1367\u001b[0m, in \u001b[0;36mpyarrow._dataset.Fragment.physical_schema.__get__\u001b[0;34m()\u001b[0m\n",
      "File \u001b[0;32m/gpfs/data1/oshangp/easier/geohash-cid/py39/lib/python3.9/site-packages/pyarrow/error.pxi:154\u001b[0m, in \u001b[0;36mpyarrow.lib.pyarrow_internal_check_status\u001b[0;34m()\u001b[0m\n",
      "File \u001b[0;32m/gpfs/data1/oshangp/easier/geohash-cid/py39/lib/python3.9/site-packages/pyarrow/error.pxi:91\u001b[0m, in \u001b[0;36mpyarrow.lib.check_status\u001b[0;34m()\u001b[0m\n",
      "\u001b[0;31mArrowInvalid\u001b[0m: Could not open Parquet input source '<Buffer>': Parquet magic bytes not found in footer. Either the file is corrupted or this is not a parquet file."
     ]
    }
   ],
   "source": [
    "pq.read_table(raw_buffer)"
   ]
  },
  {
   "cell_type": "code",
   "execution_count": 124,
   "id": "97fba483-33fc-4a0f-94e0-abe8b3003cf5",
   "metadata": {
    "execution": {
     "iopub.execute_input": "2024-07-01T08:22:10.125327Z",
     "iopub.status.busy": "2024-07-01T08:22:10.124887Z",
     "iopub.status.idle": "2024-07-01T08:22:10.976603Z",
     "shell.execute_reply": "2024-07-01T08:22:10.975643Z",
     "shell.execute_reply.started": "2024-07-01T08:22:10.125300Z"
    }
   },
   "outputs": [
    {
     "ename": "OSError",
     "evalue": "Invalid column metadata (corrupt file?)",
     "output_type": "error",
     "traceback": [
      "\u001b[0;31m---------------------------------------------------------------------------\u001b[0m",
      "\u001b[0;31mOSError\u001b[0m                                   Traceback (most recent call last)",
      "Cell \u001b[0;32mIn[124], line 1\u001b[0m\n\u001b[0;32m----> 1\u001b[0m df \u001b[38;5;241m=\u001b[39m \u001b[43mpq\u001b[49m\u001b[38;5;241;43m.\u001b[39;49m\u001b[43mParquetFile\u001b[49m\u001b[43m(\u001b[49m\u001b[43mfile_buffer\u001b[49m\u001b[43m)\u001b[49m\u001b[38;5;241;43m.\u001b[39;49m\u001b[43mread\u001b[49m\u001b[43m(\u001b[49m\u001b[43m)\u001b[49m\u001b[38;5;241m.\u001b[39mto_pandas()\n",
      "File \u001b[0;32m/gpfs/data1/oshangp/easier/geohash-cid/py39/lib/python3.9/site-packages/pyarrow/parquet/core.py:624\u001b[0m, in \u001b[0;36mParquetFile.read\u001b[0;34m(self, columns, use_threads, use_pandas_metadata)\u001b[0m\n\u001b[1;32m    582\u001b[0m \u001b[38;5;250m\u001b[39m\u001b[38;5;124;03m\"\"\"\u001b[39;00m\n\u001b[1;32m    583\u001b[0m \u001b[38;5;124;03mRead a Table from Parquet format.\u001b[39;00m\n\u001b[1;32m    584\u001b[0m \n\u001b[0;32m   (...)\u001b[0m\n\u001b[1;32m    620\u001b[0m \u001b[38;5;124;03manimal: [[\"Flamingo\",\"Parrot\",...,\"Brittle stars\",\"Centipede\"]]\u001b[39;00m\n\u001b[1;32m    621\u001b[0m \u001b[38;5;124;03m\"\"\"\u001b[39;00m\n\u001b[1;32m    622\u001b[0m column_indices \u001b[38;5;241m=\u001b[39m \u001b[38;5;28mself\u001b[39m\u001b[38;5;241m.\u001b[39m_get_column_indices(\n\u001b[1;32m    623\u001b[0m     columns, use_pandas_metadata\u001b[38;5;241m=\u001b[39muse_pandas_metadata)\n\u001b[0;32m--> 624\u001b[0m \u001b[38;5;28;01mreturn\u001b[39;00m \u001b[38;5;28;43mself\u001b[39;49m\u001b[38;5;241;43m.\u001b[39;49m\u001b[43mreader\u001b[49m\u001b[38;5;241;43m.\u001b[39;49m\u001b[43mread_all\u001b[49m\u001b[43m(\u001b[49m\u001b[43mcolumn_indices\u001b[49m\u001b[38;5;241;43m=\u001b[39;49m\u001b[43mcolumn_indices\u001b[49m\u001b[43m,\u001b[49m\n\u001b[1;32m    625\u001b[0m \u001b[43m                            \u001b[49m\u001b[43muse_threads\u001b[49m\u001b[38;5;241;43m=\u001b[39;49m\u001b[43muse_threads\u001b[49m\u001b[43m)\u001b[49m\n",
      "File \u001b[0;32m/gpfs/data1/oshangp/easier/geohash-cid/py39/lib/python3.9/site-packages/pyarrow/_parquet.pyx:1675\u001b[0m, in \u001b[0;36mpyarrow._parquet.ParquetReader.read_all\u001b[0;34m()\u001b[0m\n",
      "File \u001b[0;32m/gpfs/data1/oshangp/easier/geohash-cid/py39/lib/python3.9/site-packages/pyarrow/error.pxi:91\u001b[0m, in \u001b[0;36mpyarrow.lib.check_status\u001b[0;34m()\u001b[0m\n",
      "\u001b[0;31mOSError\u001b[0m: Invalid column metadata (corrupt file?)"
     ]
    }
   ],
   "source": [
    "df = pq.ParquetFile(file_buffer).read().to_pandas()"
   ]
  },
  {
   "cell_type": "code",
   "execution_count": 89,
   "id": "de753123-6da1-4aa7-9256-ef259d308299",
   "metadata": {
    "execution": {
     "iopub.execute_input": "2024-07-01T08:12:51.288757Z",
     "iopub.status.busy": "2024-07-01T08:12:51.288308Z",
     "iopub.status.idle": "2024-07-01T08:12:51.293463Z",
     "shell.execute_reply": "2024-07-01T08:12:51.292952Z",
     "shell.execute_reply.started": "2024-07-01T08:12:51.288730Z"
    }
   },
   "outputs": [
    {
     "data": {
      "text/plain": [
       "b'\\x01\\x01\\x00\\x00\\x00\\xed\\x83,\\x0b&\\x91^\\xc0\\xa9y\\xd8U\\x92\\xc7B@'"
      ]
     },
     "execution_count": 89,
     "metadata": {},
     "output_type": "execute_result"
    }
   ],
   "source": [
    "df.iloc[0].geometry"
   ]
  },
  {
   "cell_type": "code",
   "execution_count": null,
   "id": "38c64737-902b-4704-82d8-a236f9aa4348",
   "metadata": {},
   "outputs": [],
   "source": [
    "metadata.to_dict()"
   ]
  },
  {
   "cell_type": "code",
   "execution_count": 95,
   "id": "6b164aa5-fdf1-45fa-866d-81e8782298c1",
   "metadata": {
    "execution": {
     "iopub.execute_input": "2024-07-01T08:14:26.868927Z",
     "iopub.status.busy": "2024-07-01T08:14:26.868552Z",
     "iopub.status.idle": "2024-07-01T08:14:26.873560Z",
     "shell.execute_reply": "2024-07-01T08:14:26.872880Z",
     "shell.execute_reply.started": "2024-07-01T08:14:26.868900Z"
    }
   },
   "outputs": [
    {
     "data": {
      "text/plain": [
       "pandas.core.frame.DataFrame"
      ]
     },
     "execution_count": 95,
     "metadata": {},
     "output_type": "execute_result"
    }
   ],
   "source": [
    "type(df)"
   ]
  },
  {
   "cell_type": "code",
   "execution_count": 92,
   "id": "0593c6b0-11fd-4571-b2f8-14f400fd3500",
   "metadata": {
    "execution": {
     "iopub.execute_input": "2024-07-01T08:13:17.213554Z",
     "iopub.status.busy": "2024-07-01T08:13:17.213101Z",
     "iopub.status.idle": "2024-07-01T08:13:17.219636Z",
     "shell.execute_reply": "2024-07-01T08:13:17.219124Z",
     "shell.execute_reply.started": "2024-07-01T08:13:17.213527Z"
    }
   },
   "outputs": [
    {
     "data": {
      "text/plain": [
       "7295075      POINT (-122.267947 37.5591533)\n",
       "9884609      POINT (-95.2529326 32.3175498)\n",
       "9346720      POINT (-96.9693426 32.6577803)\n",
       "7723038     POINT (-117.6901221 33.9781458)\n",
       "9211371      POINT (-97.1767072 31.5412061)\n",
       "10166286    POINT (-104.7552143 38.8632789)\n",
       "10342841    POINT (-104.9605377 39.6769681)\n",
       "6627234     POINT (-117.1037212 33.0179705)\n",
       "8947394      POINT (-98.4872116 29.4669053)\n",
       "9537053         POINT (-94.6335299 29.4593)\n",
       "Name: geometry, dtype: object"
      ]
     },
     "execution_count": 92,
     "metadata": {},
     "output_type": "execute_result"
    }
   ],
   "source": [
    "df['geometry'].apply(wkb.loads)"
   ]
  },
  {
   "cell_type": "code",
   "execution_count": 56,
   "id": "56210a86-9f99-4d5e-954a-35d19d0dfd7e",
   "metadata": {
    "execution": {
     "iopub.execute_input": "2024-07-01T07:54:46.020080Z",
     "iopub.status.busy": "2024-07-01T07:54:46.019615Z",
     "iopub.status.idle": "2024-07-01T07:54:46.069228Z",
     "shell.execute_reply": "2024-07-01T07:54:46.068311Z",
     "shell.execute_reply.started": "2024-07-01T07:54:46.020054Z"
    }
   },
   "outputs": [
    {
     "ename": "AttributeError",
     "evalue": "module 'pyarrow' has no attribute 'BufferInputStream'",
     "output_type": "error",
     "traceback": [
      "\u001b[0;31m---------------------------------------------------------------------------\u001b[0m",
      "\u001b[0;31mAttributeError\u001b[0m                            Traceback (most recent call last)",
      "Cell \u001b[0;32mIn[56], line 1\u001b[0m\n\u001b[0;32m----> 1\u001b[0m \u001b[43mread_row_group_bytes\u001b[49m\u001b[43m(\u001b[49m\u001b[43mrow_group_data\u001b[49m\u001b[43m,\u001b[49m\u001b[43mfooter\u001b[49m\u001b[43m)\u001b[49m\n",
      "Cell \u001b[0;32mIn[55], line 24\u001b[0m, in \u001b[0;36mread_row_group_bytes\u001b[0;34m(row_group_bytes, footer_bytes)\u001b[0m\n\u001b[1;32m     21\u001b[0m schema \u001b[38;5;241m=\u001b[39m metadata\u001b[38;5;241m.\u001b[39mschema\u001b[38;5;241m.\u001b[39mto_arrow_schema()\n\u001b[1;32m     23\u001b[0m \u001b[38;5;66;03m# Create a ParquetFile object using the footer and row group data\u001b[39;00m\n\u001b[0;32m---> 24\u001b[0m parquet_file \u001b[38;5;241m=\u001b[39m pq\u001b[38;5;241m.\u001b[39mParquetFile(\u001b[43mpa\u001b[49m\u001b[38;5;241;43m.\u001b[39;49m\u001b[43mBufferInputStream\u001b[49m(row_group_bytes), metadata\u001b[38;5;241m=\u001b[39mmetadata)\n\u001b[1;32m     26\u001b[0m \u001b[38;5;66;03m# Read the row group data into a table\u001b[39;00m\n\u001b[1;32m     27\u001b[0m table \u001b[38;5;241m=\u001b[39m parquet_file\u001b[38;5;241m.\u001b[39mread()\n",
      "File \u001b[0;32m/gpfs/data1/oshangp/easier/geohash-cid/py39/lib/python3.9/site-packages/pyarrow/__init__.py:317\u001b[0m, in \u001b[0;36m__getattr__\u001b[0;34m(name)\u001b[0m\n\u001b[1;32m    313\u001b[0m     _warnings\u001b[38;5;241m.\u001b[39mwarn(_msg\u001b[38;5;241m.\u001b[39mformat(name, new_name),\n\u001b[1;32m    314\u001b[0m                    \u001b[38;5;167;01mFutureWarning\u001b[39;00m, stacklevel\u001b[38;5;241m=\u001b[39m\u001b[38;5;241m2\u001b[39m)\n\u001b[1;32m    315\u001b[0m     \u001b[38;5;28;01mreturn\u001b[39;00m obj\n\u001b[0;32m--> 317\u001b[0m \u001b[38;5;28;01mraise\u001b[39;00m \u001b[38;5;167;01mAttributeError\u001b[39;00m(\n\u001b[1;32m    318\u001b[0m     \u001b[38;5;124m\"\u001b[39m\u001b[38;5;124mmodule \u001b[39m\u001b[38;5;124m'\u001b[39m\u001b[38;5;124mpyarrow\u001b[39m\u001b[38;5;124m'\u001b[39m\u001b[38;5;124m has no attribute \u001b[39m\u001b[38;5;124m'\u001b[39m\u001b[38;5;132;01m{0}\u001b[39;00m\u001b[38;5;124m'\u001b[39m\u001b[38;5;124m\"\u001b[39m\u001b[38;5;241m.\u001b[39mformat(name)\n\u001b[1;32m    319\u001b[0m )\n",
      "\u001b[0;31mAttributeError\u001b[0m: module 'pyarrow' has no attribute 'BufferInputStream'"
     ]
    }
   ],
   "source": [
    "read_row_group_bytes(row_group_data,footer)"
   ]
  },
  {
   "cell_type": "code",
   "execution_count": 53,
   "id": "29fcd4f1-6ab3-4385-8159-73893a4d3eaf",
   "metadata": {
    "execution": {
     "iopub.execute_input": "2024-07-01T07:50:31.003850Z",
     "iopub.status.busy": "2024-07-01T07:50:31.003384Z",
     "iopub.status.idle": "2024-07-01T07:50:31.007607Z",
     "shell.execute_reply": "2024-07-01T07:50:31.006730Z",
     "shell.execute_reply.started": "2024-07-01T07:50:31.003823Z"
    }
   },
   "outputs": [],
   "source": [
    "footer_buffer = pa.BufferReader(footer)"
   ]
  },
  {
   "cell_type": "code",
   "execution_count": 54,
   "id": "64ed3c12-e0ed-4031-9074-0c10c038139e",
   "metadata": {
    "execution": {
     "iopub.execute_input": "2024-07-01T07:50:34.700319Z",
     "iopub.status.busy": "2024-07-01T07:50:34.699831Z",
     "iopub.status.idle": "2024-07-01T07:50:34.733469Z",
     "shell.execute_reply": "2024-07-01T07:50:34.732527Z",
     "shell.execute_reply.started": "2024-07-01T07:50:34.700293Z"
    }
   },
   "outputs": [
    {
     "ename": "ArrowInvalid",
     "evalue": "Parquet magic bytes not found in footer. Either the file is corrupted or this is not a parquet file.",
     "output_type": "error",
     "traceback": [
      "\u001b[0;31m---------------------------------------------------------------------------\u001b[0m",
      "\u001b[0;31mArrowInvalid\u001b[0m                              Traceback (most recent call last)",
      "Cell \u001b[0;32mIn[54], line 1\u001b[0m\n\u001b[0;32m----> 1\u001b[0m \u001b[43mpq\u001b[49m\u001b[38;5;241;43m.\u001b[39;49m\u001b[43mread_metadata\u001b[49m\u001b[43m(\u001b[49m\u001b[43mfooter_buffer\u001b[49m\u001b[43m)\u001b[49m\n",
      "File \u001b[0;32m/gpfs/data1/oshangp/easier/geohash-cid/py39/lib/python3.9/site-packages/pyarrow/parquet/core.py:2280\u001b[0m, in \u001b[0;36mread_metadata\u001b[0;34m(where, memory_map, decryption_properties, filesystem)\u001b[0m\n\u001b[1;32m   2277\u001b[0m     file_ctx \u001b[38;5;241m=\u001b[39m where \u001b[38;5;241m=\u001b[39m filesystem\u001b[38;5;241m.\u001b[39mopen_input_file(where)\n\u001b[1;32m   2279\u001b[0m \u001b[38;5;28;01mwith\u001b[39;00m file_ctx:\n\u001b[0;32m-> 2280\u001b[0m     file \u001b[38;5;241m=\u001b[39m \u001b[43mParquetFile\u001b[49m\u001b[43m(\u001b[49m\u001b[43mwhere\u001b[49m\u001b[43m,\u001b[49m\u001b[43m \u001b[49m\u001b[43mmemory_map\u001b[49m\u001b[38;5;241;43m=\u001b[39;49m\u001b[43mmemory_map\u001b[49m\u001b[43m,\u001b[49m\n\u001b[1;32m   2281\u001b[0m \u001b[43m                       \u001b[49m\u001b[43mdecryption_properties\u001b[49m\u001b[38;5;241;43m=\u001b[39;49m\u001b[43mdecryption_properties\u001b[49m\u001b[43m)\u001b[49m\n\u001b[1;32m   2282\u001b[0m     \u001b[38;5;28;01mreturn\u001b[39;00m file\u001b[38;5;241m.\u001b[39mmetadata\n",
      "File \u001b[0;32m/gpfs/data1/oshangp/easier/geohash-cid/py39/lib/python3.9/site-packages/pyarrow/parquet/core.py:318\u001b[0m, in \u001b[0;36mParquetFile.__init__\u001b[0;34m(self, source, metadata, common_metadata, read_dictionary, memory_map, buffer_size, pre_buffer, coerce_int96_timestamp_unit, decryption_properties, thrift_string_size_limit, thrift_container_size_limit, filesystem, page_checksum_verification)\u001b[0m\n\u001b[1;32m    315\u001b[0m     \u001b[38;5;28mself\u001b[39m\u001b[38;5;241m.\u001b[39m_close_source \u001b[38;5;241m=\u001b[39m \u001b[38;5;28;01mTrue\u001b[39;00m  \u001b[38;5;66;03m# We opened it here, ensure we close it.\u001b[39;00m\n\u001b[1;32m    317\u001b[0m \u001b[38;5;28mself\u001b[39m\u001b[38;5;241m.\u001b[39mreader \u001b[38;5;241m=\u001b[39m ParquetReader()\n\u001b[0;32m--> 318\u001b[0m \u001b[38;5;28;43mself\u001b[39;49m\u001b[38;5;241;43m.\u001b[39;49m\u001b[43mreader\u001b[49m\u001b[38;5;241;43m.\u001b[39;49m\u001b[43mopen\u001b[49m\u001b[43m(\u001b[49m\n\u001b[1;32m    319\u001b[0m \u001b[43m    \u001b[49m\u001b[43msource\u001b[49m\u001b[43m,\u001b[49m\u001b[43m \u001b[49m\u001b[43muse_memory_map\u001b[49m\u001b[38;5;241;43m=\u001b[39;49m\u001b[43mmemory_map\u001b[49m\u001b[43m,\u001b[49m\n\u001b[1;32m    320\u001b[0m \u001b[43m    \u001b[49m\u001b[43mbuffer_size\u001b[49m\u001b[38;5;241;43m=\u001b[39;49m\u001b[43mbuffer_size\u001b[49m\u001b[43m,\u001b[49m\u001b[43m \u001b[49m\u001b[43mpre_buffer\u001b[49m\u001b[38;5;241;43m=\u001b[39;49m\u001b[43mpre_buffer\u001b[49m\u001b[43m,\u001b[49m\n\u001b[1;32m    321\u001b[0m \u001b[43m    \u001b[49m\u001b[43mread_dictionary\u001b[49m\u001b[38;5;241;43m=\u001b[39;49m\u001b[43mread_dictionary\u001b[49m\u001b[43m,\u001b[49m\u001b[43m \u001b[49m\u001b[43mmetadata\u001b[49m\u001b[38;5;241;43m=\u001b[39;49m\u001b[43mmetadata\u001b[49m\u001b[43m,\u001b[49m\n\u001b[1;32m    322\u001b[0m \u001b[43m    \u001b[49m\u001b[43mcoerce_int96_timestamp_unit\u001b[49m\u001b[38;5;241;43m=\u001b[39;49m\u001b[43mcoerce_int96_timestamp_unit\u001b[49m\u001b[43m,\u001b[49m\n\u001b[1;32m    323\u001b[0m \u001b[43m    \u001b[49m\u001b[43mdecryption_properties\u001b[49m\u001b[38;5;241;43m=\u001b[39;49m\u001b[43mdecryption_properties\u001b[49m\u001b[43m,\u001b[49m\n\u001b[1;32m    324\u001b[0m \u001b[43m    \u001b[49m\u001b[43mthrift_string_size_limit\u001b[49m\u001b[38;5;241;43m=\u001b[39;49m\u001b[43mthrift_string_size_limit\u001b[49m\u001b[43m,\u001b[49m\n\u001b[1;32m    325\u001b[0m \u001b[43m    \u001b[49m\u001b[43mthrift_container_size_limit\u001b[49m\u001b[38;5;241;43m=\u001b[39;49m\u001b[43mthrift_container_size_limit\u001b[49m\u001b[43m,\u001b[49m\n\u001b[1;32m    326\u001b[0m \u001b[43m    \u001b[49m\u001b[43mpage_checksum_verification\u001b[49m\u001b[38;5;241;43m=\u001b[39;49m\u001b[43mpage_checksum_verification\u001b[49m\u001b[43m,\u001b[49m\n\u001b[1;32m    327\u001b[0m \u001b[43m\u001b[49m\u001b[43m)\u001b[49m\n\u001b[1;32m    328\u001b[0m \u001b[38;5;28mself\u001b[39m\u001b[38;5;241m.\u001b[39mcommon_metadata \u001b[38;5;241m=\u001b[39m common_metadata\n\u001b[1;32m    329\u001b[0m \u001b[38;5;28mself\u001b[39m\u001b[38;5;241m.\u001b[39m_nested_paths_by_prefix \u001b[38;5;241m=\u001b[39m \u001b[38;5;28mself\u001b[39m\u001b[38;5;241m.\u001b[39m_build_nested_paths()\n",
      "File \u001b[0;32m/gpfs/data1/oshangp/easier/geohash-cid/py39/lib/python3.9/site-packages/pyarrow/_parquet.pyx:1470\u001b[0m, in \u001b[0;36mpyarrow._parquet.ParquetReader.open\u001b[0;34m()\u001b[0m\n",
      "File \u001b[0;32m/gpfs/data1/oshangp/easier/geohash-cid/py39/lib/python3.9/site-packages/pyarrow/error.pxi:91\u001b[0m, in \u001b[0;36mpyarrow.lib.check_status\u001b[0;34m()\u001b[0m\n",
      "\u001b[0;31mArrowInvalid\u001b[0m: Parquet magic bytes not found in footer. Either the file is corrupted or this is not a parquet file."
     ]
    }
   ],
   "source": [
    "pq.read_metadata(footer_buffer)"
   ]
  },
  {
   "cell_type": "code",
   "execution_count": 51,
   "id": "d489f049-c2d1-43f3-8727-f1d56a1cb271",
   "metadata": {
    "execution": {
     "iopub.execute_input": "2024-07-01T07:48:44.895621Z",
     "iopub.status.busy": "2024-07-01T07:48:44.895160Z",
     "iopub.status.idle": "2024-07-01T07:48:44.954800Z",
     "shell.execute_reply": "2024-07-01T07:48:44.953856Z",
     "shell.execute_reply.started": "2024-07-01T07:48:44.895593Z"
    }
   },
   "outputs": [
    {
     "ename": "ArrowInvalid",
     "evalue": "Parquet magic bytes not found in footer. Either the file is corrupted or this is not a parquet file.",
     "output_type": "error",
     "traceback": [
      "\u001b[0;31m---------------------------------------------------------------------------\u001b[0m",
      "\u001b[0;31mArrowInvalid\u001b[0m                              Traceback (most recent call last)",
      "Cell \u001b[0;32mIn[51], line 1\u001b[0m\n\u001b[0;32m----> 1\u001b[0m df \u001b[38;5;241m=\u001b[39m \u001b[43mread_row_group_bytes\u001b[49m\u001b[43m(\u001b[49m\u001b[43mrow_group_data\u001b[49m\u001b[43m,\u001b[49m\u001b[43m \u001b[49m\u001b[43mfooter\u001b[49m\u001b[43m)\u001b[49m\n",
      "Cell \u001b[0;32mIn[49], line 11\u001b[0m, in \u001b[0;36mread_row_group_bytes\u001b[0;34m(row_group_bytes, footer_bytes)\u001b[0m\n\u001b[1;32m      8\u001b[0m footer_buffer \u001b[38;5;241m=\u001b[39m pa\u001b[38;5;241m.\u001b[39mBufferReader(footer_bytes)\n\u001b[1;32m     10\u001b[0m \u001b[38;5;66;03m# Read the footer to get the schema and other metadata\u001b[39;00m\n\u001b[0;32m---> 11\u001b[0m metadata \u001b[38;5;241m=\u001b[39m \u001b[43mpq\u001b[49m\u001b[38;5;241;43m.\u001b[39;49m\u001b[43mread_metadata\u001b[49m\u001b[43m(\u001b[49m\u001b[43mfooter_buffer\u001b[49m\u001b[43m)\u001b[49m\n\u001b[1;32m     12\u001b[0m schema \u001b[38;5;241m=\u001b[39m metadata\u001b[38;5;241m.\u001b[39mschema\u001b[38;5;241m.\u001b[39mto_arrow_schema()\n\u001b[1;32m     14\u001b[0m \u001b[38;5;66;03m# Create a ParquetFile object using the footer and row group data\u001b[39;00m\n",
      "File \u001b[0;32m/gpfs/data1/oshangp/easier/geohash-cid/py39/lib/python3.9/site-packages/pyarrow/parquet/core.py:2280\u001b[0m, in \u001b[0;36mread_metadata\u001b[0;34m(where, memory_map, decryption_properties, filesystem)\u001b[0m\n\u001b[1;32m   2277\u001b[0m     file_ctx \u001b[38;5;241m=\u001b[39m where \u001b[38;5;241m=\u001b[39m filesystem\u001b[38;5;241m.\u001b[39mopen_input_file(where)\n\u001b[1;32m   2279\u001b[0m \u001b[38;5;28;01mwith\u001b[39;00m file_ctx:\n\u001b[0;32m-> 2280\u001b[0m     file \u001b[38;5;241m=\u001b[39m \u001b[43mParquetFile\u001b[49m\u001b[43m(\u001b[49m\u001b[43mwhere\u001b[49m\u001b[43m,\u001b[49m\u001b[43m \u001b[49m\u001b[43mmemory_map\u001b[49m\u001b[38;5;241;43m=\u001b[39;49m\u001b[43mmemory_map\u001b[49m\u001b[43m,\u001b[49m\n\u001b[1;32m   2281\u001b[0m \u001b[43m                       \u001b[49m\u001b[43mdecryption_properties\u001b[49m\u001b[38;5;241;43m=\u001b[39;49m\u001b[43mdecryption_properties\u001b[49m\u001b[43m)\u001b[49m\n\u001b[1;32m   2282\u001b[0m     \u001b[38;5;28;01mreturn\u001b[39;00m file\u001b[38;5;241m.\u001b[39mmetadata\n",
      "File \u001b[0;32m/gpfs/data1/oshangp/easier/geohash-cid/py39/lib/python3.9/site-packages/pyarrow/parquet/core.py:318\u001b[0m, in \u001b[0;36mParquetFile.__init__\u001b[0;34m(self, source, metadata, common_metadata, read_dictionary, memory_map, buffer_size, pre_buffer, coerce_int96_timestamp_unit, decryption_properties, thrift_string_size_limit, thrift_container_size_limit, filesystem, page_checksum_verification)\u001b[0m\n\u001b[1;32m    315\u001b[0m     \u001b[38;5;28mself\u001b[39m\u001b[38;5;241m.\u001b[39m_close_source \u001b[38;5;241m=\u001b[39m \u001b[38;5;28;01mTrue\u001b[39;00m  \u001b[38;5;66;03m# We opened it here, ensure we close it.\u001b[39;00m\n\u001b[1;32m    317\u001b[0m \u001b[38;5;28mself\u001b[39m\u001b[38;5;241m.\u001b[39mreader \u001b[38;5;241m=\u001b[39m ParquetReader()\n\u001b[0;32m--> 318\u001b[0m \u001b[38;5;28;43mself\u001b[39;49m\u001b[38;5;241;43m.\u001b[39;49m\u001b[43mreader\u001b[49m\u001b[38;5;241;43m.\u001b[39;49m\u001b[43mopen\u001b[49m\u001b[43m(\u001b[49m\n\u001b[1;32m    319\u001b[0m \u001b[43m    \u001b[49m\u001b[43msource\u001b[49m\u001b[43m,\u001b[49m\u001b[43m \u001b[49m\u001b[43muse_memory_map\u001b[49m\u001b[38;5;241;43m=\u001b[39;49m\u001b[43mmemory_map\u001b[49m\u001b[43m,\u001b[49m\n\u001b[1;32m    320\u001b[0m \u001b[43m    \u001b[49m\u001b[43mbuffer_size\u001b[49m\u001b[38;5;241;43m=\u001b[39;49m\u001b[43mbuffer_size\u001b[49m\u001b[43m,\u001b[49m\u001b[43m \u001b[49m\u001b[43mpre_buffer\u001b[49m\u001b[38;5;241;43m=\u001b[39;49m\u001b[43mpre_buffer\u001b[49m\u001b[43m,\u001b[49m\n\u001b[1;32m    321\u001b[0m \u001b[43m    \u001b[49m\u001b[43mread_dictionary\u001b[49m\u001b[38;5;241;43m=\u001b[39;49m\u001b[43mread_dictionary\u001b[49m\u001b[43m,\u001b[49m\u001b[43m \u001b[49m\u001b[43mmetadata\u001b[49m\u001b[38;5;241;43m=\u001b[39;49m\u001b[43mmetadata\u001b[49m\u001b[43m,\u001b[49m\n\u001b[1;32m    322\u001b[0m \u001b[43m    \u001b[49m\u001b[43mcoerce_int96_timestamp_unit\u001b[49m\u001b[38;5;241;43m=\u001b[39;49m\u001b[43mcoerce_int96_timestamp_unit\u001b[49m\u001b[43m,\u001b[49m\n\u001b[1;32m    323\u001b[0m \u001b[43m    \u001b[49m\u001b[43mdecryption_properties\u001b[49m\u001b[38;5;241;43m=\u001b[39;49m\u001b[43mdecryption_properties\u001b[49m\u001b[43m,\u001b[49m\n\u001b[1;32m    324\u001b[0m \u001b[43m    \u001b[49m\u001b[43mthrift_string_size_limit\u001b[49m\u001b[38;5;241;43m=\u001b[39;49m\u001b[43mthrift_string_size_limit\u001b[49m\u001b[43m,\u001b[49m\n\u001b[1;32m    325\u001b[0m \u001b[43m    \u001b[49m\u001b[43mthrift_container_size_limit\u001b[49m\u001b[38;5;241;43m=\u001b[39;49m\u001b[43mthrift_container_size_limit\u001b[49m\u001b[43m,\u001b[49m\n\u001b[1;32m    326\u001b[0m \u001b[43m    \u001b[49m\u001b[43mpage_checksum_verification\u001b[49m\u001b[38;5;241;43m=\u001b[39;49m\u001b[43mpage_checksum_verification\u001b[49m\u001b[43m,\u001b[49m\n\u001b[1;32m    327\u001b[0m \u001b[43m\u001b[49m\u001b[43m)\u001b[49m\n\u001b[1;32m    328\u001b[0m \u001b[38;5;28mself\u001b[39m\u001b[38;5;241m.\u001b[39mcommon_metadata \u001b[38;5;241m=\u001b[39m common_metadata\n\u001b[1;32m    329\u001b[0m \u001b[38;5;28mself\u001b[39m\u001b[38;5;241m.\u001b[39m_nested_paths_by_prefix \u001b[38;5;241m=\u001b[39m \u001b[38;5;28mself\u001b[39m\u001b[38;5;241m.\u001b[39m_build_nested_paths()\n",
      "File \u001b[0;32m/gpfs/data1/oshangp/easier/geohash-cid/py39/lib/python3.9/site-packages/pyarrow/_parquet.pyx:1470\u001b[0m, in \u001b[0;36mpyarrow._parquet.ParquetReader.open\u001b[0;34m()\u001b[0m\n",
      "File \u001b[0;32m/gpfs/data1/oshangp/easier/geohash-cid/py39/lib/python3.9/site-packages/pyarrow/error.pxi:91\u001b[0m, in \u001b[0;36mpyarrow.lib.check_status\u001b[0;34m()\u001b[0m\n",
      "\u001b[0;31mArrowInvalid\u001b[0m: Parquet magic bytes not found in footer. Either the file is corrupted or this is not a parquet file."
     ]
    }
   ],
   "source": [
    "df = read_row_group_bytes(row_group_data, footer)"
   ]
  },
  {
   "cell_type": "code",
   "execution_count": 44,
   "id": "305f3aab-bea9-4727-bec0-9259522d50d8",
   "metadata": {
    "execution": {
     "iopub.execute_input": "2024-07-01T07:44:22.267702Z",
     "iopub.status.busy": "2024-07-01T07:44:22.267241Z",
     "iopub.status.idle": "2024-07-01T07:44:22.273687Z",
     "shell.execute_reply": "2024-07-01T07:44:22.272783Z",
     "shell.execute_reply.started": "2024-07-01T07:44:22.267675Z"
    }
   },
   "outputs": [],
   "source": [
    "class ParquetBuffer(io.BytesIO):\n",
    "    def __init__(self, row_group_data, file_metadata):\n",
    "        self.row_group_data = row_group_data\n",
    "        self.file_metadata = file_metadata\n",
    "        \n",
    "        # Construct the Parquet file structure\n",
    "        self.construct_file()\n",
    "        \n",
    "    def construct_file(self):\n",
    "        # Start with Parquet magic number\n",
    "        self.write(b'PAR1')\n",
    "        \n",
    "        # Write column data\n",
    "        data_start = self.tell()\n",
    "        self.write(self.row_group_data)\n",
    "        data_end = self.tell()\n",
    "        \n",
    "        # Write file metadata\n",
    "        file_metadata_start = self.tell()\n",
    "        self.write(self.file_metadata)\n",
    "        file_metadata_end = self.tell()\n",
    "        \n",
    "        # Write metadata size and Parquet magic number\n",
    "        metadata_size = file_metadata_end - file_metadata_start\n",
    "        self.write(struct.pack('<I', metadata_size))\n",
    "        self.write(b'PAR1')\n",
    "        \n",
    "        # Seek to the beginning of the buffer\n",
    "        self.seek(0)"
   ]
  },
  {
   "cell_type": "code",
   "execution_count": null,
   "id": "5ef8a602-c215-4768-a04c-ae1483da4fa9",
   "metadata": {},
   "outputs": [],
   "source": []
  },
  {
   "cell_type": "code",
   "execution_count": 45,
   "id": "11cac689-66ee-422a-9013-57cccf18174e",
   "metadata": {
    "execution": {
     "iopub.execute_input": "2024-07-01T07:44:24.240371Z",
     "iopub.status.busy": "2024-07-01T07:44:24.239914Z",
     "iopub.status.idle": "2024-07-01T07:44:24.244135Z",
     "shell.execute_reply": "2024-07-01T07:44:24.243266Z",
     "shell.execute_reply.started": "2024-07-01T07:44:24.240343Z"
    }
   },
   "outputs": [],
   "source": [
    "p_buf = ParquetBuffer(row_group_data, footer)"
   ]
  },
  {
   "cell_type": "code",
   "execution_count": 48,
   "id": "c67b1852-2520-40e7-9341-24d8dc68a1d9",
   "metadata": {
    "execution": {
     "iopub.execute_input": "2024-07-01T07:45:22.292207Z",
     "iopub.status.busy": "2024-07-01T07:45:22.291763Z",
     "iopub.status.idle": "2024-07-01T07:45:22.330489Z",
     "shell.execute_reply": "2024-07-01T07:45:22.329570Z",
     "shell.execute_reply.started": "2024-07-01T07:45:22.292180Z"
    }
   },
   "outputs": [
    {
     "ename": "OSError",
     "evalue": "Corrupt snappy compressed data.",
     "output_type": "error",
     "traceback": [
      "\u001b[0;31m---------------------------------------------------------------------------\u001b[0m",
      "\u001b[0;31mOSError\u001b[0m                                   Traceback (most recent call last)",
      "Cell \u001b[0;32mIn[48], line 1\u001b[0m\n\u001b[0;32m----> 1\u001b[0m \u001b[43mpq\u001b[49m\u001b[38;5;241;43m.\u001b[39;49m\u001b[43mParquetFile\u001b[49m\u001b[43m(\u001b[49m\u001b[43mp_buf\u001b[49m\u001b[43m)\u001b[49m\u001b[38;5;241;43m.\u001b[39;49m\u001b[43mread_row_group\u001b[49m\u001b[43m(\u001b[49m\u001b[38;5;241;43m0\u001b[39;49m\u001b[43m)\u001b[49m\n",
      "File \u001b[0;32m/gpfs/data1/oshangp/easier/geohash-cid/py39/lib/python3.9/site-packages/pyarrow/parquet/core.py:468\u001b[0m, in \u001b[0;36mParquetFile.read_row_group\u001b[0;34m(self, i, columns, use_threads, use_pandas_metadata)\u001b[0m\n\u001b[1;32m    426\u001b[0m \u001b[38;5;250m\u001b[39m\u001b[38;5;124;03m\"\"\"\u001b[39;00m\n\u001b[1;32m    427\u001b[0m \u001b[38;5;124;03mRead a single row group from a Parquet file.\u001b[39;00m\n\u001b[1;32m    428\u001b[0m \n\u001b[0;32m   (...)\u001b[0m\n\u001b[1;32m    464\u001b[0m \u001b[38;5;124;03manimal: [[\"Flamingo\",\"Parrot\",...,\"Brittle stars\",\"Centipede\"]]\u001b[39;00m\n\u001b[1;32m    465\u001b[0m \u001b[38;5;124;03m\"\"\"\u001b[39;00m\n\u001b[1;32m    466\u001b[0m column_indices \u001b[38;5;241m=\u001b[39m \u001b[38;5;28mself\u001b[39m\u001b[38;5;241m.\u001b[39m_get_column_indices(\n\u001b[1;32m    467\u001b[0m     columns, use_pandas_metadata\u001b[38;5;241m=\u001b[39muse_pandas_metadata)\n\u001b[0;32m--> 468\u001b[0m \u001b[38;5;28;01mreturn\u001b[39;00m \u001b[38;5;28;43mself\u001b[39;49m\u001b[38;5;241;43m.\u001b[39;49m\u001b[43mreader\u001b[49m\u001b[38;5;241;43m.\u001b[39;49m\u001b[43mread_row_group\u001b[49m\u001b[43m(\u001b[49m\u001b[43mi\u001b[49m\u001b[43m,\u001b[49m\u001b[43m \u001b[49m\u001b[43mcolumn_indices\u001b[49m\u001b[38;5;241;43m=\u001b[39;49m\u001b[43mcolumn_indices\u001b[49m\u001b[43m,\u001b[49m\n\u001b[1;32m    469\u001b[0m \u001b[43m                                  \u001b[49m\u001b[43muse_threads\u001b[49m\u001b[38;5;241;43m=\u001b[39;49m\u001b[43muse_threads\u001b[49m\u001b[43m)\u001b[49m\n",
      "File \u001b[0;32m/gpfs/data1/oshangp/easier/geohash-cid/py39/lib/python3.9/site-packages/pyarrow/_parquet.pyx:1608\u001b[0m, in \u001b[0;36mpyarrow._parquet.ParquetReader.read_row_group\u001b[0;34m()\u001b[0m\n",
      "File \u001b[0;32m/gpfs/data1/oshangp/easier/geohash-cid/py39/lib/python3.9/site-packages/pyarrow/_parquet.pyx:1644\u001b[0m, in \u001b[0;36mpyarrow._parquet.ParquetReader.read_row_groups\u001b[0;34m()\u001b[0m\n",
      "File \u001b[0;32m/gpfs/data1/oshangp/easier/geohash-cid/py39/lib/python3.9/site-packages/pyarrow/error.pxi:91\u001b[0m, in \u001b[0;36mpyarrow.lib.check_status\u001b[0;34m()\u001b[0m\n",
      "\u001b[0;31mOSError\u001b[0m: Corrupt snappy compressed data."
     ]
    }
   ],
   "source": [
    "pq.ParquetFile(p_buf).read_row_group(0)"
   ]
  },
  {
   "cell_type": "code",
   "execution_count": 11,
   "id": "385da61e-0473-40a7-b74c-e69904bb80df",
   "metadata": {
    "execution": {
     "iopub.execute_input": "2024-07-01T07:04:30.147002Z",
     "iopub.status.busy": "2024-07-01T07:04:30.146629Z",
     "iopub.status.idle": "2024-07-01T07:04:30.150177Z",
     "shell.execute_reply": "2024-07-01T07:04:30.149463Z",
     "shell.execute_reply.started": "2024-07-01T07:04:30.146979Z"
    }
   },
   "outputs": [],
   "source": [
    "# Create a PyArrow buffer from the read data\n",
    "buffer = pa.py_buffer(row_group_data)"
   ]
  },
  {
   "cell_type": "code",
   "execution_count": 12,
   "id": "75f1ec0c-a818-4da8-a84a-f1ae3300d010",
   "metadata": {
    "execution": {
     "iopub.execute_input": "2024-07-01T07:04:31.942580Z",
     "iopub.status.busy": "2024-07-01T07:04:31.942208Z",
     "iopub.status.idle": "2024-07-01T07:04:31.947016Z",
     "shell.execute_reply": "2024-07-01T07:04:31.946523Z",
     "shell.execute_reply.started": "2024-07-01T07:04:31.942557Z"
    }
   },
   "outputs": [
    {
     "data": {
      "text/plain": [
       "id: string\n",
       "geometry: binary\n",
       "bbox: struct<xmax: double, xmin: double, ymax: double, ymin: double>\n",
       "  child 0, xmax: double\n",
       "  child 1, xmin: double\n",
       "  child 2, ymax: double\n",
       "  child 3, ymin: double\n",
       "version: int32\n",
       "update_time: string\n",
       "sources: list<element: struct<confidence: null, dataset: string, property: string, record_id: string>>\n",
       "  child 0, element: struct<confidence: null, dataset: string, property: string, record_id: string>\n",
       "      child 0, confidence: null\n",
       "      child 1, dataset: string\n",
       "      child 2, property: string\n",
       "      child 3, record_id: string\n",
       "names: struct<common: null, primary: string, rules: null>\n",
       "  child 0, common: null\n",
       "  child 1, primary: string\n",
       "  child 2, rules: null\n",
       "categories: struct<alternate: list<element: string>, main: string>\n",
       "  child 0, alternate: list<element: string>\n",
       "      child 0, element: string\n",
       "  child 1, main: string\n",
       "confidence: double\n",
       "websites: list<element: string>\n",
       "  child 0, element: string\n",
       "socials: list<element: string>\n",
       "  child 0, element: string\n",
       "emails: null\n",
       "phones: list<element: string>\n",
       "  child 0, element: string\n",
       "brand: null\n",
       "addresses: list<element: struct<country: string, freeform: string, locality: string, postcode: string, region: string>>\n",
       "  child 0, element: struct<country: string, freeform: string, locality: string, postcode: string, region: string>\n",
       "      child 0, country: string\n",
       "      child 1, freeform: string\n",
       "      child 2, locality: string\n",
       "      child 3, postcode: string\n",
       "      child 4, region: string\n",
       "__index_level_0__: int64\n",
       "-- schema metadata --\n",
       "pandas: '{\"index_columns\": [\"__index_level_0__\"], \"column_indexes\": [{\"na' + 2056\n",
       "geo: '{\"primary_column\": \"geometry\", \"columns\": {\"geometry\": {\"encoding\":' + 1309"
      ]
     },
     "execution_count": 12,
     "metadata": {},
     "output_type": "execute_result"
    }
   ],
   "source": [
    "schema.to_arrow_schema()"
   ]
  },
  {
   "cell_type": "code",
   "execution_count": 64,
   "id": "7f7c1a05-bdc1-4050-850f-9542ebcc725e",
   "metadata": {
    "execution": {
     "iopub.execute_input": "2024-07-01T01:52:16.931453Z",
     "iopub.status.busy": "2024-07-01T01:52:16.931060Z",
     "iopub.status.idle": "2024-07-01T01:52:16.935860Z",
     "shell.execute_reply": "2024-07-01T01:52:16.935366Z",
     "shell.execute_reply.started": "2024-07-01T01:52:16.931430Z"
    }
   },
   "outputs": [
    {
     "data": {
      "text/plain": [
       "<pyarrow._parquet.FileMetaData object at 0x2ad990e88130>\n",
       "  created_by: parquet-cpp-arrow version 15.0.2\n",
       "  num_columns: 29\n",
       "  num_rows: 10\n",
       "  num_row_groups: 1\n",
       "  format_version: 2.6\n",
       "  serialized_size: 14702"
      ]
     },
     "execution_count": 64,
     "metadata": {},
     "output_type": "execute_result"
    }
   ],
   "source": [
    "metadata"
   ]
  },
  {
   "cell_type": "code",
   "execution_count": 13,
   "id": "95c912b9-df2e-4c87-b929-4c5fb7f904e5",
   "metadata": {
    "execution": {
     "iopub.execute_input": "2024-07-01T07:04:39.954743Z",
     "iopub.status.busy": "2024-07-01T07:04:39.954377Z",
     "iopub.status.idle": "2024-07-01T07:04:39.958779Z",
     "shell.execute_reply": "2024-07-01T07:04:39.958082Z",
     "shell.execute_reply.started": "2024-07-01T07:04:39.954719Z"
    }
   },
   "outputs": [],
   "source": [
    "meta_dict = metadata.to_dict()"
   ]
  },
  {
   "cell_type": "code",
   "execution_count": null,
   "id": "60d7d3c0-8ff3-4572-9a4c-bfad7da92295",
   "metadata": {},
   "outputs": [],
   "source": [
    "meta_dict"
   ]
  },
  {
   "cell_type": "code",
   "execution_count": null,
   "id": "8a7ac901-b08b-4bf6-a87c-eb825cdc22a2",
   "metadata": {
    "execution": {
     "execution_failed": "2024-07-01T07:04:43.861Z"
    }
   },
   "outputs": [],
   "source": [
    "pq.FileMetaData(meta_dict)"
   ]
  },
  {
   "cell_type": "code",
   "execution_count": 1,
   "id": "7a96d5da-268e-41b3-b32c-4474464bf13a",
   "metadata": {
    "execution": {
     "iopub.execute_input": "2024-07-01T07:19:29.478953Z",
     "iopub.status.busy": "2024-07-01T07:19:29.478493Z",
     "iopub.status.idle": "2024-07-01T07:19:29.869918Z",
     "shell.execute_reply": "2024-07-01T07:19:29.869002Z",
     "shell.execute_reply.started": "2024-07-01T07:19:29.478926Z"
    }
   },
   "outputs": [
    {
     "ename": "NameError",
     "evalue": "name 'metadata' is not defined",
     "output_type": "error",
     "traceback": [
      "\u001b[0;31m---------------------------------------------------------------------------\u001b[0m",
      "\u001b[0;31mNameError\u001b[0m                                 Traceback (most recent call last)",
      "Cell \u001b[0;32mIn[1], line 1\u001b[0m\n\u001b[0;32m----> 1\u001b[0m \u001b[43mmetadata\u001b[49m\n",
      "\u001b[0;31mNameError\u001b[0m: name 'metadata' is not defined"
     ]
    }
   ],
   "source": [
    "metadata"
   ]
  },
  {
   "cell_type": "code",
   "execution_count": 66,
   "id": "170e1832-ed39-4595-8328-f3c269ed331b",
   "metadata": {
    "execution": {
     "iopub.execute_input": "2024-07-01T01:53:19.311062Z",
     "iopub.status.busy": "2024-07-01T01:53:19.310679Z",
     "iopub.status.idle": "2024-07-01T01:53:19.348164Z",
     "shell.execute_reply": "2024-07-01T01:53:19.347502Z",
     "shell.execute_reply.started": "2024-07-01T01:53:19.311038Z"
    }
   },
   "outputs": [
    {
     "ename": "OSError",
     "evalue": "Invalid column metadata (corrupt file?)",
     "output_type": "error",
     "traceback": [
      "\u001b[0;31m---------------------------------------------------------------------------\u001b[0m",
      "\u001b[0;31mOSError\u001b[0m                                   Traceback (most recent call last)",
      "Cell \u001b[0;32mIn[66], line 5\u001b[0m\n\u001b[1;32m      2\u001b[0m pf \u001b[38;5;241m=\u001b[39m pq\u001b[38;5;241m.\u001b[39mParquetFile(buffer,metadata\u001b[38;5;241m=\u001b[39mmetadata)\n\u001b[1;32m      4\u001b[0m \u001b[38;5;66;03m# Convert the PyArrow Table to a Pandas DataFrame\u001b[39;00m\n\u001b[0;32m----> 5\u001b[0m df \u001b[38;5;241m=\u001b[39m \u001b[43mpf\u001b[49m\u001b[38;5;241;43m.\u001b[39;49m\u001b[43mread\u001b[49m\u001b[43m(\u001b[49m\u001b[43m)\u001b[49m\n",
      "File \u001b[0;32m/gpfs/data1/oshangp/easier/geohash-cid/py39/lib/python3.9/site-packages/pyarrow/parquet/core.py:624\u001b[0m, in \u001b[0;36mParquetFile.read\u001b[0;34m(self, columns, use_threads, use_pandas_metadata)\u001b[0m\n\u001b[1;32m    582\u001b[0m \u001b[38;5;250m\u001b[39m\u001b[38;5;124;03m\"\"\"\u001b[39;00m\n\u001b[1;32m    583\u001b[0m \u001b[38;5;124;03mRead a Table from Parquet format.\u001b[39;00m\n\u001b[1;32m    584\u001b[0m \n\u001b[0;32m   (...)\u001b[0m\n\u001b[1;32m    620\u001b[0m \u001b[38;5;124;03manimal: [[\"Flamingo\",\"Parrot\",...,\"Brittle stars\",\"Centipede\"]]\u001b[39;00m\n\u001b[1;32m    621\u001b[0m \u001b[38;5;124;03m\"\"\"\u001b[39;00m\n\u001b[1;32m    622\u001b[0m column_indices \u001b[38;5;241m=\u001b[39m \u001b[38;5;28mself\u001b[39m\u001b[38;5;241m.\u001b[39m_get_column_indices(\n\u001b[1;32m    623\u001b[0m     columns, use_pandas_metadata\u001b[38;5;241m=\u001b[39muse_pandas_metadata)\n\u001b[0;32m--> 624\u001b[0m \u001b[38;5;28;01mreturn\u001b[39;00m \u001b[38;5;28;43mself\u001b[39;49m\u001b[38;5;241;43m.\u001b[39;49m\u001b[43mreader\u001b[49m\u001b[38;5;241;43m.\u001b[39;49m\u001b[43mread_all\u001b[49m\u001b[43m(\u001b[49m\u001b[43mcolumn_indices\u001b[49m\u001b[38;5;241;43m=\u001b[39;49m\u001b[43mcolumn_indices\u001b[49m\u001b[43m,\u001b[49m\n\u001b[1;32m    625\u001b[0m \u001b[43m                            \u001b[49m\u001b[43muse_threads\u001b[49m\u001b[38;5;241;43m=\u001b[39;49m\u001b[43muse_threads\u001b[49m\u001b[43m)\u001b[49m\n",
      "File \u001b[0;32m/gpfs/data1/oshangp/easier/geohash-cid/py39/lib/python3.9/site-packages/pyarrow/_parquet.pyx:1675\u001b[0m, in \u001b[0;36mpyarrow._parquet.ParquetReader.read_all\u001b[0;34m()\u001b[0m\n",
      "File \u001b[0;32m/gpfs/data1/oshangp/easier/geohash-cid/py39/lib/python3.9/site-packages/pyarrow/error.pxi:91\u001b[0m, in \u001b[0;36mpyarrow.lib.check_status\u001b[0;34m()\u001b[0m\n",
      "\u001b[0;31mOSError\u001b[0m: Invalid column metadata (corrupt file?)"
     ]
    }
   ],
   "source": [
    "# Read the table from the buffer\n",
    "pf = pq.ParquetFile(buffer,metadata=metadata)\n",
    "\n",
    "# Convert the PyArrow Table to a Pandas DataFrame\n",
    "df = pf.read()"
   ]
  },
  {
   "cell_type": "code",
   "execution_count": null,
   "id": "ea96cef1-633d-4a50-940f-12acf0c2873a",
   "metadata": {},
   "outputs": [],
   "source": [
    "row_group_metadata = footer.row_group(row_group_index)"
   ]
  },
  {
   "cell_type": "code",
   "execution_count": 6,
   "id": "c615161d-29ca-451b-a235-3f8994ee315a",
   "metadata": {
    "execution": {
     "iopub.execute_input": "2024-07-01T00:25:21.852183Z",
     "iopub.status.busy": "2024-07-01T00:25:21.851892Z",
     "iopub.status.idle": "2024-07-01T00:25:21.855261Z",
     "shell.execute_reply": "2024-07-01T00:25:21.854601Z",
     "shell.execute_reply.started": "2024-07-01T00:25:21.852161Z"
    }
   },
   "outputs": [],
   "source": [
    "# Get the start and end positions of the row group\n",
    "start_pos = row_group.column(0).file_offset\n",
    "end_pos = start_pos"
   ]
  },
  {
   "cell_type": "code",
   "execution_count": 7,
   "id": "458fdb63-4027-4ed8-8177-d16e2e8987ec",
   "metadata": {
    "execution": {
     "iopub.execute_input": "2024-07-01T00:25:22.083826Z",
     "iopub.status.busy": "2024-07-01T00:25:22.083554Z",
     "iopub.status.idle": "2024-07-01T00:25:22.089729Z",
     "shell.execute_reply": "2024-07-01T00:25:22.089246Z",
     "shell.execute_reply.started": "2024-07-01T00:25:22.083804Z"
    }
   },
   "outputs": [
    {
     "data": {
      "text/plain": [
       "444"
      ]
     },
     "execution_count": 7,
     "metadata": {},
     "output_type": "execute_result"
    }
   ],
   "source": [
    "start_pos"
   ]
  },
  {
   "cell_type": "code",
   "execution_count": null,
   "id": "e27ff618-b717-4db0-af00-4b9b43fecd24",
   "metadata": {},
   "outputs": [],
   "source": []
  },
  {
   "cell_type": "code",
   "execution_count": 8,
   "id": "3b434e19-68ab-4dc2-b293-fadfe8bc2521",
   "metadata": {
    "execution": {
     "iopub.execute_input": "2024-07-01T00:25:22.828443Z",
     "iopub.status.busy": "2024-07-01T00:25:22.828113Z",
     "iopub.status.idle": "2024-07-01T00:25:22.831801Z",
     "shell.execute_reply": "2024-07-01T00:25:22.831151Z",
     "shell.execute_reply.started": "2024-07-01T00:25:22.828420Z"
    }
   },
   "outputs": [],
   "source": [
    "columns = []\n",
    "file = open(file_path, 'rb')\n",
    "column_metadata = row_group.column(0)"
   ]
  },
  {
   "cell_type": "code",
   "execution_count": 26,
   "id": "151682af-0256-4466-b8b2-b0c4bb3790fc",
   "metadata": {
    "execution": {
     "iopub.execute_input": "2024-07-01T01:01:45.503634Z",
     "iopub.status.busy": "2024-07-01T01:01:45.503010Z",
     "iopub.status.idle": "2024-07-01T01:01:45.509274Z",
     "shell.execute_reply": "2024-07-01T01:01:45.508518Z",
     "shell.execute_reply.started": "2024-07-01T01:01:45.503598Z"
    }
   },
   "outputs": [
    {
     "data": {
      "text/plain": [
       "pyarrow._parquet.ColumnChunkMetaData"
      ]
     },
     "execution_count": 26,
     "metadata": {},
     "output_type": "execute_result"
    }
   ],
   "source": [
    "type(column_metadata)"
   ]
  },
  {
   "cell_type": "code",
   "execution_count": 17,
   "id": "cf379858-b60d-4f04-919b-35e4a1a5a6b9",
   "metadata": {
    "execution": {
     "iopub.execute_input": "2024-07-01T00:34:33.489040Z",
     "iopub.status.busy": "2024-07-01T00:34:33.488654Z",
     "iopub.status.idle": "2024-07-01T00:34:33.492775Z",
     "shell.execute_reply": "2024-07-01T00:34:33.492117Z",
     "shell.execute_reply.started": "2024-07-01T00:34:33.489016Z"
    }
   },
   "outputs": [],
   "source": [
    "# Seek to the start of the column chunk\n",
    "file.seek(column_metadata.file_offset)\n",
    "\n",
    "# Read the column chunk\n",
    "column_data = file.read(column_metadata.total_compressed_size)\n",
    "\n",
    "# Create a buffer from the column data\n",
    "buf = pa.py_buffer(column_data)\n",
    "\n",
    "# Create an Arrow input stream\n",
    "stream = pa.BufferReader(buf)"
   ]
  },
  {
   "cell_type": "code",
   "execution_count": 40,
   "id": "a2b4f337-bd72-4e3b-81a2-e3cda5194cf0",
   "metadata": {
    "execution": {
     "iopub.execute_input": "2024-07-01T01:30:14.646486Z",
     "iopub.status.busy": "2024-07-01T01:30:14.646037Z",
     "iopub.status.idle": "2024-07-01T01:30:14.664522Z",
     "shell.execute_reply": "2024-07-01T01:30:14.663874Z",
     "shell.execute_reply.started": "2024-07-01T01:30:14.646464Z"
    }
   },
   "outputs": [
    {
     "ename": "NameError",
     "evalue": "name 'column_schema' is not defined",
     "output_type": "error",
     "traceback": [
      "\u001b[0;31m---------------------------------------------------------------------------\u001b[0m",
      "\u001b[0;31mNameError\u001b[0m                                 Traceback (most recent call last)",
      "Cell \u001b[0;32mIn[40], line 9\u001b[0m\n\u001b[1;32m      1\u001b[0m column_metadata \u001b[38;5;241m=\u001b[39m pq\u001b[38;5;241m.\u001b[39mColumnChunkMetaData(column_metadata,\n\u001b[1;32m      2\u001b[0m         data_page_offset\u001b[38;5;241m=\u001b[39m\u001b[38;5;241m0\u001b[39m,\n\u001b[1;32m      3\u001b[0m         dictionary_page_offset\u001b[38;5;241m=\u001b[39m\u001b[38;5;28;01mNone\u001b[39;00m,\n\u001b[1;32m      4\u001b[0m         index_page_offset\u001b[38;5;241m=\u001b[39m\u001b[38;5;28;01mNone\u001b[39;00m,\n\u001b[1;32m      5\u001b[0m         has_dictionary_page\u001b[38;5;241m=\u001b[39m\u001b[38;5;28;01mFalse\u001b[39;00m,\n\u001b[1;32m      6\u001b[0m )\n\u001b[1;32m      8\u001b[0m \u001b[38;5;66;03m# Create file metadata\u001b[39;00m\n\u001b[0;32m----> 9\u001b[0m schema \u001b[38;5;241m=\u001b[39m pa\u001b[38;5;241m.\u001b[39mschema([pa\u001b[38;5;241m.\u001b[39mfield(\u001b[43mcolumn_schema\u001b[49m\u001b[38;5;241m.\u001b[39mname, column_schema\u001b[38;5;241m.\u001b[39mphysical_type)])\n\u001b[1;32m     10\u001b[0m file_metadata \u001b[38;5;241m=\u001b[39m pq\u001b[38;5;241m.\u001b[39mFileMetaData(schema, \u001b[38;5;28mlen\u001b[39m(column_data), \u001b[38;5;241m1\u001b[39m)\n",
      "\u001b[0;31mNameError\u001b[0m: name 'column_schema' is not defined"
     ]
    }
   ],
   "source": [
    "column_metadata = pq.ColumnChunkMetaData(column_metadata,\n",
    "        data_page_offset=0,\n",
    "        dictionary_page_offset=None,\n",
    "        index_page_offset=None,\n",
    "        has_dictionary_page=False,\n",
    ")\n",
    "\n",
    "# Create file metadata\n",
    "schema = pa.schema([pa.field(column_schema.name, column_schema.physical_type)])\n",
    "file_metadata = pq.FileMetaData(schema, len(column_data), 1)"
   ]
  },
  {
   "cell_type": "code",
   "execution_count": null,
   "id": "d83a6633-2de0-4b5e-a562-0f730133d890",
   "metadata": {},
   "outputs": [],
   "source": [
    "row_group.to_dict()['columns']"
   ]
  },
  {
   "cell_type": "code",
   "execution_count": null,
   "id": "92ff8727-7175-4874-b1aa-1f985acbdb0d",
   "metadata": {},
   "outputs": [],
   "source": [
    "def read_int32(file):\n",
    "    return struct.unpack('<i', file.read(4))[0]\n",
    "\n",
    "def read_int64(file):\n",
    "    return struct.unpack('<q', file.read(8))[0]\n",
    "\n",
    "def read_page_header(file):\n",
    "    header_bytes = file.read(4)\n",
    "    header_size = struct.unpack('<i', header_bytes)[0]\n",
    "    header_data = file.read(header_size)\n",
    "    return read_thrift(io.BytesIO(header_data))\n",
    "\n",
    "def read_column_values(file_path, row_group_index=0, column_index=0):\n",
    "    # Read file metadata\n",
    "    parquet_file = pq.ParquetFile(file_path)\n",
    "    metadata = parquet_file.metadata\n",
    "    with open(file_path, 'rb') as file:\n",
    "        # Get column chunk metadata\n",
    "        row_group = metadata.row_groups[row_group_index]\n",
    "        column_chunk = row_group.columns[column_index]\n",
    "\n",
    "        # Seek to the start of the column chunk\n",
    "        file.seek(column_chunk.file_offset)\n",
    "\n",
    "        values = []\n",
    "        bytes_read = 0\n",
    "        \n",
    "        while bytes_read < column_chunk.meta_data.total_compressed_size:\n",
    "            # Read page header\n",
    "            page_header = read_page_header(file)\n",
    "            bytes_read += page_header.compressed_page_size + 4 + len(page_header.thrift_buffer)\n",
    "\n",
    "            if page_header.type == 0:  # DATA_PAGE\n",
    "                # Read page data\n",
    "                page_data = file.read(page_header.compressed_page_size)\n",
    "                \n",
    "                # Decompress if necessary\n",
    "                if column_chunk.meta_data.codec != 0:  # 0 means UNCOMPRESSED\n",
    "                    # You'll need to implement decompression based on the codec used\n",
    "                    # For simplicity, we'll assume uncompressed data in this example\n",
    "                    pass\n",
    "\n",
    "                # Parse values (this is a simplified version, assuming int32 values)\n",
    "                # You'll need to adjust this based on your actual data type\n",
    "                num_values = page_header.data_page_header.num_values\n",
    "                for _ in range(num_values):\n",
    "                    value = read_int32(io.BytesIO(page_data))\n",
    "                    values.append(value)\n",
    "\n",
    "    return values\n",
    "\n",
    "# Usage\n",
    "file_path = 'path/to/your/parquet/file.parquet'\n",
    "column_values = read_column_values(file_path)\n",
    "print(column_values)"
   ]
  },
  {
   "cell_type": "code",
   "execution_count": 30,
   "id": "92b752bd-09a2-4ee8-9015-b116e7107f89",
   "metadata": {
    "execution": {
     "iopub.execute_input": "2024-07-01T01:02:47.258435Z",
     "iopub.status.busy": "2024-07-01T01:02:47.257828Z",
     "iopub.status.idle": "2024-07-01T01:02:47.263738Z",
     "shell.execute_reply": "2024-07-01T01:02:47.263184Z",
     "shell.execute_reply.started": "2024-07-01T01:02:47.258396Z"
    }
   },
   "outputs": [
    {
     "data": {
      "text/plain": [
       "<pyarrow._parquet.ColumnChunkMetaData object at 0x2ad98f5c6c70>\n",
       "  file_offset: 444\n",
       "  file_path: \n",
       "  physical_type: BYTE_ARRAY\n",
       "  num_values: 10\n",
       "  path_in_schema: id\n",
       "  is_stats_set: True\n",
       "  statistics:\n",
       "    <pyarrow._parquet.Statistics object at 0x2ad990dedc20>\n",
       "      has_min_max: True\n",
       "      min: 08f268c60bda420603602149837a7836\n",
       "      max: 08f489c0368640d9030ab88383a35876\n",
       "      null_count: 0\n",
       "      distinct_count: None\n",
       "      num_values: 10\n",
       "      physical_type: BYTE_ARRAY\n",
       "      logical_type: String\n",
       "      converted_type (legacy): UTF8\n",
       "  compression: SNAPPY\n",
       "  encodings: ('PLAIN', 'RLE', 'RLE_DICTIONARY')\n",
       "  has_dictionary_page: True\n",
       "  dictionary_page_offset: 4\n",
       "  data_page_offset: 337\n",
       "  total_compressed_size: 440\n",
       "  total_uncompressed_size: 481"
      ]
     },
     "execution_count": 30,
     "metadata": {},
     "output_type": "execute_result"
    }
   ],
   "source": [
    "column_metadata"
   ]
  },
  {
   "cell_type": "code",
   "execution_count": 20,
   "id": "b138cc3f-fd8a-40ab-840f-5b81d9ac1ebc",
   "metadata": {
    "execution": {
     "iopub.execute_input": "2024-07-01T00:52:44.862407Z",
     "iopub.status.busy": "2024-07-01T00:52:44.861782Z",
     "iopub.status.idle": "2024-07-01T00:52:44.868176Z",
     "shell.execute_reply": "2024-07-01T00:52:44.867404Z",
     "shell.execute_reply.started": "2024-07-01T00:52:44.862367Z"
    }
   },
   "outputs": [
    {
     "data": {
      "text/plain": [
       "pyarrow._parquet.FileMetaData"
      ]
     },
     "execution_count": 20,
     "metadata": {},
     "output_type": "execute_result"
    }
   ],
   "source": [
    "type(metadata)"
   ]
  },
  {
   "cell_type": "code",
   "execution_count": 32,
   "id": "fc9a68b4-245b-4f88-8a4e-8c9d67870a12",
   "metadata": {
    "execution": {
     "iopub.execute_input": "2024-07-01T01:13:43.347029Z",
     "iopub.status.busy": "2024-07-01T01:13:43.346424Z",
     "iopub.status.idle": "2024-07-01T01:13:43.351179Z",
     "shell.execute_reply": "2024-07-01T01:13:43.350566Z",
     "shell.execute_reply.started": "2024-07-01T01:13:43.346990Z"
    }
   },
   "outputs": [],
   "source": [
    "# Create a ParquetFile object from the stream\n",
    "pf = pq.ParquetFile(stream,metadata=metadata)"
   ]
  },
  {
   "cell_type": "code",
   "execution_count": 33,
   "id": "d1a12815-e3fe-460f-92e4-1be5d03cca51",
   "metadata": {
    "execution": {
     "iopub.execute_input": "2024-07-01T01:13:52.882940Z",
     "iopub.status.busy": "2024-07-01T01:13:52.882423Z",
     "iopub.status.idle": "2024-07-01T01:13:53.031887Z",
     "shell.execute_reply": "2024-07-01T01:13:53.025471Z",
     "shell.execute_reply.started": "2024-07-01T01:13:52.882900Z"
    }
   },
   "outputs": [
    {
     "ename": "OSError",
     "evalue": "Invalid column metadata (corrupt file?)",
     "output_type": "error",
     "traceback": [
      "\u001b[0;31m---------------------------------------------------------------------------\u001b[0m",
      "\u001b[0;31mOSError\u001b[0m                                   Traceback (most recent call last)",
      "Cell \u001b[0;32mIn[33], line 1\u001b[0m\n\u001b[0;32m----> 1\u001b[0m \u001b[43mpf\u001b[49m\u001b[38;5;241;43m.\u001b[39;49m\u001b[43mread_row_group\u001b[49m\u001b[43m(\u001b[49m\u001b[38;5;241;43m0\u001b[39;49m\u001b[43m)\u001b[49m\n",
      "File \u001b[0;32m/gpfs/data1/oshangp/easier/geohash-cid/py39/lib/python3.9/site-packages/pyarrow/parquet/core.py:468\u001b[0m, in \u001b[0;36mParquetFile.read_row_group\u001b[0;34m(self, i, columns, use_threads, use_pandas_metadata)\u001b[0m\n\u001b[1;32m    426\u001b[0m \u001b[38;5;250m\u001b[39m\u001b[38;5;124;03m\"\"\"\u001b[39;00m\n\u001b[1;32m    427\u001b[0m \u001b[38;5;124;03mRead a single row group from a Parquet file.\u001b[39;00m\n\u001b[1;32m    428\u001b[0m \n\u001b[0;32m   (...)\u001b[0m\n\u001b[1;32m    464\u001b[0m \u001b[38;5;124;03manimal: [[\"Flamingo\",\"Parrot\",...,\"Brittle stars\",\"Centipede\"]]\u001b[39;00m\n\u001b[1;32m    465\u001b[0m \u001b[38;5;124;03m\"\"\"\u001b[39;00m\n\u001b[1;32m    466\u001b[0m column_indices \u001b[38;5;241m=\u001b[39m \u001b[38;5;28mself\u001b[39m\u001b[38;5;241m.\u001b[39m_get_column_indices(\n\u001b[1;32m    467\u001b[0m     columns, use_pandas_metadata\u001b[38;5;241m=\u001b[39muse_pandas_metadata)\n\u001b[0;32m--> 468\u001b[0m \u001b[38;5;28;01mreturn\u001b[39;00m \u001b[38;5;28;43mself\u001b[39;49m\u001b[38;5;241;43m.\u001b[39;49m\u001b[43mreader\u001b[49m\u001b[38;5;241;43m.\u001b[39;49m\u001b[43mread_row_group\u001b[49m\u001b[43m(\u001b[49m\u001b[43mi\u001b[49m\u001b[43m,\u001b[49m\u001b[43m \u001b[49m\u001b[43mcolumn_indices\u001b[49m\u001b[38;5;241;43m=\u001b[39;49m\u001b[43mcolumn_indices\u001b[49m\u001b[43m,\u001b[49m\n\u001b[1;32m    469\u001b[0m \u001b[43m                                  \u001b[49m\u001b[43muse_threads\u001b[49m\u001b[38;5;241;43m=\u001b[39;49m\u001b[43muse_threads\u001b[49m\u001b[43m)\u001b[49m\n",
      "File \u001b[0;32m/gpfs/data1/oshangp/easier/geohash-cid/py39/lib/python3.9/site-packages/pyarrow/_parquet.pyx:1608\u001b[0m, in \u001b[0;36mpyarrow._parquet.ParquetReader.read_row_group\u001b[0;34m()\u001b[0m\n",
      "File \u001b[0;32m/gpfs/data1/oshangp/easier/geohash-cid/py39/lib/python3.9/site-packages/pyarrow/_parquet.pyx:1644\u001b[0m, in \u001b[0;36mpyarrow._parquet.ParquetReader.read_row_groups\u001b[0;34m()\u001b[0m\n",
      "File \u001b[0;32m/gpfs/data1/oshangp/easier/geohash-cid/py39/lib/python3.9/site-packages/pyarrow/error.pxi:91\u001b[0m, in \u001b[0;36mpyarrow.lib.check_status\u001b[0;34m()\u001b[0m\n",
      "\u001b[0;31mOSError\u001b[0m: Invalid column metadata (corrupt file?)"
     ]
    }
   ],
   "source": [
    "pf.read_row_group(0)"
   ]
  },
  {
   "cell_type": "code",
   "execution_count": 24,
   "id": "7b7e50e7-cb21-48f1-a039-3c1fd885504d",
   "metadata": {
    "execution": {
     "iopub.execute_input": "2024-07-01T01:01:01.703297Z",
     "iopub.status.busy": "2024-07-01T01:01:01.702662Z",
     "iopub.status.idle": "2024-07-01T01:01:01.740950Z",
     "shell.execute_reply": "2024-07-01T01:01:01.739910Z",
     "shell.execute_reply.started": "2024-07-01T01:01:01.703257Z"
    }
   },
   "outputs": [
    {
     "ename": "AttributeError",
     "evalue": "'ParquetFile' object has no attribute 'read_column'",
     "output_type": "error",
     "traceback": [
      "\u001b[0;31m---------------------------------------------------------------------------\u001b[0m",
      "\u001b[0;31mAttributeError\u001b[0m                            Traceback (most recent call last)",
      "Cell \u001b[0;32mIn[24], line 1\u001b[0m\n\u001b[0;32m----> 1\u001b[0m column \u001b[38;5;241m=\u001b[39m \u001b[43mpf\u001b[49m\u001b[38;5;241;43m.\u001b[39;49m\u001b[43mread_column\u001b[49m(col_index)\n",
      "\u001b[0;31mAttributeError\u001b[0m: 'ParquetFile' object has no attribute 'read_column'"
     ]
    }
   ],
   "source": [
    "column = pf."
   ]
  },
  {
   "cell_type": "code",
   "execution_count": null,
   "id": "f02a4233-85af-44a9-af40-88fba133bcb1",
   "metadata": {},
   "outputs": [],
   "source": [
    "# Read the column\n",
    "column = pf.read_column(col_index)\n",
    "columns.append(column)"
   ]
  },
  {
   "cell_type": "code",
   "execution_count": 9,
   "id": "058bf87a-7f5a-49db-87c2-ce1c9bbe4ac6",
   "metadata": {
    "execution": {
     "iopub.execute_input": "2024-07-01T00:25:23.217186Z",
     "iopub.status.busy": "2024-07-01T00:25:23.216831Z",
     "iopub.status.idle": "2024-07-01T00:25:23.220413Z",
     "shell.execute_reply": "2024-07-01T00:25:23.219896Z",
     "shell.execute_reply.started": "2024-07-01T00:25:23.217162Z"
    }
   },
   "outputs": [],
   "source": [
    "# Seek to the start of the column chunk\n",
    "file.seek(column_metadata.file_offset)\n",
    "\n",
    "# Read the column chunk\n",
    "column_data = file.read(column_metadata.total_compressed_size)"
   ]
  },
  {
   "cell_type": "code",
   "execution_count": null,
   "id": "892e5bc4-7663-485c-8e04-4917df0dcc87",
   "metadata": {},
   "outputs": [],
   "source": []
  },
  {
   "cell_type": "code",
   "execution_count": 10,
   "id": "2dc79cad-7db3-475e-b4b9-b90ddf7065a3",
   "metadata": {
    "execution": {
     "iopub.execute_input": "2024-07-01T00:25:24.212286Z",
     "iopub.status.busy": "2024-07-01T00:25:24.211968Z",
     "iopub.status.idle": "2024-07-01T00:25:24.216093Z",
     "shell.execute_reply": "2024-07-01T00:25:24.215584Z",
     "shell.execute_reply.started": "2024-07-01T00:25:24.212263Z"
    }
   },
   "outputs": [
    {
     "data": {
      "text/plain": [
       "'SNAPPY'"
      ]
     },
     "execution_count": 10,
     "metadata": {},
     "output_type": "execute_result"
    }
   ],
   "source": [
    "column_metadata.compression"
   ]
  },
  {
   "cell_type": "code",
   "execution_count": 11,
   "id": "545c5a4f-a5c1-4b03-a518-5ea36c7dbb5f",
   "metadata": {
    "execution": {
     "iopub.execute_input": "2024-07-01T00:25:25.436892Z",
     "iopub.status.busy": "2024-07-01T00:25:25.436541Z",
     "iopub.status.idle": "2024-07-01T00:25:25.439890Z",
     "shell.execute_reply": "2024-07-01T00:25:25.439252Z",
     "shell.execute_reply.started": "2024-07-01T00:25:25.436861Z"
    }
   },
   "outputs": [],
   "source": [
    "compression = column_metadata.compression"
   ]
  },
  {
   "cell_type": "code",
   "execution_count": 12,
   "id": "b8c25352-c3ed-454b-96bd-322d0268a970",
   "metadata": {
    "execution": {
     "iopub.execute_input": "2024-07-01T00:25:26.107859Z",
     "iopub.status.busy": "2024-07-01T00:25:26.107581Z",
     "iopub.status.idle": "2024-07-01T00:25:26.112330Z",
     "shell.execute_reply": "2024-07-01T00:25:26.111830Z",
     "shell.execute_reply.started": "2024-07-01T00:25:26.107837Z"
    }
   },
   "outputs": [],
   "source": [
    "def decompress_data(data, compression):\n",
    "    if compression == 'SNAPPY':\n",
    "        return snappy.decompress(data)\n",
    "    elif compression == 'GZIP':\n",
    "        return zlib.decompress(data, wbits=zlib.MAX_WBITS | 16)\n",
    "    elif compression == 'ZSTD':\n",
    "        import zstandard\n",
    "        dctx = zstandard.ZstdDecompressor()\n",
    "        return dctx.decompress(data)\n",
    "    elif compression == 'LZ4':\n",
    "        import lz4.frame\n",
    "        return lz4.frame.decompress(data)\n",
    "    elif compression == 'UNCOMPRESSED' or compression is None:\n",
    "        return data\n",
    "    else:\n",
    "        raise ValueError(f\"Unsupported compression type: {compression}\")"
   ]
  },
  {
   "cell_type": "code",
   "execution_count": null,
   "id": "02b1a42d-17e7-4a9e-9ac1-f78886b4fb77",
   "metadata": {},
   "outputs": [],
   "source": []
  },
  {
   "cell_type": "code",
   "execution_count": 13,
   "id": "638bfd33-865b-4354-b596-8c2b134b70a1",
   "metadata": {
    "execution": {
     "iopub.execute_input": "2024-07-01T00:25:27.624483Z",
     "iopub.status.busy": "2024-07-01T00:25:27.624112Z",
     "iopub.status.idle": "2024-07-01T00:25:28.231183Z",
     "shell.execute_reply": "2024-07-01T00:25:28.230447Z",
     "shell.execute_reply.started": "2024-07-01T00:25:27.624459Z"
    }
   },
   "outputs": [
    {
     "ename": "UncompressError",
     "evalue": "",
     "output_type": "error",
     "traceback": [
      "\u001b[0;31m---------------------------------------------------------------------------\u001b[0m",
      "\u001b[0;31mDecompressionError\u001b[0m                        Traceback (most recent call last)",
      "File \u001b[0;32m/gpfs/data1/oshangp/easier/geohash-cid/py39/lib/python3.9/site-packages/snappy/snappy.py:84\u001b[0m, in \u001b[0;36muncompress\u001b[0;34m(data, decoding)\u001b[0m\n\u001b[1;32m     83\u001b[0m \u001b[38;5;28;01mtry\u001b[39;00m:\n\u001b[0;32m---> 84\u001b[0m     out \u001b[38;5;241m=\u001b[39m \u001b[38;5;28mbytes\u001b[39m(\u001b[43m_uncompress\u001b[49m\u001b[43m(\u001b[49m\u001b[43mdata\u001b[49m\u001b[43m)\u001b[49m)\n\u001b[1;32m     85\u001b[0m \u001b[38;5;28;01mexcept\u001b[39;00m cramjam\u001b[38;5;241m.\u001b[39mDecompressionError \u001b[38;5;28;01mas\u001b[39;00m err:\n",
      "\u001b[0;31mDecompressionError\u001b[0m: snappy: corrupt input (expected literal read of length 1383431; remaining src: 435; remaining dst: 38)",
      "\nThe above exception was the direct cause of the following exception:\n",
      "\u001b[0;31mUncompressError\u001b[0m                           Traceback (most recent call last)",
      "Cell \u001b[0;32mIn[13], line 2\u001b[0m\n\u001b[1;32m      1\u001b[0m \u001b[38;5;28;01mif\u001b[39;00m compression \u001b[38;5;241m!=\u001b[39m \u001b[38;5;124m'\u001b[39m\u001b[38;5;124mUNCOMPRESSED\u001b[39m\u001b[38;5;124m'\u001b[39m:\n\u001b[0;32m----> 2\u001b[0m     column_data \u001b[38;5;241m=\u001b[39m \u001b[43mdecompress_data\u001b[49m\u001b[43m(\u001b[49m\u001b[43mcolumn_data\u001b[49m\u001b[43m,\u001b[49m\u001b[43m \u001b[49m\u001b[43mcompression\u001b[49m\u001b[43m)\u001b[49m\n",
      "Cell \u001b[0;32mIn[12], line 3\u001b[0m, in \u001b[0;36mdecompress_data\u001b[0;34m(data, compression)\u001b[0m\n\u001b[1;32m      1\u001b[0m \u001b[38;5;28;01mdef\u001b[39;00m \u001b[38;5;21mdecompress_data\u001b[39m(data, compression):\n\u001b[1;32m      2\u001b[0m     \u001b[38;5;28;01mif\u001b[39;00m compression \u001b[38;5;241m==\u001b[39m \u001b[38;5;124m'\u001b[39m\u001b[38;5;124mSNAPPY\u001b[39m\u001b[38;5;124m'\u001b[39m:\n\u001b[0;32m----> 3\u001b[0m         \u001b[38;5;28;01mreturn\u001b[39;00m \u001b[43msnappy\u001b[49m\u001b[38;5;241;43m.\u001b[39;49m\u001b[43mdecompress\u001b[49m\u001b[43m(\u001b[49m\u001b[43mdata\u001b[49m\u001b[43m)\u001b[49m\n\u001b[1;32m      4\u001b[0m     \u001b[38;5;28;01melif\u001b[39;00m compression \u001b[38;5;241m==\u001b[39m \u001b[38;5;124m'\u001b[39m\u001b[38;5;124mGZIP\u001b[39m\u001b[38;5;124m'\u001b[39m:\n\u001b[1;32m      5\u001b[0m         \u001b[38;5;28;01mreturn\u001b[39;00m zlib\u001b[38;5;241m.\u001b[39mdecompress(data, wbits\u001b[38;5;241m=\u001b[39mzlib\u001b[38;5;241m.\u001b[39mMAX_WBITS \u001b[38;5;241m|\u001b[39m \u001b[38;5;241m16\u001b[39m)\n",
      "File \u001b[0;32m/gpfs/data1/oshangp/easier/geohash-cid/py39/lib/python3.9/site-packages/snappy/snappy.py:86\u001b[0m, in \u001b[0;36muncompress\u001b[0;34m(data, decoding)\u001b[0m\n\u001b[1;32m     84\u001b[0m     out \u001b[38;5;241m=\u001b[39m \u001b[38;5;28mbytes\u001b[39m(_uncompress(data))\n\u001b[1;32m     85\u001b[0m \u001b[38;5;28;01mexcept\u001b[39;00m cramjam\u001b[38;5;241m.\u001b[39mDecompressionError \u001b[38;5;28;01mas\u001b[39;00m err:\n\u001b[0;32m---> 86\u001b[0m     \u001b[38;5;28;01mraise\u001b[39;00m UncompressError \u001b[38;5;28;01mfrom\u001b[39;00m \u001b[38;5;21;01merr\u001b[39;00m\n\u001b[1;32m     87\u001b[0m \u001b[38;5;28;01mif\u001b[39;00m decoding:\n\u001b[1;32m     88\u001b[0m     \u001b[38;5;28;01mreturn\u001b[39;00m out\u001b[38;5;241m.\u001b[39mdecode(decoding)\n",
      "\u001b[0;31mUncompressError\u001b[0m: "
     ]
    }
   ],
   "source": [
    "if compression != 'UNCOMPRESSED':\n",
    "    column_data = decompress_data(column_data, compression)"
   ]
  },
  {
   "cell_type": "code",
   "execution_count": 16,
   "id": "bb0fff4d-a6d7-426d-a598-050b0d98706c",
   "metadata": {
    "execution": {
     "iopub.execute_input": "2024-07-01T00:27:27.216509Z",
     "iopub.status.busy": "2024-07-01T00:27:27.216134Z",
     "iopub.status.idle": "2024-07-01T00:27:27.232570Z",
     "shell.execute_reply": "2024-07-01T00:27:27.231894Z",
     "shell.execute_reply.started": "2024-07-01T00:27:27.216485Z"
    }
   },
   "outputs": [
    {
     "ename": "AttributeError",
     "evalue": "'pyarrow._parquet.ParquetSchema' object has no attribute 'field'",
     "output_type": "error",
     "traceback": [
      "\u001b[0;31m---------------------------------------------------------------------------\u001b[0m",
      "\u001b[0;31mAttributeError\u001b[0m                            Traceback (most recent call last)",
      "Cell \u001b[0;32mIn[16], line 2\u001b[0m\n\u001b[1;32m      1\u001b[0m reader \u001b[38;5;241m=\u001b[39m pa\u001b[38;5;241m.\u001b[39mBufferReader(column_data)\n\u001b[0;32m----> 2\u001b[0m column_type \u001b[38;5;241m=\u001b[39m \u001b[43mschema\u001b[49m\u001b[38;5;241;43m.\u001b[39;49m\u001b[43mfield\u001b[49m(column_meta\u001b[38;5;241m.\u001b[39mpath_in_schema[\u001b[38;5;241m0\u001b[39m])\u001b[38;5;241m.\u001b[39mtype\n",
      "\u001b[0;31mAttributeError\u001b[0m: 'pyarrow._parquet.ParquetSchema' object has no attribute 'field'"
     ]
    }
   ],
   "source": [
    "reader = pa.BufferReader(column_data)\n",
    "column_type = schema.field(column_meta.path_in_schema[0]).type"
   ]
  },
  {
   "cell_type": "code",
   "execution_count": null,
   "id": "17959f4e-6601-49e4-80cd-3ee754f97198",
   "metadata": {},
   "outputs": [],
   "source": [
    "schema."
   ]
  },
  {
   "cell_type": "code",
   "execution_count": 101,
   "id": "04cd9708-f3c5-489b-a085-d988accca562",
   "metadata": {
    "execution": {
     "iopub.execute_input": "2024-06-30T23:59:08.947331Z",
     "iopub.status.busy": "2024-06-30T23:59:08.946893Z",
     "iopub.status.idle": "2024-06-30T23:59:08.951459Z",
     "shell.execute_reply": "2024-06-30T23:59:08.950963Z",
     "shell.execute_reply.started": "2024-06-30T23:59:08.947307Z"
    }
   },
   "outputs": [
    {
     "data": {
      "text/plain": [
       "<pyarrow.BufferReader closed=False own_file=False is_seekable=True is_writable=False is_readable=True>"
      ]
     },
     "execution_count": 101,
     "metadata": {},
     "output_type": "execute_result"
    }
   ],
   "source": [
    "stream"
   ]
  },
  {
   "cell_type": "code",
   "execution_count": 102,
   "id": "a4bff55b-175d-4aec-9e80-d4df0f110978",
   "metadata": {
    "execution": {
     "iopub.execute_input": "2024-06-30T23:59:44.807125Z",
     "iopub.status.busy": "2024-06-30T23:59:44.806676Z",
     "iopub.status.idle": "2024-06-30T23:59:44.833590Z",
     "shell.execute_reply": "2024-06-30T23:59:44.832895Z",
     "shell.execute_reply.started": "2024-06-30T23:59:44.807100Z"
    }
   },
   "outputs": [
    {
     "ename": "ArrowInvalid",
     "evalue": "Parquet magic bytes not found in footer. Either the file is corrupted or this is not a parquet file.",
     "output_type": "error",
     "traceback": [
      "\u001b[0;31m---------------------------------------------------------------------------\u001b[0m",
      "\u001b[0;31mArrowInvalid\u001b[0m                              Traceback (most recent call last)",
      "Cell \u001b[0;32mIn[102], line 1\u001b[0m\n\u001b[0;32m----> 1\u001b[0m pf \u001b[38;5;241m=\u001b[39m \u001b[43mpq\u001b[49m\u001b[38;5;241;43m.\u001b[39;49m\u001b[43mParquetFile\u001b[49m\u001b[43m(\u001b[49m\u001b[43mstream\u001b[49m\u001b[43m)\u001b[49m\n",
      "File \u001b[0;32m/gpfs/data1/oshangp/easier/geohash-cid/py39/lib/python3.9/site-packages/pyarrow/parquet/core.py:318\u001b[0m, in \u001b[0;36mParquetFile.__init__\u001b[0;34m(self, source, metadata, common_metadata, read_dictionary, memory_map, buffer_size, pre_buffer, coerce_int96_timestamp_unit, decryption_properties, thrift_string_size_limit, thrift_container_size_limit, filesystem, page_checksum_verification)\u001b[0m\n\u001b[1;32m    315\u001b[0m     \u001b[38;5;28mself\u001b[39m\u001b[38;5;241m.\u001b[39m_close_source \u001b[38;5;241m=\u001b[39m \u001b[38;5;28;01mTrue\u001b[39;00m  \u001b[38;5;66;03m# We opened it here, ensure we close it.\u001b[39;00m\n\u001b[1;32m    317\u001b[0m \u001b[38;5;28mself\u001b[39m\u001b[38;5;241m.\u001b[39mreader \u001b[38;5;241m=\u001b[39m ParquetReader()\n\u001b[0;32m--> 318\u001b[0m \u001b[38;5;28;43mself\u001b[39;49m\u001b[38;5;241;43m.\u001b[39;49m\u001b[43mreader\u001b[49m\u001b[38;5;241;43m.\u001b[39;49m\u001b[43mopen\u001b[49m\u001b[43m(\u001b[49m\n\u001b[1;32m    319\u001b[0m \u001b[43m    \u001b[49m\u001b[43msource\u001b[49m\u001b[43m,\u001b[49m\u001b[43m \u001b[49m\u001b[43muse_memory_map\u001b[49m\u001b[38;5;241;43m=\u001b[39;49m\u001b[43mmemory_map\u001b[49m\u001b[43m,\u001b[49m\n\u001b[1;32m    320\u001b[0m \u001b[43m    \u001b[49m\u001b[43mbuffer_size\u001b[49m\u001b[38;5;241;43m=\u001b[39;49m\u001b[43mbuffer_size\u001b[49m\u001b[43m,\u001b[49m\u001b[43m \u001b[49m\u001b[43mpre_buffer\u001b[49m\u001b[38;5;241;43m=\u001b[39;49m\u001b[43mpre_buffer\u001b[49m\u001b[43m,\u001b[49m\n\u001b[1;32m    321\u001b[0m \u001b[43m    \u001b[49m\u001b[43mread_dictionary\u001b[49m\u001b[38;5;241;43m=\u001b[39;49m\u001b[43mread_dictionary\u001b[49m\u001b[43m,\u001b[49m\u001b[43m \u001b[49m\u001b[43mmetadata\u001b[49m\u001b[38;5;241;43m=\u001b[39;49m\u001b[43mmetadata\u001b[49m\u001b[43m,\u001b[49m\n\u001b[1;32m    322\u001b[0m \u001b[43m    \u001b[49m\u001b[43mcoerce_int96_timestamp_unit\u001b[49m\u001b[38;5;241;43m=\u001b[39;49m\u001b[43mcoerce_int96_timestamp_unit\u001b[49m\u001b[43m,\u001b[49m\n\u001b[1;32m    323\u001b[0m \u001b[43m    \u001b[49m\u001b[43mdecryption_properties\u001b[49m\u001b[38;5;241;43m=\u001b[39;49m\u001b[43mdecryption_properties\u001b[49m\u001b[43m,\u001b[49m\n\u001b[1;32m    324\u001b[0m \u001b[43m    \u001b[49m\u001b[43mthrift_string_size_limit\u001b[49m\u001b[38;5;241;43m=\u001b[39;49m\u001b[43mthrift_string_size_limit\u001b[49m\u001b[43m,\u001b[49m\n\u001b[1;32m    325\u001b[0m \u001b[43m    \u001b[49m\u001b[43mthrift_container_size_limit\u001b[49m\u001b[38;5;241;43m=\u001b[39;49m\u001b[43mthrift_container_size_limit\u001b[49m\u001b[43m,\u001b[49m\n\u001b[1;32m    326\u001b[0m \u001b[43m    \u001b[49m\u001b[43mpage_checksum_verification\u001b[49m\u001b[38;5;241;43m=\u001b[39;49m\u001b[43mpage_checksum_verification\u001b[49m\u001b[43m,\u001b[49m\n\u001b[1;32m    327\u001b[0m \u001b[43m\u001b[49m\u001b[43m)\u001b[49m\n\u001b[1;32m    328\u001b[0m \u001b[38;5;28mself\u001b[39m\u001b[38;5;241m.\u001b[39mcommon_metadata \u001b[38;5;241m=\u001b[39m common_metadata\n\u001b[1;32m    329\u001b[0m \u001b[38;5;28mself\u001b[39m\u001b[38;5;241m.\u001b[39m_nested_paths_by_prefix \u001b[38;5;241m=\u001b[39m \u001b[38;5;28mself\u001b[39m\u001b[38;5;241m.\u001b[39m_build_nested_paths()\n",
      "File \u001b[0;32m/gpfs/data1/oshangp/easier/geohash-cid/py39/lib/python3.9/site-packages/pyarrow/_parquet.pyx:1470\u001b[0m, in \u001b[0;36mpyarrow._parquet.ParquetReader.open\u001b[0;34m()\u001b[0m\n",
      "File \u001b[0;32m/gpfs/data1/oshangp/easier/geohash-cid/py39/lib/python3.9/site-packages/pyarrow/error.pxi:91\u001b[0m, in \u001b[0;36mpyarrow.lib.check_status\u001b[0;34m()\u001b[0m\n",
      "\u001b[0;31mArrowInvalid\u001b[0m: Parquet magic bytes not found in footer. Either the file is corrupted or this is not a parquet file."
     ]
    }
   ],
   "source": [
    "pf = pq.ParquetFile(stream)"
   ]
  },
  {
   "cell_type": "code",
   "execution_count": null,
   "id": "56c97e0d-760c-4d0e-a6b1-c87e93278ca3",
   "metadata": {
    "execution": {
     "iopub.execute_input": "2024-06-30T23:58:07.103507Z",
     "iopub.status.busy": "2024-06-30T23:58:07.103051Z",
     "iopub.status.idle": "2024-06-30T23:58:07.150544Z",
     "shell.execute_reply": "2024-06-30T23:58:07.149846Z",
     "shell.execute_reply.started": "2024-06-30T23:58:07.103481Z"
    }
   },
   "outputs": [
    {
     "ename": "ArrowInvalid",
     "evalue": "Parquet magic bytes not found in footer. Either the file is corrupted or this is not a parquet file.",
     "output_type": "error",
     "traceback": [
      "\u001b[0;31m---------------------------------------------------------------------------\u001b[0m",
      "\u001b[0;31mArrowInvalid\u001b[0m                              Traceback (most recent call last)",
      "Cell \u001b[0;32mIn[98], line 17\u001b[0m\n\u001b[1;32m     15\u001b[0m \u001b[38;5;66;03m# Create an Arrow input stream\u001b[39;00m\n\u001b[1;32m     16\u001b[0m stream \u001b[38;5;241m=\u001b[39m pa\u001b[38;5;241m.\u001b[39minput_stream(buf)\n\u001b[0;32m---> 17\u001b[0m pf \u001b[38;5;241m=\u001b[39m \u001b[43mpq\u001b[49m\u001b[38;5;241;43m.\u001b[39;49m\u001b[43mParquetFile\u001b[49m\u001b[43m(\u001b[49m\u001b[43mstream\u001b[49m\u001b[43m)\u001b[49m\n\u001b[1;32m     18\u001b[0m column \u001b[38;5;241m=\u001b[39m pf\u001b[38;5;241m.\u001b[39mread_column(col_index)\n\u001b[1;32m     19\u001b[0m columns\u001b[38;5;241m.\u001b[39mappend(column)\n",
      "File \u001b[0;32m/gpfs/data1/oshangp/easier/geohash-cid/py39/lib/python3.9/site-packages/pyarrow/parquet/core.py:318\u001b[0m, in \u001b[0;36mParquetFile.__init__\u001b[0;34m(self, source, metadata, common_metadata, read_dictionary, memory_map, buffer_size, pre_buffer, coerce_int96_timestamp_unit, decryption_properties, thrift_string_size_limit, thrift_container_size_limit, filesystem, page_checksum_verification)\u001b[0m\n\u001b[1;32m    315\u001b[0m     \u001b[38;5;28mself\u001b[39m\u001b[38;5;241m.\u001b[39m_close_source \u001b[38;5;241m=\u001b[39m \u001b[38;5;28;01mTrue\u001b[39;00m  \u001b[38;5;66;03m# We opened it here, ensure we close it.\u001b[39;00m\n\u001b[1;32m    317\u001b[0m \u001b[38;5;28mself\u001b[39m\u001b[38;5;241m.\u001b[39mreader \u001b[38;5;241m=\u001b[39m ParquetReader()\n\u001b[0;32m--> 318\u001b[0m \u001b[38;5;28;43mself\u001b[39;49m\u001b[38;5;241;43m.\u001b[39;49m\u001b[43mreader\u001b[49m\u001b[38;5;241;43m.\u001b[39;49m\u001b[43mopen\u001b[49m\u001b[43m(\u001b[49m\n\u001b[1;32m    319\u001b[0m \u001b[43m    \u001b[49m\u001b[43msource\u001b[49m\u001b[43m,\u001b[49m\u001b[43m \u001b[49m\u001b[43muse_memory_map\u001b[49m\u001b[38;5;241;43m=\u001b[39;49m\u001b[43mmemory_map\u001b[49m\u001b[43m,\u001b[49m\n\u001b[1;32m    320\u001b[0m \u001b[43m    \u001b[49m\u001b[43mbuffer_size\u001b[49m\u001b[38;5;241;43m=\u001b[39;49m\u001b[43mbuffer_size\u001b[49m\u001b[43m,\u001b[49m\u001b[43m \u001b[49m\u001b[43mpre_buffer\u001b[49m\u001b[38;5;241;43m=\u001b[39;49m\u001b[43mpre_buffer\u001b[49m\u001b[43m,\u001b[49m\n\u001b[1;32m    321\u001b[0m \u001b[43m    \u001b[49m\u001b[43mread_dictionary\u001b[49m\u001b[38;5;241;43m=\u001b[39;49m\u001b[43mread_dictionary\u001b[49m\u001b[43m,\u001b[49m\u001b[43m \u001b[49m\u001b[43mmetadata\u001b[49m\u001b[38;5;241;43m=\u001b[39;49m\u001b[43mmetadata\u001b[49m\u001b[43m,\u001b[49m\n\u001b[1;32m    322\u001b[0m \u001b[43m    \u001b[49m\u001b[43mcoerce_int96_timestamp_unit\u001b[49m\u001b[38;5;241;43m=\u001b[39;49m\u001b[43mcoerce_int96_timestamp_unit\u001b[49m\u001b[43m,\u001b[49m\n\u001b[1;32m    323\u001b[0m \u001b[43m    \u001b[49m\u001b[43mdecryption_properties\u001b[49m\u001b[38;5;241;43m=\u001b[39;49m\u001b[43mdecryption_properties\u001b[49m\u001b[43m,\u001b[49m\n\u001b[1;32m    324\u001b[0m \u001b[43m    \u001b[49m\u001b[43mthrift_string_size_limit\u001b[49m\u001b[38;5;241;43m=\u001b[39;49m\u001b[43mthrift_string_size_limit\u001b[49m\u001b[43m,\u001b[49m\n\u001b[1;32m    325\u001b[0m \u001b[43m    \u001b[49m\u001b[43mthrift_container_size_limit\u001b[49m\u001b[38;5;241;43m=\u001b[39;49m\u001b[43mthrift_container_size_limit\u001b[49m\u001b[43m,\u001b[49m\n\u001b[1;32m    326\u001b[0m \u001b[43m    \u001b[49m\u001b[43mpage_checksum_verification\u001b[49m\u001b[38;5;241;43m=\u001b[39;49m\u001b[43mpage_checksum_verification\u001b[49m\u001b[43m,\u001b[49m\n\u001b[1;32m    327\u001b[0m \u001b[43m\u001b[49m\u001b[43m)\u001b[49m\n\u001b[1;32m    328\u001b[0m \u001b[38;5;28mself\u001b[39m\u001b[38;5;241m.\u001b[39mcommon_metadata \u001b[38;5;241m=\u001b[39m common_metadata\n\u001b[1;32m    329\u001b[0m \u001b[38;5;28mself\u001b[39m\u001b[38;5;241m.\u001b[39m_nested_paths_by_prefix \u001b[38;5;241m=\u001b[39m \u001b[38;5;28mself\u001b[39m\u001b[38;5;241m.\u001b[39m_build_nested_paths()\n",
      "File \u001b[0;32m/gpfs/data1/oshangp/easier/geohash-cid/py39/lib/python3.9/site-packages/pyarrow/_parquet.pyx:1470\u001b[0m, in \u001b[0;36mpyarrow._parquet.ParquetReader.open\u001b[0;34m()\u001b[0m\n",
      "File \u001b[0;32m/gpfs/data1/oshangp/easier/geohash-cid/py39/lib/python3.9/site-packages/pyarrow/error.pxi:91\u001b[0m, in \u001b[0;36mpyarrow.lib.check_status\u001b[0;34m()\u001b[0m\n",
      "\u001b[0;31mArrowInvalid\u001b[0m: Parquet magic bytes not found in footer. Either the file is corrupted or this is not a parquet file."
     ]
    }
   ],
   "source": [
    "column = pf.read_column(col_index)\n",
    "columns.append(column)"
   ]
  },
  {
   "cell_type": "code",
   "execution_count": 85,
   "id": "33cd68b3-7246-40a0-b488-31b719918ceb",
   "metadata": {
    "execution": {
     "iopub.execute_input": "2024-06-30T23:49:29.467363Z",
     "iopub.status.busy": "2024-06-30T23:49:29.466930Z",
     "iopub.status.idle": "2024-06-30T23:49:29.471036Z",
     "shell.execute_reply": "2024-06-30T23:49:29.470360Z",
     "shell.execute_reply.started": "2024-06-30T23:49:29.467338Z"
    }
   },
   "outputs": [],
   "source": [
    "for i in range(row_group.num_columns):\n",
    "    column = row_group.column(i)\n",
    "    end_pos = max(end_pos, column.file_offset + column.total_compressed_size)"
   ]
  },
  {
   "cell_type": "code",
   "execution_count": 86,
   "id": "fec2410e-3365-4283-b38b-5106ca93e008",
   "metadata": {
    "execution": {
     "iopub.execute_input": "2024-06-30T23:49:33.470917Z",
     "iopub.status.busy": "2024-06-30T23:49:33.470469Z",
     "iopub.status.idle": "2024-06-30T23:49:33.474960Z",
     "shell.execute_reply": "2024-06-30T23:49:33.474462Z",
     "shell.execute_reply.started": "2024-06-30T23:49:33.470893Z"
    }
   },
   "outputs": [
    {
     "data": {
      "text/plain": [
       "8142"
      ]
     },
     "execution_count": 86,
     "metadata": {},
     "output_type": "execute_result"
    }
   ],
   "source": [
    "end_pos"
   ]
  },
  {
   "cell_type": "code",
   "execution_count": 87,
   "id": "e02820ea-31e0-42c1-8cec-73cb624cfa70",
   "metadata": {
    "execution": {
     "iopub.execute_input": "2024-06-30T23:49:54.771857Z",
     "iopub.status.busy": "2024-06-30T23:49:54.771415Z",
     "iopub.status.idle": "2024-06-30T23:49:54.775676Z",
     "shell.execute_reply": "2024-06-30T23:49:54.775016Z",
     "shell.execute_reply.started": "2024-06-30T23:49:54.771832Z"
    }
   },
   "outputs": [],
   "source": [
    "with open(file_path, 'rb') as file:\n",
    "    file.seek(start_pos)\n",
    "    row_group_data = file.read(end_pos - start_pos)"
   ]
  },
  {
   "cell_type": "code",
   "execution_count": 92,
   "id": "9c86ac46-d213-4cdc-8683-9906f627da77",
   "metadata": {
    "execution": {
     "iopub.execute_input": "2024-06-30T23:51:22.171341Z",
     "iopub.status.busy": "2024-06-30T23:51:22.170894Z",
     "iopub.status.idle": "2024-06-30T23:51:22.174656Z",
     "shell.execute_reply": "2024-06-30T23:51:22.174013Z",
     "shell.execute_reply.started": "2024-06-30T23:51:22.171317Z"
    }
   },
   "outputs": [],
   "source": [
    "reader = pa.BufferReader(row_group_data)"
   ]
  },
  {
   "cell_type": "code",
   "execution_count": 93,
   "id": "f607cc8d-bad1-45de-9cb9-2fab14ff58a4",
   "metadata": {
    "execution": {
     "iopub.execute_input": "2024-06-30T23:51:24.851433Z",
     "iopub.status.busy": "2024-06-30T23:51:24.851003Z",
     "iopub.status.idle": "2024-06-30T23:51:24.855600Z",
     "shell.execute_reply": "2024-06-30T23:51:24.855072Z",
     "shell.execute_reply.started": "2024-06-30T23:51:24.851411Z"
    }
   },
   "outputs": [
    {
     "data": {
      "text/plain": [
       "<pyarrow.BufferReader closed=False own_file=False is_seekable=True is_writable=False is_readable=True>"
      ]
     },
     "execution_count": 93,
     "metadata": {},
     "output_type": "execute_result"
    }
   ],
   "source": [
    "reader"
   ]
  },
  {
   "cell_type": "code",
   "execution_count": null,
   "id": "93ae734c-5715-4788-abc5-47a673698e8e",
   "metadata": {
    "execution": {
     "iopub.execute_input": "2024-06-30T23:51:03.111029Z",
     "iopub.status.busy": "2024-06-30T23:51:03.110589Z",
     "iopub.status.idle": "2024-06-30T23:51:03.852222Z",
     "shell.execute_reply": "2024-06-30T23:51:03.851482Z",
     "shell.execute_reply.started": "2024-06-30T23:51:03.111005Z"
    }
   },
   "outputs": [
    {
     "ename": "ArrowInvalid",
     "evalue": "Could not open Parquet input source '<Buffer>': Parquet magic bytes not found in footer. Either the file is corrupted or this is not a parquet file.",
     "output_type": "error",
     "traceback": [
      "\u001b[0;31m---------------------------------------------------------------------------\u001b[0m",
      "\u001b[0;31mArrowInvalid\u001b[0m                              Traceback (most recent call last)",
      "Cell \u001b[0;32mIn[91], line 2\u001b[0m\n\u001b[1;32m      1\u001b[0m reader \u001b[38;5;241m=\u001b[39m pa\u001b[38;5;241m.\u001b[39mBufferReader(row_group_data)\n\u001b[0;32m----> 2\u001b[0m table \u001b[38;5;241m=\u001b[39m \u001b[43mpq\u001b[49m\u001b[38;5;241;43m.\u001b[39;49m\u001b[43mread_table\u001b[49m\u001b[43m(\u001b[49m\u001b[43mreader\u001b[49m\u001b[43m)\u001b[49m\n",
      "File \u001b[0;32m/gpfs/data1/oshangp/easier/geohash-cid/py39/lib/python3.9/site-packages/pyarrow/parquet/core.py:1776\u001b[0m, in \u001b[0;36mread_table\u001b[0;34m(source, columns, use_threads, schema, use_pandas_metadata, read_dictionary, memory_map, buffer_size, partitioning, filesystem, filters, use_legacy_dataset, ignore_prefixes, pre_buffer, coerce_int96_timestamp_unit, decryption_properties, thrift_string_size_limit, thrift_container_size_limit, page_checksum_verification)\u001b[0m\n\u001b[1;32m   1770\u001b[0m     warnings\u001b[38;5;241m.\u001b[39mwarn(\n\u001b[1;32m   1771\u001b[0m         \u001b[38;5;124m\"\u001b[39m\u001b[38;5;124mPassing \u001b[39m\u001b[38;5;124m'\u001b[39m\u001b[38;5;124muse_legacy_dataset\u001b[39m\u001b[38;5;124m'\u001b[39m\u001b[38;5;124m is deprecated as of pyarrow 15.0.0 \u001b[39m\u001b[38;5;124m\"\u001b[39m\n\u001b[1;32m   1772\u001b[0m         \u001b[38;5;124m\"\u001b[39m\u001b[38;5;124mand will be removed in a future version.\u001b[39m\u001b[38;5;124m\"\u001b[39m,\n\u001b[1;32m   1773\u001b[0m         \u001b[38;5;167;01mFutureWarning\u001b[39;00m, stacklevel\u001b[38;5;241m=\u001b[39m\u001b[38;5;241m2\u001b[39m)\n\u001b[1;32m   1775\u001b[0m \u001b[38;5;28;01mtry\u001b[39;00m:\n\u001b[0;32m-> 1776\u001b[0m     dataset \u001b[38;5;241m=\u001b[39m \u001b[43mParquetDataset\u001b[49m\u001b[43m(\u001b[49m\n\u001b[1;32m   1777\u001b[0m \u001b[43m        \u001b[49m\u001b[43msource\u001b[49m\u001b[43m,\u001b[49m\n\u001b[1;32m   1778\u001b[0m \u001b[43m        \u001b[49m\u001b[43mschema\u001b[49m\u001b[38;5;241;43m=\u001b[39;49m\u001b[43mschema\u001b[49m\u001b[43m,\u001b[49m\n\u001b[1;32m   1779\u001b[0m \u001b[43m        \u001b[49m\u001b[43mfilesystem\u001b[49m\u001b[38;5;241;43m=\u001b[39;49m\u001b[43mfilesystem\u001b[49m\u001b[43m,\u001b[49m\n\u001b[1;32m   1780\u001b[0m \u001b[43m        \u001b[49m\u001b[43mpartitioning\u001b[49m\u001b[38;5;241;43m=\u001b[39;49m\u001b[43mpartitioning\u001b[49m\u001b[43m,\u001b[49m\n\u001b[1;32m   1781\u001b[0m \u001b[43m        \u001b[49m\u001b[43mmemory_map\u001b[49m\u001b[38;5;241;43m=\u001b[39;49m\u001b[43mmemory_map\u001b[49m\u001b[43m,\u001b[49m\n\u001b[1;32m   1782\u001b[0m \u001b[43m        \u001b[49m\u001b[43mread_dictionary\u001b[49m\u001b[38;5;241;43m=\u001b[39;49m\u001b[43mread_dictionary\u001b[49m\u001b[43m,\u001b[49m\n\u001b[1;32m   1783\u001b[0m \u001b[43m        \u001b[49m\u001b[43mbuffer_size\u001b[49m\u001b[38;5;241;43m=\u001b[39;49m\u001b[43mbuffer_size\u001b[49m\u001b[43m,\u001b[49m\n\u001b[1;32m   1784\u001b[0m \u001b[43m        \u001b[49m\u001b[43mfilters\u001b[49m\u001b[38;5;241;43m=\u001b[39;49m\u001b[43mfilters\u001b[49m\u001b[43m,\u001b[49m\n\u001b[1;32m   1785\u001b[0m \u001b[43m        \u001b[49m\u001b[43mignore_prefixes\u001b[49m\u001b[38;5;241;43m=\u001b[39;49m\u001b[43mignore_prefixes\u001b[49m\u001b[43m,\u001b[49m\n\u001b[1;32m   1786\u001b[0m \u001b[43m        \u001b[49m\u001b[43mpre_buffer\u001b[49m\u001b[38;5;241;43m=\u001b[39;49m\u001b[43mpre_buffer\u001b[49m\u001b[43m,\u001b[49m\n\u001b[1;32m   1787\u001b[0m \u001b[43m        \u001b[49m\u001b[43mcoerce_int96_timestamp_unit\u001b[49m\u001b[38;5;241;43m=\u001b[39;49m\u001b[43mcoerce_int96_timestamp_unit\u001b[49m\u001b[43m,\u001b[49m\n\u001b[1;32m   1788\u001b[0m \u001b[43m        \u001b[49m\u001b[43mthrift_string_size_limit\u001b[49m\u001b[38;5;241;43m=\u001b[39;49m\u001b[43mthrift_string_size_limit\u001b[49m\u001b[43m,\u001b[49m\n\u001b[1;32m   1789\u001b[0m \u001b[43m        \u001b[49m\u001b[43mthrift_container_size_limit\u001b[49m\u001b[38;5;241;43m=\u001b[39;49m\u001b[43mthrift_container_size_limit\u001b[49m\u001b[43m,\u001b[49m\n\u001b[1;32m   1790\u001b[0m \u001b[43m        \u001b[49m\u001b[43mpage_checksum_verification\u001b[49m\u001b[38;5;241;43m=\u001b[39;49m\u001b[43mpage_checksum_verification\u001b[49m\u001b[43m,\u001b[49m\n\u001b[1;32m   1791\u001b[0m \u001b[43m    \u001b[49m\u001b[43m)\u001b[49m\n\u001b[1;32m   1792\u001b[0m \u001b[38;5;28;01mexcept\u001b[39;00m \u001b[38;5;167;01mImportError\u001b[39;00m:\n\u001b[1;32m   1793\u001b[0m     \u001b[38;5;66;03m# fall back on ParquetFile for simple cases when pyarrow.dataset\u001b[39;00m\n\u001b[1;32m   1794\u001b[0m     \u001b[38;5;66;03m# module is not available\u001b[39;00m\n\u001b[1;32m   1795\u001b[0m     \u001b[38;5;28;01mif\u001b[39;00m filters \u001b[38;5;129;01mis\u001b[39;00m \u001b[38;5;129;01mnot\u001b[39;00m \u001b[38;5;28;01mNone\u001b[39;00m:\n",
      "File \u001b[0;32m/gpfs/data1/oshangp/easier/geohash-cid/py39/lib/python3.9/site-packages/pyarrow/parquet/core.py:1343\u001b[0m, in \u001b[0;36mParquetDataset.__init__\u001b[0;34m(self, path_or_paths, filesystem, schema, filters, read_dictionary, memory_map, buffer_size, partitioning, ignore_prefixes, pre_buffer, coerce_int96_timestamp_unit, decryption_properties, thrift_string_size_limit, thrift_container_size_limit, page_checksum_verification, use_legacy_dataset)\u001b[0m\n\u001b[1;32m   1339\u001b[0m \u001b[38;5;28;01mif\u001b[39;00m single_file \u001b[38;5;129;01mis\u001b[39;00m \u001b[38;5;129;01mnot\u001b[39;00m \u001b[38;5;28;01mNone\u001b[39;00m:\n\u001b[1;32m   1340\u001b[0m     fragment \u001b[38;5;241m=\u001b[39m parquet_format\u001b[38;5;241m.\u001b[39mmake_fragment(single_file, filesystem)\n\u001b[1;32m   1342\u001b[0m     \u001b[38;5;28mself\u001b[39m\u001b[38;5;241m.\u001b[39m_dataset \u001b[38;5;241m=\u001b[39m ds\u001b[38;5;241m.\u001b[39mFileSystemDataset(\n\u001b[0;32m-> 1343\u001b[0m         [fragment], schema\u001b[38;5;241m=\u001b[39mschema \u001b[38;5;129;01mor\u001b[39;00m \u001b[43mfragment\u001b[49m\u001b[38;5;241;43m.\u001b[39;49m\u001b[43mphysical_schema\u001b[49m,\n\u001b[1;32m   1344\u001b[0m         \u001b[38;5;28mformat\u001b[39m\u001b[38;5;241m=\u001b[39mparquet_format,\n\u001b[1;32m   1345\u001b[0m         filesystem\u001b[38;5;241m=\u001b[39mfragment\u001b[38;5;241m.\u001b[39mfilesystem\n\u001b[1;32m   1346\u001b[0m     )\n\u001b[1;32m   1347\u001b[0m     \u001b[38;5;28;01mreturn\u001b[39;00m\n\u001b[1;32m   1349\u001b[0m \u001b[38;5;66;03m# check partitioning to enable dictionary encoding\u001b[39;00m\n",
      "File \u001b[0;32m/gpfs/data1/oshangp/easier/geohash-cid/py39/lib/python3.9/site-packages/pyarrow/_dataset.pyx:1367\u001b[0m, in \u001b[0;36mpyarrow._dataset.Fragment.physical_schema.__get__\u001b[0;34m()\u001b[0m\n",
      "File \u001b[0;32m/gpfs/data1/oshangp/easier/geohash-cid/py39/lib/python3.9/site-packages/pyarrow/error.pxi:154\u001b[0m, in \u001b[0;36mpyarrow.lib.pyarrow_internal_check_status\u001b[0;34m()\u001b[0m\n",
      "File \u001b[0;32m/gpfs/data1/oshangp/easier/geohash-cid/py39/lib/python3.9/site-packages/pyarrow/error.pxi:91\u001b[0m, in \u001b[0;36mpyarrow.lib.check_status\u001b[0;34m()\u001b[0m\n",
      "\u001b[0;31mArrowInvalid\u001b[0m: Could not open Parquet input source '<Buffer>': Parquet magic bytes not found in footer. Either the file is corrupted or this is not a parquet file."
     ]
    }
   ],
   "source": [
    "table = pq.read_table(reader)"
   ]
  },
  {
   "cell_type": "code",
   "execution_count": 66,
   "id": "042d3530-16a9-487c-8648-98f280a76d24",
   "metadata": {
    "execution": {
     "iopub.execute_input": "2024-06-30T23:33:11.142126Z",
     "iopub.status.busy": "2024-06-30T23:33:11.141615Z",
     "iopub.status.idle": "2024-06-30T23:33:11.145878Z",
     "shell.execute_reply": "2024-06-30T23:33:11.145397Z",
     "shell.execute_reply.started": "2024-06-30T23:33:11.142102Z"
    }
   },
   "outputs": [
    {
     "data": {
      "text/plain": [
       "10"
      ]
     },
     "execution_count": 66,
     "metadata": {},
     "output_type": "execute_result"
    }
   ],
   "source": [
    "m.num_rows"
   ]
  },
  {
   "cell_type": "code",
   "execution_count": 73,
   "id": "24e8aab4-3b3e-4334-978a-997b91ff1ceb",
   "metadata": {
    "execution": {
     "iopub.execute_input": "2024-06-30T23:34:55.154556Z",
     "iopub.status.busy": "2024-06-30T23:34:55.154131Z",
     "iopub.status.idle": "2024-06-30T23:34:55.159077Z",
     "shell.execute_reply": "2024-06-30T23:34:55.158574Z",
     "shell.execute_reply.started": "2024-06-30T23:34:55.154533Z"
    }
   },
   "outputs": [
    {
     "data": {
      "text/plain": [
       "<pyarrow._parquet.ColumnChunkMetaData object at 0x2afab4fa7c20>\n",
       "  file_offset: 444\n",
       "  file_path: \n",
       "  physical_type: BYTE_ARRAY\n",
       "  num_values: 10\n",
       "  path_in_schema: id\n",
       "  is_stats_set: True\n",
       "  statistics:\n",
       "    <pyarrow._parquet.Statistics object at 0x2afaf4bc3db0>\n",
       "      has_min_max: True\n",
       "      min: 08f268c60bda420603602149837a7836\n",
       "      max: 08f489c0368640d9030ab88383a35876\n",
       "      null_count: 0\n",
       "      distinct_count: None\n",
       "      num_values: 10\n",
       "      physical_type: BYTE_ARRAY\n",
       "      logical_type: String\n",
       "      converted_type (legacy): UTF8\n",
       "  compression: SNAPPY\n",
       "  encodings: ('PLAIN', 'RLE', 'RLE_DICTIONARY')\n",
       "  has_dictionary_page: True\n",
       "  dictionary_page_offset: 4\n",
       "  data_page_offset: 337\n",
       "  total_compressed_size: 440\n",
       "  total_uncompressed_size: 481"
      ]
     },
     "execution_count": 73,
     "metadata": {},
     "output_type": "execute_result"
    }
   ],
   "source": [
    "m.row_group(0).column(0)"
   ]
  },
  {
   "cell_type": "code",
   "execution_count": null,
   "id": "fc517848-fb47-43a1-9c0d-9864233ca3c1",
   "metadata": {},
   "outputs": [],
   "source": [
    "metadata = pf.metadata.row_group(row_group).column(column)"
   ]
  },
  {
   "cell_type": "code",
   "execution_count": 48,
   "id": "a2847153-ffc2-4688-82fd-adc237e4f011",
   "metadata": {
    "execution": {
     "iopub.execute_input": "2024-06-30T23:29:51.218513Z",
     "iopub.status.busy": "2024-06-30T23:29:51.218067Z",
     "iopub.status.idle": "2024-06-30T23:29:51.227983Z",
     "shell.execute_reply": "2024-06-30T23:29:51.227450Z",
     "shell.execute_reply.started": "2024-06-30T23:29:51.218489Z"
    }
   },
   "outputs": [
    {
     "data": {
      "text/plain": [
       "(10, 15)"
      ]
     },
     "execution_count": 48,
     "metadata": {},
     "output_type": "execute_result"
    }
   ],
   "source": [
    "pq.ParquetFile('sample.parquet').read_row_group(0).to_pandas().shape"
   ]
  },
  {
   "cell_type": "code",
   "execution_count": 34,
   "id": "5db43a2e-6184-48ae-9801-2fc8d2c50bdb",
   "metadata": {
    "execution": {
     "iopub.execute_input": "2024-06-29T18:58:33.684249Z",
     "iopub.status.busy": "2024-06-29T18:58:33.683789Z",
     "iopub.status.idle": "2024-06-29T18:58:33.689435Z",
     "shell.execute_reply": "2024-06-29T18:58:33.688909Z",
     "shell.execute_reply.started": "2024-06-29T18:58:33.684223Z"
    }
   },
   "outputs": [
    {
     "data": {
      "text/plain": [
       "[RowGroup(columns=[ColumnChunk(file_path=None, file_offset=444, meta_data=ColumnMetaData(type=6, encodings=[0, 3, 8], path_in_schema=['id'], codec=1, num_values=10, total_uncompressed_size=481, total_compressed_size=440, key_value_metadata=None, data_page_offset=337, index_page_offset=None, dictionary_page_offset=4, statistics=Statistics(max=None, min=None, null_count=0, distinct_count=None, max_value=b'08f489c0368640d9030ab88383a35876', min_value=b'08f268c60bda420603602149837a7836'), encoding_stats=[PageEncodingStats(page_type=2, encoding=0, count=1), PageEncodingStats(page_type=0, encoding=8, count=1)], bloom_filter_offset=None), offset_index_offset=None, offset_index_length=None, column_index_offset=None, column_index_length=None, crypto_metadata=None, encrypted_column_metadata=None), ColumnChunk(file_path=None, file_offset=857, meta_data=ColumnMetaData(type=6, encodings=[0, 3, 8], path_in_schema=['geometry'], codec=1, num_values=10, total_uncompressed_size=349, total_compressed_size=292, key_value_metadata=None, data_page_offset=772, index_page_offset=None, dictionary_page_offset=565, statistics=Statistics(max=None, min=None, null_count=0, distinct_count=None, max_value=b'\\x01\\x01\\x00\\x00\\x00\\xef=\\xb7+OKX\\xc0M\\xe5\\xa3{\\x8c\\x8a?@', min_value=b'\\x01\\x01\\x00\\x00\\x00.\\xfe[nU0Z\\xc0\\xd6iI\\xec\\x7fnC@'), encoding_stats=[PageEncodingStats(page_type=2, encoding=0, count=1), PageEncodingStats(page_type=0, encoding=8, count=1)], bloom_filter_offset=None), offset_index_offset=None, offset_index_length=None, column_index_offset=None, column_index_length=None, crypto_metadata=None, encrypted_column_metadata=None), ColumnChunk(file_path=None, file_offset=1132, meta_data=ColumnMetaData(type=5, encodings=[0, 3, 8], path_in_schema=['bbox', 'xmax'], codec=1, num_values=10, total_uncompressed_size=173, total_compressed_size=169, key_value_metadata=None, data_page_offset=1053, index_page_offset=None, dictionary_page_offset=963, statistics=Statistics(max=b'\\x00\\x00\\x00\\xc0\\x8b\\xa8W\\xc0', min=b'\\x00\\x00\\x00\\x00&\\x91^\\xc0', null_count=0, distinct_count=None, max_value=b'\\x00\\x00\\x00\\xc0\\x8b\\xa8W\\xc0', min_value=b'\\x00\\x00\\x00\\x00&\\x91^\\xc0'), encoding_stats=[PageEncodingStats(page_type=2, encoding=0, count=1), PageEncodingStats(page_type=0, encoding=8, count=1)], bloom_filter_offset=None), offset_index_offset=None, offset_index_length=None, column_index_offset=None, column_index_length=None, crypto_metadata=None, encrypted_column_metadata=None), ColumnChunk(file_path=None, file_offset=1402, meta_data=ColumnMetaData(type=5, encodings=[0, 3, 8], path_in_schema=['bbox', 'xmin'], codec=1, num_values=10, total_uncompressed_size=173, total_compressed_size=169, key_value_metadata=None, data_page_offset=1323, index_page_offset=None, dictionary_page_offset=1233, statistics=Statistics(max=b'\\x00\\x00\\x00\\x00\\x8c\\xa8W\\xc0', min=b'\\x00\\x00\\x00@&\\x91^\\xc0', null_count=0, distinct_count=None, max_value=b'\\x00\\x00\\x00\\x00\\x8c\\xa8W\\xc0', min_value=b'\\x00\\x00\\x00@&\\x91^\\xc0'), encoding_stats=[PageEncodingStats(page_type=2, encoding=0, count=1), PageEncodingStats(page_type=0, encoding=8, count=1)], bloom_filter_offset=None), offset_index_offset=None, offset_index_length=None, column_index_offset=None, column_index_length=None, crypto_metadata=None, encrypted_column_metadata=None), ColumnChunk(file_path=None, file_offset=1669, meta_data=ColumnMetaData(type=5, encodings=[0, 3, 8], path_in_schema=['bbox', 'ymax'], codec=1, num_values=10, total_uncompressed_size=173, total_compressed_size=166, key_value_metadata=None, data_page_offset=1590, index_page_offset=None, dictionary_page_offset=1503, statistics=Statistics(max=b'\\x00\\x00\\x00\\x00\\xa7\\xd6C@', min=b'\\x00\\x00\\x00\\xe0\\x94u=@', null_count=0, distinct_count=None, max_value=b'\\x00\\x00\\x00\\x00\\xa7\\xd6C@', min_value=b'\\x00\\x00\\x00\\xe0\\x94u=@'), encoding_stats=[PageEncodingStats(page_type=2, encoding=0, count=1), PageEncodingStats(page_type=0, encoding=8, count=1)], bloom_filter_offset=None), offset_index_offset=None, offset_index_length=None, column_index_offset=None, column_index_length=None, crypto_metadata=None, encrypted_column_metadata=None), ColumnChunk(file_path=None, file_offset=1935, meta_data=ColumnMetaData(type=5, encodings=[0, 3, 8], path_in_schema=['bbox', 'ymin'], codec=1, num_values=10, total_uncompressed_size=173, total_compressed_size=165, key_value_metadata=None, data_page_offset=1856, index_page_offset=None, dictionary_page_offset=1770, statistics=Statistics(max=b'\\x00\\x00\\x00\\xe0\\xa6\\xd6C@', min=b'\\x00\\x00\\x00\\xa0\\x94u=@', null_count=0, distinct_count=None, max_value=b'\\x00\\x00\\x00\\xe0\\xa6\\xd6C@', min_value=b'\\x00\\x00\\x00\\xa0\\x94u=@'), encoding_stats=[PageEncodingStats(page_type=2, encoding=0, count=1), PageEncodingStats(page_type=0, encoding=8, count=1)], bloom_filter_offset=None), offset_index_offset=None, offset_index_length=None, column_index_offset=None, column_index_length=None, crypto_metadata=None, encrypted_column_metadata=None), ColumnChunk(file_path=None, file_offset=2112, meta_data=ColumnMetaData(type=1, encodings=[0, 3, 8], path_in_schema=['version'], codec=1, num_values=10, total_uncompressed_size=72, total_compressed_size=76, key_value_metadata=None, data_page_offset=2056, index_page_offset=None, dictionary_page_offset=2036, statistics=Statistics(max=b'\\x00\\x00\\x00\\x00', min=b'\\x00\\x00\\x00\\x00', null_count=0, distinct_count=None, max_value=b'\\x00\\x00\\x00\\x00', min_value=b'\\x00\\x00\\x00\\x00'), encoding_stats=[PageEncodingStats(page_type=2, encoding=0, count=1), PageEncodingStats(page_type=0, encoding=8, count=1)], bloom_filter_offset=None), offset_index_offset=None, offset_index_length=None, column_index_offset=None, column_index_length=None, crypto_metadata=None, encrypted_column_metadata=None), ColumnChunk(file_path=None, file_offset=2323, meta_data=ColumnMetaData(type=6, encodings=[0, 3, 8], path_in_schema=['update_time'], codec=1, num_values=10, total_uncompressed_size=124, total_compressed_size=128, key_value_metadata=None, data_page_offset=2239, index_page_offset=None, dictionary_page_offset=2195, statistics=Statistics(max=None, min=None, null_count=0, distinct_count=None, max_value=b'2024-06-06T00:00:00.000Z', min_value=b'2024-06-06T00:00:00.000Z'), encoding_stats=[PageEncodingStats(page_type=2, encoding=0, count=1), PageEncodingStats(page_type=0, encoding=8, count=1)], bloom_filter_offset=None), offset_index_offset=None, offset_index_length=None, column_index_offset=None, column_index_length=None, crypto_metadata=None, encrypted_column_metadata=None), ColumnChunk(file_path=None, file_offset=2488, meta_data=ColumnMetaData(type=1, encodings=[0, 3, 8], path_in_schema=['sources', 'list', 'element', 'confidence'], codec=1, num_values=11, total_uncompressed_size=47, total_compressed_size=50, key_value_metadata=None, data_page_offset=2453, index_page_offset=None, dictionary_page_offset=2438, statistics=None, encoding_stats=[PageEncodingStats(page_type=2, encoding=0, count=1), PageEncodingStats(page_type=0, encoding=8, count=1)], bloom_filter_offset=None), offset_index_offset=None, offset_index_length=None, column_index_offset=None, column_index_length=None, crypto_metadata=None, encrypted_column_metadata=None), ColumnChunk(file_path=None, file_offset=2649, meta_data=ColumnMetaData(type=6, encodings=[0, 3, 8], path_in_schema=['sources', 'list', 'element', 'dataset'], codec=1, num_values=11, total_uncompressed_size=80, total_compressed_size=84, key_value_metadata=None, data_page_offset=2597, index_page_offset=None, dictionary_page_offset=2565, statistics=Statistics(max=None, min=None, null_count=0, distinct_count=None, max_value=b'msft', min_value=b'meta'), encoding_stats=[PageEncodingStats(page_type=2, encoding=0, count=1), PageEncodingStats(page_type=0, encoding=8, count=1)], bloom_filter_offset=None), offset_index_offset=None, offset_index_length=None, column_index_offset=None, column_index_length=None, crypto_metadata=None, encrypted_column_metadata=None), ColumnChunk(file_path=None, file_offset=2851, meta_data=ColumnMetaData(type=6, encodings=[0, 3, 8], path_in_schema=['sources', 'list', 'element', 'property'], codec=1, num_values=11, total_uncompressed_size=106, total_compressed_size=110, key_value_metadata=None, data_page_offset=2786, index_page_offset=None, dictionary_page_offset=2741, statistics=Statistics(max=None, min=None, null_count=0, distinct_count=None, max_value=b'/properties/existence', min_value=b''), encoding_stats=[PageEncodingStats(page_type=2, encoding=0, count=1), PageEncodingStats(page_type=0, encoding=8, count=1)], bloom_filter_offset=None), offset_index_offset=None, offset_index_length=None, column_index_offset=None, column_index_length=None, crypto_metadata=None, encrypted_column_metadata=None), ColumnChunk(file_path=None, file_offset=3246, meta_data=ColumnMetaData(type=6, encodings=[0, 3, 8], path_in_schema=['sources', 'list', 'element', 'record_id'], codec=1, num_values=11, total_uncompressed_size=305, total_compressed_size=289, key_value_metadata=None, data_page_offset=3166, index_page_offset=None, dictionary_page_offset=2957, statistics=Statistics(max=None, min=None, null_count=0, distinct_count=None, max_value=b'633932533773218', min_value=b'107841450555010'), encoding_stats=[PageEncodingStats(page_type=2, encoding=0, count=1), PageEncodingStats(page_type=0, encoding=8, count=1)], bloom_filter_offset=None), offset_index_offset=None, offset_index_length=None, column_index_offset=None, column_index_length=None, crypto_metadata=None, encrypted_column_metadata=None), ColumnChunk(file_path=None, file_offset=3405, meta_data=ColumnMetaData(type=1, encodings=[0, 3, 8], path_in_schema=['names', 'common'], codec=1, num_values=10, total_uncompressed_size=40, total_compressed_size=43, key_value_metadata=None, data_page_offset=3377, index_page_offset=None, dictionary_page_offset=3362, statistics=None, encoding_stats=[PageEncodingStats(page_type=2, encoding=0, count=1), PageEncodingStats(page_type=0, encoding=8, count=1)], bloom_filter_offset=None), offset_index_offset=None, offset_index_length=None, column_index_offset=None, column_index_length=None, crypto_metadata=None, encrypted_column_metadata=None), ColumnChunk(file_path=None, file_offset=3812, meta_data=ColumnMetaData(type=6, encodings=[0, 3, 8], path_in_schema=['names', 'primary'], codec=1, num_values=10, total_uncompressed_size=350, total_compressed_size=349, key_value_metadata=None, data_page_offset=3720, index_page_offset=None, dictionary_page_offset=3463, statistics=Statistics(max=None, min=None, null_count=0, distinct_count=None, max_value=b'University of Denver Admission', min_value=b'Alexanne Aesthetics'), encoding_stats=[PageEncodingStats(page_type=2, encoding=0, count=1), PageEncodingStats(page_type=0, encoding=8, count=1)], bloom_filter_offset=None), offset_index_offset=None, offset_index_length=None, column_index_offset=None, column_index_length=None, crypto_metadata=None, encrypted_column_metadata=None), ColumnChunk(file_path=None, file_offset=3973, meta_data=ColumnMetaData(type=1, encodings=[0, 3, 8], path_in_schema=['names', 'rules'], codec=1, num_values=10, total_uncompressed_size=40, total_compressed_size=43, key_value_metadata=None, data_page_offset=3945, index_page_offset=None, dictionary_page_offset=3930, statistics=None, encoding_stats=[PageEncodingStats(page_type=2, encoding=0, count=1), PageEncodingStats(page_type=0, encoding=8, count=1)], bloom_filter_offset=None), offset_index_offset=None, offset_index_length=None, column_index_offset=None, column_index_length=None, crypto_metadata=None, encrypted_column_metadata=None), ColumnChunk(file_path=None, file_offset=4393, meta_data=ColumnMetaData(type=6, encodings=[0, 3, 8], path_in_schema=['categories', 'alternate', 'list', 'element'], codec=1, num_values=18, total_uncompressed_size=367, total_compressed_size=363, key_value_metadata=None, data_page_offset=4302, index_page_offset=None, dictionary_page_offset=4030, statistics=Statistics(max=None, min=None, null_count=1, distinct_count=None, max_value=b'specialty_school', min_value=b'asian_restaurant'), encoding_stats=[PageEncodingStats(page_type=2, encoding=0, count=1), PageEncodingStats(page_type=0, encoding=8, count=1)], bloom_filter_offset=None), offset_index_offset=None, offset_index_length=None, column_index_offset=None, column_index_length=None, crypto_metadata=None, encrypted_column_metadata=None), ColumnChunk(file_path=None, file_offset=4760, meta_data=ColumnMetaData(type=6, encodings=[0, 3, 8], path_in_schema=['categories', 'main'], codec=1, num_values=10, total_uncompressed_size=240, total_compressed_size=246, key_value_metadata=None, data_page_offset=4701, index_page_offset=None, dictionary_page_offset=4514, statistics=Statistics(max=None, min=None, null_count=0, distinct_count=None, max_value=b'spas', min_value=b'beauty_salon'), encoding_stats=[PageEncodingStats(page_type=2, encoding=0, count=1), PageEncodingStats(page_type=0, encoding=8, count=1)], bloom_filter_offset=None), offset_index_offset=None, offset_index_length=None, column_index_offset=None, column_index_length=None, crypto_metadata=None, encrypted_column_metadata=None), ColumnChunk(file_path=None, file_offset=4970, meta_data=ColumnMetaData(type=5, encodings=[0, 3, 8], path_in_schema=['confidence'], codec=1, num_values=10, total_uncompressed_size=119, total_compressed_size=123, key_value_metadata=None, data_page_offset=4895, index_page_offset=None, dictionary_page_offset=4847, statistics=Statistics(max=b'\\xff\\x1a\\xf1\\xaf\\x11\\xff\\xee?', min=b'\\xa4p=\\n\\xd7\\xa3\\xe8?', null_count=0, distinct_count=None, max_value=b'\\xff\\x1a\\xf1\\xaf\\x11\\xff\\xee?', min_value=b'\\xa4p=\\n\\xd7\\xa3\\xe8?'), encoding_stats=[PageEncodingStats(page_type=2, encoding=0, count=1), PageEncodingStats(page_type=0, encoding=8, count=1)], bloom_filter_offset=None), offset_index_offset=None, offset_index_length=None, column_index_offset=None, column_index_length=None, crypto_metadata=None, encrypted_column_metadata=None), ColumnChunk(file_path=None, file_offset=5355, meta_data=ColumnMetaData(type=6, encodings=[0, 3, 8], path_in_schema=['websites', 'list', 'element'], codec=1, num_values=10, total_uncompressed_size=334, total_compressed_size=283, key_value_metadata=None, data_page_offset=5255, index_page_offset=None, dictionary_page_offset=5072, statistics=Statistics(max=None, min=None, null_count=3, distinct_count=None, max_value=b'https://www.danceology.biz', min_value=b'http://www.cocosbakery.com/'), encoding_stats=[PageEncodingStats(page_type=2, encoding=0, count=1), PageEncodingStats(page_type=0, encoding=8, count=1)], bloom_filter_offset=None), offset_index_offset=None, offset_index_length=None, column_index_offset=None, column_index_length=None, crypto_metadata=None, encrypted_column_metadata=None), ColumnChunk(file_path=None, file_offset=5821, meta_data=ColumnMetaData(type=6, encodings=[0, 3, 8], path_in_schema=['socials', 'list', 'element'], codec=1, num_values=10, total_uncompressed_size=542, total_compressed_size=336, key_value_metadata=None, data_page_offset=5689, index_page_offset=None, dictionary_page_offset=5485, statistics=Statistics(max=None, min=None, null_count=1, distinct_count=None, max_value=b'https://www.facebook.com/633932533773218', min_value=b'https://www.facebook.com/107841450555010'), encoding_stats=[PageEncodingStats(page_type=2, encoding=0, count=1), PageEncodingStats(page_type=0, encoding=8, count=1)], bloom_filter_offset=None), offset_index_offset=None, offset_index_length=None, column_index_offset=None, column_index_length=None, crypto_metadata=None, encrypted_column_metadata=None), ColumnChunk(file_path=None, file_offset=6020, meta_data=ColumnMetaData(type=1, encodings=[0, 3, 8], path_in_schema=['emails'], codec=1, num_values=10, total_uncompressed_size=40, total_compressed_size=43, key_value_metadata=None, data_page_offset=5992, index_page_offset=None, dictionary_page_offset=5977, statistics=None, encoding_stats=[PageEncodingStats(page_type=2, encoding=0, count=1), PageEncodingStats(page_type=0, encoding=8, count=1)], bloom_filter_offset=None), offset_index_offset=None, offset_index_length=None, column_index_offset=None, column_index_length=None, crypto_metadata=None, encrypted_column_metadata=None), ColumnChunk(file_path=None, file_offset=6291, meta_data=ColumnMetaData(type=6, encodings=[0, 3, 8], path_in_schema=['phones', 'list', 'element'], codec=1, num_values=10, total_uncompressed_size=243, total_compressed_size=219, key_value_metadata=None, data_page_offset=6222, index_page_offset=None, dictionary_page_offset=6072, statistics=Statistics(max=None, min=None, null_count=0, distinct_count=None, max_value=b'4694059594', min_value=b'+12108225200'), encoding_stats=[PageEncodingStats(page_type=2, encoding=0, count=1), PageEncodingStats(page_type=0, encoding=8, count=1)], bloom_filter_offset=None), offset_index_offset=None, offset_index_length=None, column_index_offset=None, column_index_length=None, crypto_metadata=None, encrypted_column_metadata=None), ColumnChunk(file_path=None, file_offset=6431, meta_data=ColumnMetaData(type=1, encodings=[0, 3, 8], path_in_schema=['brand'], codec=1, num_values=10, total_uncompressed_size=40, total_compressed_size=43, key_value_metadata=None, data_page_offset=6403, index_page_offset=None, dictionary_page_offset=6388, statistics=None, encoding_stats=[PageEncodingStats(page_type=2, encoding=0, count=1), PageEncodingStats(page_type=0, encoding=8, count=1)], bloom_filter_offset=None), offset_index_offset=None, offset_index_length=None, column_index_offset=None, column_index_length=None, crypto_metadata=None, encrypted_column_metadata=None), ColumnChunk(file_path=None, file_offset=6550, meta_data=ColumnMetaData(type=6, encodings=[0, 3, 8], path_in_schema=['addresses', 'list', 'element', 'country'], codec=1, num_values=10, total_uncompressed_size=64, total_compressed_size=68, key_value_metadata=None, data_page_offset=6504, index_page_offset=None, dictionary_page_offset=6482, statistics=Statistics(max=None, min=None, null_count=0, distinct_count=None, max_value=b'US', min_value=b'US'), encoding_stats=[PageEncodingStats(page_type=2, encoding=0, count=1), PageEncodingStats(page_type=0, encoding=8, count=1)], bloom_filter_offset=None), offset_index_offset=None, offset_index_length=None, column_index_offset=None, column_index_length=None, crypto_metadata=None, encrypted_column_metadata=None), ColumnChunk(file_path=None, file_offset=6932, meta_data=ColumnMetaData(type=6, encodings=[0, 3, 8], path_in_schema=['addresses', 'list', 'element', 'freeform'], codec=1, num_values=10, total_uncompressed_size=309, total_compressed_size=292, key_value_metadata=None, data_page_offset=6857, index_page_offset=None, dictionary_page_offset=6640, statistics=Statistics(max=None, min=None, null_count=0, distinct_count=None, max_value=b'5633 Bandit Dr', min_value=b'1011 Shook Ave'), encoding_stats=[PageEncodingStats(page_type=2, encoding=0, count=1), PageEncodingStats(page_type=0, encoding=8, count=1)], bloom_filter_offset=None), offset_index_offset=None, offset_index_length=None, column_index_offset=None, column_index_length=None, crypto_metadata=None, encrypted_column_metadata=None), ColumnChunk(file_path=None, file_offset=7241, meta_data=ColumnMetaData(type=6, encodings=[0, 3, 8], path_in_schema=['addresses', 'list', 'element', 'locality'], codec=1, num_values=10, total_uncompressed_size=197, total_compressed_size=194, key_value_metadata=None, data_page_offset=7185, index_page_offset=None, dictionary_page_offset=7047, statistics=Statistics(max=None, min=None, null_count=0, distinct_count=None, max_value=b'Waco', min_value=b'Chino'), encoding_stats=[PageEncodingStats(page_type=2, encoding=0, count=1), PageEncodingStats(page_type=0, encoding=8, count=1)], bloom_filter_offset=None), offset_index_offset=None, offset_index_length=None, column_index_offset=None, column_index_length=None, crypto_metadata=None, encrypted_column_metadata=None), ColumnChunk(file_path=None, file_offset=7538, meta_data=ColumnMetaData(type=6, encodings=[0, 3, 8], path_in_schema=['addresses', 'list', 'element', 'postcode'], codec=1, num_values=10, total_uncompressed_size=208, total_compressed_size=201, key_value_metadata=None, data_page_offset=7476, index_page_offset=None, dictionary_page_offset=7337, statistics=Statistics(max=None, min=None, null_count=0, distinct_count=None, max_value=b'94404-2298', min_value=b'75249'), encoding_stats=[PageEncodingStats(page_type=2, encoding=0, count=1), PageEncodingStats(page_type=0, encoding=8, count=1)], bloom_filter_offset=None), offset_index_offset=None, offset_index_length=None, column_index_offset=None, column_index_length=None, crypto_metadata=None, encrypted_column_metadata=None), ColumnChunk(file_path=None, file_offset=7723, meta_data=ColumnMetaData(type=6, encodings=[0, 3, 8], path_in_schema=['addresses', 'list', 'element', 'region'], codec=1, num_values=10, total_uncompressed_size=79, total_compressed_size=83, key_value_metadata=None, data_page_offset=7674, index_page_offset=None, dictionary_page_offset=7640, statistics=Statistics(max=None, min=None, null_count=0, distinct_count=None, max_value=b'TX', min_value=b'CA'), encoding_stats=[PageEncodingStats(page_type=2, encoding=0, count=1), PageEncodingStats(page_type=0, encoding=8, count=1)], bloom_filter_offset=None), offset_index_offset=None, offset_index_length=None, column_index_offset=None, column_index_length=None, crypto_metadata=None, encrypted_column_metadata=None), ColumnChunk(file_path=None, file_offset=7977, meta_data=ColumnMetaData(type=2, encodings=[0, 3, 8], path_in_schema=['__index_level_0__'], codec=1, num_values=10, total_uncompressed_size=173, total_compressed_size=165, key_value_metadata=None, data_page_offset=7898, index_page_offset=None, dictionary_page_offset=7812, statistics=Statistics(max=b'\\xb9\\xd1\\x9d\\x00\\x00\\x00\\x00\\x00', min=b'\\xa2\\x1fe\\x00\\x00\\x00\\x00\\x00', null_count=0, distinct_count=None, max_value=b'\\xb9\\xd1\\x9d\\x00\\x00\\x00\\x00\\x00', min_value=b'\\xa2\\x1fe\\x00\\x00\\x00\\x00\\x00'), encoding_stats=[PageEncodingStats(page_type=2, encoding=0, count=1), PageEncodingStats(page_type=0, encoding=8, count=1)], bloom_filter_offset=None), offset_index_offset=None, offset_index_length=None, column_index_offset=None, column_index_length=None, crypto_metadata=None, encrypted_column_metadata=None)], total_byte_size=5641, num_rows=10, sorting_columns=None, file_offset=4, total_compressed_size=5232, ordinal=0)]"
      ]
     },
     "execution_count": 34,
     "metadata": {},
     "output_type": "execute_result"
    }
   ],
   "source": [
    "md.row_groups"
   ]
  },
  {
   "cell_type": "code",
   "execution_count": 2,
   "id": "bd88b5ab-a21f-4fee-8c44-46b0d9cb5ca7",
   "metadata": {
    "execution": {
     "iopub.execute_input": "2024-06-27T06:45:53.882952Z",
     "iopub.status.busy": "2024-06-27T06:45:53.882459Z",
     "iopub.status.idle": "2024-06-27T06:45:53.886972Z",
     "shell.execute_reply": "2024-06-27T06:45:53.886150Z",
     "shell.execute_reply.started": "2024-06-27T06:45:53.882926Z"
    }
   },
   "outputs": [],
   "source": [
    "import struct\n",
    "#import snappy\n",
    "import zlib\n",
    "from io import BytesIO"
   ]
  },
  {
   "cell_type": "code",
   "execution_count": null,
   "id": "b9b4de3f-d759-48f4-8afa-dcfa217c5aee",
   "metadata": {},
   "outputs": [],
   "source": []
  },
  {
   "cell_type": "code",
   "execution_count": 3,
   "id": "c8d9d204-6075-4602-b4a3-10fe0cb75b63",
   "metadata": {
    "execution": {
     "iopub.execute_input": "2024-06-27T06:46:41.841651Z",
     "iopub.status.busy": "2024-06-27T06:46:41.841226Z",
     "iopub.status.idle": "2024-06-27T06:46:41.845202Z",
     "shell.execute_reply": "2024-06-27T06:46:41.844386Z",
     "shell.execute_reply.started": "2024-06-27T06:46:41.841627Z"
    }
   },
   "outputs": [],
   "source": [
    "file_path = 'sample.parquet'"
   ]
  },
  {
   "cell_type": "code",
   "execution_count": null,
   "id": "9551269f-0063-4144-892f-10abd45539e7",
   "metadata": {
    "execution": {
     "iopub.execute_input": "2024-06-27T07:10:14.402488Z",
     "iopub.status.busy": "2024-06-27T07:10:14.402061Z",
     "iopub.status.idle": "2024-06-27T07:10:14.406163Z",
     "shell.execute_reply": "2024-06-27T07:10:14.405357Z",
     "shell.execute_reply.started": "2024-06-27T07:10:14.402464Z"
    }
   },
   "outputs": [],
   "source": [
    "f = open(file_path, 'rb')\n",
    "f.seek(-8, 2)\n",
    "fl = f.read(4)\n",
    "struct.unpack('<I', fl)\n",
    "footer_length = struct.unpack('<I', f.read(4))[0]\n",
    "f.seek(-footer_length - 8, 2)\n",
    "footer = f.read(footer_length)\n",
    "footer"
   ]
  },
  {
   "cell_type": "code",
   "execution_count": null,
   "id": "7e36e397-1136-49a4-9aaa-c92e110f7515",
   "metadata": {},
   "outputs": [],
   "source": [
    "def parse_metadata(footer):\n",
    "    # Parse the Thrift-encoded metadata\n",
    "    # This is a simplified version and may need to be expanded\n",
    "    metadata = {}\n",
    "    metadata['schema'] = {'columns': []}\n",
    "    \n",
    "    # Extract column information\n",
    "    # This is a placeholder and needs to be implemented based on the Thrift structure\n",
    "    \n",
    "    return metadata"
   ]
  },
  {
   "cell_type": "code",
   "execution_count": null,
   "id": "7b978267-1c41-4e89-942e-d2243ffcde3c",
   "metadata": {},
   "outputs": [],
   "source": [
    "with open(file_path, 'rb') as f:\n",
    "    # Read the file footer\n",
    "    f.seek(-8, 2)\n",
    "    footer_length = struct.unpack('<I', f.read(4))[0]\n",
    "    f.seek(-footer_length - 8, 2)\n",
    "    footer = f.read(footer_length)\n",
    "\n",
    "    # Parse the footer\n",
    "    metadata = parse_metadata(footer)\n",
    "\n",
    "    # Read and decode column data\n",
    "    data = {}\n",
    "    for column in metadata['schema']['columns']:\n",
    "        column_data = read_column(f, metadata, column)\n",
    "        data[column['name']] = column_data"
   ]
  }
 ],
 "metadata": {
  "kernelspec": {
   "display_name": "Python 3 (ipykernel)",
   "language": "python",
   "name": "python3"
  },
  "language_info": {
   "codemirror_mode": {
    "name": "ipython",
    "version": 3
   },
   "file_extension": ".py",
   "mimetype": "text/x-python",
   "name": "python",
   "nbconvert_exporter": "python",
   "pygments_lexer": "ipython3",
   "version": "3.9.12"
  }
 },
 "nbformat": 4,
 "nbformat_minor": 5
}
