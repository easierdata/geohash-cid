{
 "cells": [
  {
   "cell_type": "code",
   "execution_count": 22,
   "id": "773c6713-91d4-496e-adf4-e5c4d040d888",
   "metadata": {
    "execution": {
     "iopub.execute_input": "2024-03-18T18:59:59.347776Z",
     "iopub.status.busy": "2024-03-18T18:59:59.347442Z",
     "iopub.status.idle": "2024-03-18T18:59:59.372671Z",
     "shell.execute_reply": "2024-03-18T18:59:59.371934Z",
     "shell.execute_reply.started": "2024-03-18T18:59:59.347750Z"
    }
   },
   "outputs": [],
   "source": [
    "from pyrosm import get_data,OSM\n",
    "from pyrosm.data import sources\n",
    "import geopandas as gpd\n",
    "import pandas as pd\n",
    "from glob import glob"
   ]
  },
  {
   "cell_type": "code",
   "execution_count": null,
   "id": "b758d3c5-f06e-42b8-9122-8bff75b6700f",
   "metadata": {},
   "outputs": [],
   "source": [
    "sources.available #['north_america']['us_northeast']"
   ]
  },
  {
   "cell_type": "code",
   "execution_count": null,
   "id": "6bafe33f-eb58-4c64-bc1d-6b9361126b44",
   "metadata": {},
   "outputs": [],
   "source": [
    "for region in ['us_midwest',\n",
    "  'us_northeast',\n",
    "  'us_pacific',\n",
    "  'us_south',\n",
    "  'us_west']:\n",
    "    fp = get_data(region,directory=\"../../data/osm\")"
   ]
  },
  {
   "cell_type": "code",
   "execution_count": null,
   "id": "6da94ae6-a30c-49e7-9184-c585490a7639",
   "metadata": {},
   "outputs": [],
   "source": [
    "fp = '/gpfs/data1/oshangp/easier/geohash-cid/data/osm/us-northeast-latest.osm.pbf'"
   ]
  },
  {
   "cell_type": "code",
   "execution_count": null,
   "id": "1b4ebc2e-20e5-49b6-88ac-d33d1112ae9c",
   "metadata": {},
   "outputs": [],
   "source": [
    "osm = OSM(fp)"
   ]
  },
  {
   "cell_type": "code",
   "execution_count": null,
   "id": "480f5a34-13e7-427a-aed3-262661b82899",
   "metadata": {},
   "outputs": [],
   "source": [
    "custom_filter = {'amenity': True}\n",
    "pois = osm.get_pois(custom_filter=custom_filter)"
   ]
  },
  {
   "cell_type": "code",
   "execution_count": null,
   "id": "282cedc5-dae3-422d-bffd-ce7d7f4e7801",
   "metadata": {},
   "outputs": [],
   "source": [
    "pois"
   ]
  },
  {
   "cell_type": "code",
   "execution_count": 23,
   "id": "2b60df79-4a92-4e95-90e6-dee0dbbb5b6c",
   "metadata": {
    "execution": {
     "iopub.execute_input": "2024-03-18T19:00:02.491254Z",
     "iopub.status.busy": "2024-03-18T19:00:02.490919Z",
     "iopub.status.idle": "2024-03-18T19:50:18.376003Z",
     "shell.execute_reply": "2024-03-18T19:50:18.375162Z",
     "shell.execute_reply.started": "2024-03-18T19:00:02.491228Z"
    }
   },
   "outputs": [],
   "source": [
    "pois = pd.concat([gpd.read_file(f) for f in glob(\"../../data/osm/us-*-poi.geojson\")])"
   ]
  },
  {
   "cell_type": "code",
   "execution_count": 15,
   "id": "b3433e70-e4b1-47ff-a995-23ec1b693143",
   "metadata": {
    "execution": {
     "iopub.execute_input": "2024-03-18T04:47:21.524079Z",
     "iopub.status.busy": "2024-03-18T04:47:21.523664Z",
     "iopub.status.idle": "2024-03-18T04:57:03.859814Z",
     "shell.execute_reply": "2024-03-18T04:57:03.855871Z",
     "shell.execute_reply.started": "2024-03-18T04:47:21.524054Z"
    }
   },
   "outputs": [],
   "source": [
    "w = gpd.read_file(\"../../data/osm/us-west-poi.geojson\")"
   ]
  },
  {
   "cell_type": "code",
   "execution_count": 30,
   "id": "53818775-92a8-4801-b598-ffce4284920f",
   "metadata": {
    "execution": {
     "iopub.execute_input": "2024-03-19T04:41:40.659332Z",
     "iopub.status.busy": "2024-03-19T04:41:40.658893Z",
     "iopub.status.idle": "2024-03-19T04:41:40.664484Z",
     "shell.execute_reply": "2024-03-19T04:41:40.663977Z",
     "shell.execute_reply.started": "2024-03-19T04:41:40.659305Z"
    }
   },
   "outputs": [
    {
     "data": {
      "text/plain": [
       "(1429853, 74)"
      ]
     },
     "execution_count": 30,
     "metadata": {},
     "output_type": "execute_result"
    }
   ],
   "source": [
    "pois.shape"
   ]
  },
  {
   "cell_type": "code",
   "execution_count": 29,
   "id": "071b1dac-1bd4-493a-91d9-a3725ba47970",
   "metadata": {
    "execution": {
     "iopub.execute_input": "2024-03-18T20:08:03.634580Z",
     "iopub.status.busy": "2024-03-18T20:08:03.634181Z",
     "iopub.status.idle": "2024-03-18T20:33:17.985683Z",
     "shell.execute_reply": "2024-03-18T20:33:17.984731Z",
     "shell.execute_reply.started": "2024-03-18T20:08:03.634555Z"
    }
   },
   "outputs": [],
   "source": [
    "pois.to_file(\"../../data/osm/us-poi.geojson\",driver=\"GeoJSON\")"
   ]
  },
  {
   "cell_type": "code",
   "execution_count": 26,
   "id": "d94db3af-8588-4178-8337-f75c90d2d4a4",
   "metadata": {
    "execution": {
     "iopub.execute_input": "2024-03-18T20:06:01.798250Z",
     "iopub.status.busy": "2024-03-18T20:06:01.797853Z",
     "iopub.status.idle": "2024-03-18T20:06:01.802634Z",
     "shell.execute_reply": "2024-03-18T20:06:01.802105Z",
     "shell.execute_reply.started": "2024-03-18T20:06:01.798225Z"
    }
   },
   "outputs": [
    {
     "data": {
      "text/plain": [
       "Index(['timestamp', 'version', 'tags', 'lat', 'visible', 'lon', 'id',\n",
       "       'changeset', 'addr:city', 'addr:country', 'addr:full',\n",
       "       'addr:housenumber', 'addr:housename', 'addr:postcode', 'addr:place',\n",
       "       'addr:street', 'email', 'name', 'opening_hours', 'operator', 'phone',\n",
       "       'ref', 'url', 'website', 'amenity', 'atm', 'bank', 'bicycle_parking',\n",
       "       'bicycle_rental', 'bar', 'bbq', 'biergarten', 'building',\n",
       "       'building:levels', 'cafe', 'car_wash', 'charging_station', 'clinic',\n",
       "       'college', 'dentist', 'doctors', 'drinking_water', 'fast_food',\n",
       "       'fountain', 'fuel', 'gambling', 'ice_cream', 'internet_access',\n",
       "       'kindergarten', 'landuse', 'library', 'office', 'parking', 'police',\n",
       "       'post_office', 'pub', 'restaurant', 'school', 'social_centre',\n",
       "       'social_facility', 'source', 'start_date', 'theatre', 'university',\n",
       "       'wikipedia', 'osm_type', 'geometry'],\n",
       "      dtype='object')"
      ]
     },
     "execution_count": 26,
     "metadata": {},
     "output_type": "execute_result"
    }
   ],
   "source": [
    "w.columns"
   ]
  },
  {
   "cell_type": "code",
   "execution_count": null,
   "id": "a4fcfd0c-1a03-47b8-a314-470a2fd099ed",
   "metadata": {},
   "outputs": [],
   "source": []
  }
 ],
 "metadata": {
  "kernelspec": {
   "display_name": "Python 3 (ipykernel)",
   "language": "python",
   "name": "python3"
  },
  "language_info": {
   "codemirror_mode": {
    "name": "ipython",
    "version": 3
   },
   "file_extension": ".py",
   "mimetype": "text/x-python",
   "name": "python",
   "nbconvert_exporter": "python",
   "pygments_lexer": "ipython3",
   "version": "3.9.12"
  }
 },
 "nbformat": 4,
 "nbformat_minor": 5
}
