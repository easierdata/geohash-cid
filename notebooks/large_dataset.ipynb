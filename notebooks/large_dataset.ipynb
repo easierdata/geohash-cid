{
 "cells": [
  {
   "cell_type": "markdown",
   "id": "a7b54aba-0756-4aae-970c-5a8afe852f36",
   "metadata": {},
   "source": [
    "# Benchmark over large Overture map dataset"
   ]
  },
  {
   "cell_type": "code",
   "execution_count": 2,
   "id": "98f8fcd5-50b3-4cad-9bae-3b4139b19ef2",
   "metadata": {
    "execution": {
     "iopub.execute_input": "2024-05-20T00:09:32.117309Z",
     "iopub.status.busy": "2024-05-20T00:09:32.116859Z",
     "iopub.status.idle": "2024-05-20T00:09:32.259399Z",
     "shell.execute_reply": "2024-05-20T00:09:32.258570Z",
     "shell.execute_reply.started": "2024-05-20T00:09:32.117282Z"
    }
   },
   "outputs": [
    {
     "name": "stdout",
     "output_type": "stream",
     "text": [
      "/gpfs/data1/oshangp/easier/geohash-cid/py39/bin/python\n"
     ]
    }
   ],
   "source": [
    "!which python"
   ]
  },
  {
   "cell_type": "code",
   "execution_count": 1,
   "id": "00ac632f-a5cd-417d-ab1d-1c0752fd2e2b",
   "metadata": {
    "execution": {
     "iopub.execute_input": "2024-05-20T01:45:49.104717Z",
     "iopub.status.busy": "2024-05-20T01:45:49.104488Z",
     "iopub.status.idle": "2024-05-20T01:46:09.498388Z",
     "shell.execute_reply": "2024-05-20T01:46:09.497628Z",
     "shell.execute_reply.started": "2024-05-20T01:45:49.104694Z"
    }
   },
   "outputs": [
    {
     "name": "stderr",
     "output_type": "stream",
     "text": [
      "WARNING:root:Numpy and Numba are soft dependencies to use the numba geohashing functions. \n",
      "Can only import/use native python functions.\n",
      "which: no ipfs in (/gpfs/data1/oshangp/easier/geohash-cid/py39/bin:/opt/TurboVNC/bin:/opt/TurboVNC/bin:/home/liuz/.vscode-server/bin/0ee08df0cf4527e40edc9aa28f4b5bd38bbff2b2/bin/remote-cli:/opt/TurboVNC/bin:/gpfs/data1/oshangp/easier/geohash-cid/py39/bin:/apps/python/3.7/anaconda/condabin:/opt/TurboVNC/bin:/usr/local/bin:/usr/bin:/opt/puppetlabs/bin:/usr/local/sbin:/usr/sbin:/home/liuz/.local/bin:/home/liuz/bin:/gpfs/data1/oshangp/easier/tools/gopath/bin:/home/liuz/.local/bin:/home/liuz/bin)\n"
     ]
    },
    {
     "name": "stdout",
     "output_type": "stream",
     "text": [
      "IPFS path: /gpfs/data1/oshangp/easier/textile/kubo/ipfs\n"
     ]
    }
   ],
   "source": [
    "import pygeohash as pgh\n",
    "##load geojson\n",
    "import geopandas as gpd\n",
    "import pandas as pd\n",
    "import os\n",
    "import sys\n",
    "sys.path.append(\"../\")\n",
    "from geohashtree.geohashtree import LiteTreeOffset, LiteTreeCID, FullTreeFile\n",
    "from geohashtree.config import ipfs_binary\n",
    "from geohashtree.filesystem import ipfs_add_feature,ipfs_add_index_folder\n"
   ]
  },
  {
   "cell_type": "markdown",
   "id": "51f25419-d7a9-49f5-9bf9-16e6a2b8d4cf",
   "metadata": {},
   "source": [
    "## Truncated data"
   ]
  },
  {
   "cell_type": "code",
   "execution_count": 4,
   "id": "237c72fb-88b0-4a20-b693-116e7c15ca5d",
   "metadata": {
    "execution": {
     "iopub.execute_input": "2024-05-20T00:10:01.136881Z",
     "iopub.status.busy": "2024-05-20T00:10:01.136286Z",
     "iopub.status.idle": "2024-05-20T00:10:39.856393Z",
     "shell.execute_reply": "2024-05-20T00:10:39.855678Z",
     "shell.execute_reply.started": "2024-05-20T00:10:01.136841Z"
    }
   },
   "outputs": [],
   "source": [
    "parquet = f\"../data/overture/us_places.parquet\"\n",
    "gdf = gpd.read_parquet(parquet)"
   ]
  },
  {
   "cell_type": "code",
   "execution_count": 11,
   "id": "8b67bb71-551c-437d-967a-1a5a1f88604a",
   "metadata": {
    "execution": {
     "iopub.execute_input": "2024-03-11T17:55:33.304280Z",
     "iopub.status.busy": "2024-03-11T17:55:33.303888Z",
     "iopub.status.idle": "2024-03-11T17:55:34.071410Z",
     "shell.execute_reply": "2024-03-11T17:55:34.070774Z",
     "shell.execute_reply.started": "2024-03-11T17:55:33.304255Z"
    }
   },
   "outputs": [],
   "source": [
    "gdf_1m = gdf.sample(100000,random_state = 42)"
   ]
  },
  {
   "cell_type": "code",
   "execution_count": 12,
   "id": "02b59a29-11f0-4d3f-87fe-c7645efcf8da",
   "metadata": {
    "execution": {
     "iopub.execute_input": "2024-03-11T17:55:34.072766Z",
     "iopub.status.busy": "2024-03-11T17:55:34.072476Z",
     "iopub.status.idle": "2024-03-11T17:55:42.326243Z",
     "shell.execute_reply": "2024-03-11T17:55:42.325623Z",
     "shell.execute_reply.started": "2024-03-11T17:55:34.072743Z"
    }
   },
   "outputs": [],
   "source": [
    "gdf_1m.to_file(\"../data/overture/us_places_100k.geojson\",driver=\"GeoJSON\")"
   ]
  },
  {
   "cell_type": "code",
   "execution_count": 3,
   "id": "3ac9f59a-5221-4d32-8029-241713dfc690",
   "metadata": {
    "execution": {
     "iopub.execute_input": "2024-03-25T19:29:04.002758Z",
     "iopub.status.busy": "2024-03-25T19:29:04.002183Z",
     "iopub.status.idle": "2024-03-25T19:29:16.028603Z",
     "shell.execute_reply": "2024-03-25T19:29:16.027355Z",
     "shell.execute_reply.started": "2024-03-25T19:29:04.002725Z"
    }
   },
   "outputs": [],
   "source": [
    "gdf = gpd.read_file(\"../data/overture/us_places_100k.geojson\")"
   ]
  },
  {
   "cell_type": "code",
   "execution_count": 4,
   "id": "752c5fd1-2012-4d9e-a8d6-63c817168693",
   "metadata": {
    "execution": {
     "iopub.execute_input": "2024-03-25T19:29:29.427602Z",
     "iopub.status.busy": "2024-03-25T19:29:29.426995Z",
     "iopub.status.idle": "2024-03-25T19:29:29.519798Z",
     "shell.execute_reply": "2024-03-25T19:29:29.519006Z",
     "shell.execute_reply.started": "2024-03-25T19:29:29.427568Z"
    }
   },
   "outputs": [
    {
     "data": {
      "text/html": [
       "<div>\n",
       "<style scoped>\n",
       "    .dataframe tbody tr th:only-of-type {\n",
       "        vertical-align: middle;\n",
       "    }\n",
       "\n",
       "    .dataframe tbody tr th {\n",
       "        vertical-align: top;\n",
       "    }\n",
       "\n",
       "    .dataframe thead th {\n",
       "        text-align: right;\n",
       "    }\n",
       "</style>\n",
       "<table border=\"1\" class=\"dataframe\">\n",
       "  <thead>\n",
       "    <tr style=\"text-align: right;\">\n",
       "      <th></th>\n",
       "      <th>id</th>\n",
       "      <th>names_value</th>\n",
       "      <th>geometry</th>\n",
       "    </tr>\n",
       "  </thead>\n",
       "  <tbody>\n",
       "    <tr>\n",
       "      <th>0</th>\n",
       "      <td>492842344421486</td>\n",
       "      <td>Salsarita's Fresh Cantina</td>\n",
       "      <td>POINT (-81.97373 35.03867)</td>\n",
       "    </tr>\n",
       "    <tr>\n",
       "      <th>1</th>\n",
       "      <td>192827194112640</td>\n",
       "      <td>Carlos Rivera - State Farm Agent</td>\n",
       "      <td>POINT (-112.27884 33.65047)</td>\n",
       "    </tr>\n",
       "    <tr>\n",
       "      <th>2</th>\n",
       "      <td>1595253450738770</td>\n",
       "      <td>Letners Demolition &amp; Removal</td>\n",
       "      <td>POINT (-83.91401 36.14707)</td>\n",
       "    </tr>\n",
       "    <tr>\n",
       "      <th>3</th>\n",
       "      <td>1611377562455571</td>\n",
       "      <td>Ekg Ministries</td>\n",
       "      <td>POINT (-90.86513 29.79983)</td>\n",
       "    </tr>\n",
       "    <tr>\n",
       "      <th>4</th>\n",
       "      <td>123547258395314</td>\n",
       "      <td>Malley's Chocolates</td>\n",
       "      <td>POINT (-81.41941 40.86085)</td>\n",
       "    </tr>\n",
       "  </tbody>\n",
       "</table>\n",
       "</div>"
      ],
      "text/plain": [
       "                 id                       names_value  \\\n",
       "0   492842344421486         Salsarita's Fresh Cantina   \n",
       "1   192827194112640  Carlos Rivera - State Farm Agent   \n",
       "2  1595253450738770      Letners Demolition & Removal   \n",
       "3  1611377562455571                    Ekg Ministries   \n",
       "4   123547258395314               Malley's Chocolates   \n",
       "\n",
       "                      geometry  \n",
       "0   POINT (-81.97373 35.03867)  \n",
       "1  POINT (-112.27884 33.65047)  \n",
       "2   POINT (-83.91401 36.14707)  \n",
       "3   POINT (-90.86513 29.79983)  \n",
       "4   POINT (-81.41941 40.86085)  "
      ]
     },
     "execution_count": 4,
     "metadata": {},
     "output_type": "execute_result"
    }
   ],
   "source": [
    "gdf.head()"
   ]
  },
  {
   "cell_type": "code",
   "execution_count": 5,
   "id": "c3d87dc6-f115-49d2-96aa-53640c0e9355",
   "metadata": {
    "execution": {
     "iopub.execute_input": "2024-03-25T21:13:37.013514Z",
     "iopub.status.busy": "2024-03-25T21:13:37.011995Z",
     "iopub.status.idle": "2024-03-25T21:13:37.017701Z",
     "shell.execute_reply": "2024-03-25T21:13:37.016589Z",
     "shell.execute_reply.started": "2024-03-25T21:13:37.013450Z"
    }
   },
   "outputs": [],
   "source": [
    "# #add new columns\n",
    "# import string\n",
    "# import random\n",
    "# import numpy as np\n",
    "# # Add 5 columns of random text, each 64 characters long\n",
    "# for i in range(10):\n",
    "#     gdf[f'text_{i+1}'] = [''.join(random.choices(string.ascii_letters, k=64)) for _ in range(len(gdf))]\n",
    "\n",
    "# # Add 5 columns of random floats between 0 and 1\n",
    "# for i in range(20):\n",
    "#     gdf[f'float_{i+1}'] = np.random.uniform(0, 1, len(gdf))\n",
    "\n",
    "# gdf.to_file(\"../data/overture/us_places_100k_extra_cols.geojson\",driver=\"GeoJSON\")"
   ]
  },
  {
   "cell_type": "markdown",
   "id": "59821e31-cf52-4065-89f1-5ee3a9cb6eed",
   "metadata": {},
   "source": [
    "## Start here"
   ]
  },
  {
   "cell_type": "code",
   "execution_count": 3,
   "id": "63c2172e-b0b2-4201-9d0a-43f052d48b3e",
   "metadata": {
    "execution": {
     "iopub.execute_input": "2024-03-26T22:52:24.881956Z",
     "iopub.status.busy": "2024-03-26T22:52:24.881454Z",
     "iopub.status.idle": "2024-03-26T22:52:24.885506Z",
     "shell.execute_reply": "2024-03-26T22:52:24.884730Z",
     "shell.execute_reply.started": "2024-03-26T22:52:24.881931Z"
    }
   },
   "outputs": [],
   "source": [
    "asset = \"us_places_gh_sorted\"\n",
    "# asset = \"us_places\"\n",
    "geojson_path = f\"../data/overture/{asset}.geojson\"\n",
    "index_path = f\"../data/geohash_offset_{asset}/index\""
   ]
  },
  {
   "cell_type": "code",
   "execution_count": 36,
   "id": "aafa4317-36f4-451e-857a-fe8877166918",
   "metadata": {
    "execution": {
     "iopub.execute_input": "2024-03-19T20:17:03.336381Z",
     "iopub.status.busy": "2024-03-19T20:17:03.335922Z",
     "iopub.status.idle": "2024-03-19T20:17:03.340233Z",
     "shell.execute_reply": "2024-03-19T20:17:03.339703Z",
     "shell.execute_reply.started": "2024-03-19T20:17:03.336354Z"
    }
   },
   "outputs": [],
   "source": [
    "asset = \"osm_us_poi_gh_sorted\"\n",
    "geojson_path = f\"../data/osm/{asset}.geojson\"\n",
    "index_path = f\"../data/geohash_offset_{asset}/index\""
   ]
  },
  {
   "cell_type": "code",
   "execution_count": null,
   "id": "da2a753f-5747-4fa6-aa85-19eb4e24e8a3",
   "metadata": {},
   "outputs": [],
   "source": [
    "index_path = f\"../data/geohash_attach_{asset}/index\"\n",
    "fulltree = FullTreeFile()\n",
    "fulltree.add_from_geojson(geojson_path)\n",
    "fulltree.generate_tree_index(index_path)\n",
    "ipfs_add_index_folder(index_path)"
   ]
  },
  {
   "cell_type": "code",
   "execution_count": 5,
   "id": "79bea75d-fb5d-4e7b-bafb-674cc2d5a15a",
   "metadata": {
    "execution": {
     "iopub.execute_input": "2024-03-26T23:23:54.902919Z",
     "iopub.status.busy": "2024-03-26T23:23:54.902366Z",
     "iopub.status.idle": "2024-03-27T00:09:15.653498Z",
     "shell.execute_reply": "2024-03-27T00:09:15.652497Z",
     "shell.execute_reply.started": "2024-03-26T23:23:54.902880Z"
    }
   },
   "outputs": [
    {
     "name": "stdout",
     "output_type": "stream",
     "text": [
      "Index Mode: offline\n"
     ]
    },
    {
     "name": "stderr",
     "output_type": "stream",
     "text": [
      "WARNING:fiona.ogrext:Expecting property name enclosed in double quotes: line 1 column 2 (char 1)\n",
      "WARNING:fiona.ogrext:Expecting property name enclosed in double quotes: line 1 column 2 (char 1)\n",
      "WARNING:fiona.ogrext:Expecting property name enclosed in double quotes: line 1 column 2 (char 1)\n",
      "WARNING:fiona.ogrext:Expecting property name enclosed in double quotes: line 1 column 2 (char 1)\n",
      "WARNING:fiona.ogrext:Expecting property name enclosed in double quotes: line 1 column 2 (char 1)\n",
      "WARNING:fiona.ogrext:Expecting property name enclosed in double quotes: line 1 column 2 (char 1)\n",
      "WARNING:fiona.ogrext:Expecting property name enclosed in double quotes: line 1 column 2 (char 1)\n",
      "WARNING:fiona.ogrext:Expecting property name enclosed in double quotes: line 1 column 3 (char 2)\n",
      "WARNING:fiona.ogrext:Expecting property name enclosed in double quotes: line 1 column 2 (char 1)\n",
      "WARNING:fiona.ogrext:Expecting property name enclosed in double quotes: line 1 column 2 (char 1)\n",
      "WARNING:fiona.ogrext:Expecting property name enclosed in double quotes: line 1 column 2 (char 1)\n",
      "WARNING:fiona.ogrext:Expecting property name enclosed in double quotes: line 1 column 2 (char 1)\n",
      "WARNING:fiona.ogrext:Expecting property name enclosed in double quotes: line 1 column 2 (char 1)\n",
      "WARNING:fiona.ogrext:Expecting property name enclosed in double quotes: line 1 column 2 (char 1)\n",
      "WARNING:fiona.ogrext:Expecting property name enclosed in double quotes: line 1 column 2 (char 1)\n",
      "WARNING:fiona.ogrext:Expecting property name enclosed in double quotes: line 1 column 2 (char 1)\n",
      "WARNING:fiona.ogrext:Expecting property name enclosed in double quotes: line 1 column 2 (char 1)\n",
      "WARNING:fiona.ogrext:Expecting property name enclosed in double quotes: line 1 column 2 (char 1)\n",
      "WARNING:fiona.ogrext:Expecting property name enclosed in double quotes: line 1 column 2 (char 1)\n",
      "WARNING:fiona.ogrext:Expecting property name enclosed in double quotes: line 1 column 3 (char 2)\n",
      "WARNING:fiona.ogrext:Expecting property name enclosed in double quotes: line 1 column 2 (char 1)\n",
      "WARNING:fiona.ogrext:Expecting property name enclosed in double quotes: line 1 column 2 (char 1)\n",
      "WARNING:fiona.ogrext:Expecting property name enclosed in double quotes: line 1 column 2 (char 1)\n",
      "WARNING:fiona.ogrext:Expecting property name enclosed in double quotes: line 1 column 3 (char 2)\n",
      "WARNING:fiona.ogrext:Expecting property name enclosed in double quotes: line 1 column 2 (char 1)\n",
      "WARNING:fiona.ogrext:Expecting property name enclosed in double quotes: line 1 column 2 (char 1)\n"
     ]
    },
    {
     "name": "stdout",
     "output_type": "stream",
     "text": [
      "bafybeigljhzixbfo3gxdlkvjztwk5cwuysf7g5fm2yltd7aiolkmb6vafe\n"
     ]
    }
   ],
   "source": [
    "offsettree = LiteTreeOffset()\n",
    "offsettree.add_from_geojson(geojson_path,precision=5)\n",
    "offsettree.generate_tree_index(index_path)"
   ]
  },
  {
   "cell_type": "code",
   "execution_count": 6,
   "id": "44f3a596-bcd8-4fdc-b5f3-52c0bfd861be",
   "metadata": {
    "execution": {
     "iopub.execute_input": "2024-03-27T00:09:15.655641Z",
     "iopub.status.busy": "2024-03-27T00:09:15.655301Z",
     "iopub.status.idle": "2024-03-27T00:29:12.696732Z",
     "shell.execute_reply": "2024-03-27T00:29:12.696013Z",
     "shell.execute_reply.started": "2024-03-27T00:09:15.655615Z"
    }
   },
   "outputs": [
    {
     "data": {
      "text/plain": [
       "'bafybeiez5bwfmxmm2s36sx2rlzeasraxvao2h4swbrp4bft75d62ejv4su'"
      ]
     },
     "execution_count": 6,
     "metadata": {},
     "output_type": "execute_result"
    }
   ],
   "source": [
    "ipfs_add_index_folder(index_path)"
   ]
  },
  {
   "cell_type": "code",
   "execution_count": 6,
   "id": "d3dc485f-d537-4169-87bf-c7507abbc353",
   "metadata": {
    "execution": {
     "iopub.execute_input": "2024-03-26T07:11:10.676398Z",
     "iopub.status.busy": "2024-03-26T07:11:10.676041Z",
     "iopub.status.idle": "2024-03-26T07:11:32.385012Z",
     "shell.execute_reply": "2024-03-26T07:11:32.384184Z",
     "shell.execute_reply.started": "2024-03-26T07:11:10.676371Z"
    }
   },
   "outputs": [
    {
     "data": {
      "text/plain": [
       "'bafybeigljhzixbfo3gxdlkvjztwk5cwuysf7g5fm2yltd7aiolkmb6vafe'"
      ]
     },
     "execution_count": 6,
     "metadata": {},
     "output_type": "execute_result"
    }
   ],
   "source": [
    "ipfs_add_feature(geojson_path)"
   ]
  },
  {
   "cell_type": "markdown",
   "id": "90a48ed7-f61c-40f7-9e1e-b88da379e901",
   "metadata": {},
   "source": [
    "## sort the geohashes"
   ]
  },
  {
   "cell_type": "code",
   "execution_count": 2,
   "id": "48504a7e-3b30-4702-9607-c25cdf13b2d7",
   "metadata": {
    "execution": {
     "iopub.execute_input": "2024-05-20T01:46:09.500489Z",
     "iopub.status.busy": "2024-05-20T01:46:09.500015Z",
     "iopub.status.idle": "2024-05-20T01:46:09.504055Z",
     "shell.execute_reply": "2024-05-20T01:46:09.503371Z",
     "shell.execute_reply.started": "2024-05-20T01:46:09.500461Z"
    }
   },
   "outputs": [],
   "source": [
    "from geohashtree.geohashtree import append_geohash_to_dataframe,append_h3_to_dataframe\n"
   ]
  },
  {
   "cell_type": "code",
   "execution_count": 3,
   "id": "31b3124c-3b76-4cda-9b80-5a23935541f6",
   "metadata": {
    "execution": {
     "iopub.execute_input": "2024-05-20T01:46:09.504973Z",
     "iopub.status.busy": "2024-05-20T01:46:09.504738Z",
     "iopub.status.idle": "2024-05-20T01:47:01.387527Z",
     "shell.execute_reply": "2024-05-20T01:47:01.386842Z",
     "shell.execute_reply.started": "2024-05-20T01:46:09.504954Z"
    }
   },
   "outputs": [],
   "source": [
    "parquet = f\"../data/overture/us_places.parquet\"\n",
    "gdf = gpd.read_parquet(parquet)\n"
   ]
  },
  {
   "cell_type": "code",
   "execution_count": 4,
   "id": "1a3759d7-ef8f-4e04-a168-59b579e8d309",
   "metadata": {
    "execution": {
     "iopub.execute_input": "2024-05-20T01:47:01.388766Z",
     "iopub.status.busy": "2024-05-20T01:47:01.388450Z",
     "iopub.status.idle": "2024-05-20T01:47:01.391676Z",
     "shell.execute_reply": "2024-05-20T01:47:01.391098Z",
     "shell.execute_reply.started": "2024-05-20T01:47:01.388744Z"
    }
   },
   "outputs": [],
   "source": [
    "cols = gdf.columns"
   ]
  },
  {
   "cell_type": "code",
   "execution_count": 5,
   "id": "baf33de3-9950-4321-b803-f0c49083e1da",
   "metadata": {
    "execution": {
     "iopub.execute_input": "2024-05-20T01:47:01.392661Z",
     "iopub.status.busy": "2024-05-20T01:47:01.392405Z",
     "iopub.status.idle": "2024-05-20T01:47:01.398685Z",
     "shell.execute_reply": "2024-05-20T01:47:01.398212Z",
     "shell.execute_reply.started": "2024-05-20T01:47:01.392641Z"
    }
   },
   "outputs": [
    {
     "data": {
      "text/plain": [
       "Index(['id', 'names_value', 'main_cat', 'geometry'], dtype='object')"
      ]
     },
     "execution_count": 5,
     "metadata": {},
     "output_type": "execute_result"
    }
   ],
   "source": [
    "cols"
   ]
  },
  {
   "cell_type": "code",
   "execution_count": 6,
   "id": "b350b38d-a18b-48e5-8863-495e56080597",
   "metadata": {
    "execution": {
     "iopub.execute_input": "2024-05-20T01:47:01.400121Z",
     "iopub.status.busy": "2024-05-20T01:47:01.399887Z",
     "iopub.status.idle": "2024-05-20T01:47:07.155109Z",
     "shell.execute_reply": "2024-05-20T01:47:07.154306Z",
     "shell.execute_reply.started": "2024-05-20T01:47:01.400102Z"
    }
   },
   "outputs": [
    {
     "name": "stderr",
     "output_type": "stream",
     "text": [
      "\n",
      "KeyboardInterrupt\n",
      "\n"
     ]
    }
   ],
   "source": [
    "gdf = append_geohash_to_dataframe(gdf)"
   ]
  },
  {
   "cell_type": "code",
   "execution_count": null,
   "id": "dacc0238-729d-40df-9be7-25ce29941473",
   "metadata": {},
   "outputs": [],
   "source": [
    "gdf"
   ]
  },
  {
   "cell_type": "code",
   "execution_count": 9,
   "id": "c2ae5ab1-d8c7-444b-8e26-cc552bc2772f",
   "metadata": {
    "execution": {
     "iopub.execute_input": "2024-05-20T00:12:53.463689Z",
     "iopub.status.busy": "2024-05-20T00:12:53.463311Z",
     "iopub.status.idle": "2024-05-20T00:35:16.185118Z",
     "shell.execute_reply": "2024-05-20T00:35:16.184132Z",
     "shell.execute_reply.started": "2024-05-20T00:12:53.463666Z"
    }
   },
   "outputs": [],
   "source": [
    "gdf = append_h3_to_dataframe(gdf,precision=5)\n",
    "gdf.sort_values('geohash')[cols].to_file(f\"../data/overture/us_places_h3_sorted.geojson\",driver=\"GeoJSON\")"
   ]
  },
  {
   "cell_type": "code",
   "execution_count": 11,
   "id": "552343a3-bcde-4931-97b8-3b9e730441c4",
   "metadata": {
    "execution": {
     "iopub.execute_input": "2024-05-20T00:35:48.961350Z",
     "iopub.status.busy": "2024-05-20T00:35:48.960991Z",
     "iopub.status.idle": "2024-05-20T00:36:06.993311Z",
     "shell.execute_reply": "2024-05-20T00:36:06.992336Z",
     "shell.execute_reply.started": "2024-05-20T00:35:48.961325Z"
    }
   },
   "outputs": [],
   "source": [
    "gdf = gdf.sort_values('geohash')[cols]"
   ]
  },
  {
   "cell_type": "code",
   "execution_count": 12,
   "id": "461d9279-567e-4d17-855c-5eff8ada1089",
   "metadata": {
    "execution": {
     "iopub.execute_input": "2024-05-20T00:36:36.009252Z",
     "iopub.status.busy": "2024-05-20T00:36:36.008827Z",
     "iopub.status.idle": "2024-05-20T01:02:06.365689Z",
     "shell.execute_reply": "2024-05-20T01:02:06.364768Z",
     "shell.execute_reply.started": "2024-05-20T00:36:36.009222Z"
    }
   },
   "outputs": [
    {
     "name": "stderr",
     "output_type": "stream",
     "text": [
      "WARNING:fiona.ogrext:Expecting property name enclosed in double quotes: line 1 column 2 (char 1)\n",
      "WARNING:fiona.ogrext:Expecting property name enclosed in double quotes: line 1 column 2 (char 1)\n",
      "WARNING:fiona.ogrext:Expecting property name enclosed in double quotes: line 1 column 2 (char 1)\n",
      "WARNING:fiona.ogrext:Expecting property name enclosed in double quotes: line 1 column 2 (char 1)\n",
      "WARNING:fiona.ogrext:Expecting property name enclosed in double quotes: line 1 column 3 (char 2)\n",
      "WARNING:fiona.ogrext:Expecting property name enclosed in double quotes: line 1 column 2 (char 1)\n",
      "WARNING:fiona.ogrext:Expecting property name enclosed in double quotes: line 1 column 2 (char 1)\n",
      "WARNING:fiona.ogrext:Expecting property name enclosed in double quotes: line 1 column 2 (char 1)\n",
      "WARNING:fiona.ogrext:Expecting property name enclosed in double quotes: line 1 column 2 (char 1)\n",
      "WARNING:fiona.ogrext:Expecting property name enclosed in double quotes: line 1 column 2 (char 1)\n",
      "WARNING:fiona.ogrext:Expecting property name enclosed in double quotes: line 1 column 2 (char 1)\n",
      "WARNING:fiona.ogrext:Expecting property name enclosed in double quotes: line 1 column 2 (char 1)\n",
      "WARNING:fiona.ogrext:Expecting property name enclosed in double quotes: line 1 column 2 (char 1)\n",
      "WARNING:fiona.ogrext:Expecting property name enclosed in double quotes: line 1 column 2 (char 1)\n",
      "WARNING:fiona.ogrext:Expecting property name enclosed in double quotes: line 1 column 3 (char 2)\n",
      "WARNING:fiona.ogrext:Expecting property name enclosed in double quotes: line 1 column 2 (char 1)\n",
      "WARNING:fiona.ogrext:Expecting property name enclosed in double quotes: line 1 column 2 (char 1)\n",
      "WARNING:fiona.ogrext:Expecting property name enclosed in double quotes: line 1 column 2 (char 1)\n",
      "WARNING:fiona.ogrext:Expecting property name enclosed in double quotes: line 1 column 2 (char 1)\n",
      "WARNING:fiona.ogrext:Expecting property name enclosed in double quotes: line 1 column 3 (char 2)\n",
      "WARNING:fiona.ogrext:Expecting property name enclosed in double quotes: line 1 column 2 (char 1)\n",
      "WARNING:fiona.ogrext:Expecting property name enclosed in double quotes: line 1 column 2 (char 1)\n",
      "WARNING:fiona.ogrext:Expecting property name enclosed in double quotes: line 1 column 2 (char 1)\n",
      "WARNING:fiona.ogrext:Expecting property name enclosed in double quotes: line 1 column 2 (char 1)\n",
      "WARNING:fiona.ogrext:Expecting property name enclosed in double quotes: line 1 column 2 (char 1)\n",
      "WARNING:fiona.ogrext:Expecting property name enclosed in double quotes: line 1 column 2 (char 1)\n"
     ]
    }
   ],
   "source": [
    "gdf = gpd.read_file('../data/overture/us_places_h3_sorted.geojson')\n",
    "cols = gdf.columns"
   ]
  },
  {
   "cell_type": "code",
   "execution_count": 30,
   "id": "9a7e8dcb-58fc-4a82-9992-83065b2d80c8",
   "metadata": {
    "execution": {
     "iopub.execute_input": "2024-03-19T19:38:20.009813Z",
     "iopub.status.busy": "2024-03-19T19:38:20.009437Z",
     "iopub.status.idle": "2024-03-19T19:38:22.094645Z",
     "shell.execute_reply": "2024-03-19T19:38:22.094028Z",
     "shell.execute_reply.started": "2024-03-19T19:38:20.009790Z"
    }
   },
   "outputs": [],
   "source": [
    "#gdf = gdf[gdf.osm_type == 'node']"
   ]
  },
  {
   "cell_type": "code",
   "execution_count": 14,
   "id": "185282eb-c3b4-428d-8579-404742c07ae1",
   "metadata": {
    "execution": {
     "iopub.execute_input": "2024-05-20T01:45:00.323327Z",
     "iopub.status.busy": "2024-05-20T01:45:00.318808Z",
     "iopub.status.idle": "2024-05-20T01:45:19.885845Z",
     "shell.execute_reply": "2024-05-20T01:45:19.884913Z",
     "shell.execute_reply.started": "2024-05-20T01:45:00.323294Z"
    }
   },
   "outputs": [
    {
     "ename": "KeyboardInterrupt",
     "evalue": "",
     "output_type": "error",
     "traceback": [
      "\u001b[0;31m---------------------------------------------------------------------------\u001b[0m",
      "\u001b[0;31mKeyboardInterrupt\u001b[0m                         Traceback (most recent call last)",
      "Cell \u001b[0;32mIn[14], line 1\u001b[0m\n\u001b[0;32m----> 1\u001b[0m gdf \u001b[38;5;241m=\u001b[39m \u001b[43mappend_geohash_to_dataframe\u001b[49m\u001b[43m(\u001b[49m\u001b[43mgdf\u001b[49m\u001b[43m)\u001b[49m\n",
      "File \u001b[0;32m/gpfs/data1/oshangp/easier/geohash-cid/notebooks/../geohashtree/geohashtree.py:16\u001b[0m, in \u001b[0;36mappend_geohash_to_dataframe\u001b[0;34m(df, precision)\u001b[0m\n\u001b[1;32m     14\u001b[0m \u001b[38;5;28;01mif\u001b[39;00m \u001b[38;5;124m'\u001b[39m\u001b[38;5;124mx\u001b[39m\u001b[38;5;124m'\u001b[39m \u001b[38;5;129;01mnot\u001b[39;00m \u001b[38;5;129;01min\u001b[39;00m df\u001b[38;5;241m.\u001b[39mcolumns:\n\u001b[1;32m     15\u001b[0m     df \u001b[38;5;241m=\u001b[39m pd\u001b[38;5;241m.\u001b[39mconcat([df,df\u001b[38;5;241m.\u001b[39mget_coordinates()],axis\u001b[38;5;241m=\u001b[39m\u001b[38;5;241m1\u001b[39m)\n\u001b[0;32m---> 16\u001b[0m df[\u001b[38;5;124m'\u001b[39m\u001b[38;5;124mgeohash\u001b[39m\u001b[38;5;124m'\u001b[39m] \u001b[38;5;241m=\u001b[39m \u001b[43mdf\u001b[49m\u001b[38;5;241;43m.\u001b[39;49m\u001b[43mapply\u001b[49m\u001b[43m(\u001b[49m\u001b[38;5;28;43;01mlambda\u001b[39;49;00m\u001b[43m \u001b[49m\u001b[43mrow\u001b[49m\u001b[43m:\u001b[49m\u001b[43m \u001b[49m\u001b[43mgeohash_encode\u001b[49m\u001b[43m(\u001b[49m\u001b[43mrow\u001b[49m\u001b[43m[\u001b[49m\u001b[38;5;124;43m'\u001b[39;49m\u001b[38;5;124;43my\u001b[39;49m\u001b[38;5;124;43m'\u001b[39;49m\u001b[43m]\u001b[49m\u001b[43m,\u001b[49m\u001b[43m \u001b[49m\u001b[43mrow\u001b[49m\u001b[43m[\u001b[49m\u001b[38;5;124;43m'\u001b[39;49m\u001b[38;5;124;43mx\u001b[39;49m\u001b[38;5;124;43m'\u001b[39;49m\u001b[43m]\u001b[49m\u001b[43m,\u001b[49m\u001b[43mprecision\u001b[49m\u001b[43m)\u001b[49m\u001b[43m,\u001b[49m\u001b[43m \u001b[49m\u001b[43maxis\u001b[49m\u001b[38;5;241;43m=\u001b[39;49m\u001b[38;5;241;43m1\u001b[39;49m\u001b[43m)\u001b[49m\n\u001b[1;32m     17\u001b[0m \u001b[38;5;28;01mreturn\u001b[39;00m df\n",
      "File \u001b[0;32m/gpfs/data1/oshangp/easier/geohash-cid/py39/lib/python3.9/site-packages/geopandas/geodataframe.py:1571\u001b[0m, in \u001b[0;36mGeoDataFrame.apply\u001b[0;34m(self, func, axis, raw, result_type, args, **kwargs)\u001b[0m\n\u001b[1;32m   1569\u001b[0m \u001b[38;5;129m@doc\u001b[39m(pd\u001b[38;5;241m.\u001b[39mDataFrame)\n\u001b[1;32m   1570\u001b[0m \u001b[38;5;28;01mdef\u001b[39;00m \u001b[38;5;21mapply\u001b[39m(\u001b[38;5;28mself\u001b[39m, func, axis\u001b[38;5;241m=\u001b[39m\u001b[38;5;241m0\u001b[39m, raw\u001b[38;5;241m=\u001b[39m\u001b[38;5;28;01mFalse\u001b[39;00m, result_type\u001b[38;5;241m=\u001b[39m\u001b[38;5;28;01mNone\u001b[39;00m, args\u001b[38;5;241m=\u001b[39m(), \u001b[38;5;241m*\u001b[39m\u001b[38;5;241m*\u001b[39mkwargs):\n\u001b[0;32m-> 1571\u001b[0m     result \u001b[38;5;241m=\u001b[39m \u001b[38;5;28;43msuper\u001b[39;49m\u001b[43m(\u001b[49m\u001b[43m)\u001b[49m\u001b[38;5;241;43m.\u001b[39;49m\u001b[43mapply\u001b[49m\u001b[43m(\u001b[49m\n\u001b[1;32m   1572\u001b[0m \u001b[43m        \u001b[49m\u001b[43mfunc\u001b[49m\u001b[43m,\u001b[49m\u001b[43m \u001b[49m\u001b[43maxis\u001b[49m\u001b[38;5;241;43m=\u001b[39;49m\u001b[43maxis\u001b[49m\u001b[43m,\u001b[49m\u001b[43m \u001b[49m\u001b[43mraw\u001b[49m\u001b[38;5;241;43m=\u001b[39;49m\u001b[43mraw\u001b[49m\u001b[43m,\u001b[49m\u001b[43m \u001b[49m\u001b[43mresult_type\u001b[49m\u001b[38;5;241;43m=\u001b[39;49m\u001b[43mresult_type\u001b[49m\u001b[43m,\u001b[49m\u001b[43m \u001b[49m\u001b[43margs\u001b[49m\u001b[38;5;241;43m=\u001b[39;49m\u001b[43margs\u001b[49m\u001b[43m,\u001b[49m\u001b[43m \u001b[49m\u001b[38;5;241;43m*\u001b[39;49m\u001b[38;5;241;43m*\u001b[39;49m\u001b[43mkwargs\u001b[49m\n\u001b[1;32m   1573\u001b[0m \u001b[43m    \u001b[49m\u001b[43m)\u001b[49m\n\u001b[1;32m   1574\u001b[0m     \u001b[38;5;66;03m# pandas <1.4 re-attach last geometry col if lost\u001b[39;00m\n\u001b[1;32m   1575\u001b[0m     \u001b[38;5;28;01mif\u001b[39;00m (\n\u001b[1;32m   1576\u001b[0m         \u001b[38;5;129;01mnot\u001b[39;00m compat\u001b[38;5;241m.\u001b[39mPANDAS_GE_14\n\u001b[1;32m   1577\u001b[0m         \u001b[38;5;129;01mand\u001b[39;00m \u001b[38;5;28misinstance\u001b[39m(result, GeoDataFrame)\n\u001b[1;32m   1578\u001b[0m         \u001b[38;5;129;01mand\u001b[39;00m result\u001b[38;5;241m.\u001b[39m_geometry_column_name \u001b[38;5;129;01mis\u001b[39;00m \u001b[38;5;28;01mNone\u001b[39;00m\n\u001b[1;32m   1579\u001b[0m     ):\n",
      "File \u001b[0;32m/gpfs/data1/oshangp/easier/geohash-cid/py39/lib/python3.9/site-packages/pandas/core/frame.py:10374\u001b[0m, in \u001b[0;36mDataFrame.apply\u001b[0;34m(self, func, axis, raw, result_type, args, by_row, engine, engine_kwargs, **kwargs)\u001b[0m\n\u001b[1;32m  10360\u001b[0m \u001b[38;5;28;01mfrom\u001b[39;00m \u001b[38;5;21;01mpandas\u001b[39;00m\u001b[38;5;21;01m.\u001b[39;00m\u001b[38;5;21;01mcore\u001b[39;00m\u001b[38;5;21;01m.\u001b[39;00m\u001b[38;5;21;01mapply\u001b[39;00m \u001b[38;5;28;01mimport\u001b[39;00m frame_apply\n\u001b[1;32m  10362\u001b[0m op \u001b[38;5;241m=\u001b[39m frame_apply(\n\u001b[1;32m  10363\u001b[0m     \u001b[38;5;28mself\u001b[39m,\n\u001b[1;32m  10364\u001b[0m     func\u001b[38;5;241m=\u001b[39mfunc,\n\u001b[0;32m   (...)\u001b[0m\n\u001b[1;32m  10372\u001b[0m     kwargs\u001b[38;5;241m=\u001b[39mkwargs,\n\u001b[1;32m  10373\u001b[0m )\n\u001b[0;32m> 10374\u001b[0m \u001b[38;5;28;01mreturn\u001b[39;00m \u001b[43mop\u001b[49m\u001b[38;5;241;43m.\u001b[39;49m\u001b[43mapply\u001b[49m\u001b[43m(\u001b[49m\u001b[43m)\u001b[49m\u001b[38;5;241m.\u001b[39m__finalize__(\u001b[38;5;28mself\u001b[39m, method\u001b[38;5;241m=\u001b[39m\u001b[38;5;124m\"\u001b[39m\u001b[38;5;124mapply\u001b[39m\u001b[38;5;124m\"\u001b[39m)\n",
      "File \u001b[0;32m/gpfs/data1/oshangp/easier/geohash-cid/py39/lib/python3.9/site-packages/pandas/core/apply.py:916\u001b[0m, in \u001b[0;36mFrameApply.apply\u001b[0;34m(self)\u001b[0m\n\u001b[1;32m    913\u001b[0m \u001b[38;5;28;01melif\u001b[39;00m \u001b[38;5;28mself\u001b[39m\u001b[38;5;241m.\u001b[39mraw:\n\u001b[1;32m    914\u001b[0m     \u001b[38;5;28;01mreturn\u001b[39;00m \u001b[38;5;28mself\u001b[39m\u001b[38;5;241m.\u001b[39mapply_raw(engine\u001b[38;5;241m=\u001b[39m\u001b[38;5;28mself\u001b[39m\u001b[38;5;241m.\u001b[39mengine, engine_kwargs\u001b[38;5;241m=\u001b[39m\u001b[38;5;28mself\u001b[39m\u001b[38;5;241m.\u001b[39mengine_kwargs)\n\u001b[0;32m--> 916\u001b[0m \u001b[38;5;28;01mreturn\u001b[39;00m \u001b[38;5;28;43mself\u001b[39;49m\u001b[38;5;241;43m.\u001b[39;49m\u001b[43mapply_standard\u001b[49m\u001b[43m(\u001b[49m\u001b[43m)\u001b[49m\n",
      "File \u001b[0;32m/gpfs/data1/oshangp/easier/geohash-cid/py39/lib/python3.9/site-packages/pandas/core/apply.py:1063\u001b[0m, in \u001b[0;36mFrameApply.apply_standard\u001b[0;34m(self)\u001b[0m\n\u001b[1;32m   1061\u001b[0m \u001b[38;5;28;01mdef\u001b[39;00m \u001b[38;5;21mapply_standard\u001b[39m(\u001b[38;5;28mself\u001b[39m):\n\u001b[1;32m   1062\u001b[0m     \u001b[38;5;28;01mif\u001b[39;00m \u001b[38;5;28mself\u001b[39m\u001b[38;5;241m.\u001b[39mengine \u001b[38;5;241m==\u001b[39m \u001b[38;5;124m\"\u001b[39m\u001b[38;5;124mpython\u001b[39m\u001b[38;5;124m\"\u001b[39m:\n\u001b[0;32m-> 1063\u001b[0m         results, res_index \u001b[38;5;241m=\u001b[39m \u001b[38;5;28;43mself\u001b[39;49m\u001b[38;5;241;43m.\u001b[39;49m\u001b[43mapply_series_generator\u001b[49m\u001b[43m(\u001b[49m\u001b[43m)\u001b[49m\n\u001b[1;32m   1064\u001b[0m     \u001b[38;5;28;01melse\u001b[39;00m:\n\u001b[1;32m   1065\u001b[0m         results, res_index \u001b[38;5;241m=\u001b[39m \u001b[38;5;28mself\u001b[39m\u001b[38;5;241m.\u001b[39mapply_series_numba()\n",
      "File \u001b[0;32m/gpfs/data1/oshangp/easier/geohash-cid/py39/lib/python3.9/site-packages/pandas/core/apply.py:1081\u001b[0m, in \u001b[0;36mFrameApply.apply_series_generator\u001b[0;34m(self)\u001b[0m\n\u001b[1;32m   1078\u001b[0m \u001b[38;5;28;01mwith\u001b[39;00m option_context(\u001b[38;5;124m\"\u001b[39m\u001b[38;5;124mmode.chained_assignment\u001b[39m\u001b[38;5;124m\"\u001b[39m, \u001b[38;5;28;01mNone\u001b[39;00m):\n\u001b[1;32m   1079\u001b[0m     \u001b[38;5;28;01mfor\u001b[39;00m i, v \u001b[38;5;129;01min\u001b[39;00m \u001b[38;5;28menumerate\u001b[39m(series_gen):\n\u001b[1;32m   1080\u001b[0m         \u001b[38;5;66;03m# ignore SettingWithCopy here in case the user mutates\u001b[39;00m\n\u001b[0;32m-> 1081\u001b[0m         results[i] \u001b[38;5;241m=\u001b[39m \u001b[38;5;28;43mself\u001b[39;49m\u001b[38;5;241;43m.\u001b[39;49m\u001b[43mfunc\u001b[49m\u001b[43m(\u001b[49m\u001b[43mv\u001b[49m\u001b[43m,\u001b[49m\u001b[43m \u001b[49m\u001b[38;5;241;43m*\u001b[39;49m\u001b[38;5;28;43mself\u001b[39;49m\u001b[38;5;241;43m.\u001b[39;49m\u001b[43margs\u001b[49m\u001b[43m,\u001b[49m\u001b[43m \u001b[49m\u001b[38;5;241;43m*\u001b[39;49m\u001b[38;5;241;43m*\u001b[39;49m\u001b[38;5;28;43mself\u001b[39;49m\u001b[38;5;241;43m.\u001b[39;49m\u001b[43mkwargs\u001b[49m\u001b[43m)\u001b[49m\n\u001b[1;32m   1082\u001b[0m         \u001b[38;5;28;01mif\u001b[39;00m \u001b[38;5;28misinstance\u001b[39m(results[i], ABCSeries):\n\u001b[1;32m   1083\u001b[0m             \u001b[38;5;66;03m# If we have a view on v, we need to make a copy because\u001b[39;00m\n\u001b[1;32m   1084\u001b[0m             \u001b[38;5;66;03m#  series_generator will swap out the underlying data\u001b[39;00m\n\u001b[1;32m   1085\u001b[0m             results[i] \u001b[38;5;241m=\u001b[39m results[i]\u001b[38;5;241m.\u001b[39mcopy(deep\u001b[38;5;241m=\u001b[39m\u001b[38;5;28;01mFalse\u001b[39;00m)\n",
      "File \u001b[0;32m/gpfs/data1/oshangp/easier/geohash-cid/notebooks/../geohashtree/geohashtree.py:16\u001b[0m, in \u001b[0;36mappend_geohash_to_dataframe.<locals>.<lambda>\u001b[0;34m(row)\u001b[0m\n\u001b[1;32m     14\u001b[0m \u001b[38;5;28;01mif\u001b[39;00m \u001b[38;5;124m'\u001b[39m\u001b[38;5;124mx\u001b[39m\u001b[38;5;124m'\u001b[39m \u001b[38;5;129;01mnot\u001b[39;00m \u001b[38;5;129;01min\u001b[39;00m df\u001b[38;5;241m.\u001b[39mcolumns:\n\u001b[1;32m     15\u001b[0m     df \u001b[38;5;241m=\u001b[39m pd\u001b[38;5;241m.\u001b[39mconcat([df,df\u001b[38;5;241m.\u001b[39mget_coordinates()],axis\u001b[38;5;241m=\u001b[39m\u001b[38;5;241m1\u001b[39m)\n\u001b[0;32m---> 16\u001b[0m df[\u001b[38;5;124m'\u001b[39m\u001b[38;5;124mgeohash\u001b[39m\u001b[38;5;124m'\u001b[39m] \u001b[38;5;241m=\u001b[39m df\u001b[38;5;241m.\u001b[39mapply(\u001b[38;5;28;01mlambda\u001b[39;00m row: \u001b[43mgeohash_encode\u001b[49m\u001b[43m(\u001b[49m\u001b[43mrow\u001b[49m\u001b[43m[\u001b[49m\u001b[38;5;124;43m'\u001b[39;49m\u001b[38;5;124;43my\u001b[39;49m\u001b[38;5;124;43m'\u001b[39;49m\u001b[43m]\u001b[49m\u001b[43m,\u001b[49m\u001b[43m \u001b[49m\u001b[43mrow\u001b[49m\u001b[43m[\u001b[49m\u001b[38;5;124;43m'\u001b[39;49m\u001b[38;5;124;43mx\u001b[39;49m\u001b[38;5;124;43m'\u001b[39;49m\u001b[43m]\u001b[49m\u001b[43m,\u001b[49m\u001b[43mprecision\u001b[49m\u001b[43m)\u001b[49m, axis\u001b[38;5;241m=\u001b[39m\u001b[38;5;241m1\u001b[39m)\n\u001b[1;32m     17\u001b[0m \u001b[38;5;28;01mreturn\u001b[39;00m df\n",
      "File \u001b[0;32m/gpfs/data1/oshangp/easier/geohash-cid/notebooks/../geohashtree/geohash_func.py:8\u001b[0m, in \u001b[0;36mgeohash_encode\u001b[0;34m(lat, lon, precision)\u001b[0m\n\u001b[1;32m      7\u001b[0m \u001b[38;5;28;01mdef\u001b[39;00m \u001b[38;5;21mgeohash_encode\u001b[39m(lat,lon,precision):\n\u001b[0;32m----> 8\u001b[0m     \u001b[38;5;28;01mreturn\u001b[39;00m \u001b[43mpgh\u001b[49m\u001b[38;5;241;43m.\u001b[39;49m\u001b[43mencode\u001b[49m\u001b[43m(\u001b[49m\u001b[43mlatitude\u001b[49m\u001b[38;5;241;43m=\u001b[39;49m\u001b[43mlat\u001b[49m\u001b[43m,\u001b[49m\u001b[43m \u001b[49m\u001b[43mlongitude\u001b[49m\u001b[38;5;241;43m=\u001b[39;49m\u001b[43mlon\u001b[49m\u001b[43m,\u001b[49m\u001b[43m \u001b[49m\u001b[43mprecision\u001b[49m\u001b[38;5;241;43m=\u001b[39;49m\u001b[43mprecision\u001b[49m\u001b[43m)\u001b[49m\n",
      "File \u001b[0;32m/gpfs/data1/oshangp/easier/geohash-cid/py39/lib/python3.9/site-packages/pygeohash/geohash.py:112\u001b[0m, in \u001b[0;36mencode\u001b[0;34m(latitude, longitude, precision)\u001b[0m\n\u001b[1;32m    110\u001b[0m     bit \u001b[38;5;241m+\u001b[39m\u001b[38;5;241m=\u001b[39m \u001b[38;5;241m1\u001b[39m\n\u001b[1;32m    111\u001b[0m \u001b[38;5;28;01melse\u001b[39;00m:\n\u001b[0;32m--> 112\u001b[0m     geohash \u001b[38;5;241m+\u001b[39m\u001b[38;5;241m=\u001b[39m \u001b[43m__base32\u001b[49m[ch]\n\u001b[1;32m    113\u001b[0m     bit \u001b[38;5;241m=\u001b[39m \u001b[38;5;241m0\u001b[39m\n\u001b[1;32m    114\u001b[0m     ch \u001b[38;5;241m=\u001b[39m \u001b[38;5;241m0\u001b[39m\n",
      "\u001b[0;31mKeyboardInterrupt\u001b[0m: "
     ]
    }
   ],
   "source": [
    "gdf = append_geohash_to_dataframe(gdf)"
   ]
  },
  {
   "cell_type": "code",
   "execution_count": 12,
   "id": "a4856330-a3a0-4c6f-8948-48699644e99c",
   "metadata": {
    "execution": {
     "iopub.execute_input": "2024-03-25T23:42:28.607640Z",
     "iopub.status.busy": "2024-03-25T23:42:28.607289Z",
     "iopub.status.idle": "2024-03-25T23:42:48.126591Z",
     "shell.execute_reply": "2024-03-25T23:42:48.125682Z",
     "shell.execute_reply.started": "2024-03-25T23:42:28.607614Z"
    }
   },
   "outputs": [],
   "source": [
    "out = gdf.sort_values('geohash')[cols]"
   ]
  },
  {
   "cell_type": "code",
   "execution_count": 13,
   "id": "4e6c39c6-1b01-4dca-9444-7567893d4d91",
   "metadata": {
    "execution": {
     "iopub.execute_input": "2024-03-25T23:42:48.128202Z",
     "iopub.status.busy": "2024-03-25T23:42:48.127748Z",
     "iopub.status.idle": "2024-03-25T23:42:48.132817Z",
     "shell.execute_reply": "2024-03-25T23:42:48.132287Z",
     "shell.execute_reply.started": "2024-03-25T23:42:48.128175Z"
    }
   },
   "outputs": [
    {
     "data": {
      "text/plain": [
       "(13867406, 7)"
      ]
     },
     "execution_count": 13,
     "metadata": {},
     "output_type": "execute_result"
    }
   ],
   "source": [
    "gdf.shape"
   ]
  },
  {
   "cell_type": "code",
   "execution_count": 14,
   "id": "28a09a67-d248-4f31-9ad7-fe4995badb4b",
   "metadata": {
    "execution": {
     "iopub.execute_input": "2024-03-25T23:42:48.134289Z",
     "iopub.status.busy": "2024-03-25T23:42:48.134039Z",
     "iopub.status.idle": "2024-03-25T23:42:48.137965Z",
     "shell.execute_reply": "2024-03-25T23:42:48.137494Z",
     "shell.execute_reply.started": "2024-03-25T23:42:48.134268Z"
    }
   },
   "outputs": [
    {
     "data": {
      "text/plain": [
       "(13867406, 4)"
      ]
     },
     "execution_count": 14,
     "metadata": {},
     "output_type": "execute_result"
    }
   ],
   "source": [
    "out.shape"
   ]
  },
  {
   "cell_type": "code",
   "execution_count": 16,
   "id": "46c8cc00-dbcd-48c5-a109-dba0b934bc51",
   "metadata": {
    "execution": {
     "iopub.execute_input": "2024-03-26T03:47:16.270282Z",
     "iopub.status.busy": "2024-03-26T03:47:16.269729Z",
     "iopub.status.idle": "2024-03-26T03:47:16.736420Z",
     "shell.execute_reply": "2024-03-26T03:47:16.735829Z",
     "shell.execute_reply.started": "2024-03-26T03:47:16.270250Z"
    }
   },
   "outputs": [
    {
     "data": {
      "text/html": [
       "<div>\n",
       "<style scoped>\n",
       "    .dataframe tbody tr th:only-of-type {\n",
       "        vertical-align: middle;\n",
       "    }\n",
       "\n",
       "    .dataframe tbody tr th {\n",
       "        vertical-align: top;\n",
       "    }\n",
       "\n",
       "    .dataframe thead th {\n",
       "        text-align: right;\n",
       "    }\n",
       "</style>\n",
       "<table border=\"1\" class=\"dataframe\">\n",
       "  <thead>\n",
       "    <tr style=\"text-align: right;\">\n",
       "      <th></th>\n",
       "      <th>id</th>\n",
       "      <th>names_value</th>\n",
       "      <th>main_cat</th>\n",
       "      <th>geometry</th>\n",
       "      <th>x</th>\n",
       "      <th>y</th>\n",
       "      <th>geohash</th>\n",
       "    </tr>\n",
       "  </thead>\n",
       "  <tbody>\n",
       "    <tr>\n",
       "      <th>0</th>\n",
       "      <td>49679874639</td>\n",
       "      <td>Back Alley Bakery</td>\n",
       "      <td>bakery</td>\n",
       "      <td>POINT (-98.38904 40.58494)</td>\n",
       "      <td>-98.389041</td>\n",
       "      <td>40.584940</td>\n",
       "      <td>9z4n</td>\n",
       "    </tr>\n",
       "    <tr>\n",
       "      <th>1</th>\n",
       "      <td>104889374747817</td>\n",
       "      <td>Smitty's MHP</td>\n",
       "      <td>campground</td>\n",
       "      <td>POINT (-98.38082 40.57477)</td>\n",
       "      <td>-98.380820</td>\n",
       "      <td>40.574768</td>\n",
       "      <td>9z4n</td>\n",
       "    </tr>\n",
       "    <tr>\n",
       "      <th>2</th>\n",
       "      <td>115690661823498</td>\n",
       "      <td>Hoskins Auto Sales</td>\n",
       "      <td>car_dealer</td>\n",
       "      <td>POINT (-98.39011 40.56764)</td>\n",
       "      <td>-98.390113</td>\n",
       "      <td>40.567644</td>\n",
       "      <td>9z4n</td>\n",
       "    </tr>\n",
       "    <tr>\n",
       "      <th>3</th>\n",
       "      <td>562949964809758</td>\n",
       "      <td>Edward Jones - Financial Advisor: Phil Nelson</td>\n",
       "      <td>None</td>\n",
       "      <td>POINT (-98.38725 40.58950)</td>\n",
       "      <td>-98.387245</td>\n",
       "      <td>40.589498</td>\n",
       "      <td>9z4n</td>\n",
       "    </tr>\n",
       "    <tr>\n",
       "      <th>4</th>\n",
       "      <td>133754580009931</td>\n",
       "      <td>South Central Behavioral Services</td>\n",
       "      <td>counseling_and_mental_health</td>\n",
       "      <td>POINT (-98.39292 40.57619)</td>\n",
       "      <td>-98.392920</td>\n",
       "      <td>40.576190</td>\n",
       "      <td>9z4n</td>\n",
       "    </tr>\n",
       "  </tbody>\n",
       "</table>\n",
       "</div>"
      ],
      "text/plain": [
       "                id                                    names_value  \\\n",
       "0      49679874639                              Back Alley Bakery   \n",
       "1  104889374747817                                   Smitty's MHP   \n",
       "2  115690661823498                             Hoskins Auto Sales   \n",
       "3  562949964809758  Edward Jones - Financial Advisor: Phil Nelson   \n",
       "4  133754580009931              South Central Behavioral Services   \n",
       "\n",
       "                       main_cat                    geometry          x  \\\n",
       "0                        bakery  POINT (-98.38904 40.58494) -98.389041   \n",
       "1                    campground  POINT (-98.38082 40.57477) -98.380820   \n",
       "2                    car_dealer  POINT (-98.39011 40.56764) -98.390113   \n",
       "3                          None  POINT (-98.38725 40.58950) -98.387245   \n",
       "4  counseling_and_mental_health  POINT (-98.39292 40.57619) -98.392920   \n",
       "\n",
       "           y geohash  \n",
       "0  40.584940    9z4n  \n",
       "1  40.574768    9z4n  \n",
       "2  40.567644    9z4n  \n",
       "3  40.589498    9z4n  \n",
       "4  40.576190    9z4n  "
      ]
     },
     "execution_count": 16,
     "metadata": {},
     "output_type": "execute_result"
    }
   ],
   "source": [
    "gdf.head()"
   ]
  },
  {
   "cell_type": "code",
   "execution_count": 17,
   "id": "8528d962-2130-4a8c-994b-88d8b5080243",
   "metadata": {
    "execution": {
     "iopub.execute_input": "2024-03-26T03:47:18.770814Z",
     "iopub.status.busy": "2024-03-26T03:47:18.770380Z",
     "iopub.status.idle": "2024-03-26T04:09:27.506923Z",
     "shell.execute_reply": "2024-03-26T04:09:27.505919Z",
     "shell.execute_reply.started": "2024-03-26T03:47:18.770788Z"
    }
   },
   "outputs": [],
   "source": [
    "gdf.sort_values('geohash')[cols]\\\n",
    ".to_file(f\"../data/overture/{asset}_gh_sorted.geojson\",driver=\"GeoJSON\")"
   ]
  },
  {
   "cell_type": "code",
   "execution_count": 41,
   "id": "d98ea201-cd79-4bd9-9dbe-6c853cf500d2",
   "metadata": {
    "execution": {
     "iopub.execute_input": "2024-03-19T22:50:14.679691Z",
     "iopub.status.busy": "2024-03-19T22:50:14.679230Z",
     "iopub.status.idle": "2024-03-19T22:51:17.583929Z",
     "shell.execute_reply": "2024-03-19T22:51:17.583253Z",
     "shell.execute_reply.started": "2024-03-19T22:50:14.679663Z"
    }
   },
   "outputs": [
    {
     "data": {
      "text/plain": [
       "<Axes: >"
      ]
     },
     "execution_count": 41,
     "metadata": {},
     "output_type": "execute_result"
    },
    {
     "data": {
      "image/png": "[encoded data removed]",
      "text/plain": [
       "<Figure size 640x480 with 1 Axes>"
      ]
     },
     "metadata": {},
     "output_type": "display_data"
    }
   ],
   "source": [
    "out.plot()"
   ]
  },
  {
   "cell_type": "code",
   "execution_count": null,
   "id": "14a59457-4e6f-4668-85ef-a1ac430f3b9f",
   "metadata": {},
   "outputs": [],
   "source": []
  }
 ],
 "metadata": {
  "kernelspec": {
   "display_name": "Python 3 (ipykernel)",
   "language": "python",
   "name": "python3"
  },
  "language_info": {
   "codemirror_mode": {
    "name": "ipython",
    "version": 3
   },
   "file_extension": ".py",
   "mimetype": "text/x-python",
   "name": "python",
   "nbconvert_exporter": "python",
   "pygments_lexer": "ipython3",
   "version": "3.9.12"
  }
 },
 "nbformat": 4,
 "nbformat_minor": 5
}
