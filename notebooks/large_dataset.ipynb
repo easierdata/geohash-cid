{
 "cells": [
  {
   "cell_type": "markdown",
   "id": "a7b54aba-0756-4aae-970c-5a8afe852f36",
   "metadata": {},
   "source": [
    "# Benchmark over large Overture map dataset"
   ]
  },
  {
   "cell_type": "code",
   "execution_count": 2,
   "id": "00ac632f-a5cd-417d-ab1d-1c0752fd2e2b",
   "metadata": {
    "execution": {
     "iopub.execute_input": "2024-03-03T22:14:00.385092Z",
     "iopub.status.busy": "2024-03-03T22:14:00.384654Z",
     "iopub.status.idle": "2024-03-03T22:14:09.267307Z",
     "shell.execute_reply": "2024-03-03T22:14:09.266401Z",
     "shell.execute_reply.started": "2024-03-03T22:14:00.385068Z"
    }
   },
   "outputs": [
    {
     "name": "stderr",
     "output_type": "stream",
     "text": [
      "WARNING:root:Numpy and Numba are soft dependencies to use the numba geohashing functions. \n",
      "Can only import/use native python functions.\n"
     ]
    },
    {
     "name": "stdout",
     "output_type": "stream",
     "text": [
      "ipfs path /gpfs/data1/oshangp/easier/textile/kubo/ipfs\n"
     ]
    }
   ],
   "source": [
    "import pygeohash as pgh\n",
    "##load geojson\n",
    "import geopandas as gpd\n",
    "import pandas as pd\n",
    "import os\n",
    "import sys\n",
    "sys.path.append(\"../\")\n",
    "from geohashtree.geohashtree import LiteTreeOffset, LiteTreeCID, FullTreeFile\n",
    "from geohashtree.config import ipfs_binary\n",
    "from geohashtree.filesystem import ipfs_add_feature,ipfs_add_index_folder\n"
   ]
  },
  {
   "cell_type": "code",
   "execution_count": null,
   "id": "7adb8286-1209-4c65-b5f9-6cbd3cf705cd",
   "metadata": {},
   "outputs": [],
   "source": []
  },
  {
   "cell_type": "markdown",
   "id": "51f25419-d7a9-49f5-9bf9-16e6a2b8d4cf",
   "metadata": {},
   "source": [
    "## Truncated data"
   ]
  },
  {
   "cell_type": "code",
   "execution_count": null,
   "id": "237c72fb-88b0-4a20-b693-116e7c15ca5d",
   "metadata": {},
   "outputs": [],
   "source": [
    "parquet = f\"../data/overture/us_places.parquet\"\n",
    "gdf = gpd.read_parquet(parquet)"
   ]
  },
  {
   "cell_type": "code",
   "execution_count": null,
   "id": "8b67bb71-551c-437d-967a-1a5a1f88604a",
   "metadata": {},
   "outputs": [],
   "source": [
    "gdf_1m = gdf.sample(1000000)"
   ]
  },
  {
   "cell_type": "code",
   "execution_count": null,
   "id": "02b59a29-11f0-4d3f-87fe-c7645efcf8da",
   "metadata": {},
   "outputs": [],
   "source": [
    "gdf_1m.to_file(\"../data/overture/us_places_1m.geojson\",driver=\"GeoJSON\")"
   ]
  },
  {
   "cell_type": "markdown",
   "id": "59821e31-cf52-4065-89f1-5ee3a9cb6eed",
   "metadata": {},
   "source": [
    "## Start here"
   ]
  },
  {
   "cell_type": "code",
   "execution_count": 1,
   "id": "63c2172e-b0b2-4201-9d0a-43f052d48b3e",
   "metadata": {
    "execution": {
     "iopub.execute_input": "2024-03-03T22:13:58.199679Z",
     "iopub.status.busy": "2024-03-03T22:13:58.199263Z",
     "iopub.status.idle": "2024-03-03T22:13:58.206308Z",
     "shell.execute_reply": "2024-03-03T22:13:58.205604Z",
     "shell.execute_reply.started": "2024-03-03T22:13:58.199654Z"
    }
   },
   "outputs": [],
   "source": [
    "asset = \"us_places_1m\"\n",
    "geojson_path = f\"../data/overture/{asset}.geojson\"\n",
    "index_path = f\"../data/geohash_offset_{asset}/index\""
   ]
  },
  {
   "cell_type": "code",
   "execution_count": 3,
   "id": "5b2a9876-87e7-44b7-85fe-ba05664a1f58",
   "metadata": {
    "execution": {
     "iopub.status.idle": "2024-03-02T01:52:41.624511Z",
     "shell.execute_reply": "2024-03-02T01:52:41.623810Z",
     "shell.execute_reply.started": "2024-03-02T01:50:55.061991Z"
    }
   },
   "outputs": [],
   "source": [
    "gdf_1m = gpd.read_file(geojson_path)"
   ]
  },
  {
   "cell_type": "code",
   "execution_count": 4,
   "id": "79bea75d-fb5d-4e7b-bafb-674cc2d5a15a",
   "metadata": {
    "execution": {
     "iopub.execute_input": "2024-03-02T01:52:41.684523Z",
     "iopub.status.busy": "2024-03-02T01:52:41.680418Z",
     "iopub.status.idle": "2024-03-02T02:05:04.731915Z",
     "shell.execute_reply": "2024-03-02T02:05:04.730858Z",
     "shell.execute_reply.started": "2024-03-02T01:52:41.684489Z"
    }
   },
   "outputs": [
    {
     "name": "stdout",
     "output_type": "stream",
     "text": [
      "Index Mode: offline\n",
      "bafybeiawrnzlzeuyzwkgoaugf5gh7jxuydzwqj5f4nvyigme5hdgndqp6e\n"
     ]
    }
   ],
   "source": [
    "offsettree = LiteTreeOffset()\n",
    "offsettree.add_from_geojson(geojson_path)\n",
    "offsettree.generate_tree_index(index_path)"
   ]
  },
  {
   "cell_type": "code",
   "execution_count": null,
   "id": "ceee8d49-6897-4f7f-9aa8-d572aebd2237",
   "metadata": {},
   "outputs": [],
   "source": [
    "!alias ipfs='/gpfs/data1/oshangp/easier/textile/kubo/ipfs'"
   ]
  },
  {
   "cell_type": "code",
   "execution_count": 6,
   "id": "44f3a596-bcd8-4fdc-b5f3-52c0bfd861be",
   "metadata": {
    "execution": {
     "iopub.execute_input": "2024-03-04T06:45:03.074535Z",
     "iopub.status.busy": "2024-03-04T06:45:03.074124Z",
     "iopub.status.idle": "2024-03-04T06:45:11.370201Z",
     "shell.execute_reply": "2024-03-04T06:45:11.368987Z",
     "shell.execute_reply.started": "2024-03-04T06:45:03.074505Z"
    }
   },
   "outputs": [
    {
     "name": "stderr",
     "output_type": "stream",
     "text": [
      " 240.65 KiB / ? Error: canceled\n",
      "\n",
      "KeyboardInterrupt\n",
      "\n"
     ]
    }
   ],
   "source": [
    "ipfs_add_index_folder(index_path)"
   ]
  },
  {
   "cell_type": "code",
   "execution_count": 5,
   "id": "d3dc485f-d537-4169-87bf-c7507abbc353",
   "metadata": {
    "execution": {
     "iopub.execute_input": "2024-03-04T04:19:01.583789Z",
     "iopub.status.busy": "2024-03-04T04:19:01.583315Z",
     "iopub.status.idle": "2024-03-04T04:19:04.821278Z",
     "shell.execute_reply": "2024-03-04T04:19:04.820579Z",
     "shell.execute_reply.started": "2024-03-04T04:19:01.583759Z"
    }
   },
   "outputs": [
    {
     "data": {
      "text/plain": [
       "'bafybeiawrnzlzeuyzwkgoaugf5gh7jxuydzwqj5f4nvyigme5hdgndqp6e'"
      ]
     },
     "execution_count": 5,
     "metadata": {},
     "output_type": "execute_result"
    }
   ],
   "source": [
    "ipfs_add_feature(geojson_path)"
   ]
  },
  {
   "cell_type": "code",
   "execution_count": null,
   "id": "cb65bdd5-fdb7-4163-af00-cd565208b8a3",
   "metadata": {},
   "outputs": [],
   "source": [
    "index_cid = \"bafybeibfs4d773f3i6sbsww56qu35u5j4rh2vs2tuhcv6zz6xyf4geoqui\"\n",
    "file_cid = \"bafybeiawrnzlzeuyzwkgoaugf5gh7jxuydzwqj5f4nvyigme5hdgndqp6e\""
   ]
  }
 ],
 "metadata": {
  "kernelspec": {
   "display_name": "Python 3 (ipykernel)",
   "language": "python",
   "name": "python3"
  },
  "language_info": {
   "codemirror_mode": {
    "name": "ipython",
    "version": 3
   },
   "file_extension": ".py",
   "mimetype": "text/x-python",
   "name": "python",
   "nbconvert_exporter": "python",
   "pygments_lexer": "ipython3",
   "version": "3.9.12"
  }
 },
 "nbformat": 4,
 "nbformat_minor": 5
}
