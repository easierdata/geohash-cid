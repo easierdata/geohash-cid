{
 "cells": [
  {
   "cell_type": "markdown",
   "id": "a7b54aba-0756-4aae-970c-5a8afe852f36",
   "metadata": {},
   "source": [
    "# Benchmark over large Overture map dataset"
   ]
  },
  {
   "cell_type": "code",
   "execution_count": 3,
   "id": "00ac632f-a5cd-417d-ab1d-1c0752fd2e2b",
   "metadata": {
    "execution": {
     "iopub.execute_input": "2024-03-18T23:33:24.967923Z",
     "iopub.status.busy": "2024-03-18T23:33:24.967388Z",
     "iopub.status.idle": "2024-03-18T23:33:53.406501Z",
     "shell.execute_reply": "2024-03-18T23:33:53.405614Z",
     "shell.execute_reply.started": "2024-03-18T23:33:24.967889Z"
    }
   },
   "outputs": [
    {
     "name": "stderr",
     "output_type": "stream",
     "text": [
      "WARNING:root:Numpy and Numba are soft dependencies to use the numba geohashing functions. \n",
      "Can only import/use native python functions.\n"
     ]
    },
    {
     "name": "stdout",
     "output_type": "stream",
     "text": [
      "ipfs path /gpfs/data1/oshangp/easier/textile/kubo/ipfs\n"
     ]
    }
   ],
   "source": [
    "import pygeohash as pgh\n",
    "##load geojson\n",
    "import geopandas as gpd\n",
    "import pandas as pd\n",
    "import os\n",
    "import sys\n",
    "sys.path.append(\"../\")\n",
    "from geohashtree.geohashtree import LiteTreeOffset, LiteTreeCID, FullTreeFile\n",
    "from geohashtree.config import ipfs_binary\n",
    "from geohashtree.filesystem import ipfs_add_feature,ipfs_add_index_folder\n"
   ]
  },
  {
   "cell_type": "markdown",
   "id": "51f25419-d7a9-49f5-9bf9-16e6a2b8d4cf",
   "metadata": {},
   "source": [
    "## Truncated data"
   ]
  },
  {
   "cell_type": "code",
   "execution_count": 4,
   "id": "237c72fb-88b0-4a20-b693-116e7c15ca5d",
   "metadata": {
    "execution": {
     "iopub.execute_input": "2024-03-11T17:43:32.524408Z",
     "iopub.status.busy": "2024-03-11T17:43:32.523992Z",
     "iopub.status.idle": "2024-03-11T17:44:06.929172Z",
     "shell.execute_reply": "2024-03-11T17:44:06.928487Z",
     "shell.execute_reply.started": "2024-03-11T17:43:32.524383Z"
    }
   },
   "outputs": [],
   "source": [
    "parquet = f\"../data/overture/us_places.parquet\"\n",
    "gdf = gpd.read_parquet(parquet)"
   ]
  },
  {
   "cell_type": "code",
   "execution_count": 11,
   "id": "8b67bb71-551c-437d-967a-1a5a1f88604a",
   "metadata": {
    "execution": {
     "iopub.execute_input": "2024-03-11T17:55:33.304280Z",
     "iopub.status.busy": "2024-03-11T17:55:33.303888Z",
     "iopub.status.idle": "2024-03-11T17:55:34.071410Z",
     "shell.execute_reply": "2024-03-11T17:55:34.070774Z",
     "shell.execute_reply.started": "2024-03-11T17:55:33.304255Z"
    }
   },
   "outputs": [],
   "source": [
    "gdf_1m = gdf.sample(100000,random_state = 42)"
   ]
  },
  {
   "cell_type": "code",
   "execution_count": 12,
   "id": "02b59a29-11f0-4d3f-87fe-c7645efcf8da",
   "metadata": {
    "execution": {
     "iopub.execute_input": "2024-03-11T17:55:34.072766Z",
     "iopub.status.busy": "2024-03-11T17:55:34.072476Z",
     "iopub.status.idle": "2024-03-11T17:55:42.326243Z",
     "shell.execute_reply": "2024-03-11T17:55:42.325623Z",
     "shell.execute_reply.started": "2024-03-11T17:55:34.072743Z"
    }
   },
   "outputs": [],
   "source": [
    "gdf_1m.to_file(\"../data/overture/us_places_100k.geojson\",driver=\"GeoJSON\")"
   ]
  },
  {
   "cell_type": "code",
   "execution_count": 28,
   "id": "3ac9f59a-5221-4d32-8029-241713dfc690",
   "metadata": {
    "execution": {
     "iopub.execute_input": "2024-03-13T04:22:08.336572Z",
     "iopub.status.busy": "2024-03-13T04:22:08.336195Z",
     "iopub.status.idle": "2024-03-13T04:22:18.261677Z",
     "shell.execute_reply": "2024-03-13T04:22:18.260828Z",
     "shell.execute_reply.started": "2024-03-13T04:22:08.336548Z"
    }
   },
   "outputs": [],
   "source": [
    "gdf = gpd.read_file(\"../data/overture/us_places_100k.geojson\")"
   ]
  },
  {
   "cell_type": "code",
   "execution_count": 29,
   "id": "969875cb-4959-478d-bdae-8066f9c6225b",
   "metadata": {
    "execution": {
     "iopub.execute_input": "2024-03-13T04:22:21.276006Z",
     "iopub.status.busy": "2024-03-13T04:22:21.275590Z",
     "iopub.status.idle": "2024-03-13T04:22:29.273593Z",
     "shell.execute_reply": "2024-03-13T04:22:29.273002Z",
     "shell.execute_reply.started": "2024-03-13T04:22:21.275975Z"
    }
   },
   "outputs": [],
   "source": [
    "#add new columns\n",
    "import string\n",
    "import random\n",
    "import numpy as np\n",
    "# Add 5 columns of random text, each 64 characters long\n",
    "for i in range(10):\n",
    "    gdf[f'text_{i+1}'] = [''.join(random.choices(string.ascii_letters, k=64)) for _ in range(len(gdf))]\n",
    "\n",
    "# Add 5 columns of random floats between 0 and 1\n",
    "for i in range(20):\n",
    "    gdf[f'float_{i+1}'] = np.random.uniform(0, 1, len(gdf))"
   ]
  },
  {
   "cell_type": "code",
   "execution_count": 30,
   "id": "0053fa00-bcb9-438a-ae32-4d3101eee015",
   "metadata": {
    "execution": {
     "iopub.execute_input": "2024-03-13T04:23:22.701545Z",
     "iopub.status.busy": "2024-03-13T04:23:22.701159Z",
     "iopub.status.idle": "2024-03-13T04:23:57.713167Z",
     "shell.execute_reply": "2024-03-13T04:23:57.712225Z",
     "shell.execute_reply.started": "2024-03-13T04:23:22.701521Z"
    }
   },
   "outputs": [],
   "source": [
    "gdf.to_file(\"../data/overture/us_places_100k_extra_cols.geojson\",driver=\"GeoJSON\")"
   ]
  },
  {
   "cell_type": "markdown",
   "id": "59821e31-cf52-4065-89f1-5ee3a9cb6eed",
   "metadata": {},
   "source": [
    "## Start here"
   ]
  },
  {
   "cell_type": "code",
   "execution_count": 2,
   "id": "63c2172e-b0b2-4201-9d0a-43f052d48b3e",
   "metadata": {
    "execution": {
     "iopub.execute_input": "2024-03-13T22:40:35.070120Z",
     "iopub.status.busy": "2024-03-13T22:40:35.069596Z",
     "iopub.status.idle": "2024-03-13T22:40:35.073535Z",
     "shell.execute_reply": "2024-03-13T22:40:35.072943Z",
     "shell.execute_reply.started": "2024-03-13T22:40:35.070088Z"
    }
   },
   "outputs": [],
   "source": [
    "asset = \"us_places_1m_gh_sorted\"\n",
    "geojson_path = f\"../data/overture/{asset}.geojson\"\n",
    "index_path = f\"../data/geohash_offset_{asset}/index\""
   ]
  },
  {
   "cell_type": "code",
   "execution_count": 36,
   "id": "aafa4317-36f4-451e-857a-fe8877166918",
   "metadata": {
    "execution": {
     "iopub.execute_input": "2024-03-19T20:17:03.336381Z",
     "iopub.status.busy": "2024-03-19T20:17:03.335922Z",
     "iopub.status.idle": "2024-03-19T20:17:03.340233Z",
     "shell.execute_reply": "2024-03-19T20:17:03.339703Z",
     "shell.execute_reply.started": "2024-03-19T20:17:03.336354Z"
    }
   },
   "outputs": [],
   "source": [
    "asset = \"osm_us_poi_gh_sorted\"\n",
    "geojson_path = f\"../data/osm/{asset}.geojson\"\n",
    "index_path = f\"../data/geohash_offset_{asset}/index\""
   ]
  },
  {
   "cell_type": "code",
   "execution_count": null,
   "id": "da2a753f-5747-4fa6-aa85-19eb4e24e8a3",
   "metadata": {},
   "outputs": [],
   "source": [
    "index_path = f\"../data/geohash_attach_{asset}/index\"\n",
    "fulltree = FullTreeFile()\n",
    "fulltree.add_from_geojson(geojson_path)\n",
    "fulltree.generate_tree_index(index_path)\n",
    "ipfs_add_index_folder(index_path)"
   ]
  },
  {
   "cell_type": "code",
   "execution_count": 38,
   "id": "79bea75d-fb5d-4e7b-bafb-674cc2d5a15a",
   "metadata": {
    "execution": {
     "iopub.execute_input": "2024-03-19T21:50:05.802192Z",
     "iopub.status.busy": "2024-03-19T21:50:05.801751Z",
     "iopub.status.idle": "2024-03-19T22:40:04.977393Z",
     "shell.execute_reply": "2024-03-19T22:40:04.976425Z",
     "shell.execute_reply.started": "2024-03-19T21:50:05.802167Z"
    }
   },
   "outputs": [
    {
     "name": "stdout",
     "output_type": "stream",
     "text": [
      "Index Mode: offline\n",
      "bafybeidz4q4qauc6r5balv3l4s52p5xs3vkigvn66nt5jqjlnkde2gyvl4\n"
     ]
    }
   ],
   "source": [
    "offsettree = LiteTreeOffset()\n",
    "offsettree.add_from_geojson(geojson_path)\n",
    "offsettree.generate_tree_index(index_path)"
   ]
  },
  {
   "cell_type": "code",
   "execution_count": 39,
   "id": "44f3a596-bcd8-4fdc-b5f3-52c0bfd861be",
   "metadata": {
    "execution": {
     "iopub.execute_input": "2024-03-19T22:45:34.381236Z",
     "iopub.status.busy": "2024-03-19T22:45:34.380759Z",
     "iopub.status.idle": "2024-03-19T22:47:24.483558Z",
     "shell.execute_reply": "2024-03-19T22:47:24.482806Z",
     "shell.execute_reply.started": "2024-03-19T22:45:34.381206Z"
    }
   },
   "outputs": [
    {
     "data": {
      "text/plain": [
       "'bafybeib67cdvhxou7rbvgmxwbwdr3ozygwv2urjfvh6p3xbh4b3jhjmal4'"
      ]
     },
     "execution_count": 39,
     "metadata": {},
     "output_type": "execute_result"
    }
   ],
   "source": [
    "ipfs_add_index_folder(index_path)"
   ]
  },
  {
   "cell_type": "code",
   "execution_count": 40,
   "id": "d3dc485f-d537-4169-87bf-c7507abbc353",
   "metadata": {
    "execution": {
     "iopub.execute_input": "2024-03-19T22:47:24.485397Z",
     "iopub.status.busy": "2024-03-19T22:47:24.485055Z",
     "iopub.status.idle": "2024-03-19T22:48:07.375552Z",
     "shell.execute_reply": "2024-03-19T22:48:07.374889Z",
     "shell.execute_reply.started": "2024-03-19T22:47:24.485373Z"
    }
   },
   "outputs": [
    {
     "data": {
      "text/plain": [
       "'bafybeidz4q4qauc6r5balv3l4s52p5xs3vkigvn66nt5jqjlnkde2gyvl4'"
      ]
     },
     "execution_count": 40,
     "metadata": {},
     "output_type": "execute_result"
    }
   ],
   "source": [
    "ipfs_add_feature(geojson_path)"
   ]
  },
  {
   "cell_type": "markdown",
   "id": "c32dbd9c-1e27-4b46-b708-755202c8bf39",
   "metadata": {},
   "source": [
    "## sort the geohashes"
   ]
  },
  {
   "cell_type": "code",
   "execution_count": 5,
   "id": "48504a7e-3b30-4702-9607-c25cdf13b2d7",
   "metadata": {
    "execution": {
     "iopub.execute_input": "2024-03-18T23:34:45.375299Z",
     "iopub.status.busy": "2024-03-18T23:34:45.374901Z",
     "iopub.status.idle": "2024-03-18T23:34:45.379130Z",
     "shell.execute_reply": "2024-03-18T23:34:45.378304Z",
     "shell.execute_reply.started": "2024-03-18T23:34:45.375274Z"
    }
   },
   "outputs": [],
   "source": [
    "from geohashtree.geohashtree import append_geohash_to_dataframe\n"
   ]
  },
  {
   "cell_type": "code",
   "execution_count": 17,
   "id": "461d9279-567e-4d17-855c-5eff8ada1089",
   "metadata": {
    "execution": {
     "iopub.execute_input": "2024-03-19T04:42:05.490527Z",
     "iopub.status.busy": "2024-03-19T04:42:05.490118Z",
     "iopub.status.idle": "2024-03-19T05:24:59.704406Z",
     "shell.execute_reply": "2024-03-19T05:24:59.696213Z",
     "shell.execute_reply.started": "2024-03-19T04:42:05.490503Z"
    }
   },
   "outputs": [],
   "source": [
    "gdf = gpd.read_file(geojson_path)\n",
    "cols = gdf.columns"
   ]
  },
  {
   "cell_type": "code",
   "execution_count": 30,
   "id": "9a7e8dcb-58fc-4a82-9992-83065b2d80c8",
   "metadata": {
    "execution": {
     "iopub.execute_input": "2024-03-19T19:38:20.009813Z",
     "iopub.status.busy": "2024-03-19T19:38:20.009437Z",
     "iopub.status.idle": "2024-03-19T19:38:22.094645Z",
     "shell.execute_reply": "2024-03-19T19:38:22.094028Z",
     "shell.execute_reply.started": "2024-03-19T19:38:20.009790Z"
    }
   },
   "outputs": [],
   "source": [
    "gdf = gdf[gdf.osm_type == 'node']"
   ]
  },
  {
   "cell_type": "code",
   "execution_count": 32,
   "id": "185282eb-c3b4-428d-8579-404742c07ae1",
   "metadata": {
    "execution": {
     "iopub.execute_input": "2024-03-19T19:38:33.084524Z",
     "iopub.status.busy": "2024-03-19T19:38:33.084136Z",
     "iopub.status.idle": "2024-03-19T19:39:01.423991Z",
     "shell.execute_reply": "2024-03-19T19:39:01.423337Z",
     "shell.execute_reply.started": "2024-03-19T19:38:33.084501Z"
    }
   },
   "outputs": [],
   "source": [
    "gdf = append_geohash_to_dataframe(gdf)"
   ]
  },
  {
   "cell_type": "code",
   "execution_count": 33,
   "id": "a4856330-a3a0-4c6f-8948-48699644e99c",
   "metadata": {
    "execution": {
     "iopub.execute_input": "2024-03-19T19:39:07.013152Z",
     "iopub.status.busy": "2024-03-19T19:39:07.012769Z",
     "iopub.status.idle": "2024-03-19T19:39:13.274060Z",
     "shell.execute_reply": "2024-03-19T19:39:13.273378Z",
     "shell.execute_reply.started": "2024-03-19T19:39:07.013128Z"
    }
   },
   "outputs": [],
   "source": [
    "out = gdf.sort_values('geohash')[cols]"
   ]
  },
  {
   "cell_type": "code",
   "execution_count": 16,
   "id": "4e6c39c6-1b01-4dca-9444-7567893d4d91",
   "metadata": {
    "execution": {
     "iopub.execute_input": "2024-03-19T04:41:22.971207Z",
     "iopub.status.busy": "2024-03-19T04:41:22.970803Z",
     "iopub.status.idle": "2024-03-19T04:41:22.975311Z",
     "shell.execute_reply": "2024-03-19T04:41:22.974772Z",
     "shell.execute_reply.started": "2024-03-19T04:41:22.971183Z"
    }
   },
   "outputs": [
    {
     "data": {
      "text/plain": [
       "(3191899, 77)"
      ]
     },
     "execution_count": 16,
     "metadata": {},
     "output_type": "execute_result"
    }
   ],
   "source": [
    "gdf.shape"
   ]
  },
  {
   "cell_type": "code",
   "execution_count": 34,
   "id": "28a09a67-d248-4f31-9ad7-fe4995badb4b",
   "metadata": {
    "execution": {
     "iopub.execute_input": "2024-03-19T19:39:14.260864Z",
     "iopub.status.busy": "2024-03-19T19:39:14.260509Z",
     "iopub.status.idle": "2024-03-19T19:39:14.265101Z",
     "shell.execute_reply": "2024-03-19T19:39:14.264618Z",
     "shell.execute_reply.started": "2024-03-19T19:39:14.260841Z"
    }
   },
   "outputs": [
    {
     "data": {
      "text/plain": [
       "(1403777, 74)"
      ]
     },
     "execution_count": 34,
     "metadata": {},
     "output_type": "execute_result"
    }
   ],
   "source": [
    "out.shape"
   ]
  },
  {
   "cell_type": "code",
   "execution_count": 13,
   "id": "46c8cc00-dbcd-48c5-a109-dba0b934bc51",
   "metadata": {
    "execution": {
     "iopub.execute_input": "2024-03-19T04:40:27.747456Z",
     "iopub.status.busy": "2024-03-19T04:40:27.747044Z",
     "iopub.status.idle": "2024-03-19T04:40:27.913592Z",
     "shell.execute_reply": "2024-03-19T04:40:27.913061Z",
     "shell.execute_reply.started": "2024-03-19T04:40:27.747432Z"
    }
   },
   "outputs": [
    {
     "data": {
      "text/html": [
       "<div>\n",
       "<style scoped>\n",
       "    .dataframe tbody tr th:only-of-type {\n",
       "        vertical-align: middle;\n",
       "    }\n",
       "\n",
       "    .dataframe tbody tr th {\n",
       "        vertical-align: top;\n",
       "    }\n",
       "\n",
       "    .dataframe thead th {\n",
       "        text-align: right;\n",
       "    }\n",
       "</style>\n",
       "<table border=\"1\" class=\"dataframe\">\n",
       "  <thead>\n",
       "    <tr style=\"text-align: right;\">\n",
       "      <th></th>\n",
       "      <th>timestamp</th>\n",
       "      <th>version</th>\n",
       "      <th>tags</th>\n",
       "      <th>lat</th>\n",
       "      <th>visible</th>\n",
       "      <th>lon</th>\n",
       "      <th>id</th>\n",
       "      <th>changeset</th>\n",
       "      <th>addr:city</th>\n",
       "      <th>addr:country</th>\n",
       "      <th>...</th>\n",
       "      <th>food_court</th>\n",
       "      <th>childcare</th>\n",
       "      <th>cinema</th>\n",
       "      <th>nightclub</th>\n",
       "      <th>taxi</th>\n",
       "      <th>car_rental</th>\n",
       "      <th>geometry</th>\n",
       "      <th>x</th>\n",
       "      <th>y</th>\n",
       "      <th>geohash</th>\n",
       "    </tr>\n",
       "  </thead>\n",
       "  <tbody>\n",
       "    <tr>\n",
       "      <th>0</th>\n",
       "      <td>1705366437</td>\n",
       "      <td>4</td>\n",
       "      <td>{'brand': 'Chase', 'brand:wikidata': 'Q524629'}</td>\n",
       "      <td>36.979366</td>\n",
       "      <td>0</td>\n",
       "      <td>-122.020729</td>\n",
       "      <td>15972546</td>\n",
       "      <td>0</td>\n",
       "      <td>None</td>\n",
       "      <td>None</td>\n",
       "      <td>...</td>\n",
       "      <td>None</td>\n",
       "      <td>None</td>\n",
       "      <td>None</td>\n",
       "      <td>None</td>\n",
       "      <td>None</td>\n",
       "      <td>None</td>\n",
       "      <td>POINT (-122.02073 36.97937)</td>\n",
       "      <td>-122.020729</td>\n",
       "      <td>36.979366</td>\n",
       "      <td>9q94</td>\n",
       "    </tr>\n",
       "    <tr>\n",
       "      <th>1</th>\n",
       "      <td>1705367256</td>\n",
       "      <td>5</td>\n",
       "      <td>{'addr:state': 'CO', 'brand': 'King Soopers', ...</td>\n",
       "      <td>39.985477</td>\n",
       "      <td>0</td>\n",
       "      <td>-105.249260</td>\n",
       "      <td>25698637</td>\n",
       "      <td>0</td>\n",
       "      <td>Boulder</td>\n",
       "      <td>None</td>\n",
       "      <td>...</td>\n",
       "      <td>None</td>\n",
       "      <td>None</td>\n",
       "      <td>None</td>\n",
       "      <td>None</td>\n",
       "      <td>None</td>\n",
       "      <td>None</td>\n",
       "      <td>POINT (-105.24926 39.98548)</td>\n",
       "      <td>-105.249260</td>\n",
       "      <td>39.985477</td>\n",
       "      <td>9xj5</td>\n",
       "    </tr>\n",
       "    <tr>\n",
       "      <th>2</th>\n",
       "      <td>1694236071</td>\n",
       "      <td>14</td>\n",
       "      <td>None</td>\n",
       "      <td>39.984219</td>\n",
       "      <td>0</td>\n",
       "      <td>-105.249298</td>\n",
       "      <td>25782064</td>\n",
       "      <td>0</td>\n",
       "      <td>None</td>\n",
       "      <td>None</td>\n",
       "      <td>...</td>\n",
       "      <td>None</td>\n",
       "      <td>None</td>\n",
       "      <td>None</td>\n",
       "      <td>None</td>\n",
       "      <td>None</td>\n",
       "      <td>None</td>\n",
       "      <td>POINT (-105.24930 39.98422)</td>\n",
       "      <td>-105.249298</td>\n",
       "      <td>39.984219</td>\n",
       "      <td>9xj5</td>\n",
       "    </tr>\n",
       "    <tr>\n",
       "      <th>3</th>\n",
       "      <td>1172738768</td>\n",
       "      <td>1</td>\n",
       "      <td>{'created_by': 'YahooApplet 1.0'}</td>\n",
       "      <td>40.014568</td>\n",
       "      <td>0</td>\n",
       "      <td>-105.288460</td>\n",
       "      <td>26260724</td>\n",
       "      <td>0</td>\n",
       "      <td>None</td>\n",
       "      <td>None</td>\n",
       "      <td>...</td>\n",
       "      <td>None</td>\n",
       "      <td>None</td>\n",
       "      <td>None</td>\n",
       "      <td>None</td>\n",
       "      <td>None</td>\n",
       "      <td>None</td>\n",
       "      <td>POINT (-105.28846 40.01457)</td>\n",
       "      <td>-105.288460</td>\n",
       "      <td>40.014568</td>\n",
       "      <td>9xj5</td>\n",
       "    </tr>\n",
       "    <tr>\n",
       "      <th>4</th>\n",
       "      <td>1490667221</td>\n",
       "      <td>3</td>\n",
       "      <td>None</td>\n",
       "      <td>40.028702</td>\n",
       "      <td>0</td>\n",
       "      <td>-105.226509</td>\n",
       "      <td>26261196</td>\n",
       "      <td>0</td>\n",
       "      <td>None</td>\n",
       "      <td>None</td>\n",
       "      <td>...</td>\n",
       "      <td>None</td>\n",
       "      <td>None</td>\n",
       "      <td>None</td>\n",
       "      <td>None</td>\n",
       "      <td>None</td>\n",
       "      <td>None</td>\n",
       "      <td>POINT (-105.22651 40.02870)</td>\n",
       "      <td>-105.226509</td>\n",
       "      <td>40.028702</td>\n",
       "      <td>9xj5</td>\n",
       "    </tr>\n",
       "  </tbody>\n",
       "</table>\n",
       "<p>5 rows × 77 columns</p>\n",
       "</div>"
      ],
      "text/plain": [
       "    timestamp  version                                               tags  \\\n",
       "0  1705366437        4    {'brand': 'Chase', 'brand:wikidata': 'Q524629'}   \n",
       "1  1705367256        5  {'addr:state': 'CO', 'brand': 'King Soopers', ...   \n",
       "2  1694236071       14                                               None   \n",
       "3  1172738768        1                  {'created_by': 'YahooApplet 1.0'}   \n",
       "4  1490667221        3                                               None   \n",
       "\n",
       "         lat visible         lon        id  changeset addr:city addr:country  \\\n",
       "0  36.979366       0 -122.020729  15972546          0      None         None   \n",
       "1  39.985477       0 -105.249260  25698637          0   Boulder         None   \n",
       "2  39.984219       0 -105.249298  25782064          0      None         None   \n",
       "3  40.014568       0 -105.288460  26260724          0      None         None   \n",
       "4  40.028702       0 -105.226509  26261196          0      None         None   \n",
       "\n",
       "   ... food_court childcare cinema nightclub  taxi car_rental  \\\n",
       "0  ...       None      None   None      None  None       None   \n",
       "1  ...       None      None   None      None  None       None   \n",
       "2  ...       None      None   None      None  None       None   \n",
       "3  ...       None      None   None      None  None       None   \n",
       "4  ...       None      None   None      None  None       None   \n",
       "\n",
       "                      geometry           x          y geohash  \n",
       "0  POINT (-122.02073 36.97937) -122.020729  36.979366    9q94  \n",
       "1  POINT (-105.24926 39.98548) -105.249260  39.985477    9xj5  \n",
       "2  POINT (-105.24930 39.98422) -105.249298  39.984219    9xj5  \n",
       "3  POINT (-105.28846 40.01457) -105.288460  40.014568    9xj5  \n",
       "4  POINT (-105.22651 40.02870) -105.226509  40.028702    9xj5  \n",
       "\n",
       "[5 rows x 77 columns]"
      ]
     },
     "execution_count": 13,
     "metadata": {},
     "output_type": "execute_result"
    }
   ],
   "source": [
    "gdf.head()"
   ]
  },
  {
   "cell_type": "code",
   "execution_count": 35,
   "id": "8528d962-2130-4a8c-994b-88d8b5080243",
   "metadata": {
    "execution": {
     "iopub.execute_input": "2024-03-19T19:39:26.465354Z",
     "iopub.status.busy": "2024-03-19T19:39:26.464968Z",
     "iopub.status.idle": "2024-03-19T20:01:52.211318Z",
     "shell.execute_reply": "2024-03-19T20:01:52.210403Z",
     "shell.execute_reply.started": "2024-03-19T19:39:26.465331Z"
    }
   },
   "outputs": [],
   "source": [
    "gdf.sort_values('geohash')[cols]\\\n",
    ".to_file(f\"../data/osm/{asset}_gh_sorted.geojson\",driver=\"GeoJSON\")"
   ]
  },
  {
   "cell_type": "code",
   "execution_count": 41,
   "id": "d98ea201-cd79-4bd9-9dbe-6c853cf500d2",
   "metadata": {
    "execution": {
     "iopub.execute_input": "2024-03-19T22:50:14.679691Z",
     "iopub.status.busy": "2024-03-19T22:50:14.679230Z",
     "iopub.status.idle": "2024-03-19T22:51:17.583929Z",
     "shell.execute_reply": "2024-03-19T22:51:17.583253Z",
     "shell.execute_reply.started": "2024-03-19T22:50:14.679663Z"
    }
   },
   "outputs": [
    {
     "data": {
      "text/plain": [
       "<Axes: >"
      ]
     },
     "execution_count": 41,
     "metadata": {},
     "output_type": "execute_result"
    },
    {
     "data": {
      "image/png": "[encoded data removed]",
      "text/plain": [
       "<Figure size 640x480 with 1 Axes>"
      ]
     },
     "metadata": {},
     "output_type": "display_data"
    }
   ],
   "source": [
    "out.plot()"
   ]
  },
  {
   "cell_type": "code",
   "execution_count": null,
   "id": "14a59457-4e6f-4668-85ef-a1ac430f3b9f",
   "metadata": {},
   "outputs": [],
   "source": []
  }
 ],
 "metadata": {
  "kernelspec": {
   "display_name": "Python 3 (ipykernel)",
   "language": "python",
   "name": "python3"
  },
  "language_info": {
   "codemirror_mode": {
    "name": "ipython",
    "version": 3
   },
   "file_extension": ".py",
   "mimetype": "text/x-python",
   "name": "python",
   "nbconvert_exporter": "python",
   "pygments_lexer": "ipython3",
   "version": "3.9.12"
  }
 },
 "nbformat": 4,
 "nbformat_minor": 5
}
