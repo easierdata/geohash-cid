{
 "cells": [
  {
   "cell_type": "markdown",
   "id": "c1529720-a727-4d4c-90d3-f75d08915d2c",
   "metadata": {},
   "source": [
    "# Geohash + CID\n"
   ]
  },
  {
   "cell_type": "code",
   "execution_count": null,
   "id": "2009cb35-b094-4ba6-8147-939c5f969c68",
   "metadata": {
    "tags": []
   },
   "outputs": [],
   "source": [
    "#!pip install pygeohash"
   ]
  },
  {
   "cell_type": "code",
   "execution_count": 1,
   "id": "e359314b-ceb1-4b92-a81f-cc3f497e20e4",
   "metadata": {
    "execution": {
     "iopub.execute_input": "2024-03-11T22:40:04.579965Z",
     "iopub.status.busy": "2024-03-11T22:40:04.579505Z",
     "iopub.status.idle": "2024-03-11T22:40:11.049121Z",
     "shell.execute_reply": "2024-03-11T22:40:11.048521Z",
     "shell.execute_reply.started": "2024-03-11T22:40:04.579929Z"
    },
    "tags": []
   },
   "outputs": [
    {
     "name": "stderr",
     "output_type": "stream",
     "text": [
      "WARNING:root:Numpy and Numba are soft dependencies to use the numba geohashing functions. \n",
      "Can only import/use native python functions.\n"
     ]
    },
    {
     "name": "stdout",
     "output_type": "stream",
     "text": [
      "ipfs path /gpfs/data1/oshangp/easier/textile/kubo/ipfs\n"
     ]
    }
   ],
   "source": [
    "import pygeohash as pgh\n",
    "##load geojson\n",
    "import geopandas as gpd\n",
    "import pandas as pd\n",
    "import os\n",
    "import sys\n",
    "sys.path.append(\"../\")\n",
    "from geohashtree.geohashtree import LiteTreeOffset, LiteTreeCID, FullTreeFile\n",
    "from geohashtree.filesystem import ipfs_add_feature,ipfs_add_index_folder"
   ]
  },
  {
   "cell_type": "code",
   "execution_count": 2,
   "id": "35a09b02-05b1-44d4-b092-cd7ded43dd89",
   "metadata": {
    "execution": {
     "iopub.execute_input": "2024-02-26T22:41:19.415290Z",
     "iopub.status.busy": "2024-02-26T22:41:19.413669Z",
     "iopub.status.idle": "2024-02-26T22:41:19.424337Z",
     "shell.execute_reply": "2024-02-26T22:41:19.423158Z",
     "shell.execute_reply.started": "2024-02-26T22:41:19.415184Z"
    }
   },
   "outputs": [],
   "source": [
    "asset = \"dc_restaurants\"\n",
    "geojson_path = f\"../assets/{asset}.geojson\"\n",
    "index_path = f\"../data/geohash_offset_{asset}/index\""
   ]
  },
  {
   "cell_type": "markdown",
   "id": "a1d7c37e-89cf-493c-a72e-e1ca40746ef0",
   "metadata": {},
   "source": [
    "## Detached tree with offset\n",
    "### Index Preparation\n",
    "using one large file + lite index tree with offset"
   ]
  },
  {
   "cell_type": "code",
   "execution_count": null,
   "id": "1b5d8716-d6d7-4888-bd48-a751e4d8c948",
   "metadata": {},
   "outputs": [],
   "source": [
    "offsettree = LiteTreeOffset()\n",
    "offsettree.add_from_geojson(geojson_path)\n",
    "offsettree.generate_tree_index(index_path)"
   ]
  },
  {
   "cell_type": "markdown",
   "id": "2e48f42f-a5c2-4f0c-a794-39fdd284ada9",
   "metadata": {},
   "source": [
    "### Onloading"
   ]
  },
  {
   "cell_type": "code",
   "execution_count": null,
   "id": "4589e730-e394-469f-9366-4c1a2fa8da48",
   "metadata": {},
   "outputs": [],
   "source": [
    "ipfs_add_index_folder(index_path)"
   ]
  },
  {
   "cell_type": "code",
   "execution_count": 5,
   "id": "9ff5f451-b00a-4bda-b038-2992f6ca60a6",
   "metadata": {
    "execution": {
     "iopub.execute_input": "2024-02-26T22:44:10.021193Z",
     "iopub.status.busy": "2024-02-26T22:44:10.019482Z",
     "iopub.status.idle": "2024-02-26T22:44:10.029657Z",
     "shell.execute_reply": "2024-02-26T22:44:10.028345Z",
     "shell.execute_reply.started": "2024-02-26T22:44:10.021084Z"
    }
   },
   "outputs": [],
   "source": [
    "index_cid = \"bafybeib6ex2onm2wk5wxrdfe73l4m3la3c35nr5f4b4trbtidqaofduqiu\""
   ]
  },
  {
   "cell_type": "code",
   "execution_count": 6,
   "id": "e351f64a-002a-4f65-b506-50b0c3153637",
   "metadata": {
    "execution": {
     "iopub.execute_input": "2024-02-26T22:44:11.526881Z",
     "iopub.status.busy": "2024-02-26T22:44:11.526423Z",
     "iopub.status.idle": "2024-02-26T22:44:12.160317Z",
     "shell.execute_reply": "2024-02-26T22:44:12.159946Z",
     "shell.execute_reply.started": "2024-02-26T22:44:11.526853Z"
    }
   },
   "outputs": [
    {
     "data": {
      "text/plain": [
       "'bafybeia7jlkyzt22qgh66felldr322l5c7jdvm4xspr222f4usnd2ttbze'"
      ]
     },
     "execution_count": 6,
     "metadata": {},
     "output_type": "execute_result"
    }
   ],
   "source": [
    "ipfs_add_feature(geojson_path)"
   ]
  },
  {
   "cell_type": "code",
   "execution_count": null,
   "id": "59e4e0c8-c336-4e50-b48a-fddff0894d30",
   "metadata": {},
   "outputs": [],
   "source": [
    "cid = \"bafybeia7jlkyzt22qgh66felldr322l5c7jdvm4xspr222f4usnd2ttbze\""
   ]
  },
  {
   "cell_type": "code",
   "execution_count": null,
   "id": "5f2a689c-1fbd-43ef-88f0-0f4ecb4600bc",
   "metadata": {},
   "outputs": [],
   "source": [
    "##debugging\n",
    "# import subprocess\n",
    "\n",
    "# of,lg = (6266126, 4005)\n",
    "\n",
    "# result = subprocess.run(['ipfs', 'cat', cid, \"-o\",str(of),\"-l\",str(lg)], stdout=subprocess.PIPE, check=True, text=True)"
   ]
  },
  {
   "cell_type": "markdown",
   "id": "ef3e8339-ca4e-4999-b0b2-50f91cfda199",
   "metadata": {},
   "source": [
    "## Spatial query\n",
    "Perform a spatial query and return a list of geohashes"
   ]
  },
  {
   "cell_type": "code",
   "execution_count": 3,
   "id": "dc9b9850-5cea-428e-9351-c7a3e261929d",
   "metadata": {
    "execution": {
     "iopub.execute_input": "2024-02-21T05:25:55.115898Z",
     "iopub.status.busy": "2024-02-21T05:25:55.114226Z",
     "iopub.status.idle": "2024-02-21T05:25:55.126350Z",
     "shell.execute_reply": "2024-02-21T05:25:55.125174Z",
     "shell.execute_reply.started": "2024-02-21T05:25:55.115812Z"
    }
   },
   "outputs": [],
   "source": [
    "geohashes = ['dqcjy',\n",
    " 'dqcjz',\n",
    " 'dqcjw',\n",
    " 'dqcjv',\n",
    " 'dqcjx',\n",
    " 'dqcjq',\n",
    " 'dqcjt',\n",
    " 'dqcju',\n",
    " 'dqcjr',\n",
    " 'dqcjm',\n",
    " 'dqcjs',\n",
    " 'dqcjg',\n",
    " 'dqcjk',\n",
    " 'dqcnn',\n",
    " 'dqcnq',\n",
    " 'dqcnp',\n",
    " 'dqcnj',\n",
    " 'dqcnr',\n",
    " 'dqcnm',\n",
    " 'dqcnh',\n",
    " 'dqcnk',\n",
    " 'dqcmb',\n",
    " 'dqcm8',\n",
    " 'dqcm2',\n",
    " 'dqcq0']"
   ]
  },
  {
   "cell_type": "code",
   "execution_count": null,
   "id": "99e5a937-3112-461b-a4ab-ce879658fc47",
   "metadata": {},
   "outputs": [],
   "source": [
    "geohashes = ['dqcnn', 'dqcjz', 'dqcjw', 'dqcjv', 'dqcnp', 'dqcjx', 'dqcjt', 'dqcnj']"
   ]
  },
  {
   "cell_type": "markdown",
   "id": "c7e0c96c-a124-41a4-bc65-754008a25c5f",
   "metadata": {},
   "source": [
    "## Feature Retrieval"
   ]
  },
  {
   "cell_type": "code",
   "execution_count": null,
   "id": "0ad48293-9466-4e6a-95fd-629c63da1c7e",
   "metadata": {},
   "outputs": [],
   "source": [
    "offsettree.query(geohashes,index_cid)"
   ]
  },
  {
   "cell_type": "code",
   "execution_count": null,
   "id": "4e6dca77-e550-4bb5-b0f0-07e829d689f7",
   "metadata": {},
   "outputs": [],
   "source": [
    "offsettree.retrieve(geohashes,index_cid)"
   ]
  },
  {
   "cell_type": "markdown",
   "id": "24412ef1-326c-4d55-9f7a-e50d68afa1d5",
   "metadata": {},
   "source": [
    "## Detached tree with CID"
   ]
  },
  {
   "cell_type": "code",
   "execution_count": null,
   "id": "66de62f6-032a-43ac-9ed0-d62c26aacfd7",
   "metadata": {},
   "outputs": [],
   "source": [
    "#Entire workflow for LiteTreeCID\n",
    "\n",
    "asset = \"dc_restaurants\"\n",
    "geojson_path = f\"../assets/{asset}.geojson\"\n",
    "index_path = f\"../data/geohash_cid_{asset}/index\"\n",
    "pieces_path = f\"../data/geohash_cid_{asset}\"\n",
    "cidtree = LiteTreeCID()\n",
    "cidtree.add_from_geojson(geojson_path,pieces_path)"
   ]
  },
  {
   "cell_type": "code",
   "execution_count": null,
   "id": "9e3d5bd1-61b8-453f-a723-2f9601ec54c9",
   "metadata": {},
   "outputs": [],
   "source": [
    "cidtree.generate_tree_index(index_path)"
   ]
  },
  {
   "cell_type": "code",
   "execution_count": null,
   "id": "df2f6684-3c77-4575-82d2-c72eb5081dd4",
   "metadata": {},
   "outputs": [],
   "source": []
  },
  {
   "cell_type": "code",
   "execution_count": null,
   "id": "25b337f8-b002-4598-b17c-0f9948f4e7c0",
   "metadata": {},
   "outputs": [],
   "source": [
    "import glob\n",
    "piece_files = glob.glob(pieces_path+\"/*.geojson\")"
   ]
  },
  {
   "cell_type": "code",
   "execution_count": null,
   "id": "5946c0ed-68b4-4013-bc50-4aff1b184b14",
   "metadata": {},
   "outputs": [],
   "source": [
    "ipfs_add_feature(piece_files)"
   ]
  },
  {
   "cell_type": "code",
   "execution_count": null,
   "id": "0dbb5a0d-565f-43d4-b93d-f360fd898a0b",
   "metadata": {},
   "outputs": [],
   "source": [
    "geojson_path"
   ]
  },
  {
   "cell_type": "code",
   "execution_count": null,
   "id": "a197dde9-96c9-4e07-987b-5528a2965d35",
   "metadata": {},
   "outputs": [],
   "source": [
    "geohashes = ['dqcnn', 'dqcjz', 'dqcjw', 'dqcjv', 'dqcnp', 'dqcjx', 'dqcjt', 'dqcnj']"
   ]
  },
  {
   "cell_type": "code",
   "execution_count": null,
   "id": "59e0faf6-5324-461a-9809-df40a1e52509",
   "metadata": {},
   "outputs": [],
   "source": [
    "cids = cidtree.query(geohashes,index_path)"
   ]
  },
  {
   "cell_type": "code",
   "execution_count": null,
   "id": "930e10a5-8b8c-4b42-9bd9-8049620600d3",
   "metadata": {},
   "outputs": [],
   "source": [
    "len(cids)"
   ]
  },
  {
   "cell_type": "code",
   "execution_count": null,
   "id": "6251576b-2113-46cf-8bcd-4cac82b5546d",
   "metadata": {},
   "outputs": [],
   "source": [
    "ret = cidtree.retrieve(geohashes,index_path)"
   ]
  },
  {
   "cell_type": "code",
   "execution_count": null,
   "id": "9e4f2b1d-7398-49e1-88b7-5c5a3c829438",
   "metadata": {},
   "outputs": [],
   "source": [
    "from geohashtree.geohashtree import FullTreeFile"
   ]
  },
  {
   "cell_type": "markdown",
   "id": "aed7c1b5-78bf-4f7e-bc76-dffeeb6ec29e",
   "metadata": {},
   "source": [
    "## Attached tree with file"
   ]
  },
  {
   "cell_type": "code",
   "execution_count": null,
   "id": "65a048fd-b162-4d97-8512-d784fb23785d",
   "metadata": {
    "execution": {
     "iopub.execute_input": "2024-03-12T05:09:39.055319Z",
     "iopub.status.busy": "2024-03-12T05:09:39.054888Z",
     "iopub.status.idle": "2024-03-12T06:31:12.458627Z",
     "shell.execute_reply": "2024-03-12T06:31:12.458058Z",
     "shell.execute_reply.started": "2024-03-12T05:09:39.055293Z"
    }
   },
   "outputs": [],
   "source": [
    "#Entire workflow for FullTreeFile\n",
    "\n",
    "asset = \"us_places_100k\"\n",
    "geojson_path = f\"../data/overture/{asset}.geojson\"\n",
    "index_path = f\"../data/geohash_full_{asset}/index\""
   ]
  },
  {
   "cell_type": "code",
   "execution_count": null,
   "id": "c07a886e-4970-483c-b75d-4caf590c0520",
   "metadata": {
    "execution": {
     "iopub.execute_input": "2024-03-12T05:09:39.055319Z",
     "iopub.status.busy": "2024-03-12T05:09:39.054888Z",
     "iopub.status.idle": "2024-03-12T06:31:12.458627Z",
     "shell.execute_reply": "2024-03-12T06:31:12.458058Z",
     "shell.execute_reply.started": "2024-03-12T05:09:39.055293Z"
    }
   },
   "outputs": [],
   "source": [
    "fulltree = FullTreeFile()\n",
    "fulltree.add_from_geojson(geojson_path)\n",
    "fulltree.generate_tree_index(index_path)\n",
    "ipfs_add_index_folder(index_path)"
   ]
  },
  {
   "cell_type": "code",
   "execution_count": 3,
   "id": "3a28b513-6ed6-4a1d-b63f-bdedb9c970eb",
   "metadata": {
    "execution": {
     "iopub.execute_input": "2024-03-11T22:41:27.001649Z",
     "iopub.status.busy": "2024-03-11T22:41:27.001259Z",
     "iopub.status.idle": "2024-03-11T22:41:27.004888Z",
     "shell.execute_reply": "2024-03-11T22:41:27.004295Z",
     "shell.execute_reply.started": "2024-03-11T22:41:27.001625Z"
    }
   },
   "outputs": [],
   "source": [
    "geohashes = ['dqcnn', 'dqcjz', 'dqcjw', 'dqcjv', 'dqcnp', 'dqcjx', 'dqcjt', 'dqcnj']"
   ]
  },
  {
   "cell_type": "code",
   "execution_count": null,
   "id": "a4ffc66c-27d6-4dc8-b007-314566a80825",
   "metadata": {},
   "outputs": [],
   "source": [
    "cid = \"bafybeiez73pdnpevvoptzft54zmljj54di2pp44slk67wfeo7uz5hdbqoe/d/dq/dqc/dqcn/dqcnn\""
   ]
  },
  {
   "cell_type": "code",
   "execution_count": 4,
   "id": "067cbed4-46f6-4120-ac17-999a6150d2dd",
   "metadata": {
    "execution": {
     "iopub.execute_input": "2024-03-11T22:41:35.670645Z",
     "iopub.status.busy": "2024-03-11T22:41:35.670247Z",
     "iopub.status.idle": "2024-03-11T22:41:40.009911Z",
     "shell.execute_reply": "2024-03-11T22:41:40.008845Z",
     "shell.execute_reply.started": "2024-03-11T22:41:35.670619Z"
    }
   },
   "outputs": [
    {
     "ename": "NameError",
     "evalue": "name 'cid' is not defined",
     "output_type": "error",
     "traceback": [
      "\u001b[0;31m---------------------------------------------------------------------------\u001b[0m",
      "\u001b[0;31mNameError\u001b[0m                                 Traceback (most recent call last)",
      "Cell \u001b[0;32mIn[4], line 2\u001b[0m\n\u001b[1;32m      1\u001b[0m \u001b[38;5;28;01mimport\u001b[39;00m \u001b[38;5;21;01mos\u001b[39;00m\n\u001b[0;32m----> 2\u001b[0m os\u001b[38;5;241m.\u001b[39mpath\u001b[38;5;241m.\u001b[39mjoin(\u001b[43mcid\u001b[49m,\u001b[38;5;124m\"\u001b[39m\u001b[38;5;124mdqcnn0.geojson\u001b[39m\u001b[38;5;124m\"\u001b[39m)\n",
      "\u001b[0;31mNameError\u001b[0m: name 'cid' is not defined"
     ]
    }
   ],
   "source": [
    "import os\n",
    "os.path.join(cid,\"dqcnn0.geojson\")"
   ]
  },
  {
   "cell_type": "code",
   "execution_count": 5,
   "id": "732175ae-61b1-4787-959f-afda6a092109",
   "metadata": {
    "execution": {
     "iopub.execute_input": "2024-03-11T22:41:42.458738Z",
     "iopub.status.busy": "2024-03-11T22:41:42.458146Z",
     "iopub.status.idle": "2024-03-11T22:41:42.462796Z",
     "shell.execute_reply": "2024-03-11T22:41:42.461880Z",
     "shell.execute_reply.started": "2024-03-11T22:41:42.458707Z"
    }
   },
   "outputs": [],
   "source": [
    "index_cid = \"bafybeiez73pdnpevvoptzft54zmljj54di2pp44slk67wfeo7uz5hdbqoe\""
   ]
  },
  {
   "cell_type": "code",
   "execution_count": 6,
   "id": "1e944a45-cafb-4fff-8e7c-174c0409ef78",
   "metadata": {
    "execution": {
     "iopub.execute_input": "2024-03-11T22:41:44.534332Z",
     "iopub.status.busy": "2024-03-11T22:41:44.533733Z",
     "iopub.status.idle": "2024-03-11T22:41:50.585913Z",
     "shell.execute_reply": "2024-03-11T22:41:50.584729Z",
     "shell.execute_reply.started": "2024-03-11T22:41:44.534292Z"
    }
   },
   "outputs": [],
   "source": [
    "results = fulltree.query(geohashes,index_cid)"
   ]
  },
  {
   "cell_type": "code",
   "execution_count": 7,
   "id": "95eabf09-2849-49c1-8729-803d4130f0ef",
   "metadata": {
    "execution": {
     "iopub.execute_input": "2024-03-11T22:41:55.011354Z",
     "iopub.status.busy": "2024-03-11T22:41:55.010701Z",
     "iopub.status.idle": "2024-03-11T22:41:55.020553Z",
     "shell.execute_reply": "2024-03-11T22:41:55.019788Z",
     "shell.execute_reply.started": "2024-03-11T22:41:55.011316Z"
    }
   },
   "outputs": [
    {
     "data": {
      "text/plain": [
       "329"
      ]
     },
     "execution_count": 7,
     "metadata": {},
     "output_type": "execute_result"
    }
   ],
   "source": [
    "len(results)"
   ]
  },
  {
   "cell_type": "code",
   "execution_count": 8,
   "id": "bbdfa6ec-2eaf-410c-8e3c-07c0667bcb07",
   "metadata": {
    "execution": {
     "iopub.execute_input": "2024-03-11T22:41:56.667552Z",
     "iopub.status.busy": "2024-03-11T22:41:56.667001Z",
     "iopub.status.idle": "2024-03-11T22:41:56.753797Z",
     "shell.execute_reply": "2024-03-11T22:41:56.753013Z",
     "shell.execute_reply.started": "2024-03-11T22:41:56.667522Z"
    }
   },
   "outputs": [
    {
     "data": {
      "text/html": [
       "<div>\n",
       "<style scoped>\n",
       "    .dataframe tbody tr th:only-of-type {\n",
       "        vertical-align: middle;\n",
       "    }\n",
       "\n",
       "    .dataframe tbody tr th {\n",
       "        vertical-align: top;\n",
       "    }\n",
       "\n",
       "    .dataframe thead th {\n",
       "        text-align: right;\n",
       "    }\n",
       "</style>\n",
       "<table border=\"1\" class=\"dataframe\">\n",
       "  <thead>\n",
       "    <tr style=\"text-align: right;\">\n",
       "      <th></th>\n",
       "      <th>full_id</th>\n",
       "      <th>osm_id</th>\n",
       "      <th>osm_type</th>\n",
       "      <th>amenity</th>\n",
       "      <th>atm</th>\n",
       "      <th>opening_hours:bar</th>\n",
       "      <th>survey:date</th>\n",
       "      <th>brewery</th>\n",
       "      <th>payment:cheque</th>\n",
       "      <th>tourism</th>\n",
       "      <th>...</th>\n",
       "      <th>addr:street</th>\n",
       "      <th>addr:state</th>\n",
       "      <th>addr:postcode</th>\n",
       "      <th>addr:housenumber</th>\n",
       "      <th>addr:city</th>\n",
       "      <th>entrance</th>\n",
       "      <th>x</th>\n",
       "      <th>y</th>\n",
       "      <th>geohash</th>\n",
       "      <th>geometry</th>\n",
       "    </tr>\n",
       "  </thead>\n",
       "  <tbody>\n",
       "    <tr>\n",
       "      <th>0</th>\n",
       "      <td>n1366294218</td>\n",
       "      <td>1366294218</td>\n",
       "      <td>node</td>\n",
       "      <td>restaurant</td>\n",
       "      <td>None</td>\n",
       "      <td>None</td>\n",
       "      <td>None</td>\n",
       "      <td>None</td>\n",
       "      <td>None</td>\n",
       "      <td>None</td>\n",
       "      <td>...</td>\n",
       "      <td>Connecticut Avenue</td>\n",
       "      <td>MD</td>\n",
       "      <td>20895</td>\n",
       "      <td>10508</td>\n",
       "      <td>Kensington</td>\n",
       "      <td>None</td>\n",
       "      <td>-77.077347</td>\n",
       "      <td>39.028378</td>\n",
       "      <td>dqcnn0</td>\n",
       "      <td>POINT (-77.07735 39.02838)</td>\n",
       "    </tr>\n",
       "    <tr>\n",
       "      <th>1</th>\n",
       "      <td>n5613751173</td>\n",
       "      <td>5613751173</td>\n",
       "      <td>node</td>\n",
       "      <td>restaurant</td>\n",
       "      <td>None</td>\n",
       "      <td>None</td>\n",
       "      <td>None</td>\n",
       "      <td>None</td>\n",
       "      <td>None</td>\n",
       "      <td>None</td>\n",
       "      <td>...</td>\n",
       "      <td>Armory Avenue</td>\n",
       "      <td>MD</td>\n",
       "      <td>20895</td>\n",
       "      <td>10417</td>\n",
       "      <td>Kensington</td>\n",
       "      <td>None</td>\n",
       "      <td>-77.074518</td>\n",
       "      <td>39.027431</td>\n",
       "      <td>dqcnn0</td>\n",
       "      <td>POINT (-77.07452 39.02743)</td>\n",
       "    </tr>\n",
       "    <tr>\n",
       "      <th>2</th>\n",
       "      <td>n7189139268</td>\n",
       "      <td>7189139268</td>\n",
       "      <td>node</td>\n",
       "      <td>restaurant</td>\n",
       "      <td>None</td>\n",
       "      <td>None</td>\n",
       "      <td>None</td>\n",
       "      <td>None</td>\n",
       "      <td>None</td>\n",
       "      <td>None</td>\n",
       "      <td>...</td>\n",
       "      <td>Metropolitan Avenue</td>\n",
       "      <td>MD</td>\n",
       "      <td>20895</td>\n",
       "      <td>10509</td>\n",
       "      <td>Kensington</td>\n",
       "      <td>None</td>\n",
       "      <td>-77.071348</td>\n",
       "      <td>39.027516</td>\n",
       "      <td>dqcnn0</td>\n",
       "      <td>POINT (-77.07135 39.02752)</td>\n",
       "    </tr>\n",
       "    <tr>\n",
       "      <th>3</th>\n",
       "      <td>n8402911162</td>\n",
       "      <td>8402911162</td>\n",
       "      <td>node</td>\n",
       "      <td>restaurant</td>\n",
       "      <td>None</td>\n",
       "      <td>None</td>\n",
       "      <td>None</td>\n",
       "      <td>None</td>\n",
       "      <td>None</td>\n",
       "      <td>None</td>\n",
       "      <td>...</td>\n",
       "      <td>Kensington Parkway</td>\n",
       "      <td>MD</td>\n",
       "      <td>20895</td>\n",
       "      <td>10301</td>\n",
       "      <td>Kensington</td>\n",
       "      <td>None</td>\n",
       "      <td>-77.070937</td>\n",
       "      <td>39.025357</td>\n",
       "      <td>dqcnn0</td>\n",
       "      <td>POINT (-77.07094 39.02536)</td>\n",
       "    </tr>\n",
       "    <tr>\n",
       "      <th>4</th>\n",
       "      <td>n8504662317</td>\n",
       "      <td>8504662317</td>\n",
       "      <td>node</td>\n",
       "      <td>restaurant</td>\n",
       "      <td>None</td>\n",
       "      <td>None</td>\n",
       "      <td>None</td>\n",
       "      <td>None</td>\n",
       "      <td>None</td>\n",
       "      <td>None</td>\n",
       "      <td>...</td>\n",
       "      <td>Howard Avenue</td>\n",
       "      <td>MD</td>\n",
       "      <td>20895</td>\n",
       "      <td>3784</td>\n",
       "      <td>Kensington</td>\n",
       "      <td>None</td>\n",
       "      <td>-77.074266</td>\n",
       "      <td>39.027745</td>\n",
       "      <td>dqcnn0</td>\n",
       "      <td>POINT (-77.07427 39.02775)</td>\n",
       "    </tr>\n",
       "    <tr>\n",
       "      <th>...</th>\n",
       "      <td>...</td>\n",
       "      <td>...</td>\n",
       "      <td>...</td>\n",
       "      <td>...</td>\n",
       "      <td>...</td>\n",
       "      <td>...</td>\n",
       "      <td>...</td>\n",
       "      <td>...</td>\n",
       "      <td>...</td>\n",
       "      <td>...</td>\n",
       "      <td>...</td>\n",
       "      <td>...</td>\n",
       "      <td>...</td>\n",
       "      <td>...</td>\n",
       "      <td>...</td>\n",
       "      <td>...</td>\n",
       "      <td>...</td>\n",
       "      <td>...</td>\n",
       "      <td>...</td>\n",
       "      <td>...</td>\n",
       "      <td>...</td>\n",
       "    </tr>\n",
       "    <tr>\n",
       "      <th>7</th>\n",
       "      <td>n6348525382</td>\n",
       "      <td>6348525382</td>\n",
       "      <td>node</td>\n",
       "      <td>restaurant</td>\n",
       "      <td>None</td>\n",
       "      <td>None</td>\n",
       "      <td>None</td>\n",
       "      <td>None</td>\n",
       "      <td>None</td>\n",
       "      <td>None</td>\n",
       "      <td>...</td>\n",
       "      <td>Twinbrook Parkway</td>\n",
       "      <td>MD</td>\n",
       "      <td>20852</td>\n",
       "      <td>12303</td>\n",
       "      <td>Rockville</td>\n",
       "      <td>None</td>\n",
       "      <td>-77.119616</td>\n",
       "      <td>39.058517</td>\n",
       "      <td>dqcnjn</td>\n",
       "      <td>POINT (-77.11962 39.05852)</td>\n",
       "    </tr>\n",
       "    <tr>\n",
       "      <th>8</th>\n",
       "      <td>n8735325466</td>\n",
       "      <td>8735325466</td>\n",
       "      <td>node</td>\n",
       "      <td>restaurant</td>\n",
       "      <td>None</td>\n",
       "      <td>None</td>\n",
       "      <td>None</td>\n",
       "      <td>None</td>\n",
       "      <td>None</td>\n",
       "      <td>None</td>\n",
       "      <td>...</td>\n",
       "      <td>Rockville Pike</td>\n",
       "      <td>None</td>\n",
       "      <td>None</td>\n",
       "      <td>12668</td>\n",
       "      <td>None</td>\n",
       "      <td>None</td>\n",
       "      <td>-77.122540</td>\n",
       "      <td>39.057150</td>\n",
       "      <td>dqcnjn</td>\n",
       "      <td>POINT (-77.12254 39.05715)</td>\n",
       "    </tr>\n",
       "    <tr>\n",
       "      <th>0</th>\n",
       "      <td>n11113180851</td>\n",
       "      <td>11113180851</td>\n",
       "      <td>node</td>\n",
       "      <td>restaurant</td>\n",
       "      <td>None</td>\n",
       "      <td>None</td>\n",
       "      <td>None</td>\n",
       "      <td>None</td>\n",
       "      <td>None</td>\n",
       "      <td>None</td>\n",
       "      <td>...</td>\n",
       "      <td>Wilkins Court</td>\n",
       "      <td>None</td>\n",
       "      <td>None</td>\n",
       "      <td>12307</td>\n",
       "      <td>None</td>\n",
       "      <td>None</td>\n",
       "      <td>-77.112674</td>\n",
       "      <td>39.057823</td>\n",
       "      <td>dqcnjq</td>\n",
       "      <td>POINT (-77.11267 39.05782)</td>\n",
       "    </tr>\n",
       "    <tr>\n",
       "      <th>0</th>\n",
       "      <td>n633618682</td>\n",
       "      <td>633618682</td>\n",
       "      <td>node</td>\n",
       "      <td>restaurant</td>\n",
       "      <td>None</td>\n",
       "      <td>None</td>\n",
       "      <td>None</td>\n",
       "      <td>None</td>\n",
       "      <td>None</td>\n",
       "      <td>None</td>\n",
       "      <td>...</td>\n",
       "      <td>None</td>\n",
       "      <td>None</td>\n",
       "      <td>None</td>\n",
       "      <td>None</td>\n",
       "      <td>None</td>\n",
       "      <td>None</td>\n",
       "      <td>-77.099084</td>\n",
       "      <td>39.046104</td>\n",
       "      <td>dqcnjs</td>\n",
       "      <td>POINT (-77.09908 39.04610)</td>\n",
       "    </tr>\n",
       "    <tr>\n",
       "      <th>1</th>\n",
       "      <td>n1206440535</td>\n",
       "      <td>1206440535</td>\n",
       "      <td>node</td>\n",
       "      <td>restaurant</td>\n",
       "      <td>None</td>\n",
       "      <td>None</td>\n",
       "      <td>None</td>\n",
       "      <td>None</td>\n",
       "      <td>None</td>\n",
       "      <td>None</td>\n",
       "      <td>...</td>\n",
       "      <td>None</td>\n",
       "      <td>None</td>\n",
       "      <td>None</td>\n",
       "      <td>None</td>\n",
       "      <td>None</td>\n",
       "      <td>None</td>\n",
       "      <td>-77.098852</td>\n",
       "      <td>39.046115</td>\n",
       "      <td>dqcnjs</td>\n",
       "      <td>POINT (-77.09885 39.04611)</td>\n",
       "    </tr>\n",
       "  </tbody>\n",
       "</table>\n",
       "<p>329 rows × 182 columns</p>\n",
       "</div>"
      ],
      "text/plain": [
       "         full_id       osm_id osm_type     amenity   atm opening_hours:bar  \\\n",
       "0    n1366294218   1366294218     node  restaurant  None              None   \n",
       "1    n5613751173   5613751173     node  restaurant  None              None   \n",
       "2    n7189139268   7189139268     node  restaurant  None              None   \n",
       "3    n8402911162   8402911162     node  restaurant  None              None   \n",
       "4    n8504662317   8504662317     node  restaurant  None              None   \n",
       "..           ...          ...      ...         ...   ...               ...   \n",
       "7    n6348525382   6348525382     node  restaurant  None              None   \n",
       "8    n8735325466   8735325466     node  restaurant  None              None   \n",
       "0   n11113180851  11113180851     node  restaurant  None              None   \n",
       "0     n633618682    633618682     node  restaurant  None              None   \n",
       "1    n1206440535   1206440535     node  restaurant  None              None   \n",
       "\n",
       "   survey:date brewery payment:cheque tourism  ...          addr:street  \\\n",
       "0         None    None           None    None  ...   Connecticut Avenue   \n",
       "1         None    None           None    None  ...        Armory Avenue   \n",
       "2         None    None           None    None  ...  Metropolitan Avenue   \n",
       "3         None    None           None    None  ...   Kensington Parkway   \n",
       "4         None    None           None    None  ...        Howard Avenue   \n",
       "..         ...     ...            ...     ...  ...                  ...   \n",
       "7         None    None           None    None  ...    Twinbrook Parkway   \n",
       "8         None    None           None    None  ...       Rockville Pike   \n",
       "0         None    None           None    None  ...        Wilkins Court   \n",
       "0         None    None           None    None  ...                 None   \n",
       "1         None    None           None    None  ...                 None   \n",
       "\n",
       "   addr:state addr:postcode addr:housenumber   addr:city entrance          x  \\\n",
       "0          MD         20895            10508  Kensington     None -77.077347   \n",
       "1          MD         20895            10417  Kensington     None -77.074518   \n",
       "2          MD         20895            10509  Kensington     None -77.071348   \n",
       "3          MD         20895            10301  Kensington     None -77.070937   \n",
       "4          MD         20895             3784  Kensington     None -77.074266   \n",
       "..        ...           ...              ...         ...      ...        ...   \n",
       "7          MD         20852            12303   Rockville     None -77.119616   \n",
       "8        None          None            12668        None     None -77.122540   \n",
       "0        None          None            12307        None     None -77.112674   \n",
       "0        None          None             None        None     None -77.099084   \n",
       "1        None          None             None        None     None -77.098852   \n",
       "\n",
       "            y geohash                    geometry  \n",
       "0   39.028378  dqcnn0  POINT (-77.07735 39.02838)  \n",
       "1   39.027431  dqcnn0  POINT (-77.07452 39.02743)  \n",
       "2   39.027516  dqcnn0  POINT (-77.07135 39.02752)  \n",
       "3   39.025357  dqcnn0  POINT (-77.07094 39.02536)  \n",
       "4   39.027745  dqcnn0  POINT (-77.07427 39.02775)  \n",
       "..        ...     ...                         ...  \n",
       "7   39.058517  dqcnjn  POINT (-77.11962 39.05852)  \n",
       "8   39.057150  dqcnjn  POINT (-77.12254 39.05715)  \n",
       "0   39.057823  dqcnjq  POINT (-77.11267 39.05782)  \n",
       "0   39.046104  dqcnjs  POINT (-77.09908 39.04610)  \n",
       "1   39.046115  dqcnjs  POINT (-77.09885 39.04611)  \n",
       "\n",
       "[329 rows x 182 columns]"
      ]
     },
     "execution_count": 8,
     "metadata": {},
     "output_type": "execute_result"
    }
   ],
   "source": [
    "results"
   ]
  },
  {
   "cell_type": "code",
   "execution_count": 9,
   "id": "46dee016-7752-437f-94b9-d9b3e5bcdde4",
   "metadata": {
    "execution": {
     "iopub.execute_input": "2024-03-11T22:42:13.359618Z",
     "iopub.status.busy": "2024-03-11T22:42:13.359068Z",
     "iopub.status.idle": "2024-03-11T22:42:18.565181Z",
     "shell.execute_reply": "2024-03-11T22:42:18.563954Z",
     "shell.execute_reply.started": "2024-03-11T22:42:13.359584Z"
    }
   },
   "outputs": [],
   "source": [
    "ret = fulltree.retrieve(geohashes,index_cid)"
   ]
  },
  {
   "cell_type": "code",
   "execution_count": 10,
   "id": "5a1f6a32-2416-40cd-a28e-38da9cac51ce",
   "metadata": {
    "execution": {
     "iopub.execute_input": "2024-03-11T22:42:21.979278Z",
     "iopub.status.busy": "2024-03-11T22:42:21.978608Z",
     "iopub.status.idle": "2024-03-11T22:42:22.006024Z",
     "shell.execute_reply": "2024-03-11T22:42:22.005153Z",
     "shell.execute_reply.started": "2024-03-11T22:42:21.979243Z"
    }
   },
   "outputs": [
    {
     "data": {
      "text/html": [
       "<div>\n",
       "<style scoped>\n",
       "    .dataframe tbody tr th:only-of-type {\n",
       "        vertical-align: middle;\n",
       "    }\n",
       "\n",
       "    .dataframe tbody tr th {\n",
       "        vertical-align: top;\n",
       "    }\n",
       "\n",
       "    .dataframe thead th {\n",
       "        text-align: right;\n",
       "    }\n",
       "</style>\n",
       "<table border=\"1\" class=\"dataframe\">\n",
       "  <thead>\n",
       "    <tr style=\"text-align: right;\">\n",
       "      <th></th>\n",
       "      <th>full_id</th>\n",
       "      <th>osm_id</th>\n",
       "      <th>osm_type</th>\n",
       "      <th>amenity</th>\n",
       "      <th>atm</th>\n",
       "      <th>opening_hours:bar</th>\n",
       "      <th>survey:date</th>\n",
       "      <th>brewery</th>\n",
       "      <th>payment:cheque</th>\n",
       "      <th>tourism</th>\n",
       "      <th>...</th>\n",
       "      <th>addr:street</th>\n",
       "      <th>addr:state</th>\n",
       "      <th>addr:postcode</th>\n",
       "      <th>addr:housenumber</th>\n",
       "      <th>addr:city</th>\n",
       "      <th>entrance</th>\n",
       "      <th>x</th>\n",
       "      <th>y</th>\n",
       "      <th>geohash</th>\n",
       "      <th>geometry</th>\n",
       "    </tr>\n",
       "  </thead>\n",
       "  <tbody>\n",
       "    <tr>\n",
       "      <th>0</th>\n",
       "      <td>n1366294218</td>\n",
       "      <td>1366294218</td>\n",
       "      <td>node</td>\n",
       "      <td>restaurant</td>\n",
       "      <td>None</td>\n",
       "      <td>None</td>\n",
       "      <td>None</td>\n",
       "      <td>None</td>\n",
       "      <td>None</td>\n",
       "      <td>None</td>\n",
       "      <td>...</td>\n",
       "      <td>Connecticut Avenue</td>\n",
       "      <td>MD</td>\n",
       "      <td>20895</td>\n",
       "      <td>10508</td>\n",
       "      <td>Kensington</td>\n",
       "      <td>None</td>\n",
       "      <td>-77.077347</td>\n",
       "      <td>39.028378</td>\n",
       "      <td>dqcnn0</td>\n",
       "      <td>POINT (-77.07735 39.02838)</td>\n",
       "    </tr>\n",
       "    <tr>\n",
       "      <th>1</th>\n",
       "      <td>n5613751173</td>\n",
       "      <td>5613751173</td>\n",
       "      <td>node</td>\n",
       "      <td>restaurant</td>\n",
       "      <td>None</td>\n",
       "      <td>None</td>\n",
       "      <td>None</td>\n",
       "      <td>None</td>\n",
       "      <td>None</td>\n",
       "      <td>None</td>\n",
       "      <td>...</td>\n",
       "      <td>Armory Avenue</td>\n",
       "      <td>MD</td>\n",
       "      <td>20895</td>\n",
       "      <td>10417</td>\n",
       "      <td>Kensington</td>\n",
       "      <td>None</td>\n",
       "      <td>-77.074518</td>\n",
       "      <td>39.027431</td>\n",
       "      <td>dqcnn0</td>\n",
       "      <td>POINT (-77.07452 39.02743)</td>\n",
       "    </tr>\n",
       "    <tr>\n",
       "      <th>2</th>\n",
       "      <td>n7189139268</td>\n",
       "      <td>7189139268</td>\n",
       "      <td>node</td>\n",
       "      <td>restaurant</td>\n",
       "      <td>None</td>\n",
       "      <td>None</td>\n",
       "      <td>None</td>\n",
       "      <td>None</td>\n",
       "      <td>None</td>\n",
       "      <td>None</td>\n",
       "      <td>...</td>\n",
       "      <td>Metropolitan Avenue</td>\n",
       "      <td>MD</td>\n",
       "      <td>20895</td>\n",
       "      <td>10509</td>\n",
       "      <td>Kensington</td>\n",
       "      <td>None</td>\n",
       "      <td>-77.071348</td>\n",
       "      <td>39.027516</td>\n",
       "      <td>dqcnn0</td>\n",
       "      <td>POINT (-77.07135 39.02752)</td>\n",
       "    </tr>\n",
       "    <tr>\n",
       "      <th>3</th>\n",
       "      <td>n8402911162</td>\n",
       "      <td>8402911162</td>\n",
       "      <td>node</td>\n",
       "      <td>restaurant</td>\n",
       "      <td>None</td>\n",
       "      <td>None</td>\n",
       "      <td>None</td>\n",
       "      <td>None</td>\n",
       "      <td>None</td>\n",
       "      <td>None</td>\n",
       "      <td>...</td>\n",
       "      <td>Kensington Parkway</td>\n",
       "      <td>MD</td>\n",
       "      <td>20895</td>\n",
       "      <td>10301</td>\n",
       "      <td>Kensington</td>\n",
       "      <td>None</td>\n",
       "      <td>-77.070937</td>\n",
       "      <td>39.025357</td>\n",
       "      <td>dqcnn0</td>\n",
       "      <td>POINT (-77.07094 39.02536)</td>\n",
       "    </tr>\n",
       "    <tr>\n",
       "      <th>4</th>\n",
       "      <td>n8504662317</td>\n",
       "      <td>8504662317</td>\n",
       "      <td>node</td>\n",
       "      <td>restaurant</td>\n",
       "      <td>None</td>\n",
       "      <td>None</td>\n",
       "      <td>None</td>\n",
       "      <td>None</td>\n",
       "      <td>None</td>\n",
       "      <td>None</td>\n",
       "      <td>...</td>\n",
       "      <td>Howard Avenue</td>\n",
       "      <td>MD</td>\n",
       "      <td>20895</td>\n",
       "      <td>3784</td>\n",
       "      <td>Kensington</td>\n",
       "      <td>None</td>\n",
       "      <td>-77.074266</td>\n",
       "      <td>39.027745</td>\n",
       "      <td>dqcnn0</td>\n",
       "      <td>POINT (-77.07427 39.02775)</td>\n",
       "    </tr>\n",
       "    <tr>\n",
       "      <th>...</th>\n",
       "      <td>...</td>\n",
       "      <td>...</td>\n",
       "      <td>...</td>\n",
       "      <td>...</td>\n",
       "      <td>...</td>\n",
       "      <td>...</td>\n",
       "      <td>...</td>\n",
       "      <td>...</td>\n",
       "      <td>...</td>\n",
       "      <td>...</td>\n",
       "      <td>...</td>\n",
       "      <td>...</td>\n",
       "      <td>...</td>\n",
       "      <td>...</td>\n",
       "      <td>...</td>\n",
       "      <td>...</td>\n",
       "      <td>...</td>\n",
       "      <td>...</td>\n",
       "      <td>...</td>\n",
       "      <td>...</td>\n",
       "      <td>...</td>\n",
       "    </tr>\n",
       "    <tr>\n",
       "      <th>7</th>\n",
       "      <td>n6348525382</td>\n",
       "      <td>6348525382</td>\n",
       "      <td>node</td>\n",
       "      <td>restaurant</td>\n",
       "      <td>None</td>\n",
       "      <td>None</td>\n",
       "      <td>None</td>\n",
       "      <td>None</td>\n",
       "      <td>None</td>\n",
       "      <td>None</td>\n",
       "      <td>...</td>\n",
       "      <td>Twinbrook Parkway</td>\n",
       "      <td>MD</td>\n",
       "      <td>20852</td>\n",
       "      <td>12303</td>\n",
       "      <td>Rockville</td>\n",
       "      <td>None</td>\n",
       "      <td>-77.119616</td>\n",
       "      <td>39.058517</td>\n",
       "      <td>dqcnjn</td>\n",
       "      <td>POINT (-77.11962 39.05852)</td>\n",
       "    </tr>\n",
       "    <tr>\n",
       "      <th>8</th>\n",
       "      <td>n8735325466</td>\n",
       "      <td>8735325466</td>\n",
       "      <td>node</td>\n",
       "      <td>restaurant</td>\n",
       "      <td>None</td>\n",
       "      <td>None</td>\n",
       "      <td>None</td>\n",
       "      <td>None</td>\n",
       "      <td>None</td>\n",
       "      <td>None</td>\n",
       "      <td>...</td>\n",
       "      <td>Rockville Pike</td>\n",
       "      <td>None</td>\n",
       "      <td>None</td>\n",
       "      <td>12668</td>\n",
       "      <td>None</td>\n",
       "      <td>None</td>\n",
       "      <td>-77.122540</td>\n",
       "      <td>39.057150</td>\n",
       "      <td>dqcnjn</td>\n",
       "      <td>POINT (-77.12254 39.05715)</td>\n",
       "    </tr>\n",
       "    <tr>\n",
       "      <th>0</th>\n",
       "      <td>n11113180851</td>\n",
       "      <td>11113180851</td>\n",
       "      <td>node</td>\n",
       "      <td>restaurant</td>\n",
       "      <td>None</td>\n",
       "      <td>None</td>\n",
       "      <td>None</td>\n",
       "      <td>None</td>\n",
       "      <td>None</td>\n",
       "      <td>None</td>\n",
       "      <td>...</td>\n",
       "      <td>Wilkins Court</td>\n",
       "      <td>None</td>\n",
       "      <td>None</td>\n",
       "      <td>12307</td>\n",
       "      <td>None</td>\n",
       "      <td>None</td>\n",
       "      <td>-77.112674</td>\n",
       "      <td>39.057823</td>\n",
       "      <td>dqcnjq</td>\n",
       "      <td>POINT (-77.11267 39.05782)</td>\n",
       "    </tr>\n",
       "    <tr>\n",
       "      <th>0</th>\n",
       "      <td>n633618682</td>\n",
       "      <td>633618682</td>\n",
       "      <td>node</td>\n",
       "      <td>restaurant</td>\n",
       "      <td>None</td>\n",
       "      <td>None</td>\n",
       "      <td>None</td>\n",
       "      <td>None</td>\n",
       "      <td>None</td>\n",
       "      <td>None</td>\n",
       "      <td>...</td>\n",
       "      <td>None</td>\n",
       "      <td>None</td>\n",
       "      <td>None</td>\n",
       "      <td>None</td>\n",
       "      <td>None</td>\n",
       "      <td>None</td>\n",
       "      <td>-77.099084</td>\n",
       "      <td>39.046104</td>\n",
       "      <td>dqcnjs</td>\n",
       "      <td>POINT (-77.09908 39.04610)</td>\n",
       "    </tr>\n",
       "    <tr>\n",
       "      <th>1</th>\n",
       "      <td>n1206440535</td>\n",
       "      <td>1206440535</td>\n",
       "      <td>node</td>\n",
       "      <td>restaurant</td>\n",
       "      <td>None</td>\n",
       "      <td>None</td>\n",
       "      <td>None</td>\n",
       "      <td>None</td>\n",
       "      <td>None</td>\n",
       "      <td>None</td>\n",
       "      <td>...</td>\n",
       "      <td>None</td>\n",
       "      <td>None</td>\n",
       "      <td>None</td>\n",
       "      <td>None</td>\n",
       "      <td>None</td>\n",
       "      <td>None</td>\n",
       "      <td>-77.098852</td>\n",
       "      <td>39.046115</td>\n",
       "      <td>dqcnjs</td>\n",
       "      <td>POINT (-77.09885 39.04611)</td>\n",
       "    </tr>\n",
       "  </tbody>\n",
       "</table>\n",
       "<p>329 rows × 182 columns</p>\n",
       "</div>"
      ],
      "text/plain": [
       "         full_id       osm_id osm_type     amenity   atm opening_hours:bar  \\\n",
       "0    n1366294218   1366294218     node  restaurant  None              None   \n",
       "1    n5613751173   5613751173     node  restaurant  None              None   \n",
       "2    n7189139268   7189139268     node  restaurant  None              None   \n",
       "3    n8402911162   8402911162     node  restaurant  None              None   \n",
       "4    n8504662317   8504662317     node  restaurant  None              None   \n",
       "..           ...          ...      ...         ...   ...               ...   \n",
       "7    n6348525382   6348525382     node  restaurant  None              None   \n",
       "8    n8735325466   8735325466     node  restaurant  None              None   \n",
       "0   n11113180851  11113180851     node  restaurant  None              None   \n",
       "0     n633618682    633618682     node  restaurant  None              None   \n",
       "1    n1206440535   1206440535     node  restaurant  None              None   \n",
       "\n",
       "   survey:date brewery payment:cheque tourism  ...          addr:street  \\\n",
       "0         None    None           None    None  ...   Connecticut Avenue   \n",
       "1         None    None           None    None  ...        Armory Avenue   \n",
       "2         None    None           None    None  ...  Metropolitan Avenue   \n",
       "3         None    None           None    None  ...   Kensington Parkway   \n",
       "4         None    None           None    None  ...        Howard Avenue   \n",
       "..         ...     ...            ...     ...  ...                  ...   \n",
       "7         None    None           None    None  ...    Twinbrook Parkway   \n",
       "8         None    None           None    None  ...       Rockville Pike   \n",
       "0         None    None           None    None  ...        Wilkins Court   \n",
       "0         None    None           None    None  ...                 None   \n",
       "1         None    None           None    None  ...                 None   \n",
       "\n",
       "   addr:state addr:postcode addr:housenumber   addr:city entrance          x  \\\n",
       "0          MD         20895            10508  Kensington     None -77.077347   \n",
       "1          MD         20895            10417  Kensington     None -77.074518   \n",
       "2          MD         20895            10509  Kensington     None -77.071348   \n",
       "3          MD         20895            10301  Kensington     None -77.070937   \n",
       "4          MD         20895             3784  Kensington     None -77.074266   \n",
       "..        ...           ...              ...         ...      ...        ...   \n",
       "7          MD         20852            12303   Rockville     None -77.119616   \n",
       "8        None          None            12668        None     None -77.122540   \n",
       "0        None          None            12307        None     None -77.112674   \n",
       "0        None          None             None        None     None -77.099084   \n",
       "1        None          None             None        None     None -77.098852   \n",
       "\n",
       "            y geohash                    geometry  \n",
       "0   39.028378  dqcnn0  POINT (-77.07735 39.02838)  \n",
       "1   39.027431  dqcnn0  POINT (-77.07452 39.02743)  \n",
       "2   39.027516  dqcnn0  POINT (-77.07135 39.02752)  \n",
       "3   39.025357  dqcnn0  POINT (-77.07094 39.02536)  \n",
       "4   39.027745  dqcnn0  POINT (-77.07427 39.02775)  \n",
       "..        ...     ...                         ...  \n",
       "7   39.058517  dqcnjn  POINT (-77.11962 39.05852)  \n",
       "8   39.057150  dqcnjn  POINT (-77.12254 39.05715)  \n",
       "0   39.057823  dqcnjq  POINT (-77.11267 39.05782)  \n",
       "0   39.046104  dqcnjs  POINT (-77.09908 39.04610)  \n",
       "1   39.046115  dqcnjs  POINT (-77.09885 39.04611)  \n",
       "\n",
       "[329 rows x 182 columns]"
      ]
     },
     "execution_count": 10,
     "metadata": {},
     "output_type": "execute_result"
    }
   ],
   "source": [
    "ret"
   ]
  },
  {
   "cell_type": "code",
   "execution_count": null,
   "id": "edf3cad2-9937-4776-81ff-7373d89efbd6",
   "metadata": {},
   "outputs": [],
   "source": []
  }
 ],
 "metadata": {
  "kernelspec": {
   "display_name": "Python 3 (ipykernel)",
   "language": "python",
   "name": "python3"
  },
  "language_info": {
   "codemirror_mode": {
    "name": "ipython",
    "version": 3
   },
   "file_extension": ".py",
   "mimetype": "text/x-python",
   "name": "python",
   "nbconvert_exporter": "python",
   "pygments_lexer": "ipython3",
   "version": "3.9.12"
  }
 },
 "nbformat": 4,
 "nbformat_minor": 5
}
