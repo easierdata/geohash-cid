{
 "cells": [
  {
   "cell_type": "markdown",
   "id": "c1529720-a727-4d4c-90d3-f75d08915d2c",
   "metadata": {},
   "source": [
    "# Geohash + CID\n"
   ]
  },
  {
   "cell_type": "code",
   "execution_count": null,
   "id": "2009cb35-b094-4ba6-8147-939c5f969c68",
   "metadata": {
    "tags": []
   },
   "outputs": [],
   "source": [
    "#!pip install pygeohash"
   ]
  },
  {
   "cell_type": "code",
   "execution_count": 1,
   "id": "e359314b-ceb1-4b92-a81f-cc3f497e20e4",
   "metadata": {
    "execution": {
     "iopub.execute_input": "2024-02-26T22:41:05.189194Z",
     "iopub.status.busy": "2024-02-26T22:41:05.185549Z",
     "iopub.status.idle": "2024-02-26T22:41:05.843019Z",
     "shell.execute_reply": "2024-02-26T22:41:05.842708Z",
     "shell.execute_reply.started": "2024-02-26T22:41:05.188075Z"
    },
    "tags": []
   },
   "outputs": [
    {
     "name": "stderr",
     "output_type": "stream",
     "text": [
      "WARNING:root:Numpy and Numba are soft dependencies to use the numba geohashing functions. \n",
      "Can only import/use native python functions.\n"
     ]
    }
   ],
   "source": [
    "import pygeohash as pgh\n",
    "##load geojson\n",
    "import geopandas as gpd\n",
    "import pandas as pd\n",
    "import os\n",
    "import sys\n",
    "sys.path.append(\"../\")\n",
    "from geohashtree.geohashtree import LiteTreeOffset, LiteTreeCID, FullTreeFile\n",
    "from geohashtree.filesystem import ipfs_add_feature,ipfs_add_index_folder"
   ]
  },
  {
   "cell_type": "code",
   "execution_count": 2,
   "id": "35a09b02-05b1-44d4-b092-cd7ded43dd89",
   "metadata": {
    "execution": {
     "iopub.execute_input": "2024-02-26T22:41:19.415290Z",
     "iopub.status.busy": "2024-02-26T22:41:19.413669Z",
     "iopub.status.idle": "2024-02-26T22:41:19.424337Z",
     "shell.execute_reply": "2024-02-26T22:41:19.423158Z",
     "shell.execute_reply.started": "2024-02-26T22:41:19.415184Z"
    }
   },
   "outputs": [],
   "source": [
    "asset = \"dc_restaurants\"\n",
    "geojson_path = f\"../assets/{asset}.geojson\"\n",
    "index_path = f\"../data/geohash_offset_{asset}/index\""
   ]
  },
  {
   "cell_type": "markdown",
   "id": "a1d7c37e-89cf-493c-a72e-e1ca40746ef0",
   "metadata": {},
   "source": [
    "## Detached tree with offset\n",
    "### Index Preparation\n",
    "using one large file + lite index tree with offset"
   ]
  },
  {
   "cell_type": "code",
   "execution_count": null,
   "id": "1b5d8716-d6d7-4888-bd48-a751e4d8c948",
   "metadata": {},
   "outputs": [],
   "source": [
    "offsettree = LiteTreeOffset()\n",
    "offsettree.add_from_geojson(geojson_path)\n",
    "offsettree.generate_tree_index(index_path)"
   ]
  },
  {
   "cell_type": "markdown",
   "id": "2e48f42f-a5c2-4f0c-a794-39fdd284ada9",
   "metadata": {},
   "source": [
    "### Onloading"
   ]
  },
  {
   "cell_type": "code",
   "execution_count": null,
   "id": "4589e730-e394-469f-9366-4c1a2fa8da48",
   "metadata": {},
   "outputs": [],
   "source": [
    "ipfs_add_index_folder(index_path)"
   ]
  },
  {
   "cell_type": "code",
   "execution_count": 5,
   "id": "9ff5f451-b00a-4bda-b038-2992f6ca60a6",
   "metadata": {
    "execution": {
     "iopub.execute_input": "2024-02-26T22:44:10.021193Z",
     "iopub.status.busy": "2024-02-26T22:44:10.019482Z",
     "iopub.status.idle": "2024-02-26T22:44:10.029657Z",
     "shell.execute_reply": "2024-02-26T22:44:10.028345Z",
     "shell.execute_reply.started": "2024-02-26T22:44:10.021084Z"
    }
   },
   "outputs": [],
   "source": [
    "index_cid = \"bafybeib6ex2onm2wk5wxrdfe73l4m3la3c35nr5f4b4trbtidqaofduqiu\""
   ]
  },
  {
   "cell_type": "code",
   "execution_count": 6,
   "id": "e351f64a-002a-4f65-b506-50b0c3153637",
   "metadata": {
    "execution": {
     "iopub.execute_input": "2024-02-26T22:44:11.526881Z",
     "iopub.status.busy": "2024-02-26T22:44:11.526423Z",
     "iopub.status.idle": "2024-02-26T22:44:12.160317Z",
     "shell.execute_reply": "2024-02-26T22:44:12.159946Z",
     "shell.execute_reply.started": "2024-02-26T22:44:11.526853Z"
    }
   },
   "outputs": [
    {
     "data": {
      "text/plain": [
       "'bafybeia7jlkyzt22qgh66felldr322l5c7jdvm4xspr222f4usnd2ttbze'"
      ]
     },
     "execution_count": 6,
     "metadata": {},
     "output_type": "execute_result"
    }
   ],
   "source": [
    "ipfs_add_feature(geojson_path)"
   ]
  },
  {
   "cell_type": "code",
   "execution_count": null,
   "id": "59e4e0c8-c336-4e50-b48a-fddff0894d30",
   "metadata": {},
   "outputs": [],
   "source": [
    "cid = \"bafybeia7jlkyzt22qgh66felldr322l5c7jdvm4xspr222f4usnd2ttbze\""
   ]
  },
  {
   "cell_type": "code",
   "execution_count": null,
   "id": "5f2a689c-1fbd-43ef-88f0-0f4ecb4600bc",
   "metadata": {},
   "outputs": [],
   "source": [
    "##debugging\n",
    "# import subprocess\n",
    "\n",
    "# of,lg = (6266126, 4005)\n",
    "\n",
    "# result = subprocess.run(['ipfs', 'cat', cid, \"-o\",str(of),\"-l\",str(lg)], stdout=subprocess.PIPE, check=True, text=True)"
   ]
  },
  {
   "cell_type": "markdown",
   "id": "ef3e8339-ca4e-4999-b0b2-50f91cfda199",
   "metadata": {},
   "source": [
    "## Spatial query\n",
    "Perform a spatial query and return a list of geohashes"
   ]
  },
  {
   "cell_type": "code",
   "execution_count": 3,
   "id": "dc9b9850-5cea-428e-9351-c7a3e261929d",
   "metadata": {
    "execution": {
     "iopub.execute_input": "2024-02-21T05:25:55.115898Z",
     "iopub.status.busy": "2024-02-21T05:25:55.114226Z",
     "iopub.status.idle": "2024-02-21T05:25:55.126350Z",
     "shell.execute_reply": "2024-02-21T05:25:55.125174Z",
     "shell.execute_reply.started": "2024-02-21T05:25:55.115812Z"
    }
   },
   "outputs": [],
   "source": [
    "geohashes = ['dqcjy',\n",
    " 'dqcjz',\n",
    " 'dqcjw',\n",
    " 'dqcjv',\n",
    " 'dqcjx',\n",
    " 'dqcjq',\n",
    " 'dqcjt',\n",
    " 'dqcju',\n",
    " 'dqcjr',\n",
    " 'dqcjm',\n",
    " 'dqcjs',\n",
    " 'dqcjg',\n",
    " 'dqcjk',\n",
    " 'dqcnn',\n",
    " 'dqcnq',\n",
    " 'dqcnp',\n",
    " 'dqcnj',\n",
    " 'dqcnr',\n",
    " 'dqcnm',\n",
    " 'dqcnh',\n",
    " 'dqcnk',\n",
    " 'dqcmb',\n",
    " 'dqcm8',\n",
    " 'dqcm2',\n",
    " 'dqcq0']"
   ]
  },
  {
   "cell_type": "code",
   "execution_count": null,
   "id": "99e5a937-3112-461b-a4ab-ce879658fc47",
   "metadata": {},
   "outputs": [],
   "source": [
    "geohashes = ['dqcnn', 'dqcjz', 'dqcjw', 'dqcjv', 'dqcnp', 'dqcjx', 'dqcjt', 'dqcnj']"
   ]
  },
  {
   "cell_type": "markdown",
   "id": "c7e0c96c-a124-41a4-bc65-754008a25c5f",
   "metadata": {},
   "source": [
    "## Feature Retrieval"
   ]
  },
  {
   "cell_type": "code",
   "execution_count": null,
   "id": "0ad48293-9466-4e6a-95fd-629c63da1c7e",
   "metadata": {},
   "outputs": [],
   "source": [
    "offsettree.query(geohashes,index_cid)"
   ]
  },
  {
   "cell_type": "code",
   "execution_count": null,
   "id": "4e6dca77-e550-4bb5-b0f0-07e829d689f7",
   "metadata": {},
   "outputs": [],
   "source": [
    "offsettree.retrieve(geohashes,index_cid)"
   ]
  },
  {
   "cell_type": "markdown",
   "id": "24412ef1-326c-4d55-9f7a-e50d68afa1d5",
   "metadata": {},
   "source": [
    "## Detached tree with CID"
   ]
  },
  {
   "cell_type": "code",
   "execution_count": null,
   "id": "66de62f6-032a-43ac-9ed0-d62c26aacfd7",
   "metadata": {},
   "outputs": [],
   "source": [
    "#Entire workflow for LiteTreeCID\n",
    "\n",
    "asset = \"dc_restaurants\"\n",
    "geojson_path = f\"../assets/{asset}.geojson\"\n",
    "index_path = f\"../data/geohash_cid_{asset}/index\"\n",
    "pieces_path = f\"../data/geohash_cid_{asset}\"\n",
    "cidtree = LiteTreeCID()\n",
    "cidtree.add_from_geojson(geojson_path,pieces_path)"
   ]
  },
  {
   "cell_type": "code",
   "execution_count": null,
   "id": "9e3d5bd1-61b8-453f-a723-2f9601ec54c9",
   "metadata": {},
   "outputs": [],
   "source": [
    "cidtree.generate_tree_index(index_path)"
   ]
  },
  {
   "cell_type": "code",
   "execution_count": null,
   "id": "df2f6684-3c77-4575-82d2-c72eb5081dd4",
   "metadata": {},
   "outputs": [],
   "source": []
  },
  {
   "cell_type": "code",
   "execution_count": null,
   "id": "25b337f8-b002-4598-b17c-0f9948f4e7c0",
   "metadata": {},
   "outputs": [],
   "source": [
    "import glob\n",
    "piece_files = glob.glob(pieces_path+\"/*.geojson\")"
   ]
  },
  {
   "cell_type": "code",
   "execution_count": null,
   "id": "5946c0ed-68b4-4013-bc50-4aff1b184b14",
   "metadata": {},
   "outputs": [],
   "source": [
    "ipfs_add_feature(piece_files)"
   ]
  },
  {
   "cell_type": "code",
   "execution_count": null,
   "id": "0dbb5a0d-565f-43d4-b93d-f360fd898a0b",
   "metadata": {},
   "outputs": [],
   "source": [
    "geojson_path"
   ]
  },
  {
   "cell_type": "code",
   "execution_count": null,
   "id": "a197dde9-96c9-4e07-987b-5528a2965d35",
   "metadata": {},
   "outputs": [],
   "source": [
    "geohashes = ['dqcnn', 'dqcjz', 'dqcjw', 'dqcjv', 'dqcnp', 'dqcjx', 'dqcjt', 'dqcnj']"
   ]
  },
  {
   "cell_type": "code",
   "execution_count": null,
   "id": "59e0faf6-5324-461a-9809-df40a1e52509",
   "metadata": {},
   "outputs": [],
   "source": [
    "cids = cidtree.query(geohashes,index_path)"
   ]
  },
  {
   "cell_type": "code",
   "execution_count": null,
   "id": "930e10a5-8b8c-4b42-9bd9-8049620600d3",
   "metadata": {},
   "outputs": [],
   "source": [
    "len(cids)"
   ]
  },
  {
   "cell_type": "code",
   "execution_count": null,
   "id": "6251576b-2113-46cf-8bcd-4cac82b5546d",
   "metadata": {},
   "outputs": [],
   "source": [
    "ret = cidtree.retrieve(geohashes,index_path)"
   ]
  },
  {
   "cell_type": "code",
   "execution_count": null,
   "id": "9e4f2b1d-7398-49e1-88b7-5c5a3c829438",
   "metadata": {},
   "outputs": [],
   "source": [
    "from geohashtree.geohashtree import FullTreeFile"
   ]
  },
  {
   "cell_type": "markdown",
   "id": "aed7c1b5-78bf-4f7e-bc76-dffeeb6ec29e",
   "metadata": {},
   "source": [
    "## Attached tree with file"
   ]
  },
  {
   "cell_type": "code",
   "execution_count": null,
   "id": "f7d0e5d0-fca2-4a32-9297-481e59b669f9",
   "metadata": {},
   "outputs": [],
   "source": [
    "#Entire workflow for FullTreeFile\n",
    "\n",
    "asset = \"dc_restaurants\"\n",
    "geojson_path = f\"../assets/{asset}.geojson\"\n",
    "index_path = f\"../data/geohash_full_{asset}/index\"\n",
    "fulltree = FullTreeFile()\n",
    "fulltree.add_from_geojson(geojson_path)"
   ]
  },
  {
   "cell_type": "code",
   "execution_count": null,
   "id": "4ef661a1-305d-488b-a3c6-8b5744ec6f51",
   "metadata": {},
   "outputs": [],
   "source": [
    "fulltree.features"
   ]
  },
  {
   "cell_type": "code",
   "execution_count": null,
   "id": "db40d484-be45-42a0-80be-53273f1ab27a",
   "metadata": {},
   "outputs": [],
   "source": [
    "fulltree.generate_tree_index(index_path)"
   ]
  },
  {
   "cell_type": "code",
   "execution_count": null,
   "id": "98e0e249-4cf1-4ba5-91a3-a5ecc05b0238",
   "metadata": {},
   "outputs": [],
   "source": [
    "ipfs_add_index_folder(index_path)"
   ]
  },
  {
   "cell_type": "code",
   "execution_count": null,
   "id": "3a28b513-6ed6-4a1d-b63f-bdedb9c970eb",
   "metadata": {},
   "outputs": [],
   "source": [
    "geohashes = ['dqcnn', 'dqcjz', 'dqcjw', 'dqcjv', 'dqcnp', 'dqcjx', 'dqcjt', 'dqcnj']"
   ]
  },
  {
   "cell_type": "code",
   "execution_count": null,
   "id": "a4ffc66c-27d6-4dc8-b007-314566a80825",
   "metadata": {},
   "outputs": [],
   "source": [
    "cid = \"bafybeiez73pdnpevvoptzft54zmljj54di2pp44slk67wfeo7uz5hdbqoe/d/dq/dqc/dqcn/dqcnn\""
   ]
  },
  {
   "cell_type": "code",
   "execution_count": null,
   "id": "067cbed4-46f6-4120-ac17-999a6150d2dd",
   "metadata": {},
   "outputs": [],
   "source": [
    "import os\n",
    "os.path.join(cid,\"dqcnn0.geojson\")"
   ]
  },
  {
   "cell_type": "code",
   "execution_count": null,
   "id": "732175ae-61b1-4787-959f-afda6a092109",
   "metadata": {},
   "outputs": [],
   "source": [
    "index_cid = \"bafybeiez73pdnpevvoptzft54zmljj54di2pp44slk67wfeo7uz5hdbqoe\""
   ]
  },
  {
   "cell_type": "code",
   "execution_count": null,
   "id": "1e944a45-cafb-4fff-8e7c-174c0409ef78",
   "metadata": {},
   "outputs": [],
   "source": [
    "results = fulltree.query(geohashes,index_cid)"
   ]
  },
  {
   "cell_type": "code",
   "execution_count": null,
   "id": "95eabf09-2849-49c1-8729-803d4130f0ef",
   "metadata": {},
   "outputs": [],
   "source": [
    "len(results)"
   ]
  },
  {
   "cell_type": "code",
   "execution_count": null,
   "id": "bbdfa6ec-2eaf-410c-8e3c-07c0667bcb07",
   "metadata": {},
   "outputs": [],
   "source": [
    "results"
   ]
  },
  {
   "cell_type": "code",
   "execution_count": null,
   "id": "46dee016-7752-437f-94b9-d9b3e5bcdde4",
   "metadata": {},
   "outputs": [],
   "source": [
    "ret = cidtree.retrieve(geohashes,index_path)"
   ]
  },
  {
   "cell_type": "code",
   "execution_count": null,
   "id": "5a1f6a32-2416-40cd-a28e-38da9cac51ce",
   "metadata": {},
   "outputs": [],
   "source": []
  }
 ],
 "metadata": {
  "kernelspec": {
   "display_name": "Python 3 (ipykernel)",
   "language": "python",
   "name": "python3"
  },
  "language_info": {
   "codemirror_mode": {
    "name": "ipython",
    "version": 3
   },
   "file_extension": ".py",
   "mimetype": "text/x-python",
   "name": "python",
   "nbconvert_exporter": "python",
   "pygments_lexer": "ipython3",
   "version": "3.9.12"
  }
 },
 "nbformat": 4,
 "nbformat_minor": 5
}
