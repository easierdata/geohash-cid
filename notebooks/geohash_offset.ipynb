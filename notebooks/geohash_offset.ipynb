{
 "cells": [
  {
   "cell_type": "markdown",
   "id": "c1529720-a727-4d4c-90d3-f75d08915d2c",
   "metadata": {},
   "source": [
    "# Geohash + CID\n"
   ]
  },
  {
   "cell_type": "code",
   "execution_count": null,
   "id": "2009cb35-b094-4ba6-8147-939c5f969c68",
   "metadata": {
    "tags": []
   },
   "outputs": [],
   "source": [
    "#!pip install pygeohash"
   ]
  },
  {
   "cell_type": "code",
   "execution_count": 2,
   "id": "9629cfeb-5654-4646-bd39-036629e054fe",
   "metadata": {
    "execution": {
     "iopub.execute_input": "2024-05-23T02:43:40.544994Z",
     "iopub.status.busy": "2024-05-23T02:43:40.544615Z",
     "iopub.status.idle": "2024-05-23T02:43:50.150097Z",
     "shell.execute_reply": "2024-05-23T02:43:50.147952Z",
     "shell.execute_reply.started": "2024-05-23T02:43:40.544971Z"
    },
    "tags": []
   },
   "outputs": [
    {
     "name": "stderr",
     "output_type": "stream",
     "text": [
      "WARNING:root:Numpy and Numba are soft dependencies to use the numba geohashing functions. \n",
      "Can only import/use native python functions.\n"
     ]
    }
   ],
   "source": [
    "import pygeohash as pgh\n",
    "##load geojson\n",
    "import geopandas as gpd\n",
    "import pandas as pd\n",
    "import os\n",
    "import sys\n",
    "sys.path.append(\"../\")"
   ]
  },
  {
   "cell_type": "code",
   "execution_count": 3,
   "id": "3af1ae36-1b39-4f2c-808f-7a0ebf17315f",
   "metadata": {
    "execution": {
     "iopub.execute_input": "2024-05-23T02:43:50.154500Z",
     "iopub.status.busy": "2024-05-23T02:43:50.153533Z",
     "iopub.status.idle": "2024-05-23T02:43:52.276114Z",
     "shell.execute_reply": "2024-05-23T02:43:52.275075Z",
     "shell.execute_reply.started": "2024-05-23T02:43:50.154461Z"
    },
    "tags": []
   },
   "outputs": [
    {
     "name": "stderr",
     "output_type": "stream",
     "text": [
      "which: no ipfs in (/gpfs/data1/oshangp/easier/geohash-cid/py39/bin:/opt/TurboVNC/bin:/opt/TurboVNC/bin:/home/liuz/.vscode-server/bin/0ee08df0cf4527e40edc9aa28f4b5bd38bbff2b2/bin/remote-cli:/opt/TurboVNC/bin:/gpfs/data1/oshangp/easier/geohash-cid/py39/bin:/apps/python/3.7/anaconda/condabin:/opt/TurboVNC/bin:/usr/local/bin:/usr/bin:/opt/puppetlabs/bin:/usr/local/sbin:/usr/sbin:/home/liuz/.local/bin:/home/liuz/bin:/gpfs/data1/oshangp/easier/tools/gopath/bin:/home/liuz/.local/bin:/home/liuz/bin)\n"
     ]
    },
    {
     "name": "stdout",
     "output_type": "stream",
     "text": [
      "IPFS path: /gpfs/data1/oshangp/easier/textile/kubo/ipfs\n"
     ]
    }
   ],
   "source": [
    "from geohashtree.geohashtree import LiteTreeOffset, LiteTreeCID, FullTreeFile\n",
    "from geohashtree.filesystem import ipfs_add_feature,ipfs_add_index_folder"
   ]
  },
  {
   "cell_type": "code",
   "execution_count": 8,
   "id": "35a09b02-05b1-44d4-b092-cd7ded43dd89",
   "metadata": {
    "execution": {
     "iopub.execute_input": "2024-05-23T04:08:53.526098Z",
     "iopub.status.busy": "2024-05-23T04:08:53.525703Z",
     "iopub.status.idle": "2024-05-23T04:08:53.529274Z",
     "shell.execute_reply": "2024-05-23T04:08:53.528731Z",
     "shell.execute_reply.started": "2024-05-23T04:08:53.526074Z"
    }
   },
   "outputs": [],
   "source": [
    "asset = \"us_places_gh_sorted\"\n",
    "geojson_path = f\"../data/overture/{asset}.geojson\"\n",
    "index_path = f\"../data/geohash_offset_{asset}_d3/index\""
   ]
  },
  {
   "cell_type": "markdown",
   "id": "a1d7c37e-89cf-493c-a72e-e1ca40746ef0",
   "metadata": {},
   "source": [
    "## Detached tree with offset\n",
    "### Index Preparation\n",
    "using one large file + lite index tree with offset"
   ]
  },
  {
   "cell_type": "code",
   "execution_count": 9,
   "id": "415df917-c8ff-4457-9efb-24ba375e3fb8",
   "metadata": {
    "execution": {
     "iopub.execute_input": "2024-05-23T04:08:55.625176Z",
     "iopub.status.busy": "2024-05-23T04:08:55.624785Z",
     "iopub.status.idle": "2024-05-23T04:08:56.765705Z",
     "shell.execute_reply": "2024-05-23T04:08:56.764915Z",
     "shell.execute_reply.started": "2024-05-23T04:08:55.625152Z"
    }
   },
   "outputs": [
    {
     "name": "stdout",
     "output_type": "stream",
     "text": [
      "Index Mode: offline\n"
     ]
    }
   ],
   "source": [
    "offsettree = LiteTreeOffset()"
   ]
  },
  {
   "cell_type": "code",
   "execution_count": 10,
   "id": "df4b348e-1fef-4d91-98ab-912e1623e915",
   "metadata": {
    "execution": {
     "iopub.execute_input": "2024-05-23T04:08:57.853557Z",
     "iopub.status.busy": "2024-05-23T04:08:57.853124Z",
     "iopub.status.idle": "2024-05-23T04:48:25.639785Z",
     "shell.execute_reply": "2024-05-23T04:48:25.638597Z",
     "shell.execute_reply.started": "2024-05-23T04:08:57.853530Z"
    }
   },
   "outputs": [
    {
     "name": "stderr",
     "output_type": "stream",
     "text": [
      "WARNING:fiona.ogrext:Expecting property name enclosed in double quotes: line 1 column 2 (char 1)\n",
      "WARNING:fiona.ogrext:Expecting property name enclosed in double quotes: line 1 column 2 (char 1)\n",
      "WARNING:fiona.ogrext:Expecting property name enclosed in double quotes: line 1 column 2 (char 1)\n",
      "WARNING:fiona.ogrext:Expecting property name enclosed in double quotes: line 1 column 2 (char 1)\n",
      "WARNING:fiona.ogrext:Expecting property name enclosed in double quotes: line 1 column 2 (char 1)\n",
      "WARNING:fiona.ogrext:Expecting property name enclosed in double quotes: line 1 column 2 (char 1)\n",
      "WARNING:fiona.ogrext:Expecting property name enclosed in double quotes: line 1 column 2 (char 1)\n",
      "WARNING:fiona.ogrext:Expecting property name enclosed in double quotes: line 1 column 3 (char 2)\n",
      "WARNING:fiona.ogrext:Expecting property name enclosed in double quotes: line 1 column 2 (char 1)\n",
      "WARNING:fiona.ogrext:Expecting property name enclosed in double quotes: line 1 column 2 (char 1)\n",
      "WARNING:fiona.ogrext:Expecting property name enclosed in double quotes: line 1 column 2 (char 1)\n",
      "WARNING:fiona.ogrext:Expecting property name enclosed in double quotes: line 1 column 2 (char 1)\n",
      "WARNING:fiona.ogrext:Expecting property name enclosed in double quotes: line 1 column 2 (char 1)\n",
      "WARNING:fiona.ogrext:Expecting property name enclosed in double quotes: line 1 column 2 (char 1)\n",
      "WARNING:fiona.ogrext:Expecting property name enclosed in double quotes: line 1 column 2 (char 1)\n",
      "WARNING:fiona.ogrext:Expecting property name enclosed in double quotes: line 1 column 2 (char 1)\n",
      "WARNING:fiona.ogrext:Expecting property name enclosed in double quotes: line 1 column 2 (char 1)\n",
      "WARNING:fiona.ogrext:Expecting property name enclosed in double quotes: line 1 column 2 (char 1)\n",
      "WARNING:fiona.ogrext:Expecting property name enclosed in double quotes: line 1 column 2 (char 1)\n",
      "WARNING:fiona.ogrext:Expecting property name enclosed in double quotes: line 1 column 3 (char 2)\n",
      "WARNING:fiona.ogrext:Expecting property name enclosed in double quotes: line 1 column 2 (char 1)\n",
      "WARNING:fiona.ogrext:Expecting property name enclosed in double quotes: line 1 column 2 (char 1)\n",
      "WARNING:fiona.ogrext:Expecting property name enclosed in double quotes: line 1 column 2 (char 1)\n",
      "WARNING:fiona.ogrext:Expecting property name enclosed in double quotes: line 1 column 3 (char 2)\n",
      "WARNING:fiona.ogrext:Expecting property name enclosed in double quotes: line 1 column 2 (char 1)\n",
      "WARNING:fiona.ogrext:Expecting property name enclosed in double quotes: line 1 column 2 (char 1)\n"
     ]
    }
   ],
   "source": [
    "offsettree.add_from_geojson(geojson_path,precision=3)\n",
    "offsettree.generate_tree_index(index_path)"
   ]
  },
  {
   "cell_type": "markdown",
   "id": "2e48f42f-a5c2-4f0c-a794-39fdd284ada9",
   "metadata": {},
   "source": [
    "### Onloading"
   ]
  },
  {
   "cell_type": "code",
   "execution_count": 11,
   "id": "4589e730-e394-469f-9366-4c1a2fa8da48",
   "metadata": {
    "execution": {
     "iopub.execute_input": "2024-05-23T19:41:14.104751Z",
     "iopub.status.busy": "2024-05-23T19:41:14.104309Z",
     "iopub.status.idle": "2024-05-23T19:42:46.828570Z",
     "shell.execute_reply": "2024-05-23T19:42:46.827626Z",
     "shell.execute_reply.started": "2024-05-23T19:41:14.104725Z"
    }
   },
   "outputs": [],
   "source": [
    "index_cid = ipfs_add_index_folder(index_path)"
   ]
  },
  {
   "cell_type": "code",
   "execution_count": 12,
   "id": "b18b79a4-1e5e-42ed-b24b-905f50d3da1a",
   "metadata": {
    "execution": {
     "iopub.execute_input": "2024-05-23T19:42:46.830353Z",
     "iopub.status.busy": "2024-05-23T19:42:46.830023Z",
     "iopub.status.idle": "2024-05-23T19:42:46.834885Z",
     "shell.execute_reply": "2024-05-23T19:42:46.834411Z",
     "shell.execute_reply.started": "2024-05-23T19:42:46.830329Z"
    }
   },
   "outputs": [
    {
     "data": {
      "text/plain": [
       "'bafybeie5fs3x7wke4b7vnrk6wfgae43j6rlxg4airjefqd5dwey2xkrdbu'"
      ]
     },
     "execution_count": 12,
     "metadata": {},
     "output_type": "execute_result"
    }
   ],
   "source": [
    "index_cid"
   ]
  },
  {
   "cell_type": "code",
   "execution_count": null,
   "id": "9ff5f451-b00a-4bda-b038-2992f6ca60a6",
   "metadata": {},
   "outputs": [],
   "source": [
    "index_cid = \"bafybeib6ex2onm2wk5wxrdfe73l4m3la3c35nr5f4b4trbtidqaofduqiu\""
   ]
  },
  {
   "cell_type": "code",
   "execution_count": null,
   "id": "e351f64a-002a-4f65-b506-50b0c3153637",
   "metadata": {},
   "outputs": [],
   "source": [
    "ipfs_add_feature(geojson_path)"
   ]
  },
  {
   "cell_type": "code",
   "execution_count": null,
   "id": "59e4e0c8-c336-4e50-b48a-fddff0894d30",
   "metadata": {},
   "outputs": [],
   "source": [
    "cid = \"bafybeia7jlkyzt22qgh66felldr322l5c7jdvm4xspr222f4usnd2ttbze\""
   ]
  },
  {
   "cell_type": "code",
   "execution_count": null,
   "id": "5f2a689c-1fbd-43ef-88f0-0f4ecb4600bc",
   "metadata": {},
   "outputs": [],
   "source": [
    "##debugging\n",
    "# import subprocess\n",
    "\n",
    "# of,lg = (6266126, 4005)\n",
    "\n",
    "# result = subprocess.run(['ipfs', 'cat', cid, \"-o\",str(of),\"-l\",str(lg)], stdout=subprocess.PIPE, check=True, text=True)"
   ]
  },
  {
   "cell_type": "markdown",
   "id": "ef3e8339-ca4e-4999-b0b2-50f91cfda199",
   "metadata": {},
   "source": [
    "## Spatial query\n",
    "Perform a spatial query and return a list of geohashes"
   ]
  },
  {
   "cell_type": "code",
   "execution_count": null,
   "id": "dc9b9850-5cea-428e-9351-c7a3e261929d",
   "metadata": {},
   "outputs": [],
   "source": [
    "geohashes = ['dqcjy',\n",
    " 'dqcjz',\n",
    " 'dqcjw',\n",
    " 'dqcjv',\n",
    " 'dqcjx',\n",
    " 'dqcjq',\n",
    " 'dqcjt',\n",
    " 'dqcju',\n",
    " 'dqcjr',\n",
    " 'dqcjm',\n",
    " 'dqcjs',\n",
    " 'dqcjg',\n",
    " 'dqcjk',\n",
    " 'dqcnn',\n",
    " 'dqcnq',\n",
    " 'dqcnp',\n",
    " 'dqcnj',\n",
    " 'dqcnr',\n",
    " 'dqcnm',\n",
    " 'dqcnh',\n",
    " 'dqcnk',\n",
    " 'dqcmb',\n",
    " 'dqcm8',\n",
    " 'dqcm2',\n",
    " 'dqcq0']"
   ]
  },
  {
   "cell_type": "code",
   "execution_count": null,
   "id": "99e5a937-3112-461b-a4ab-ce879658fc47",
   "metadata": {},
   "outputs": [],
   "source": [
    "geohashes = ['dqcnn', 'dqcjz', 'dqcjw', 'dqcjv', 'dqcnp', 'dqcjx', 'dqcjt', 'dqcnj']"
   ]
  },
  {
   "cell_type": "markdown",
   "id": "c7e0c96c-a124-41a4-bc65-754008a25c5f",
   "metadata": {},
   "source": [
    "## Feature Retrieval"
   ]
  },
  {
   "cell_type": "code",
   "execution_count": null,
   "id": "0ad48293-9466-4e6a-95fd-629c63da1c7e",
   "metadata": {},
   "outputs": [],
   "source": [
    "offsettree.query(geohashes,index_cid)"
   ]
  },
  {
   "cell_type": "code",
   "execution_count": null,
   "id": "4e6dca77-e550-4bb5-b0f0-07e829d689f7",
   "metadata": {},
   "outputs": [],
   "source": [
    "offsettree.retrieve(geohashes,index_cid)"
   ]
  },
  {
   "cell_type": "markdown",
   "id": "24412ef1-326c-4d55-9f7a-e50d68afa1d5",
   "metadata": {},
   "source": [
    "## Detached tree with CID"
   ]
  },
  {
   "cell_type": "code",
   "execution_count": 13,
   "id": "8db4b846-afd2-4826-8473-481f481123da",
   "metadata": {
    "execution": {
     "iopub.execute_input": "2024-05-22T18:56:42.466045Z",
     "iopub.status.busy": "2024-05-22T18:56:42.465604Z",
     "iopub.status.idle": "2024-05-22T18:56:42.469986Z",
     "shell.execute_reply": "2024-05-22T18:56:42.469356Z",
     "shell.execute_reply.started": "2024-05-22T18:56:42.466016Z"
    }
   },
   "outputs": [],
   "source": [
    "import sys\n",
    "sys.path.append(\"../\")\n",
    "from geohashtree.geohashtree import LiteTreeCID,append_h3_to_dataframe\n",
    "from geohashtree.filesystem import ipfs_add_index_folder,ipfs_get_index_folder"
   ]
  },
  {
   "cell_type": "code",
   "execution_count": 7,
   "id": "dee888e4-4abb-4509-bb54-64350609b5f4",
   "metadata": {
    "execution": {
     "iopub.execute_input": "2024-05-22T05:17:53.404308Z",
     "iopub.status.busy": "2024-05-22T05:17:53.403774Z",
     "iopub.status.idle": "2024-05-22T05:17:53.409529Z",
     "shell.execute_reply": "2024-05-22T05:17:53.408539Z",
     "shell.execute_reply.started": "2024-05-22T05:17:53.404275Z"
    }
   },
   "outputs": [],
   "source": [
    "#Entire workflow for LiteTreeCID\n",
    "\n",
    "asset = \"us_places\"\n",
    "raw_path = f\"../data/overture/{asset}.parquet\"\n",
    "index_path = f\"../data/geohash_cid_{asset}_parq_d5/index\"\n",
    "pieces_path = f\"../data/geohash_cid_{asset}_parq_d5/pieces\""
   ]
  },
  {
   "cell_type": "code",
   "execution_count": 22,
   "id": "45d960f6-d815-4236-9673-b2befbdab18e",
   "metadata": {
    "execution": {
     "iopub.execute_input": "2024-05-22T04:10:26.998396Z",
     "iopub.status.busy": "2024-05-22T04:10:26.997981Z",
     "iopub.status.idle": "2024-05-22T04:11:10.446047Z",
     "shell.execute_reply": "2024-05-22T04:11:10.445394Z",
     "shell.execute_reply.started": "2024-05-22T04:10:26.998370Z"
    }
   },
   "outputs": [],
   "source": [
    "#debugging\n",
    "gdf = gpd.read_parquet(raw_path)"
   ]
  },
  {
   "cell_type": "code",
   "execution_count": 8,
   "id": "4557223c-1b16-4d5a-a2b7-3ad66c695994",
   "metadata": {
    "execution": {
     "iopub.execute_input": "2024-05-22T05:17:55.848394Z",
     "iopub.status.busy": "2024-05-22T05:17:55.847939Z",
     "iopub.status.idle": "2024-05-22T05:17:55.852802Z",
     "shell.execute_reply": "2024-05-22T05:17:55.851807Z",
     "shell.execute_reply.started": "2024-05-22T05:17:55.848366Z"
    }
   },
   "outputs": [],
   "source": [
    "cidtree = LiteTreeCID()\n",
    "cidtree.file_format='parquet'"
   ]
  },
  {
   "cell_type": "code",
   "execution_count": null,
   "id": "d035e85d-4d05-4a7c-a667-7c916deedc04",
   "metadata": {
    "execution": {
     "iopub.execute_input": "2024-05-22T05:17:59.015887Z",
     "iopub.status.busy": "2024-05-22T05:17:59.015425Z"
    },
    "scrolled": true
   },
   "outputs": [
    {
     "name": "stdout",
     "output_type": "stream",
     "text": [
      "  geohash                                       parquet_path\n",
      "0   9kxpz  ../data/geohash_cid_us_places_parq_d5/pieces/9...\n",
      "1   9kxvr  ../data/geohash_cid_us_places_parq_d5/pieces/9...\n",
      "2   9kxvv  ../data/geohash_cid_us_places_parq_d5/pieces/9...\n",
      "3   9kxwy  ../data/geohash_cid_us_places_parq_d5/pieces/9...\n",
      "4   9kxx7  ../data/geohash_cid_us_places_parq_d5/pieces/9...\n"
     ]
    }
   ],
   "source": [
    "cidtree.add_from_parquet(raw_path,pieces_path,precision=5)"
   ]
  },
  {
   "cell_type": "code",
   "execution_count": null,
   "id": "9e3d5bd1-61b8-453f-a723-2f9601ec54c9",
   "metadata": {},
   "outputs": [],
   "source": [
    "cidtree.generate_tree_index(index_path)"
   ]
  },
  {
   "cell_type": "code",
   "execution_count": null,
   "id": "74dbd7f5-a9e7-4754-a0b8-27dea87d5934",
   "metadata": {},
   "outputs": [],
   "source": [
    "cidtree.upload_parquet_files(pieces_path)"
   ]
  },
  {
   "cell_type": "code",
   "execution_count": null,
   "id": "fde03a1f-e577-4d4d-b99e-1acf0af5883a",
   "metadata": {
    "execution": {
     "iopub.execute_input": "2024-05-22T18:57:43.567047Z",
     "iopub.status.busy": "2024-05-22T18:57:43.566620Z"
    }
   },
   "outputs": [],
   "source": [
    "index_cid = ipfs_add_index_folder(index_path)"
   ]
  },
  {
   "cell_type": "code",
   "execution_count": 16,
   "id": "107fa74e-2bf4-4e79-b442-69f7e626a358",
   "metadata": {
    "execution": {
     "iopub.execute_input": "2024-05-22T19:41:10.687311Z",
     "iopub.status.busy": "2024-05-22T19:41:10.686888Z",
     "iopub.status.idle": "2024-05-22T19:41:10.691276Z",
     "shell.execute_reply": "2024-05-22T19:41:10.690646Z",
     "shell.execute_reply.started": "2024-05-22T19:41:10.687287Z"
    }
   },
   "outputs": [
    {
     "data": {
      "text/plain": [
       "'bafybeicttshfwol4g5qsepp3pnukmjwl6tols2i2xl2sxo2svgg2d2mq4y'"
      ]
     },
     "execution_count": 16,
     "metadata": {},
     "output_type": "execute_result"
    }
   ],
   "source": [
    "index_cid"
   ]
  },
  {
   "cell_type": "code",
   "execution_count": null,
   "id": "5bfc920a-6fbc-4203-bcfd-06723c36ae7f",
   "metadata": {},
   "outputs": [],
   "source": [
    "ipfs_get_index_folder('bafybeihfj2qf7c4lqbwdle7e6vqclexrvc4xf3evaa77z43gu5tbtrj53e','../data/test/geohash_cid_dc_parq')"
   ]
  },
  {
   "cell_type": "code",
   "execution_count": null,
   "id": "8d27cafa-8cb5-4c45-b605-130cdaf2f4ae",
   "metadata": {},
   "outputs": [],
   "source": [
    "local_index_path = '../data/test/geohash_cid_dc_parq'"
   ]
  },
  {
   "cell_type": "code",
   "execution_count": null,
   "id": "df2f6684-3c77-4575-82d2-c72eb5081dd4",
   "metadata": {},
   "outputs": [],
   "source": [
    "cidtree.file_format"
   ]
  },
  {
   "cell_type": "code",
   "execution_count": null,
   "id": "1c82a7b2-e7d1-4645-91b4-05da8e8fbbf2",
   "metadata": {},
   "outputs": [],
   "source": [
    "cidtree."
   ]
  },
  {
   "cell_type": "code",
   "execution_count": null,
   "id": "25b337f8-b002-4598-b17c-0f9948f4e7c0",
   "metadata": {},
   "outputs": [],
   "source": [
    "import glob\n",
    "piece_files = glob.glob(pieces_path+\"/*.geojson\")"
   ]
  },
  {
   "cell_type": "code",
   "execution_count": null,
   "id": "5946c0ed-68b4-4013-bc50-4aff1b184b14",
   "metadata": {},
   "outputs": [],
   "source": [
    "ipfs_add_feature(piece_files)"
   ]
  },
  {
   "cell_type": "code",
   "execution_count": null,
   "id": "0dbb5a0d-565f-43d4-b93d-f360fd898a0b",
   "metadata": {},
   "outputs": [],
   "source": [
    "geojson_path"
   ]
  },
  {
   "cell_type": "code",
   "execution_count": null,
   "id": "a197dde9-96c9-4e07-987b-5528a2965d35",
   "metadata": {},
   "outputs": [],
   "source": [
    "geohashes = ['dqcn', 'dqcj']"
   ]
  },
  {
   "cell_type": "code",
   "execution_count": null,
   "id": "59e0faf6-5324-461a-9809-df40a1e52509",
   "metadata": {},
   "outputs": [],
   "source": [
    "cids = cidtree.query(geohashes,local_index_path)"
   ]
  },
  {
   "cell_type": "code",
   "execution_count": null,
   "id": "930e10a5-8b8c-4b42-9bd9-8049620600d3",
   "metadata": {},
   "outputs": [],
   "source": [
    "len(cids)"
   ]
  },
  {
   "cell_type": "code",
   "execution_count": null,
   "id": "617ebf43-4e9e-4072-adac-515616db204a",
   "metadata": {},
   "outputs": [],
   "source": [
    "cidtree.file_format = 'parquet'"
   ]
  },
  {
   "cell_type": "code",
   "execution_count": null,
   "id": "6251576b-2113-46cf-8bcd-4cac82b5546d",
   "metadata": {},
   "outputs": [],
   "source": [
    "ret = cidtree.retrieve(geohashes,local_index_path)"
   ]
  },
  {
   "cell_type": "code",
   "execution_count": null,
   "id": "8fa20c8f-cd56-46de-89ae-41b8b6ff1f31",
   "metadata": {},
   "outputs": [],
   "source": [
    "ret"
   ]
  },
  {
   "cell_type": "code",
   "execution_count": null,
   "id": "9e4f2b1d-7398-49e1-88b7-5c5a3c829438",
   "metadata": {},
   "outputs": [],
   "source": [
    "from geohashtree.geohashtree import FullTreeFile"
   ]
  },
  {
   "cell_type": "markdown",
   "id": "aed7c1b5-78bf-4f7e-bc76-dffeeb6ec29e",
   "metadata": {},
   "source": [
    "## Attached tree with file"
   ]
  },
  {
   "cell_type": "code",
   "execution_count": null,
   "id": "65a048fd-b162-4d97-8512-d784fb23785d",
   "metadata": {},
   "outputs": [],
   "source": [
    "#Entire workflow for FullTreeFile\n",
    "\n",
    "asset = \"us_places_100k\"\n",
    "geojson_path = f\"../data/overture/{asset}.geojson\"\n",
    "index_path = f\"../data/geohash_full_{asset}/index\""
   ]
  },
  {
   "cell_type": "code",
   "execution_count": null,
   "id": "c07a886e-4970-483c-b75d-4caf590c0520",
   "metadata": {},
   "outputs": [],
   "source": [
    "fulltree = FullTreeFile()\n",
    "fulltree.add_from_geojson(geojson_path)\n",
    "fulltree.generate_tree_index(index_path)\n",
    "ipfs_add_index_folder(index_path)"
   ]
  },
  {
   "cell_type": "code",
   "execution_count": null,
   "id": "3a28b513-6ed6-4a1d-b63f-bdedb9c970eb",
   "metadata": {},
   "outputs": [],
   "source": [
    "geohashes = ['dqcnn', 'dqcjz', 'dqcjw', 'dqcjv', 'dqcnp', 'dqcjx', 'dqcjt', 'dqcnj']"
   ]
  },
  {
   "cell_type": "code",
   "execution_count": null,
   "id": "a4ffc66c-27d6-4dc8-b007-314566a80825",
   "metadata": {},
   "outputs": [],
   "source": [
    "cid = \"bafybeiez73pdnpevvoptzft54zmljj54di2pp44slk67wfeo7uz5hdbqoe/d/dq/dqc/dqcn/dqcnn\""
   ]
  },
  {
   "cell_type": "code",
   "execution_count": null,
   "id": "067cbed4-46f6-4120-ac17-999a6150d2dd",
   "metadata": {},
   "outputs": [],
   "source": [
    "import os\n",
    "os.path.join(cid,\"dqcnn0.geojson\")"
   ]
  },
  {
   "cell_type": "code",
   "execution_count": null,
   "id": "732175ae-61b1-4787-959f-afda6a092109",
   "metadata": {},
   "outputs": [],
   "source": [
    "index_cid = \"bafybeiez73pdnpevvoptzft54zmljj54di2pp44slk67wfeo7uz5hdbqoe\""
   ]
  },
  {
   "cell_type": "code",
   "execution_count": null,
   "id": "1e944a45-cafb-4fff-8e7c-174c0409ef78",
   "metadata": {},
   "outputs": [],
   "source": [
    "results = fulltree.query(geohashes,index_cid)"
   ]
  },
  {
   "cell_type": "code",
   "execution_count": null,
   "id": "95eabf09-2849-49c1-8729-803d4130f0ef",
   "metadata": {},
   "outputs": [],
   "source": [
    "len(results)"
   ]
  },
  {
   "cell_type": "code",
   "execution_count": null,
   "id": "bbdfa6ec-2eaf-410c-8e3c-07c0667bcb07",
   "metadata": {},
   "outputs": [],
   "source": [
    "results"
   ]
  },
  {
   "cell_type": "code",
   "execution_count": null,
   "id": "46dee016-7752-437f-94b9-d9b3e5bcdde4",
   "metadata": {},
   "outputs": [],
   "source": [
    "ret = fulltree.retrieve(geohashes,index_cid)"
   ]
  },
  {
   "cell_type": "code",
   "execution_count": null,
   "id": "5a1f6a32-2416-40cd-a28e-38da9cac51ce",
   "metadata": {},
   "outputs": [],
   "source": [
    "ret"
   ]
  },
  {
   "cell_type": "code",
   "execution_count": null,
   "id": "edf3cad2-9937-4776-81ff-7373d89efbd6",
   "metadata": {},
   "outputs": [],
   "source": []
  }
 ],
 "metadata": {
  "kernelspec": {
   "display_name": "Python 3 (ipykernel)",
   "language": "python",
   "name": "python3"
  },
  "language_info": {
   "codemirror_mode": {
    "name": "ipython",
    "version": 3
   },
   "file_extension": ".py",
   "mimetype": "text/x-python",
   "name": "python",
   "nbconvert_exporter": "python",
   "pygments_lexer": "ipython3",
   "version": "3.9.12"
  }
 },
 "nbformat": 4,
 "nbformat_minor": 5
}
