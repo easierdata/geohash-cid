{
 "cells": [
  {
   "cell_type": "markdown",
   "id": "c1529720-a727-4d4c-90d3-f75d08915d2c",
   "metadata": {},
   "source": [
    "# Geohash + CID\n"
   ]
  },
  {
   "cell_type": "code",
   "execution_count": null,
   "id": "2009cb35-b094-4ba6-8147-939c5f969c68",
   "metadata": {
    "tags": []
   },
   "outputs": [],
   "source": [
    "#!pip install pygeohash"
   ]
  },
  {
   "cell_type": "code",
   "execution_count": 1,
   "id": "9629cfeb-5654-4646-bd39-036629e054fe",
   "metadata": {
    "execution": {
     "iopub.execute_input": "2024-05-20T00:57:49.903249Z",
     "iopub.status.busy": "2024-05-20T00:57:49.901478Z",
     "iopub.status.idle": "2024-05-20T00:57:50.794895Z",
     "shell.execute_reply": "2024-05-20T00:57:50.794451Z",
     "shell.execute_reply.started": "2024-05-20T00:57:49.903154Z"
    },
    "tags": []
   },
   "outputs": [
    {
     "name": "stderr",
     "output_type": "stream",
     "text": [
      "WARNING:root:Numpy and Numba are soft dependencies to use the numba geohashing functions. \n",
      "Can only import/use native python functions.\n"
     ]
    }
   ],
   "source": [
    "import pygeohash as pgh\n",
    "##load geojson\n",
    "import geopandas as gpd\n",
    "import pandas as pd\n",
    "import os\n",
    "import sys\n",
    "sys.path.append(\"../\")"
   ]
  },
  {
   "cell_type": "code",
   "execution_count": null,
   "id": "3af1ae36-1b39-4f2c-808f-7a0ebf17315f",
   "metadata": {
    "execution": {
     "iopub.execute_input": "2024-05-20T00:37:35.473230Z",
     "iopub.status.busy": "2024-05-20T00:37:35.470376Z",
     "iopub.status.idle": "2024-05-20T00:37:35.520758Z",
     "shell.execute_reply": "2024-05-20T00:37:35.520247Z",
     "shell.execute_reply.started": "2024-05-20T00:37:35.472917Z"
    },
    "tags": []
   },
   "outputs": [],
   "source": [
    "from geohashtree.geohashtree import LiteTreeOffset, LiteTreeCID, FullTreeFile\n",
    "from geohashtree.filesystem import ipfs_add_feature,ipfs_add_index_folder"
   ]
  },
  {
   "cell_type": "code",
   "execution_count": 2,
   "id": "35a09b02-05b1-44d4-b092-cd7ded43dd89",
   "metadata": {
    "execution": {
     "iopub.execute_input": "2024-05-14T22:05:45.338172Z",
     "iopub.status.busy": "2024-05-14T22:05:45.337052Z",
     "iopub.status.idle": "2024-05-14T22:05:45.343172Z",
     "shell.execute_reply": "2024-05-14T22:05:45.342162Z",
     "shell.execute_reply.started": "2024-05-14T22:05:45.338115Z"
    }
   },
   "outputs": [],
   "source": [
    "asset = \"dc_restaurants\"\n",
    "geojson_path = f\"../assets/{asset}.geojson\"\n",
    "index_path = f\"../data/geohash_offset_{asset}/index\""
   ]
  },
  {
   "cell_type": "markdown",
   "id": "a1d7c37e-89cf-493c-a72e-e1ca40746ef0",
   "metadata": {},
   "source": [
    "## Detached tree with offset\n",
    "### Index Preparation\n",
    "using one large file + lite index tree with offset"
   ]
  },
  {
   "cell_type": "code",
   "execution_count": null,
   "id": "1b5d8716-d6d7-4888-bd48-a751e4d8c948",
   "metadata": {},
   "outputs": [],
   "source": [
    "offsettree = LiteTreeOffset()\n",
    "offsettree.add_from_geojson(geojson_path)\n",
    "offsettree.generate_tree_index(index_path)"
   ]
  },
  {
   "cell_type": "markdown",
   "id": "2e48f42f-a5c2-4f0c-a794-39fdd284ada9",
   "metadata": {},
   "source": [
    "### Onloading"
   ]
  },
  {
   "cell_type": "code",
   "execution_count": null,
   "id": "4589e730-e394-469f-9366-4c1a2fa8da48",
   "metadata": {},
   "outputs": [],
   "source": [
    "ipfs_add_index_folder(index_path)"
   ]
  },
  {
   "cell_type": "code",
   "execution_count": 5,
   "id": "9ff5f451-b00a-4bda-b038-2992f6ca60a6",
   "metadata": {
    "execution": {
     "iopub.execute_input": "2024-02-26T22:44:10.021193Z",
     "iopub.status.busy": "2024-02-26T22:44:10.019482Z",
     "iopub.status.idle": "2024-02-26T22:44:10.029657Z",
     "shell.execute_reply": "2024-02-26T22:44:10.028345Z",
     "shell.execute_reply.started": "2024-02-26T22:44:10.021084Z"
    }
   },
   "outputs": [],
   "source": [
    "index_cid = \"bafybeib6ex2onm2wk5wxrdfe73l4m3la3c35nr5f4b4trbtidqaofduqiu\""
   ]
  },
  {
   "cell_type": "code",
   "execution_count": 6,
   "id": "e351f64a-002a-4f65-b506-50b0c3153637",
   "metadata": {
    "execution": {
     "iopub.execute_input": "2024-02-26T22:44:11.526881Z",
     "iopub.status.busy": "2024-02-26T22:44:11.526423Z",
     "iopub.status.idle": "2024-02-26T22:44:12.160317Z",
     "shell.execute_reply": "2024-02-26T22:44:12.159946Z",
     "shell.execute_reply.started": "2024-02-26T22:44:11.526853Z"
    }
   },
   "outputs": [
    {
     "data": {
      "text/plain": [
       "'bafybeia7jlkyzt22qgh66felldr322l5c7jdvm4xspr222f4usnd2ttbze'"
      ]
     },
     "execution_count": 6,
     "metadata": {},
     "output_type": "execute_result"
    }
   ],
   "source": [
    "ipfs_add_feature(geojson_path)"
   ]
  },
  {
   "cell_type": "code",
   "execution_count": null,
   "id": "59e4e0c8-c336-4e50-b48a-fddff0894d30",
   "metadata": {},
   "outputs": [],
   "source": [
    "cid = \"bafybeia7jlkyzt22qgh66felldr322l5c7jdvm4xspr222f4usnd2ttbze\""
   ]
  },
  {
   "cell_type": "code",
   "execution_count": null,
   "id": "5f2a689c-1fbd-43ef-88f0-0f4ecb4600bc",
   "metadata": {},
   "outputs": [],
   "source": [
    "##debugging\n",
    "# import subprocess\n",
    "\n",
    "# of,lg = (6266126, 4005)\n",
    "\n",
    "# result = subprocess.run(['ipfs', 'cat', cid, \"-o\",str(of),\"-l\",str(lg)], stdout=subprocess.PIPE, check=True, text=True)"
   ]
  },
  {
   "cell_type": "markdown",
   "id": "ef3e8339-ca4e-4999-b0b2-50f91cfda199",
   "metadata": {},
   "source": [
    "## Spatial query\n",
    "Perform a spatial query and return a list of geohashes"
   ]
  },
  {
   "cell_type": "code",
   "execution_count": 3,
   "id": "dc9b9850-5cea-428e-9351-c7a3e261929d",
   "metadata": {
    "execution": {
     "iopub.execute_input": "2024-02-21T05:25:55.115898Z",
     "iopub.status.busy": "2024-02-21T05:25:55.114226Z",
     "iopub.status.idle": "2024-02-21T05:25:55.126350Z",
     "shell.execute_reply": "2024-02-21T05:25:55.125174Z",
     "shell.execute_reply.started": "2024-02-21T05:25:55.115812Z"
    }
   },
   "outputs": [],
   "source": [
    "geohashes = ['dqcjy',\n",
    " 'dqcjz',\n",
    " 'dqcjw',\n",
    " 'dqcjv',\n",
    " 'dqcjx',\n",
    " 'dqcjq',\n",
    " 'dqcjt',\n",
    " 'dqcju',\n",
    " 'dqcjr',\n",
    " 'dqcjm',\n",
    " 'dqcjs',\n",
    " 'dqcjg',\n",
    " 'dqcjk',\n",
    " 'dqcnn',\n",
    " 'dqcnq',\n",
    " 'dqcnp',\n",
    " 'dqcnj',\n",
    " 'dqcnr',\n",
    " 'dqcnm',\n",
    " 'dqcnh',\n",
    " 'dqcnk',\n",
    " 'dqcmb',\n",
    " 'dqcm8',\n",
    " 'dqcm2',\n",
    " 'dqcq0']"
   ]
  },
  {
   "cell_type": "code",
   "execution_count": null,
   "id": "99e5a937-3112-461b-a4ab-ce879658fc47",
   "metadata": {},
   "outputs": [],
   "source": [
    "geohashes = ['dqcnn', 'dqcjz', 'dqcjw', 'dqcjv', 'dqcnp', 'dqcjx', 'dqcjt', 'dqcnj']"
   ]
  },
  {
   "cell_type": "markdown",
   "id": "c7e0c96c-a124-41a4-bc65-754008a25c5f",
   "metadata": {},
   "source": [
    "## Feature Retrieval"
   ]
  },
  {
   "cell_type": "code",
   "execution_count": null,
   "id": "0ad48293-9466-4e6a-95fd-629c63da1c7e",
   "metadata": {},
   "outputs": [],
   "source": [
    "offsettree.query(geohashes,index_cid)"
   ]
  },
  {
   "cell_type": "code",
   "execution_count": null,
   "id": "4e6dca77-e550-4bb5-b0f0-07e829d689f7",
   "metadata": {},
   "outputs": [],
   "source": [
    "offsettree.retrieve(geohashes,index_cid)"
   ]
  },
  {
   "cell_type": "markdown",
   "id": "24412ef1-326c-4d55-9f7a-e50d68afa1d5",
   "metadata": {},
   "source": [
    "## Detached tree with CID"
   ]
  },
  {
   "cell_type": "code",
   "execution_count": 1,
   "id": "8db4b846-afd2-4826-8473-481f481123da",
   "metadata": {
    "execution": {
     "iopub.execute_input": "2024-05-20T01:24:57.688130Z",
     "iopub.status.busy": "2024-05-20T01:24:57.687345Z",
     "iopub.status.idle": "2024-05-20T01:24:58.444529Z",
     "shell.execute_reply": "2024-05-20T01:24:58.444131Z",
     "shell.execute_reply.started": "2024-05-20T01:24:57.688081Z"
    }
   },
   "outputs": [
    {
     "name": "stderr",
     "output_type": "stream",
     "text": [
      "WARNING:root:Numpy and Numba are soft dependencies to use the numba geohashing functions. \n",
      "Can only import/use native python functions.\n"
     ]
    },
    {
     "name": "stdout",
     "output_type": "stream",
     "text": [
      "IPFS path: /usr/local/bin/ipfs\n"
     ]
    }
   ],
   "source": [
    "import sys\n",
    "sys.path.append(\"../\")\n",
    "from geohashtree.geohashtree import LiteTreeCID\n",
    "from geohashtree.filesystem import ipfs_add_index_folder,ipfs_get_index_folder"
   ]
  },
  {
   "cell_type": "code",
   "execution_count": 13,
   "id": "dee888e4-4abb-4509-bb54-64350609b5f4",
   "metadata": {
    "execution": {
     "iopub.execute_input": "2024-05-20T01:26:51.504182Z",
     "iopub.status.busy": "2024-05-20T01:26:51.502764Z",
     "iopub.status.idle": "2024-05-20T01:26:51.513299Z",
     "shell.execute_reply": "2024-05-20T01:26:51.512146Z",
     "shell.execute_reply.started": "2024-05-20T01:26:51.504112Z"
    }
   },
   "outputs": [],
   "source": [
    "#Entire workflow for LiteTreeCID\n",
    "\n",
    "asset = \"dc_restaurants\"\n",
    "raw_path = f\"../assets/{asset}.parquet\"\n",
    "index_path = f\"../data/geohash_cid_{asset}_parq/index\"\n",
    "pieces_path = f\"../data/geohash_cid_{asset}_parq\""
   ]
  },
  {
   "cell_type": "code",
   "execution_count": 14,
   "id": "4557223c-1b16-4d5a-a2b7-3ad66c695994",
   "metadata": {
    "execution": {
     "iopub.execute_input": "2024-05-20T01:26:52.518384Z",
     "iopub.status.busy": "2024-05-20T01:26:52.517762Z",
     "iopub.status.idle": "2024-05-20T01:26:52.521576Z",
     "shell.execute_reply": "2024-05-20T01:26:52.521077Z",
     "shell.execute_reply.started": "2024-05-20T01:26:52.518362Z"
    }
   },
   "outputs": [],
   "source": [
    "cidtree = LiteTreeCID()"
   ]
  },
  {
   "cell_type": "code",
   "execution_count": 16,
   "id": "d035e85d-4d05-4a7c-a667-7c916deedc04",
   "metadata": {
    "execution": {
     "iopub.execute_input": "2024-05-20T01:29:51.121889Z",
     "iopub.status.busy": "2024-05-20T01:29:51.120865Z",
     "iopub.status.idle": "2024-05-20T01:30:05.766592Z",
     "shell.execute_reply": "2024-05-20T01:30:05.766018Z",
     "shell.execute_reply.started": "2024-05-20T01:29:51.121801Z"
    }
   },
   "outputs": [
    {
     "name": "stdout",
     "output_type": "stream",
     "text": [
      "bafkreidem5suuztpntgpz5pgui7ogx7qifsehp5xjfyuqremxu376mn2du\n",
      "bafkreigv4hqwvw3tmswgk7b2kw6ppeiwp7okzytpnf26ipugeifokzw4ly\n",
      "bafkreifx7aepqoh7b6sb7xyo2sivanvawtqs7w4abgku5uqik3d5ebz4ge\n",
      "bafkreievembse7sxbatctkx2yck7h4gy7srgi7dlbpuzh66wajv4bpt5iu\n",
      "bafybeigy2g7xwfrbfd2jkxnorhr4iutxhuhamfjyztlsfbs77qxltbuwke\n",
      "bafkreicb32q6lzsxi5ocn2muc2w2dezawmoffq4at7pwglbyxqby7u6eu4\n",
      "bafkreiheon2kwwaopsxfokeiq6megbuq44z2wt7r6url4faxn7cacafgda\n",
      "bafkreiadohbld422sbtnirafw3zq4mhxdpql2ykwdpqpqussswb4qnqxse\n",
      "bafkreih2soe5iqn5goz5qglvkm7isd4e5jyx666a2tigrgcndnz2474sv4\n",
      "bafkreide5jcydthejgzydj7tu6sbsm3e6znmix37rzuybd6uxvkbqidvr4\n"
     ]
    }
   ],
   "source": [
    "cidtree.add_from_parquet(raw_path,pieces_path,precision=4)"
   ]
  },
  {
   "cell_type": "code",
   "execution_count": 17,
   "id": "9e3d5bd1-61b8-453f-a723-2f9601ec54c9",
   "metadata": {
    "execution": {
     "iopub.execute_input": "2024-05-20T01:30:06.814112Z",
     "iopub.status.busy": "2024-05-20T01:30:06.810125Z",
     "iopub.status.idle": "2024-05-20T01:30:06.829858Z",
     "shell.execute_reply": "2024-05-20T01:30:06.828489Z",
     "shell.execute_reply.started": "2024-05-20T01:30:06.814022Z"
    }
   },
   "outputs": [],
   "source": [
    "cidtree.generate_tree_index(index_path)"
   ]
  },
  {
   "cell_type": "code",
   "execution_count": 4,
   "id": "74dbd7f5-a9e7-4754-a0b8-27dea87d5934",
   "metadata": {
    "execution": {
     "iopub.execute_input": "2024-05-20T01:02:47.056336Z",
     "iopub.status.busy": "2024-05-20T01:02:47.054589Z",
     "iopub.status.idle": "2024-05-20T01:03:05.643299Z",
     "shell.execute_reply": "2024-05-20T01:03:05.641505Z",
     "shell.execute_reply.started": "2024-05-20T01:02:47.056203Z"
    }
   },
   "outputs": [],
   "source": [
    "cidtree.upload_parquet_files(pieces_path)"
   ]
  },
  {
   "cell_type": "code",
   "execution_count": 18,
   "id": "fde03a1f-e577-4d4d-b99e-1acf0af5883a",
   "metadata": {
    "execution": {
     "iopub.execute_input": "2024-05-20T01:30:11.737301Z",
     "iopub.status.busy": "2024-05-20T01:30:11.729211Z",
     "iopub.status.idle": "2024-05-20T01:30:13.291260Z",
     "shell.execute_reply": "2024-05-20T01:30:13.290611Z",
     "shell.execute_reply.started": "2024-05-20T01:30:11.737139Z"
    }
   },
   "outputs": [
    {
     "data": {
      "text/plain": [
       "'bafybeihfj2qf7c4lqbwdle7e6vqclexrvc4xf3evaa77z43gu5tbtrj53e'"
      ]
     },
     "execution_count": 18,
     "metadata": {},
     "output_type": "execute_result"
    }
   ],
   "source": [
    "ipfs_add_index_folder(index_path)"
   ]
  },
  {
   "cell_type": "code",
   "execution_count": 19,
   "id": "5bfc920a-6fbc-4203-bcfd-06723c36ae7f",
   "metadata": {
    "execution": {
     "iopub.execute_input": "2024-05-20T01:30:18.919374Z",
     "iopub.status.busy": "2024-05-20T01:30:18.908331Z",
     "iopub.status.idle": "2024-05-20T01:30:20.821261Z",
     "shell.execute_reply": "2024-05-20T01:30:20.820688Z",
     "shell.execute_reply.started": "2024-05-20T01:30:18.919201Z"
    }
   },
   "outputs": [
    {
     "name": "stderr",
     "output_type": "stream",
     "text": [
      " 1.30 KiB / 1.30 KiB  100.00% 0s\n"
     ]
    },
    {
     "data": {
      "text/plain": [
       "'Saving file(s) to ../data/test/geohash_cid_dc_parq\\n'"
      ]
     },
     "execution_count": 19,
     "metadata": {},
     "output_type": "execute_result"
    }
   ],
   "source": [
    "ipfs_get_index_folder('bafybeihfj2qf7c4lqbwdle7e6vqclexrvc4xf3evaa77z43gu5tbtrj53e','../data/test/geohash_cid_dc_parq')"
   ]
  },
  {
   "cell_type": "code",
   "execution_count": 4,
   "id": "8d27cafa-8cb5-4c45-b605-130cdaf2f4ae",
   "metadata": {
    "execution": {
     "iopub.execute_input": "2024-05-20T01:25:03.972159Z",
     "iopub.status.busy": "2024-05-20T01:25:03.970697Z",
     "iopub.status.idle": "2024-05-20T01:25:03.979648Z",
     "shell.execute_reply": "2024-05-20T01:25:03.978129Z",
     "shell.execute_reply.started": "2024-05-20T01:25:03.972023Z"
    }
   },
   "outputs": [],
   "source": [
    "local_index_path = '../data/test/geohash_cid_dc_parq'"
   ]
  },
  {
   "cell_type": "code",
   "execution_count": 6,
   "id": "df2f6684-3c77-4575-82d2-c72eb5081dd4",
   "metadata": {
    "execution": {
     "iopub.execute_input": "2024-05-20T01:21:04.774290Z",
     "iopub.status.busy": "2024-05-20T01:21:04.772780Z",
     "iopub.status.idle": "2024-05-20T01:21:04.852955Z",
     "shell.execute_reply": "2024-05-20T01:21:04.852097Z",
     "shell.execute_reply.started": "2024-05-20T01:21:04.774194Z"
    }
   },
   "outputs": [
    {
     "ename": "AttributeError",
     "evalue": "'LiteTreeCID' object has no attribute 'file_format'",
     "output_type": "error",
     "traceback": [
      "\u001b[0;31m---------------------------------------------------------------------------\u001b[0m",
      "\u001b[0;31mAttributeError\u001b[0m                            Traceback (most recent call last)",
      "Cell \u001b[0;32mIn[6], line 1\u001b[0m\n\u001b[0;32m----> 1\u001b[0m \u001b[43mcidtree\u001b[49m\u001b[38;5;241;43m.\u001b[39;49m\u001b[43mfile_format\u001b[49m\n",
      "\u001b[0;31mAttributeError\u001b[0m: 'LiteTreeCID' object has no attribute 'file_format'"
     ]
    }
   ],
   "source": [
    "cidtree.file_format"
   ]
  },
  {
   "cell_type": "code",
   "execution_count": null,
   "id": "1c82a7b2-e7d1-4645-91b4-05da8e8fbbf2",
   "metadata": {},
   "outputs": [],
   "source": [
    "cidtree."
   ]
  },
  {
   "cell_type": "code",
   "execution_count": null,
   "id": "25b337f8-b002-4598-b17c-0f9948f4e7c0",
   "metadata": {},
   "outputs": [],
   "source": [
    "import glob\n",
    "piece_files = glob.glob(pieces_path+\"/*.geojson\")"
   ]
  },
  {
   "cell_type": "code",
   "execution_count": null,
   "id": "5946c0ed-68b4-4013-bc50-4aff1b184b14",
   "metadata": {},
   "outputs": [],
   "source": [
    "ipfs_add_feature(piece_files)"
   ]
  },
  {
   "cell_type": "code",
   "execution_count": null,
   "id": "0dbb5a0d-565f-43d4-b93d-f360fd898a0b",
   "metadata": {},
   "outputs": [],
   "source": [
    "geojson_path"
   ]
  },
  {
   "cell_type": "code",
   "execution_count": 5,
   "id": "a197dde9-96c9-4e07-987b-5528a2965d35",
   "metadata": {
    "execution": {
     "iopub.execute_input": "2024-05-20T01:25:08.867141Z",
     "iopub.status.busy": "2024-05-20T01:25:08.865876Z",
     "iopub.status.idle": "2024-05-20T01:25:08.874795Z",
     "shell.execute_reply": "2024-05-20T01:25:08.873434Z",
     "shell.execute_reply.started": "2024-05-20T01:25:08.867068Z"
    }
   },
   "outputs": [],
   "source": [
    "geohashes = ['dqcn', 'dqcj']"
   ]
  },
  {
   "cell_type": "code",
   "execution_count": 6,
   "id": "59e0faf6-5324-461a-9809-df40a1e52509",
   "metadata": {
    "execution": {
     "iopub.execute_input": "2024-05-20T01:25:09.970147Z",
     "iopub.status.busy": "2024-05-20T01:25:09.969705Z",
     "iopub.status.idle": "2024-05-20T01:25:09.984743Z",
     "shell.execute_reply": "2024-05-20T01:25:09.978866Z",
     "shell.execute_reply.started": "2024-05-20T01:25:09.970119Z"
    }
   },
   "outputs": [],
   "source": [
    "cids = cidtree.query(geohashes,local_index_path)"
   ]
  },
  {
   "cell_type": "code",
   "execution_count": 8,
   "id": "930e10a5-8b8c-4b42-9bd9-8049620600d3",
   "metadata": {
    "execution": {
     "iopub.execute_input": "2024-05-20T01:25:11.585688Z",
     "iopub.status.busy": "2024-05-20T01:25:11.584914Z",
     "iopub.status.idle": "2024-05-20T01:25:11.594635Z",
     "shell.execute_reply": "2024-05-20T01:25:11.593687Z",
     "shell.execute_reply.started": "2024-05-20T01:25:11.585622Z"
    }
   },
   "outputs": [
    {
     "data": {
      "text/plain": [
       "2"
      ]
     },
     "execution_count": 8,
     "metadata": {},
     "output_type": "execute_result"
    }
   ],
   "source": [
    "len(cids)"
   ]
  },
  {
   "cell_type": "code",
   "execution_count": 10,
   "id": "617ebf43-4e9e-4072-adac-515616db204a",
   "metadata": {
    "execution": {
     "iopub.execute_input": "2024-05-20T01:25:30.203923Z",
     "iopub.status.busy": "2024-05-20T01:25:30.202836Z",
     "iopub.status.idle": "2024-05-20T01:25:30.212784Z",
     "shell.execute_reply": "2024-05-20T01:25:30.211104Z",
     "shell.execute_reply.started": "2024-05-20T01:25:30.203848Z"
    }
   },
   "outputs": [],
   "source": [
    "cidtree.file_format = 'parquet'"
   ]
  },
  {
   "cell_type": "code",
   "execution_count": 11,
   "id": "6251576b-2113-46cf-8bcd-4cac82b5546d",
   "metadata": {
    "execution": {
     "iopub.execute_input": "2024-05-20T01:25:31.082724Z",
     "iopub.status.busy": "2024-05-20T01:25:31.082471Z",
     "iopub.status.idle": "2024-05-20T01:25:31.276806Z",
     "shell.execute_reply": "2024-05-20T01:25:31.276484Z",
     "shell.execute_reply.started": "2024-05-20T01:25:31.082702Z"
    }
   },
   "outputs": [
    {
     "name": "stdout",
     "output_type": "stream",
     "text": [
      "parquet\n"
     ]
    }
   ],
   "source": [
    "ret = cidtree.retrieve(geohashes,local_index_path)"
   ]
  },
  {
   "cell_type": "code",
   "execution_count": 12,
   "id": "8fa20c8f-cd56-46de-89ae-41b8b6ff1f31",
   "metadata": {
    "execution": {
     "iopub.execute_input": "2024-05-20T01:25:35.765801Z",
     "iopub.status.busy": "2024-05-20T01:25:35.754217Z",
     "iopub.status.idle": "2024-05-20T01:25:35.946379Z",
     "shell.execute_reply": "2024-05-20T01:25:35.945980Z",
     "shell.execute_reply.started": "2024-05-20T01:25:35.765589Z"
    }
   },
   "outputs": [
    {
     "data": {
      "text/html": [
       "<div>\n",
       "<style scoped>\n",
       "    .dataframe tbody tr th:only-of-type {\n",
       "        vertical-align: middle;\n",
       "    }\n",
       "\n",
       "    .dataframe tbody tr th {\n",
       "        vertical-align: top;\n",
       "    }\n",
       "\n",
       "    .dataframe thead th {\n",
       "        text-align: right;\n",
       "    }\n",
       "</style>\n",
       "<table border=\"1\" class=\"dataframe\">\n",
       "  <thead>\n",
       "    <tr style=\"text-align: right;\">\n",
       "      <th></th>\n",
       "      <th>full_id</th>\n",
       "      <th>osm_id</th>\n",
       "      <th>osm_type</th>\n",
       "      <th>amenity</th>\n",
       "      <th>atm</th>\n",
       "      <th>opening_hours:bar</th>\n",
       "      <th>survey:date</th>\n",
       "      <th>brewery</th>\n",
       "      <th>payment:cheque</th>\n",
       "      <th>tourism</th>\n",
       "      <th>...</th>\n",
       "      <th>addr:street</th>\n",
       "      <th>addr:state</th>\n",
       "      <th>addr:postcode</th>\n",
       "      <th>addr:housenumber</th>\n",
       "      <th>addr:city</th>\n",
       "      <th>entrance</th>\n",
       "      <th>geometry</th>\n",
       "      <th>x</th>\n",
       "      <th>y</th>\n",
       "      <th>geohash</th>\n",
       "    </tr>\n",
       "  </thead>\n",
       "  <tbody>\n",
       "    <tr>\n",
       "      <th>7</th>\n",
       "      <td>n268777767</td>\n",
       "      <td>268777767</td>\n",
       "      <td>node</td>\n",
       "      <td>restaurant</td>\n",
       "      <td>None</td>\n",
       "      <td>None</td>\n",
       "      <td>None</td>\n",
       "      <td>None</td>\n",
       "      <td>None</td>\n",
       "      <td>None</td>\n",
       "      <td>...</td>\n",
       "      <td>None</td>\n",
       "      <td>None</td>\n",
       "      <td>None</td>\n",
       "      <td>None</td>\n",
       "      <td>None</td>\n",
       "      <td>None</td>\n",
       "      <td>POINT (-77.15439 39.08388)</td>\n",
       "      <td>-77.154388</td>\n",
       "      <td>39.083883</td>\n",
       "      <td>dqcn</td>\n",
       "    </tr>\n",
       "    <tr>\n",
       "      <th>11</th>\n",
       "      <td>n341582156</td>\n",
       "      <td>341582156</td>\n",
       "      <td>node</td>\n",
       "      <td>restaurant</td>\n",
       "      <td>None</td>\n",
       "      <td>None</td>\n",
       "      <td>None</td>\n",
       "      <td>None</td>\n",
       "      <td>None</td>\n",
       "      <td>None</td>\n",
       "      <td>...</td>\n",
       "      <td>Crabbs Branch Way</td>\n",
       "      <td>MD</td>\n",
       "      <td>20855</td>\n",
       "      <td>16811</td>\n",
       "      <td>Derwood</td>\n",
       "      <td>None</td>\n",
       "      <td>POINT (-77.16691 39.13142)</td>\n",
       "      <td>-77.166907</td>\n",
       "      <td>39.131420</td>\n",
       "      <td>dqcn</td>\n",
       "    </tr>\n",
       "    <tr>\n",
       "      <th>38</th>\n",
       "      <td>n512951175</td>\n",
       "      <td>512951175</td>\n",
       "      <td>node</td>\n",
       "      <td>restaurant</td>\n",
       "      <td>None</td>\n",
       "      <td>None</td>\n",
       "      <td>None</td>\n",
       "      <td>None</td>\n",
       "      <td>None</td>\n",
       "      <td>None</td>\n",
       "      <td>...</td>\n",
       "      <td>Columbia Pike</td>\n",
       "      <td>MD</td>\n",
       "      <td>None</td>\n",
       "      <td>10721</td>\n",
       "      <td>None</td>\n",
       "      <td>None</td>\n",
       "      <td>POINT (-77.00405 39.03095)</td>\n",
       "      <td>-77.004055</td>\n",
       "      <td>39.030949</td>\n",
       "      <td>dqcn</td>\n",
       "    </tr>\n",
       "    <tr>\n",
       "      <th>39</th>\n",
       "      <td>n558678266</td>\n",
       "      <td>558678266</td>\n",
       "      <td>node</td>\n",
       "      <td>restaurant</td>\n",
       "      <td>None</td>\n",
       "      <td>None</td>\n",
       "      <td>None</td>\n",
       "      <td>None</td>\n",
       "      <td>None</td>\n",
       "      <td>None</td>\n",
       "      <td>...</td>\n",
       "      <td>Rockville Pike</td>\n",
       "      <td>MD</td>\n",
       "      <td>20852</td>\n",
       "      <td>12147</td>\n",
       "      <td>Rockville</td>\n",
       "      <td>None</td>\n",
       "      <td>POINT (-77.11994 39.05788)</td>\n",
       "      <td>-77.119941</td>\n",
       "      <td>39.057878</td>\n",
       "      <td>dqcn</td>\n",
       "    </tr>\n",
       "    <tr>\n",
       "      <th>64</th>\n",
       "      <td>n582790575</td>\n",
       "      <td>582790575</td>\n",
       "      <td>node</td>\n",
       "      <td>restaurant</td>\n",
       "      <td>None</td>\n",
       "      <td>None</td>\n",
       "      <td>None</td>\n",
       "      <td>None</td>\n",
       "      <td>None</td>\n",
       "      <td>None</td>\n",
       "      <td>...</td>\n",
       "      <td>None</td>\n",
       "      <td>None</td>\n",
       "      <td>None</td>\n",
       "      <td>None</td>\n",
       "      <td>None</td>\n",
       "      <td>None</td>\n",
       "      <td>POINT (-77.07726 39.08132)</td>\n",
       "      <td>-77.077265</td>\n",
       "      <td>39.081323</td>\n",
       "      <td>dqcn</td>\n",
       "    </tr>\n",
       "    <tr>\n",
       "      <th>...</th>\n",
       "      <td>...</td>\n",
       "      <td>...</td>\n",
       "      <td>...</td>\n",
       "      <td>...</td>\n",
       "      <td>...</td>\n",
       "      <td>...</td>\n",
       "      <td>...</td>\n",
       "      <td>...</td>\n",
       "      <td>...</td>\n",
       "      <td>...</td>\n",
       "      <td>...</td>\n",
       "      <td>...</td>\n",
       "      <td>...</td>\n",
       "      <td>...</td>\n",
       "      <td>...</td>\n",
       "      <td>...</td>\n",
       "      <td>...</td>\n",
       "      <td>...</td>\n",
       "      <td>...</td>\n",
       "      <td>...</td>\n",
       "      <td>...</td>\n",
       "    </tr>\n",
       "    <tr>\n",
       "      <th>2669</th>\n",
       "      <td>n11265544918</td>\n",
       "      <td>11265544918</td>\n",
       "      <td>node</td>\n",
       "      <td>restaurant</td>\n",
       "      <td>None</td>\n",
       "      <td>None</td>\n",
       "      <td>None</td>\n",
       "      <td>None</td>\n",
       "      <td>None</td>\n",
       "      <td>None</td>\n",
       "      <td>...</td>\n",
       "      <td>14th Street Northwest</td>\n",
       "      <td>None</td>\n",
       "      <td>None</td>\n",
       "      <td>3310</td>\n",
       "      <td>None</td>\n",
       "      <td>None</td>\n",
       "      <td>POINT (-77.03292 38.93071)</td>\n",
       "      <td>-77.032923</td>\n",
       "      <td>38.930711</td>\n",
       "      <td>dqcj</td>\n",
       "    </tr>\n",
       "    <tr>\n",
       "      <th>2670</th>\n",
       "      <td>n11275845269</td>\n",
       "      <td>11275845269</td>\n",
       "      <td>node</td>\n",
       "      <td>restaurant</td>\n",
       "      <td>None</td>\n",
       "      <td>None</td>\n",
       "      <td>None</td>\n",
       "      <td>None</td>\n",
       "      <td>None</td>\n",
       "      <td>None</td>\n",
       "      <td>...</td>\n",
       "      <td>Arlington Boulevard</td>\n",
       "      <td>VA</td>\n",
       "      <td>22042</td>\n",
       "      <td>7236</td>\n",
       "      <td>None</td>\n",
       "      <td>None</td>\n",
       "      <td>POINT (-77.19543 38.86694)</td>\n",
       "      <td>-77.195429</td>\n",
       "      <td>38.866937</td>\n",
       "      <td>dqcj</td>\n",
       "    </tr>\n",
       "    <tr>\n",
       "      <th>2672</th>\n",
       "      <td>n11285160608</td>\n",
       "      <td>11285160608</td>\n",
       "      <td>node</td>\n",
       "      <td>restaurant</td>\n",
       "      <td>None</td>\n",
       "      <td>None</td>\n",
       "      <td>None</td>\n",
       "      <td>None</td>\n",
       "      <td>None</td>\n",
       "      <td>None</td>\n",
       "      <td>...</td>\n",
       "      <td>New Jersey Avenue Northwest</td>\n",
       "      <td>None</td>\n",
       "      <td>None</td>\n",
       "      <td>1545</td>\n",
       "      <td>None</td>\n",
       "      <td>None</td>\n",
       "      <td>POINT (-77.01643 38.91095)</td>\n",
       "      <td>-77.016429</td>\n",
       "      <td>38.910949</td>\n",
       "      <td>dqcj</td>\n",
       "    </tr>\n",
       "    <tr>\n",
       "      <th>2673</th>\n",
       "      <td>n11286073597</td>\n",
       "      <td>11286073597</td>\n",
       "      <td>node</td>\n",
       "      <td>restaurant</td>\n",
       "      <td>None</td>\n",
       "      <td>None</td>\n",
       "      <td>None</td>\n",
       "      <td>None</td>\n",
       "      <td>None</td>\n",
       "      <td>None</td>\n",
       "      <td>...</td>\n",
       "      <td>K Street Northwest</td>\n",
       "      <td>None</td>\n",
       "      <td>None</td>\n",
       "      <td>1108</td>\n",
       "      <td>None</td>\n",
       "      <td>None</td>\n",
       "      <td>POINT (-77.02754 38.90226)</td>\n",
       "      <td>-77.027543</td>\n",
       "      <td>38.902256</td>\n",
       "      <td>dqcj</td>\n",
       "    </tr>\n",
       "    <tr>\n",
       "      <th>2674</th>\n",
       "      <td>n11289765028</td>\n",
       "      <td>11289765028</td>\n",
       "      <td>node</td>\n",
       "      <td>restaurant</td>\n",
       "      <td>None</td>\n",
       "      <td>None</td>\n",
       "      <td>None</td>\n",
       "      <td>None</td>\n",
       "      <td>None</td>\n",
       "      <td>None</td>\n",
       "      <td>...</td>\n",
       "      <td>None</td>\n",
       "      <td>None</td>\n",
       "      <td>None</td>\n",
       "      <td>None</td>\n",
       "      <td>None</td>\n",
       "      <td>None</td>\n",
       "      <td>POINT (-77.03241 38.90226)</td>\n",
       "      <td>-77.032410</td>\n",
       "      <td>38.902259</td>\n",
       "      <td>dqcj</td>\n",
       "    </tr>\n",
       "  </tbody>\n",
       "</table>\n",
       "<p>1851 rows × 182 columns</p>\n",
       "</div>"
      ],
      "text/plain": [
       "           full_id       osm_id osm_type     amenity   atm opening_hours:bar  \\\n",
       "7       n268777767    268777767     node  restaurant  None              None   \n",
       "11      n341582156    341582156     node  restaurant  None              None   \n",
       "38      n512951175    512951175     node  restaurant  None              None   \n",
       "39      n558678266    558678266     node  restaurant  None              None   \n",
       "64      n582790575    582790575     node  restaurant  None              None   \n",
       "...            ...          ...      ...         ...   ...               ...   \n",
       "2669  n11265544918  11265544918     node  restaurant  None              None   \n",
       "2670  n11275845269  11275845269     node  restaurant  None              None   \n",
       "2672  n11285160608  11285160608     node  restaurant  None              None   \n",
       "2673  n11286073597  11286073597     node  restaurant  None              None   \n",
       "2674  n11289765028  11289765028     node  restaurant  None              None   \n",
       "\n",
       "     survey:date brewery payment:cheque tourism  ...  \\\n",
       "7           None    None           None    None  ...   \n",
       "11          None    None           None    None  ...   \n",
       "38          None    None           None    None  ...   \n",
       "39          None    None           None    None  ...   \n",
       "64          None    None           None    None  ...   \n",
       "...          ...     ...            ...     ...  ...   \n",
       "2669        None    None           None    None  ...   \n",
       "2670        None    None           None    None  ...   \n",
       "2672        None    None           None    None  ...   \n",
       "2673        None    None           None    None  ...   \n",
       "2674        None    None           None    None  ...   \n",
       "\n",
       "                      addr:street addr:state addr:postcode addr:housenumber  \\\n",
       "7                            None       None          None             None   \n",
       "11              Crabbs Branch Way         MD         20855            16811   \n",
       "38                  Columbia Pike         MD          None            10721   \n",
       "39                 Rockville Pike         MD         20852            12147   \n",
       "64                           None       None          None             None   \n",
       "...                           ...        ...           ...              ...   \n",
       "2669        14th Street Northwest       None          None             3310   \n",
       "2670          Arlington Boulevard         VA         22042             7236   \n",
       "2672  New Jersey Avenue Northwest       None          None             1545   \n",
       "2673           K Street Northwest       None          None             1108   \n",
       "2674                         None       None          None             None   \n",
       "\n",
       "      addr:city entrance                    geometry          x          y  \\\n",
       "7          None     None  POINT (-77.15439 39.08388) -77.154388  39.083883   \n",
       "11      Derwood     None  POINT (-77.16691 39.13142) -77.166907  39.131420   \n",
       "38         None     None  POINT (-77.00405 39.03095) -77.004055  39.030949   \n",
       "39    Rockville     None  POINT (-77.11994 39.05788) -77.119941  39.057878   \n",
       "64         None     None  POINT (-77.07726 39.08132) -77.077265  39.081323   \n",
       "...         ...      ...                         ...        ...        ...   \n",
       "2669       None     None  POINT (-77.03292 38.93071) -77.032923  38.930711   \n",
       "2670       None     None  POINT (-77.19543 38.86694) -77.195429  38.866937   \n",
       "2672       None     None  POINT (-77.01643 38.91095) -77.016429  38.910949   \n",
       "2673       None     None  POINT (-77.02754 38.90226) -77.027543  38.902256   \n",
       "2674       None     None  POINT (-77.03241 38.90226) -77.032410  38.902259   \n",
       "\n",
       "     geohash  \n",
       "7       dqcn  \n",
       "11      dqcn  \n",
       "38      dqcn  \n",
       "39      dqcn  \n",
       "64      dqcn  \n",
       "...      ...  \n",
       "2669    dqcj  \n",
       "2670    dqcj  \n",
       "2672    dqcj  \n",
       "2673    dqcj  \n",
       "2674    dqcj  \n",
       "\n",
       "[1851 rows x 182 columns]"
      ]
     },
     "execution_count": 12,
     "metadata": {},
     "output_type": "execute_result"
    }
   ],
   "source": [
    "ret"
   ]
  },
  {
   "cell_type": "code",
   "execution_count": null,
   "id": "9e4f2b1d-7398-49e1-88b7-5c5a3c829438",
   "metadata": {},
   "outputs": [],
   "source": [
    "from geohashtree.geohashtree import FullTreeFile"
   ]
  },
  {
   "cell_type": "markdown",
   "id": "aed7c1b5-78bf-4f7e-bc76-dffeeb6ec29e",
   "metadata": {},
   "source": [
    "## Attached tree with file"
   ]
  },
  {
   "cell_type": "code",
   "execution_count": null,
   "id": "65a048fd-b162-4d97-8512-d784fb23785d",
   "metadata": {
    "execution": {
     "iopub.execute_input": "2024-03-12T05:09:39.055319Z",
     "iopub.status.busy": "2024-03-12T05:09:39.054888Z",
     "iopub.status.idle": "2024-03-12T06:31:12.458627Z",
     "shell.execute_reply": "2024-03-12T06:31:12.458058Z",
     "shell.execute_reply.started": "2024-03-12T05:09:39.055293Z"
    }
   },
   "outputs": [],
   "source": [
    "#Entire workflow for FullTreeFile\n",
    "\n",
    "asset = \"us_places_100k\"\n",
    "geojson_path = f\"../data/overture/{asset}.geojson\"\n",
    "index_path = f\"../data/geohash_full_{asset}/index\""
   ]
  },
  {
   "cell_type": "code",
   "execution_count": null,
   "id": "c07a886e-4970-483c-b75d-4caf590c0520",
   "metadata": {
    "execution": {
     "iopub.execute_input": "2024-03-12T05:09:39.055319Z",
     "iopub.status.busy": "2024-03-12T05:09:39.054888Z",
     "iopub.status.idle": "2024-03-12T06:31:12.458627Z",
     "shell.execute_reply": "2024-03-12T06:31:12.458058Z",
     "shell.execute_reply.started": "2024-03-12T05:09:39.055293Z"
    }
   },
   "outputs": [],
   "source": [
    "fulltree = FullTreeFile()\n",
    "fulltree.add_from_geojson(geojson_path)\n",
    "fulltree.generate_tree_index(index_path)\n",
    "ipfs_add_index_folder(index_path)"
   ]
  },
  {
   "cell_type": "code",
   "execution_count": 3,
   "id": "3a28b513-6ed6-4a1d-b63f-bdedb9c970eb",
   "metadata": {
    "execution": {
     "iopub.execute_input": "2024-03-11T22:41:27.001649Z",
     "iopub.status.busy": "2024-03-11T22:41:27.001259Z",
     "iopub.status.idle": "2024-03-11T22:41:27.004888Z",
     "shell.execute_reply": "2024-03-11T22:41:27.004295Z",
     "shell.execute_reply.started": "2024-03-11T22:41:27.001625Z"
    }
   },
   "outputs": [],
   "source": [
    "geohashes = ['dqcnn', 'dqcjz', 'dqcjw', 'dqcjv', 'dqcnp', 'dqcjx', 'dqcjt', 'dqcnj']"
   ]
  },
  {
   "cell_type": "code",
   "execution_count": null,
   "id": "a4ffc66c-27d6-4dc8-b007-314566a80825",
   "metadata": {},
   "outputs": [],
   "source": [
    "cid = \"bafybeiez73pdnpevvoptzft54zmljj54di2pp44slk67wfeo7uz5hdbqoe/d/dq/dqc/dqcn/dqcnn\""
   ]
  },
  {
   "cell_type": "code",
   "execution_count": 4,
   "id": "067cbed4-46f6-4120-ac17-999a6150d2dd",
   "metadata": {
    "execution": {
     "iopub.execute_input": "2024-03-11T22:41:35.670645Z",
     "iopub.status.busy": "2024-03-11T22:41:35.670247Z",
     "iopub.status.idle": "2024-03-11T22:41:40.009911Z",
     "shell.execute_reply": "2024-03-11T22:41:40.008845Z",
     "shell.execute_reply.started": "2024-03-11T22:41:35.670619Z"
    }
   },
   "outputs": [
    {
     "ename": "NameError",
     "evalue": "name 'cid' is not defined",
     "output_type": "error",
     "traceback": [
      "\u001b[0;31m---------------------------------------------------------------------------\u001b[0m",
      "\u001b[0;31mNameError\u001b[0m                                 Traceback (most recent call last)",
      "Cell \u001b[0;32mIn[4], line 2\u001b[0m\n\u001b[1;32m      1\u001b[0m \u001b[38;5;28;01mimport\u001b[39;00m \u001b[38;5;21;01mos\u001b[39;00m\n\u001b[0;32m----> 2\u001b[0m os\u001b[38;5;241m.\u001b[39mpath\u001b[38;5;241m.\u001b[39mjoin(\u001b[43mcid\u001b[49m,\u001b[38;5;124m\"\u001b[39m\u001b[38;5;124mdqcnn0.geojson\u001b[39m\u001b[38;5;124m\"\u001b[39m)\n",
      "\u001b[0;31mNameError\u001b[0m: name 'cid' is not defined"
     ]
    }
   ],
   "source": [
    "import os\n",
    "os.path.join(cid,\"dqcnn0.geojson\")"
   ]
  },
  {
   "cell_type": "code",
   "execution_count": 5,
   "id": "732175ae-61b1-4787-959f-afda6a092109",
   "metadata": {
    "execution": {
     "iopub.execute_input": "2024-03-11T22:41:42.458738Z",
     "iopub.status.busy": "2024-03-11T22:41:42.458146Z",
     "iopub.status.idle": "2024-03-11T22:41:42.462796Z",
     "shell.execute_reply": "2024-03-11T22:41:42.461880Z",
     "shell.execute_reply.started": "2024-03-11T22:41:42.458707Z"
    }
   },
   "outputs": [],
   "source": [
    "index_cid = \"bafybeiez73pdnpevvoptzft54zmljj54di2pp44slk67wfeo7uz5hdbqoe\""
   ]
  },
  {
   "cell_type": "code",
   "execution_count": 6,
   "id": "1e944a45-cafb-4fff-8e7c-174c0409ef78",
   "metadata": {
    "execution": {
     "iopub.execute_input": "2024-03-11T22:41:44.534332Z",
     "iopub.status.busy": "2024-03-11T22:41:44.533733Z",
     "iopub.status.idle": "2024-03-11T22:41:50.585913Z",
     "shell.execute_reply": "2024-03-11T22:41:50.584729Z",
     "shell.execute_reply.started": "2024-03-11T22:41:44.534292Z"
    }
   },
   "outputs": [],
   "source": [
    "results = fulltree.query(geohashes,index_cid)"
   ]
  },
  {
   "cell_type": "code",
   "execution_count": 7,
   "id": "95eabf09-2849-49c1-8729-803d4130f0ef",
   "metadata": {
    "execution": {
     "iopub.execute_input": "2024-03-11T22:41:55.011354Z",
     "iopub.status.busy": "2024-03-11T22:41:55.010701Z",
     "iopub.status.idle": "2024-03-11T22:41:55.020553Z",
     "shell.execute_reply": "2024-03-11T22:41:55.019788Z",
     "shell.execute_reply.started": "2024-03-11T22:41:55.011316Z"
    }
   },
   "outputs": [
    {
     "data": {
      "text/plain": [
       "329"
      ]
     },
     "execution_count": 7,
     "metadata": {},
     "output_type": "execute_result"
    }
   ],
   "source": [
    "len(results)"
   ]
  },
  {
   "cell_type": "code",
   "execution_count": 8,
   "id": "bbdfa6ec-2eaf-410c-8e3c-07c0667bcb07",
   "metadata": {
    "execution": {
     "iopub.execute_input": "2024-03-11T22:41:56.667552Z",
     "iopub.status.busy": "2024-03-11T22:41:56.667001Z",
     "iopub.status.idle": "2024-03-11T22:41:56.753797Z",
     "shell.execute_reply": "2024-03-11T22:41:56.753013Z",
     "shell.execute_reply.started": "2024-03-11T22:41:56.667522Z"
    }
   },
   "outputs": [
    {
     "data": {
      "text/html": [
       "<div>\n",
       "<style scoped>\n",
       "    .dataframe tbody tr th:only-of-type {\n",
       "        vertical-align: middle;\n",
       "    }\n",
       "\n",
       "    .dataframe tbody tr th {\n",
       "        vertical-align: top;\n",
       "    }\n",
       "\n",
       "    .dataframe thead th {\n",
       "        text-align: right;\n",
       "    }\n",
       "</style>\n",
       "<table border=\"1\" class=\"dataframe\">\n",
       "  <thead>\n",
       "    <tr style=\"text-align: right;\">\n",
       "      <th></th>\n",
       "      <th>full_id</th>\n",
       "      <th>osm_id</th>\n",
       "      <th>osm_type</th>\n",
       "      <th>amenity</th>\n",
       "      <th>atm</th>\n",
       "      <th>opening_hours:bar</th>\n",
       "      <th>survey:date</th>\n",
       "      <th>brewery</th>\n",
       "      <th>payment:cheque</th>\n",
       "      <th>tourism</th>\n",
       "      <th>...</th>\n",
       "      <th>addr:street</th>\n",
       "      <th>addr:state</th>\n",
       "      <th>addr:postcode</th>\n",
       "      <th>addr:housenumber</th>\n",
       "      <th>addr:city</th>\n",
       "      <th>entrance</th>\n",
       "      <th>x</th>\n",
       "      <th>y</th>\n",
       "      <th>geohash</th>\n",
       "      <th>geometry</th>\n",
       "    </tr>\n",
       "  </thead>\n",
       "  <tbody>\n",
       "    <tr>\n",
       "      <th>0</th>\n",
       "      <td>n1366294218</td>\n",
       "      <td>1366294218</td>\n",
       "      <td>node</td>\n",
       "      <td>restaurant</td>\n",
       "      <td>None</td>\n",
       "      <td>None</td>\n",
       "      <td>None</td>\n",
       "      <td>None</td>\n",
       "      <td>None</td>\n",
       "      <td>None</td>\n",
       "      <td>...</td>\n",
       "      <td>Connecticut Avenue</td>\n",
       "      <td>MD</td>\n",
       "      <td>20895</td>\n",
       "      <td>10508</td>\n",
       "      <td>Kensington</td>\n",
       "      <td>None</td>\n",
       "      <td>-77.077347</td>\n",
       "      <td>39.028378</td>\n",
       "      <td>dqcnn0</td>\n",
       "      <td>POINT (-77.07735 39.02838)</td>\n",
       "    </tr>\n",
       "    <tr>\n",
       "      <th>1</th>\n",
       "      <td>n5613751173</td>\n",
       "      <td>5613751173</td>\n",
       "      <td>node</td>\n",
       "      <td>restaurant</td>\n",
       "      <td>None</td>\n",
       "      <td>None</td>\n",
       "      <td>None</td>\n",
       "      <td>None</td>\n",
       "      <td>None</td>\n",
       "      <td>None</td>\n",
       "      <td>...</td>\n",
       "      <td>Armory Avenue</td>\n",
       "      <td>MD</td>\n",
       "      <td>20895</td>\n",
       "      <td>10417</td>\n",
       "      <td>Kensington</td>\n",
       "      <td>None</td>\n",
       "      <td>-77.074518</td>\n",
       "      <td>39.027431</td>\n",
       "      <td>dqcnn0</td>\n",
       "      <td>POINT (-77.07452 39.02743)</td>\n",
       "    </tr>\n",
       "    <tr>\n",
       "      <th>2</th>\n",
       "      <td>n7189139268</td>\n",
       "      <td>7189139268</td>\n",
       "      <td>node</td>\n",
       "      <td>restaurant</td>\n",
       "      <td>None</td>\n",
       "      <td>None</td>\n",
       "      <td>None</td>\n",
       "      <td>None</td>\n",
       "      <td>None</td>\n",
       "      <td>None</td>\n",
       "      <td>...</td>\n",
       "      <td>Metropolitan Avenue</td>\n",
       "      <td>MD</td>\n",
       "      <td>20895</td>\n",
       "      <td>10509</td>\n",
       "      <td>Kensington</td>\n",
       "      <td>None</td>\n",
       "      <td>-77.071348</td>\n",
       "      <td>39.027516</td>\n",
       "      <td>dqcnn0</td>\n",
       "      <td>POINT (-77.07135 39.02752)</td>\n",
       "    </tr>\n",
       "    <tr>\n",
       "      <th>3</th>\n",
       "      <td>n8402911162</td>\n",
       "      <td>8402911162</td>\n",
       "      <td>node</td>\n",
       "      <td>restaurant</td>\n",
       "      <td>None</td>\n",
       "      <td>None</td>\n",
       "      <td>None</td>\n",
       "      <td>None</td>\n",
       "      <td>None</td>\n",
       "      <td>None</td>\n",
       "      <td>...</td>\n",
       "      <td>Kensington Parkway</td>\n",
       "      <td>MD</td>\n",
       "      <td>20895</td>\n",
       "      <td>10301</td>\n",
       "      <td>Kensington</td>\n",
       "      <td>None</td>\n",
       "      <td>-77.070937</td>\n",
       "      <td>39.025357</td>\n",
       "      <td>dqcnn0</td>\n",
       "      <td>POINT (-77.07094 39.02536)</td>\n",
       "    </tr>\n",
       "    <tr>\n",
       "      <th>4</th>\n",
       "      <td>n8504662317</td>\n",
       "      <td>8504662317</td>\n",
       "      <td>node</td>\n",
       "      <td>restaurant</td>\n",
       "      <td>None</td>\n",
       "      <td>None</td>\n",
       "      <td>None</td>\n",
       "      <td>None</td>\n",
       "      <td>None</td>\n",
       "      <td>None</td>\n",
       "      <td>...</td>\n",
       "      <td>Howard Avenue</td>\n",
       "      <td>MD</td>\n",
       "      <td>20895</td>\n",
       "      <td>3784</td>\n",
       "      <td>Kensington</td>\n",
       "      <td>None</td>\n",
       "      <td>-77.074266</td>\n",
       "      <td>39.027745</td>\n",
       "      <td>dqcnn0</td>\n",
       "      <td>POINT (-77.07427 39.02775)</td>\n",
       "    </tr>\n",
       "    <tr>\n",
       "      <th>...</th>\n",
       "      <td>...</td>\n",
       "      <td>...</td>\n",
       "      <td>...</td>\n",
       "      <td>...</td>\n",
       "      <td>...</td>\n",
       "      <td>...</td>\n",
       "      <td>...</td>\n",
       "      <td>...</td>\n",
       "      <td>...</td>\n",
       "      <td>...</td>\n",
       "      <td>...</td>\n",
       "      <td>...</td>\n",
       "      <td>...</td>\n",
       "      <td>...</td>\n",
       "      <td>...</td>\n",
       "      <td>...</td>\n",
       "      <td>...</td>\n",
       "      <td>...</td>\n",
       "      <td>...</td>\n",
       "      <td>...</td>\n",
       "      <td>...</td>\n",
       "    </tr>\n",
       "    <tr>\n",
       "      <th>7</th>\n",
       "      <td>n6348525382</td>\n",
       "      <td>6348525382</td>\n",
       "      <td>node</td>\n",
       "      <td>restaurant</td>\n",
       "      <td>None</td>\n",
       "      <td>None</td>\n",
       "      <td>None</td>\n",
       "      <td>None</td>\n",
       "      <td>None</td>\n",
       "      <td>None</td>\n",
       "      <td>...</td>\n",
       "      <td>Twinbrook Parkway</td>\n",
       "      <td>MD</td>\n",
       "      <td>20852</td>\n",
       "      <td>12303</td>\n",
       "      <td>Rockville</td>\n",
       "      <td>None</td>\n",
       "      <td>-77.119616</td>\n",
       "      <td>39.058517</td>\n",
       "      <td>dqcnjn</td>\n",
       "      <td>POINT (-77.11962 39.05852)</td>\n",
       "    </tr>\n",
       "    <tr>\n",
       "      <th>8</th>\n",
       "      <td>n8735325466</td>\n",
       "      <td>8735325466</td>\n",
       "      <td>node</td>\n",
       "      <td>restaurant</td>\n",
       "      <td>None</td>\n",
       "      <td>None</td>\n",
       "      <td>None</td>\n",
       "      <td>None</td>\n",
       "      <td>None</td>\n",
       "      <td>None</td>\n",
       "      <td>...</td>\n",
       "      <td>Rockville Pike</td>\n",
       "      <td>None</td>\n",
       "      <td>None</td>\n",
       "      <td>12668</td>\n",
       "      <td>None</td>\n",
       "      <td>None</td>\n",
       "      <td>-77.122540</td>\n",
       "      <td>39.057150</td>\n",
       "      <td>dqcnjn</td>\n",
       "      <td>POINT (-77.12254 39.05715)</td>\n",
       "    </tr>\n",
       "    <tr>\n",
       "      <th>0</th>\n",
       "      <td>n11113180851</td>\n",
       "      <td>11113180851</td>\n",
       "      <td>node</td>\n",
       "      <td>restaurant</td>\n",
       "      <td>None</td>\n",
       "      <td>None</td>\n",
       "      <td>None</td>\n",
       "      <td>None</td>\n",
       "      <td>None</td>\n",
       "      <td>None</td>\n",
       "      <td>...</td>\n",
       "      <td>Wilkins Court</td>\n",
       "      <td>None</td>\n",
       "      <td>None</td>\n",
       "      <td>12307</td>\n",
       "      <td>None</td>\n",
       "      <td>None</td>\n",
       "      <td>-77.112674</td>\n",
       "      <td>39.057823</td>\n",
       "      <td>dqcnjq</td>\n",
       "      <td>POINT (-77.11267 39.05782)</td>\n",
       "    </tr>\n",
       "    <tr>\n",
       "      <th>0</th>\n",
       "      <td>n633618682</td>\n",
       "      <td>633618682</td>\n",
       "      <td>node</td>\n",
       "      <td>restaurant</td>\n",
       "      <td>None</td>\n",
       "      <td>None</td>\n",
       "      <td>None</td>\n",
       "      <td>None</td>\n",
       "      <td>None</td>\n",
       "      <td>None</td>\n",
       "      <td>...</td>\n",
       "      <td>None</td>\n",
       "      <td>None</td>\n",
       "      <td>None</td>\n",
       "      <td>None</td>\n",
       "      <td>None</td>\n",
       "      <td>None</td>\n",
       "      <td>-77.099084</td>\n",
       "      <td>39.046104</td>\n",
       "      <td>dqcnjs</td>\n",
       "      <td>POINT (-77.09908 39.04610)</td>\n",
       "    </tr>\n",
       "    <tr>\n",
       "      <th>1</th>\n",
       "      <td>n1206440535</td>\n",
       "      <td>1206440535</td>\n",
       "      <td>node</td>\n",
       "      <td>restaurant</td>\n",
       "      <td>None</td>\n",
       "      <td>None</td>\n",
       "      <td>None</td>\n",
       "      <td>None</td>\n",
       "      <td>None</td>\n",
       "      <td>None</td>\n",
       "      <td>...</td>\n",
       "      <td>None</td>\n",
       "      <td>None</td>\n",
       "      <td>None</td>\n",
       "      <td>None</td>\n",
       "      <td>None</td>\n",
       "      <td>None</td>\n",
       "      <td>-77.098852</td>\n",
       "      <td>39.046115</td>\n",
       "      <td>dqcnjs</td>\n",
       "      <td>POINT (-77.09885 39.04611)</td>\n",
       "    </tr>\n",
       "  </tbody>\n",
       "</table>\n",
       "<p>329 rows × 182 columns</p>\n",
       "</div>"
      ],
      "text/plain": [
       "         full_id       osm_id osm_type     amenity   atm opening_hours:bar  \\\n",
       "0    n1366294218   1366294218     node  restaurant  None              None   \n",
       "1    n5613751173   5613751173     node  restaurant  None              None   \n",
       "2    n7189139268   7189139268     node  restaurant  None              None   \n",
       "3    n8402911162   8402911162     node  restaurant  None              None   \n",
       "4    n8504662317   8504662317     node  restaurant  None              None   \n",
       "..           ...          ...      ...         ...   ...               ...   \n",
       "7    n6348525382   6348525382     node  restaurant  None              None   \n",
       "8    n8735325466   8735325466     node  restaurant  None              None   \n",
       "0   n11113180851  11113180851     node  restaurant  None              None   \n",
       "0     n633618682    633618682     node  restaurant  None              None   \n",
       "1    n1206440535   1206440535     node  restaurant  None              None   \n",
       "\n",
       "   survey:date brewery payment:cheque tourism  ...          addr:street  \\\n",
       "0         None    None           None    None  ...   Connecticut Avenue   \n",
       "1         None    None           None    None  ...        Armory Avenue   \n",
       "2         None    None           None    None  ...  Metropolitan Avenue   \n",
       "3         None    None           None    None  ...   Kensington Parkway   \n",
       "4         None    None           None    None  ...        Howard Avenue   \n",
       "..         ...     ...            ...     ...  ...                  ...   \n",
       "7         None    None           None    None  ...    Twinbrook Parkway   \n",
       "8         None    None           None    None  ...       Rockville Pike   \n",
       "0         None    None           None    None  ...        Wilkins Court   \n",
       "0         None    None           None    None  ...                 None   \n",
       "1         None    None           None    None  ...                 None   \n",
       "\n",
       "   addr:state addr:postcode addr:housenumber   addr:city entrance          x  \\\n",
       "0          MD         20895            10508  Kensington     None -77.077347   \n",
       "1          MD         20895            10417  Kensington     None -77.074518   \n",
       "2          MD         20895            10509  Kensington     None -77.071348   \n",
       "3          MD         20895            10301  Kensington     None -77.070937   \n",
       "4          MD         20895             3784  Kensington     None -77.074266   \n",
       "..        ...           ...              ...         ...      ...        ...   \n",
       "7          MD         20852            12303   Rockville     None -77.119616   \n",
       "8        None          None            12668        None     None -77.122540   \n",
       "0        None          None            12307        None     None -77.112674   \n",
       "0        None          None             None        None     None -77.099084   \n",
       "1        None          None             None        None     None -77.098852   \n",
       "\n",
       "            y geohash                    geometry  \n",
       "0   39.028378  dqcnn0  POINT (-77.07735 39.02838)  \n",
       "1   39.027431  dqcnn0  POINT (-77.07452 39.02743)  \n",
       "2   39.027516  dqcnn0  POINT (-77.07135 39.02752)  \n",
       "3   39.025357  dqcnn0  POINT (-77.07094 39.02536)  \n",
       "4   39.027745  dqcnn0  POINT (-77.07427 39.02775)  \n",
       "..        ...     ...                         ...  \n",
       "7   39.058517  dqcnjn  POINT (-77.11962 39.05852)  \n",
       "8   39.057150  dqcnjn  POINT (-77.12254 39.05715)  \n",
       "0   39.057823  dqcnjq  POINT (-77.11267 39.05782)  \n",
       "0   39.046104  dqcnjs  POINT (-77.09908 39.04610)  \n",
       "1   39.046115  dqcnjs  POINT (-77.09885 39.04611)  \n",
       "\n",
       "[329 rows x 182 columns]"
      ]
     },
     "execution_count": 8,
     "metadata": {},
     "output_type": "execute_result"
    }
   ],
   "source": [
    "results"
   ]
  },
  {
   "cell_type": "code",
   "execution_count": 9,
   "id": "46dee016-7752-437f-94b9-d9b3e5bcdde4",
   "metadata": {
    "execution": {
     "iopub.execute_input": "2024-03-11T22:42:13.359618Z",
     "iopub.status.busy": "2024-03-11T22:42:13.359068Z",
     "iopub.status.idle": "2024-03-11T22:42:18.565181Z",
     "shell.execute_reply": "2024-03-11T22:42:18.563954Z",
     "shell.execute_reply.started": "2024-03-11T22:42:13.359584Z"
    }
   },
   "outputs": [],
   "source": [
    "ret = fulltree.retrieve(geohashes,index_cid)"
   ]
  },
  {
   "cell_type": "code",
   "execution_count": 10,
   "id": "5a1f6a32-2416-40cd-a28e-38da9cac51ce",
   "metadata": {
    "execution": {
     "iopub.execute_input": "2024-03-11T22:42:21.979278Z",
     "iopub.status.busy": "2024-03-11T22:42:21.978608Z",
     "iopub.status.idle": "2024-03-11T22:42:22.006024Z",
     "shell.execute_reply": "2024-03-11T22:42:22.005153Z",
     "shell.execute_reply.started": "2024-03-11T22:42:21.979243Z"
    }
   },
   "outputs": [
    {
     "data": {
      "text/html": [
       "<div>\n",
       "<style scoped>\n",
       "    .dataframe tbody tr th:only-of-type {\n",
       "        vertical-align: middle;\n",
       "    }\n",
       "\n",
       "    .dataframe tbody tr th {\n",
       "        vertical-align: top;\n",
       "    }\n",
       "\n",
       "    .dataframe thead th {\n",
       "        text-align: right;\n",
       "    }\n",
       "</style>\n",
       "<table border=\"1\" class=\"dataframe\">\n",
       "  <thead>\n",
       "    <tr style=\"text-align: right;\">\n",
       "      <th></th>\n",
       "      <th>full_id</th>\n",
       "      <th>osm_id</th>\n",
       "      <th>osm_type</th>\n",
       "      <th>amenity</th>\n",
       "      <th>atm</th>\n",
       "      <th>opening_hours:bar</th>\n",
       "      <th>survey:date</th>\n",
       "      <th>brewery</th>\n",
       "      <th>payment:cheque</th>\n",
       "      <th>tourism</th>\n",
       "      <th>...</th>\n",
       "      <th>addr:street</th>\n",
       "      <th>addr:state</th>\n",
       "      <th>addr:postcode</th>\n",
       "      <th>addr:housenumber</th>\n",
       "      <th>addr:city</th>\n",
       "      <th>entrance</th>\n",
       "      <th>x</th>\n",
       "      <th>y</th>\n",
       "      <th>geohash</th>\n",
       "      <th>geometry</th>\n",
       "    </tr>\n",
       "  </thead>\n",
       "  <tbody>\n",
       "    <tr>\n",
       "      <th>0</th>\n",
       "      <td>n1366294218</td>\n",
       "      <td>1366294218</td>\n",
       "      <td>node</td>\n",
       "      <td>restaurant</td>\n",
       "      <td>None</td>\n",
       "      <td>None</td>\n",
       "      <td>None</td>\n",
       "      <td>None</td>\n",
       "      <td>None</td>\n",
       "      <td>None</td>\n",
       "      <td>...</td>\n",
       "      <td>Connecticut Avenue</td>\n",
       "      <td>MD</td>\n",
       "      <td>20895</td>\n",
       "      <td>10508</td>\n",
       "      <td>Kensington</td>\n",
       "      <td>None</td>\n",
       "      <td>-77.077347</td>\n",
       "      <td>39.028378</td>\n",
       "      <td>dqcnn0</td>\n",
       "      <td>POINT (-77.07735 39.02838)</td>\n",
       "    </tr>\n",
       "    <tr>\n",
       "      <th>1</th>\n",
       "      <td>n5613751173</td>\n",
       "      <td>5613751173</td>\n",
       "      <td>node</td>\n",
       "      <td>restaurant</td>\n",
       "      <td>None</td>\n",
       "      <td>None</td>\n",
       "      <td>None</td>\n",
       "      <td>None</td>\n",
       "      <td>None</td>\n",
       "      <td>None</td>\n",
       "      <td>...</td>\n",
       "      <td>Armory Avenue</td>\n",
       "      <td>MD</td>\n",
       "      <td>20895</td>\n",
       "      <td>10417</td>\n",
       "      <td>Kensington</td>\n",
       "      <td>None</td>\n",
       "      <td>-77.074518</td>\n",
       "      <td>39.027431</td>\n",
       "      <td>dqcnn0</td>\n",
       "      <td>POINT (-77.07452 39.02743)</td>\n",
       "    </tr>\n",
       "    <tr>\n",
       "      <th>2</th>\n",
       "      <td>n7189139268</td>\n",
       "      <td>7189139268</td>\n",
       "      <td>node</td>\n",
       "      <td>restaurant</td>\n",
       "      <td>None</td>\n",
       "      <td>None</td>\n",
       "      <td>None</td>\n",
       "      <td>None</td>\n",
       "      <td>None</td>\n",
       "      <td>None</td>\n",
       "      <td>...</td>\n",
       "      <td>Metropolitan Avenue</td>\n",
       "      <td>MD</td>\n",
       "      <td>20895</td>\n",
       "      <td>10509</td>\n",
       "      <td>Kensington</td>\n",
       "      <td>None</td>\n",
       "      <td>-77.071348</td>\n",
       "      <td>39.027516</td>\n",
       "      <td>dqcnn0</td>\n",
       "      <td>POINT (-77.07135 39.02752)</td>\n",
       "    </tr>\n",
       "    <tr>\n",
       "      <th>3</th>\n",
       "      <td>n8402911162</td>\n",
       "      <td>8402911162</td>\n",
       "      <td>node</td>\n",
       "      <td>restaurant</td>\n",
       "      <td>None</td>\n",
       "      <td>None</td>\n",
       "      <td>None</td>\n",
       "      <td>None</td>\n",
       "      <td>None</td>\n",
       "      <td>None</td>\n",
       "      <td>...</td>\n",
       "      <td>Kensington Parkway</td>\n",
       "      <td>MD</td>\n",
       "      <td>20895</td>\n",
       "      <td>10301</td>\n",
       "      <td>Kensington</td>\n",
       "      <td>None</td>\n",
       "      <td>-77.070937</td>\n",
       "      <td>39.025357</td>\n",
       "      <td>dqcnn0</td>\n",
       "      <td>POINT (-77.07094 39.02536)</td>\n",
       "    </tr>\n",
       "    <tr>\n",
       "      <th>4</th>\n",
       "      <td>n8504662317</td>\n",
       "      <td>8504662317</td>\n",
       "      <td>node</td>\n",
       "      <td>restaurant</td>\n",
       "      <td>None</td>\n",
       "      <td>None</td>\n",
       "      <td>None</td>\n",
       "      <td>None</td>\n",
       "      <td>None</td>\n",
       "      <td>None</td>\n",
       "      <td>...</td>\n",
       "      <td>Howard Avenue</td>\n",
       "      <td>MD</td>\n",
       "      <td>20895</td>\n",
       "      <td>3784</td>\n",
       "      <td>Kensington</td>\n",
       "      <td>None</td>\n",
       "      <td>-77.074266</td>\n",
       "      <td>39.027745</td>\n",
       "      <td>dqcnn0</td>\n",
       "      <td>POINT (-77.07427 39.02775)</td>\n",
       "    </tr>\n",
       "    <tr>\n",
       "      <th>...</th>\n",
       "      <td>...</td>\n",
       "      <td>...</td>\n",
       "      <td>...</td>\n",
       "      <td>...</td>\n",
       "      <td>...</td>\n",
       "      <td>...</td>\n",
       "      <td>...</td>\n",
       "      <td>...</td>\n",
       "      <td>...</td>\n",
       "      <td>...</td>\n",
       "      <td>...</td>\n",
       "      <td>...</td>\n",
       "      <td>...</td>\n",
       "      <td>...</td>\n",
       "      <td>...</td>\n",
       "      <td>...</td>\n",
       "      <td>...</td>\n",
       "      <td>...</td>\n",
       "      <td>...</td>\n",
       "      <td>...</td>\n",
       "      <td>...</td>\n",
       "    </tr>\n",
       "    <tr>\n",
       "      <th>7</th>\n",
       "      <td>n6348525382</td>\n",
       "      <td>6348525382</td>\n",
       "      <td>node</td>\n",
       "      <td>restaurant</td>\n",
       "      <td>None</td>\n",
       "      <td>None</td>\n",
       "      <td>None</td>\n",
       "      <td>None</td>\n",
       "      <td>None</td>\n",
       "      <td>None</td>\n",
       "      <td>...</td>\n",
       "      <td>Twinbrook Parkway</td>\n",
       "      <td>MD</td>\n",
       "      <td>20852</td>\n",
       "      <td>12303</td>\n",
       "      <td>Rockville</td>\n",
       "      <td>None</td>\n",
       "      <td>-77.119616</td>\n",
       "      <td>39.058517</td>\n",
       "      <td>dqcnjn</td>\n",
       "      <td>POINT (-77.11962 39.05852)</td>\n",
       "    </tr>\n",
       "    <tr>\n",
       "      <th>8</th>\n",
       "      <td>n8735325466</td>\n",
       "      <td>8735325466</td>\n",
       "      <td>node</td>\n",
       "      <td>restaurant</td>\n",
       "      <td>None</td>\n",
       "      <td>None</td>\n",
       "      <td>None</td>\n",
       "      <td>None</td>\n",
       "      <td>None</td>\n",
       "      <td>None</td>\n",
       "      <td>...</td>\n",
       "      <td>Rockville Pike</td>\n",
       "      <td>None</td>\n",
       "      <td>None</td>\n",
       "      <td>12668</td>\n",
       "      <td>None</td>\n",
       "      <td>None</td>\n",
       "      <td>-77.122540</td>\n",
       "      <td>39.057150</td>\n",
       "      <td>dqcnjn</td>\n",
       "      <td>POINT (-77.12254 39.05715)</td>\n",
       "    </tr>\n",
       "    <tr>\n",
       "      <th>0</th>\n",
       "      <td>n11113180851</td>\n",
       "      <td>11113180851</td>\n",
       "      <td>node</td>\n",
       "      <td>restaurant</td>\n",
       "      <td>None</td>\n",
       "      <td>None</td>\n",
       "      <td>None</td>\n",
       "      <td>None</td>\n",
       "      <td>None</td>\n",
       "      <td>None</td>\n",
       "      <td>...</td>\n",
       "      <td>Wilkins Court</td>\n",
       "      <td>None</td>\n",
       "      <td>None</td>\n",
       "      <td>12307</td>\n",
       "      <td>None</td>\n",
       "      <td>None</td>\n",
       "      <td>-77.112674</td>\n",
       "      <td>39.057823</td>\n",
       "      <td>dqcnjq</td>\n",
       "      <td>POINT (-77.11267 39.05782)</td>\n",
       "    </tr>\n",
       "    <tr>\n",
       "      <th>0</th>\n",
       "      <td>n633618682</td>\n",
       "      <td>633618682</td>\n",
       "      <td>node</td>\n",
       "      <td>restaurant</td>\n",
       "      <td>None</td>\n",
       "      <td>None</td>\n",
       "      <td>None</td>\n",
       "      <td>None</td>\n",
       "      <td>None</td>\n",
       "      <td>None</td>\n",
       "      <td>...</td>\n",
       "      <td>None</td>\n",
       "      <td>None</td>\n",
       "      <td>None</td>\n",
       "      <td>None</td>\n",
       "      <td>None</td>\n",
       "      <td>None</td>\n",
       "      <td>-77.099084</td>\n",
       "      <td>39.046104</td>\n",
       "      <td>dqcnjs</td>\n",
       "      <td>POINT (-77.09908 39.04610)</td>\n",
       "    </tr>\n",
       "    <tr>\n",
       "      <th>1</th>\n",
       "      <td>n1206440535</td>\n",
       "      <td>1206440535</td>\n",
       "      <td>node</td>\n",
       "      <td>restaurant</td>\n",
       "      <td>None</td>\n",
       "      <td>None</td>\n",
       "      <td>None</td>\n",
       "      <td>None</td>\n",
       "      <td>None</td>\n",
       "      <td>None</td>\n",
       "      <td>...</td>\n",
       "      <td>None</td>\n",
       "      <td>None</td>\n",
       "      <td>None</td>\n",
       "      <td>None</td>\n",
       "      <td>None</td>\n",
       "      <td>None</td>\n",
       "      <td>-77.098852</td>\n",
       "      <td>39.046115</td>\n",
       "      <td>dqcnjs</td>\n",
       "      <td>POINT (-77.09885 39.04611)</td>\n",
       "    </tr>\n",
       "  </tbody>\n",
       "</table>\n",
       "<p>329 rows × 182 columns</p>\n",
       "</div>"
      ],
      "text/plain": [
       "         full_id       osm_id osm_type     amenity   atm opening_hours:bar  \\\n",
       "0    n1366294218   1366294218     node  restaurant  None              None   \n",
       "1    n5613751173   5613751173     node  restaurant  None              None   \n",
       "2    n7189139268   7189139268     node  restaurant  None              None   \n",
       "3    n8402911162   8402911162     node  restaurant  None              None   \n",
       "4    n8504662317   8504662317     node  restaurant  None              None   \n",
       "..           ...          ...      ...         ...   ...               ...   \n",
       "7    n6348525382   6348525382     node  restaurant  None              None   \n",
       "8    n8735325466   8735325466     node  restaurant  None              None   \n",
       "0   n11113180851  11113180851     node  restaurant  None              None   \n",
       "0     n633618682    633618682     node  restaurant  None              None   \n",
       "1    n1206440535   1206440535     node  restaurant  None              None   \n",
       "\n",
       "   survey:date brewery payment:cheque tourism  ...          addr:street  \\\n",
       "0         None    None           None    None  ...   Connecticut Avenue   \n",
       "1         None    None           None    None  ...        Armory Avenue   \n",
       "2         None    None           None    None  ...  Metropolitan Avenue   \n",
       "3         None    None           None    None  ...   Kensington Parkway   \n",
       "4         None    None           None    None  ...        Howard Avenue   \n",
       "..         ...     ...            ...     ...  ...                  ...   \n",
       "7         None    None           None    None  ...    Twinbrook Parkway   \n",
       "8         None    None           None    None  ...       Rockville Pike   \n",
       "0         None    None           None    None  ...        Wilkins Court   \n",
       "0         None    None           None    None  ...                 None   \n",
       "1         None    None           None    None  ...                 None   \n",
       "\n",
       "   addr:state addr:postcode addr:housenumber   addr:city entrance          x  \\\n",
       "0          MD         20895            10508  Kensington     None -77.077347   \n",
       "1          MD         20895            10417  Kensington     None -77.074518   \n",
       "2          MD         20895            10509  Kensington     None -77.071348   \n",
       "3          MD         20895            10301  Kensington     None -77.070937   \n",
       "4          MD         20895             3784  Kensington     None -77.074266   \n",
       "..        ...           ...              ...         ...      ...        ...   \n",
       "7          MD         20852            12303   Rockville     None -77.119616   \n",
       "8        None          None            12668        None     None -77.122540   \n",
       "0        None          None            12307        None     None -77.112674   \n",
       "0        None          None             None        None     None -77.099084   \n",
       "1        None          None             None        None     None -77.098852   \n",
       "\n",
       "            y geohash                    geometry  \n",
       "0   39.028378  dqcnn0  POINT (-77.07735 39.02838)  \n",
       "1   39.027431  dqcnn0  POINT (-77.07452 39.02743)  \n",
       "2   39.027516  dqcnn0  POINT (-77.07135 39.02752)  \n",
       "3   39.025357  dqcnn0  POINT (-77.07094 39.02536)  \n",
       "4   39.027745  dqcnn0  POINT (-77.07427 39.02775)  \n",
       "..        ...     ...                         ...  \n",
       "7   39.058517  dqcnjn  POINT (-77.11962 39.05852)  \n",
       "8   39.057150  dqcnjn  POINT (-77.12254 39.05715)  \n",
       "0   39.057823  dqcnjq  POINT (-77.11267 39.05782)  \n",
       "0   39.046104  dqcnjs  POINT (-77.09908 39.04610)  \n",
       "1   39.046115  dqcnjs  POINT (-77.09885 39.04611)  \n",
       "\n",
       "[329 rows x 182 columns]"
      ]
     },
     "execution_count": 10,
     "metadata": {},
     "output_type": "execute_result"
    }
   ],
   "source": [
    "ret"
   ]
  },
  {
   "cell_type": "code",
   "execution_count": null,
   "id": "edf3cad2-9937-4776-81ff-7373d89efbd6",
   "metadata": {},
   "outputs": [],
   "source": []
  }
 ],
 "metadata": {
  "kernelspec": {
   "display_name": "Python 3 (ipykernel)",
   "language": "python",
   "name": "python3"
  },
  "language_info": {
   "codemirror_mode": {
    "name": "ipython",
    "version": 3
   },
   "file_extension": ".py",
   "mimetype": "text/x-python",
   "name": "python",
   "nbconvert_exporter": "python",
   "pygments_lexer": "ipython3",
   "version": "3.9.18"
  }
 },
 "nbformat": 4,
 "nbformat_minor": 5
}
