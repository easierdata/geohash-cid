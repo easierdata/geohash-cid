{
 "cells": [
  {
   "cell_type": "code",
   "execution_count": 1,
   "id": "677e7dcf",
   "metadata": {},
   "outputs": [],
   "source": [
    "# pip install json\n",
    "# pip install hashlib\n",
    "# pip install multiformats_cid"
   ]
  },
  {
   "cell_type": "code",
   "execution_count": null,
   "id": "fabfd2e3-d1e3-4ecd-856d-92d87e73843b",
   "metadata": {},
   "outputs": [],
   "source": [
    "import json\n",
    "import hashlib\n",
    "\n",
    "def hash_data(data):\n",
    "    \n",
    "    return hashlib.sha256(json.dumps(data).encode()).hexdigest()"
   ]
  },
  {
   "cell_type": "code",
   "execution_count": null,
   "id": "f48c3ce9-9665-4194-bcd5-76988b631e45",
   "metadata": {},
   "outputs": [],
   "source": [
    "import geopandas as gpd\n",
    "import pygeohash as pgh\n",
    "import multihash as mh\n",
    "from multiformats_cid import cid\n",
    "import multicodec\n",
    "import multibase"
   ]
  },
  {
   "cell_type": "code",
   "execution_count": null,
   "id": "f0929c5f-052d-48ea-a31f-fb99bb72c45d",
   "metadata": {},
   "outputs": [],
   "source": [
    "def merkle_tree(hash_list):\n",
    "    if len(hash_list) == 1:\n",
    "        return hash_list[0]\n",
    "    \n",
    "    new_hash_list = []\n",
    "    \n",
    "    # Process pairs. If odd number, the last is skipped for now.\n",
    "    for i in range(0, len(hash_list) - 1, 2):\n",
    "        new_hash_list.append(hash_data(hash_list[i] + hash_list[i+1]))\n",
    "\n",
    "    # If odd number of hashes, hash the last item twice\n",
    "    if len(hash_list) % 2 == 1:\n",
    "        new_hash_list.append(hash_data(hash_list[-1] + hash_list[-1]))\n",
    "\n",
    "    # Recursive call\n",
    "    return merkle_tree(new_hash_list)"
   ]
  },
  {
   "cell_type": "code",
   "execution_count": null,
   "id": "89c22a26-2c3a-4676-9b2c-5d66220f9beb",
   "metadata": {},
   "outputs": [],
   "source": [
    "# Load GeoJSON file\n",
    "with open(\"../data/naive.geojson\", \"r\") as f:\n",
    "    geojson = json.load(f)\n",
    "\n",
    "# Extract features and hash them\n",
    "feature_hashes = [hash_data(json.dumps(feature)) for feature in geojson['features']]\n",
    "\n",
    "# Create Merkle Tree\n",
    "merkle_root = merkle_tree(feature_hashes)\n",
    "\n",
    "print(f\"Merkle Root: {merkle_root}\")"
   ]
  },
  {
   "cell_type": "code",
   "execution_count": 2,
   "id": "6dd4d4e9-51bb-4944-9380-f234145eec5b",
   "metadata": {},
   "outputs": [
    {
     "data": {
      "text/plain": [
       "'cf967acf8ea0f56b0444894a2b81409e74447e3259bdda79b1f7d3d4abf08a95'"
      ]
     },
     "execution_count": 2,
     "metadata": {},
     "output_type": "execute_result"
    }
   ],
   "source": [
    "#cryptographic hash function\n",
    "hash_data(geojson)"
   ]
  },
  {
   "cell_type": "code",
   "execution_count": 4,
   "id": "43e930fb-73d3-42bc-902c-b4597cc230d7",
   "metadata": {},
   "outputs": [],
   "source": [
    "x,y = gpd.GeoDataFrame.from_features(geojson).geometry.get_coordinates().iloc[0]"
   ]
  },
  {
   "cell_type": "code",
   "execution_count": 5,
   "id": "c0ffeef0-651e-4f51-8a93-b055822f4e94",
   "metadata": {},
   "outputs": [],
   "source": [
    "def geohash_from_geojson(gj,precision=8):\n",
    "    gdf = gpd.GeoDataFrame.from_features(gj)\n",
    "    if len(gdf) < 1:\n",
    "        #invalid geometry results in all 'a' which represent no geometry\n",
    "        return 'a' * precision\n",
    "    x,y = gpd.GeoDataFrame.from_features(gj).geometry.get_coordinates().iloc[0]\n",
    "    return pgh.encode(latitude=y, longitude=x, precision=precision)\n"
   ]
  },
  {
   "cell_type": "code",
   "execution_count": 42,
   "id": "6a33c97f-dc55-4eb1-b457-0021c2f9ada6",
   "metadata": {},
   "outputs": [
    {
     "data": {
      "text/plain": [
       "'9q8yv93y'"
      ]
     },
     "execution_count": 42,
     "metadata": {},
     "output_type": "execute_result"
    }
   ],
   "source": [
    "#geographical hash function\n",
    "geohash_from_geojson(geojson)"
   ]
  },
  {
   "cell_type": "code",
   "execution_count": 6,
   "id": "cf70da4f-5a75-46fb-8449-51aa19f2af0f",
   "metadata": {},
   "outputs": [],
   "source": [
    "\n",
    "ghsh2 = geohash_from_geojson(geojson)+hash_data(geojson)"
   ]
  },
  {
   "cell_type": "code",
   "execution_count": 46,
   "id": "94bc8a16-c030-4856-ac7c-823b57799109",
   "metadata": {},
   "outputs": [
    {
     "data": {
      "text/plain": [
       "b'\\x01H9q8yv93ycf967acf8ea0f56b0444894a2b81409e74447e3259bdda79b1f7d3d4abf08a95'"
      ]
     },
     "execution_count": 46,
     "metadata": {},
     "output_type": "execute_result"
    }
   ],
   "source": [
    "mh.encode(bytes(ghsh2,'utf-8'),0x01)"
   ]
  },
  {
   "cell_type": "code",
   "execution_count": 13,
   "id": "2762fa82-dee4-4e38-b4ba-c70f54552d56",
   "metadata": {},
   "outputs": [],
   "source": [
    "#new CID\n",
    "geocid = cid.CIDv1('dag-pb',mh.encode(bytes(ghsh2,'utf-8'),0x01))"
   ]
  },
  {
   "cell_type": "code",
   "execution_count": 14,
   "id": "412251bc-905b-4c5b-9bd6-469d6e92e730",
   "metadata": {},
   "outputs": [
    {
     "data": {
      "text/plain": [
       "CIDv1(version=1, codec=dag-pb, multihash=b'\\x01H9q8yv93ycf967acf8e..')"
      ]
     },
     "execution_count": 14,
     "metadata": {},
     "output_type": "execute_result"
    }
   ],
   "source": [
    "geocid"
   ]
  },
  {
   "cell_type": "code",
   "execution_count": 15,
   "id": "1894fc00-4da5-4f8f-852a-ff6fb63b43af",
   "metadata": {},
   "outputs": [],
   "source": [
    "cidbytes = geocid.encode('base32')"
   ]
  },
  {
   "cell_type": "code",
   "execution_count": 48,
   "id": "721f0c98-b986-43be-ad15-69481eaaa047",
   "metadata": {},
   "outputs": [
    {
     "data": {
      "text/plain": [
       "b'bafyacsbzoe4hs5rzgn4wgzrzgy3wcy3ghbswcmdggu3gembugq2dqojumezgeobrgqydszjxgq2din3fgmzdkolcmrsgcnzzmiywmn3egnsdiylcmyydqyjzgu'"
      ]
     },
     "execution_count": 48,
     "metadata": {},
     "output_type": "execute_result"
    }
   ],
   "source": [
    "cidbytes"
   ]
  },
  {
   "cell_type": "code",
   "execution_count": null,
   "id": "08cb2159-cdb1-4148-be3e-6d5c70ee632d",
   "metadata": {},
   "outputs": [],
   "source": [
    "# decyphering "
   ]
  },
  {
   "cell_type": "code",
   "execution_count": 17,
   "id": "2b2efb33-4f3a-41ea-8979-6cc1f16b0170",
   "metadata": {},
   "outputs": [
    {
     "data": {
      "text/plain": [
       "CIDv1(version=1, codec=dag-pb, multihash=b'\\x01H9q8yv93ycf967acf8e..')"
      ]
     },
     "execution_count": 17,
     "metadata": {},
     "output_type": "execute_result"
    }
   ],
   "source": [
    "cid.from_bytes(cidbytes)"
   ]
  },
  {
   "cell_type": "code",
   "execution_count": 21,
   "id": "0dda9b5e-ac33-4e96-90aa-04b5cb3cdc75",
   "metadata": {},
   "outputs": [],
   "source": [
    "cid = multibase.decode(cidbytes)"
   ]
  },
  {
   "cell_type": "code",
   "execution_count": 22,
   "id": "0b01366e-b8b4-4b67-a65d-90e760552483",
   "metadata": {},
   "outputs": [
    {
     "data": {
      "text/plain": [
       "b'\\x01p\\x01H9q8yv93ycf967acf8ea0f56b0444894a2b81409e74447e3259bdda79b1f7d3d4abf08a95'"
      ]
     },
     "execution_count": 22,
     "metadata": {},
     "output_type": "execute_result"
    }
   ],
   "source": [
    "cid"
   ]
  },
  {
   "cell_type": "code",
   "execution_count": 23,
   "id": "b6499a8b-8b78-4eae-9786-0c89238b60c8",
   "metadata": {},
   "outputs": [],
   "source": [
    "data = bytes(cid[1:])\n",
    "version = int(cid[0])\n",
    "codec = multicodec.get_codec(data)\n",
    "multihash = multicodec.remove_prefix(data)"
   ]
  },
  {
   "cell_type": "code",
   "execution_count": 40,
   "id": "8d484ccb-f599-4c35-909c-7eac4cfd6a51",
   "metadata": {},
   "outputs": [],
   "source": [
    "#retrieve geohash\n",
    "ghash = mh.decode(multihash).digest[:-64].decode(\"utf-8\")"
   ]
  },
  {
   "cell_type": "code",
   "execution_count": 41,
   "id": "b2c79fad-c180-4f61-94b3-0bcc760d71e2",
   "metadata": {},
   "outputs": [
    {
     "data": {
      "text/plain": [
       "'9q8yv93y'"
      ]
     },
     "execution_count": 41,
     "metadata": {},
     "output_type": "execute_result"
    }
   ],
   "source": [
    "ghash"
   ]
  },
  {
   "cell_type": "code",
   "execution_count": null,
   "id": "95e9beab-9dbe-421e-9fd4-933865f26e28",
   "metadata": {},
   "outputs": [],
   "source": [
    "#bingo we got the geohash"
   ]
  }
 ],
 "metadata": {
  "kernelspec": {
   "display_name": "Python 3 (ipykernel)",
   "language": "python",
   "name": "python3"
  },
  "language_info": {
   "codemirror_mode": {
    "name": "ipython",
    "version": 3
   },
   "file_extension": ".py",
   "mimetype": "text/x-python",
   "name": "python",
   "nbconvert_exporter": "python",
   "pygments_lexer": "ipython3",
   "version": "3.9.12"
  }
 },
 "nbformat": 4,
 "nbformat_minor": 5
}
