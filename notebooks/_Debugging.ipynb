{
 "cells": [
  {
   "cell_type": "code",
   "execution_count": null,
   "id": "2bddabb9-204d-472e-9aaf-057fff2f8f6f",
   "metadata": {},
   "outputs": [],
   "source": []
  },
  {
   "cell_type": "code",
   "execution_count": 2,
   "id": "72579a2c-9729-4563-b381-cef29cfc5ab5",
   "metadata": {
    "execution": {
     "iopub.execute_input": "2024-03-07T07:01:10.010986Z",
     "iopub.status.busy": "2024-03-07T07:01:10.010552Z",
     "iopub.status.idle": "2024-03-07T07:01:10.014515Z",
     "shell.execute_reply": "2024-03-07T07:01:10.013712Z",
     "shell.execute_reply.started": "2024-03-07T07:01:10.010961Z"
    }
   },
   "outputs": [],
   "source": [
    "import subprocess\n",
    "import json"
   ]
  },
  {
   "cell_type": "code",
   "execution_count": 1,
   "id": "110bfacd-9a61-4872-9107-6a466b81d03d",
   "metadata": {
    "execution": {
     "iopub.execute_input": "2024-03-07T07:01:01.037813Z",
     "iopub.status.busy": "2024-03-07T07:01:01.037358Z",
     "iopub.status.idle": "2024-03-07T07:01:10.009027Z",
     "shell.execute_reply": "2024-03-07T07:01:10.008035Z",
     "shell.execute_reply.started": "2024-03-07T07:01:01.037783Z"
    },
    "tags": []
   },
   "outputs": [
    {
     "name": "stderr",
     "output_type": "stream",
     "text": [
      "WARNING:root:Numpy and Numba are soft dependencies to use the numba geohashing functions. \n",
      "Can only import/use native python functions.\n"
     ]
    },
    {
     "name": "stdout",
     "output_type": "stream",
     "text": [
      "ipfs path /gpfs/data1/oshangp/easier/textile/kubo/ipfs\n"
     ]
    }
   ],
   "source": [
    "import pygeohash as pgh\n",
    "import subprocess\n",
    "import geopandas as gpd\n",
    "import pandas as pd\n",
    "import os\n",
    "import sys\n",
    "sys.path.append(\"../\")\n",
    "from geohashtree.geohashtree import LiteTreeOffset, LiteTreeCID, FullTreeFile\n",
    "from geohashtree.filesystem import ipfs_add_feature,ipfs_add_index_folder,ipfs_binary"
   ]
  },
  {
   "cell_type": "code",
   "execution_count": 2,
   "id": "e564b447-274e-4551-962f-0ef9685aa5fb",
   "metadata": {
    "execution": {
     "iopub.execute_input": "2024-03-06T23:36:48.640775Z",
     "iopub.status.busy": "2024-03-06T23:36:48.640252Z",
     "iopub.status.idle": "2024-03-06T23:36:48.645020Z",
     "shell.execute_reply": "2024-03-06T23:36:48.644206Z",
     "shell.execute_reply.started": "2024-03-06T23:36:48.640752Z"
    }
   },
   "outputs": [],
   "source": [
    "asset = \"dc_restaurants\"\n",
    "geojson_path = f\"../assets/{asset}.geojson\"\n",
    "index_path = f\"../data/geohash_offset_{asset}/index\"\n",
    "cid = \"bafybeia7jlkyzt22qgh66felldr322l5c7jdvm4xspr222f4usnd2ttbze\"\n",
    "index_cid = \"bafybeib6ex2onm2wk5wxrdfe73l4m3la3c35nr5f4b4trbtidqaofduqiu\""
   ]
  },
  {
   "cell_type": "code",
   "execution_count": 30,
   "id": "5ee47ab6-6453-4f81-a3fe-6e661ecda503",
   "metadata": {
    "execution": {
     "iopub.execute_input": "2024-03-06T23:56:54.705604Z",
     "iopub.status.busy": "2024-03-06T23:56:54.705172Z",
     "iopub.status.idle": "2024-03-06T23:56:54.708915Z",
     "shell.execute_reply": "2024-03-06T23:56:54.708303Z",
     "shell.execute_reply.started": "2024-03-06T23:56:54.705572Z"
    }
   },
   "outputs": [],
   "source": [
    "index_cid = \"bafybeiehnivyka3j57d5regqelgr2x7n3p6u66un4zmv5r5e32kheh33dy\""
   ]
  },
  {
   "cell_type": "code",
   "execution_count": 138,
   "id": "f8ff5ddf-9068-45df-8c52-c93bde90e12f",
   "metadata": {
    "execution": {
     "iopub.execute_input": "2024-03-07T00:20:39.422087Z",
     "iopub.status.busy": "2024-03-07T00:20:39.421490Z",
     "iopub.status.idle": "2024-03-07T00:20:39.426266Z",
     "shell.execute_reply": "2024-03-07T00:20:39.425288Z",
     "shell.execute_reply.started": "2024-03-07T00:20:39.422049Z"
    }
   },
   "outputs": [],
   "source": [
    "index_cid = \"bafybeiehnivyka3j57d5regqelgr2x7n3p6u66un4zmv5r5e32kheh33dy/9/9k/9kx/9kxp/9kxpz/9kxpz\""
   ]
  },
  {
   "cell_type": "code",
   "execution_count": 98,
   "id": "f1c1fff7-d5bd-4fac-a542-5ba52af057e4",
   "metadata": {
    "execution": {
     "iopub.execute_input": "2024-03-07T00:17:37.726174Z",
     "iopub.status.busy": "2024-03-07T00:17:37.725685Z",
     "iopub.status.idle": "2024-03-07T00:17:37.730237Z",
     "shell.execute_reply": "2024-03-07T00:17:37.729273Z",
     "shell.execute_reply.started": "2024-03-07T00:17:37.726142Z"
    }
   },
   "outputs": [],
   "source": [
    "index_cid = \"bafybeibkdcoutd3duzxauykev6vuv5zsgwiwmge6vemjhibmmslthoicd4\""
   ]
  },
  {
   "cell_type": "code",
   "execution_count": 130,
   "id": "1c0d3f28-7401-4913-bd2b-95a84e6df38b",
   "metadata": {
    "execution": {
     "iopub.execute_input": "2024-03-07T00:19:13.702686Z",
     "iopub.status.busy": "2024-03-07T00:19:13.702111Z",
     "iopub.status.idle": "2024-03-07T00:19:13.777535Z",
     "shell.execute_reply": "2024-03-07T00:19:13.776333Z",
     "shell.execute_reply.started": "2024-03-07T00:19:13.702653Z"
    }
   },
   "outputs": [],
   "source": [
    "result = subprocess.run([ipfs_binary, 'dag', 'get', index_cid], capture_output=True, text=True)"
   ]
  },
  {
   "cell_type": "code",
   "execution_count": 27,
   "id": "60a7158a-5048-40c7-be3c-9fca186d5345",
   "metadata": {
    "execution": {
     "iopub.execute_input": "2024-03-08T06:20:38.169608Z",
     "iopub.status.busy": "2024-03-08T06:20:38.169161Z",
     "iopub.status.idle": "2024-03-08T06:20:38.236410Z",
     "shell.execute_reply": "2024-03-08T06:20:38.235738Z",
     "shell.execute_reply.started": "2024-03-08T06:20:38.169583Z"
    }
   },
   "outputs": [
    {
     "data": {
      "text/plain": [
       "CompletedProcess(args=['/gpfs/data1/oshangp/easier/textile/kubo/ipfs', 'version'], returncode=0, stdout='ipfs version 0.18.1\\n', stderr='')"
      ]
     },
     "execution_count": 27,
     "metadata": {},
     "output_type": "execute_result"
    }
   ],
   "source": [
    "subprocess.run([ipfs_binary, 'version'], capture_output=True, text=True)"
   ]
  },
  {
   "cell_type": "code",
   "execution_count": 26,
   "id": "d8c9786c-3153-4a1d-a057-bc044cf47020",
   "metadata": {
    "execution": {
     "iopub.execute_input": "2024-03-08T06:20:37.110989Z",
     "iopub.status.busy": "2024-03-08T06:20:37.110521Z",
     "iopub.status.idle": "2024-03-08T06:20:37.133098Z",
     "shell.execute_reply": "2024-03-08T06:20:37.132391Z",
     "shell.execute_reply.started": "2024-03-08T06:20:37.110957Z"
    }
   },
   "outputs": [
    {
     "ename": "NameError",
     "evalue": "name 'result' is not defined",
     "output_type": "error",
     "traceback": [
      "\u001b[0;31m---------------------------------------------------------------------------\u001b[0m",
      "\u001b[0;31mNameError\u001b[0m                                 Traceback (most recent call last)",
      "Cell \u001b[0;32mIn[26], line 1\u001b[0m\n\u001b[0;32m----> 1\u001b[0m \u001b[43mresult\u001b[49m\u001b[38;5;241m.\u001b[39mreturncode\n",
      "\u001b[0;31mNameError\u001b[0m: name 'result' is not defined"
     ]
    }
   ],
   "source": [
    "result.returncode"
   ]
  },
  {
   "cell_type": "code",
   "execution_count": 6,
   "id": "3c8b9585-07ba-4f94-a905-adef517ee2f3",
   "metadata": {
    "execution": {
     "iopub.execute_input": "2024-03-07T07:02:19.422017Z",
     "iopub.status.busy": "2024-03-07T07:02:19.421396Z",
     "iopub.status.idle": "2024-03-07T07:02:19.427414Z",
     "shell.execute_reply": "2024-03-07T07:02:19.426401Z",
     "shell.execute_reply.started": "2024-03-07T07:02:19.421984Z"
    }
   },
   "outputs": [],
   "source": [
    "from geohashtree.trie import Trie, TrieNode"
   ]
  },
  {
   "cell_type": "code",
   "execution_count": 95,
   "id": "ad377fcd-f870-44de-875a-04ead4321c78",
   "metadata": {
    "execution": {
     "iopub.execute_input": "2024-03-09T00:08:37.826001Z",
     "iopub.status.busy": "2024-03-09T00:08:37.825452Z",
     "iopub.status.idle": "2024-03-09T00:08:37.831688Z",
     "shell.execute_reply": "2024-03-09T00:08:37.830756Z",
     "shell.execute_reply.started": "2024-03-09T00:08:37.825968Z"
    }
   },
   "outputs": [],
   "source": [
    "\n",
    "def build_trie_node(cid):\n",
    "    response = requests.post(\"http://127.0.0.1:5001/api/v0/dag/get\", params={'arg':cid})\n",
    "    data = response.json()\n",
    "    global cnt\n",
    "    cnt += 1\n",
    "    node = TrieNode()\n",
    "    for link in data['Links']:\n",
    "        if link['Name'].endswith('.txt'):\n",
    "            node.value.append(link['Name'])\n",
    "        else:\n",
    "            node.children[link['Name']] = build_trie_node(cid+'/'+link['Name'])\n",
    "    return node"
   ]
  },
  {
   "cell_type": "code",
   "execution_count": 102,
   "id": "0de0a9b4-926b-48f1-9e57-215e45e0f587",
   "metadata": {
    "execution": {
     "iopub.execute_input": "2024-03-09T00:09:22.714319Z",
     "iopub.status.busy": "2024-03-09T00:09:22.713785Z",
     "iopub.status.idle": "2024-03-09T00:14:15.983222Z",
     "shell.execute_reply": "2024-03-09T00:14:15.982486Z",
     "shell.execute_reply.started": "2024-03-09T00:09:22.714287Z"
    }
   },
   "outputs": [
    {
     "name": "stdout",
     "output_type": "stream",
     "text": [
      "39845\n"
     ]
    }
   ],
   "source": [
    "cnt = 0\n",
    "node_ret = build_trie_node(\"bafybeiehnivyka3j57d5regqelgr2x7n3p6u66un4zmv5r5e32kheh33dy/9\")\n",
    "print(cnt)"
   ]
  },
  {
   "cell_type": "code",
   "execution_count": 16,
   "id": "09b5dd22-dda5-4a0b-8a64-146fd61f1196",
   "metadata": {
    "execution": {
     "iopub.execute_input": "2024-03-06T23:42:01.384833Z",
     "iopub.status.busy": "2024-03-06T23:42:01.384370Z",
     "iopub.status.idle": "2024-03-06T23:42:01.389513Z",
     "shell.execute_reply": "2024-03-06T23:42:01.388823Z",
     "shell.execute_reply.started": "2024-03-06T23:42:01.384807Z"
    }
   },
   "outputs": [
    {
     "data": {
      "text/plain": [
       "True"
      ]
     },
     "execution_count": 16,
     "metadata": {},
     "output_type": "execute_result"
    }
   ],
   "source": [
    "isinstance(data, dict)"
   ]
  },
  {
   "cell_type": "code",
   "execution_count": null,
   "id": "b7d4f0e7-6e59-4d08-b303-cdec3b2ea3ad",
   "metadata": {},
   "outputs": [],
   "source": [
    "if isinstance(data, dict):\n",
    "    for key, value in data.items():\n",
    "        # This assumes CIDs are directly stored as values; adjust the condition as needed\n",
    "        if isinstance(value, str) and value.startswith(\"bafy\"):\n",
    "            print(f\"{'  '*depth}Fetching linked CID at {key}: {value}\")\n",
    "            data[key] = fetch_dag_node(value, depth + 1)"
   ]
  },
  {
   "cell_type": "code",
   "execution_count": null,
   "id": "ec787be9-8b74-4167-8298-a605685e85a2",
   "metadata": {},
   "outputs": [],
   "source": [
    "def fetch_dag_node(cid, depth=0):\n",
    "    # Use subprocess to call 'ipfs dag get'\n",
    "    result = subprocess.run(['ipfs', 'dag', 'get', cid], capture_output=True, text=True)\n",
    "    if result.returncode != 0:\n",
    "        print(f\"Error fetching CID {cid}: {result.stderr}\")\n",
    "        return None\n",
    "\n",
    "    # Parse the JSON output\n",
    "    data = json.loads(result.stdout)\n",
    "\n",
    "    # Check if the data is a dict and look for CIDs to recurse on\n",
    "    if isinstance(data, dict):\n",
    "        for key, value in data.items():\n",
    "            # This assumes CIDs are directly stored as values; adjust the condition as needed\n",
    "            if isinstance(value, str) and value.startswith(\"bafy\"):\n",
    "                print(f\"{'  '*depth}Fetching linked CID at {key}: {value}\")\n",
    "                data[key] = fetch_dag_node(value, depth + 1)\n",
    "\n",
    "    return data\n",
    "\n",
    "# Start CID - replace 'your_start_cid' with your actual CID\n",
    "start_cid = 'your_start_cid'\n",
    "dag_structure = fetch_dag_node(start_cid)\n",
    "\n",
    "# Do something with dag_structure, like printing it or saving it to a file\n",
    "print(json.dumps(dag_structure, indent=2))"
   ]
  },
  {
   "cell_type": "code",
   "execution_count": null,
   "id": "8b81029b-1ce4-48b4-92cc-f830387ca858",
   "metadata": {},
   "outputs": [],
   "source": []
  },
  {
   "cell_type": "code",
   "execution_count": 126,
   "id": "24551d58-dc04-46a8-8283-cd95e8562436",
   "metadata": {
    "execution": {
     "iopub.execute_input": "2024-03-11T22:16:15.799145Z",
     "iopub.status.busy": "2024-03-11T22:16:15.798751Z",
     "iopub.status.idle": "2024-03-11T22:16:15.803625Z",
     "shell.execute_reply": "2024-03-11T22:16:15.803125Z",
     "shell.execute_reply.started": "2024-03-11T22:16:15.799122Z"
    }
   },
   "outputs": [
    {
     "data": {
      "text/plain": [
       "True"
      ]
     },
     "execution_count": 126,
     "metadata": {},
     "output_type": "execute_result"
    }
   ],
   "source": [
    "len(response.json()['Objects'][0]['Links']) > 0"
   ]
  },
  {
   "cell_type": "code",
   "execution_count": 136,
   "id": "bec6057a-e581-43ab-b524-f00b63d8f107",
   "metadata": {
    "execution": {
     "iopub.execute_input": "2024-03-11T22:23:15.521726Z",
     "iopub.status.busy": "2024-03-11T22:23:15.521338Z",
     "iopub.status.idle": "2024-03-11T22:23:15.702835Z",
     "shell.execute_reply": "2024-03-11T22:23:15.702356Z",
     "shell.execute_reply.started": "2024-03-11T22:23:15.521702Z"
    }
   },
   "outputs": [
    {
     "data": {
      "text/plain": [
       "True"
      ]
     },
     "execution_count": 136,
     "metadata": {},
     "output_type": "execute_result"
    }
   ],
   "source": [
    "# Define the URL\n",
    "url = \"http://127.0.0.1:5001/api/v0/ls\"\n",
    "#url = \"http://127.0.0.1:5001/api/v0/dag/get\"\n",
    "cid = \"bafybeiehnivyka3j57d5regqelgr2x7n3p6u66un4zmv5r5e32kheh33dy/9/9k/9kz\"\n",
    "# Define the query parameters\n",
    "params = {\n",
    "    'arg': cid,  # Replace <value> with the actual number value you wish to use\n",
    "    # Replace <value> with the actual all value (true/false or similar)\n",
    "}\n",
    "\n",
    "# Make the POST request\n",
    "response = requests.post(url, params={'arg':cid})\n",
    "not 'Type' in response.json()"
   ]
  },
  {
   "cell_type": "code",
   "execution_count": 94,
   "id": "19fd153d-f925-4799-bb84-468a1481997f",
   "metadata": {
    "execution": {
     "iopub.execute_input": "2024-03-09T00:05:36.858192Z",
     "iopub.status.busy": "2024-03-09T00:05:36.857669Z",
     "iopub.status.idle": "2024-03-09T00:05:36.879389Z",
     "shell.execute_reply": "2024-03-09T00:05:36.878654Z",
     "shell.execute_reply.started": "2024-03-09T00:05:36.858158Z"
    }
   },
   "outputs": [
    {
     "data": {
      "text/plain": [
       "{'Data': {'/': {'bytes': 'CAE'}},\n",
       " 'Links': [{'Hash': {'/': 'bafkreie72u5jxkmp46isyccbccknlnpuqn4ap4dzeyrdpgwffkgbky6t3y'},\n",
       "   'Name': '9kxvvr.txt',\n",
       "   'Tsize': 85}]}"
      ]
     },
     "execution_count": 94,
     "metadata": {},
     "output_type": "execute_result"
    }
   ],
   "source": [
    "import requests\n",
    "\n",
    "# Define the URL\n",
    "url = \"http://127.0.0.1:5001/api/v0/dag/get\"\n",
    "cid = \"bafybeiehnivyka3j57d5regqelgr2x7n3p6u66un4zmv5r5e32kheh33dy/9/9k/9kx/9kxv/9kxvz\"\n",
    "# Define the query parameters\n",
    "params = {\n",
    "    'arg': cid,  # Replace <value> with the actual number value you wish to use\n",
    "    # Replace <value> with the actual all value (true/false or similar)\n",
    "}\n",
    "\n",
    "# Make the POST request\n",
    "response = requests.post(\"http://127.0.0.1:5001/api/v0/dag/get\", params={'arg':cid})\n",
    "response.json()\n",
    "\n"
   ]
  },
  {
   "cell_type": "code",
   "execution_count": 83,
   "id": "c28f0dd1-9a0f-46d6-be59-3a289ae62b99",
   "metadata": {
    "execution": {
     "iopub.execute_input": "2024-03-09T00:03:30.021966Z",
     "iopub.status.busy": "2024-03-09T00:03:30.021502Z",
     "iopub.status.idle": "2024-03-09T00:03:30.219762Z",
     "shell.execute_reply": "2024-03-09T00:03:30.218914Z",
     "shell.execute_reply.started": "2024-03-09T00:03:30.021939Z"
    }
   },
   "outputs": [
    {
     "name": "stdout",
     "output_type": "stream",
     "text": [
      "File uploaded successfully.\n",
      "Response: {\"Name\":\"dc_restaurants.geojson\",\"Hash\":\"bafybeia7jlkyzt22qgh66felldr322l5c7jdvm4xspr222f4usnd2ttbze\",\"Size\":\"10683383\"}\n",
      "\n"
     ]
    }
   ],
   "source": [
    "import requests\n",
    "\n",
    "# The URL to which the request is sent\n",
    "url = \"http://127.0.0.1:5001/api/v0/add\"\n",
    "\n",
    "# Path to the file you want to upload\n",
    "file_path = '../data/maryland_demo/dc_restaurants.geojson'  # Change this to the actual path of your file\n",
    "\n",
    "# The file to upload\n",
    "files = {'file': open(file_path, 'rb')}\n",
    "# The query parameters\n",
    "params = {\n",
    "    'quiet': 'true',  # Replace <value> with actual value (e.g., 'true' or 'false')\n",
    "    'only-hash': 'true',\n",
    "    'cid-version': '1',\n",
    "\n",
    "}\n",
    "\n",
    "# Making the POST request\n",
    "response = requests.post(url, files=files, params=params)\n",
    "\n",
    "# Closing the file\n",
    "files['file'].close()\n",
    "\n",
    "# Check if the request was successful\n",
    "if response.status_code == 200:\n",
    "    print(\"File uploaded successfully.\")\n",
    "    print(\"Response:\", response.text)  # Or response.json() if the response is JSON\n",
    "else:\n",
    "    print(\"File upload failed with status code:\", response.status_code)"
   ]
  },
  {
   "cell_type": "code",
   "execution_count": 36,
   "id": "91bfc82c-62db-43b0-970d-4fa90d116115",
   "metadata": {
    "execution": {
     "iopub.execute_input": "2024-03-08T22:40:33.595123Z",
     "iopub.status.busy": "2024-03-08T22:40:33.594710Z",
     "iopub.status.idle": "2024-03-08T22:40:33.605280Z",
     "shell.execute_reply": "2024-03-08T22:40:33.604758Z",
     "shell.execute_reply.started": "2024-03-08T22:40:33.595095Z"
    }
   },
   "outputs": [
    {
     "name": "stdout",
     "output_type": "stream",
     "text": [
      "Directory uploaded successfully.\n",
      "Response: {\"Name\":\"a.txt\",\"Hash\":\"bafkreieygsdw3t5qlsywpjocjfj6xjmmjlejwgw7k7zi6l45bgxra7xi6a\",\"Size\":\"3\"}\n",
      "{\"Name\":\".ipynb_checkpoints/a-checkpoint.txt\",\"Hash\":\"bafkreieygsdw3t5qlsywpjocjfj6xjmmjlejwgw7k7zi6l45bgxra7xi6a\",\"Size\":\"3\"}\n",
      "{\"Name\":\".ipynb_checkpoints\",\"Hash\":\"bafybeiajdbfj2u2gudx6pk5mboi6wnx2zhcwp2wgyg6jlo2obdy4ww45c4\",\"Size\":\"67\"}\n",
      "{\"Name\":\"b/bc.txt\",\"Hash\":\"bafkreiegavu4cifbgjbpuri3ekxeqedpemmh52xkwln4ezcyp7ofhmwysq\",\"Size\":\"4\"}\n",
      "{\"Name\":\"b/.ipynb_checkpoints/bc-checkpoint.txt\",\"Hash\":\"bafkreiegavu4cifbgjbpuri3ekxeqedpemmh52xkwln4ezcyp7ofhmwysq\",\"Size\":\"4\"}\n",
      "{\"Name\":\"b/.ipynb_checkpoints\",\"Hash\":\"bafybeiesyhzw7ap36szuvzxloi27pw7pzlabrm3bxqmoo27eq4lan6ajla\",\"Size\":\"69\"}\n",
      "{\"Name\":\"b\",\"Hash\":\"bafybeiddx65lugljczewcxry6i42ryppteueajx4qob4h2d7apkomgquxa\",\"Size\":\"189\"}\n",
      "\n"
     ]
    }
   ],
   "source": [
    "# Example usage\n",
    "url = \"http://127.0.0.1:5001/api/v0/add\"\n",
    "root_dir = '../data/maryland_demo/sample'  # Replace this with the actual directory path\n",
    "upload_directory(url, root_dir)"
   ]
  },
  {
   "cell_type": "code",
   "execution_count": 45,
   "id": "4f978824-d857-411f-8712-d3c85cdf6355",
   "metadata": {
    "execution": {
     "iopub.execute_input": "2024-03-08T22:56:56.159032Z",
     "iopub.status.busy": "2024-03-08T22:56:56.158579Z",
     "iopub.status.idle": "2024-03-08T22:56:56.200926Z",
     "shell.execute_reply": "2024-03-08T22:56:56.200092Z",
     "shell.execute_reply.started": "2024-03-08T22:56:56.159007Z"
    }
   },
   "outputs": [
    {
     "name": "stdout",
     "output_type": "stream",
     "text": [
      "Command executed successfully.\n",
      "Output: {\"Name\":\"bafkreifhfgbuviwpsri2o47jefskhtlydf74zwwpeufydsvcolt6kcflje\",\"Hash\":\"bafkreifhfgbuviwpsri2o47jefskhtlydf74zwwpeufydsvcolt6kcflje\",\"Size\":\"64\"}\n",
      "\n"
     ]
    }
   ],
   "source": [
    "curl_command = [\n",
    "    \"curl\", \"-X\", \"POST\", \"-F\", \"file=/gpfs/data1/oshangp/easier/geohash-cid/data/maryland_demo/sample\",\n",
    "    \"http://127.0.0.1:5001/api/v0/add?quiet=true&cid-version=1\"\n",
    "]\n",
    "result = subprocess.run(curl_command, capture_output=True, text=True)\n",
    "\n",
    "# Check the result\n",
    "if result.returncode == 0:\n",
    "    print(\"Command executed successfully.\")\n",
    "    print(\"Output:\", result.stdout)\n",
    "else:\n",
    "    print(\"Command failed.\")\n",
    "    print(\"Error:\", result.stderr)"
   ]
  },
  {
   "cell_type": "code",
   "execution_count": 46,
   "id": "4530878c-beaa-4aeb-8040-a5f703e8cbb2",
   "metadata": {
    "execution": {
     "iopub.execute_input": "2024-03-08T22:57:01.915457Z",
     "iopub.status.busy": "2024-03-08T22:57:01.914906Z",
     "iopub.status.idle": "2024-03-08T22:57:01.989938Z",
     "shell.execute_reply": "2024-03-08T22:57:01.988908Z",
     "shell.execute_reply.started": "2024-03-08T22:57:01.915428Z"
    }
   },
   "outputs": [
    {
     "name": "stderr",
     "output_type": "stream",
     "text": [
      " 7 B / 7 B  100.00%\u001b[2K"
     ]
    }
   ],
   "source": [
    "result = subprocess.run([ipfs_binary, 'add', '-r', '--cid-version=1', '/gpfs/data1/oshangp/easier/geohash-cid/data/maryland_demo/sample'], stdout=subprocess.PIPE, check=True, text=True)"
   ]
  },
  {
   "cell_type": "code",
   "execution_count": 47,
   "id": "3ccb022f-0fb2-460d-a4e1-47145c31b0f6",
   "metadata": {
    "execution": {
     "iopub.execute_input": "2024-03-08T22:57:10.287323Z",
     "iopub.status.busy": "2024-03-08T22:57:10.286901Z",
     "iopub.status.idle": "2024-03-08T22:57:10.294574Z",
     "shell.execute_reply": "2024-03-08T22:57:10.293798Z",
     "shell.execute_reply.started": "2024-03-08T22:57:10.287292Z"
    }
   },
   "outputs": [
    {
     "data": {
      "text/plain": [
       "'added bafkreieygsdw3t5qlsywpjocjfj6xjmmjlejwgw7k7zi6l45bgxra7xi6a sample/a.txt\\nadded bafkreiegavu4cifbgjbpuri3ekxeqedpemmh52xkwln4ezcyp7ofhmwysq sample/b/bc.txt\\nadded bafybeia4h4c4lne7seduihssiifojnrloim6uoryfogq5rxlxjgna3r6hu sample/b\\nadded bafybeihyyrn6tutcp4vpg7moml3g5n77s2psebqkzeytuhztkeli7fkxt4 sample\\n'"
      ]
     },
     "execution_count": 47,
     "metadata": {},
     "output_type": "execute_result"
    }
   ],
   "source": [
    "result.stdout"
   ]
  },
  {
   "cell_type": "code",
   "execution_count": 48,
   "id": "36eaff50-89b7-4b5a-bd89-654a3cf714a2",
   "metadata": {
    "execution": {
     "iopub.execute_input": "2024-03-08T22:59:23.467507Z",
     "iopub.status.busy": "2024-03-08T22:59:23.467014Z",
     "iopub.status.idle": "2024-03-08T22:59:23.473008Z",
     "shell.execute_reply": "2024-03-08T22:59:23.472480Z",
     "shell.execute_reply.started": "2024-03-08T22:59:23.467482Z"
    }
   },
   "outputs": [],
   "source": [
    "cid = 'bafybeiawrnzlzeuyzwkgoaugf5gh7jxuydzwqj5f4nvyigme5hdgndqp6e'"
   ]
  },
  {
   "cell_type": "code",
   "execution_count": 60,
   "id": "b3a9b54d-589c-4322-97e8-3f17bc74ba42",
   "metadata": {
    "execution": {
     "iopub.execute_input": "2024-03-08T22:59:53.275368Z",
     "iopub.status.busy": "2024-03-08T22:59:53.274847Z",
     "iopub.status.idle": "2024-03-08T22:59:53.377901Z",
     "shell.execute_reply": "2024-03-08T22:59:53.376492Z",
     "shell.execute_reply.started": "2024-03-08T22:59:53.275342Z"
    }
   },
   "outputs": [],
   "source": [
    "result = subprocess.run([ipfs_binary,\"cat\",cid,\"-o\",str(2000),\"-l\",str(4000)],stdout=subprocess.PIPE)"
   ]
  },
  {
   "cell_type": "code",
   "execution_count": 61,
   "id": "e40986f4-d709-4773-9a17-4de3fa57cec7",
   "metadata": {
    "execution": {
     "iopub.execute_input": "2024-03-08T22:59:54.276062Z",
     "iopub.status.busy": "2024-03-08T22:59:54.275721Z",
     "iopub.status.idle": "2024-03-08T22:59:54.282475Z",
     "shell.execute_reply": "2024-03-08T22:59:54.281791Z",
     "shell.execute_reply.started": "2024-03-08T22:59:54.276036Z"
    }
   },
   "outputs": [
    {
     "data": {
      "text/plain": [
       "b': { \"type\": \"Point\", \"coordinates\": [ -70.25104, 43.65954 ] } },\\n{ \"type\": \"Feature\", \"properties\": { \"id\": \"313101448706564\", \"names_value\": \"Mitsubishi Chemical F P America Inc\" }, \"geometry\": { \"type\": \"Point\", \"coordinates\": [ -76.2408427, 36.7643442 ] } },\\n{ \"type\": \"Feature\", \"properties\": { \"id\": \"115712508769941\", \"names_value\": \"Oak Tree Inn\" }, \"geometry\": { \"type\": \"Point\", \"coordinates\": [ -89.260662, 33.528908 ] } },\\n{ \"type\": \"Feature\", \"properties\": { \"id\": \"178233648891891\", \"names_value\": \"Lee Nails\" }, \"geometry\": { \"type\": \"Point\", \"coordinates\": [ -90.0909805, 29.9669319 ] } },\\n{ \"type\": \"Feature\", \"properties\": { \"id\": \"1033026176887314\", \"names_value\": \"St. Cloud Orthopedics Field, Sartell MN\" }, \"geometry\": { \"type\": \"Point\", \"coordinates\": [ -94.2168577, 45.6346313 ] } },\\n{ \"type\": \"Feature\", \"properties\": { \"id\": \"562949964278883\", \"names_value\": \"Western Union\" }, \"geometry\": { \"type\": \"Point\", \"coordinates\": [ -85.2136297, 35.0122083 ] } },\\n{ \"type\": \"Feature\", \"properties\": { \"id\": \"139584486079931\", \"names_value\": \"Union Lake\" }, \"geometry\": { \"type\": \"Point\", \"coordinates\": [ -96.0832522, 47.6063743 ] } },\\n{ \"type\": \"Feature\", \"properties\": { \"id\": \"562949965286296\", \"names_value\": \"Eddie\\'s Landscaping Maintenance\" }, \"geometry\": { \"type\": \"Point\", \"coordinates\": [ -88.0412232, 41.5294537 ] } },\\n{ \"type\": \"Feature\", \"properties\": { \"id\": \"599360656834308\", \"names_value\": \"Antonia\\'s Bridal\" }, \"geometry\": { \"type\": \"Point\", \"coordinates\": [ -95.5095853, 29.6593149 ] } },\\n{ \"type\": \"Feature\", \"properties\": { \"id\": \"325237234607294\", \"names_value\": \"Mandala Sky\" }, \"geometry\": { \"type\": \"Point\", \"coordinates\": [ -118.13547, 33.94178 ] } },\\n{ \"type\": \"Feature\", \"properties\": { \"id\": \"1594736883975777\", \"names_value\": \"Pender\\'s Antiques & Refinishing\" }, \"geometry\": { \"type\": \"Point\", \"coordinates\": [ -78.60212, 35.85163 ] } },\\n{ \"type\": \"Feature\", \"properties\": { \"id\": \"430958204034853\", \"names_value\": \"Oasis Event Center\" }, \"geometry\": { \"type\": \"Point\", \"coordinates\": [ -95.19934, 42.6426 ] } },\\n{ \"type\": \"Feature\", \"properties\": { \"id\": \"262017007560745\", \"names_value\": \"Peter Scire DC\" }, \"geometry\": { \"type\": \"Point\", \"coordinates\": [ -84.7101517, 33.4025688 ] } },\\n{ \"type\": \"Feature\", \"properties\": { \"id\": \"1688849863643641\", \"names_value\": \"Emery Electric\" }, \"geometry\": { \"type\": \"Point\", \"coordinates\": [ -81.4432215, 41.2878174 ] } },\\n{ \"type\": \"Feature\", \"properties\": { \"id\": \"1842919555980625\", \"names_value\": \"Parkland Cardiology\" }, \"geometry\": { \"type\": \"Point\", \"coordinates\": [ -96.8338478, 32.8134114 ] } },\\n{ \"type\": \"Feature\", \"properties\": { \"id\": \"224098370948780\", \"names_value\": \"Progressive Therapy Clinic\" }, \"geometry\": { \"type\": \"Point\", \"coordinates\": [ -121.2081567, 38.6786371 ] } },\\n{ \"type\": \"Feature\", \"properties\": { \"id\": \"1739059202876402\", \"names_value\": \"Miller Homestead Farm\" }, \"geometry\": { \"type\": \"Point\", \"coordinates\": [ -88.6485982, 43.1983718 ] } },\\n{ \"type\": \"Feature\", \"properties\": { \"id\": \"459675640888673\", \"names_value\": \"Montgomery County Emergency\" }, \"geometry\": { \"type\": \"Point\", \"coordinates\": [ -95.747579, 30.212806 ] } },\\n{ \"type\": \"Feature\", \"properties\": { \"id\": \"1688849860933787\", \"names_value\": \"Evacuumstore - Authorized Miele Dealer\" }, \"geometry\": { \"type\": \"Point\", \"coordinates\": [ -70.9690899, 42.2216013 ] } },\\n{ \"type\": \"Feature\", \"properties\": { \"id\": \"562949960919858\", \"names_value\": \"U-Haul Neighborhood Dealer\" }, \"geometry\": { \"type\": \"Point\", \"coordinates\": [ -112.04705, 33.47319 ] } },\\n{ \"type\": \"Feature\", \"properties\": { \"id\": \"844424933339838\", \"names_value\": \"Maria Palasi, MD\" }, \"geometry\": { \"type\": \"Point\", \"coordinates\": [ -95.3520395, 29.5582388 ] } },\\n{ \"type\": \"Feature\", \"properties\": { \"id\": \"146106312083731\", \"names_value\": \"Wise Mountain\" }, \"geometry\": { \"type\": \"Point\", \"coordinates\": [ -105.9045186, 39.5114768 ] } },\\n{ \"type\": \"Feature\", \"properties\": { \"id\": \"562949956964270\", \"names_value\": \"Redbox\" }, \"geometry\": { \"t'"
      ]
     },
     "execution_count": 61,
     "metadata": {},
     "output_type": "execute_result"
    }
   ],
   "source": [
    "result.stdout"
   ]
  },
  {
   "cell_type": "code",
   "execution_count": 66,
   "id": "7b9f1cf0-607b-404f-ad26-f4c1d84eb4bd",
   "metadata": {
    "execution": {
     "iopub.execute_input": "2024-03-08T23:01:44.927063Z",
     "iopub.status.busy": "2024-03-08T23:01:44.926672Z",
     "iopub.status.idle": "2024-03-08T23:01:44.968675Z",
     "shell.execute_reply": "2024-03-08T23:01:44.967962Z",
     "shell.execute_reply.started": "2024-03-08T23:01:44.927038Z"
    }
   },
   "outputs": [
    {
     "name": "stdout",
     "output_type": "stream",
     "text": [
      "Response: : { \"type\": \"Point\", \"coordinates\": [ -70.25104, 43.65954 ] } },\n",
      "{ \"type\": \"Feature\", \"properties\": { \"id\": \"313101448706564\", \"names_value\": \"Mitsubishi Chemical F P America Inc\" }, \"geometry\": { \"type\": \"Point\", \"coordinates\": [ -76.2408427, 36.7643442 ] } },\n",
      "{ \"type\": \"Feature\", \"properties\": { \"id\": \"115712508769941\", \"names_value\": \"Oak Tree Inn\" }, \"geometry\": { \"type\": \"Point\", \"coordinates\": [ -89.260662, 33.528908 ] } },\n",
      "{ \"type\": \"Feature\", \"properties\": { \"id\": \"178233648891891\", \"names_value\": \"Lee Nails\" }, \"geometry\": { \"type\": \"Point\", \"coordinates\": [ -90.0909805, 29.9669319 ] } },\n",
      "{ \"type\": \"Feature\", \"properties\": { \"id\": \"1033026176887314\", \"names_value\": \"St. Cloud Orthopedics Field, Sartell MN\" }, \"geometry\": { \"type\": \"Point\", \"coordinates\": [ -94.2168577, 45.6346313 ] } },\n",
      "{ \"type\": \"Feature\", \"properties\": { \"id\": \"562949964278883\", \"names_value\": \"Western Union\" }, \"geometry\": { \"type\": \"Point\", \"coordinates\": [ -85.2136297, 35.0122083 ] } },\n",
      "{ \"type\": \"Feature\", \"properties\": { \"id\": \"139584486079931\", \"names_value\": \"Union Lake\" }, \"geometry\": { \"type\": \"Point\", \"coordinates\": [ -96.0832522, 47.6063743 ] } },\n",
      "{ \"type\": \"Feature\", \"properties\": { \"id\": \"562949965286296\", \"names_value\": \"Eddie's Landscaping Maintenance\" }, \"geometry\": { \"type\": \"Point\", \"coordinates\": [ -88.0412232, 41.5294537 ] } },\n",
      "{ \"type\": \"Feature\", \"properties\": { \"id\": \"599360656834308\", \"names_value\": \"Antonia's Bridal\" }, \"geometry\": { \"type\": \"Point\", \"coordinates\": [ -95.5095853, 29.6593149 ] } },\n",
      "{ \"type\": \"Feature\", \"properties\": { \"id\": \"325237234607294\", \"names_value\": \"Mandala Sky\" }, \"geometry\": { \"type\": \"Point\", \"coordinates\": [ -118.13547, 33.94178 ] } },\n",
      "{ \"type\": \"Feature\", \"properties\": { \"id\": \"1594736883975777\", \"names_value\": \"Pender's Antiques & Refinishing\" }, \"geometry\": { \"type\": \"Point\", \"coordinates\": [ -78.60212, 35.85163 ] } },\n",
      "{ \"type\": \"Feature\", \"properties\": { \"id\": \"430958204034853\", \"names_value\": \"Oasis Event Center\" }, \"geometry\": { \"type\": \"Point\", \"coordinates\": [ -95.19934, 42.6426 ] } },\n",
      "{ \"type\": \"Feature\", \"properties\": { \"id\": \"262017007560745\", \"names_value\": \"Peter Scire DC\" }, \"geometry\": { \"type\": \"Point\", \"coordinates\": [ -84.7101517, 33.4025688 ] } },\n",
      "{ \"type\": \"Feature\", \"properties\": { \"id\": \"1688849863643641\", \"names_value\": \"Emery Electric\" }, \"geometry\": { \"type\": \"Point\", \"coordinates\": [ -81.4432215, 41.2878174 ] } },\n",
      "{ \"type\": \"Feature\", \"properties\": { \"id\": \"1842919555980625\", \"names_value\": \"Parkland Cardiology\" }, \"geometry\": { \"type\": \"Point\", \"coordinates\": [ -96.8338478, 32.8134114 ] } },\n",
      "{ \"type\": \"Feature\", \"properties\": { \"id\": \"224098370948780\", \"names_value\": \"Progressive Therapy Clinic\" }, \"geometry\": { \"type\": \"Point\", \"coordinates\": [ -121.2081567, 38.6786371 ] } },\n",
      "{ \"type\": \"Feature\", \"properties\": { \"id\": \"1739059202876402\", \"names_value\": \"Miller Homestead Farm\" }, \"geometry\": { \"type\": \"Point\", \"coordinates\": [ -88.6485982, 43.1983718 ] } },\n",
      "{ \"type\": \"Feature\", \"properties\": { \"id\": \"459675640888673\", \"names_value\": \"Montgomery County Emergency\" }, \"geometry\": { \"type\": \"Point\", \"coordinates\": [ -95.747579, 30.212806 ] } },\n",
      "{ \"type\": \"Feature\", \"properties\": { \"id\": \"1688849860933787\", \"names_value\": \"Evacuumstore - Authorized Miele Dealer\" }, \"geometry\": { \"type\": \"Point\", \"coordinates\": [ -70.9690899, 42.2216013 ] } },\n",
      "{ \"type\": \"Feature\", \"properties\": { \"id\": \"562949960919858\", \"names_value\": \"U-Haul Neighborhood Dealer\" }, \"geometry\": { \"type\": \"Point\", \"coordinates\": [ -112.04705, 33.47319 ] } },\n",
      "{ \"type\": \"Feature\", \"properties\": { \"id\": \"844424933339838\", \"names_value\": \"Maria Palasi, MD\" }, \"geometry\": { \"type\": \"Point\", \"coordinates\": [ -95.3520395, 29.5582388 ] } },\n",
      "{ \"type\": \"Feature\", \"properties\": { \"id\": \"146106312083731\", \"names_value\": \"Wise Mountain\" }, \"geometry\": { \"type\": \"Point\", \"coordinates\": [ -105.9045186, 39.5114768 ] } },\n",
      "{ \"type\": \"Feature\", \"properties\": { \"id\": \"562949956964270\", \"names_value\": \"Redbox\" }, \"geometry\": { \"t\n"
     ]
    }
   ],
   "source": [
    "# Define the URL\n",
    "url = \"http://127.0.0.1:5001/api/v0/cat\"\n",
    "# Define the query parameters\n",
    "params = {\n",
    "    'arg': cid,\n",
    "    'offset':2000,\n",
    "    'length':4000\n",
    "}\n",
    "\n",
    "# Make the POST request\n",
    "response = requests.post(url, params=params)\n",
    "\n",
    "print(\"Response:\", response.text)  # Or response.json() if the response is JSON\n"
   ]
  },
  {
   "cell_type": "code",
   "execution_count": null,
   "id": "a86c7954-4717-44f2-bd6e-354d0094796e",
   "metadata": {},
   "outputs": [],
   "source": []
  }
 ],
 "metadata": {
  "kernelspec": {
   "display_name": "Python 3 (ipykernel)",
   "language": "python",
   "name": "python3"
  },
  "language_info": {
   "codemirror_mode": {
    "name": "ipython",
    "version": 3
   },
   "file_extension": ".py",
   "mimetype": "text/x-python",
   "name": "python",
   "nbconvert_exporter": "python",
   "pygments_lexer": "ipython3",
   "version": "3.9.12"
  }
 },
 "nbformat": 4,
 "nbformat_minor": 5
}
