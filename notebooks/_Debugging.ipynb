{
 "cells": [
  {
   "cell_type": "code",
   "execution_count": null,
   "id": "2bddabb9-204d-472e-9aaf-057fff2f8f6f",
   "metadata": {},
   "outputs": [],
   "source": []
  },
  {
   "cell_type": "code",
   "execution_count": 48,
   "id": "110bfacd-9a61-4872-9107-6a466b81d03d",
   "metadata": {
    "execution": {
     "iopub.execute_input": "2024-03-04T21:34:23.960842Z",
     "iopub.status.busy": "2024-03-04T21:34:23.959362Z",
     "iopub.status.idle": "2024-03-04T21:34:23.973978Z",
     "shell.execute_reply": "2024-03-04T21:34:23.972756Z",
     "shell.execute_reply.started": "2024-03-04T21:34:23.960755Z"
    },
    "tags": []
   },
   "outputs": [],
   "source": [
    "import pygeohash as pgh\n",
    "import subprocess\n",
    "import geopandas as gpd\n",
    "import pandas as pd\n",
    "import os\n",
    "import sys\n",
    "sys.path.append(\"../\")\n",
    "from geohashtree.geohashtree import LiteTreeOffset, LiteTreeCID, FullTreeFile\n",
    "from geohashtree.filesystem import ipfs_add_feature,ipfs_add_index_folder"
   ]
  },
  {
   "cell_type": "code",
   "execution_count": 44,
   "id": "e564b447-274e-4551-962f-0ef9685aa5fb",
   "metadata": {
    "execution": {
     "iopub.execute_input": "2024-03-04T21:33:23.999955Z",
     "iopub.status.busy": "2024-03-04T21:33:23.999280Z",
     "iopub.status.idle": "2024-03-04T21:33:24.008287Z",
     "shell.execute_reply": "2024-03-04T21:33:24.007820Z",
     "shell.execute_reply.started": "2024-03-04T21:33:23.999909Z"
    }
   },
   "outputs": [],
   "source": [
    "asset = \"dc_restaurants\"\n",
    "geojson_path = f\"../assets/{asset}.geojson\"\n",
    "index_path = f\"../data/geohash_offset_{asset}/index\"\n",
    "cid = \"bafybeia7jlkyzt22qgh66felldr322l5c7jdvm4xspr222f4usnd2ttbze\""
   ]
  },
  {
   "cell_type": "code",
   "execution_count": null,
   "id": "a02e02ee-8435-4047-9000-7b7751db51df",
   "metadata": {},
   "outputs": [],
   "source": []
  }
 ],
 "metadata": {
  "kernelspec": {
   "display_name": "Python 3 (ipykernel)",
   "language": "python",
   "name": "python3"
  },
  "language_info": {
   "codemirror_mode": {
    "name": "ipython",
    "version": 3
   },
   "file_extension": ".py",
   "mimetype": "text/x-python",
   "name": "python",
   "nbconvert_exporter": "python",
   "pygments_lexer": "ipython3",
   "version": "3.9.18"
  }
 },
 "nbformat": 4,
 "nbformat_minor": 5
}
