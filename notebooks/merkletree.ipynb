{
 "cells": [
  {
   "cell_type": "code",
   "execution_count": 1,
   "id": "677e7dcf",
   "metadata": {},
   "outputs": [],
   "source": [
    "# pip install json\n",
    "# pip install hashlib\n"
   ]
  },
  {
   "cell_type": "code",
   "execution_count": 2,
   "id": "6c466864",
   "metadata": {},
   "outputs": [
    {
     "name": "stdout",
     "output_type": "stream",
     "text": [
      "Merkle Root: e20e90154c65e38998523e482cd6fcb59d697e806e0db08b565542e728780b7c\n"
     ]
    }
   ],
   "source": [
    "import json\n",
    "import hashlib\n",
    "\n",
    "def hash_data(data):\n",
    "    return hashlib.sha256(data.encode()).hexdigest()\n",
    "\n",
    "def merkle_tree(hash_list):\n",
    "    if len(hash_list) == 1:\n",
    "        return hash_list[0]\n",
    "    \n",
    "    new_hash_list = []\n",
    "    \n",
    "    # Process pairs. If odd number, the last is skipped for now.\n",
    "    for i in range(0, len(hash_list) - 1, 2):\n",
    "        new_hash_list.append(hash_data(hash_list[i] + hash_list[i+1]))\n",
    "\n",
    "    # If odd number of hashes, hash the last item twice\n",
    "    if len(hash_list) % 2 == 1:\n",
    "        new_hash_list.append(hash_data(hash_list[-1] + hash_list[-1]))\n",
    "\n",
    "    # Recursive call\n",
    "    return merkle_tree(new_hash_list)\n",
    "\n",
    "# Load GeoJSON file\n",
    "with open(\"../data/naive.geojson\", \"r\") as f:\n",
    "    geojson = json.load(f)\n",
    "\n",
    "# Extract features and hash them\n",
    "feature_hashes = [hash_data(json.dumps(feature)) for feature in geojson['features']]\n",
    "\n",
    "# Create Merkle Tree\n",
    "merkle_root = merkle_tree(feature_hashes)\n",
    "\n",
    "print(f\"Merkle Root: {merkle_root}\")\n"
   ]
  },
  {
   "cell_type": "code",
   "execution_count": 3,
   "id": "d029be03",
   "metadata": {},
   "outputs": [
    {
     "data": {
      "text/plain": [
       "['59125f6abfcf8664b6394bb808b798458bbfa87f3458429295400d4cbbdc1126',\n",
       " 'c606cf227d6d6454d487b4b8730550c43c6254af6662d7fd6eb6408ef5cca93e',\n",
       " '896f09998502d4a8b8a52ed6f056748e952b0c31a251623f2508eb7cb337253e',\n",
       " 'f0076e1541e7f8a5e8001fdc6cf65bff27caf35faf940e0b3afc44a6cc4166e6',\n",
       " 'ddb45f29464d555506989ac79fa8a9d4366de8b954309e24689746723832e1ec']"
      ]
     },
     "execution_count": 3,
     "metadata": {},
     "output_type": "execute_result"
    }
   ],
   "source": [
    "feature_hashes"
   ]
  },
  {
   "cell_type": "code",
   "execution_count": null,
   "id": "ae14bc59",
   "metadata": {},
   "outputs": [],
   "source": []
  }
 ],
 "metadata": {
  "kernelspec": {
   "display_name": "Python 3 (ipykernel)",
   "language": "python",
   "name": "python3"
  },
  "language_info": {
   "codemirror_mode": {
    "name": "ipython",
    "version": 3
   },
   "file_extension": ".py",
   "mimetype": "text/x-python",
   "name": "python",
   "nbconvert_exporter": "python",
   "pygments_lexer": "ipython3",
   "version": "3.11.4"
  }
 },
 "nbformat": 4,
 "nbformat_minor": 5
}
