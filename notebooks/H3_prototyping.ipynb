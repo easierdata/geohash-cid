{
 "cells": [
  {
   "cell_type": "markdown",
   "id": "aa9aca01-d2b8-4641-80f6-f5e4344f7f51",
   "metadata": {},
   "source": [
    "## On progress - H3 encoding"
   ]
  },
  {
   "cell_type": "code",
   "execution_count": 177,
   "id": "426f5ed8-4418-4f37-8c5f-0aaf25fc752f",
   "metadata": {
    "execution": {
     "iopub.execute_input": "2024-05-19T23:25:21.205551Z",
     "iopub.status.busy": "2024-05-19T23:25:21.204284Z",
     "iopub.status.idle": "2024-05-19T23:25:21.217995Z",
     "shell.execute_reply": "2024-05-19T23:25:21.217099Z",
     "shell.execute_reply.started": "2024-05-19T23:25:21.205413Z"
    },
    "tags": []
   },
   "outputs": [],
   "source": [
    "\n",
    "import json\n",
    "\n",
    "import pygeohash as pgh\n",
    "import subprocess\n",
    "import geopandas as gpd\n",
    "import pandas as pd\n",
    "import os\n",
    "import sys\n",
    "sys.path.append(\"../\")\n",
    "from geohashtree.geohashtree import LiteTreeOffset, LiteTreeCID, FullTreeFile,append_h3_to_dataframe,append_geohash_to_dataframe\n",
    "from geohashtree.filesystem import ipfs_add_feature,ipfs_add_index_folder,ipfs_binary"
   ]
  },
  {
   "cell_type": "code",
   "execution_count": 191,
   "id": "a0aac306-b666-42ec-82ad-6cbe2a41099a",
   "metadata": {
    "execution": {
     "iopub.execute_input": "2024-05-20T00:31:45.517667Z",
     "iopub.status.busy": "2024-05-20T00:31:45.511383Z",
     "iopub.status.idle": "2024-05-20T00:31:45.576124Z",
     "shell.execute_reply": "2024-05-20T00:31:45.575230Z",
     "shell.execute_reply.started": "2024-05-20T00:31:45.516622Z"
    }
   },
   "outputs": [],
   "source": [
    "asset = \"dc_restaurants\"\n",
    "geojson_path = f\"../assets/{asset}.geojson\"\n",
    "index_path = f\"../data/geohash_offset_{asset}/h3_index\""
   ]
  },
  {
   "cell_type": "code",
   "execution_count": 192,
   "id": "c8806b7b-823d-4a0f-bba9-0b80e23179d8",
   "metadata": {
    "execution": {
     "iopub.execute_input": "2024-05-20T00:31:45.750975Z",
     "iopub.status.busy": "2024-05-20T00:31:45.750490Z",
     "iopub.status.idle": "2024-05-20T00:31:59.570909Z",
     "shell.execute_reply": "2024-05-20T00:31:59.569891Z",
     "shell.execute_reply.started": "2024-05-20T00:31:45.750959Z"
    }
   },
   "outputs": [],
   "source": [
    "#sort records by geohashes / h3\n",
    "gdf = gpd.read_file(geojson_path)\n",
    "cols = gdf.columns"
   ]
  },
  {
   "cell_type": "code",
   "execution_count": 193,
   "id": "1961d34b-7281-4c39-a06c-2f665b6b500c",
   "metadata": {
    "execution": {
     "iopub.execute_input": "2024-05-20T00:32:40.556817Z",
     "iopub.status.busy": "2024-05-20T00:32:40.554889Z",
     "iopub.status.idle": "2024-05-20T00:32:40.971012Z",
     "shell.execute_reply": "2024-05-20T00:32:40.970580Z",
     "shell.execute_reply.started": "2024-05-20T00:32:40.556705Z"
    }
   },
   "outputs": [],
   "source": [
    "gdf.to_parquet(f\"../assets/{asset}.parquet\")"
   ]
  },
  {
   "cell_type": "code",
   "execution_count": 194,
   "id": "4fbd2a7c-5294-44fc-9de8-3c916e0639aa",
   "metadata": {
    "execution": {
     "iopub.execute_input": "2024-05-20T00:33:50.480758Z",
     "iopub.status.busy": "2024-05-20T00:33:50.479268Z",
     "iopub.status.idle": "2024-05-20T00:33:50.589451Z",
     "shell.execute_reply": "2024-05-20T00:33:50.589098Z",
     "shell.execute_reply.started": "2024-05-20T00:33:50.480671Z"
    }
   },
   "outputs": [],
   "source": [
    "gdf = append_geohash_to_dataframe(gdf,precision=5)\n"
   ]
  },
  {
   "cell_type": "code",
   "execution_count": 195,
   "id": "492b6dae-cf2f-42da-814d-cfeb657dd00d",
   "metadata": {
    "execution": {
     "iopub.execute_input": "2024-05-20T00:33:57.807922Z",
     "iopub.status.busy": "2024-05-20T00:33:57.806225Z",
     "iopub.status.idle": "2024-05-20T00:33:57.880957Z",
     "shell.execute_reply": "2024-05-20T00:33:57.877176Z",
     "shell.execute_reply.started": "2024-05-20T00:33:57.807788Z"
    }
   },
   "outputs": [
    {
     "data": {
      "text/html": [
       "<div>\n",
       "<style scoped>\n",
       "    .dataframe tbody tr th:only-of-type {\n",
       "        vertical-align: middle;\n",
       "    }\n",
       "\n",
       "    .dataframe tbody tr th {\n",
       "        vertical-align: top;\n",
       "    }\n",
       "\n",
       "    .dataframe thead th {\n",
       "        text-align: right;\n",
       "    }\n",
       "</style>\n",
       "<table border=\"1\" class=\"dataframe\">\n",
       "  <thead>\n",
       "    <tr style=\"text-align: right;\">\n",
       "      <th></th>\n",
       "      <th>full_id</th>\n",
       "      <th>osm_id</th>\n",
       "      <th>osm_type</th>\n",
       "      <th>amenity</th>\n",
       "      <th>atm</th>\n",
       "      <th>opening_hours:bar</th>\n",
       "      <th>survey:date</th>\n",
       "      <th>brewery</th>\n",
       "      <th>payment:cheque</th>\n",
       "      <th>tourism</th>\n",
       "      <th>...</th>\n",
       "      <th>addr:street</th>\n",
       "      <th>addr:state</th>\n",
       "      <th>addr:postcode</th>\n",
       "      <th>addr:housenumber</th>\n",
       "      <th>addr:city</th>\n",
       "      <th>entrance</th>\n",
       "      <th>geometry</th>\n",
       "      <th>x</th>\n",
       "      <th>y</th>\n",
       "      <th>geohash</th>\n",
       "    </tr>\n",
       "  </thead>\n",
       "  <tbody>\n",
       "    <tr>\n",
       "      <th>0</th>\n",
       "      <td>n255342748</td>\n",
       "      <td>255342748</td>\n",
       "      <td>node</td>\n",
       "      <td>NaN</td>\n",
       "      <td>NaN</td>\n",
       "      <td>NaN</td>\n",
       "      <td>NaN</td>\n",
       "      <td>NaN</td>\n",
       "      <td>NaN</td>\n",
       "      <td>NaN</td>\n",
       "      <td>...</td>\n",
       "      <td>NaN</td>\n",
       "      <td>NaN</td>\n",
       "      <td>NaN</td>\n",
       "      <td>NaN</td>\n",
       "      <td>NaN</td>\n",
       "      <td>yes</td>\n",
       "      <td>POINT (-76.94680 38.99221)</td>\n",
       "      <td>-76.946801</td>\n",
       "      <td>38.992208</td>\n",
       "      <td>dqcmc</td>\n",
       "    </tr>\n",
       "    <tr>\n",
       "      <th>1</th>\n",
       "      <td>n255342809</td>\n",
       "      <td>255342809</td>\n",
       "      <td>node</td>\n",
       "      <td>NaN</td>\n",
       "      <td>NaN</td>\n",
       "      <td>NaN</td>\n",
       "      <td>NaN</td>\n",
       "      <td>NaN</td>\n",
       "      <td>NaN</td>\n",
       "      <td>NaN</td>\n",
       "      <td>...</td>\n",
       "      <td>NaN</td>\n",
       "      <td>NaN</td>\n",
       "      <td>NaN</td>\n",
       "      <td>NaN</td>\n",
       "      <td>NaN</td>\n",
       "      <td>emergency</td>\n",
       "      <td>POINT (-76.94647 38.99222)</td>\n",
       "      <td>-76.946472</td>\n",
       "      <td>38.992217</td>\n",
       "      <td>dqcmc</td>\n",
       "    </tr>\n",
       "    <tr>\n",
       "      <th>2</th>\n",
       "      <td>n258062907</td>\n",
       "      <td>258062907</td>\n",
       "      <td>node</td>\n",
       "      <td>restaurant</td>\n",
       "      <td>NaN</td>\n",
       "      <td>NaN</td>\n",
       "      <td>NaN</td>\n",
       "      <td>NaN</td>\n",
       "      <td>NaN</td>\n",
       "      <td>NaN</td>\n",
       "      <td>...</td>\n",
       "      <td>Burke Centre Parkway</td>\n",
       "      <td>VA</td>\n",
       "      <td>22015</td>\n",
       "      <td>6003</td>\n",
       "      <td>Burke</td>\n",
       "      <td>NaN</td>\n",
       "      <td>POINT (-77.29676 38.78693)</td>\n",
       "      <td>-77.296758</td>\n",
       "      <td>38.786931</td>\n",
       "      <td>dqch9</td>\n",
       "    </tr>\n",
       "    <tr>\n",
       "      <th>3</th>\n",
       "      <td>n260321689</td>\n",
       "      <td>260321689</td>\n",
       "      <td>node</td>\n",
       "      <td>NaN</td>\n",
       "      <td>NaN</td>\n",
       "      <td>NaN</td>\n",
       "      <td>NaN</td>\n",
       "      <td>NaN</td>\n",
       "      <td>NaN</td>\n",
       "      <td>NaN</td>\n",
       "      <td>...</td>\n",
       "      <td>NaN</td>\n",
       "      <td>NaN</td>\n",
       "      <td>NaN</td>\n",
       "      <td>NaN</td>\n",
       "      <td>NaN</td>\n",
       "      <td>yes</td>\n",
       "      <td>POINT (-76.94334 38.98321)</td>\n",
       "      <td>-76.943338</td>\n",
       "      <td>38.983212</td>\n",
       "      <td>dqcmc</td>\n",
       "    </tr>\n",
       "    <tr>\n",
       "      <th>4</th>\n",
       "      <td>n260321700</td>\n",
       "      <td>260321700</td>\n",
       "      <td>node</td>\n",
       "      <td>NaN</td>\n",
       "      <td>NaN</td>\n",
       "      <td>NaN</td>\n",
       "      <td>NaN</td>\n",
       "      <td>NaN</td>\n",
       "      <td>NaN</td>\n",
       "      <td>NaN</td>\n",
       "      <td>...</td>\n",
       "      <td>NaN</td>\n",
       "      <td>NaN</td>\n",
       "      <td>NaN</td>\n",
       "      <td>NaN</td>\n",
       "      <td>NaN</td>\n",
       "      <td>yes</td>\n",
       "      <td>POINT (-76.94354 38.98330)</td>\n",
       "      <td>-76.943537</td>\n",
       "      <td>38.983299</td>\n",
       "      <td>dqcmc</td>\n",
       "    </tr>\n",
       "    <tr>\n",
       "      <th>...</th>\n",
       "      <td>...</td>\n",
       "      <td>...</td>\n",
       "      <td>...</td>\n",
       "      <td>...</td>\n",
       "      <td>...</td>\n",
       "      <td>...</td>\n",
       "      <td>...</td>\n",
       "      <td>...</td>\n",
       "      <td>...</td>\n",
       "      <td>...</td>\n",
       "      <td>...</td>\n",
       "      <td>...</td>\n",
       "      <td>...</td>\n",
       "      <td>...</td>\n",
       "      <td>...</td>\n",
       "      <td>...</td>\n",
       "      <td>...</td>\n",
       "      <td>...</td>\n",
       "      <td>...</td>\n",
       "      <td>...</td>\n",
       "      <td>...</td>\n",
       "    </tr>\n",
       "    <tr>\n",
       "      <th>2670</th>\n",
       "      <td>n11275845269</td>\n",
       "      <td>11275845269</td>\n",
       "      <td>node</td>\n",
       "      <td>restaurant</td>\n",
       "      <td>NaN</td>\n",
       "      <td>NaN</td>\n",
       "      <td>NaN</td>\n",
       "      <td>NaN</td>\n",
       "      <td>NaN</td>\n",
       "      <td>NaN</td>\n",
       "      <td>...</td>\n",
       "      <td>Arlington Boulevard</td>\n",
       "      <td>VA</td>\n",
       "      <td>22042</td>\n",
       "      <td>7236</td>\n",
       "      <td>NaN</td>\n",
       "      <td>NaN</td>\n",
       "      <td>POINT (-77.19543 38.86694)</td>\n",
       "      <td>-77.195429</td>\n",
       "      <td>38.866937</td>\n",
       "      <td>dqcj5</td>\n",
       "    </tr>\n",
       "    <tr>\n",
       "      <th>2671</th>\n",
       "      <td>n11282521337</td>\n",
       "      <td>11282521337</td>\n",
       "      <td>node</td>\n",
       "      <td>restaurant</td>\n",
       "      <td>NaN</td>\n",
       "      <td>NaN</td>\n",
       "      <td>NaN</td>\n",
       "      <td>NaN</td>\n",
       "      <td>NaN</td>\n",
       "      <td>NaN</td>\n",
       "      <td>...</td>\n",
       "      <td>Little River Turnpike</td>\n",
       "      <td>VA</td>\n",
       "      <td>NaN</td>\n",
       "      <td>7438</td>\n",
       "      <td>NaN</td>\n",
       "      <td>NaN</td>\n",
       "      <td>POINT (-77.20221 38.83249)</td>\n",
       "      <td>-77.202206</td>\n",
       "      <td>38.832492</td>\n",
       "      <td>dqchg</td>\n",
       "    </tr>\n",
       "    <tr>\n",
       "      <th>2672</th>\n",
       "      <td>n11285160608</td>\n",
       "      <td>11285160608</td>\n",
       "      <td>node</td>\n",
       "      <td>restaurant</td>\n",
       "      <td>NaN</td>\n",
       "      <td>NaN</td>\n",
       "      <td>NaN</td>\n",
       "      <td>NaN</td>\n",
       "      <td>NaN</td>\n",
       "      <td>NaN</td>\n",
       "      <td>...</td>\n",
       "      <td>New Jersey Avenue Northwest</td>\n",
       "      <td>NaN</td>\n",
       "      <td>NaN</td>\n",
       "      <td>1545</td>\n",
       "      <td>NaN</td>\n",
       "      <td>NaN</td>\n",
       "      <td>POINT (-77.01643 38.91095)</td>\n",
       "      <td>-77.016429</td>\n",
       "      <td>38.910949</td>\n",
       "      <td>dqcjr</td>\n",
       "    </tr>\n",
       "    <tr>\n",
       "      <th>2673</th>\n",
       "      <td>n11286073597</td>\n",
       "      <td>11286073597</td>\n",
       "      <td>node</td>\n",
       "      <td>restaurant</td>\n",
       "      <td>NaN</td>\n",
       "      <td>NaN</td>\n",
       "      <td>NaN</td>\n",
       "      <td>NaN</td>\n",
       "      <td>NaN</td>\n",
       "      <td>NaN</td>\n",
       "      <td>...</td>\n",
       "      <td>K Street Northwest</td>\n",
       "      <td>NaN</td>\n",
       "      <td>NaN</td>\n",
       "      <td>1108</td>\n",
       "      <td>NaN</td>\n",
       "      <td>NaN</td>\n",
       "      <td>POINT (-77.02754 38.90226)</td>\n",
       "      <td>-77.027543</td>\n",
       "      <td>38.902256</td>\n",
       "      <td>dqcjr</td>\n",
       "    </tr>\n",
       "    <tr>\n",
       "      <th>2674</th>\n",
       "      <td>n11289765028</td>\n",
       "      <td>11289765028</td>\n",
       "      <td>node</td>\n",
       "      <td>restaurant</td>\n",
       "      <td>NaN</td>\n",
       "      <td>NaN</td>\n",
       "      <td>NaN</td>\n",
       "      <td>NaN</td>\n",
       "      <td>NaN</td>\n",
       "      <td>NaN</td>\n",
       "      <td>...</td>\n",
       "      <td>NaN</td>\n",
       "      <td>NaN</td>\n",
       "      <td>NaN</td>\n",
       "      <td>NaN</td>\n",
       "      <td>NaN</td>\n",
       "      <td>NaN</td>\n",
       "      <td>POINT (-77.03241 38.90226)</td>\n",
       "      <td>-77.032410</td>\n",
       "      <td>38.902259</td>\n",
       "      <td>dqcjr</td>\n",
       "    </tr>\n",
       "  </tbody>\n",
       "</table>\n",
       "<p>2675 rows × 182 columns</p>\n",
       "</div>"
      ],
      "text/plain": [
       "           full_id       osm_id osm_type     amenity  atm opening_hours:bar  \\\n",
       "0       n255342748    255342748     node         NaN  NaN               NaN   \n",
       "1       n255342809    255342809     node         NaN  NaN               NaN   \n",
       "2       n258062907    258062907     node  restaurant  NaN               NaN   \n",
       "3       n260321689    260321689     node         NaN  NaN               NaN   \n",
       "4       n260321700    260321700     node         NaN  NaN               NaN   \n",
       "...            ...          ...      ...         ...  ...               ...   \n",
       "2670  n11275845269  11275845269     node  restaurant  NaN               NaN   \n",
       "2671  n11282521337  11282521337     node  restaurant  NaN               NaN   \n",
       "2672  n11285160608  11285160608     node  restaurant  NaN               NaN   \n",
       "2673  n11286073597  11286073597     node  restaurant  NaN               NaN   \n",
       "2674  n11289765028  11289765028     node  restaurant  NaN               NaN   \n",
       "\n",
       "     survey:date brewery payment:cheque tourism  ...  \\\n",
       "0            NaN     NaN            NaN     NaN  ...   \n",
       "1            NaN     NaN            NaN     NaN  ...   \n",
       "2            NaN     NaN            NaN     NaN  ...   \n",
       "3            NaN     NaN            NaN     NaN  ...   \n",
       "4            NaN     NaN            NaN     NaN  ...   \n",
       "...          ...     ...            ...     ...  ...   \n",
       "2670         NaN     NaN            NaN     NaN  ...   \n",
       "2671         NaN     NaN            NaN     NaN  ...   \n",
       "2672         NaN     NaN            NaN     NaN  ...   \n",
       "2673         NaN     NaN            NaN     NaN  ...   \n",
       "2674         NaN     NaN            NaN     NaN  ...   \n",
       "\n",
       "                      addr:street addr:state addr:postcode addr:housenumber  \\\n",
       "0                             NaN        NaN           NaN              NaN   \n",
       "1                             NaN        NaN           NaN              NaN   \n",
       "2            Burke Centre Parkway         VA         22015             6003   \n",
       "3                             NaN        NaN           NaN              NaN   \n",
       "4                             NaN        NaN           NaN              NaN   \n",
       "...                           ...        ...           ...              ...   \n",
       "2670          Arlington Boulevard         VA         22042             7236   \n",
       "2671        Little River Turnpike         VA           NaN             7438   \n",
       "2672  New Jersey Avenue Northwest        NaN           NaN             1545   \n",
       "2673           K Street Northwest        NaN           NaN             1108   \n",
       "2674                          NaN        NaN           NaN              NaN   \n",
       "\n",
       "     addr:city   entrance                    geometry          x          y  \\\n",
       "0          NaN        yes  POINT (-76.94680 38.99221) -76.946801  38.992208   \n",
       "1          NaN  emergency  POINT (-76.94647 38.99222) -76.946472  38.992217   \n",
       "2        Burke        NaN  POINT (-77.29676 38.78693) -77.296758  38.786931   \n",
       "3          NaN        yes  POINT (-76.94334 38.98321) -76.943338  38.983212   \n",
       "4          NaN        yes  POINT (-76.94354 38.98330) -76.943537  38.983299   \n",
       "...        ...        ...                         ...        ...        ...   \n",
       "2670       NaN        NaN  POINT (-77.19543 38.86694) -77.195429  38.866937   \n",
       "2671       NaN        NaN  POINT (-77.20221 38.83249) -77.202206  38.832492   \n",
       "2672       NaN        NaN  POINT (-77.01643 38.91095) -77.016429  38.910949   \n",
       "2673       NaN        NaN  POINT (-77.02754 38.90226) -77.027543  38.902256   \n",
       "2674       NaN        NaN  POINT (-77.03241 38.90226) -77.032410  38.902259   \n",
       "\n",
       "     geohash  \n",
       "0      dqcmc  \n",
       "1      dqcmc  \n",
       "2      dqch9  \n",
       "3      dqcmc  \n",
       "4      dqcmc  \n",
       "...      ...  \n",
       "2670   dqcj5  \n",
       "2671   dqchg  \n",
       "2672   dqcjr  \n",
       "2673   dqcjr  \n",
       "2674   dqcjr  \n",
       "\n",
       "[2675 rows x 182 columns]"
      ]
     },
     "execution_count": 195,
     "metadata": {},
     "output_type": "execute_result"
    }
   ],
   "source": [
    "gdf"
   ]
  },
  {
   "cell_type": "code",
   "execution_count": 186,
   "id": "a1164478-6405-49e4-afb4-f664f3bff30c",
   "metadata": {
    "execution": {
     "iopub.execute_input": "2024-05-19T23:27:52.664857Z",
     "iopub.status.busy": "2024-05-19T23:27:52.664760Z",
     "iopub.status.idle": "2024-05-19T23:27:59.725603Z",
     "shell.execute_reply": "2024-05-19T23:27:59.724918Z",
     "shell.execute_reply.started": "2024-05-19T23:27:52.664847Z"
    }
   },
   "outputs": [],
   "source": [
    "gdf.sort_values('geohash')[cols].to_file(f\"../assets/{asset}_gh_sorted.geojson\",driver=\"GeoJSON\")"
   ]
  },
  {
   "cell_type": "code",
   "execution_count": 187,
   "id": "e9104e2c-2ae7-4719-b7b0-29230ec509ea",
   "metadata": {
    "execution": {
     "iopub.execute_input": "2024-05-19T23:28:06.077421Z",
     "iopub.status.busy": "2024-05-19T23:28:06.076047Z",
     "iopub.status.idle": "2024-05-19T23:28:06.087836Z",
     "shell.execute_reply": "2024-05-19T23:28:06.086394Z",
     "shell.execute_reply.started": "2024-05-19T23:28:06.077340Z"
    }
   },
   "outputs": [],
   "source": [
    "\n",
    "geojson_path = f\"../assets/{asset}_gh_sorted.geojson\"\n",
    "index_path = f\"../data/geohash_offset_{asset}_gh_sorted/index\""
   ]
  },
  {
   "cell_type": "code",
   "execution_count": 188,
   "id": "8a689ddb-acd9-41e3-8fe3-d9755754b3d2",
   "metadata": {
    "execution": {
     "iopub.execute_input": "2024-05-19T23:28:09.583361Z",
     "iopub.status.busy": "2024-05-19T23:28:09.582618Z",
     "iopub.status.idle": "2024-05-19T23:28:27.034995Z",
     "shell.execute_reply": "2024-05-19T23:28:27.033370Z",
     "shell.execute_reply.started": "2024-05-19T23:28:09.583304Z"
    }
   },
   "outputs": [
    {
     "name": "stdout",
     "output_type": "stream",
     "text": [
      "Index Mode: offline\n",
      "bafybeia2el6koj4axa6fhg7o6wdouvttzdvtqd4ty7bddi7yf2mcwebfsi\n"
     ]
    }
   ],
   "source": [
    "offsettree = LiteTreeOffset(grid='geohash')\n",
    "offsettree.add_from_geojson(geojson_path,precision=5)\n",
    "offsettree.generate_tree_index(index_path)"
   ]
  },
  {
   "cell_type": "code",
   "execution_count": 189,
   "id": "22568ed6-e7cb-4339-bc48-0f5cf336fb9c",
   "metadata": {
    "execution": {
     "iopub.execute_input": "2024-05-19T23:28:27.042587Z",
     "iopub.status.busy": "2024-05-19T23:28:27.041303Z",
     "iopub.status.idle": "2024-05-19T23:28:30.588403Z",
     "shell.execute_reply": "2024-05-19T23:28:30.586660Z",
     "shell.execute_reply.started": "2024-05-19T23:28:27.042445Z"
    }
   },
   "outputs": [
    {
     "data": {
      "text/plain": [
       "'bafybeigoveu253bxkmz3qbhxjn6kqju5vrcqtjqm2wqrhtxtmaxck5g2ci'"
      ]
     },
     "execution_count": 189,
     "metadata": {},
     "output_type": "execute_result"
    }
   ],
   "source": [
    "ipfs_add_index_folder(index_path)"
   ]
  },
  {
   "cell_type": "code",
   "execution_count": 190,
   "id": "0eb9fd7a-88f0-4bce-8f8b-4c190f24acd9",
   "metadata": {
    "execution": {
     "iopub.execute_input": "2024-05-19T23:28:30.592142Z",
     "iopub.status.busy": "2024-05-19T23:28:30.591239Z",
     "iopub.status.idle": "2024-05-19T23:28:32.451927Z",
     "shell.execute_reply": "2024-05-19T23:28:32.450775Z",
     "shell.execute_reply.started": "2024-05-19T23:28:30.592110Z"
    }
   },
   "outputs": [
    {
     "data": {
      "text/plain": [
       "'bafybeia2el6koj4axa6fhg7o6wdouvttzdvtqd4ty7bddi7yf2mcwebfsi'"
      ]
     },
     "execution_count": 190,
     "metadata": {},
     "output_type": "execute_result"
    }
   ],
   "source": [
    "ipfs_add_feature(geojson_path)"
   ]
  },
  {
   "cell_type": "code",
   "execution_count": null,
   "id": "34715f04-5804-418b-bda9-f2641108eaa4",
   "metadata": {
    "execution": {
     "iopub.execute_input": "2024-05-16T05:28:35.829199Z",
     "iopub.status.busy": "2024-05-16T05:28:35.829110Z",
     "iopub.status.idle": "2024-05-16T05:28:35.865046Z",
     "shell.execute_reply": "2024-05-16T05:28:35.864729Z",
     "shell.execute_reply.started": "2024-05-16T05:28:35.829190Z"
    }
   },
   "outputs": [],
   "source": [
    "gdf = append_h3_to_dataframe(gdf,precision=6)\n",
    "\n",
    "gdf.sort_values('geohash')[cols].to_file(f\"../assets/{asset}_h3_sorted.geojson\",driver=\"GeoJSON\")"
   ]
  },
  {
   "cell_type": "code",
   "execution_count": 81,
   "id": "11af647f-bbf5-4370-872e-c1ffac83cdb1",
   "metadata": {
    "execution": {
     "iopub.execute_input": "2024-05-16T05:32:05.829917Z",
     "iopub.status.busy": "2024-05-16T05:32:05.827961Z",
     "iopub.status.idle": "2024-05-16T05:32:05.841227Z",
     "shell.execute_reply": "2024-05-16T05:32:05.839418Z",
     "shell.execute_reply.started": "2024-05-16T05:32:05.829790Z"
    }
   },
   "outputs": [],
   "source": [
    "asset = \"dc_restaurants_h3_sorted\"\n",
    "geojson_path = f\"../assets/{asset}.geojson\"\n",
    "index_path = f\"../data/geohash_offset_{asset}/h3_index\""
   ]
  },
  {
   "cell_type": "code",
   "execution_count": 82,
   "id": "a0c47f07-34bf-4581-a14c-02cc8b157789",
   "metadata": {
    "execution": {
     "iopub.execute_input": "2024-05-16T05:32:09.797782Z",
     "iopub.status.busy": "2024-05-16T05:32:09.796393Z",
     "iopub.status.idle": "2024-05-16T05:32:26.631426Z",
     "shell.execute_reply": "2024-05-16T05:32:26.630583Z",
     "shell.execute_reply.started": "2024-05-16T05:32:09.797695Z"
    }
   },
   "outputs": [
    {
     "name": "stdout",
     "output_type": "stream",
     "text": [
      "Index Mode: offline\n",
      "bafybeih3dl46npkvjibu3xzyqcvzbkmjfpbtqfv7rdmzcwfjozxnun66t4\n"
     ]
    }
   ],
   "source": [
    "offsettree = LiteTreeOffset(grid='h3')\n",
    "offsettree.add_from_geojson(geojson_path,precision=6)\n",
    "offsettree.generate_tree_index(index_path)"
   ]
  },
  {
   "cell_type": "code",
   "execution_count": 83,
   "id": "04fac212-b27e-4918-901f-4776b5ebd6ae",
   "metadata": {
    "execution": {
     "iopub.execute_input": "2024-05-16T05:32:30.091877Z",
     "iopub.status.busy": "2024-05-16T05:32:30.090426Z",
     "iopub.status.idle": "2024-05-16T05:32:33.238554Z",
     "shell.execute_reply": "2024-05-16T05:32:33.236683Z",
     "shell.execute_reply.started": "2024-05-16T05:32:30.091760Z"
    }
   },
   "outputs": [
    {
     "data": {
      "text/plain": [
       "'bafybeiakrsbotrovau2syhfeerthkwqpopytap3onydyvvppky6gvcqn54'"
      ]
     },
     "execution_count": 83,
     "metadata": {},
     "output_type": "execute_result"
    }
   ],
   "source": [
    "ipfs_add_index_folder(index_path)"
   ]
  },
  {
   "cell_type": "code",
   "execution_count": 84,
   "id": "98acbeb0-41bf-418c-9b44-31634425c34b",
   "metadata": {
    "execution": {
     "iopub.execute_input": "2024-05-16T05:35:14.723874Z",
     "iopub.status.busy": "2024-05-16T05:35:14.722762Z",
     "iopub.status.idle": "2024-05-16T05:35:18.012150Z",
     "shell.execute_reply": "2024-05-16T05:35:18.010777Z",
     "shell.execute_reply.started": "2024-05-16T05:35:14.723815Z"
    }
   },
   "outputs": [
    {
     "data": {
      "text/plain": [
       "'bafybeih3dl46npkvjibu3xzyqcvzbkmjfpbtqfv7rdmzcwfjozxnun66t4'"
      ]
     },
     "execution_count": 84,
     "metadata": {},
     "output_type": "execute_result"
    }
   ],
   "source": [
    "ipfs_add_feature(geojson_path)"
   ]
  },
  {
   "cell_type": "code",
   "execution_count": 7,
   "id": "8366b119-0515-4951-9642-ade4b2f1b295",
   "metadata": {
    "execution": {
     "iopub.execute_input": "2024-05-15T01:18:17.830739Z",
     "iopub.status.busy": "2024-05-15T01:18:17.829552Z",
     "iopub.status.idle": "2024-05-15T01:18:17.843076Z",
     "shell.execute_reply": "2024-05-15T01:18:17.842082Z",
     "shell.execute_reply.started": "2024-05-15T01:18:17.830650Z"
    }
   },
   "outputs": [],
   "source": [
    "cid = \"bafybeia7jlkyzt22qgh66felldr322l5c7jdvm4xspr222f4usnd2ttbze\"\n",
    "index_cid = \"bafybeiel6r6oci5w26llgnppdtf6zyimbtkswav2apfi3xqpxalwftquii\""
   ]
  },
  {
   "cell_type": "code",
   "execution_count": 152,
   "id": "a86c7954-4717-44f2-bd6e-354d0094796e",
   "metadata": {
    "execution": {
     "iopub.execute_input": "2024-05-19T22:58:05.655429Z",
     "iopub.status.busy": "2024-05-19T22:58:05.654037Z",
     "iopub.status.idle": "2024-05-19T22:58:05.671704Z",
     "shell.execute_reply": "2024-05-19T22:58:05.668680Z",
     "shell.execute_reply.started": "2024-05-19T22:58:05.655347Z"
    }
   },
   "outputs": [],
   "source": [
    "centre = (38.99752107280757,-77.06817861047044)\n",
    "precision = 6\n",
    "radius = 111000*0.05"
   ]
  },
  {
   "cell_type": "code",
   "execution_count": 52,
   "id": "1e56e7b2-bf38-4b21-9ae3-41b1e1633698",
   "metadata": {
    "execution": {
     "iopub.execute_input": "2024-05-16T05:06:36.086687Z",
     "iopub.status.busy": "2024-05-16T05:06:36.086257Z",
     "iopub.status.idle": "2024-05-16T05:06:36.093669Z",
     "shell.execute_reply": "2024-05-16T05:06:36.092532Z",
     "shell.execute_reply.started": "2024-05-16T05:06:36.086656Z"
    }
   },
   "outputs": [],
   "source": [
    "radius_km = radius / 1000.0\n",
    "import h3    \n",
    "# Get the center hexagon index\n",
    "center_hex = h3.geo_to_h3(*centre, precision)\n",
    "\n",
    "# Get the hexagons covering the circle\n",
    "covering = h3.hex_range_distances(center_hex, int(radius_km))"
   ]
  },
  {
   "cell_type": "code",
   "execution_count": 58,
   "id": "392bc336-e05f-43c1-889d-4c5a79b91d81",
   "metadata": {
    "execution": {
     "iopub.execute_input": "2024-05-16T05:07:22.611537Z",
     "iopub.status.busy": "2024-05-16T05:07:22.610741Z",
     "iopub.status.idle": "2024-05-16T05:07:22.616900Z",
     "shell.execute_reply": "2024-05-16T05:07:22.616223Z",
     "shell.execute_reply.started": "2024-05-16T05:07:22.611491Z"
    }
   },
   "outputs": [],
   "source": [
    "h3_list = [x for xs in covering for x in xs]"
   ]
  },
  {
   "cell_type": "code",
   "execution_count": 59,
   "id": "d85c109e-4833-439d-be12-d43d4e92d17f",
   "metadata": {
    "execution": {
     "iopub.execute_input": "2024-05-16T05:07:23.002721Z",
     "iopub.status.busy": "2024-05-16T05:07:23.002236Z",
     "iopub.status.idle": "2024-05-16T05:07:23.007291Z",
     "shell.execute_reply": "2024-05-16T05:07:23.006265Z",
     "shell.execute_reply.started": "2024-05-16T05:07:23.002688Z"
    }
   },
   "outputs": [],
   "source": [
    "from geohashtree.geohash_func import h3_to_h3tree"
   ]
  },
  {
   "cell_type": "code",
   "execution_count": 60,
   "id": "34372961-62a2-4ee0-b756-97cd3ac053e9",
   "metadata": {
    "execution": {
     "iopub.execute_input": "2024-05-16T05:07:23.343567Z",
     "iopub.status.busy": "2024-05-16T05:07:23.342741Z",
     "iopub.status.idle": "2024-05-16T05:07:23.350778Z",
     "shell.execute_reply": "2024-05-16T05:07:23.348741Z",
     "shell.execute_reply.started": "2024-05-16T05:07:23.343546Z"
    }
   },
   "outputs": [],
   "source": [
    "h3tree_list = list(map(h3_to_h3tree,h3_list))"
   ]
  },
  {
   "cell_type": "code",
   "execution_count": 62,
   "id": "ff6e525f-7886-44db-9a2f-ff384770191d",
   "metadata": {
    "execution": {
     "iopub.execute_input": "2024-05-16T05:07:29.360019Z",
     "iopub.status.busy": "2024-05-16T05:07:29.358634Z",
     "iopub.status.idle": "2024-05-16T05:07:29.379177Z",
     "shell.execute_reply": "2024-05-16T05:07:29.378264Z",
     "shell.execute_reply.started": "2024-05-16T05:07:29.359911Z"
    }
   },
   "outputs": [
    {
     "data": {
      "text/plain": [
       "['862aa840fffffff',\n",
       " '862aa8457ffffff',\n",
       " '862aa8407ffffff',\n",
       " '862aa842fffffff',\n",
       " '862aa84e7ffffff',\n",
       " '862aa841fffffff',\n",
       " '862aa8477ffffff',\n",
       " '862aa855fffffff',\n",
       " '862aa84efffffff',\n",
       " '862aa8557ffffff',\n",
       " '862aa84afffffff',\n",
       " '862aa8417ffffff',\n",
       " '862aa8427ffffff',\n",
       " '862aa8437ffffff',\n",
       " '862aa845fffffff',\n",
       " '862aa8447ffffff',\n",
       " '862aa84f7ffffff',\n",
       " '862aa84c7ffffff',\n",
       " '862aa8467ffffff',\n",
       " '862aa87a7ffffff',\n",
       " '862aa848fffffff',\n",
       " '862aa84dfffffff',\n",
       " '862aa84cfffffff',\n",
       " '862aa8097ffffff',\n",
       " '862aa84d7ffffff',\n",
       " '862aa8487ffffff',\n",
       " '862aa846fffffff',\n",
       " '862aa854fffffff',\n",
       " '862aa87b7ffffff',\n",
       " '862aa851fffffff',\n",
       " '862aa844fffffff',\n",
       " '862aa850fffffff',\n",
       " '862aa858fffffff',\n",
       " '862aa85afffffff',\n",
       " '862aa8547ffffff',\n",
       " '862aa8577ffffff',\n",
       " '862aa84a7ffffff']"
      ]
     },
     "execution_count": 62,
     "metadata": {},
     "output_type": "execute_result"
    }
   ],
   "source": [
    "h3_list"
   ]
  },
  {
   "cell_type": "code",
   "execution_count": 63,
   "id": "df64bec0-f5f2-40d5-ac74-bbe5e1c98011",
   "metadata": {
    "execution": {
     "iopub.execute_input": "2024-05-16T05:08:26.269782Z",
     "iopub.status.busy": "2024-05-16T05:08:26.268029Z",
     "iopub.status.idle": "2024-05-16T05:08:26.299989Z",
     "shell.execute_reply": "2024-05-16T05:08:26.298222Z",
     "shell.execute_reply.started": "2024-05-16T05:08:26.269648Z"
    }
   },
   "outputs": [],
   "source": [
    "h3_compact = h3.compact(h3_list)"
   ]
  },
  {
   "cell_type": "code",
   "execution_count": 65,
   "id": "84c6e256-e117-4cb4-bc6c-725a8fe2d6c9",
   "metadata": {
    "execution": {
     "iopub.execute_input": "2024-05-16T05:08:37.630924Z",
     "iopub.status.busy": "2024-05-16T05:08:37.629583Z",
     "iopub.status.idle": "2024-05-16T05:08:37.790588Z",
     "shell.execute_reply": "2024-05-16T05:08:37.790229Z",
     "shell.execute_reply.started": "2024-05-16T05:08:37.630810Z"
    }
   },
   "outputs": [
    {
     "data": {
      "image/png": "[encoded data removed]",
      "text/plain": [
       "<Figure size 640x480 with 1 Axes>"
      ]
     },
     "metadata": {},
     "output_type": "display_data"
    }
   ],
   "source": [
    "import h3\n",
    "from shapely.geometry import Polygon\n",
    "import matplotlib.pyplot as plt\n",
    "\n",
    "def h3_to_polygon(h3_index):\n",
    "    vertices = h3.h3_to_geo_boundary(h3_index)\n",
    "    polygon = Polygon(vertices)\n",
    "    return polygon\n",
    "\n",
    "def h3_to_geodataframe(h3_indexes):\n",
    "    polygons = [h3_to_polygon(h) for h in h3_indexes]\n",
    "    gdf = gpd.GeoDataFrame(geometry=polygons)\n",
    "    return gdf\n",
    "\n",
    "# Example list of H3 indexes\n",
    "h3_indexes = h3_compact\n",
    "# Convert H3 indexes to GeoDataFrame\n",
    "gdf = h3_to_geodataframe(h3_indexes)\n",
    "\n",
    "# Plot GeoDataFrame\n",
    "gdf.plot()\n",
    "plt.show()\n"
   ]
  },
  {
   "cell_type": "code",
   "execution_count": 28,
   "id": "9f415c40-480b-420b-97f1-6680c0a58d8a",
   "metadata": {
    "execution": {
     "iopub.execute_input": "2024-05-15T04:30:28.059745Z",
     "iopub.status.busy": "2024-05-15T04:30:28.058944Z",
     "iopub.status.idle": "2024-05-15T04:30:28.068550Z",
     "shell.execute_reply": "2024-05-15T04:30:28.067404Z",
     "shell.execute_reply.started": "2024-05-15T04:30:28.059708Z"
    }
   },
   "outputs": [
    {
     "data": {
      "text/plain": [
       "('882aa840a3fffff',\n",
       " [{'882aa840a3fffff'},\n",
       "  {'882aa840a1fffff',\n",
       "   '882aa840a7fffff',\n",
       "   '882aa840abfffff',\n",
       "   '882aa840b5fffff',\n",
       "   '882aa840bdfffff',\n",
       "   '882aa84e49fffff'},\n",
       "  {'882aa84085fffff',\n",
       "   '882aa84087fffff',\n",
       "   '882aa840a5fffff',\n",
       "   '882aa840a9fffff',\n",
       "   '882aa840adfffff',\n",
       "   '882aa840b1fffff',\n",
       "   '882aa840b7fffff',\n",
       "   '882aa840b9fffff',\n",
       "   '882aa8419bfffff',\n",
       "   '882aa84e41fffff',\n",
       "   '882aa84e4bfffff',\n",
       "   '882aa84e4dfffff'}])"
      ]
     },
     "execution_count": 28,
     "metadata": {},
     "output_type": "execute_result"
    }
   ],
   "source": [
    "center_hex,covering"
   ]
  },
  {
   "cell_type": "code",
   "execution_count": 95,
   "id": "144475fd-1dc6-4306-994d-ee5fa1edfef2",
   "metadata": {
    "execution": {
     "iopub.execute_input": "2024-05-19T22:34:08.491239Z",
     "iopub.status.busy": "2024-05-19T22:34:08.489827Z",
     "iopub.status.idle": "2024-05-19T22:34:08.527623Z",
     "shell.execute_reply": "2024-05-19T22:34:08.526157Z",
     "shell.execute_reply.started": "2024-05-19T22:34:08.491115Z"
    }
   },
   "outputs": [],
   "source": [
    "def h3_covering_circle(lat, lng, radius, resolution):\n",
    "    # Convert radius from meters to kilometers\n",
    "    radius_km = radius / 1000.0\n",
    "    \n",
    "    # Get the center hexagon index\n",
    "    center_hex = h3.geo_to_h3(lat, lng, resolution)\n",
    "    \n",
    "    # Get the hexagons covering the circle\n",
    "    covering = h3.k_ring_distances(center_hex, int(radius_km), max_distance=0)\n",
    "    \n",
    "    return covering"
   ]
  },
  {
   "cell_type": "code",
   "execution_count": 91,
   "id": "c2fe2cf9-0d29-4726-a799-e9115c40c7a6",
   "metadata": {
    "execution": {
     "iopub.execute_input": "2024-05-19T22:33:01.332081Z",
     "iopub.status.busy": "2024-05-19T22:33:01.330961Z",
     "iopub.status.idle": "2024-05-19T22:33:01.541855Z",
     "shell.execute_reply": "2024-05-19T22:33:01.540931Z",
     "shell.execute_reply.started": "2024-05-19T22:33:01.332027Z"
    }
   },
   "outputs": [
    {
     "ename": "NameError",
     "evalue": "name 'geohashes_covering_circle' is not defined",
     "output_type": "error",
     "traceback": [
      "\u001b[0;31m---------------------------------------------------------------------------\u001b[0m",
      "\u001b[0;31mNameError\u001b[0m                                 Traceback (most recent call last)",
      "Cell \u001b[0;32mIn[91], line 1\u001b[0m\n\u001b[0;32m----> 1\u001b[0m result_hashes \u001b[38;5;241m=\u001b[39m \u001b[43mgeohashes_covering_circle\u001b[49m(\u001b[38;5;241m*\u001b[39mcentre,radius,precision)\n",
      "\u001b[0;31mNameError\u001b[0m: name 'geohashes_covering_circle' is not defined"
     ]
    }
   ],
   "source": [
    "result_hashes = geohashes_covering_circle(*centre,radius,precision)"
   ]
  },
  {
   "cell_type": "code",
   "execution_count": 115,
   "id": "f361bafb-5322-46b3-bf8c-0403107845c6",
   "metadata": {
    "execution": {
     "iopub.execute_input": "2024-05-19T22:45:35.843746Z",
     "iopub.status.busy": "2024-05-19T22:45:35.838862Z",
     "iopub.status.idle": "2024-05-19T22:45:35.880561Z",
     "shell.execute_reply": "2024-05-19T22:45:35.877183Z",
     "shell.execute_reply.started": "2024-05-19T22:45:35.843504Z"
    }
   },
   "outputs": [
    {
     "data": {
      "text/plain": [
       "(38.99752107280757, -77.06817861047044)"
      ]
     },
     "execution_count": 115,
     "metadata": {},
     "output_type": "execute_result"
    }
   ],
   "source": [
    "centre"
   ]
  },
  {
   "cell_type": "code",
   "execution_count": 151,
   "id": "52d089cb-e050-4609-b530-af8b76684145",
   "metadata": {
    "execution": {
     "iopub.execute_input": "2024-05-19T22:57:47.492403Z",
     "iopub.status.busy": "2024-05-19T22:57:47.490150Z",
     "iopub.status.idle": "2024-05-19T22:57:47.563722Z",
     "shell.execute_reply": "2024-05-19T22:57:47.560559Z",
     "shell.execute_reply.started": "2024-05-19T22:57:47.492003Z"
    }
   },
   "outputs": [
    {
     "data": {
      "text/plain": [
       "0.05"
      ]
     },
     "execution_count": 151,
     "metadata": {},
     "output_type": "execute_result"
    }
   ],
   "source": [
    "radius"
   ]
  },
  {
   "cell_type": "code",
   "execution_count": 168,
   "id": "858095f5-c1d1-40cf-a770-140d79badb2b",
   "metadata": {
    "execution": {
     "iopub.execute_input": "2024-05-19T23:14:05.316966Z",
     "iopub.status.busy": "2024-05-19T23:14:05.315541Z",
     "iopub.status.idle": "2024-05-19T23:14:05.347119Z",
     "shell.execute_reply": "2024-05-19T23:14:05.345881Z",
     "shell.execute_reply.started": "2024-05-19T23:14:05.316893Z"
    }
   },
   "outputs": [
    {
     "data": {
      "text/plain": [
       "6.458965544"
      ]
     },
     "execution_count": 168,
     "metadata": {},
     "output_type": "execute_result"
    }
   ],
   "source": [
    "h3.edge_length(precision)*2"
   ]
  },
  {
   "cell_type": "code",
   "execution_count": 169,
   "id": "9d4f681e-437f-4d23-9022-ebe8a7d59a07",
   "metadata": {
    "execution": {
     "iopub.execute_input": "2024-05-19T23:14:24.480488Z",
     "iopub.status.busy": "2024-05-19T23:14:24.478768Z",
     "iopub.status.idle": "2024-05-19T23:14:24.494044Z",
     "shell.execute_reply": "2024-05-19T23:14:24.493114Z",
     "shell.execute_reply.started": "2024-05-19T23:14:24.480383Z"
    }
   },
   "outputs": [],
   "source": [
    "def h3tree_covering_circle(yc,xc,radius,precision):\n",
    "    radius_km = radius / 1000.0\n",
    "    print(yc,xc)\n",
    "    center_hex = h3.geo_to_h3(yc,xc,precision)\n",
    "    print(center_hex)\n",
    "    # Get the average cell edge length for the given origin index\n",
    "    edge_length_km = h3.edge_length(precision)*2\n",
    "    \n",
    "    # Calculate the ring size based on the radius and average edge length\n",
    "    ring_size = int(radius_km / edge_length_km)+1\n",
    "    covering = h3.hex_range_distances(center_hex, ring_size)\n",
    "    h3list = list(map(h3_to_h3tree,[_x for _set in covering for _x in _set]))\n",
    "    return h3list"
   ]
  },
  {
   "cell_type": "code",
   "execution_count": 167,
   "id": "29f66c25-4ddc-4f9b-8a75-b603b4adbb93",
   "metadata": {
    "execution": {
     "iopub.execute_input": "2024-05-19T23:13:45.996996Z",
     "iopub.status.busy": "2024-05-19T23:13:45.995859Z",
     "iopub.status.idle": "2024-05-19T23:13:46.008649Z",
     "shell.execute_reply": "2024-05-19T23:13:46.007394Z",
     "shell.execute_reply.started": "2024-05-19T23:13:45.996898Z"
    }
   },
   "outputs": [
    {
     "data": {
      "text/plain": [
       "5550.0"
      ]
     },
     "execution_count": 167,
     "metadata": {},
     "output_type": "execute_result"
    }
   ],
   "source": [
    "radius"
   ]
  },
  {
   "cell_type": "code",
   "execution_count": 170,
   "id": "3f6224d4-425d-4093-a4a7-4dafbd3c8e72",
   "metadata": {
    "execution": {
     "iopub.execute_input": "2024-05-19T23:14:25.916291Z",
     "iopub.status.busy": "2024-05-19T23:14:25.915204Z",
     "iopub.status.idle": "2024-05-19T23:14:25.923881Z",
     "shell.execute_reply": "2024-05-19T23:14:25.922923Z",
     "shell.execute_reply.started": "2024-05-19T23:14:25.916206Z"
    }
   },
   "outputs": [
    {
     "name": "stdout",
     "output_type": "stream",
     "text": [
      "38.99752107280757 -77.06817861047044\n",
      "862aa840fffffff\n",
      "5\n"
     ]
    }
   ],
   "source": [
    "result_hashes = h3tree_covering_circle(*centre,radius, precision)"
   ]
  },
  {
   "cell_type": "code",
   "execution_count": 171,
   "id": "e17c4e9d-14d9-473e-85d3-368a1135bbc9",
   "metadata": {
    "execution": {
     "iopub.execute_input": "2024-05-19T23:14:33.910368Z",
     "iopub.status.busy": "2024-05-19T23:14:33.908695Z",
     "iopub.status.idle": "2024-05-19T23:14:33.942068Z",
     "shell.execute_reply": "2024-05-19T23:14:33.936291Z",
     "shell.execute_reply.started": "2024-05-19T23:14:33.910261Z"
    }
   },
   "outputs": [
    {
     "data": {
      "text/plain": [
       "['62aa840',\n",
       " '62aa8457',\n",
       " '62aa8407',\n",
       " '62aa842',\n",
       " '62aa84e7',\n",
       " '62aa841',\n",
       " '62aa8477']"
      ]
     },
     "execution_count": 171,
     "metadata": {},
     "output_type": "execute_result"
    }
   ],
   "source": [
    "result_hashes"
   ]
  },
  {
   "cell_type": "code",
   "execution_count": 173,
   "id": "60cb53b7-ede1-43df-ac75-2c0d8f1d5a07",
   "metadata": {
    "execution": {
     "iopub.execute_input": "2024-05-19T23:14:41.444595Z",
     "iopub.status.busy": "2024-05-19T23:14:41.443349Z",
     "iopub.status.idle": "2024-05-19T23:14:41.560426Z",
     "shell.execute_reply": "2024-05-19T23:14:41.560048Z",
     "shell.execute_reply.started": "2024-05-19T23:14:41.444500Z"
    }
   },
   "outputs": [],
   "source": [
    "from geohashtree.geohash_func import h3tree_to_h3\n",
    "def h3_to_gdf(h3str):\n",
    "    vertices = h3.h3_to_geo_boundary(h3str)\n",
    "    vertices = tuple(coord[::-1] for coord in vertices)\n",
    "    gdf = gpd.GeoDataFrame({'geometry': [Polygon(vertices)],'h3': [h3str]},crs=\"EPSG:4326\")\n",
    "    return gdf\n",
    "h3_gdf = pd.concat([h3_to_gdf(h3tree_to_h3(h3t)) for h3t in result_hashes])\n"
   ]
  },
  {
   "cell_type": "code",
   "execution_count": 174,
   "id": "3e921e51-bfcf-4b89-9c70-6f1b3d5b85d3",
   "metadata": {
    "execution": {
     "iopub.execute_input": "2024-05-19T23:14:42.259727Z",
     "iopub.status.busy": "2024-05-19T23:14:42.259252Z",
     "iopub.status.idle": "2024-05-19T23:14:42.279169Z",
     "shell.execute_reply": "2024-05-19T23:14:42.278151Z",
     "shell.execute_reply.started": "2024-05-19T23:14:42.259695Z"
    }
   },
   "outputs": [
    {
     "data": {
      "text/html": [
       "<div>\n",
       "<style scoped>\n",
       "    .dataframe tbody tr th:only-of-type {\n",
       "        vertical-align: middle;\n",
       "    }\n",
       "\n",
       "    .dataframe tbody tr th {\n",
       "        vertical-align: top;\n",
       "    }\n",
       "\n",
       "    .dataframe thead th {\n",
       "        text-align: right;\n",
       "    }\n",
       "</style>\n",
       "<table border=\"1\" class=\"dataframe\">\n",
       "  <thead>\n",
       "    <tr style=\"text-align: right;\">\n",
       "      <th></th>\n",
       "      <th>geometry</th>\n",
       "      <th>h3</th>\n",
       "    </tr>\n",
       "  </thead>\n",
       "  <tbody>\n",
       "    <tr>\n",
       "      <th>0</th>\n",
       "      <td>POLYGON ((-77.03365 39.03535, -77.07626 39.026...</td>\n",
       "      <td>862aa840fffffff</td>\n",
       "    </tr>\n",
       "    <tr>\n",
       "      <th>0</th>\n",
       "      <td>POLYGON ((-77.01369 38.98199, -77.05626 38.973...</td>\n",
       "      <td>862aa8457ffffff</td>\n",
       "    </tr>\n",
       "    <tr>\n",
       "      <th>0</th>\n",
       "      <td>POLYGON ((-77.05365 39.08875, -77.09631 39.080...</td>\n",
       "      <td>862aa8407ffffff</td>\n",
       "    </tr>\n",
       "    <tr>\n",
       "      <th>0</th>\n",
       "      <td>POLYGON ((-76.97966 39.07459, -77.02232 39.066...</td>\n",
       "      <td>862aa842fffffff</td>\n",
       "    </tr>\n",
       "    <tr>\n",
       "      <th>0</th>\n",
       "      <td>POLYGON ((-77.08754 38.99612, -77.13011 38.987...</td>\n",
       "      <td>862aa84e7ffffff</td>\n",
       "    </tr>\n",
       "    <tr>\n",
       "      <th>0</th>\n",
       "      <td>POLYGON ((-77.10759 39.04948, -77.15021 39.041...</td>\n",
       "      <td>862aa841fffffff</td>\n",
       "    </tr>\n",
       "    <tr>\n",
       "      <th>0</th>\n",
       "      <td>POLYGON ((-76.95974 39.02118, -77.00236 39.012...</td>\n",
       "      <td>862aa8477ffffff</td>\n",
       "    </tr>\n",
       "  </tbody>\n",
       "</table>\n",
       "</div>"
      ],
      "text/plain": [
       "                                            geometry               h3\n",
       "0  POLYGON ((-77.03365 39.03535, -77.07626 39.026...  862aa840fffffff\n",
       "0  POLYGON ((-77.01369 38.98199, -77.05626 38.973...  862aa8457ffffff\n",
       "0  POLYGON ((-77.05365 39.08875, -77.09631 39.080...  862aa8407ffffff\n",
       "0  POLYGON ((-76.97966 39.07459, -77.02232 39.066...  862aa842fffffff\n",
       "0  POLYGON ((-77.08754 38.99612, -77.13011 38.987...  862aa84e7ffffff\n",
       "0  POLYGON ((-77.10759 39.04948, -77.15021 39.041...  862aa841fffffff\n",
       "0  POLYGON ((-76.95974 39.02118, -77.00236 39.012...  862aa8477ffffff"
      ]
     },
     "execution_count": 174,
     "metadata": {},
     "output_type": "execute_result"
    }
   ],
   "source": [
    "h3_gdf"
   ]
  },
  {
   "cell_type": "code",
   "execution_count": 175,
   "id": "3d8130cd-675a-4bfc-b73f-feaae602b837",
   "metadata": {
    "execution": {
     "iopub.execute_input": "2024-05-19T23:14:46.911694Z",
     "iopub.status.busy": "2024-05-19T23:14:46.909675Z",
     "iopub.status.idle": "2024-05-19T23:14:47.336650Z",
     "shell.execute_reply": "2024-05-19T23:14:47.336332Z",
     "shell.execute_reply.started": "2024-05-19T23:14:46.911584Z"
    }
   },
   "outputs": [
    {
     "name": "stderr",
     "output_type": "stream",
     "text": [
      "WARNING:fiona.ogrext:Expecting property name enclosed in double quotes: line 1 column 2 (char 1)\n",
      "/var/folders/6s/50fzkjrx159f42s0rpvmm4180000gn/T/ipykernel_6191/1024330113.py:5: UserWarning: Geometry is in a geographic CRS. Results from 'buffer' are likely incorrect. Use 'GeoSeries.to_crs()' to re-project geometries to a projected CRS before this operation.\n",
      "\n",
      "  gdf_radius = gdf_rand_points.buffer(radius)\n"
     ]
    },
    {
     "data": {
      "image/png": "[encoded data removed]",
      "text/plain": [
       "<Figure size 1000x1000 with 1 Axes>"
      ]
     },
     "metadata": {},
     "output_type": "display_data"
    }
   ],
   "source": [
    "# Plot the bounding box and the random points\n",
    "dc_outline = gpd.read_file(\"../../data/maryland_demo/Washington_DC_Boundary.geojson\")\n",
    "gdf_rand_points = gpd.read_file(\"../../data/maryland_demo/rand_dc_point.geojson\")\n",
    "radius = 0.05\n",
    "gdf_radius = gdf_rand_points.buffer(radius)\n",
    "df_wm = h3_gdf.to_crs(epsg=3857)\n",
    "ax = df_wm.plot(figsize=(10, 10), alpha=0.3, edgecolor=\"k\")\n",
    "dc_outline.to_crs(epsg=3857).plot(ax=ax, facecolor='none',edgecolor=\"k\")\n",
    "gdf.to_crs(epsg=3857).plot(ax=ax, color='green', markersize=7, label='Restaurants')\n",
    "gdf_rand_points.to_crs(epsg=3857).plot(ax=ax, color='red', markersize=50, label='Query target')\n",
    "gdf_radius.to_crs(epsg=3857).plot(ax=ax,alpha=0.2,color='red')\n",
    "\n",
    "\n",
    "ax.legend()\n",
    "plt.show()"
   ]
  },
  {
   "cell_type": "code",
   "execution_count": null,
   "id": "24af615c-c1ee-4c9a-83b0-5e22eb659ba7",
   "metadata": {},
   "outputs": [],
   "source": []
  }
 ],
 "metadata": {
  "kernelspec": {
   "display_name": "Python 3 (ipykernel)",
   "language": "python",
   "name": "python3"
  },
  "language_info": {
   "codemirror_mode": {
    "name": "ipython",
    "version": 3
   },
   "file_extension": ".py",
   "mimetype": "text/x-python",
   "name": "python",
   "nbconvert_exporter": "python",
   "pygments_lexer": "ipython3",
   "version": "3.9.12"
  }
 },
 "nbformat": 4,
 "nbformat_minor": 5
}
