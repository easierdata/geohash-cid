{
 "cells": [
  {
   "cell_type": "markdown",
   "id": "fae08d5f",
   "metadata": {},
   "source": [
    "# Concept\n",
    "Each feature of a file, say a GeoJSON file and determine which geohash grid cell completely contains it - we then create “buckets “or “folders” for each geohash it contains a file of those features contained within it. The parent-child relationships between the folders is just the hierarchy of the geohashes. You can go ahead and create a DAG and each folder/bucket that pertains to a geohash gets its own CID with each being based on all downstream children. At the top of the tree is a geohash that contains all of the features and the corresponding CID is the overall reference for the entire dataset."
   ]
  },
  {
   "cell_type": "markdown",
   "id": "1406b8a1",
   "metadata": {},
   "source": [
    "# Prototype"
   ]
  },
  {
   "cell_type": "code",
   "execution_count": 59,
   "id": "6c93b9d7-3fc2-4a56-b521-92db7586f67d",
   "metadata": {
    "tags": []
   },
   "outputs": [],
   "source": [
    "import geopandas as gpd\n",
    "import pandas as pd\n",
    "from shapely.geometry import Polygon\n",
    "import random"
   ]
  },
  {
   "cell_type": "markdown",
   "id": "b99481e1",
   "metadata": {},
   "source": [
    "## load some json files\n",
    "\n",
    "### Generate random shapes (not in use)\n"
   ]
  },
  {
   "cell_type": "markdown",
   "id": "88f52080",
   "metadata": {},
   "source": [
    "### Load county layer of maryland"
   ]
  },
  {
   "cell_type": "code",
   "execution_count": 12,
   "id": "a7da978b-147b-4e2a-ae78-4dd96a4a3af1",
   "metadata": {
    "tags": []
   },
   "outputs": [],
   "source": [
    "# URL to download the county shapefile for Maryland\n",
    "shapefile_url = \"https://www2.census.gov/geo/tiger/TIGER2020/COUNTY/tl_2020_us_county.zip\"\n",
    "\n",
    "# Download and extract the shapefile\n",
    "gdf = gpd.read_file(shapefile_url)\n",
    "\n",
    "# Filter the data to keep only Maryland counties\n",
    "maryland_gdf = gdf[gdf[\"STATEFP\"] == \"24\"]"
   ]
  },
  {
   "cell_type": "code",
   "execution_count": 56,
   "id": "6f0a6f5b-12a2-477f-8824-594d1fcf302f",
   "metadata": {
    "tags": []
   },
   "outputs": [],
   "source": [
    "# Visualize the county map\n",
    "maryland_gdf.to_crs(\"EPSG:4326\").to_file('./md_county_plain.geojson')"
   ]
  },
  {
   "cell_type": "code",
   "execution_count": 15,
   "id": "4a277f1c",
   "metadata": {
    "tags": []
   },
   "outputs": [
    {
     "data": {
      "text/html": [
       "<div>\n",
       "<style scoped>\n",
       "    .dataframe tbody tr th:only-of-type {\n",
       "        vertical-align: middle;\n",
       "    }\n",
       "\n",
       "    .dataframe tbody tr th {\n",
       "        vertical-align: top;\n",
       "    }\n",
       "\n",
       "    .dataframe thead th {\n",
       "        text-align: right;\n",
       "    }\n",
       "</style>\n",
       "<table border=\"1\" class=\"dataframe\">\n",
       "  <thead>\n",
       "    <tr style=\"text-align: right;\">\n",
       "      <th></th>\n",
       "      <th>STATEFP</th>\n",
       "      <th>COUNTYFP</th>\n",
       "      <th>COUNTYNS</th>\n",
       "      <th>GEOID</th>\n",
       "      <th>NAME</th>\n",
       "      <th>NAMELSAD</th>\n",
       "      <th>LSAD</th>\n",
       "      <th>CLASSFP</th>\n",
       "      <th>MTFCC</th>\n",
       "      <th>CSAFP</th>\n",
       "      <th>CBSAFP</th>\n",
       "      <th>METDIVFP</th>\n",
       "      <th>FUNCSTAT</th>\n",
       "      <th>ALAND</th>\n",
       "      <th>AWATER</th>\n",
       "      <th>INTPTLAT</th>\n",
       "      <th>INTPTLON</th>\n",
       "      <th>geometry</th>\n",
       "    </tr>\n",
       "  </thead>\n",
       "  <tbody>\n",
       "    <tr>\n",
       "      <th>130</th>\n",
       "      <td>24</td>\n",
       "      <td>047</td>\n",
       "      <td>01668802</td>\n",
       "      <td>24047</td>\n",
       "      <td>Worcester</td>\n",
       "      <td>Worcester County</td>\n",
       "      <td>06</td>\n",
       "      <td>H1</td>\n",
       "      <td>G4020</td>\n",
       "      <td>480</td>\n",
       "      <td>41540</td>\n",
       "      <td>NaN</td>\n",
       "      <td>A</td>\n",
       "      <td>1213156434</td>\n",
       "      <td>586531120</td>\n",
       "      <td>+38.2221332</td>\n",
       "      <td>-075.3099315</td>\n",
       "      <td>POLYGON ((-75.54087 38.08948, -75.54126 38.089...</td>\n",
       "    </tr>\n",
       "    <tr>\n",
       "      <th>169</th>\n",
       "      <td>24</td>\n",
       "      <td>001</td>\n",
       "      <td>01713506</td>\n",
       "      <td>24001</td>\n",
       "      <td>Allegany</td>\n",
       "      <td>Allegany County</td>\n",
       "      <td>06</td>\n",
       "      <td>H1</td>\n",
       "      <td>G4020</td>\n",
       "      <td>NaN</td>\n",
       "      <td>19060</td>\n",
       "      <td>NaN</td>\n",
       "      <td>A</td>\n",
       "      <td>1093502055</td>\n",
       "      <td>14761330</td>\n",
       "      <td>+39.6123134</td>\n",
       "      <td>-078.7031037</td>\n",
       "      <td>POLYGON ((-78.95500 39.67630, -78.94681 39.690...</td>\n",
       "    </tr>\n",
       "    <tr>\n",
       "      <th>183</th>\n",
       "      <td>24</td>\n",
       "      <td>510</td>\n",
       "      <td>01702381</td>\n",
       "      <td>24510</td>\n",
       "      <td>Baltimore</td>\n",
       "      <td>Baltimore city</td>\n",
       "      <td>25</td>\n",
       "      <td>C7</td>\n",
       "      <td>G4020</td>\n",
       "      <td>548</td>\n",
       "      <td>12580</td>\n",
       "      <td>NaN</td>\n",
       "      <td>F</td>\n",
       "      <td>209649327</td>\n",
       "      <td>28758743</td>\n",
       "      <td>+39.3000324</td>\n",
       "      <td>-076.6104761</td>\n",
       "      <td>POLYGON ((-76.71151 39.36621, -76.71151 39.366...</td>\n",
       "    </tr>\n",
       "    <tr>\n",
       "      <th>336</th>\n",
       "      <td>24</td>\n",
       "      <td>015</td>\n",
       "      <td>00596115</td>\n",
       "      <td>24015</td>\n",
       "      <td>Cecil</td>\n",
       "      <td>Cecil County</td>\n",
       "      <td>06</td>\n",
       "      <td>H1</td>\n",
       "      <td>G4020</td>\n",
       "      <td>428</td>\n",
       "      <td>37980</td>\n",
       "      <td>48864</td>\n",
       "      <td>A</td>\n",
       "      <td>896912528</td>\n",
       "      <td>185281258</td>\n",
       "      <td>+39.5623537</td>\n",
       "      <td>-075.9415852</td>\n",
       "      <td>POLYGON ((-75.93711 39.72188, -75.93703 39.721...</td>\n",
       "    </tr>\n",
       "    <tr>\n",
       "      <th>655</th>\n",
       "      <td>24</td>\n",
       "      <td>005</td>\n",
       "      <td>01695314</td>\n",
       "      <td>24005</td>\n",
       "      <td>Baltimore</td>\n",
       "      <td>Baltimore County</td>\n",
       "      <td>06</td>\n",
       "      <td>H1</td>\n",
       "      <td>G4020</td>\n",
       "      <td>548</td>\n",
       "      <td>12580</td>\n",
       "      <td>NaN</td>\n",
       "      <td>A</td>\n",
       "      <td>1549740654</td>\n",
       "      <td>215957832</td>\n",
       "      <td>+39.4431666</td>\n",
       "      <td>-076.6165693</td>\n",
       "      <td>POLYGON ((-76.88730 39.44050, -76.88732 39.440...</td>\n",
       "    </tr>\n",
       "  </tbody>\n",
       "</table>\n",
       "</div>"
      ],
      "text/plain": [
       "    STATEFP COUNTYFP  COUNTYNS  GEOID       NAME          NAMELSAD LSAD  \\\n",
       "130      24      047  01668802  24047  Worcester  Worcester County   06   \n",
       "169      24      001  01713506  24001   Allegany   Allegany County   06   \n",
       "183      24      510  01702381  24510  Baltimore    Baltimore city   25   \n",
       "336      24      015  00596115  24015      Cecil      Cecil County   06   \n",
       "655      24      005  01695314  24005  Baltimore  Baltimore County   06   \n",
       "\n",
       "    CLASSFP  MTFCC CSAFP CBSAFP METDIVFP FUNCSTAT       ALAND     AWATER  \\\n",
       "130      H1  G4020   480  41540      NaN        A  1213156434  586531120   \n",
       "169      H1  G4020   NaN  19060      NaN        A  1093502055   14761330   \n",
       "183      C7  G4020   548  12580      NaN        F   209649327   28758743   \n",
       "336      H1  G4020   428  37980    48864        A   896912528  185281258   \n",
       "655      H1  G4020   548  12580      NaN        A  1549740654  215957832   \n",
       "\n",
       "        INTPTLAT      INTPTLON  \\\n",
       "130  +38.2221332  -075.3099315   \n",
       "169  +39.6123134  -078.7031037   \n",
       "183  +39.3000324  -076.6104761   \n",
       "336  +39.5623537  -075.9415852   \n",
       "655  +39.4431666  -076.6165693   \n",
       "\n",
       "                                              geometry  \n",
       "130  POLYGON ((-75.54087 38.08948, -75.54126 38.089...  \n",
       "169  POLYGON ((-78.95500 39.67630, -78.94681 39.690...  \n",
       "183  POLYGON ((-76.71151 39.36621, -76.71151 39.366...  \n",
       "336  POLYGON ((-75.93711 39.72188, -75.93703 39.721...  \n",
       "655  POLYGON ((-76.88730 39.44050, -76.88732 39.440...  "
      ]
     },
     "execution_count": 15,
     "metadata": {},
     "output_type": "execute_result"
    }
   ],
   "source": [
    "maryland_gdf.head()"
   ]
  },
  {
   "cell_type": "markdown",
   "id": "1830af1f",
   "metadata": {},
   "source": [
    "## Step-by-step pipeline\n",
    "\n",
    "1. Get bounding box for each feature\n",
    "2. geohash for each bounding box\n",
    "3. pyramid features like a Trie\n",
    "    - header for all features within this level of hash\n",
    "    - buckets for next level\n",
    "    "
   ]
  },
  {
   "cell_type": "code",
   "execution_count": 16,
   "id": "f9948200",
   "metadata": {
    "tags": []
   },
   "outputs": [],
   "source": [
    "#1. get bounding box for each feature\n",
    "bounding_boxes = maryland_gdf.bounds"
   ]
  },
  {
   "cell_type": "code",
   "execution_count": 21,
   "id": "24d8bc7c",
   "metadata": {},
   "outputs": [],
   "source": [
    "#2.geohash for each bounding box"
   ]
  },
  {
   "cell_type": "code",
   "execution_count": 23,
   "id": "a825c951",
   "metadata": {},
   "outputs": [],
   "source": [
    "#!pip install pygeohash"
   ]
  },
  {
   "cell_type": "code",
   "execution_count": 17,
   "id": "3bb0669f",
   "metadata": {
    "tags": []
   },
   "outputs": [],
   "source": [
    "import pygeohash as pgh\n",
    "import os"
   ]
  },
  {
   "cell_type": "code",
   "execution_count": 18,
   "id": "1338f5ae",
   "metadata": {
    "tags": []
   },
   "outputs": [
    {
     "data": {
      "text/plain": [
       "'ezs42e44yx96'"
      ]
     },
     "execution_count": 18,
     "metadata": {},
     "output_type": "execute_result"
    }
   ],
   "source": [
    "pgh.encode(latitude=42.6, longitude=-5.6)"
   ]
  },
  {
   "cell_type": "code",
   "execution_count": 19,
   "id": "33fc2723-1a84-4c4c-84f2-a88b3810d73f",
   "metadata": {
    "tags": []
   },
   "outputs": [
    {
     "data": {
      "text/plain": [
       "(22.5, -67.5, 22.5, 22.5)"
      ]
     },
     "execution_count": 19,
     "metadata": {},
     "output_type": "execute_result"
    }
   ],
   "source": [
    "pgh.decode_exactly('d')"
   ]
  },
  {
   "cell_type": "code",
   "execution_count": 66,
   "id": "ec1bda81-e3f1-4b0c-9a82-0b9c057ffc24",
   "metadata": {
    "tags": []
   },
   "outputs": [],
   "source": [
    "def decode_helper(geohash):\n",
    "    mid_lat,mid_lon,d_lat,d_lon = pgh.decode_exactly(geohash)\n",
    "\n",
    "    min_longitude, max_longitude = mid_lon-d_lon, mid_lon+d_lon\n",
    "    min_latitude, max_latitude = mid_lat-d_lat,mid_lat+d_lat\n",
    "\n",
    "    polygon = Polygon([\n",
    "            (min_longitude, min_latitude),\n",
    "            (max_longitude, min_latitude),\n",
    "            (max_longitude, max_latitude),\n",
    "            (min_longitude, max_latitude),\n",
    "            (min_longitude, min_latitude)\n",
    "        ])\n",
    "    #print(polygon)\n",
    "    # Create a GeoDataFrame\n",
    "    gdf = gpd.GeoDataFrame({'geometry': [polygon],'geohash': [geohash]})\n",
    "    return gdf"
   ]
  },
  {
   "cell_type": "code",
   "execution_count": 43,
   "id": "e1d80764-49b3-4e74-9b49-1441fa84a247",
   "metadata": {
    "tags": []
   },
   "outputs": [
    {
     "name": "stdout",
     "output_type": "stream",
     "text": [
      "POLYGON ((-90 0, -45 0, -45 45, -90 45, -90 0))\n"
     ]
    }
   ],
   "source": [
    "r = decode_helper('d')"
   ]
  },
  {
   "cell_type": "code",
   "execution_count": 38,
   "id": "1e5b40e3-2cc4-49d2-b813-088670a6bb46",
   "metadata": {
    "tags": []
   },
   "outputs": [
    {
     "data": {
      "text/plain": [
       "<Axes: >"
      ]
     },
     "execution_count": 38,
     "metadata": {},
     "output_type": "execute_result"
    },
    {
     "data": {
      "image/png": "[encoded data removed]",
      "text/plain": [
       "<Figure size 640x480 with 1 Axes>"
      ]
     },
     "metadata": {},
     "output_type": "display_data"
    }
   ],
   "source": [
    "r.plot()"
   ]
  },
  {
   "cell_type": "code",
   "execution_count": 39,
   "id": "d36e7e50",
   "metadata": {
    "tags": []
   },
   "outputs": [
    {
     "data": {
      "text/html": [
       "<div>\n",
       "<style scoped>\n",
       "    .dataframe tbody tr th:only-of-type {\n",
       "        vertical-align: middle;\n",
       "    }\n",
       "\n",
       "    .dataframe tbody tr th {\n",
       "        vertical-align: top;\n",
       "    }\n",
       "\n",
       "    .dataframe thead th {\n",
       "        text-align: right;\n",
       "    }\n",
       "</style>\n",
       "<table border=\"1\" class=\"dataframe\">\n",
       "  <thead>\n",
       "    <tr style=\"text-align: right;\">\n",
       "      <th></th>\n",
       "      <th>minx</th>\n",
       "      <th>miny</th>\n",
       "      <th>maxx</th>\n",
       "      <th>maxy</th>\n",
       "    </tr>\n",
       "  </thead>\n",
       "  <tbody>\n",
       "    <tr>\n",
       "      <th>130</th>\n",
       "      <td>-75.661827</td>\n",
       "      <td>37.994208</td>\n",
       "      <td>-74.986282</td>\n",
       "      <td>38.452034</td>\n",
       "    </tr>\n",
       "    <tr>\n",
       "      <th>169</th>\n",
       "      <td>-79.067559</td>\n",
       "      <td>39.438273</td>\n",
       "      <td>-78.313320</td>\n",
       "      <td>39.723037</td>\n",
       "    </tr>\n",
       "    <tr>\n",
       "      <th>183</th>\n",
       "      <td>-76.711519</td>\n",
       "      <td>39.197207</td>\n",
       "      <td>-76.529453</td>\n",
       "      <td>39.372206</td>\n",
       "    </tr>\n",
       "    <tr>\n",
       "      <th>336</th>\n",
       "      <td>-76.233279</td>\n",
       "      <td>39.360797</td>\n",
       "      <td>-75.766594</td>\n",
       "      <td>39.722207</td>\n",
       "    </tr>\n",
       "    <tr>\n",
       "      <th>655</th>\n",
       "      <td>-76.895596</td>\n",
       "      <td>39.156623</td>\n",
       "      <td>-76.287689</td>\n",
       "      <td>39.721302</td>\n",
       "    </tr>\n",
       "    <tr>\n",
       "      <th>816</th>\n",
       "      <td>-77.311562</td>\n",
       "      <td>39.348463</td>\n",
       "      <td>-76.787096</td>\n",
       "      <td>39.720802</td>\n",
       "    </tr>\n",
       "    <tr>\n",
       "      <th>874</th>\n",
       "      <td>-76.701960</td>\n",
       "      <td>38.305057</td>\n",
       "      <td>-76.321908</td>\n",
       "      <td>38.769281</td>\n",
       "    </tr>\n",
       "    <tr>\n",
       "      <th>908</th>\n",
       "      <td>-76.438814</td>\n",
       "      <td>38.058410</td>\n",
       "      <td>-75.701569</td>\n",
       "      <td>38.704185</td>\n",
       "    </tr>\n",
       "    <tr>\n",
       "      <th>1025</th>\n",
       "      <td>-76.840362</td>\n",
       "      <td>38.711099</td>\n",
       "      <td>-76.349479</td>\n",
       "      <td>39.237398</td>\n",
       "    </tr>\n",
       "    <tr>\n",
       "      <th>1050</th>\n",
       "      <td>-77.677164</td>\n",
       "      <td>39.220270</td>\n",
       "      <td>-77.106724</td>\n",
       "      <td>39.720045</td>\n",
       "    </tr>\n",
       "    <tr>\n",
       "      <th>1361</th>\n",
       "      <td>-77.086391</td>\n",
       "      <td>38.535372</td>\n",
       "      <td>-76.669515</td>\n",
       "      <td>39.131354</td>\n",
       "    </tr>\n",
       "    <tr>\n",
       "      <th>1392</th>\n",
       "      <td>-77.187113</td>\n",
       "      <td>39.103142</td>\n",
       "      <td>-76.696441</td>\n",
       "      <td>39.369334</td>\n",
       "    </tr>\n",
       "    <tr>\n",
       "      <th>1439</th>\n",
       "      <td>-79.487651</td>\n",
       "      <td>39.202107</td>\n",
       "      <td>-78.928416</td>\n",
       "      <td>39.722883</td>\n",
       "    </tr>\n",
       "    <tr>\n",
       "      <th>1474</th>\n",
       "      <td>-77.527680</td>\n",
       "      <td>38.934343</td>\n",
       "      <td>-76.888505</td>\n",
       "      <td>39.353502</td>\n",
       "    </tr>\n",
       "    <tr>\n",
       "      <th>1480</th>\n",
       "      <td>-76.436586</td>\n",
       "      <td>38.807396</td>\n",
       "      <td>-75.747761</td>\n",
       "      <td>39.261820</td>\n",
       "    </tr>\n",
       "    <tr>\n",
       "      <th>1620</th>\n",
       "      <td>-76.463946</td>\n",
       "      <td>38.571895</td>\n",
       "      <td>-75.896232</td>\n",
       "      <td>38.945102</td>\n",
       "    </tr>\n",
       "    <tr>\n",
       "      <th>1729</th>\n",
       "      <td>-75.948454</td>\n",
       "      <td>38.215960</td>\n",
       "      <td>-75.307011</td>\n",
       "      <td>38.560907</td>\n",
       "    </tr>\n",
       "    <tr>\n",
       "      <th>1963</th>\n",
       "      <td>-76.236458</td>\n",
       "      <td>37.886605</td>\n",
       "      <td>-75.539633</td>\n",
       "      <td>38.298944</td>\n",
       "    </tr>\n",
       "    <tr>\n",
       "      <th>1985</th>\n",
       "      <td>-76.569449</td>\n",
       "      <td>39.254104</td>\n",
       "      <td>-76.035766</td>\n",
       "      <td>39.721503</td>\n",
       "    </tr>\n",
       "    <tr>\n",
       "      <th>2003</th>\n",
       "      <td>-76.874405</td>\n",
       "      <td>37.888468</td>\n",
       "      <td>-76.201477</td>\n",
       "      <td>38.513755</td>\n",
       "    </tr>\n",
       "    <tr>\n",
       "      <th>2064</th>\n",
       "      <td>-76.354843</td>\n",
       "      <td>38.992428</td>\n",
       "      <td>-75.756004</td>\n",
       "      <td>39.405506</td>\n",
       "    </tr>\n",
       "    <tr>\n",
       "      <th>2488</th>\n",
       "      <td>-77.323009</td>\n",
       "      <td>38.171328</td>\n",
       "      <td>-76.662514</td>\n",
       "      <td>38.706227</td>\n",
       "    </tr>\n",
       "    <tr>\n",
       "      <th>2742</th>\n",
       "      <td>-78.363484</td>\n",
       "      <td>39.318415</td>\n",
       "      <td>-77.469070</td>\n",
       "      <td>39.722877</td>\n",
       "    </tr>\n",
       "    <tr>\n",
       "      <th>2852</th>\n",
       "      <td>-76.015045</td>\n",
       "      <td>38.635358</td>\n",
       "      <td>-75.707447</td>\n",
       "      <td>39.143338</td>\n",
       "    </tr>\n",
       "  </tbody>\n",
       "</table>\n",
       "</div>"
      ],
      "text/plain": [
       "           minx       miny       maxx       maxy\n",
       "130  -75.661827  37.994208 -74.986282  38.452034\n",
       "169  -79.067559  39.438273 -78.313320  39.723037\n",
       "183  -76.711519  39.197207 -76.529453  39.372206\n",
       "336  -76.233279  39.360797 -75.766594  39.722207\n",
       "655  -76.895596  39.156623 -76.287689  39.721302\n",
       "816  -77.311562  39.348463 -76.787096  39.720802\n",
       "874  -76.701960  38.305057 -76.321908  38.769281\n",
       "908  -76.438814  38.058410 -75.701569  38.704185\n",
       "1025 -76.840362  38.711099 -76.349479  39.237398\n",
       "1050 -77.677164  39.220270 -77.106724  39.720045\n",
       "1361 -77.086391  38.535372 -76.669515  39.131354\n",
       "1392 -77.187113  39.103142 -76.696441  39.369334\n",
       "1439 -79.487651  39.202107 -78.928416  39.722883\n",
       "1474 -77.527680  38.934343 -76.888505  39.353502\n",
       "1480 -76.436586  38.807396 -75.747761  39.261820\n",
       "1620 -76.463946  38.571895 -75.896232  38.945102\n",
       "1729 -75.948454  38.215960 -75.307011  38.560907\n",
       "1963 -76.236458  37.886605 -75.539633  38.298944\n",
       "1985 -76.569449  39.254104 -76.035766  39.721503\n",
       "2003 -76.874405  37.888468 -76.201477  38.513755\n",
       "2064 -76.354843  38.992428 -75.756004  39.405506\n",
       "2488 -77.323009  38.171328 -76.662514  38.706227\n",
       "2742 -78.363484  39.318415 -77.469070  39.722877\n",
       "2852 -76.015045  38.635358 -75.707447  39.143338"
      ]
     },
     "execution_count": 39,
     "metadata": {},
     "output_type": "execute_result"
    }
   ],
   "source": [
    "bounding_boxes"
   ]
  },
  {
   "cell_type": "code",
   "execution_count": 40,
   "id": "3b1baa0a",
   "metadata": {
    "tags": []
   },
   "outputs": [
    {
     "data": {
      "text/html": [
       "<div>\n",
       "<style scoped>\n",
       "    .dataframe tbody tr th:only-of-type {\n",
       "        vertical-align: middle;\n",
       "    }\n",
       "\n",
       "    .dataframe tbody tr th {\n",
       "        vertical-align: top;\n",
       "    }\n",
       "\n",
       "    .dataframe thead th {\n",
       "        text-align: right;\n",
       "    }\n",
       "</style>\n",
       "<table border=\"1\" class=\"dataframe\">\n",
       "  <thead>\n",
       "    <tr style=\"text-align: right;\">\n",
       "      <th></th>\n",
       "      <th>minx</th>\n",
       "      <th>miny</th>\n",
       "      <th>maxx</th>\n",
       "      <th>maxy</th>\n",
       "      <th>minhash</th>\n",
       "      <th>maxhash</th>\n",
       "      <th>common_hash</th>\n",
       "    </tr>\n",
       "  </thead>\n",
       "  <tbody>\n",
       "    <tr>\n",
       "      <th>130</th>\n",
       "      <td>-75.661827</td>\n",
       "      <td>37.994208</td>\n",
       "      <td>-74.986282</td>\n",
       "      <td>38.452034</td>\n",
       "      <td>dqf0nk8sr9sw</td>\n",
       "      <td>dqfdtxuxkfxt</td>\n",
       "      <td>dqf</td>\n",
       "    </tr>\n",
       "    <tr>\n",
       "      <th>169</th>\n",
       "      <td>-79.067559</td>\n",
       "      <td>39.438273</td>\n",
       "      <td>-78.313320</td>\n",
       "      <td>39.723037</td>\n",
       "      <td>dppb2g8b86fy</td>\n",
       "      <td>dr03czmgrqu1</td>\n",
       "      <td>d</td>\n",
       "    </tr>\n",
       "    <tr>\n",
       "      <th>183</th>\n",
       "      <td>-76.711519</td>\n",
       "      <td>39.197207</td>\n",
       "      <td>-76.529453</td>\n",
       "      <td>39.372206</td>\n",
       "      <td>dqcqyrskk0cx</td>\n",
       "      <td>dqcxfx2zwrpv</td>\n",
       "      <td>dqc</td>\n",
       "    </tr>\n",
       "    <tr>\n",
       "      <th>336</th>\n",
       "      <td>-76.233279</td>\n",
       "      <td>39.360797</td>\n",
       "      <td>-75.766594</td>\n",
       "      <td>39.722207</td>\n",
       "      <td>dqczcm2t7b75</td>\n",
       "      <td>dr41gzhqwkhf</td>\n",
       "      <td>d</td>\n",
       "    </tr>\n",
       "    <tr>\n",
       "      <th>655</th>\n",
       "      <td>-76.895596</td>\n",
       "      <td>39.156623</td>\n",
       "      <td>-76.287689</td>\n",
       "      <td>39.721302</td>\n",
       "      <td>dqcqf0nrfexf</td>\n",
       "      <td>dr1cbp112525</td>\n",
       "      <td>d</td>\n",
       "    </tr>\n",
       "    <tr>\n",
       "      <th>816</th>\n",
       "      <td>-77.311562</td>\n",
       "      <td>39.348463</td>\n",
       "      <td>-76.787096</td>\n",
       "      <td>39.720802</td>\n",
       "      <td>dqcpbepmqj1h</td>\n",
       "      <td>dr13uwvq6ypm</td>\n",
       "      <td>d</td>\n",
       "    </tr>\n",
       "    <tr>\n",
       "      <th>874</th>\n",
       "      <td>-76.701960</td>\n",
       "      <td>38.305057</td>\n",
       "      <td>-76.321908</td>\n",
       "      <td>38.769281</td>\n",
       "      <td>dqc3yt5r4u1m</td>\n",
       "      <td>dqcsx38p6tu9</td>\n",
       "      <td>dqc</td>\n",
       "    </tr>\n",
       "    <tr>\n",
       "      <th>908</th>\n",
       "      <td>-76.438814</td>\n",
       "      <td>38.058410</td>\n",
       "      <td>-75.701569</td>\n",
       "      <td>38.704185</td>\n",
       "      <td>dqc8s86fq9c4</td>\n",
       "      <td>dqfhjmgu1x4b</td>\n",
       "      <td>dq</td>\n",
       "    </tr>\n",
       "    <tr>\n",
       "      <th>1025</th>\n",
       "      <td>-76.840362</td>\n",
       "      <td>38.711099</td>\n",
       "      <td>-76.349479</td>\n",
       "      <td>39.237398</td>\n",
       "      <td>dqck5rns3zck</td>\n",
       "      <td>dqcxnwun2jnh</td>\n",
       "      <td>dqc</td>\n",
       "    </tr>\n",
       "    <tr>\n",
       "      <th>1050</th>\n",
       "      <td>-77.677164</td>\n",
       "      <td>39.220270</td>\n",
       "      <td>-77.106724</td>\n",
       "      <td>39.720045</td>\n",
       "      <td>dqbz07v4wuhx</td>\n",
       "      <td>dr11vqud5153</td>\n",
       "      <td>d</td>\n",
       "    </tr>\n",
       "    <tr>\n",
       "      <th>1361</th>\n",
       "      <td>-77.086391</td>\n",
       "      <td>38.535372</td>\n",
       "      <td>-76.669515</td>\n",
       "      <td>39.131354</td>\n",
       "      <td>dqc5jz5kucuz</td>\n",
       "      <td>dqcqx7duwv44</td>\n",
       "      <td>dqc</td>\n",
       "    </tr>\n",
       "    <tr>\n",
       "      <th>1392</th>\n",
       "      <td>-77.187113</td>\n",
       "      <td>39.103142</td>\n",
       "      <td>-76.696441</td>\n",
       "      <td>39.369334</td>\n",
       "      <td>dqcn7wd03cvp</td>\n",
       "      <td>dqcrywzqgru8</td>\n",
       "      <td>dqc</td>\n",
       "    </tr>\n",
       "    <tr>\n",
       "      <th>1439</th>\n",
       "      <td>-79.487651</td>\n",
       "      <td>39.202107</td>\n",
       "      <td>-78.928416</td>\n",
       "      <td>39.722883</td>\n",
       "      <td>dnzrp0wbg6rt</td>\n",
       "      <td>dppcgzq4dd56</td>\n",
       "      <td>d</td>\n",
       "    </tr>\n",
       "    <tr>\n",
       "      <th>1474</th>\n",
       "      <td>-77.527680</td>\n",
       "      <td>38.934343</td>\n",
       "      <td>-76.888505</td>\n",
       "      <td>39.353502</td>\n",
       "      <td>dqbv7zf0fpef</td>\n",
       "      <td>dqcrfk56zbrr</td>\n",
       "      <td>dq</td>\n",
       "    </tr>\n",
       "    <tr>\n",
       "      <th>1480</th>\n",
       "      <td>-76.436586</td>\n",
       "      <td>38.807396</td>\n",
       "      <td>-75.747761</td>\n",
       "      <td>39.261820</td>\n",
       "      <td>dqcsu8st6qyw</td>\n",
       "      <td>dqfpk76htjxx</td>\n",
       "      <td>dq</td>\n",
       "    </tr>\n",
       "    <tr>\n",
       "      <th>1620</th>\n",
       "      <td>-76.463946</td>\n",
       "      <td>38.571895</td>\n",
       "      <td>-75.896232</td>\n",
       "      <td>38.945102</td>\n",
       "      <td>dqcekjb9sfmk</td>\n",
       "      <td>dqfj8cwp9t5w</td>\n",
       "      <td>dq</td>\n",
       "    </tr>\n",
       "    <tr>\n",
       "      <th>1729</th>\n",
       "      <td>-75.948454</td>\n",
       "      <td>38.215960</td>\n",
       "      <td>-75.307011</td>\n",
       "      <td>38.560907</td>\n",
       "      <td>dqccrv000g21</td>\n",
       "      <td>dqf7q7g1e6nd</td>\n",
       "      <td>dq</td>\n",
       "    </tr>\n",
       "    <tr>\n",
       "      <th>1963</th>\n",
       "      <td>-76.236458</td>\n",
       "      <td>37.886605</td>\n",
       "      <td>-75.539633</td>\n",
       "      <td>38.298944</td>\n",
       "      <td>dq9z91n33z0c</td>\n",
       "      <td>dqf3ch1ewbx5</td>\n",
       "      <td>dq</td>\n",
       "    </tr>\n",
       "    <tr>\n",
       "      <th>1985</th>\n",
       "      <td>-76.569449</td>\n",
       "      <td>39.254104</td>\n",
       "      <td>-76.035766</td>\n",
       "      <td>39.721503</td>\n",
       "      <td>dqcx39gzdx2e</td>\n",
       "      <td>dr1cvz06w0zd</td>\n",
       "      <td>d</td>\n",
       "    </tr>\n",
       "    <tr>\n",
       "      <th>2003</th>\n",
       "      <td>-76.874405</td>\n",
       "      <td>37.888468</td>\n",
       "      <td>-76.201477</td>\n",
       "      <td>38.513755</td>\n",
       "      <td>dq9rd9mu2d2g</td>\n",
       "      <td>dqcg1gpybuk3</td>\n",
       "      <td>dq</td>\n",
       "    </tr>\n",
       "    <tr>\n",
       "      <th>2064</th>\n",
       "      <td>-76.354843</td>\n",
       "      <td>38.992428</td>\n",
       "      <td>-75.756004</td>\n",
       "      <td>39.405506</td>\n",
       "      <td>dqctyd2575qt</td>\n",
       "      <td>dr40hjs1tntp</td>\n",
       "      <td>d</td>\n",
       "    </tr>\n",
       "    <tr>\n",
       "      <th>2488</th>\n",
       "      <td>-77.323009</td>\n",
       "      <td>38.171328</td>\n",
       "      <td>-76.662514</td>\n",
       "      <td>38.706227</td>\n",
       "      <td>dqc10kzh5738</td>\n",
       "      <td>dqckpw201gwm</td>\n",
       "      <td>dqc</td>\n",
       "    </tr>\n",
       "    <tr>\n",
       "      <th>2742</th>\n",
       "      <td>-78.363484</td>\n",
       "      <td>39.318415</td>\n",
       "      <td>-77.469070</td>\n",
       "      <td>39.722877</td>\n",
       "      <td>dqbr8v9qq7z1</td>\n",
       "      <td>dr0cvpkdxbfx</td>\n",
       "      <td>d</td>\n",
       "    </tr>\n",
       "    <tr>\n",
       "      <th>2852</th>\n",
       "      <td>-76.015045</td>\n",
       "      <td>38.635358</td>\n",
       "      <td>-75.707447</td>\n",
       "      <td>39.143338</td>\n",
       "      <td>dqcgy1re30dr</td>\n",
       "      <td>dqfntjzd2x5f</td>\n",
       "      <td>dq</td>\n",
       "    </tr>\n",
       "  </tbody>\n",
       "</table>\n",
       "</div>"
      ],
      "text/plain": [
       "           minx       miny       maxx       maxy       minhash       maxhash  \\\n",
       "130  -75.661827  37.994208 -74.986282  38.452034  dqf0nk8sr9sw  dqfdtxuxkfxt   \n",
       "169  -79.067559  39.438273 -78.313320  39.723037  dppb2g8b86fy  dr03czmgrqu1   \n",
       "183  -76.711519  39.197207 -76.529453  39.372206  dqcqyrskk0cx  dqcxfx2zwrpv   \n",
       "336  -76.233279  39.360797 -75.766594  39.722207  dqczcm2t7b75  dr41gzhqwkhf   \n",
       "655  -76.895596  39.156623 -76.287689  39.721302  dqcqf0nrfexf  dr1cbp112525   \n",
       "816  -77.311562  39.348463 -76.787096  39.720802  dqcpbepmqj1h  dr13uwvq6ypm   \n",
       "874  -76.701960  38.305057 -76.321908  38.769281  dqc3yt5r4u1m  dqcsx38p6tu9   \n",
       "908  -76.438814  38.058410 -75.701569  38.704185  dqc8s86fq9c4  dqfhjmgu1x4b   \n",
       "1025 -76.840362  38.711099 -76.349479  39.237398  dqck5rns3zck  dqcxnwun2jnh   \n",
       "1050 -77.677164  39.220270 -77.106724  39.720045  dqbz07v4wuhx  dr11vqud5153   \n",
       "1361 -77.086391  38.535372 -76.669515  39.131354  dqc5jz5kucuz  dqcqx7duwv44   \n",
       "1392 -77.187113  39.103142 -76.696441  39.369334  dqcn7wd03cvp  dqcrywzqgru8   \n",
       "1439 -79.487651  39.202107 -78.928416  39.722883  dnzrp0wbg6rt  dppcgzq4dd56   \n",
       "1474 -77.527680  38.934343 -76.888505  39.353502  dqbv7zf0fpef  dqcrfk56zbrr   \n",
       "1480 -76.436586  38.807396 -75.747761  39.261820  dqcsu8st6qyw  dqfpk76htjxx   \n",
       "1620 -76.463946  38.571895 -75.896232  38.945102  dqcekjb9sfmk  dqfj8cwp9t5w   \n",
       "1729 -75.948454  38.215960 -75.307011  38.560907  dqccrv000g21  dqf7q7g1e6nd   \n",
       "1963 -76.236458  37.886605 -75.539633  38.298944  dq9z91n33z0c  dqf3ch1ewbx5   \n",
       "1985 -76.569449  39.254104 -76.035766  39.721503  dqcx39gzdx2e  dr1cvz06w0zd   \n",
       "2003 -76.874405  37.888468 -76.201477  38.513755  dq9rd9mu2d2g  dqcg1gpybuk3   \n",
       "2064 -76.354843  38.992428 -75.756004  39.405506  dqctyd2575qt  dr40hjs1tntp   \n",
       "2488 -77.323009  38.171328 -76.662514  38.706227  dqc10kzh5738  dqckpw201gwm   \n",
       "2742 -78.363484  39.318415 -77.469070  39.722877  dqbr8v9qq7z1  dr0cvpkdxbfx   \n",
       "2852 -76.015045  38.635358 -75.707447  39.143338  dqcgy1re30dr  dqfntjzd2x5f   \n",
       "\n",
       "     common_hash  \n",
       "130          dqf  \n",
       "169            d  \n",
       "183          dqc  \n",
       "336            d  \n",
       "655            d  \n",
       "816            d  \n",
       "874          dqc  \n",
       "908           dq  \n",
       "1025         dqc  \n",
       "1050           d  \n",
       "1361         dqc  \n",
       "1392         dqc  \n",
       "1439           d  \n",
       "1474          dq  \n",
       "1480          dq  \n",
       "1620          dq  \n",
       "1729          dq  \n",
       "1963          dq  \n",
       "1985           d  \n",
       "2003          dq  \n",
       "2064           d  \n",
       "2488         dqc  \n",
       "2742           d  \n",
       "2852          dq  "
      ]
     },
     "execution_count": 40,
     "metadata": {},
     "output_type": "execute_result"
    }
   ],
   "source": [
    "# Apply geohash function to each pair of coordinates\n",
    "bounding_boxes['minhash'] = bounding_boxes.apply(lambda row: pgh.encode(row['miny'], row['minx']), axis=1)\n",
    "bounding_boxes['maxhash'] = bounding_boxes.apply(lambda row: pgh.encode(row['maxy'], row['maxx']), axis=1)\n",
    "\n",
    "# Extract the left common substring from minhash and maxhash\n",
    "bounding_boxes['common_hash'] = bounding_boxes.apply(lambda row: os.path.commonprefix([row['minhash'], row['maxhash']]), axis=1)\n",
    "\n",
    "# Print the resulting DataFrame\n",
    "bounding_boxes"
   ]
  },
  {
   "cell_type": "code",
   "execution_count": null,
   "id": "e49c3a50",
   "metadata": {},
   "outputs": [],
   "source": []
  },
  {
   "cell_type": "code",
   "execution_count": null,
   "id": "633e6db2",
   "metadata": {},
   "outputs": [],
   "source": [
    "#3. given a list of index, value pairs, generate a trie dictionary to store the parent-child relation"
   ]
  },
  {
   "cell_type": "code",
   "execution_count": 34,
   "id": "0897b474",
   "metadata": {},
   "outputs": [],
   "source": [
    "#!pip install pygtrie"
   ]
  },
  {
   "cell_type": "code",
   "execution_count": 47,
   "id": "3f53ab7b",
   "metadata": {},
   "outputs": [],
   "source": [
    "class TrieNode:\n",
    "    def __init__(self):\n",
    "        self.children = {}\n",
    "        self.value = []\n",
    "\n",
    "\n",
    "class Trie:\n",
    "    def __init__(self):\n",
    "        self.root = TrieNode()\n",
    "\n",
    "    def insert(self, index, value):\n",
    "        node = self.root\n",
    "        for char in str(index):\n",
    "            if char not in node.children:\n",
    "                node.children[char] = TrieNode()\n",
    "            node = node.children[char]\n",
    "        node.value.append(value)\n",
    "\n",
    "    def get(self, index):\n",
    "        node = self.root\n",
    "        for char in str(index):\n",
    "            if char not in node.children:\n",
    "                return None\n",
    "            node = node.children[char]\n",
    "        return node.value"
   ]
  },
  {
   "cell_type": "code",
   "execution_count": 48,
   "id": "b9354223",
   "metadata": {},
   "outputs": [],
   "source": [
    "pairs = list(bounding_boxes['common_hash'].to_dict().items())\n"
   ]
  },
  {
   "cell_type": "code",
   "execution_count": 50,
   "id": "15222fa2",
   "metadata": {},
   "outputs": [],
   "source": [
    "pairs = [(b,a) for a,b in pairs]"
   ]
  },
  {
   "cell_type": "code",
   "execution_count": 56,
   "id": "73bc6526",
   "metadata": {},
   "outputs": [
    {
     "data": {
      "text/plain": [
       "[('dqf', 130),\n",
       " ('d', 169),\n",
       " ('dqc', 183),\n",
       " ('d', 336),\n",
       " ('d', 655),\n",
       " ('d', 816),\n",
       " ('dqc', 874),\n",
       " ('dq', 908),\n",
       " ('dqc', 1025),\n",
       " ('d', 1050),\n",
       " ('dqc', 1361),\n",
       " ('dqc', 1392),\n",
       " ('d', 1439),\n",
       " ('dq', 1474),\n",
       " ('dq', 1480),\n",
       " ('dq', 1620),\n",
       " ('dq', 1729),\n",
       " ('dq', 1963),\n",
       " ('d', 1985),\n",
       " ('dq', 2003),\n",
       " ('d', 2064),\n",
       " ('dqc', 2488),\n",
       " ('d', 2742),\n",
       " ('dq', 2852)]"
      ]
     },
     "execution_count": 56,
     "metadata": {},
     "output_type": "execute_result"
    }
   ],
   "source": [
    "pairs"
   ]
  },
  {
   "cell_type": "code",
   "execution_count": 57,
   "id": "56486284",
   "metadata": {},
   "outputs": [],
   "source": [
    "# Create an empty Trie dictionary\n",
    "trie_dict = Trie()\n",
    "\n",
    "# Insert each index-value pair into the Trie dictionary\n",
    "for index, value in pairs:\n",
    "    trie_dict.insert(index, value)"
   ]
  },
  {
   "cell_type": "code",
   "execution_count": null,
   "id": "0cfba33b",
   "metadata": {},
   "outputs": [],
   "source": []
  },
  {
   "cell_type": "code",
   "execution_count": 58,
   "id": "5849fe5c",
   "metadata": {},
   "outputs": [],
   "source": [
    "# Access the value associated with a particular index\n",
    "index = 'd'\n",
    "value = trie_dict.get(index)"
   ]
  },
  {
   "cell_type": "code",
   "execution_count": 63,
   "id": "a0d720be",
   "metadata": {},
   "outputs": [
    {
     "data": {
      "text/plain": [
       "<__main__.TrieNode at 0x10c5dcb50>"
      ]
     },
     "execution_count": 63,
     "metadata": {},
     "output_type": "execute_result"
    }
   ],
   "source": [
    "trie_dict.root.children['d']."
   ]
  },
  {
   "cell_type": "code",
   "execution_count": 52,
   "id": "ca3f304d",
   "metadata": {},
   "outputs": [
    {
     "name": "stdout",
     "output_type": "stream",
     "text": [
      "{'d': <__main__.TrieNode object at 0x10839ef10>}\n"
     ]
    }
   ],
   "source": [
    "# Print the Trie dictionary\n",
    "print(trie_dict.root.children)"
   ]
  },
  {
   "cell_type": "code",
   "execution_count": 64,
   "id": "0563617a",
   "metadata": {},
   "outputs": [
    {
     "data": {
      "text/plain": [
       "[]"
      ]
     },
     "execution_count": 64,
     "metadata": {},
     "output_type": "execute_result"
    }
   ],
   "source": [
    "trie_dict.root.value"
   ]
  },
  {
   "cell_type": "code",
   "execution_count": 72,
   "id": "313e79fe",
   "metadata": {},
   "outputs": [
    {
     "data": {
      "text/plain": [
       "'d/q/c'"
      ]
     },
     "execution_count": 72,
     "metadata": {},
     "output_type": "execute_result"
    }
   ],
   "source": [
    "\"/\".join(\"dqc\")"
   ]
  },
  {
   "cell_type": "code",
   "execution_count": null,
   "id": "385d737b",
   "metadata": {},
   "outputs": [],
   "source": []
  },
  {
   "cell_type": "code",
   "execution_count": 85,
   "id": "2d175f2d",
   "metadata": {},
   "outputs": [],
   "source": [
    "#export the Trie DAG to folder\n",
    "def export_trie(trie_node,gdf,geohash,root_path):\n",
    "    #export geojson at current hash level\n",
    "    path = root_path+\"/\"+\"/\".join(geohash)\n",
    "    json_path = root_path+\"/\"+\"/\".join(geohash[:-1])+f\"/{geohash}.geojson\"\n",
    "    print(geohash,path,json_path)\n",
    "    if trie_node.value:\n",
    "        gdf.loc[trie_node.value].to_file(json_path,driver=\"GeoJSON\")\n",
    "    #make path and export to sub folder\n",
    "    import os \n",
    "    if trie_node.children and not os.path.exists(path):\n",
    "        os.makedirs(path)\n",
    "    for ch in trie_node.children:\n",
    "        child_hash = geohash+ch\n",
    "        export_trie(trie_node.children[ch],gdf,child_hash,root_path)"
   ]
  },
  {
   "cell_type": "code",
   "execution_count": 86,
   "id": "ddb091f6",
   "metadata": {},
   "outputs": [
    {
     "name": "stdout",
     "output_type": "stream",
     "text": [
      " ./export/ ./export//.geojson\n",
      "d ./export/d ./export//d.geojson\n",
      "dq ./export/d/q ./export/d/dq.geojson\n",
      "dqf ./export/d/q/f ./export/d/q/dqf.geojson\n",
      "dqc ./export/d/q/c ./export/d/q/dqc.geojson\n"
     ]
    }
   ],
   "source": [
    "export_trie(trie_dict.root,maryland_gdf,\"\",\"./export\")"
   ]
  },
  {
   "cell_type": "code",
   "execution_count": null,
   "id": "c9dfddf6",
   "metadata": {},
   "outputs": [],
   "source": []
  },
  {
   "cell_type": "code",
   "execution_count": null,
   "id": "14131619",
   "metadata": {},
   "outputs": [],
   "source": [
    "#visualizing "
   ]
  },
  {
   "cell_type": "code",
   "execution_count": 67,
   "id": "03fadcc1-997e-4be0-b857-ffd1912f4dc7",
   "metadata": {
    "tags": []
   },
   "outputs": [],
   "source": [
    "def grid_level(head):\n",
    "    base32 = '0123456789bcdefghjkmnpqrstuvwxyz'\n",
    "    collections = []\n",
    "    for nxt in base32:\n",
    "        geohash = head+nxt\n",
    "        shape = decode_helper(geohash)\n",
    "        shape.crs = \"EPSG:4326\"\n",
    "        collections.append(shape)\n",
    "    grid = pd.concat(collections)\n",
    "    grid.to_file(f'./geohash_grid/grid_level_{head}.geojson', driver='GeoJSON')"
   ]
  },
  {
   "cell_type": "code",
   "execution_count": 73,
   "id": "58ac0b41-06ef-48e0-b763-a36d9b375e4e",
   "metadata": {
    "tags": []
   },
   "outputs": [],
   "source": [
    "grid_level('dqcmc0')"
   ]
  },
  {
   "cell_type": "code",
   "execution_count": 53,
   "id": "5dbaeb8e",
   "metadata": {
    "tags": []
   },
   "outputs": [
    {
     "name": "stdout",
     "output_type": "stream",
     "text": [
      "POLYGON ((-78.75 39.375, -67.5 39.375, -67.5 45, -78.75 45, -78.75 39.375))\n"
     ]
    }
   ],
   "source": [
    "# Example usage\n",
    "geohash = 'dr'\n",
    "shape = decode_helper(geohash)\n",
    "shape.crs = \"EPSG:4326\"\n",
    "# Save GeoDataFrame as GeoJSON\n",
    "shape.to_file(f'./geohash_grid/hash_{geohash}.geojson', driver='GeoJSON')"
   ]
  },
  {
   "cell_type": "code",
   "execution_count": 45,
   "id": "b92300fd",
   "metadata": {
    "tags": []
   },
   "outputs": [
    {
     "data": {
      "text/html": [
       "<div>\n",
       "<style scoped>\n",
       "    .dataframe tbody tr th:only-of-type {\n",
       "        vertical-align: middle;\n",
       "    }\n",
       "\n",
       "    .dataframe tbody tr th {\n",
       "        vertical-align: top;\n",
       "    }\n",
       "\n",
       "    .dataframe thead th {\n",
       "        text-align: right;\n",
       "    }\n",
       "</style>\n",
       "<table border=\"1\" class=\"dataframe\">\n",
       "  <thead>\n",
       "    <tr style=\"text-align: right;\">\n",
       "      <th></th>\n",
       "      <th>geometry</th>\n",
       "    </tr>\n",
       "  </thead>\n",
       "  <tbody>\n",
       "    <tr>\n",
       "      <th>0</th>\n",
       "      <td>POLYGON ((-90.00000 0.00000, -45.00000 0.00000...</td>\n",
       "    </tr>\n",
       "  </tbody>\n",
       "</table>\n",
       "</div>"
      ],
      "text/plain": [
       "                                            geometry\n",
       "0  POLYGON ((-90.00000 0.00000, -45.00000 0.00000..."
      ]
     },
     "execution_count": 45,
     "metadata": {},
     "output_type": "execute_result"
    }
   ],
   "source": [
    "shape"
   ]
  },
  {
   "cell_type": "code",
   "execution_count": 124,
   "id": "d0544295",
   "metadata": {},
   "outputs": [
    {
     "name": "stdout",
     "output_type": "stream",
     "text": [
      "|-- d.geojson\n",
      "+-- d\n",
      "|   |-- dq.geojson\n",
      "|   +-- q\n",
      "|   |   |-- dqf.geojson\n",
      "|   |   |-- dqc.geojson\n"
     ]
    }
   ],
   "source": [
    "import os\n",
    "\n",
    "\n",
    "def display_folder_structure(folder_path, indent=\"\"):\n",
    "    \"\"\"Recursively displays the folder structure\"\"\"\n",
    "    for item in os.listdir(folder_path):\n",
    "        item_path = os.path.join(folder_path, item)\n",
    "        if os.path.isdir(item_path):\n",
    "            print(indent + \"+-- \" + item)\n",
    "            display_folder_structure(item_path, indent + \"|   \")\n",
    "        else:\n",
    "            if item != \".DS_Store\":\n",
    "                print(indent + \"|-- \" + item)\n",
    "\n",
    "\n",
    "# Example usage\n",
    "folder_path = \"./export/\"\n",
    "display_folder_structure(folder_path)\n"
   ]
  },
  {
   "cell_type": "code",
   "execution_count": null,
   "id": "fb97e939",
   "metadata": {},
   "outputs": [],
   "source": []
  }
 ],
 "metadata": {
  "kernelspec": {
   "display_name": "Python 3 (ipykernel)",
   "language": "python",
   "name": "python3"
  },
  "language_info": {
   "codemirror_mode": {
    "name": "ipython",
    "version": 3
   },
   "file_extension": ".py",
   "mimetype": "text/x-python",
   "name": "python",
   "nbconvert_exporter": "python",
   "pygments_lexer": "ipython3",
   "version": "3.11.4"
  }
 },
 "nbformat": 4,
 "nbformat_minor": 5
}
